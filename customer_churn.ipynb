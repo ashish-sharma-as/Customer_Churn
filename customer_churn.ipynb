{
 "cells": [
  {
   "cell_type": "markdown",
   "metadata": {},
   "source": [
    "# Customer Churn"
   ]
  },
  {
   "cell_type": "markdown",
   "metadata": {},
   "source": [
    "---"
   ]
  },
  {
   "cell_type": "markdown",
   "metadata": {},
   "source": [
    "## Contents\n",
    "\n",
    "- <a href=\"#import\">Import Libraries</a><br>\n",
    "- <a href=\"#data\">Import Data</a><br>\n",
    "- <a href=\"#3\">Creating 3-way Holdout data sets</a><br>\n",
    "- <a href=\"#eda\">Exploratory Data Analysis</a><br>\n",
    "- <a href=\"#prep\">Data Preprocessing</a><br>\n",
    "- <a href=\"#sel\">Feature Selection</a><br>\n",
    "- <a href=\"#engg\">Feature Engineering</a><br>"
   ]
  },
  {
   "cell_type": "markdown",
   "metadata": {},
   "source": [
    "---"
   ]
  },
  {
   "cell_type": "markdown",
   "metadata": {},
   "source": [
    "<p><a name=\"import\"></a></p>\n",
    " \n",
    "### Import Modules"
   ]
  },
  {
   "cell_type": "code",
   "execution_count": 1,
   "metadata": {},
   "outputs": [],
   "source": [
    "# Standard Modules\n",
    "import numpy as np\n",
    "import pandas as pd\n",
    "import matplotlib.pyplot as plt\n",
    "%matplotlib inline\n",
    "import seaborn as sns\n",
    "\n",
    "# Model Selection\n",
    "from sklearn.model_selection import train_test_split\n",
    "\n",
    "# Preprocessing\n",
    "from sklearn.preprocessing import StandardScaler\n",
    "from sklearn.preprocessing import OrdinalEncoder\n",
    "from sklearn.preprocessing import LabelEncoder\n",
    "from sklearn.preprocessing import OneHotEncoder\n",
    "from sklearn.impute import SimpleImputer\n",
    "\n",
    "# Compose\n",
    "from sklearn.compose import make_column_transformer\n",
    "\n",
    "# Classes for inheritance\n",
    "from sklearn.base import BaseEstimator, TransformerMixin\n",
    "\n",
    "# Pipeline\n",
    "from sklearn.pipeline import make_pipeline"
   ]
  },
  {
   "cell_type": "markdown",
   "metadata": {},
   "source": [
    "---"
   ]
  },
  {
   "cell_type": "markdown",
   "metadata": {},
   "source": [
    "<p><a name=\"data\"></a></p>\n",
    "\n",
    "### Import Data"
   ]
  },
  {
   "cell_type": "code",
   "execution_count": 2,
   "metadata": {},
   "outputs": [],
   "source": [
    "# Read csv\n",
    "\n",
    "churn_data = pd.read_csv('./data/churn_data.csv')"
   ]
  },
  {
   "cell_type": "code",
   "execution_count": 3,
   "metadata": {},
   "outputs": [
    {
     "data": {
      "text/plain": [
       "(3333, 21)"
      ]
     },
     "execution_count": 3,
     "metadata": {},
     "output_type": "execute_result"
    }
   ],
   "source": [
    "churn_data.shape"
   ]
  },
  {
   "cell_type": "markdown",
   "metadata": {},
   "source": [
    "---"
   ]
  },
  {
   "cell_type": "markdown",
   "metadata": {},
   "source": [
    "<p><a name=\"3\"></a></p>\n",
    "\n",
    "### Creating a 3-way holdout dataset\n",
    "- Training & Validation data \n",
    "- Test (Unseen) data"
   ]
  },
  {
   "cell_type": "code",
   "execution_count": 4,
   "metadata": {},
   "outputs": [
    {
     "name": "stdout",
     "output_type": "stream",
     "text": [
      "Shape of X and y:\n",
      "\n",
      "(3333, 20) (3333,)\n"
     ]
    }
   ],
   "source": [
    "X_tmp = churn_data.drop(['Churn'], axis=1)\n",
    "y_tmp = churn_data['Churn']\n",
    "\n",
    "print('Shape of X and y:\\n')\n",
    "print(X_tmp.shape, y_tmp.shape)"
   ]
  },
  {
   "cell_type": "code",
   "execution_count": 5,
   "metadata": {},
   "outputs": [],
   "source": [
    "# Split data into training - validation and test (unseen) data\n",
    "\n",
    "X_train_val, X_unseen, y_train_val, y_unseen = train_test_split(X_tmp, y_tmp, test_size=0.2)"
   ]
  },
  {
   "cell_type": "code",
   "execution_count": 6,
   "metadata": {},
   "outputs": [
    {
     "name": "stdout",
     "output_type": "stream",
     "text": [
      "Shape of training & validation data:\n",
      "(2666, 20) (2666,)\n",
      "\n",
      " ----------------------------------------\n",
      "\n",
      "Shape of test(unseen) data:\n",
      "(667, 20) (667,)\n"
     ]
    }
   ],
   "source": [
    "print('Shape of training & validation data:')\n",
    "print(X_train_val.shape, y_train_val.shape)\n",
    "print('\\n','-'*40)\n",
    "print('\\nShape of test(unseen) data:')\n",
    "print(X_unseen.shape, y_unseen.shape)"
   ]
  },
  {
   "cell_type": "code",
   "execution_count": 7,
   "metadata": {},
   "outputs": [],
   "source": [
    "# Making a working copy of the training and validation data\n",
    "\n",
    "df = X_train_val.copy()"
   ]
  },
  {
   "cell_type": "code",
   "execution_count": 8,
   "metadata": {},
   "outputs": [],
   "source": [
    "# Adding churned feature back into dataset to understand properties\n",
    "# of churned v/s non-churned customers\n",
    "\n",
    "df['Churn'] = y_train_val"
   ]
  },
  {
   "cell_type": "markdown",
   "metadata": {},
   "source": [
    "**df = X_train_val + y_train_val**"
   ]
  },
  {
   "cell_type": "code",
   "execution_count": 9,
   "metadata": {},
   "outputs": [
    {
     "data": {
      "text/html": [
       "<div>\n",
       "<style scoped>\n",
       "    .dataframe tbody tr th:only-of-type {\n",
       "        vertical-align: middle;\n",
       "    }\n",
       "\n",
       "    .dataframe tbody tr th {\n",
       "        vertical-align: top;\n",
       "    }\n",
       "\n",
       "    .dataframe thead th {\n",
       "        text-align: right;\n",
       "    }\n",
       "</style>\n",
       "<table border=\"1\" class=\"dataframe\">\n",
       "  <thead>\n",
       "    <tr style=\"text-align: right;\">\n",
       "      <th></th>\n",
       "      <th>Account_Length</th>\n",
       "      <th>Vmail_Message</th>\n",
       "      <th>Day_Mins</th>\n",
       "      <th>Eve_Mins</th>\n",
       "      <th>Night_Mins</th>\n",
       "      <th>Intl_Mins</th>\n",
       "      <th>CustServ_Calls</th>\n",
       "      <th>Intl_Plan</th>\n",
       "      <th>Vmail_Plan</th>\n",
       "      <th>Day_Calls</th>\n",
       "      <th>...</th>\n",
       "      <th>Eve_Calls</th>\n",
       "      <th>Eve_Charge</th>\n",
       "      <th>Night_Calls</th>\n",
       "      <th>Night_Charge</th>\n",
       "      <th>Intl_Calls</th>\n",
       "      <th>Intl_Charge</th>\n",
       "      <th>State</th>\n",
       "      <th>Area_Code</th>\n",
       "      <th>Phone</th>\n",
       "      <th>Churn</th>\n",
       "    </tr>\n",
       "  </thead>\n",
       "  <tbody>\n",
       "    <tr>\n",
       "      <td>2076</td>\n",
       "      <td>95</td>\n",
       "      <td>0</td>\n",
       "      <td>228.9</td>\n",
       "      <td>255.7</td>\n",
       "      <td>208.0</td>\n",
       "      <td>10.1</td>\n",
       "      <td>4</td>\n",
       "      <td>yes</td>\n",
       "      <td>no</td>\n",
       "      <td>134</td>\n",
       "      <td>...</td>\n",
       "      <td>71</td>\n",
       "      <td>21.73</td>\n",
       "      <td>120</td>\n",
       "      <td>9.36</td>\n",
       "      <td>2</td>\n",
       "      <td>2.73</td>\n",
       "      <td>NH</td>\n",
       "      <td>408</td>\n",
       "      <td>400-8538</td>\n",
       "      <td>yes</td>\n",
       "    </tr>\n",
       "    <tr>\n",
       "      <td>1712</td>\n",
       "      <td>102</td>\n",
       "      <td>0</td>\n",
       "      <td>174.5</td>\n",
       "      <td>213.7</td>\n",
       "      <td>164.7</td>\n",
       "      <td>10.3</td>\n",
       "      <td>4</td>\n",
       "      <td>no</td>\n",
       "      <td>no</td>\n",
       "      <td>73</td>\n",
       "      <td>...</td>\n",
       "      <td>114</td>\n",
       "      <td>18.16</td>\n",
       "      <td>116</td>\n",
       "      <td>7.41</td>\n",
       "      <td>5</td>\n",
       "      <td>2.78</td>\n",
       "      <td>SC</td>\n",
       "      <td>408</td>\n",
       "      <td>368-3078</td>\n",
       "      <td>no</td>\n",
       "    </tr>\n",
       "    <tr>\n",
       "      <td>559</td>\n",
       "      <td>125</td>\n",
       "      <td>0</td>\n",
       "      <td>131.8</td>\n",
       "      <td>136.7</td>\n",
       "      <td>308.2</td>\n",
       "      <td>7.7</td>\n",
       "      <td>2</td>\n",
       "      <td>no</td>\n",
       "      <td>no</td>\n",
       "      <td>97</td>\n",
       "      <td>...</td>\n",
       "      <td>100</td>\n",
       "      <td>11.62</td>\n",
       "      <td>119</td>\n",
       "      <td>13.87</td>\n",
       "      <td>6</td>\n",
       "      <td>2.08</td>\n",
       "      <td>CO</td>\n",
       "      <td>415</td>\n",
       "      <td>378-9029</td>\n",
       "      <td>no</td>\n",
       "    </tr>\n",
       "    <tr>\n",
       "      <td>1461</td>\n",
       "      <td>145</td>\n",
       "      <td>0</td>\n",
       "      <td>39.5</td>\n",
       "      <td>264.3</td>\n",
       "      <td>185.8</td>\n",
       "      <td>10.0</td>\n",
       "      <td>0</td>\n",
       "      <td>no</td>\n",
       "      <td>no</td>\n",
       "      <td>78</td>\n",
       "      <td>...</td>\n",
       "      <td>106</td>\n",
       "      <td>22.47</td>\n",
       "      <td>90</td>\n",
       "      <td>8.36</td>\n",
       "      <td>6</td>\n",
       "      <td>2.70</td>\n",
       "      <td>SC</td>\n",
       "      <td>408</td>\n",
       "      <td>377-6635</td>\n",
       "      <td>no</td>\n",
       "    </tr>\n",
       "    <tr>\n",
       "      <td>702</td>\n",
       "      <td>99</td>\n",
       "      <td>0</td>\n",
       "      <td>191.2</td>\n",
       "      <td>163.9</td>\n",
       "      <td>243.6</td>\n",
       "      <td>14.1</td>\n",
       "      <td>1</td>\n",
       "      <td>no</td>\n",
       "      <td>no</td>\n",
       "      <td>110</td>\n",
       "      <td>...</td>\n",
       "      <td>102</td>\n",
       "      <td>13.93</td>\n",
       "      <td>114</td>\n",
       "      <td>10.96</td>\n",
       "      <td>3</td>\n",
       "      <td>3.81</td>\n",
       "      <td>KS</td>\n",
       "      <td>415</td>\n",
       "      <td>407-1896</td>\n",
       "      <td>no</td>\n",
       "    </tr>\n",
       "  </tbody>\n",
       "</table>\n",
       "<p>5 rows × 21 columns</p>\n",
       "</div>"
      ],
      "text/plain": [
       "      Account_Length  Vmail_Message  Day_Mins  Eve_Mins  Night_Mins  \\\n",
       "2076              95              0     228.9     255.7       208.0   \n",
       "1712             102              0     174.5     213.7       164.7   \n",
       "559              125              0     131.8     136.7       308.2   \n",
       "1461             145              0      39.5     264.3       185.8   \n",
       "702               99              0     191.2     163.9       243.6   \n",
       "\n",
       "      Intl_Mins  CustServ_Calls Intl_Plan Vmail_Plan  Day_Calls  ...  \\\n",
       "2076       10.1               4       yes         no        134  ...   \n",
       "1712       10.3               4        no         no         73  ...   \n",
       "559         7.7               2        no         no         97  ...   \n",
       "1461       10.0               0        no         no         78  ...   \n",
       "702        14.1               1        no         no        110  ...   \n",
       "\n",
       "      Eve_Calls  Eve_Charge  Night_Calls  Night_Charge  Intl_Calls  \\\n",
       "2076         71       21.73          120          9.36           2   \n",
       "1712        114       18.16          116          7.41           5   \n",
       "559         100       11.62          119         13.87           6   \n",
       "1461        106       22.47           90          8.36           6   \n",
       "702         102       13.93          114         10.96           3   \n",
       "\n",
       "      Intl_Charge  State Area_Code     Phone Churn  \n",
       "2076         2.73     NH       408  400-8538   yes  \n",
       "1712         2.78     SC       408  368-3078    no  \n",
       "559          2.08     CO       415  378-9029    no  \n",
       "1461         2.70     SC       408  377-6635    no  \n",
       "702          3.81     KS       415  407-1896    no  \n",
       "\n",
       "[5 rows x 21 columns]"
      ]
     },
     "execution_count": 9,
     "metadata": {},
     "output_type": "execute_result"
    }
   ],
   "source": [
    "df.head()"
   ]
  },
  {
   "cell_type": "markdown",
   "metadata": {},
   "source": [
    "---"
   ]
  },
  {
   "cell_type": "markdown",
   "metadata": {},
   "source": [
    "<p><a name=\"eda\"></a></p>\n",
    "\n",
    "### Exploratory Analysis"
   ]
  },
  {
   "cell_type": "code",
   "execution_count": 10,
   "metadata": {},
   "outputs": [
    {
     "name": "stdout",
     "output_type": "stream",
     "text": [
      "<class 'pandas.core.frame.DataFrame'>\n",
      "Int64Index: 2666 entries, 2076 to 2828\n",
      "Data columns (total 21 columns):\n",
      "Account_Length    2666 non-null int64\n",
      "Vmail_Message     2666 non-null int64\n",
      "Day_Mins          2666 non-null float64\n",
      "Eve_Mins          2666 non-null float64\n",
      "Night_Mins        2666 non-null float64\n",
      "Intl_Mins         2666 non-null float64\n",
      "CustServ_Calls    2666 non-null int64\n",
      "Intl_Plan         2666 non-null object\n",
      "Vmail_Plan        2666 non-null object\n",
      "Day_Calls         2666 non-null int64\n",
      "Day_Charge        2666 non-null float64\n",
      "Eve_Calls         2666 non-null int64\n",
      "Eve_Charge        2666 non-null float64\n",
      "Night_Calls       2666 non-null int64\n",
      "Night_Charge      2666 non-null float64\n",
      "Intl_Calls        2666 non-null int64\n",
      "Intl_Charge       2666 non-null float64\n",
      "State             2666 non-null object\n",
      "Area_Code         2666 non-null int64\n",
      "Phone             2666 non-null object\n",
      "Churn             2666 non-null object\n",
      "dtypes: float64(8), int64(8), object(5)\n",
      "memory usage: 458.2+ KB\n"
     ]
    }
   ],
   "source": [
    "df.info()"
   ]
  },
  {
   "cell_type": "code",
   "execution_count": 11,
   "metadata": {},
   "outputs": [],
   "source": [
    "sns.set()"
   ]
  },
  {
   "cell_type": "code",
   "execution_count": 12,
   "metadata": {},
   "outputs": [
    {
     "data": {
      "image/png": "[encoded data removed]",
      "text/plain": [
       "<Figure size 432x288 with 1 Axes>"
      ]
     },
     "metadata": {},
     "output_type": "display_data"
    }
   ],
   "source": [
    "# Customer Churn as a % \n",
    "\n",
    "df['Churn'].value_counts().plot(kind='pie'\n",
    "                                ,colors=['lightgrey','red']\n",
    "                                ,wedgeprops={'edgecolor': 'black'}\n",
    "                                ,explode=[0,0.1]\n",
    "                                ,autopct='%1.1f%%'\n",
    "                                ,startangle=90)\n",
    "plt.title('Customer Churn % (Training-Validation Set)', size=15, fontweight='bold')\n",
    "plt.show()"
   ]
  },
  {
   "cell_type": "code",
   "execution_count": 13,
   "metadata": {},
   "outputs": [
    {
     "data": {
      "image/png": "[encoded data removed]",
      "text/plain": [
       "<Figure size 432x288 with 1 Axes>"
      ]
     },
     "metadata": {},
     "output_type": "display_data"
    }
   ],
   "source": [
    "# Number of churned customers\n",
    "\n",
    "color = ['green', 'red']\n",
    "\n",
    "df['Churn'].value_counts().plot(kind='bar', alpha=0.6, color=color, edgecolor='black')\n",
    "\n",
    "plt.title('Churned v/s non-churned customer count \\n (Training & Validation Set)', size=15, fontweight='bold')\n",
    "plt.ylabel('Customer Count')\n",
    "plt.xlabel('Churn Indicator')\n",
    "\n",
    "plt.margins(0.3)\n",
    "\n",
    "for x,y in enumerate(df['Churn'].value_counts()):\n",
    "\n",
    "    label = \"{:.0f}\".format(y)\n",
    "\n",
    "    plt.annotate(label\n",
    "                 ,(x,y)\n",
    "                 ,textcoords=\"offset points\"\n",
    "                 ,xytext=(0,10)\n",
    "                 ,ha='center'\n",
    "                ) \n",
    "plt.show()"
   ]
  },
  {
   "cell_type": "code",
   "execution_count": 14,
   "metadata": {},
   "outputs": [
    {
     "data": {
      "text/html": [
       "<div>\n",
       "<style scoped>\n",
       "    .dataframe tbody tr th:only-of-type {\n",
       "        vertical-align: middle;\n",
       "    }\n",
       "\n",
       "    .dataframe tbody tr th {\n",
       "        vertical-align: top;\n",
       "    }\n",
       "\n",
       "    .dataframe thead th {\n",
       "        text-align: right;\n",
       "    }\n",
       "</style>\n",
       "<table border=\"1\" class=\"dataframe\">\n",
       "  <thead>\n",
       "    <tr style=\"text-align: right;\">\n",
       "      <th></th>\n",
       "      <th>CustServ_Calls</th>\n",
       "      <th>Vmail_Message</th>\n",
       "    </tr>\n",
       "    <tr>\n",
       "      <th>Churn</th>\n",
       "      <th></th>\n",
       "      <th></th>\n",
       "    </tr>\n",
       "  </thead>\n",
       "  <tbody>\n",
       "    <tr>\n",
       "      <td>no</td>\n",
       "      <td>1.443227</td>\n",
       "      <td>8.524331</td>\n",
       "    </tr>\n",
       "    <tr>\n",
       "      <td>yes</td>\n",
       "      <td>2.236364</td>\n",
       "      <td>4.735065</td>\n",
       "    </tr>\n",
       "  </tbody>\n",
       "</table>\n",
       "</div>"
      ],
      "text/plain": [
       "       CustServ_Calls  Vmail_Message\n",
       "Churn                               \n",
       "no           1.443227       8.524331\n",
       "yes          2.236364       4.735065"
      ]
     },
     "execution_count": 14,
     "metadata": {},
     "output_type": "execute_result"
    }
   ],
   "source": [
    "df.groupby('Churn')[['CustServ_Calls', 'Vmail_Message']].mean()"
   ]
  },
  {
   "cell_type": "code",
   "execution_count": 15,
   "metadata": {},
   "outputs": [
    {
     "data": {
      "text/plain": [
       "<matplotlib.axes._subplots.AxesSubplot at 0x7ffe376cf2d0>"
      ]
     },
     "execution_count": 15,
     "metadata": {},
     "output_type": "execute_result"
    },
    {
     "data": {
      "image/png": "[encoded data removed]",
      "text/plain": [
       "<Figure size 432x288 with 1 Axes>"
      ]
     },
     "metadata": {},
     "output_type": "display_data"
    }
   ],
   "source": [
    "# Analyzing churned v/s non-churned customer differences\n",
    "\n",
    "df.groupby('Churn')[['CustServ_Calls', 'Vmail_Message']].mean().plot(kind='bar')"
   ]
  },
  {
   "cell_type": "code",
   "execution_count": 16,
   "metadata": {},
   "outputs": [
    {
     "data": {
      "text/html": [
       "<div>\n",
       "<style scoped>\n",
       "    .dataframe tbody tr th:only-of-type {\n",
       "        vertical-align: middle;\n",
       "    }\n",
       "\n",
       "    .dataframe tbody tr th {\n",
       "        vertical-align: top;\n",
       "    }\n",
       "\n",
       "    .dataframe thead th {\n",
       "        text-align: right;\n",
       "    }\n",
       "</style>\n",
       "<table border=\"1\" class=\"dataframe\">\n",
       "  <thead>\n",
       "    <tr style=\"text-align: right;\">\n",
       "      <th></th>\n",
       "      <th>CustServ_Calls</th>\n",
       "      <th>Vmail_Message</th>\n",
       "    </tr>\n",
       "    <tr>\n",
       "      <th>Churn</th>\n",
       "      <th></th>\n",
       "      <th></th>\n",
       "    </tr>\n",
       "  </thead>\n",
       "  <tbody>\n",
       "    <tr>\n",
       "      <td>no</td>\n",
       "      <td>1.157526</td>\n",
       "      <td>13.929536</td>\n",
       "    </tr>\n",
       "    <tr>\n",
       "      <td>yes</td>\n",
       "      <td>1.825379</td>\n",
       "      <td>11.490596</td>\n",
       "    </tr>\n",
       "  </tbody>\n",
       "</table>\n",
       "</div>"
      ],
      "text/plain": [
       "       CustServ_Calls  Vmail_Message\n",
       "Churn                               \n",
       "no           1.157526      13.929536\n",
       "yes          1.825379      11.490596"
      ]
     },
     "execution_count": 16,
     "metadata": {},
     "output_type": "execute_result"
    }
   ],
   "source": [
    "df.groupby('Churn')[['CustServ_Calls', 'Vmail_Message']].std()"
   ]
  },
  {
   "cell_type": "code",
   "execution_count": 17,
   "metadata": {},
   "outputs": [],
   "source": [
    "# TO DO - make it mardown \n",
    "\n",
    "\n",
    "\n",
    "\n",
    "# Insights\n",
    "    # It can be seen above that Churners place more customer \n",
    "    # service calls than non-churners, and leave fewer voice\n",
    "    # mail messages."
   ]
  },
  {
   "cell_type": "code",
   "execution_count": 18,
   "metadata": {},
   "outputs": [
    {
     "data": {
      "text/plain": [
       "State  Churn\n",
       "AL     no       61\n",
       "       yes       6\n",
       "CA     no       20\n",
       "       yes       8\n",
       "CO     no       45\n",
       "       yes       9\n",
       "Name: Churn, dtype: int64"
      ]
     },
     "execution_count": 18,
     "metadata": {},
     "output_type": "execute_result"
    }
   ],
   "source": [
    "# Veiwing churners and non-churners by state\n",
    "\n",
    "df.groupby('State')['Churn'].value_counts()[['AL','CA','CO']]"
   ]
  },
  {
   "cell_type": "code",
   "execution_count": 19,
   "metadata": {},
   "outputs": [
    {
     "data": {
      "text/plain": [
       "<matplotlib.axes._subplots.AxesSubplot at 0x7ffe37948990>"
      ]
     },
     "execution_count": 19,
     "metadata": {},
     "output_type": "execute_result"
    },
    {
     "data": {
      "image/png": "[encoded data removed]",
      "text/plain": [
       "<Figure size 432x288 with 1 Axes>"
      ]
     },
     "metadata": {},
     "output_type": "display_data"
    }
   ],
   "source": [
    "# TO DO - multiple bar to see churn and non-churn across different states\n",
    "\n",
    "\n",
    "\n",
    "\n",
    "\n",
    "df.groupby('State')['Churn'].value_counts().plot(kind='bar')"
   ]
  },
  {
   "cell_type": "code",
   "execution_count": 20,
   "metadata": {},
   "outputs": [
    {
     "data": {
      "image/png": "[encoded data removed]",
      "text/plain": [
       "<Figure size 432x288 with 1 Axes>"
      ]
     },
     "metadata": {},
     "output_type": "display_data"
    }
   ],
   "source": [
    "# Distribution of \"Account_Length\" feature\n",
    "\n",
    "# plt.hist(df['Account_Length'], bins=25)\n",
    "sns.distplot(df['Account_Length'])\n",
    "plt.show()"
   ]
  },
  {
   "cell_type": "code",
   "execution_count": 21,
   "metadata": {},
   "outputs": [],
   "source": [
    "# Insights\n",
    "    # Illustrates the duration that a customer stays with the provider\n",
    "    # is normally distribution (as what to expect in the real world)"
   ]
  },
  {
   "cell_type": "code",
   "execution_count": 22,
   "metadata": {},
   "outputs": [
    {
     "data": {
      "image/png": "[encoded data removed]",
      "text/plain": [
       "<Figure size 432x288 with 1 Axes>"
      ]
     },
     "metadata": {},
     "output_type": "display_data"
    }
   ],
   "source": [
    "# Examining differences between churners and non-churners\n",
    "# w.r.t their account lengths\n",
    "\n",
    "sns.boxplot(x='Churn', \n",
    "            y='Account_Length', \n",
    "            data=df)\n",
    "\n",
    "plt.title('Differences in Account Lengths', size=13)\n",
    "plt.show()"
   ]
  },
  {
   "cell_type": "code",
   "execution_count": 23,
   "metadata": {},
   "outputs": [],
   "source": [
    "# There are no notable differences in account lengths for\n",
    "# churners v/s non-churners"
   ]
  },
  {
   "cell_type": "code",
   "execution_count": 24,
   "metadata": {},
   "outputs": [
    {
     "data": {
      "image/png": "[encoded data removed]",
      "text/plain": [
       "<Figure size 432x288 with 1 Axes>"
      ]
     },
     "metadata": {},
     "output_type": "display_data"
    }
   ],
   "source": [
    "# Checking if having an international plan matters\n",
    "\n",
    "sns.boxplot(x='Churn', \n",
    "            y='Account_Length', \n",
    "            data=df,\n",
    "            hue='Intl_Plan')\n",
    "\n",
    "plt.title('Differences in Account Lengths', size=13)\n",
    "plt.show()"
   ]
  },
  {
   "cell_type": "code",
   "execution_count": 25,
   "metadata": {},
   "outputs": [],
   "source": [
    "# Insights\n",
    "    # No noticeable difference amoung customers with or\n",
    "    # without an international plan"
   ]
  },
  {
   "cell_type": "code",
   "execution_count": 26,
   "metadata": {},
   "outputs": [
    {
     "data": {
      "image/png": "[encoded data removed]",
      "text/plain": [
       "<Figure size 1080x720 with 6 Axes>"
      ]
     },
     "metadata": {},
     "output_type": "display_data"
    }
   ],
   "source": [
    "# Checking distribution of select features\n",
    "\n",
    "df[['Account_Length', 'Day_Mins', 'Eve_Mins', 'Night_Mins', 'Intl_Mins']].hist(bins=25, figsize=(15,10))\n",
    "plt.show()"
   ]
  },
  {
   "cell_type": "code",
   "execution_count": 27,
   "metadata": {},
   "outputs": [
    {
     "data": {
      "image/png": "[encoded data removed]",
      "text/plain": [
       "<Figure size 432x288 with 1 Axes>"
      ]
     },
     "metadata": {},
     "output_type": "display_data"
    }
   ],
   "source": [
    "# Churn difference based on Customer Service Calls placed\n",
    "\n",
    "sns.boxplot(x = 'Churn',\n",
    "            y = 'CustServ_Calls',\n",
    "            data = df)\n",
    "\n",
    "plt.title('Churners v/s Non-Churners based on Customer Services Calls')\n",
    "plt.show()"
   ]
  },
  {
   "cell_type": "code",
   "execution_count": 28,
   "metadata": {},
   "outputs": [
    {
     "data": {
      "image/png": "[encoded data removed]",
      "text/plain": [
       "<Figure size 432x288 with 1 Axes>"
      ]
     },
     "metadata": {},
     "output_type": "display_data"
    },
    {
     "data": {
      "image/png": "[encoded data removed]",
      "text/plain": [
       "<Figure size 432x288 with 1 Axes>"
      ]
     },
     "metadata": {},
     "output_type": "display_data"
    }
   ],
   "source": [
    "features = ['Account_Length', 'CustServ_Calls'] \n",
    "\n",
    "for feature in features:\n",
    "    fig, axs = plt.subplots()\n",
    "    fig = sns.boxplot(x = 'Churn',\n",
    "                      y = feature,\n",
    "                      data = df)\n",
    "    plt.title('Churners v/s Non-Churners based on {}'.format(feature))\n",
    "\n",
    "plt.show()"
   ]
  },
  {
   "cell_type": "code",
   "execution_count": 29,
   "metadata": {},
   "outputs": [
    {
     "data": {
      "image/png": "[encoded data removed]",
      "text/plain": [
       "<Figure size 432x288 with 1 Axes>"
      ]
     },
     "metadata": {},
     "output_type": "display_data"
    }
   ],
   "source": [
    "# Churn difference based on Customer Service Calls placed\n",
    "# and being on an International Plan\n",
    "\n",
    "sns.boxplot(x = 'Churn',\n",
    "            y = 'CustServ_Calls',\n",
    "            data = df,\n",
    "            sym='', # removing outliers from plot\n",
    "            hue='Intl_Plan') \n",
    "\n",
    "plt.title('Churners v/s Non-Churners based on Customer Services Calls & Intl Plan')\n",
    "plt.show()"
   ]
  },
  {
   "cell_type": "code",
   "execution_count": 30,
   "metadata": {},
   "outputs": [],
   "source": [
    "# Insights:\n",
    "    # Customers who leave more customer service calls churn more\n",
    "    # unless they also have an international plan"
   ]
  },
  {
   "cell_type": "code",
   "execution_count": 31,
   "metadata": {},
   "outputs": [
    {
     "data": {
      "image/png": "[encoded data removed]",
      "text/plain": [
       "<Figure size 720x432 with 2 Axes>"
      ]
     },
     "metadata": {},
     "output_type": "display_data"
    }
   ],
   "source": [
    "plt.figure(figsize=(10,6))\n",
    "mask = np.zeros_like(df.corr())\n",
    "mask[np.triu_indices_from(mask)] = 1\n",
    "sns.heatmap(df.corr(), mask= mask, linewidth=0.7, cmap='RdYlGn') \n",
    "plt.show()"
   ]
  },
  {
   "cell_type": "code",
   "execution_count": 32,
   "metadata": {},
   "outputs": [],
   "source": [
    "# Since charges and mins are strongly correlated, we can either remove\n",
    "# one of them, or feature engineer them to create 4 new charges_min\n",
    "# and drop the charges and min columns subsequently."
   ]
  },
  {
   "cell_type": "markdown",
   "metadata": {},
   "source": [
    "---"
   ]
  },
  {
   "cell_type": "markdown",
   "metadata": {},
   "source": [
    "<p><a name=\"prep\"></a></p>\n",
    "\n",
    "## Data Preprocessing\n",
    "\n",
    "- Check missing values\n",
    "- Checking distribution of features\n",
    "- Encoding Categorical variables\n",
    "- Feature Scaling via Standardization\n",
    "- Feature Selection and Engineering"
   ]
  },
  {
   "cell_type": "markdown",
   "metadata": {},
   "source": [
    "### Missing Values"
   ]
  },
  {
   "cell_type": "code",
   "execution_count": 33,
   "metadata": {},
   "outputs": [
    {
     "data": {
      "text/plain": [
       "Series([], dtype: int64)"
      ]
     },
     "execution_count": 33,
     "metadata": {},
     "output_type": "execute_result"
    }
   ],
   "source": [
    "# Missing values check\n",
    "\n",
    "missing = df.isnull().sum()\n",
    "missing[missing > 0]"
   ]
  },
  {
   "cell_type": "code",
   "execution_count": 34,
   "metadata": {},
   "outputs": [
    {
     "data": {
      "text/plain": [
       "Account_Length      int64\n",
       "Vmail_Message       int64\n",
       "Day_Mins          float64\n",
       "Eve_Mins          float64\n",
       "Night_Mins        float64\n",
       "Intl_Mins         float64\n",
       "CustServ_Calls      int64\n",
       "Intl_Plan          object\n",
       "Vmail_Plan         object\n",
       "Day_Calls           int64\n",
       "Day_Charge        float64\n",
       "Eve_Calls           int64\n",
       "Eve_Charge        float64\n",
       "Night_Calls         int64\n",
       "Night_Charge      float64\n",
       "Intl_Calls          int64\n",
       "Intl_Charge       float64\n",
       "State              object\n",
       "Area_Code           int64\n",
       "Phone              object\n",
       "Churn              object\n",
       "dtype: object"
      ]
     },
     "execution_count": 34,
     "metadata": {},
     "output_type": "execute_result"
    }
   ],
   "source": [
    "# Examining data types \n",
    "\n",
    "df.dtypes"
   ]
  },
  {
   "cell_type": "code",
   "execution_count": 35,
   "metadata": {},
   "outputs": [],
   "source": [
    "# Forming list of columns that are numerical and categorical\n",
    "\n",
    "features_num = X_train_val.select_dtypes(include=['int64', 'float64']).columns\n",
    "features_cat = X_train_val.select_dtypes(include=['object']).columns"
   ]
  },
  {
   "cell_type": "code",
   "execution_count": 36,
   "metadata": {},
   "outputs": [
    {
     "name": "stdout",
     "output_type": "stream",
     "text": [
      "Index(['Account_Length', 'Vmail_Message', 'Day_Mins', 'Eve_Mins', 'Night_Mins',\n",
      "       'Intl_Mins', 'CustServ_Calls', 'Day_Calls', 'Day_Charge', 'Eve_Calls',\n",
      "       'Eve_Charge', 'Night_Calls', 'Night_Charge', 'Intl_Calls',\n",
      "       'Intl_Charge', 'Area_Code'],\n",
      "      dtype='object')\n",
      "--------------------------------------------------------------------------------\n",
      "Index(['Intl_Plan', 'Vmail_Plan', 'State', 'Phone'], dtype='object')\n"
     ]
    }
   ],
   "source": [
    "print(features_num)\n",
    "print('-'*80)\n",
    "print(features_cat)"
   ]
  },
  {
   "cell_type": "code",
   "execution_count": 37,
   "metadata": {
    "scrolled": false
   },
   "outputs": [
    {
     "data": {
      "text/html": [
       "<div>\n",
       "<style scoped>\n",
       "    .dataframe tbody tr th:only-of-type {\n",
       "        vertical-align: middle;\n",
       "    }\n",
       "\n",
       "    .dataframe tbody tr th {\n",
       "        vertical-align: top;\n",
       "    }\n",
       "\n",
       "    .dataframe thead th {\n",
       "        text-align: right;\n",
       "    }\n",
       "</style>\n",
       "<table border=\"1\" class=\"dataframe\">\n",
       "  <thead>\n",
       "    <tr style=\"text-align: right;\">\n",
       "      <th></th>\n",
       "      <th>Account_Length</th>\n",
       "      <th>Vmail_Message</th>\n",
       "      <th>Day_Mins</th>\n",
       "      <th>Eve_Mins</th>\n",
       "      <th>Night_Mins</th>\n",
       "      <th>Intl_Mins</th>\n",
       "      <th>CustServ_Calls</th>\n",
       "      <th>Day_Calls</th>\n",
       "      <th>Day_Charge</th>\n",
       "      <th>Eve_Calls</th>\n",
       "      <th>Eve_Charge</th>\n",
       "      <th>Night_Calls</th>\n",
       "      <th>Night_Charge</th>\n",
       "      <th>Intl_Calls</th>\n",
       "      <th>Intl_Charge</th>\n",
       "      <th>Area_Code</th>\n",
       "    </tr>\n",
       "  </thead>\n",
       "  <tbody>\n",
       "    <tr>\n",
       "      <td>2076</td>\n",
       "      <td>95</td>\n",
       "      <td>0</td>\n",
       "      <td>228.9</td>\n",
       "      <td>255.7</td>\n",
       "      <td>208.0</td>\n",
       "      <td>10.1</td>\n",
       "      <td>4</td>\n",
       "      <td>134</td>\n",
       "      <td>38.91</td>\n",
       "      <td>71</td>\n",
       "      <td>21.73</td>\n",
       "      <td>120</td>\n",
       "      <td>9.36</td>\n",
       "      <td>2</td>\n",
       "      <td>2.73</td>\n",
       "      <td>408</td>\n",
       "    </tr>\n",
       "    <tr>\n",
       "      <td>1712</td>\n",
       "      <td>102</td>\n",
       "      <td>0</td>\n",
       "      <td>174.5</td>\n",
       "      <td>213.7</td>\n",
       "      <td>164.7</td>\n",
       "      <td>10.3</td>\n",
       "      <td>4</td>\n",
       "      <td>73</td>\n",
       "      <td>29.67</td>\n",
       "      <td>114</td>\n",
       "      <td>18.16</td>\n",
       "      <td>116</td>\n",
       "      <td>7.41</td>\n",
       "      <td>5</td>\n",
       "      <td>2.78</td>\n",
       "      <td>408</td>\n",
       "    </tr>\n",
       "    <tr>\n",
       "      <td>559</td>\n",
       "      <td>125</td>\n",
       "      <td>0</td>\n",
       "      <td>131.8</td>\n",
       "      <td>136.7</td>\n",
       "      <td>308.2</td>\n",
       "      <td>7.7</td>\n",
       "      <td>2</td>\n",
       "      <td>97</td>\n",
       "      <td>22.41</td>\n",
       "      <td>100</td>\n",
       "      <td>11.62</td>\n",
       "      <td>119</td>\n",
       "      <td>13.87</td>\n",
       "      <td>6</td>\n",
       "      <td>2.08</td>\n",
       "      <td>415</td>\n",
       "    </tr>\n",
       "    <tr>\n",
       "      <td>1461</td>\n",
       "      <td>145</td>\n",
       "      <td>0</td>\n",
       "      <td>39.5</td>\n",
       "      <td>264.3</td>\n",
       "      <td>185.8</td>\n",
       "      <td>10.0</td>\n",
       "      <td>0</td>\n",
       "      <td>78</td>\n",
       "      <td>6.72</td>\n",
       "      <td>106</td>\n",
       "      <td>22.47</td>\n",
       "      <td>90</td>\n",
       "      <td>8.36</td>\n",
       "      <td>6</td>\n",
       "      <td>2.70</td>\n",
       "      <td>408</td>\n",
       "    </tr>\n",
       "    <tr>\n",
       "      <td>702</td>\n",
       "      <td>99</td>\n",
       "      <td>0</td>\n",
       "      <td>191.2</td>\n",
       "      <td>163.9</td>\n",
       "      <td>243.6</td>\n",
       "      <td>14.1</td>\n",
       "      <td>1</td>\n",
       "      <td>110</td>\n",
       "      <td>32.50</td>\n",
       "      <td>102</td>\n",
       "      <td>13.93</td>\n",
       "      <td>114</td>\n",
       "      <td>10.96</td>\n",
       "      <td>3</td>\n",
       "      <td>3.81</td>\n",
       "      <td>415</td>\n",
       "    </tr>\n",
       "    <tr>\n",
       "      <td>...</td>\n",
       "      <td>...</td>\n",
       "      <td>...</td>\n",
       "      <td>...</td>\n",
       "      <td>...</td>\n",
       "      <td>...</td>\n",
       "      <td>...</td>\n",
       "      <td>...</td>\n",
       "      <td>...</td>\n",
       "      <td>...</td>\n",
       "      <td>...</td>\n",
       "      <td>...</td>\n",
       "      <td>...</td>\n",
       "      <td>...</td>\n",
       "      <td>...</td>\n",
       "      <td>...</td>\n",
       "      <td>...</td>\n",
       "    </tr>\n",
       "    <tr>\n",
       "      <td>1278</td>\n",
       "      <td>163</td>\n",
       "      <td>0</td>\n",
       "      <td>247.7</td>\n",
       "      <td>269.5</td>\n",
       "      <td>167.3</td>\n",
       "      <td>9.6</td>\n",
       "      <td>0</td>\n",
       "      <td>77</td>\n",
       "      <td>42.11</td>\n",
       "      <td>108</td>\n",
       "      <td>22.91</td>\n",
       "      <td>82</td>\n",
       "      <td>7.53</td>\n",
       "      <td>7</td>\n",
       "      <td>2.59</td>\n",
       "      <td>408</td>\n",
       "    </tr>\n",
       "    <tr>\n",
       "      <td>753</td>\n",
       "      <td>90</td>\n",
       "      <td>0</td>\n",
       "      <td>109.6</td>\n",
       "      <td>137.6</td>\n",
       "      <td>159.7</td>\n",
       "      <td>11.0</td>\n",
       "      <td>2</td>\n",
       "      <td>88</td>\n",
       "      <td>18.63</td>\n",
       "      <td>108</td>\n",
       "      <td>11.70</td>\n",
       "      <td>121</td>\n",
       "      <td>7.19</td>\n",
       "      <td>5</td>\n",
       "      <td>2.97</td>\n",
       "      <td>415</td>\n",
       "    </tr>\n",
       "    <tr>\n",
       "      <td>2402</td>\n",
       "      <td>77</td>\n",
       "      <td>33</td>\n",
       "      <td>143.0</td>\n",
       "      <td>212.2</td>\n",
       "      <td>104.9</td>\n",
       "      <td>15.3</td>\n",
       "      <td>5</td>\n",
       "      <td>101</td>\n",
       "      <td>24.31</td>\n",
       "      <td>102</td>\n",
       "      <td>18.04</td>\n",
       "      <td>120</td>\n",
       "      <td>4.72</td>\n",
       "      <td>4</td>\n",
       "      <td>4.13</td>\n",
       "      <td>415</td>\n",
       "    </tr>\n",
       "    <tr>\n",
       "      <td>2573</td>\n",
       "      <td>124</td>\n",
       "      <td>0</td>\n",
       "      <td>312.0</td>\n",
       "      <td>180.0</td>\n",
       "      <td>168.6</td>\n",
       "      <td>12.8</td>\n",
       "      <td>1</td>\n",
       "      <td>112</td>\n",
       "      <td>53.04</td>\n",
       "      <td>109</td>\n",
       "      <td>15.30</td>\n",
       "      <td>94</td>\n",
       "      <td>7.59</td>\n",
       "      <td>4</td>\n",
       "      <td>3.46</td>\n",
       "      <td>415</td>\n",
       "    </tr>\n",
       "    <tr>\n",
       "      <td>2828</td>\n",
       "      <td>123</td>\n",
       "      <td>0</td>\n",
       "      <td>125.5</td>\n",
       "      <td>128.9</td>\n",
       "      <td>251.9</td>\n",
       "      <td>6.3</td>\n",
       "      <td>4</td>\n",
       "      <td>106</td>\n",
       "      <td>21.34</td>\n",
       "      <td>96</td>\n",
       "      <td>10.96</td>\n",
       "      <td>129</td>\n",
       "      <td>11.34</td>\n",
       "      <td>6</td>\n",
       "      <td>1.70</td>\n",
       "      <td>415</td>\n",
       "    </tr>\n",
       "  </tbody>\n",
       "</table>\n",
       "<p>2666 rows × 16 columns</p>\n",
       "</div>"
      ],
      "text/plain": [
       "      Account_Length  Vmail_Message  Day_Mins  Eve_Mins  Night_Mins  \\\n",
       "2076              95              0     228.9     255.7       208.0   \n",
       "1712             102              0     174.5     213.7       164.7   \n",
       "559              125              0     131.8     136.7       308.2   \n",
       "1461             145              0      39.5     264.3       185.8   \n",
       "702               99              0     191.2     163.9       243.6   \n",
       "...              ...            ...       ...       ...         ...   \n",
       "1278             163              0     247.7     269.5       167.3   \n",
       "753               90              0     109.6     137.6       159.7   \n",
       "2402              77             33     143.0     212.2       104.9   \n",
       "2573             124              0     312.0     180.0       168.6   \n",
       "2828             123              0     125.5     128.9       251.9   \n",
       "\n",
       "      Intl_Mins  CustServ_Calls  Day_Calls  Day_Charge  Eve_Calls  Eve_Charge  \\\n",
       "2076       10.1               4        134       38.91         71       21.73   \n",
       "1712       10.3               4         73       29.67        114       18.16   \n",
       "559         7.7               2         97       22.41        100       11.62   \n",
       "1461       10.0               0         78        6.72        106       22.47   \n",
       "702        14.1               1        110       32.50        102       13.93   \n",
       "...         ...             ...        ...         ...        ...         ...   \n",
       "1278        9.6               0         77       42.11        108       22.91   \n",
       "753        11.0               2         88       18.63        108       11.70   \n",
       "2402       15.3               5        101       24.31        102       18.04   \n",
       "2573       12.8               1        112       53.04        109       15.30   \n",
       "2828        6.3               4        106       21.34         96       10.96   \n",
       "\n",
       "      Night_Calls  Night_Charge  Intl_Calls  Intl_Charge  Area_Code  \n",
       "2076          120          9.36           2         2.73        408  \n",
       "1712          116          7.41           5         2.78        408  \n",
       "559           119         13.87           6         2.08        415  \n",
       "1461           90          8.36           6         2.70        408  \n",
       "702           114         10.96           3         3.81        415  \n",
       "...           ...           ...         ...          ...        ...  \n",
       "1278           82          7.53           7         2.59        408  \n",
       "753           121          7.19           5         2.97        415  \n",
       "2402          120          4.72           4         4.13        415  \n",
       "2573           94          7.59           4         3.46        415  \n",
       "2828          129         11.34           6         1.70        415  \n",
       "\n",
       "[2666 rows x 16 columns]"
      ]
     },
     "execution_count": 37,
     "metadata": {},
     "output_type": "execute_result"
    }
   ],
   "source": [
    "X_train_val[features_num]"
   ]
  },
  {
   "cell_type": "code",
   "execution_count": 38,
   "metadata": {},
   "outputs": [
    {
     "data": {
      "text/html": [
       "<div>\n",
       "<style scoped>\n",
       "    .dataframe tbody tr th:only-of-type {\n",
       "        vertical-align: middle;\n",
       "    }\n",
       "\n",
       "    .dataframe tbody tr th {\n",
       "        vertical-align: top;\n",
       "    }\n",
       "\n",
       "    .dataframe thead th {\n",
       "        text-align: right;\n",
       "    }\n",
       "</style>\n",
       "<table border=\"1\" class=\"dataframe\">\n",
       "  <thead>\n",
       "    <tr style=\"text-align: right;\">\n",
       "      <th></th>\n",
       "      <th>Intl_Plan</th>\n",
       "      <th>Vmail_Plan</th>\n",
       "      <th>State</th>\n",
       "      <th>Phone</th>\n",
       "    </tr>\n",
       "  </thead>\n",
       "  <tbody>\n",
       "    <tr>\n",
       "      <td>2076</td>\n",
       "      <td>yes</td>\n",
       "      <td>no</td>\n",
       "      <td>NH</td>\n",
       "      <td>400-8538</td>\n",
       "    </tr>\n",
       "    <tr>\n",
       "      <td>1712</td>\n",
       "      <td>no</td>\n",
       "      <td>no</td>\n",
       "      <td>SC</td>\n",
       "      <td>368-3078</td>\n",
       "    </tr>\n",
       "    <tr>\n",
       "      <td>559</td>\n",
       "      <td>no</td>\n",
       "      <td>no</td>\n",
       "      <td>CO</td>\n",
       "      <td>378-9029</td>\n",
       "    </tr>\n",
       "    <tr>\n",
       "      <td>1461</td>\n",
       "      <td>no</td>\n",
       "      <td>no</td>\n",
       "      <td>SC</td>\n",
       "      <td>377-6635</td>\n",
       "    </tr>\n",
       "    <tr>\n",
       "      <td>702</td>\n",
       "      <td>no</td>\n",
       "      <td>no</td>\n",
       "      <td>KS</td>\n",
       "      <td>407-1896</td>\n",
       "    </tr>\n",
       "    <tr>\n",
       "      <td>...</td>\n",
       "      <td>...</td>\n",
       "      <td>...</td>\n",
       "      <td>...</td>\n",
       "      <td>...</td>\n",
       "    </tr>\n",
       "    <tr>\n",
       "      <td>1278</td>\n",
       "      <td>no</td>\n",
       "      <td>no</td>\n",
       "      <td>NY</td>\n",
       "      <td>413-2241</td>\n",
       "    </tr>\n",
       "    <tr>\n",
       "      <td>753</td>\n",
       "      <td>no</td>\n",
       "      <td>no</td>\n",
       "      <td>TX</td>\n",
       "      <td>399-4413</td>\n",
       "    </tr>\n",
       "    <tr>\n",
       "      <td>2402</td>\n",
       "      <td>no</td>\n",
       "      <td>yes</td>\n",
       "      <td>NY</td>\n",
       "      <td>388-9285</td>\n",
       "    </tr>\n",
       "    <tr>\n",
       "      <td>2573</td>\n",
       "      <td>no</td>\n",
       "      <td>no</td>\n",
       "      <td>WV</td>\n",
       "      <td>344-1970</td>\n",
       "    </tr>\n",
       "    <tr>\n",
       "      <td>2828</td>\n",
       "      <td>yes</td>\n",
       "      <td>no</td>\n",
       "      <td>MS</td>\n",
       "      <td>388-8948</td>\n",
       "    </tr>\n",
       "  </tbody>\n",
       "</table>\n",
       "<p>2666 rows × 4 columns</p>\n",
       "</div>"
      ],
      "text/plain": [
       "     Intl_Plan Vmail_Plan State     Phone\n",
       "2076       yes         no    NH  400-8538\n",
       "1712        no         no    SC  368-3078\n",
       "559         no         no    CO  378-9029\n",
       "1461        no         no    SC  377-6635\n",
       "702         no         no    KS  407-1896\n",
       "...        ...        ...   ...       ...\n",
       "1278        no         no    NY  413-2241\n",
       "753         no         no    TX  399-4413\n",
       "2402        no        yes    NY  388-9285\n",
       "2573        no         no    WV  344-1970\n",
       "2828       yes         no    MS  388-8948\n",
       "\n",
       "[2666 rows x 4 columns]"
      ]
     },
     "execution_count": 38,
     "metadata": {},
     "output_type": "execute_result"
    }
   ],
   "source": [
    "X_train_val[features_cat]"
   ]
  },
  {
   "cell_type": "code",
   "execution_count": 39,
   "metadata": {},
   "outputs": [
    {
     "data": {
      "image/png": "[encoded data removed]",
      "text/plain": [
       "<Figure size 432x288 with 1 Axes>"
      ]
     },
     "metadata": {},
     "output_type": "display_data"
    }
   ],
   "source": [
    "# Examining feature: 'Vmail_Message'\n",
    "\n",
    "plt.hist(X_train_val['Vmail_Message'])\n",
    "\n",
    "plt.title('Distribution of \\'Vmail_Message\\'')\n",
    "plt.show()"
   ]
  },
  {
   "cell_type": "markdown",
   "metadata": {},
   "source": [
    "**Insights**\n",
    "- Since this feature has 0 as the most frequent value for most observations, I'll make this a candidate for a binary column (to be done in feature engineering)"
   ]
  },
  {
   "cell_type": "code",
   "execution_count": 40,
   "metadata": {},
   "outputs": [
    {
     "data": {
      "image/png": "[encoded data removed]",
      "text/plain": [
       "<Figure size 432x288 with 1 Axes>"
      ]
     },
     "metadata": {},
     "output_type": "display_data"
    }
   ],
   "source": [
    "plt.hist(X_train_val['CustServ_Calls'])\n",
    "\n",
    "plt.title('Distribution of \\'CustServ_Calls\\'')\n",
    "plt.show()"
   ]
  },
  {
   "cell_type": "markdown",
   "metadata": {},
   "source": [
    "### Encoding Target"
   ]
  },
  {
   "cell_type": "code",
   "execution_count": 41,
   "metadata": {},
   "outputs": [],
   "source": [
    "# Instantiate Label Encoder for \"Churn\"\n",
    "\n",
    "le = LabelEncoder()"
   ]
  },
  {
   "cell_type": "code",
   "execution_count": 42,
   "metadata": {},
   "outputs": [],
   "source": [
    "y_train_val = le.fit_transform(y_train_val)"
   ]
  },
  {
   "cell_type": "code",
   "execution_count": 43,
   "metadata": {},
   "outputs": [
    {
     "data": {
      "text/plain": [
       "array([1, 0, 0, ..., 1, 1, 1])"
      ]
     },
     "execution_count": 43,
     "metadata": {},
     "output_type": "execute_result"
    }
   ],
   "source": [
    "y_train_val"
   ]
  },
  {
   "cell_type": "markdown",
   "metadata": {},
   "source": [
    "### Train-Test Split"
   ]
  },
  {
   "cell_type": "code",
   "execution_count": 44,
   "metadata": {},
   "outputs": [
    {
     "name": "stdout",
     "output_type": "stream",
     "text": [
      "(1999, 20) (667, 20) (1999,) (667,)\n"
     ]
    }
   ],
   "source": [
    "# Split data into training and test sets\n",
    "\n",
    "X_train, X_test, y_train, y_test = train_test_split(X_train_val, y_train_val, test_size=0.25)\n",
    "\n",
    "print(X_train.shape, X_test.shape, y_train.shape, y_test.shape)"
   ]
  },
  {
   "cell_type": "markdown",
   "metadata": {},
   "source": [
    "---"
   ]
  },
  {
   "cell_type": "markdown",
   "metadata": {},
   "source": [
    "<p><a name=\"sel\"></a></p>\n",
    "\n",
    "### Feature Selection"
   ]
  },
  {
   "cell_type": "code",
   "execution_count": 45,
   "metadata": {},
   "outputs": [
    {
     "data": {
      "image/png": "[encoded data removed]",
      "text/plain": [
       "<Figure size 432x288 with 2 Axes>"
      ]
     },
     "metadata": {},
     "output_type": "display_data"
    }
   ],
   "source": [
    "mask = np.zeros_like(X_train.corr())\n",
    "mask[np.triu_indices_from(mask)] = 1\n",
    "sns.heatmap(X_train.corr(), mask= mask, linewidth=0.7, cmap='RdYlGn') \n",
    "plt.show()"
   ]
  },
  {
   "cell_type": "markdown",
   "metadata": {},
   "source": [
    "**Insights:**\n",
    "- Following features are highly correlated\n",
    "    - Day_Mins & Day_Charge\n",
    "    - Eve_Mins & Eve_Charge\n",
    "    - Night_Mins & Night_Charge\n",
    "    - Intl_Mins & Intl_Charge\n",
    "- Either set are candidates for being dropped or their combination for feature engineering"
   ]
  },
  {
   "cell_type": "markdown",
   "metadata": {},
   "source": [
    "---"
   ]
  },
  {
   "cell_type": "markdown",
   "metadata": {},
   "source": [
    "<p><a name=\"engg\"></a></p>\n",
    "\n",
    "### Feature Engineering"
   ]
  },
  {
   "cell_type": "code",
   "execution_count": 46,
   "metadata": {},
   "outputs": [],
   "source": [
    "class CategoricalTransformer(BaseEstimator, TransformerMixin):\n",
    "    \n",
    "    '''\n",
    "    Descr:\n",
    "    This class contains methods to undertake categorical transformations\n",
    "    on features and its output will be used as CustomTransfomers \n",
    "    in the pipeline functionality to prevent data leakage and also\n",
    "    automate categorical transformations on unseen data.\n",
    "    \n",
    "    Tasks performed by transform() method:\n",
    "    1. Drops columns not required / provide no predictive information the model\n",
    "\n",
    "    I/P:\n",
    "    Features dataframe\n",
    "\n",
    "    O/P:\n",
    "    numpy array of transformed numerical features\n",
    "    '''    \n",
    "    \n",
    "    # Class constructor\n",
    "    def __init__(self):\n",
    "        pass\n",
    "    \n",
    "    # fit method - does nothing and returns self\n",
    "    def fit(self, X, y=None):\n",
    "        return self\n",
    "    \n",
    "    # Binarize method\n",
    "    def binarize(self, obj):\n",
    "        if obj == 0:\n",
    "            return 0\n",
    "        else:\n",
    "            return 1\n",
    "    \n",
    "    # transform method for custom transformations\n",
    "    def transform(self, X, y=None):\n",
    "        \n",
    "        # Doing this to avoid Chained Indexing error:\n",
    "        # \"SettingWithCopyWarning: A value is trying to be set on a copy of a slice from a DataFrame\"\n",
    "        X1 = X.copy()\n",
    "        \n",
    "        # Dropping columns that:\n",
    "            # were transformed above\n",
    "            # provide no predictive information\n",
    "        X1.drop(['Phone'], axis=1, inplace=True)\n",
    "\n",
    "        \n",
    "        \n",
    "        # Return numpy array of transformed numerical features\n",
    "        return X1 "
   ]
  },
  {
   "cell_type": "code",
   "execution_count": 47,
   "metadata": {},
   "outputs": [],
   "source": [
    "class NumericalTransformer(BaseEstimator, TransformerMixin):\n",
    "    \n",
    "    '''\n",
    "    Descr:\n",
    "    This class contains methods to undertake numerical transformations\n",
    "    on features and its output will be used as CustomTransfomers \n",
    "    in the pipeline functionality to prevent data leakage and also\n",
    "    automate numerical transformations on unseen data.\n",
    "    For it to qualify as a transformer, it will contain the .fit()\n",
    "    and .transform() methods and we'll be inheriting from 2 classes\n",
    "    that faciliate this class being a transformer.\n",
    "    \n",
    "    Tasks performed by transform() method:\n",
    "    1. Creates 4 (Day, Eve, Night, Intl) \"ChargesPerMin\" columns and drops original\n",
    "    2. Create binary column of features that are highly skewed to 1 value\n",
    "    3. Drops columns not required / provide no predictive information the model\n",
    "\n",
    "    I/P:\n",
    "    Features dataframe\n",
    "\n",
    "    O/P:\n",
    "    numpy array of transformed numerical features\n",
    "    '''    \n",
    "    \n",
    "    # Class constructor\n",
    "    def __init__(self):\n",
    "        pass\n",
    "    \n",
    "    # fit method - does nothing and returns self\n",
    "    def fit(self, X, y=None):\n",
    "        return self\n",
    "    \n",
    "    # Binarize method\n",
    "    def binarize(self, obj):\n",
    "        if obj == 0:\n",
    "            return 0\n",
    "        else:\n",
    "            return 1\n",
    "    \n",
    "    # transform method for custom transformations\n",
    "    def transform(self, X, y=None):\n",
    "        \n",
    "        # Doing this to avoid Chained Indexing error:\n",
    "        # \"SettingWithCopyWarning: A value is trying to be set on a copy of a slice from a DataFrame\"\n",
    "        X1 = X.copy()\n",
    "        \n",
    "        # Create 4 new columns for Charge/min for Day, Eve, Night, Intl\n",
    "        X1.loc[:,'ChargePerMin_Day'] = (X['Day_Charge'] / X['Day_Mins'])\n",
    "        X1.loc[:,'ChargePerMin_Eve'] = (X['Eve_Charge'] / X['Eve_Mins'])\n",
    "        X1.loc[:,'ChargePerMin_Night'] = (X['Night_Charge'] / X['Night_Mins'])\n",
    "        X1.loc[:,'ChargePerMin_Intl'] = (X['Intl_Charge'] / X['Intl_Mins'])\n",
    "        \n",
    "        # Binarize columns\n",
    "        X1.loc[:,'Vmail_Message_b'] = X1['Vmail_Message'].apply(self.binarize)\n",
    "\n",
    "        \n",
    "        # Dropping columns that:\n",
    "            # were transformed above\n",
    "            # provide no predictive information\n",
    "        X1.drop(['Day_Charge','Day_Mins','Eve_Charge','Eve_Mins',\\\n",
    "                 'Night_Charge','Night_Mins','Intl_Charge','Intl_Mins',\\\n",
    "                 'Vmail_Message','Area_Code'], axis=1, inplace=True)\n",
    "\n",
    "        \n",
    "        # Return numpy array of transformed numerical features\n",
    "        return X1    #X1.values"
   ]
  },
  {
   "cell_type": "code",
   "execution_count": 48,
   "metadata": {},
   "outputs": [],
   "source": [
    "# Instantiate Transformers: \n",
    "\n",
    "# Categorical \n",
    "cat_transformer = CategoricalTransformer()\n",
    "imp_mode_c = SimpleImputer(strategy='most_frequent')\n",
    "oe = OrdinalEncoder()\n",
    "ohe = OneHotEncoder()\n",
    "\n",
    "# Numerical\n",
    "imp_median_n = SimpleImputer(strategy='median')\n",
    "num_transformer = NumericalTransformer()\n",
    "ss = StandardScaler()"
   ]
  },
  {
   "cell_type": "code",
   "execution_count": 49,
   "metadata": {},
   "outputs": [],
   "source": [
    "# Tagging features for transformations\n",
    "\n",
    "# Categorical \n",
    "features_for_cat_trans = features_cat\n",
    "features_for_oe = ['Intl_Plan', 'Vmail_Plan']\n",
    "features_for_ohe = ['State']\n",
    "features_for_cat_imp = features_cat\n",
    "\n",
    "# Numerical\n",
    "features_for_num_trans = features_num\n",
    "features_for_num_imp = features_num\n",
    "features_for_ss = features_num"
   ]
  },
  {
   "cell_type": "code",
   "execution_count": 50,
   "metadata": {},
   "outputs": [],
   "source": [
    "# Categorical pipelines\n",
    "# Pipeline for imputation & ordinal encoding\n",
    "pipe_cat = make_pipeline(cat_transformer, imp_mode_c, oe, ohe)\n",
    "\n",
    "# # Pipeline for imputation & onehot encoding\n",
    "# pipe_imp_ohe = make_pipeline(imp_mode_c, ohe)\n",
    "\n",
    "\n",
    "# Numerical pipelines\n",
    "# pipe_num = make_pipeline(imp_median_n, num_transformer,ss) # ADD checking uncomment #@@@@@@@@@@@@@@@@@@@@@@@\n",
    "# pipe_num = make_pipeline(num_transformer) "
   ]
  },
  {
   "cell_type": "code",
   "execution_count": 51,
   "metadata": {},
   "outputs": [],
   "source": [
    "# Utilizing Column Transformer for transformations\n",
    "\n",
    "# ct = make_column_transformer(\n",
    "#     (oe, ['Intl_Plan', 'Vmail_Plan']),\n",
    "#     (ohe, ['State']),\n",
    "#     (ss, ['Day_Calls', 'Eve_Calls', 'Night_Calls', 'Intl_Calls']) # this should be for all numerical columns. Check.\n",
    "#     ,remainder='passthrough')"
   ]
  },
  {
   "cell_type": "code",
   "execution_count": 52,
   "metadata": {},
   "outputs": [],
   "source": [
    "# Utilizing Column Transformer for transformations\n",
    "\n",
    "ct = make_column_transformer(\n",
    "    (pipe_cat, features_cat)\n",
    "#     (pipe_imp_oe, features_for_oe)\n",
    "#     ,(pipe_imp_ohe, features_for_ohe)\n",
    "#     ,(pipe_imp_numtr_ss, features_num)  # do without ss first to see output and then standardize if looks correct! \n",
    "    ,remainder='drop')  #@@@@@@@@@@@@@@@@@@@@@@@ change to pass through"
   ]
  },
  {
   "cell_type": "code",
   "execution_count": 53,
   "metadata": {
    "scrolled": false
   },
   "outputs": [
    {
     "name": "stderr",
     "output_type": "stream",
     "text": [
      "/opt/anaconda3/lib/python3.7/site-packages/sklearn/preprocessing/_encoders.py:415: FutureWarning: The handling of integer data will change in version 0.22. Currently, the categories are determined based on the range [0, max(values)], while in the future they will be determined based on the unique values.\n",
      "If you want the future behaviour and silence this warning, you can specify \"categories='auto'\".\n",
      "In case you used a LabelEncoder before this OneHotEncoder to convert the categories to integers, then you can now use the OneHotEncoder directly.\n",
      "  warnings.warn(msg, FutureWarning)\n"
     ]
    },
    {
     "data": {
      "text/plain": [
       "(1999, 55)"
      ]
     },
     "execution_count": 53,
     "metadata": {},
     "output_type": "execute_result"
    }
   ],
   "source": [
    "ct.fit_transform(X_train).shape"
   ]
  },
  {
   "cell_type": "code",
   "execution_count": null,
   "metadata": {},
   "outputs": [],
   "source": []
  }
 ],
 "metadata": {
  "kernelspec": {
   "display_name": "Python 3",
   "language": "python",
   "name": "python3"
  },
  "language_info": {
   "codemirror_mode": {
    "name": "ipython",
    "version": 3
   },
   "file_extension": ".py",
   "mimetype": "text/x-python",
   "name": "python",
   "nbconvert_exporter": "python",
   "pygments_lexer": "ipython3",
   "version": "3.7.4"
  }
 },
 "nbformat": 4,
 "nbformat_minor": 2
}
