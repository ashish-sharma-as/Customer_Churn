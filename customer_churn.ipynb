{
 "cells": [
  {
   "cell_type": "markdown",
   "metadata": {},
   "source": [
    "# Customer Churn"
   ]
  },
  {
   "cell_type": "markdown",
   "metadata": {},
   "source": [
    "---"
   ]
  },
  {
   "cell_type": "markdown",
   "metadata": {},
   "source": [
    "## Contents\n",
    "\n",
    "- <a href=\"#import\">Import Libraries</a><br>\n",
    "- <a href=\"#data\">Import Data</a><br>\n",
    "- <a href=\"#3\">Creating 3-way Holdout data sets</a><br>\n",
    "- <a href=\"#eda\">Exploratory Data Analysis</a><br>\n",
    "- <a href=\"#prep\">Data Preprocessing</a><br>\n",
    "- <a href=\"#sel\">Feature Selection</a><br>\n",
    "- <a href=\"#engg\">Feature Engineering</a><br>\n",
    "- <a href=\"#hyp\">Hyperparameter Tuning</a><br>"
   ]
  },
  {
   "cell_type": "markdown",
   "metadata": {},
   "source": [
    "---"
   ]
  },
  {
   "cell_type": "markdown",
   "metadata": {},
   "source": [
    "<p><a name=\"import\"></a></p>\n",
    " \n",
    "## Import Modules"
   ]
  },
  {
   "cell_type": "code",
   "execution_count": 87,
   "metadata": {},
   "outputs": [],
   "source": [
    "# Standard Modules\n",
    "import numpy as np\n",
    "import pandas as pd\n",
    "import matplotlib.pyplot as plt\n",
    "%matplotlib inline\n",
    "import seaborn as sns\n",
    "\n",
    "# Model Selection\n",
    "from sklearn.model_selection import train_test_split\n",
    "from sklearn.model_selection import GridSearchCV\n",
    "\n",
    "# Preprocessing\n",
    "from sklearn.preprocessing import StandardScaler\n",
    "from sklearn.preprocessing import Normalizer\n",
    "from sklearn.preprocessing import OrdinalEncoder\n",
    "from sklearn.preprocessing import LabelEncoder\n",
    "from sklearn.preprocessing import OneHotEncoder\n",
    "from sklearn.impute import SimpleImputer\n",
    "\n",
    "# Compose\n",
    "from sklearn.compose import make_column_transformer\n",
    "\n",
    "# Classes for inheritance\n",
    "from sklearn.base import BaseEstimator, TransformerMixin\n",
    "\n",
    "# Pipeline\n",
    "from sklearn.pipeline import make_pipeline\n",
    "\n",
    "# ML Models\n",
    "from sklearn.linear_model import LogisticRegression\n",
    "from sklearn.ensemble import RandomForestClassifier\n",
    "\n",
    "# Metrics\n",
    "from sklearn.metrics import confusion_matrix\n",
    "from sklearn.metrics import accuracy_score\n",
    "from sklearn.metrics import precision_score\n",
    "from sklearn.metrics import recall_score\n",
    "from sklearn.metrics import f1_score\n",
    "from sklearn.metrics import classification_report\n",
    "from sklearn.metrics import roc_curve\n",
    "from sklearn.metrics import roc_auc_score\n",
    "from sklearn.metrics import precision_recall_curve\n",
    "\n",
    "# Feature Selection\n",
    "from sklearn.feature_selection import SelectKBest\n",
    "from sklearn.feature_selection import chi2\n",
    "from sklearn.feature_selection import RFE\n",
    "\n",
    "# Statistics\n",
    "from scipy.stats import chi2_contingency\n",
    "\n",
    "# Imbalance\n",
    "from imblearn.over_sampling import SMOTE\n",
    "from imblearn.pipeline import make_pipeline as imb_make_pipeline"
   ]
  },
  {
   "cell_type": "code",
   "execution_count": 88,
   "metadata": {},
   "outputs": [
    {
     "name": "stdout",
     "output_type": "stream",
     "text": [
      "\n",
      "System:\n",
      "    python: 3.8.5 (default, Sep  4 2020, 02:22:02)  [Clang 10.0.0 ]\n",
      "executable: /Users/ashishsharma/opt/anaconda3/bin/python\n",
      "   machine: macOS-10.16-x86_64-i386-64bit\n",
      "\n",
      "Python dependencies:\n",
      "          pip: 20.2.4\n",
      "   setuptools: 50.3.1.post20201107\n",
      "      sklearn: 0.24.1\n",
      "        numpy: 1.20.2\n",
      "        scipy: 1.5.2\n",
      "       Cython: 0.29.21\n",
      "       pandas: 1.2.4\n",
      "   matplotlib: 3.4.1\n",
      "       joblib: 0.17.0\n",
      "threadpoolctl: 2.1.0\n",
      "\n",
      "Built with OpenMP: True\n"
     ]
    }
   ],
   "source": [
    "import sklearn\n",
    "sklearn.show_versions()"
   ]
  },
  {
   "cell_type": "markdown",
   "metadata": {},
   "source": [
    "---"
   ]
  },
  {
   "cell_type": "markdown",
   "metadata": {},
   "source": [
    "<p><a name=\"data\"></a></p>\n",
    "\n",
    "## Import Data"
   ]
  },
  {
   "cell_type": "code",
   "execution_count": 89,
   "metadata": {},
   "outputs": [],
   "source": [
    "# Read csv\n",
    "\n",
    "churn_data = pd.read_csv('./data/churn_data.csv')"
   ]
  },
  {
   "cell_type": "code",
   "execution_count": 90,
   "metadata": {},
   "outputs": [
    {
     "data": {
      "text/plain": [
       "(3333, 21)"
      ]
     },
     "execution_count": 90,
     "metadata": {},
     "output_type": "execute_result"
    }
   ],
   "source": [
    "churn_data.shape"
   ]
  },
  {
   "cell_type": "markdown",
   "metadata": {},
   "source": [
    "---"
   ]
  },
  {
   "cell_type": "markdown",
   "metadata": {},
   "source": [
    "<p><a name=\"3\"></a></p>\n",
    "\n",
    "## Creating a 3-way holdout dataset\n",
    "- Training & Validation data \n",
    "- Test (Unseen) data"
   ]
  },
  {
   "cell_type": "code",
   "execution_count": 91,
   "metadata": {},
   "outputs": [
    {
     "name": "stdout",
     "output_type": "stream",
     "text": [
      "Shape of X and y:\n",
      "\n",
      "(3333, 20) (3333,)\n"
     ]
    }
   ],
   "source": [
    "X_tmp = churn_data.drop(['Churn'], axis=1)\n",
    "y_tmp = churn_data['Churn']\n",
    "\n",
    "print('Shape of X and y:\\n')\n",
    "print(X_tmp.shape, y_tmp.shape)"
   ]
  },
  {
   "cell_type": "code",
   "execution_count": 92,
   "metadata": {},
   "outputs": [],
   "source": [
    "# Split data into training - validation and test (unseen) data\n",
    "\n",
    "X_train_val, X_unseen, y_train_val, y_unseen = train_test_split(X_tmp, y_tmp, test_size=0.2)"
   ]
  },
  {
   "cell_type": "code",
   "execution_count": 93,
   "metadata": {},
   "outputs": [
    {
     "name": "stdout",
     "output_type": "stream",
     "text": [
      "Shape of training & validation data:\n",
      "(2666, 20) (2666,)\n",
      "\n",
      " ----------------------------------------\n",
      "\n",
      "Shape of test(unseen) data:\n",
      "(667, 20) (667,)\n"
     ]
    }
   ],
   "source": [
    "print('Shape of training & validation data:')\n",
    "print(X_train_val.shape, y_train_val.shape)\n",
    "print('\\n','-'*40)\n",
    "print('\\nShape of test(unseen) data:')\n",
    "print(X_unseen.shape, y_unseen.shape)"
   ]
  },
  {
   "cell_type": "code",
   "execution_count": 94,
   "metadata": {},
   "outputs": [],
   "source": [
    "# Making a working copy of the training and validation data\n",
    "\n",
    "df = X_train_val.copy()"
   ]
  },
  {
   "cell_type": "code",
   "execution_count": 95,
   "metadata": {},
   "outputs": [],
   "source": [
    "# Adding churned feature back into dataset to understand properties\n",
    "# of churned v/s non-churned customers\n",
    "\n",
    "df['Churn'] = y_train_val"
   ]
  },
  {
   "cell_type": "markdown",
   "metadata": {},
   "source": [
    "**df = X_train_val + y_train_val**"
   ]
  },
  {
   "cell_type": "code",
   "execution_count": 96,
   "metadata": {},
   "outputs": [
    {
     "data": {
      "text/html": [
       "<div>\n",
       "<style scoped>\n",
       "    .dataframe tbody tr th:only-of-type {\n",
       "        vertical-align: middle;\n",
       "    }\n",
       "\n",
       "    .dataframe tbody tr th {\n",
       "        vertical-align: top;\n",
       "    }\n",
       "\n",
       "    .dataframe thead th {\n",
       "        text-align: right;\n",
       "    }\n",
       "</style>\n",
       "<table border=\"1\" class=\"dataframe\">\n",
       "  <thead>\n",
       "    <tr style=\"text-align: right;\">\n",
       "      <th></th>\n",
       "      <th>Account_Length</th>\n",
       "      <th>Vmail_Message</th>\n",
       "      <th>Day_Mins</th>\n",
       "      <th>Eve_Mins</th>\n",
       "      <th>Night_Mins</th>\n",
       "      <th>Intl_Mins</th>\n",
       "      <th>CustServ_Calls</th>\n",
       "      <th>Intl_Plan</th>\n",
       "      <th>Vmail_Plan</th>\n",
       "      <th>Day_Calls</th>\n",
       "      <th>...</th>\n",
       "      <th>Eve_Calls</th>\n",
       "      <th>Eve_Charge</th>\n",
       "      <th>Night_Calls</th>\n",
       "      <th>Night_Charge</th>\n",
       "      <th>Intl_Calls</th>\n",
       "      <th>Intl_Charge</th>\n",
       "      <th>State</th>\n",
       "      <th>Area_Code</th>\n",
       "      <th>Phone</th>\n",
       "      <th>Churn</th>\n",
       "    </tr>\n",
       "  </thead>\n",
       "  <tbody>\n",
       "    <tr>\n",
       "      <th>3184</th>\n",
       "      <td>72</td>\n",
       "      <td>0</td>\n",
       "      <td>196.5</td>\n",
       "      <td>158.6</td>\n",
       "      <td>269.3</td>\n",
       "      <td>6.8</td>\n",
       "      <td>0</td>\n",
       "      <td>no</td>\n",
       "      <td>no</td>\n",
       "      <td>88</td>\n",
       "      <td>...</td>\n",
       "      <td>129</td>\n",
       "      <td>13.48</td>\n",
       "      <td>118</td>\n",
       "      <td>12.12</td>\n",
       "      <td>3</td>\n",
       "      <td>1.84</td>\n",
       "      <td>NC</td>\n",
       "      <td>415</td>\n",
       "      <td>352-5663</td>\n",
       "      <td>no</td>\n",
       "    </tr>\n",
       "    <tr>\n",
       "      <th>2650</th>\n",
       "      <td>104</td>\n",
       "      <td>0</td>\n",
       "      <td>138.7</td>\n",
       "      <td>215.4</td>\n",
       "      <td>164.3</td>\n",
       "      <td>4.9</td>\n",
       "      <td>2</td>\n",
       "      <td>no</td>\n",
       "      <td>no</td>\n",
       "      <td>100</td>\n",
       "      <td>...</td>\n",
       "      <td>58</td>\n",
       "      <td>18.31</td>\n",
       "      <td>98</td>\n",
       "      <td>7.39</td>\n",
       "      <td>4</td>\n",
       "      <td>1.32</td>\n",
       "      <td>WY</td>\n",
       "      <td>415</td>\n",
       "      <td>365-6022</td>\n",
       "      <td>no</td>\n",
       "    </tr>\n",
       "    <tr>\n",
       "      <th>918</th>\n",
       "      <td>52</td>\n",
       "      <td>0</td>\n",
       "      <td>215.9</td>\n",
       "      <td>217.0</td>\n",
       "      <td>342.8</td>\n",
       "      <td>5.2</td>\n",
       "      <td>1</td>\n",
       "      <td>no</td>\n",
       "      <td>no</td>\n",
       "      <td>67</td>\n",
       "      <td>...</td>\n",
       "      <td>108</td>\n",
       "      <td>18.45</td>\n",
       "      <td>130</td>\n",
       "      <td>15.43</td>\n",
       "      <td>2</td>\n",
       "      <td>1.40</td>\n",
       "      <td>PA</td>\n",
       "      <td>408</td>\n",
       "      <td>410-4739</td>\n",
       "      <td>no</td>\n",
       "    </tr>\n",
       "    <tr>\n",
       "      <th>1148</th>\n",
       "      <td>122</td>\n",
       "      <td>0</td>\n",
       "      <td>173.6</td>\n",
       "      <td>91.7</td>\n",
       "      <td>211.7</td>\n",
       "      <td>9.7</td>\n",
       "      <td>3</td>\n",
       "      <td>no</td>\n",
       "      <td>no</td>\n",
       "      <td>110</td>\n",
       "      <td>...</td>\n",
       "      <td>84</td>\n",
       "      <td>7.79</td>\n",
       "      <td>103</td>\n",
       "      <td>9.53</td>\n",
       "      <td>7</td>\n",
       "      <td>2.62</td>\n",
       "      <td>NY</td>\n",
       "      <td>415</td>\n",
       "      <td>352-6833</td>\n",
       "      <td>no</td>\n",
       "    </tr>\n",
       "    <tr>\n",
       "      <th>904</th>\n",
       "      <td>61</td>\n",
       "      <td>0</td>\n",
       "      <td>260.0</td>\n",
       "      <td>210.5</td>\n",
       "      <td>234.7</td>\n",
       "      <td>9.0</td>\n",
       "      <td>1</td>\n",
       "      <td>no</td>\n",
       "      <td>no</td>\n",
       "      <td>123</td>\n",
       "      <td>...</td>\n",
       "      <td>127</td>\n",
       "      <td>17.89</td>\n",
       "      <td>70</td>\n",
       "      <td>10.56</td>\n",
       "      <td>3</td>\n",
       "      <td>2.43</td>\n",
       "      <td>MD</td>\n",
       "      <td>415</td>\n",
       "      <td>370-2688</td>\n",
       "      <td>yes</td>\n",
       "    </tr>\n",
       "  </tbody>\n",
       "</table>\n",
       "<p>5 rows × 21 columns</p>\n",
       "</div>"
      ],
      "text/plain": [
       "      Account_Length  Vmail_Message  Day_Mins  Eve_Mins  Night_Mins  \\\n",
       "3184              72              0     196.5     158.6       269.3   \n",
       "2650             104              0     138.7     215.4       164.3   \n",
       "918               52              0     215.9     217.0       342.8   \n",
       "1148             122              0     173.6      91.7       211.7   \n",
       "904               61              0     260.0     210.5       234.7   \n",
       "\n",
       "      Intl_Mins  CustServ_Calls Intl_Plan Vmail_Plan  Day_Calls  ...  \\\n",
       "3184        6.8               0        no         no         88  ...   \n",
       "2650        4.9               2        no         no        100  ...   \n",
       "918         5.2               1        no         no         67  ...   \n",
       "1148        9.7               3        no         no        110  ...   \n",
       "904         9.0               1        no         no        123  ...   \n",
       "\n",
       "      Eve_Calls  Eve_Charge  Night_Calls  Night_Charge  Intl_Calls  \\\n",
       "3184        129       13.48          118         12.12           3   \n",
       "2650         58       18.31           98          7.39           4   \n",
       "918         108       18.45          130         15.43           2   \n",
       "1148         84        7.79          103          9.53           7   \n",
       "904         127       17.89           70         10.56           3   \n",
       "\n",
       "      Intl_Charge  State Area_Code     Phone Churn  \n",
       "3184         1.84     NC       415  352-5663    no  \n",
       "2650         1.32     WY       415  365-6022    no  \n",
       "918          1.40     PA       408  410-4739    no  \n",
       "1148         2.62     NY       415  352-6833    no  \n",
       "904          2.43     MD       415  370-2688   yes  \n",
       "\n",
       "[5 rows x 21 columns]"
      ]
     },
     "execution_count": 96,
     "metadata": {},
     "output_type": "execute_result"
    }
   ],
   "source": [
    "df.head()"
   ]
  },
  {
   "cell_type": "markdown",
   "metadata": {},
   "source": [
    "---"
   ]
  },
  {
   "cell_type": "markdown",
   "metadata": {},
   "source": [
    "<p><a name=\"eda\"></a></p>\n",
    "\n",
    "## Exploratory Data Analysis"
   ]
  },
  {
   "cell_type": "code",
   "execution_count": 97,
   "metadata": {},
   "outputs": [],
   "source": [
    "# Setting seaborn style for visualizations\n",
    "\n",
    "sns.set()"
   ]
  },
  {
   "cell_type": "code",
   "execution_count": 98,
   "metadata": {},
   "outputs": [
    {
     "name": "stdout",
     "output_type": "stream",
     "text": [
      "<class 'pandas.core.frame.DataFrame'>\n",
      "Int64Index: 2666 entries, 3184 to 980\n",
      "Data columns (total 21 columns):\n",
      " #   Column          Non-Null Count  Dtype  \n",
      "---  ------          --------------  -----  \n",
      " 0   Account_Length  2666 non-null   int64  \n",
      " 1   Vmail_Message   2666 non-null   int64  \n",
      " 2   Day_Mins        2666 non-null   float64\n",
      " 3   Eve_Mins        2666 non-null   float64\n",
      " 4   Night_Mins      2666 non-null   float64\n",
      " 5   Intl_Mins       2666 non-null   float64\n",
      " 6   CustServ_Calls  2666 non-null   int64  \n",
      " 7   Intl_Plan       2666 non-null   object \n",
      " 8   Vmail_Plan      2666 non-null   object \n",
      " 9   Day_Calls       2666 non-null   int64  \n",
      " 10  Day_Charge      2666 non-null   float64\n",
      " 11  Eve_Calls       2666 non-null   int64  \n",
      " 12  Eve_Charge      2666 non-null   float64\n",
      " 13  Night_Calls     2666 non-null   int64  \n",
      " 14  Night_Charge    2666 non-null   float64\n",
      " 15  Intl_Calls      2666 non-null   int64  \n",
      " 16  Intl_Charge     2666 non-null   float64\n",
      " 17  State           2666 non-null   object \n",
      " 18  Area_Code       2666 non-null   int64  \n",
      " 19  Phone           2666 non-null   object \n",
      " 20  Churn           2666 non-null   object \n",
      "dtypes: float64(8), int64(8), object(5)\n",
      "memory usage: 458.2+ KB\n"
     ]
    }
   ],
   "source": [
    "df.info()"
   ]
  },
  {
   "cell_type": "code",
   "execution_count": 99,
   "metadata": {},
   "outputs": [
    {
     "data": {
      "image/png": "[encoded data removed]",
      "text/plain": [
       "<Figure size 432x288 with 1 Axes>"
      ]
     },
     "metadata": {},
     "output_type": "display_data"
    }
   ],
   "source": [
    "# Customer Churn as a % \n",
    "\n",
    "df['Churn'].value_counts().plot(kind='pie'\n",
    "                                ,colors=['lightgrey','red']\n",
    "                                ,wedgeprops={'edgecolor': 'black'}\n",
    "                                ,explode=[0,0.1]\n",
    "                                ,autopct='%1.1f%%'\n",
    "                                ,startangle=90)\n",
    "plt.title('Customer Churn % (Training-Validation Set)', size=15, fontweight='bold')\n",
    "plt.show()"
   ]
  },
  {
   "cell_type": "code",
   "execution_count": 100,
   "metadata": {},
   "outputs": [
    {
     "data": {
      "image/png": "[encoded data removed]",
      "text/plain": [
       "<Figure size 432x288 with 1 Axes>"
      ]
     },
     "metadata": {},
     "output_type": "display_data"
    }
   ],
   "source": [
    "# Number of churned customers\n",
    "\n",
    "color = ['green', 'red']\n",
    "\n",
    "df['Churn'].value_counts().plot(kind='bar', alpha=0.7, color=color, edgecolor='black')\n",
    "\n",
    "plt.title('Churned v/s non-churned customer count \\n (Training & Validation Set)', size=15, fontweight='bold')\n",
    "plt.ylabel('Customer Count')\n",
    "plt.xlabel('Churn Indicator')\n",
    "\n",
    "plt.margins(0.3)\n",
    "\n",
    "for x,y in enumerate(df['Churn'].value_counts()):\n",
    "\n",
    "    label = \"{:.0f}\".format(y)\n",
    "\n",
    "    plt.annotate(label\n",
    "                 ,(x,y)\n",
    "                 ,textcoords=\"offset points\"\n",
    "                 ,xytext=(0,10)\n",
    "                 ,ha='center'\n",
    "                ) \n",
    "plt.show()"
   ]
  },
  {
   "cell_type": "code",
   "execution_count": 101,
   "metadata": {},
   "outputs": [
    {
     "data": {
      "text/html": [
       "<div>\n",
       "<style scoped>\n",
       "    .dataframe tbody tr th:only-of-type {\n",
       "        vertical-align: middle;\n",
       "    }\n",
       "\n",
       "    .dataframe tbody tr th {\n",
       "        vertical-align: top;\n",
       "    }\n",
       "\n",
       "    .dataframe thead th {\n",
       "        text-align: right;\n",
       "    }\n",
       "</style>\n",
       "<table border=\"1\" class=\"dataframe\">\n",
       "  <thead>\n",
       "    <tr style=\"text-align: right;\">\n",
       "      <th></th>\n",
       "      <th>CustServ_Calls</th>\n",
       "      <th>Vmail_Message</th>\n",
       "    </tr>\n",
       "    <tr>\n",
       "      <th>Churn</th>\n",
       "      <th></th>\n",
       "      <th></th>\n",
       "    </tr>\n",
       "  </thead>\n",
       "  <tbody>\n",
       "    <tr>\n",
       "      <th>no</th>\n",
       "      <td>1.446343</td>\n",
       "      <td>8.530004</td>\n",
       "    </tr>\n",
       "    <tr>\n",
       "      <th>yes</th>\n",
       "      <td>2.245431</td>\n",
       "      <td>4.762402</td>\n",
       "    </tr>\n",
       "  </tbody>\n",
       "</table>\n",
       "</div>"
      ],
      "text/plain": [
       "       CustServ_Calls  Vmail_Message\n",
       "Churn                               \n",
       "no           1.446343       8.530004\n",
       "yes          2.245431       4.762402"
      ]
     },
     "execution_count": 101,
     "metadata": {},
     "output_type": "execute_result"
    }
   ],
   "source": [
    "df.groupby('Churn')[['CustServ_Calls', 'Vmail_Message']].mean()"
   ]
  },
  {
   "cell_type": "code",
   "execution_count": 102,
   "metadata": {},
   "outputs": [
    {
     "data": {
      "text/plain": [
       "<AxesSubplot:xlabel='Churn'>"
      ]
     },
     "execution_count": 102,
     "metadata": {},
     "output_type": "execute_result"
    },
    {
     "data": {
      "image/png": "[encoded data removed]",
      "text/plain": [
       "<Figure size 432x288 with 1 Axes>"
      ]
     },
     "metadata": {},
     "output_type": "display_data"
    }
   ],
   "source": [
    "# Analyzing churned v/s non-churned customer differences\n",
    "\n",
    "df.groupby('Churn')[['CustServ_Calls', 'Vmail_Message']].mean().plot(kind='bar')"
   ]
  },
  {
   "cell_type": "code",
   "execution_count": 103,
   "metadata": {},
   "outputs": [
    {
     "data": {
      "text/html": [
       "<div>\n",
       "<style scoped>\n",
       "    .dataframe tbody tr th:only-of-type {\n",
       "        vertical-align: middle;\n",
       "    }\n",
       "\n",
       "    .dataframe tbody tr th {\n",
       "        vertical-align: top;\n",
       "    }\n",
       "\n",
       "    .dataframe thead th {\n",
       "        text-align: right;\n",
       "    }\n",
       "</style>\n",
       "<table border=\"1\" class=\"dataframe\">\n",
       "  <thead>\n",
       "    <tr style=\"text-align: right;\">\n",
       "      <th></th>\n",
       "      <th>CustServ_Calls</th>\n",
       "      <th>Vmail_Message</th>\n",
       "    </tr>\n",
       "    <tr>\n",
       "      <th>Churn</th>\n",
       "      <th></th>\n",
       "      <th></th>\n",
       "    </tr>\n",
       "  </thead>\n",
       "  <tbody>\n",
       "    <tr>\n",
       "      <th>no</th>\n",
       "      <td>1.170814</td>\n",
       "      <td>13.828242</td>\n",
       "    </tr>\n",
       "    <tr>\n",
       "      <th>yes</th>\n",
       "      <td>1.832609</td>\n",
       "      <td>11.529541</td>\n",
       "    </tr>\n",
       "  </tbody>\n",
       "</table>\n",
       "</div>"
      ],
      "text/plain": [
       "       CustServ_Calls  Vmail_Message\n",
       "Churn                               \n",
       "no           1.170814      13.828242\n",
       "yes          1.832609      11.529541"
      ]
     },
     "execution_count": 103,
     "metadata": {},
     "output_type": "execute_result"
    }
   ],
   "source": [
    "df.groupby('Churn')[['CustServ_Calls', 'Vmail_Message']].std()"
   ]
  },
  {
   "cell_type": "code",
   "execution_count": 104,
   "metadata": {},
   "outputs": [],
   "source": [
    "# TO DO - make it mardown \n",
    "\n",
    "\n",
    "\n",
    "\n",
    "# Insights\n",
    "    # It can be seen above that Churners place more customer \n",
    "    # service calls than non-churners, and leave fewer voice\n",
    "    # mail messages."
   ]
  },
  {
   "cell_type": "code",
   "execution_count": 105,
   "metadata": {},
   "outputs": [
    {
     "data": {
      "text/plain": [
       "State  Churn\n",
       "AL     no       55\n",
       "       yes       3\n",
       "CA     no       21\n",
       "       yes       8\n",
       "CO     no       48\n",
       "       yes       7\n",
       "Name: Churn, dtype: int64"
      ]
     },
     "execution_count": 105,
     "metadata": {},
     "output_type": "execute_result"
    }
   ],
   "source": [
    "# Veiwing churners and non-churners by state\n",
    "\n",
    "df.groupby('State')['Churn'].value_counts()[['AL','CA','CO']]"
   ]
  },
  {
   "cell_type": "code",
   "execution_count": 106,
   "metadata": {},
   "outputs": [
    {
     "data": {
      "text/plain": [
       "<AxesSubplot:xlabel='State,Churn'>"
      ]
     },
     "execution_count": 106,
     "metadata": {},
     "output_type": "execute_result"
    },
    {
     "data": {
      "image/png": "[encoded data removed]",
      "text/plain": [
       "<Figure size 432x288 with 1 Axes>"
      ]
     },
     "metadata": {},
     "output_type": "display_data"
    }
   ],
   "source": [
    "# TO DO - multiple bar to see churn and non-churn across different states\n",
    "\n",
    "\n",
    "\n",
    "\n",
    "\n",
    "df.groupby('State')['Churn'].value_counts().plot(kind='bar')"
   ]
  },
  {
   "cell_type": "code",
   "execution_count": 107,
   "metadata": {},
   "outputs": [
    {
     "name": "stderr",
     "output_type": "stream",
     "text": [
      "/Users/ashishsharma/opt/anaconda3/lib/python3.8/site-packages/seaborn/distributions.py:2557: FutureWarning: `distplot` is a deprecated function and will be removed in a future version. Please adapt your code to use either `displot` (a figure-level function with similar flexibility) or `histplot` (an axes-level function for histograms).\n",
      "  warnings.warn(msg, FutureWarning)\n"
     ]
    },
    {
     "data": {
      "image/png": "[encoded data removed]",
      "text/plain": [
       "<Figure size 432x288 with 1 Axes>"
      ]
     },
     "metadata": {},
     "output_type": "display_data"
    }
   ],
   "source": [
    "# Distribution of \"Account_Length\" feature\n",
    "\n",
    "# plt.hist(df['Account_Length'], bins=25)\n",
    "sns.distplot(df['Account_Length'])\n",
    "plt.show()"
   ]
  },
  {
   "cell_type": "code",
   "execution_count": 108,
   "metadata": {},
   "outputs": [],
   "source": [
    "# Insights\n",
    "    # Illustrates the duration that a customer stays with the provider\n",
    "    # is normally distribution (as what to expect in the real world)"
   ]
  },
  {
   "cell_type": "code",
   "execution_count": 109,
   "metadata": {},
   "outputs": [
    {
     "data": {
      "image/png": "[encoded data removed]",
      "text/plain": [
       "<Figure size 432x288 with 1 Axes>"
      ]
     },
     "metadata": {},
     "output_type": "display_data"
    }
   ],
   "source": [
    "# Examining differences between churners and non-churners\n",
    "# w.r.t their account lengths\n",
    "\n",
    "sns.boxplot(x='Churn', \n",
    "            y='Account_Length', \n",
    "            data=df)\n",
    "\n",
    "plt.title('Differences in Account Lengths', size=13)\n",
    "plt.show()"
   ]
  },
  {
   "cell_type": "code",
   "execution_count": 110,
   "metadata": {},
   "outputs": [],
   "source": [
    "# There are no notable differences in account lengths for\n",
    "# churners v/s non-churners"
   ]
  },
  {
   "cell_type": "code",
   "execution_count": 111,
   "metadata": {},
   "outputs": [
    {
     "data": {
      "image/png": "[encoded data removed]",
      "text/plain": [
       "<Figure size 432x288 with 1 Axes>"
      ]
     },
     "metadata": {},
     "output_type": "display_data"
    }
   ],
   "source": [
    "# Checking if having an international plan matters\n",
    "\n",
    "sns.boxplot(x='Churn', \n",
    "            y='Account_Length', \n",
    "            data=df,\n",
    "            hue='Intl_Plan')\n",
    "\n",
    "plt.title('Differences in Account Lengths', size=13)\n",
    "plt.show()"
   ]
  },
  {
   "cell_type": "code",
   "execution_count": 112,
   "metadata": {},
   "outputs": [],
   "source": [
    "# Insights\n",
    "    # No noticeable difference amoung customers with or\n",
    "    # without an international plan"
   ]
  },
  {
   "cell_type": "code",
   "execution_count": 113,
   "metadata": {},
   "outputs": [
    {
     "data": {
      "image/png": "[encoded data removed]",
      "text/plain": [
       "<Figure size 1080x720 with 6 Axes>"
      ]
     },
     "metadata": {},
     "output_type": "display_data"
    }
   ],
   "source": [
    "# Checking distribution of select features\n",
    "\n",
    "df[['Account_Length', 'Day_Mins', 'Eve_Mins', 'Night_Mins', 'Intl_Mins']].hist(bins=25, figsize=(15,10))\n",
    "plt.show()"
   ]
  },
  {
   "cell_type": "code",
   "execution_count": 114,
   "metadata": {},
   "outputs": [
    {
     "data": {
      "image/png": "[encoded data removed]",
      "text/plain": [
       "<Figure size 432x288 with 1 Axes>"
      ]
     },
     "metadata": {},
     "output_type": "display_data"
    }
   ],
   "source": [
    "# Churn difference based on Customer Service Calls placed\n",
    "\n",
    "sns.boxplot(x = 'Churn',\n",
    "            y = 'CustServ_Calls',\n",
    "            data = df)\n",
    "\n",
    "plt.title('Churners v/s Non-Churners based on Customer Services Calls')\n",
    "plt.show()"
   ]
  },
  {
   "cell_type": "code",
   "execution_count": 115,
   "metadata": {},
   "outputs": [
    {
     "data": {
      "image/png": "[encoded data removed]",
      "text/plain": [
       "<Figure size 432x288 with 1 Axes>"
      ]
     },
     "metadata": {},
     "output_type": "display_data"
    },
    {
     "data": {
      "image/png": "[encoded data removed]",
      "text/plain": [
       "<Figure size 432x288 with 1 Axes>"
      ]
     },
     "metadata": {},
     "output_type": "display_data"
    }
   ],
   "source": [
    "features = ['Account_Length', 'CustServ_Calls'] \n",
    "\n",
    "for feature in features:\n",
    "    fig, axs = plt.subplots()\n",
    "    fig = sns.boxplot(x = 'Churn',\n",
    "                      y = feature,\n",
    "                      data = df)\n",
    "    plt.title('Churners v/s Non-Churners based on {}'.format(feature))\n",
    "\n",
    "plt.show()"
   ]
  },
  {
   "cell_type": "code",
   "execution_count": 116,
   "metadata": {},
   "outputs": [
    {
     "data": {
      "image/png": "[encoded data removed]",
      "text/plain": [
       "<Figure size 432x288 with 1 Axes>"
      ]
     },
     "metadata": {},
     "output_type": "display_data"
    }
   ],
   "source": [
    "# Churn difference based on Customer Service Calls placed\n",
    "# and being on an International Plan\n",
    "\n",
    "sns.boxplot(x = 'Churn',\n",
    "            y = 'CustServ_Calls',\n",
    "            data = df,\n",
    "            sym='', # removing outliers from plot\n",
    "            hue='Intl_Plan') \n",
    "\n",
    "plt.title('Churners v/s Non-Churners based on Customer Services Calls & Intl Plan')\n",
    "plt.show()"
   ]
  },
  {
   "cell_type": "code",
   "execution_count": 117,
   "metadata": {},
   "outputs": [],
   "source": [
    "# Insights:\n",
    "    # Customers who leave more customer service calls churn more\n",
    "    # unless they also have an international plan"
   ]
  },
  {
   "cell_type": "code",
   "execution_count": 118,
   "metadata": {},
   "outputs": [
    {
     "data": {
      "text/html": [
       "<div>\n",
       "<style scoped>\n",
       "    .dataframe tbody tr th:only-of-type {\n",
       "        vertical-align: middle;\n",
       "    }\n",
       "\n",
       "    .dataframe tbody tr th {\n",
       "        vertical-align: top;\n",
       "    }\n",
       "\n",
       "    .dataframe thead th {\n",
       "        text-align: right;\n",
       "    }\n",
       "</style>\n",
       "<table border=\"1\" class=\"dataframe\">\n",
       "  <thead>\n",
       "    <tr style=\"text-align: right;\">\n",
       "      <th></th>\n",
       "      <th>Account_Length</th>\n",
       "      <th>Vmail_Message</th>\n",
       "      <th>Day_Mins</th>\n",
       "      <th>Eve_Mins</th>\n",
       "      <th>Night_Mins</th>\n",
       "      <th>Intl_Mins</th>\n",
       "      <th>CustServ_Calls</th>\n",
       "      <th>Day_Calls</th>\n",
       "      <th>Day_Charge</th>\n",
       "      <th>Eve_Calls</th>\n",
       "      <th>Eve_Charge</th>\n",
       "      <th>Night_Calls</th>\n",
       "      <th>Night_Charge</th>\n",
       "      <th>Intl_Calls</th>\n",
       "      <th>Intl_Charge</th>\n",
       "      <th>Area_Code</th>\n",
       "    </tr>\n",
       "  </thead>\n",
       "  <tbody>\n",
       "    <tr>\n",
       "      <th>Account_Length</th>\n",
       "      <td>1.000000</td>\n",
       "      <td>0.000388</td>\n",
       "      <td>0.016314</td>\n",
       "      <td>0.011460</td>\n",
       "      <td>0.002732</td>\n",
       "      <td>0.014639</td>\n",
       "      <td>0.006139</td>\n",
       "      <td>0.026787</td>\n",
       "      <td>0.016311</td>\n",
       "      <td>0.009522</td>\n",
       "      <td>0.011466</td>\n",
       "      <td>-0.017927</td>\n",
       "      <td>0.002728</td>\n",
       "      <td>0.027170</td>\n",
       "      <td>0.014637</td>\n",
       "      <td>-0.025475</td>\n",
       "    </tr>\n",
       "    <tr>\n",
       "      <th>Vmail_Message</th>\n",
       "      <td>0.000388</td>\n",
       "      <td>1.000000</td>\n",
       "      <td>0.019119</td>\n",
       "      <td>0.016859</td>\n",
       "      <td>-0.000159</td>\n",
       "      <td>0.007034</td>\n",
       "      <td>-0.007430</td>\n",
       "      <td>0.004326</td>\n",
       "      <td>0.019114</td>\n",
       "      <td>-0.005009</td>\n",
       "      <td>0.016872</td>\n",
       "      <td>0.004329</td>\n",
       "      <td>-0.000172</td>\n",
       "      <td>0.012877</td>\n",
       "      <td>0.007079</td>\n",
       "      <td>-0.003745</td>\n",
       "    </tr>\n",
       "    <tr>\n",
       "      <th>Day_Mins</th>\n",
       "      <td>0.016314</td>\n",
       "      <td>0.019119</td>\n",
       "      <td>1.000000</td>\n",
       "      <td>-0.001436</td>\n",
       "      <td>-0.001028</td>\n",
       "      <td>-0.010985</td>\n",
       "      <td>-0.004186</td>\n",
       "      <td>-0.000311</td>\n",
       "      <td>1.000000</td>\n",
       "      <td>0.032489</td>\n",
       "      <td>-0.001446</td>\n",
       "      <td>0.025156</td>\n",
       "      <td>-0.001046</td>\n",
       "      <td>-0.004692</td>\n",
       "      <td>-0.010992</td>\n",
       "      <td>-0.008205</td>\n",
       "    </tr>\n",
       "    <tr>\n",
       "      <th>Eve_Mins</th>\n",
       "      <td>0.011460</td>\n",
       "      <td>0.016859</td>\n",
       "      <td>-0.001436</td>\n",
       "      <td>1.000000</td>\n",
       "      <td>-0.013053</td>\n",
       "      <td>-0.021137</td>\n",
       "      <td>-0.017194</td>\n",
       "      <td>-0.026091</td>\n",
       "      <td>-0.001431</td>\n",
       "      <td>-0.008869</td>\n",
       "      <td>1.000000</td>\n",
       "      <td>0.018603</td>\n",
       "      <td>-0.013042</td>\n",
       "      <td>-0.001241</td>\n",
       "      <td>-0.021173</td>\n",
       "      <td>0.007141</td>\n",
       "    </tr>\n",
       "    <tr>\n",
       "      <th>Night_Mins</th>\n",
       "      <td>0.002732</td>\n",
       "      <td>-0.000159</td>\n",
       "      <td>-0.001028</td>\n",
       "      <td>-0.013053</td>\n",
       "      <td>1.000000</td>\n",
       "      <td>0.005468</td>\n",
       "      <td>0.004581</td>\n",
       "      <td>0.030421</td>\n",
       "      <td>-0.001034</td>\n",
       "      <td>0.017784</td>\n",
       "      <td>-0.013065</td>\n",
       "      <td>0.011277</td>\n",
       "      <td>0.999999</td>\n",
       "      <td>0.000299</td>\n",
       "      <td>0.005457</td>\n",
       "      <td>-0.014033</td>\n",
       "    </tr>\n",
       "    <tr>\n",
       "      <th>Intl_Mins</th>\n",
       "      <td>0.014639</td>\n",
       "      <td>0.007034</td>\n",
       "      <td>-0.010985</td>\n",
       "      <td>-0.021137</td>\n",
       "      <td>0.005468</td>\n",
       "      <td>1.000000</td>\n",
       "      <td>-0.031085</td>\n",
       "      <td>0.018026</td>\n",
       "      <td>-0.010985</td>\n",
       "      <td>0.007113</td>\n",
       "      <td>-0.021151</td>\n",
       "      <td>-0.012662</td>\n",
       "      <td>0.005461</td>\n",
       "      <td>0.022317</td>\n",
       "      <td>0.999993</td>\n",
       "      <td>-0.011311</td>\n",
       "    </tr>\n",
       "    <tr>\n",
       "      <th>CustServ_Calls</th>\n",
       "      <td>0.006139</td>\n",
       "      <td>-0.007430</td>\n",
       "      <td>-0.004186</td>\n",
       "      <td>-0.017194</td>\n",
       "      <td>0.004581</td>\n",
       "      <td>-0.031085</td>\n",
       "      <td>1.000000</td>\n",
       "      <td>-0.010668</td>\n",
       "      <td>-0.004191</td>\n",
       "      <td>0.008276</td>\n",
       "      <td>-0.017204</td>\n",
       "      <td>-0.011569</td>\n",
       "      <td>0.004589</td>\n",
       "      <td>-0.033243</td>\n",
       "      <td>-0.031066</td>\n",
       "      <td>0.028670</td>\n",
       "    </tr>\n",
       "    <tr>\n",
       "      <th>Day_Calls</th>\n",
       "      <td>0.026787</td>\n",
       "      <td>0.004326</td>\n",
       "      <td>-0.000311</td>\n",
       "      <td>-0.026091</td>\n",
       "      <td>0.030421</td>\n",
       "      <td>0.018026</td>\n",
       "      <td>-0.010668</td>\n",
       "      <td>1.000000</td>\n",
       "      <td>-0.000310</td>\n",
       "      <td>0.006519</td>\n",
       "      <td>-0.026090</td>\n",
       "      <td>-0.016554</td>\n",
       "      <td>0.030408</td>\n",
       "      <td>0.001921</td>\n",
       "      <td>0.018109</td>\n",
       "      <td>-0.020305</td>\n",
       "    </tr>\n",
       "    <tr>\n",
       "      <th>Day_Charge</th>\n",
       "      <td>0.016311</td>\n",
       "      <td>0.019114</td>\n",
       "      <td>1.000000</td>\n",
       "      <td>-0.001431</td>\n",
       "      <td>-0.001034</td>\n",
       "      <td>-0.010985</td>\n",
       "      <td>-0.004191</td>\n",
       "      <td>-0.000310</td>\n",
       "      <td>1.000000</td>\n",
       "      <td>0.032497</td>\n",
       "      <td>-0.001441</td>\n",
       "      <td>0.025161</td>\n",
       "      <td>-0.001052</td>\n",
       "      <td>-0.004700</td>\n",
       "      <td>-0.010992</td>\n",
       "      <td>-0.008206</td>\n",
       "    </tr>\n",
       "    <tr>\n",
       "      <th>Eve_Calls</th>\n",
       "      <td>0.009522</td>\n",
       "      <td>-0.005009</td>\n",
       "      <td>0.032489</td>\n",
       "      <td>-0.008869</td>\n",
       "      <td>0.017784</td>\n",
       "      <td>0.007113</td>\n",
       "      <td>0.008276</td>\n",
       "      <td>0.006519</td>\n",
       "      <td>0.032497</td>\n",
       "      <td>1.000000</td>\n",
       "      <td>-0.008849</td>\n",
       "      <td>-0.009248</td>\n",
       "      <td>0.017810</td>\n",
       "      <td>0.013874</td>\n",
       "      <td>0.007072</td>\n",
       "      <td>-0.014077</td>\n",
       "    </tr>\n",
       "    <tr>\n",
       "      <th>Eve_Charge</th>\n",
       "      <td>0.011466</td>\n",
       "      <td>0.016872</td>\n",
       "      <td>-0.001446</td>\n",
       "      <td>1.000000</td>\n",
       "      <td>-0.013065</td>\n",
       "      <td>-0.021151</td>\n",
       "      <td>-0.017204</td>\n",
       "      <td>-0.026090</td>\n",
       "      <td>-0.001441</td>\n",
       "      <td>-0.008849</td>\n",
       "      <td>1.000000</td>\n",
       "      <td>0.018606</td>\n",
       "      <td>-0.013054</td>\n",
       "      <td>-0.001240</td>\n",
       "      <td>-0.021187</td>\n",
       "      <td>0.007167</td>\n",
       "    </tr>\n",
       "    <tr>\n",
       "      <th>Night_Calls</th>\n",
       "      <td>-0.017927</td>\n",
       "      <td>0.004329</td>\n",
       "      <td>0.025156</td>\n",
       "      <td>0.018603</td>\n",
       "      <td>0.011277</td>\n",
       "      <td>-0.012662</td>\n",
       "      <td>-0.011569</td>\n",
       "      <td>-0.016554</td>\n",
       "      <td>0.025161</td>\n",
       "      <td>-0.009248</td>\n",
       "      <td>0.018606</td>\n",
       "      <td>1.000000</td>\n",
       "      <td>0.011256</td>\n",
       "      <td>0.005807</td>\n",
       "      <td>-0.012658</td>\n",
       "      <td>0.017966</td>\n",
       "    </tr>\n",
       "    <tr>\n",
       "      <th>Night_Charge</th>\n",
       "      <td>0.002728</td>\n",
       "      <td>-0.000172</td>\n",
       "      <td>-0.001046</td>\n",
       "      <td>-0.013042</td>\n",
       "      <td>0.999999</td>\n",
       "      <td>0.005461</td>\n",
       "      <td>0.004589</td>\n",
       "      <td>0.030408</td>\n",
       "      <td>-0.001052</td>\n",
       "      <td>0.017810</td>\n",
       "      <td>-0.013054</td>\n",
       "      <td>0.011256</td>\n",
       "      <td>1.000000</td>\n",
       "      <td>0.000329</td>\n",
       "      <td>0.005450</td>\n",
       "      <td>-0.014061</td>\n",
       "    </tr>\n",
       "    <tr>\n",
       "      <th>Intl_Calls</th>\n",
       "      <td>0.027170</td>\n",
       "      <td>0.012877</td>\n",
       "      <td>-0.004692</td>\n",
       "      <td>-0.001241</td>\n",
       "      <td>0.000299</td>\n",
       "      <td>0.022317</td>\n",
       "      <td>-0.033243</td>\n",
       "      <td>0.001921</td>\n",
       "      <td>-0.004700</td>\n",
       "      <td>0.013874</td>\n",
       "      <td>-0.001240</td>\n",
       "      <td>0.005807</td>\n",
       "      <td>0.000329</td>\n",
       "      <td>1.000000</td>\n",
       "      <td>0.022341</td>\n",
       "      <td>-0.022644</td>\n",
       "    </tr>\n",
       "    <tr>\n",
       "      <th>Intl_Charge</th>\n",
       "      <td>0.014637</td>\n",
       "      <td>0.007079</td>\n",
       "      <td>-0.010992</td>\n",
       "      <td>-0.021173</td>\n",
       "      <td>0.005457</td>\n",
       "      <td>0.999993</td>\n",
       "      <td>-0.031066</td>\n",
       "      <td>0.018109</td>\n",
       "      <td>-0.010992</td>\n",
       "      <td>0.007072</td>\n",
       "      <td>-0.021187</td>\n",
       "      <td>-0.012658</td>\n",
       "      <td>0.005450</td>\n",
       "      <td>0.022341</td>\n",
       "      <td>1.000000</td>\n",
       "      <td>-0.011401</td>\n",
       "    </tr>\n",
       "    <tr>\n",
       "      <th>Area_Code</th>\n",
       "      <td>-0.025475</td>\n",
       "      <td>-0.003745</td>\n",
       "      <td>-0.008205</td>\n",
       "      <td>0.007141</td>\n",
       "      <td>-0.014033</td>\n",
       "      <td>-0.011311</td>\n",
       "      <td>0.028670</td>\n",
       "      <td>-0.020305</td>\n",
       "      <td>-0.008206</td>\n",
       "      <td>-0.014077</td>\n",
       "      <td>0.007167</td>\n",
       "      <td>0.017966</td>\n",
       "      <td>-0.014061</td>\n",
       "      <td>-0.022644</td>\n",
       "      <td>-0.011401</td>\n",
       "      <td>1.000000</td>\n",
       "    </tr>\n",
       "  </tbody>\n",
       "</table>\n",
       "</div>"
      ],
      "text/plain": [
       "                Account_Length  Vmail_Message  Day_Mins  Eve_Mins  Night_Mins  \\\n",
       "Account_Length        1.000000       0.000388  0.016314  0.011460    0.002732   \n",
       "Vmail_Message         0.000388       1.000000  0.019119  0.016859   -0.000159   \n",
       "Day_Mins              0.016314       0.019119  1.000000 -0.001436   -0.001028   \n",
       "Eve_Mins              0.011460       0.016859 -0.001436  1.000000   -0.013053   \n",
       "Night_Mins            0.002732      -0.000159 -0.001028 -0.013053    1.000000   \n",
       "Intl_Mins             0.014639       0.007034 -0.010985 -0.021137    0.005468   \n",
       "CustServ_Calls        0.006139      -0.007430 -0.004186 -0.017194    0.004581   \n",
       "Day_Calls             0.026787       0.004326 -0.000311 -0.026091    0.030421   \n",
       "Day_Charge            0.016311       0.019114  1.000000 -0.001431   -0.001034   \n",
       "Eve_Calls             0.009522      -0.005009  0.032489 -0.008869    0.017784   \n",
       "Eve_Charge            0.011466       0.016872 -0.001446  1.000000   -0.013065   \n",
       "Night_Calls          -0.017927       0.004329  0.025156  0.018603    0.011277   \n",
       "Night_Charge          0.002728      -0.000172 -0.001046 -0.013042    0.999999   \n",
       "Intl_Calls            0.027170       0.012877 -0.004692 -0.001241    0.000299   \n",
       "Intl_Charge           0.014637       0.007079 -0.010992 -0.021173    0.005457   \n",
       "Area_Code            -0.025475      -0.003745 -0.008205  0.007141   -0.014033   \n",
       "\n",
       "                Intl_Mins  CustServ_Calls  Day_Calls  Day_Charge  Eve_Calls  \\\n",
       "Account_Length   0.014639        0.006139   0.026787    0.016311   0.009522   \n",
       "Vmail_Message    0.007034       -0.007430   0.004326    0.019114  -0.005009   \n",
       "Day_Mins        -0.010985       -0.004186  -0.000311    1.000000   0.032489   \n",
       "Eve_Mins        -0.021137       -0.017194  -0.026091   -0.001431  -0.008869   \n",
       "Night_Mins       0.005468        0.004581   0.030421   -0.001034   0.017784   \n",
       "Intl_Mins        1.000000       -0.031085   0.018026   -0.010985   0.007113   \n",
       "CustServ_Calls  -0.031085        1.000000  -0.010668   -0.004191   0.008276   \n",
       "Day_Calls        0.018026       -0.010668   1.000000   -0.000310   0.006519   \n",
       "Day_Charge      -0.010985       -0.004191  -0.000310    1.000000   0.032497   \n",
       "Eve_Calls        0.007113        0.008276   0.006519    0.032497   1.000000   \n",
       "Eve_Charge      -0.021151       -0.017204  -0.026090   -0.001441  -0.008849   \n",
       "Night_Calls     -0.012662       -0.011569  -0.016554    0.025161  -0.009248   \n",
       "Night_Charge     0.005461        0.004589   0.030408   -0.001052   0.017810   \n",
       "Intl_Calls       0.022317       -0.033243   0.001921   -0.004700   0.013874   \n",
       "Intl_Charge      0.999993       -0.031066   0.018109   -0.010992   0.007072   \n",
       "Area_Code       -0.011311        0.028670  -0.020305   -0.008206  -0.014077   \n",
       "\n",
       "                Eve_Charge  Night_Calls  Night_Charge  Intl_Calls  \\\n",
       "Account_Length    0.011466    -0.017927      0.002728    0.027170   \n",
       "Vmail_Message     0.016872     0.004329     -0.000172    0.012877   \n",
       "Day_Mins         -0.001446     0.025156     -0.001046   -0.004692   \n",
       "Eve_Mins          1.000000     0.018603     -0.013042   -0.001241   \n",
       "Night_Mins       -0.013065     0.011277      0.999999    0.000299   \n",
       "Intl_Mins        -0.021151    -0.012662      0.005461    0.022317   \n",
       "CustServ_Calls   -0.017204    -0.011569      0.004589   -0.033243   \n",
       "Day_Calls        -0.026090    -0.016554      0.030408    0.001921   \n",
       "Day_Charge       -0.001441     0.025161     -0.001052   -0.004700   \n",
       "Eve_Calls        -0.008849    -0.009248      0.017810    0.013874   \n",
       "Eve_Charge        1.000000     0.018606     -0.013054   -0.001240   \n",
       "Night_Calls       0.018606     1.000000      0.011256    0.005807   \n",
       "Night_Charge     -0.013054     0.011256      1.000000    0.000329   \n",
       "Intl_Calls       -0.001240     0.005807      0.000329    1.000000   \n",
       "Intl_Charge      -0.021187    -0.012658      0.005450    0.022341   \n",
       "Area_Code         0.007167     0.017966     -0.014061   -0.022644   \n",
       "\n",
       "                Intl_Charge  Area_Code  \n",
       "Account_Length     0.014637  -0.025475  \n",
       "Vmail_Message      0.007079  -0.003745  \n",
       "Day_Mins          -0.010992  -0.008205  \n",
       "Eve_Mins          -0.021173   0.007141  \n",
       "Night_Mins         0.005457  -0.014033  \n",
       "Intl_Mins          0.999993  -0.011311  \n",
       "CustServ_Calls    -0.031066   0.028670  \n",
       "Day_Calls          0.018109  -0.020305  \n",
       "Day_Charge        -0.010992  -0.008206  \n",
       "Eve_Calls          0.007072  -0.014077  \n",
       "Eve_Charge        -0.021187   0.007167  \n",
       "Night_Calls       -0.012658   0.017966  \n",
       "Night_Charge       0.005450  -0.014061  \n",
       "Intl_Calls         0.022341  -0.022644  \n",
       "Intl_Charge        1.000000  -0.011401  \n",
       "Area_Code         -0.011401   1.000000  "
      ]
     },
     "execution_count": 118,
     "metadata": {},
     "output_type": "execute_result"
    }
   ],
   "source": [
    "df.corr()"
   ]
  },
  {
   "cell_type": "code",
   "execution_count": 119,
   "metadata": {
    "scrolled": false
   },
   "outputs": [
    {
     "data": {
      "image/png": "[encoded data removed]",
      "text/plain": [
       "<Figure size 720x432 with 2 Axes>"
      ]
     },
     "metadata": {},
     "output_type": "display_data"
    }
   ],
   "source": [
    "plt.figure(figsize=(10,6))\n",
    "mask = np.zeros_like(df.corr())\n",
    "mask[np.triu_indices_from(mask)] = 1\n",
    "sns.heatmap(df.corr(), mask= mask, linewidth=0.7, cmap='RdYlGn') \n",
    "plt.show()"
   ]
  },
  {
   "cell_type": "code",
   "execution_count": 120,
   "metadata": {},
   "outputs": [],
   "source": [
    "# Since charges and mins are strongly correlated, we can either remove\n",
    "# one of them, or feature engineer them to create 4 new charges_min\n",
    "# and drop the charges and min columns subsequently."
   ]
  },
  {
   "cell_type": "markdown",
   "metadata": {},
   "source": [
    "---"
   ]
  },
  {
   "cell_type": "markdown",
   "metadata": {},
   "source": [
    "<p><a name=\"prep\"></a></p>\n",
    "\n",
    "## Data Preprocessing\n",
    "\n",
    "- Check missing values\n",
    "- Checking distribution of features\n",
    "- Encoding Categorical variables\n",
    "- Feature Scaling via Standardization\n",
    "- Feature Selection and Engineering"
   ]
  },
  {
   "cell_type": "markdown",
   "metadata": {},
   "source": [
    "### Missing Values"
   ]
  },
  {
   "cell_type": "code",
   "execution_count": 121,
   "metadata": {},
   "outputs": [
    {
     "data": {
      "text/plain": [
       "Series([], dtype: int64)"
      ]
     },
     "execution_count": 121,
     "metadata": {},
     "output_type": "execute_result"
    }
   ],
   "source": [
    "# Missing values check\n",
    "\n",
    "missing = df.isnull().sum()\n",
    "missing[missing > 0]"
   ]
  },
  {
   "cell_type": "code",
   "execution_count": 122,
   "metadata": {},
   "outputs": [
    {
     "name": "stdout",
     "output_type": "stream",
     "text": [
      "<class 'pandas.core.frame.DataFrame'>\n",
      "Int64Index: 2666 entries, 3184 to 980\n",
      "Data columns (total 21 columns):\n",
      " #   Column          Non-Null Count  Dtype  \n",
      "---  ------          --------------  -----  \n",
      " 0   Account_Length  2666 non-null   int64  \n",
      " 1   Vmail_Message   2666 non-null   int64  \n",
      " 2   Day_Mins        2666 non-null   float64\n",
      " 3   Eve_Mins        2666 non-null   float64\n",
      " 4   Night_Mins      2666 non-null   float64\n",
      " 5   Intl_Mins       2666 non-null   float64\n",
      " 6   CustServ_Calls  2666 non-null   int64  \n",
      " 7   Intl_Plan       2666 non-null   object \n",
      " 8   Vmail_Plan      2666 non-null   object \n",
      " 9   Day_Calls       2666 non-null   int64  \n",
      " 10  Day_Charge      2666 non-null   float64\n",
      " 11  Eve_Calls       2666 non-null   int64  \n",
      " 12  Eve_Charge      2666 non-null   float64\n",
      " 13  Night_Calls     2666 non-null   int64  \n",
      " 14  Night_Charge    2666 non-null   float64\n",
      " 15  Intl_Calls      2666 non-null   int64  \n",
      " 16  Intl_Charge     2666 non-null   float64\n",
      " 17  State           2666 non-null   object \n",
      " 18  Area_Code       2666 non-null   int64  \n",
      " 19  Phone           2666 non-null   object \n",
      " 20  Churn           2666 non-null   object \n",
      "dtypes: float64(8), int64(8), object(5)\n",
      "memory usage: 522.8+ KB\n"
     ]
    }
   ],
   "source": [
    "# Examining data types \n",
    "\n",
    "# df.dtypes\n",
    "df.info()"
   ]
  },
  {
   "cell_type": "code",
   "execution_count": 123,
   "metadata": {},
   "outputs": [
    {
     "data": {
      "text/plain": [
       "Account_Length     209\n",
       "Vmail_Message       45\n",
       "Day_Mins          1492\n",
       "Eve_Mins          1432\n",
       "Night_Mins        1437\n",
       "Intl_Mins          161\n",
       "CustServ_Calls      10\n",
       "Intl_Plan            2\n",
       "Vmail_Plan           2\n",
       "Day_Calls          118\n",
       "Day_Charge        1492\n",
       "Eve_Calls          120\n",
       "Eve_Charge        1287\n",
       "Night_Calls        118\n",
       "Night_Charge       883\n",
       "Intl_Calls          20\n",
       "Intl_Charge        161\n",
       "State               51\n",
       "Area_Code            3\n",
       "Phone             2666\n",
       "Churn                2\n",
       "dtype: int64"
      ]
     },
     "execution_count": 123,
     "metadata": {},
     "output_type": "execute_result"
    }
   ],
   "source": [
    "#@ Unique values per column. \n",
    "#@@@@ use this to form continuous and discrete numerical variables\n",
    "\n",
    "df.nunique()"
   ]
  },
  {
   "cell_type": "code",
   "execution_count": 124,
   "metadata": {},
   "outputs": [],
   "source": [
    "# Forming list of columns that are numerical and categorical\n",
    "\n",
    "features_num = X_train_val.select_dtypes(include=['int64', 'float64']).columns\n",
    "features_cat = X_train_val.select_dtypes(include=['object']).columns"
   ]
  },
  {
   "cell_type": "code",
   "execution_count": 125,
   "metadata": {},
   "outputs": [
    {
     "name": "stdout",
     "output_type": "stream",
     "text": [
      "Index(['Account_Length', 'Vmail_Message', 'Day_Mins', 'Eve_Mins', 'Night_Mins',\n",
      "       'Intl_Mins', 'CustServ_Calls', 'Day_Calls', 'Day_Charge', 'Eve_Calls',\n",
      "       'Eve_Charge', 'Night_Calls', 'Night_Charge', 'Intl_Calls',\n",
      "       'Intl_Charge', 'Area_Code'],\n",
      "      dtype='object')\n",
      "--------------------------------------------------------------------------------\n",
      "Index(['Intl_Plan', 'Vmail_Plan', 'State', 'Phone'], dtype='object')\n"
     ]
    }
   ],
   "source": [
    "print(features_num)\n",
    "print('-'*80)\n",
    "print(features_cat)"
   ]
  },
  {
   "cell_type": "code",
   "execution_count": 126,
   "metadata": {
    "scrolled": false
   },
   "outputs": [
    {
     "data": {
      "text/html": [
       "<div>\n",
       "<style scoped>\n",
       "    .dataframe tbody tr th:only-of-type {\n",
       "        vertical-align: middle;\n",
       "    }\n",
       "\n",
       "    .dataframe tbody tr th {\n",
       "        vertical-align: top;\n",
       "    }\n",
       "\n",
       "    .dataframe thead th {\n",
       "        text-align: right;\n",
       "    }\n",
       "</style>\n",
       "<table border=\"1\" class=\"dataframe\">\n",
       "  <thead>\n",
       "    <tr style=\"text-align: right;\">\n",
       "      <th></th>\n",
       "      <th>Account_Length</th>\n",
       "      <th>Vmail_Message</th>\n",
       "      <th>Day_Mins</th>\n",
       "      <th>Eve_Mins</th>\n",
       "      <th>Night_Mins</th>\n",
       "      <th>Intl_Mins</th>\n",
       "      <th>CustServ_Calls</th>\n",
       "      <th>Day_Calls</th>\n",
       "      <th>Day_Charge</th>\n",
       "      <th>Eve_Calls</th>\n",
       "      <th>Eve_Charge</th>\n",
       "      <th>Night_Calls</th>\n",
       "      <th>Night_Charge</th>\n",
       "      <th>Intl_Calls</th>\n",
       "      <th>Intl_Charge</th>\n",
       "      <th>Area_Code</th>\n",
       "    </tr>\n",
       "  </thead>\n",
       "  <tbody>\n",
       "    <tr>\n",
       "      <th>3184</th>\n",
       "      <td>72</td>\n",
       "      <td>0</td>\n",
       "      <td>196.5</td>\n",
       "      <td>158.6</td>\n",
       "      <td>269.3</td>\n",
       "      <td>6.8</td>\n",
       "      <td>0</td>\n",
       "      <td>88</td>\n",
       "      <td>33.41</td>\n",
       "      <td>129</td>\n",
       "      <td>13.48</td>\n",
       "      <td>118</td>\n",
       "      <td>12.12</td>\n",
       "      <td>3</td>\n",
       "      <td>1.84</td>\n",
       "      <td>415</td>\n",
       "    </tr>\n",
       "    <tr>\n",
       "      <th>2650</th>\n",
       "      <td>104</td>\n",
       "      <td>0</td>\n",
       "      <td>138.7</td>\n",
       "      <td>215.4</td>\n",
       "      <td>164.3</td>\n",
       "      <td>4.9</td>\n",
       "      <td>2</td>\n",
       "      <td>100</td>\n",
       "      <td>23.58</td>\n",
       "      <td>58</td>\n",
       "      <td>18.31</td>\n",
       "      <td>98</td>\n",
       "      <td>7.39</td>\n",
       "      <td>4</td>\n",
       "      <td>1.32</td>\n",
       "      <td>415</td>\n",
       "    </tr>\n",
       "    <tr>\n",
       "      <th>918</th>\n",
       "      <td>52</td>\n",
       "      <td>0</td>\n",
       "      <td>215.9</td>\n",
       "      <td>217.0</td>\n",
       "      <td>342.8</td>\n",
       "      <td>5.2</td>\n",
       "      <td>1</td>\n",
       "      <td>67</td>\n",
       "      <td>36.70</td>\n",
       "      <td>108</td>\n",
       "      <td>18.45</td>\n",
       "      <td>130</td>\n",
       "      <td>15.43</td>\n",
       "      <td>2</td>\n",
       "      <td>1.40</td>\n",
       "      <td>408</td>\n",
       "    </tr>\n",
       "    <tr>\n",
       "      <th>1148</th>\n",
       "      <td>122</td>\n",
       "      <td>0</td>\n",
       "      <td>173.6</td>\n",
       "      <td>91.7</td>\n",
       "      <td>211.7</td>\n",
       "      <td>9.7</td>\n",
       "      <td>3</td>\n",
       "      <td>110</td>\n",
       "      <td>29.51</td>\n",
       "      <td>84</td>\n",
       "      <td>7.79</td>\n",
       "      <td>103</td>\n",
       "      <td>9.53</td>\n",
       "      <td>7</td>\n",
       "      <td>2.62</td>\n",
       "      <td>415</td>\n",
       "    </tr>\n",
       "    <tr>\n",
       "      <th>904</th>\n",
       "      <td>61</td>\n",
       "      <td>0</td>\n",
       "      <td>260.0</td>\n",
       "      <td>210.5</td>\n",
       "      <td>234.7</td>\n",
       "      <td>9.0</td>\n",
       "      <td>1</td>\n",
       "      <td>123</td>\n",
       "      <td>44.20</td>\n",
       "      <td>127</td>\n",
       "      <td>17.89</td>\n",
       "      <td>70</td>\n",
       "      <td>10.56</td>\n",
       "      <td>3</td>\n",
       "      <td>2.43</td>\n",
       "      <td>415</td>\n",
       "    </tr>\n",
       "    <tr>\n",
       "      <th>...</th>\n",
       "      <td>...</td>\n",
       "      <td>...</td>\n",
       "      <td>...</td>\n",
       "      <td>...</td>\n",
       "      <td>...</td>\n",
       "      <td>...</td>\n",
       "      <td>...</td>\n",
       "      <td>...</td>\n",
       "      <td>...</td>\n",
       "      <td>...</td>\n",
       "      <td>...</td>\n",
       "      <td>...</td>\n",
       "      <td>...</td>\n",
       "      <td>...</td>\n",
       "      <td>...</td>\n",
       "      <td>...</td>\n",
       "    </tr>\n",
       "    <tr>\n",
       "      <th>1696</th>\n",
       "      <td>141</td>\n",
       "      <td>0</td>\n",
       "      <td>215.6</td>\n",
       "      <td>200.6</td>\n",
       "      <td>153.8</td>\n",
       "      <td>12.4</td>\n",
       "      <td>1</td>\n",
       "      <td>113</td>\n",
       "      <td>36.65</td>\n",
       "      <td>81</td>\n",
       "      <td>17.05</td>\n",
       "      <td>107</td>\n",
       "      <td>6.92</td>\n",
       "      <td>6</td>\n",
       "      <td>3.35</td>\n",
       "      <td>510</td>\n",
       "    </tr>\n",
       "    <tr>\n",
       "      <th>3089</th>\n",
       "      <td>70</td>\n",
       "      <td>30</td>\n",
       "      <td>143.4</td>\n",
       "      <td>170.0</td>\n",
       "      <td>127.9</td>\n",
       "      <td>9.4</td>\n",
       "      <td>3</td>\n",
       "      <td>72</td>\n",
       "      <td>24.38</td>\n",
       "      <td>92</td>\n",
       "      <td>14.45</td>\n",
       "      <td>68</td>\n",
       "      <td>5.76</td>\n",
       "      <td>4</td>\n",
       "      <td>2.54</td>\n",
       "      <td>510</td>\n",
       "    </tr>\n",
       "    <tr>\n",
       "      <th>2291</th>\n",
       "      <td>69</td>\n",
       "      <td>0</td>\n",
       "      <td>196.1</td>\n",
       "      <td>236.8</td>\n",
       "      <td>182.3</td>\n",
       "      <td>11.9</td>\n",
       "      <td>0</td>\n",
       "      <td>87</td>\n",
       "      <td>33.34</td>\n",
       "      <td>66</td>\n",
       "      <td>20.13</td>\n",
       "      <td>75</td>\n",
       "      <td>8.20</td>\n",
       "      <td>1</td>\n",
       "      <td>3.21</td>\n",
       "      <td>408</td>\n",
       "    </tr>\n",
       "    <tr>\n",
       "      <th>2107</th>\n",
       "      <td>123</td>\n",
       "      <td>0</td>\n",
       "      <td>236.2</td>\n",
       "      <td>273.9</td>\n",
       "      <td>227.0</td>\n",
       "      <td>10.1</td>\n",
       "      <td>2</td>\n",
       "      <td>135</td>\n",
       "      <td>40.15</td>\n",
       "      <td>88</td>\n",
       "      <td>23.28</td>\n",
       "      <td>77</td>\n",
       "      <td>10.22</td>\n",
       "      <td>6</td>\n",
       "      <td>2.73</td>\n",
       "      <td>408</td>\n",
       "    </tr>\n",
       "    <tr>\n",
       "      <th>980</th>\n",
       "      <td>50</td>\n",
       "      <td>0</td>\n",
       "      <td>188.9</td>\n",
       "      <td>203.9</td>\n",
       "      <td>151.8</td>\n",
       "      <td>11.6</td>\n",
       "      <td>3</td>\n",
       "      <td>94</td>\n",
       "      <td>32.11</td>\n",
       "      <td>104</td>\n",
       "      <td>17.33</td>\n",
       "      <td>124</td>\n",
       "      <td>6.83</td>\n",
       "      <td>8</td>\n",
       "      <td>3.13</td>\n",
       "      <td>510</td>\n",
       "    </tr>\n",
       "  </tbody>\n",
       "</table>\n",
       "<p>2666 rows × 16 columns</p>\n",
       "</div>"
      ],
      "text/plain": [
       "      Account_Length  Vmail_Message  Day_Mins  Eve_Mins  Night_Mins  \\\n",
       "3184              72              0     196.5     158.6       269.3   \n",
       "2650             104              0     138.7     215.4       164.3   \n",
       "918               52              0     215.9     217.0       342.8   \n",
       "1148             122              0     173.6      91.7       211.7   \n",
       "904               61              0     260.0     210.5       234.7   \n",
       "...              ...            ...       ...       ...         ...   \n",
       "1696             141              0     215.6     200.6       153.8   \n",
       "3089              70             30     143.4     170.0       127.9   \n",
       "2291              69              0     196.1     236.8       182.3   \n",
       "2107             123              0     236.2     273.9       227.0   \n",
       "980               50              0     188.9     203.9       151.8   \n",
       "\n",
       "      Intl_Mins  CustServ_Calls  Day_Calls  Day_Charge  Eve_Calls  Eve_Charge  \\\n",
       "3184        6.8               0         88       33.41        129       13.48   \n",
       "2650        4.9               2        100       23.58         58       18.31   \n",
       "918         5.2               1         67       36.70        108       18.45   \n",
       "1148        9.7               3        110       29.51         84        7.79   \n",
       "904         9.0               1        123       44.20        127       17.89   \n",
       "...         ...             ...        ...         ...        ...         ...   \n",
       "1696       12.4               1        113       36.65         81       17.05   \n",
       "3089        9.4               3         72       24.38         92       14.45   \n",
       "2291       11.9               0         87       33.34         66       20.13   \n",
       "2107       10.1               2        135       40.15         88       23.28   \n",
       "980        11.6               3         94       32.11        104       17.33   \n",
       "\n",
       "      Night_Calls  Night_Charge  Intl_Calls  Intl_Charge  Area_Code  \n",
       "3184          118         12.12           3         1.84        415  \n",
       "2650           98          7.39           4         1.32        415  \n",
       "918           130         15.43           2         1.40        408  \n",
       "1148          103          9.53           7         2.62        415  \n",
       "904            70         10.56           3         2.43        415  \n",
       "...           ...           ...         ...          ...        ...  \n",
       "1696          107          6.92           6         3.35        510  \n",
       "3089           68          5.76           4         2.54        510  \n",
       "2291           75          8.20           1         3.21        408  \n",
       "2107           77         10.22           6         2.73        408  \n",
       "980           124          6.83           8         3.13        510  \n",
       "\n",
       "[2666 rows x 16 columns]"
      ]
     },
     "execution_count": 126,
     "metadata": {},
     "output_type": "execute_result"
    }
   ],
   "source": [
    "X_train_val[features_num]"
   ]
  },
  {
   "cell_type": "code",
   "execution_count": 127,
   "metadata": {},
   "outputs": [
    {
     "data": {
      "text/html": [
       "<div>\n",
       "<style scoped>\n",
       "    .dataframe tbody tr th:only-of-type {\n",
       "        vertical-align: middle;\n",
       "    }\n",
       "\n",
       "    .dataframe tbody tr th {\n",
       "        vertical-align: top;\n",
       "    }\n",
       "\n",
       "    .dataframe thead th {\n",
       "        text-align: right;\n",
       "    }\n",
       "</style>\n",
       "<table border=\"1\" class=\"dataframe\">\n",
       "  <thead>\n",
       "    <tr style=\"text-align: right;\">\n",
       "      <th></th>\n",
       "      <th>Intl_Plan</th>\n",
       "      <th>Vmail_Plan</th>\n",
       "      <th>State</th>\n",
       "      <th>Phone</th>\n",
       "    </tr>\n",
       "  </thead>\n",
       "  <tbody>\n",
       "    <tr>\n",
       "      <th>3184</th>\n",
       "      <td>no</td>\n",
       "      <td>no</td>\n",
       "      <td>NC</td>\n",
       "      <td>352-5663</td>\n",
       "    </tr>\n",
       "    <tr>\n",
       "      <th>2650</th>\n",
       "      <td>no</td>\n",
       "      <td>no</td>\n",
       "      <td>WY</td>\n",
       "      <td>365-6022</td>\n",
       "    </tr>\n",
       "    <tr>\n",
       "      <th>918</th>\n",
       "      <td>no</td>\n",
       "      <td>no</td>\n",
       "      <td>PA</td>\n",
       "      <td>410-4739</td>\n",
       "    </tr>\n",
       "    <tr>\n",
       "      <th>1148</th>\n",
       "      <td>no</td>\n",
       "      <td>no</td>\n",
       "      <td>NY</td>\n",
       "      <td>352-6833</td>\n",
       "    </tr>\n",
       "    <tr>\n",
       "      <th>904</th>\n",
       "      <td>no</td>\n",
       "      <td>no</td>\n",
       "      <td>MD</td>\n",
       "      <td>370-2688</td>\n",
       "    </tr>\n",
       "    <tr>\n",
       "      <th>...</th>\n",
       "      <td>...</td>\n",
       "      <td>...</td>\n",
       "      <td>...</td>\n",
       "      <td>...</td>\n",
       "    </tr>\n",
       "    <tr>\n",
       "      <th>1696</th>\n",
       "      <td>no</td>\n",
       "      <td>no</td>\n",
       "      <td>PA</td>\n",
       "      <td>365-8114</td>\n",
       "    </tr>\n",
       "    <tr>\n",
       "      <th>3089</th>\n",
       "      <td>no</td>\n",
       "      <td>yes</td>\n",
       "      <td>WV</td>\n",
       "      <td>348-3777</td>\n",
       "    </tr>\n",
       "    <tr>\n",
       "      <th>2291</th>\n",
       "      <td>no</td>\n",
       "      <td>no</td>\n",
       "      <td>OR</td>\n",
       "      <td>375-9180</td>\n",
       "    </tr>\n",
       "    <tr>\n",
       "      <th>2107</th>\n",
       "      <td>no</td>\n",
       "      <td>no</td>\n",
       "      <td>MN</td>\n",
       "      <td>422-5350</td>\n",
       "    </tr>\n",
       "    <tr>\n",
       "      <th>980</th>\n",
       "      <td>no</td>\n",
       "      <td>no</td>\n",
       "      <td>TX</td>\n",
       "      <td>395-6002</td>\n",
       "    </tr>\n",
       "  </tbody>\n",
       "</table>\n",
       "<p>2666 rows × 4 columns</p>\n",
       "</div>"
      ],
      "text/plain": [
       "     Intl_Plan Vmail_Plan State     Phone\n",
       "3184        no         no    NC  352-5663\n",
       "2650        no         no    WY  365-6022\n",
       "918         no         no    PA  410-4739\n",
       "1148        no         no    NY  352-6833\n",
       "904         no         no    MD  370-2688\n",
       "...        ...        ...   ...       ...\n",
       "1696        no         no    PA  365-8114\n",
       "3089        no        yes    WV  348-3777\n",
       "2291        no         no    OR  375-9180\n",
       "2107        no         no    MN  422-5350\n",
       "980         no         no    TX  395-6002\n",
       "\n",
       "[2666 rows x 4 columns]"
      ]
     },
     "execution_count": 127,
     "metadata": {},
     "output_type": "execute_result"
    }
   ],
   "source": [
    "X_train_val[features_cat]"
   ]
  },
  {
   "cell_type": "code",
   "execution_count": 128,
   "metadata": {},
   "outputs": [
    {
     "data": {
      "image/png": "[encoded data removed]",
      "text/plain": [
       "<Figure size 432x288 with 1 Axes>"
      ]
     },
     "metadata": {},
     "output_type": "display_data"
    }
   ],
   "source": [
    "# Examining feature: 'Vmail_Message'\n",
    "\n",
    "plt.hist(X_train_val['Vmail_Message'])\n",
    "\n",
    "plt.title('Distribution of \\'Vmail_Message\\'')\n",
    "plt.show()"
   ]
  },
  {
   "cell_type": "markdown",
   "metadata": {},
   "source": [
    "**Insights**\n",
    "- Since this feature has 0 as the most frequent value for most observations, I'll make this a candidate for a binary column (to be done in feature engineering)"
   ]
  },
  {
   "cell_type": "code",
   "execution_count": 129,
   "metadata": {},
   "outputs": [
    {
     "data": {
      "image/png": "[encoded data removed]",
      "text/plain": [
       "<Figure size 432x288 with 1 Axes>"
      ]
     },
     "metadata": {},
     "output_type": "display_data"
    }
   ],
   "source": [
    "plt.hist(X_train_val['CustServ_Calls'])\n",
    "\n",
    "plt.title('Distribution of \\'CustServ_Calls\\'')\n",
    "plt.show()"
   ]
  },
  {
   "cell_type": "markdown",
   "metadata": {},
   "source": [
    "### Encoding Target"
   ]
  },
  {
   "cell_type": "code",
   "execution_count": 130,
   "metadata": {},
   "outputs": [],
   "source": [
    "# Instantiate Label Encoder for \"Churn\"\n",
    "\n",
    "le = LabelEncoder()"
   ]
  },
  {
   "cell_type": "code",
   "execution_count": 131,
   "metadata": {},
   "outputs": [],
   "source": [
    "y_train_val = le.fit_transform(y_train_val)"
   ]
  },
  {
   "cell_type": "code",
   "execution_count": 132,
   "metadata": {},
   "outputs": [
    {
     "data": {
      "text/plain": [
       "array([0, 0, 0, ..., 0, 1, 0])"
      ]
     },
     "execution_count": 132,
     "metadata": {},
     "output_type": "execute_result"
    }
   ],
   "source": [
    "y_train_val"
   ]
  },
  {
   "cell_type": "markdown",
   "metadata": {},
   "source": [
    "### Train-Test Split"
   ]
  },
  {
   "cell_type": "code",
   "execution_count": 133,
   "metadata": {},
   "outputs": [
    {
     "name": "stdout",
     "output_type": "stream",
     "text": [
      "(1999, 20) (667, 20) (1999,) (667,)\n"
     ]
    }
   ],
   "source": [
    "# Split data into training and test sets\n",
    "\n",
    "X_train, X_test, y_train, y_test = train_test_split(X_train_val, y_train_val, test_size=0.25)\n",
    "\n",
    "print(X_train.shape, X_test.shape, y_train.shape, y_test.shape)"
   ]
  },
  {
   "cell_type": "markdown",
   "metadata": {},
   "source": [
    "---"
   ]
  },
  {
   "cell_type": "markdown",
   "metadata": {},
   "source": [
    "<p><a name=\"sel\"></a></p>\n",
    "\n",
    "### Feature Selection"
   ]
  },
  {
   "cell_type": "code",
   "execution_count": 134,
   "metadata": {},
   "outputs": [
    {
     "data": {
      "image/png": "[encoded data removed]",
      "text/plain": [
       "<Figure size 432x288 with 2 Axes>"
      ]
     },
     "metadata": {},
     "output_type": "display_data"
    }
   ],
   "source": [
    "mask = np.zeros_like(X_train.corr())\n",
    "mask[np.triu_indices_from(mask)] = 1\n",
    "sns.heatmap(X_train.corr(), mask= mask, linewidth=0.7, cmap='RdYlGn') \n",
    "plt.show()"
   ]
  },
  {
   "cell_type": "markdown",
   "metadata": {},
   "source": [
    "**Insights:**\n",
    "- Following features are highly correlated\n",
    "    - Day_Mins & Day_Charge\n",
    "    - Eve_Mins & Eve_Charge\n",
    "    - Night_Mins & Night_Charge\n",
    "    - Intl_Mins & Intl_Charge\n",
    "- Either set are candidates for being dropped or their combination for feature engineering"
   ]
  },
  {
   "cell_type": "markdown",
   "metadata": {},
   "source": [
    "---"
   ]
  },
  {
   "cell_type": "markdown",
   "metadata": {},
   "source": [
    "<p><a name=\"dp\"></a></p>\n",
    "\n",
    "## Data Preprocessing"
   ]
  },
  {
   "cell_type": "markdown",
   "metadata": {},
   "source": [
    "<p><a name=\"engg\"></a></p>\n",
    "\n",
    "### Feature Engineering"
   ]
  },
  {
   "cell_type": "code",
   "execution_count": 135,
   "metadata": {},
   "outputs": [],
   "source": [
    "class CategoricalTransformer(BaseEstimator, TransformerMixin):\n",
    "    \n",
    "    '''\n",
    "    Descr:\n",
    "    This class contains methods to undertake categorical transformations\n",
    "    on features and its output will be used as CustomTransfomers \n",
    "    in the pipeline functionality to prevent data leakage and also\n",
    "    automate categorical transformations on unseen data.\n",
    "    \n",
    "    Tasks performed by transform() method:\n",
    "    1. Drops columns not required / provide no predictive information the model\n",
    "\n",
    "    I/P:\n",
    "    1. Features dataframe to perform transformation on\n",
    "    2. Names of categorical features to be dropped\n",
    "\n",
    "    O/P:\n",
    "    numpy array of transformed categorical features\n",
    "    '''    \n",
    "    \n",
    "    # Class constructor\n",
    "    def __init__(self, drop_cat_features):\n",
    "        self.drop_cat_features = drop_cat_features\n",
    "    \n",
    "    # fit method - does nothing and returns self\n",
    "    def fit(self, X, y=None):\n",
    "        return self\n",
    "    \n",
    "    # transform method for custom transformations\n",
    "    def transform(self, X, y=None):\n",
    "        \n",
    "        # Doing this to avoid Chained Indexing error:\n",
    "        # \"SettingWithCopyWarning: A value is trying to be set on a copy of a slice from a DataFrame\"\n",
    "        X1 = X.copy()\n",
    "        \n",
    "        # Dropping columns\n",
    "        X1.drop(self.drop_cat_features, axis=1, inplace=True)\n",
    "\n",
    "        # Return numpy array of transformed numerical features\n",
    "        return X1 "
   ]
  },
  {
   "cell_type": "code",
   "execution_count": 136,
   "metadata": {},
   "outputs": [],
   "source": [
    "class NumericalTransformer(BaseEstimator, TransformerMixin):\n",
    "    \n",
    "    '''\n",
    "    Descr:\n",
    "    This class contains methods to undertake numerical transformations\n",
    "    on features and its output will be used as CustomTransfomers \n",
    "    in the pipeline functionality to prevent data leakage and also\n",
    "    automate numerical transformations on unseen data.\n",
    "    For it to qualify as a transformer, it will contain the .fit()\n",
    "    and .transform() methods and we'll be inheriting from 2 classes\n",
    "    that faciliate this class being a transformer.\n",
    "    \n",
    "    Tasks performed by transform() method:\n",
    "    1. Drops columns not required / provide no predictive information the model\n",
    "    2. Create binary column of features that are highly skewed to 1 value\n",
    "\n",
    "    I/P:\n",
    "    1. Features dataframe to perform transformation on\n",
    "    2. Names of numerical features to be dropped\n",
    "    3. Print flag to see names of columns after transformation. Defaulted\n",
    "        to 'N' if not passed as 'Y'\n",
    "\n",
    "    O/P:\n",
    "    numpy array of transformed numerical features\n",
    "    '''    \n",
    "    \n",
    "    # Class constructor\n",
    "    def __init__(self, numerical_features, drop_num_features, my_print='N'):\n",
    "        self.numerical_features = numerical_features\n",
    "        self.drop_num_features = drop_num_features\n",
    "        self.my_print = my_print\n",
    "    \n",
    "    # fit method - does nothing and returns self\n",
    "    def fit(self, X, y=None):\n",
    "        return self\n",
    "    \n",
    "    # Binarize method\n",
    "    def binarize(self, obj):\n",
    "        if obj == 0:\n",
    "            return 0\n",
    "        else:\n",
    "            return 1\n",
    "\n",
    "    \n",
    "    # transform method for custom transformations\n",
    "    def transform(self, X, y=None):\n",
    "        \n",
    "        X = pd.DataFrame(X, columns=self.numerical_features)\n",
    "        \n",
    "        # Doing this to avoid Chained Indexing error:\n",
    "        # \"SettingWithCopyWarning: A value is trying to be set on a copy of a slice from a DataFrame\"\n",
    "        X1 = X.copy()\n",
    "        \n",
    "        # Binarize columns\n",
    "        X1.loc[:,'Vmail_Message_b'] = X1['Vmail_Message'].apply(self.binarize)\n",
    "\n",
    "        # Dropping columns\n",
    "        X1.drop(self.drop_num_features, axis=1, inplace=True)\n",
    "\n",
    "        if self.my_print == 'Y':\n",
    "            print('Transformed Numerical Features\\' column names:\\n', list(X1.columns))\n",
    "    \n",
    "        # Return numpy array of transformed numerical features\n",
    "        return X1    #X1.values"
   ]
  },
  {
   "cell_type": "code",
   "execution_count": 137,
   "metadata": {},
   "outputs": [],
   "source": [
    "# Tagging features for transformations\n",
    "\n",
    "# Lists of Categorical features:\n",
    "# Features for (1) dropping 'Phone' (2) imputation (3) Ordinal encoding\n",
    "features_for_pipe_cat_imp_oe = ['Intl_Plan', 'Vmail_Plan', 'Phone']\n",
    "    \n",
    "# Features for (1) imputation (2) OneHot encoding\n",
    "features_for_ohe = ['State']\n",
    "\n",
    "features_dropped_cat = ['Phone']\n",
    "\n",
    "\n",
    "# Lists of Numerical features:\n",
    "features_for_pipe_num_imp = features_num\n",
    "features_for_pipe_num_imp_ss = features_num\n",
    "features_for_pipe_num_imp_norm = features_num\n",
    "\n",
    "features_dropped_num = ['Day_Mins','Eve_Mins','Night_Mins','Intl_Mins',\\\n",
    "                        'Vmail_Message','Area_Code']"
   ]
  },
  {
   "cell_type": "code",
   "execution_count": 138,
   "metadata": {},
   "outputs": [],
   "source": [
    "# Instantiate all transformers to be used in the \n",
    "# Column Transformer (i.e., Preprocessor)\n",
    "\n",
    "# Categorical tranformers\n",
    "cat_transformer = CategoricalTransformer(features_dropped_cat)\n",
    "imp_mode_c = SimpleImputer(strategy='most_frequent')\n",
    "oe = OrdinalEncoder()\n",
    "ohe = OneHotEncoder()\n",
    "\n",
    "# Numerical transformers\n",
    "imp_median_n = SimpleImputer(strategy='median')\n",
    "# Instantiate with 3rd argument 'Y' to see column names of tranformed features\n",
    "num_transformer = NumericalTransformer(features_num, features_dropped_num, 'N')\n",
    "ss = StandardScaler()\n",
    "norm = Normalizer()"
   ]
  },
  {
   "cell_type": "code",
   "execution_count": 139,
   "metadata": {},
   "outputs": [],
   "source": [
    "# Pipelines of transformations (no model yet)\n",
    "\n",
    "# Categorical pipelines of transformations\n",
    "\n",
    "# Pipeline for (1) dropping 'Phone' (2) imputation (3) Ordinal encoding\n",
    "pipe_cat_imp_oe = make_pipeline(cat_transformer, imp_mode_c, oe)\n",
    "\n",
    "# Pipeline for (1) imputation (2) OneHot encoding\n",
    "pipe_imp_ohe = make_pipeline(imp_mode_c, ohe)\n",
    "\n",
    "\n",
    "# Numerical pipelines of transformations\n",
    "# Pipeline for (1) imputation (2) Numerical transformations\n",
    "pipe_num_imp = make_pipeline(imp_median_n, num_transformer)\n",
    "\n",
    "# Pipeline for (1) imputation (2) Numerical transformations (3) Standardizing\n",
    "pipe_num_imp_ss = make_pipeline(imp_median_n, num_transformer, ss)\n",
    "\n",
    "# Pipeline for (1) imputation (2) Numerical transformations (3) Normalizing\n",
    "pipe_num_imp_norm = make_pipeline(imp_median_n, num_transformer, norm)"
   ]
  },
  {
   "cell_type": "code",
   "execution_count": 140,
   "metadata": {},
   "outputs": [],
   "source": [
    "# Utilizing Column Transformer for transformations\n",
    "\n",
    "preprocessor = make_column_transformer(\n",
    "    (pipe_cat_imp_oe, features_for_pipe_cat_imp_oe)\n",
    "    ,(pipe_imp_ohe, features_for_ohe)\n",
    "    ,(pipe_num_imp, features_for_pipe_num_imp)\n",
    "    ,remainder='passthrough') "
   ]
  },
  {
   "cell_type": "code",
   "execution_count": 141,
   "metadata": {},
   "outputs": [],
   "source": [
    "# Utilizing Column Transformer for transformations (including standardizing features)\n",
    "\n",
    "preprocessor_ss = make_column_transformer(\n",
    "    (pipe_cat_imp_oe, features_for_pipe_cat_imp_oe)\n",
    "    ,(pipe_imp_ohe, features_for_ohe)\n",
    "    ,(pipe_num_imp_ss, features_for_pipe_num_imp_ss)\n",
    "    ,remainder='passthrough') "
   ]
  },
  {
   "cell_type": "code",
   "execution_count": 142,
   "metadata": {},
   "outputs": [],
   "source": [
    "# Utilizing Column Transformer for transformations (including normalizing features)\n",
    "\n",
    "preprocessor_norm = make_column_transformer(\n",
    "    (pipe_cat_imp_oe, features_for_pipe_cat_imp_oe)\n",
    "    ,(pipe_imp_ohe, features_for_ohe)\n",
    "    ,(pipe_num_imp_norm, features_for_pipe_num_imp_norm)\n",
    "    ,remainder='passthrough') "
   ]
  },
  {
   "cell_type": "code",
   "execution_count": 143,
   "metadata": {
    "scrolled": true
   },
   "outputs": [
    {
     "data": {
      "text/plain": [
       "<1999x64 sparse matrix of type '<class 'numpy.float64'>'\n",
       "\twith 22848 stored elements in Compressed Sparse Row format>"
      ]
     },
     "execution_count": 143,
     "metadata": {},
     "output_type": "execute_result"
    }
   ],
   "source": [
    "preprocessor.fit_transform(X_train)"
   ]
  },
  {
   "cell_type": "code",
   "execution_count": 144,
   "metadata": {},
   "outputs": [
    {
     "data": {
      "text/plain": [
       "<1999x64 sparse matrix of type '<class 'numpy.float64'>'\n",
       "\twith 24735 stored elements in Compressed Sparse Row format>"
      ]
     },
     "execution_count": 144,
     "metadata": {},
     "output_type": "execute_result"
    }
   ],
   "source": [
    "preprocessor_ss.fit_transform(X_train)"
   ]
  },
  {
   "cell_type": "code",
   "execution_count": 145,
   "metadata": {},
   "outputs": [
    {
     "data": {
      "text/plain": [
       "<1999x64 sparse matrix of type '<class 'numpy.float64'>'\n",
       "\twith 22848 stored elements in Compressed Sparse Row format>"
      ]
     },
     "execution_count": 145,
     "metadata": {},
     "output_type": "execute_result"
    }
   ],
   "source": [
    "preprocessor_norm.fit_transform(X_train)"
   ]
  },
  {
   "cell_type": "markdown",
   "metadata": {},
   "source": [
    "#### Deriving column names of OneHot encoded 'State' feature\n",
    "\n",
    "- Will record a df of the transformed features in **\"X_train_tf\"** (excludes standardized columns)\n",
    "- Will record a df of the transformed features in **\"X_train_tf_ss\"** (includes standardized columns)\n",
    "- Will record a df of the transformed features in **\"X_train_tf_norm\"** (includes normalized columns)"
   ]
  },
  {
   "cell_type": "code",
   "execution_count": 146,
   "metadata": {},
   "outputs": [
    {
     "name": "stdout",
     "output_type": "stream",
     "text": [
      "Number of OHE columns created from \"State\" =  51\n",
      "Number of unique values in \"State\"         =  51\n"
     ]
    }
   ],
   "source": [
    "# Deriving the column names for the OneHot encoded 'State'\n",
    "\n",
    "features_transformed_ohe = list(preprocessor.transformers_[1][1].named_steps['onehotencoder'].get_feature_names())\n",
    "\n",
    "# Quick check\n",
    "print('Number of OHE columns created from \"State\" = ', len(features_transformed_ohe))\n",
    "print('Number of unique values in \"State\"         = ', churn_data['State'].nunique())"
   ]
  },
  {
   "cell_type": "code",
   "execution_count": 147,
   "metadata": {},
   "outputs": [],
   "source": [
    "# Deriving the column names of the transformed df\n",
    "\n",
    "# Leveraing feature names that were provided to the column\n",
    "# transformer, output from ohe and the output of the numerical transformer\n",
    "features_transformed_incl_dropped = features_for_pipe_cat_imp_oe + \\\n",
    "features_transformed_ohe + \\\n",
    "['Account_Length', 'CustServ_Calls', 'Day_Calls', 'Day_Charge', \\\n",
    " 'Eve_Calls', 'Eve_Charge', 'Night_Calls', 'Night_Charge', \\\n",
    " 'Intl_Calls', 'Intl_Charge', 'Vmail_Message_b']\n",
    "\n",
    "# Leveraging feature names provided as input to the dropped\n",
    "features_dropped_all = features_dropped_cat + features_dropped_num\n",
    "\n",
    "\n",
    "# Forming a list of transformed features by removing dropped \n",
    "# columns from the list\n",
    "features_transformed = [col for col in features_transformed_incl_dropped if col not in features_dropped_all]"
   ]
  },
  {
   "cell_type": "code",
   "execution_count": 148,
   "metadata": {},
   "outputs": [
    {
     "name": "stdout",
     "output_type": "stream",
     "text": [
      "\n",
      "# columns from transformation = 64\n",
      "# column names derived        = 64\n"
     ]
    }
   ],
   "source": [
    "# Check the transformed features column name count\n",
    "# versus the shape of the transformed array\n",
    "\n",
    "print('\\n# columns from transformation =', preprocessor.fit_transform(X_train).toarray().shape[1])\n",
    "print('# column names derived        =', len(features_transformed))"
   ]
  },
  {
   "cell_type": "code",
   "execution_count": 149,
   "metadata": {
    "scrolled": true
   },
   "outputs": [
    {
     "data": {
      "text/html": [
       "<div>\n",
       "<style scoped>\n",
       "    .dataframe tbody tr th:only-of-type {\n",
       "        vertical-align: middle;\n",
       "    }\n",
       "\n",
       "    .dataframe tbody tr th {\n",
       "        vertical-align: top;\n",
       "    }\n",
       "\n",
       "    .dataframe thead th {\n",
       "        text-align: right;\n",
       "    }\n",
       "</style>\n",
       "<table border=\"1\" class=\"dataframe\">\n",
       "  <thead>\n",
       "    <tr style=\"text-align: right;\">\n",
       "      <th></th>\n",
       "      <th>Intl_Plan</th>\n",
       "      <th>Vmail_Plan</th>\n",
       "      <th>x0_AK</th>\n",
       "      <th>x0_AL</th>\n",
       "      <th>x0_AR</th>\n",
       "      <th>x0_AZ</th>\n",
       "      <th>x0_CA</th>\n",
       "      <th>x0_CO</th>\n",
       "      <th>x0_CT</th>\n",
       "      <th>x0_DC</th>\n",
       "      <th>...</th>\n",
       "      <th>CustServ_Calls</th>\n",
       "      <th>Day_Calls</th>\n",
       "      <th>Day_Charge</th>\n",
       "      <th>Eve_Calls</th>\n",
       "      <th>Eve_Charge</th>\n",
       "      <th>Night_Calls</th>\n",
       "      <th>Night_Charge</th>\n",
       "      <th>Intl_Calls</th>\n",
       "      <th>Intl_Charge</th>\n",
       "      <th>Vmail_Message_b</th>\n",
       "    </tr>\n",
       "  </thead>\n",
       "  <tbody>\n",
       "    <tr>\n",
       "      <th>0</th>\n",
       "      <td>1.0</td>\n",
       "      <td>0.0</td>\n",
       "      <td>0.0</td>\n",
       "      <td>0.0</td>\n",
       "      <td>0.0</td>\n",
       "      <td>0.0</td>\n",
       "      <td>0.0</td>\n",
       "      <td>0.0</td>\n",
       "      <td>0.0</td>\n",
       "      <td>0.0</td>\n",
       "      <td>...</td>\n",
       "      <td>4.0</td>\n",
       "      <td>127.0</td>\n",
       "      <td>33.52</td>\n",
       "      <td>92.0</td>\n",
       "      <td>13.26</td>\n",
       "      <td>99.0</td>\n",
       "      <td>9.18</td>\n",
       "      <td>6.0</td>\n",
       "      <td>2.67</td>\n",
       "      <td>0.0</td>\n",
       "    </tr>\n",
       "    <tr>\n",
       "      <th>1</th>\n",
       "      <td>0.0</td>\n",
       "      <td>1.0</td>\n",
       "      <td>0.0</td>\n",
       "      <td>0.0</td>\n",
       "      <td>0.0</td>\n",
       "      <td>0.0</td>\n",
       "      <td>0.0</td>\n",
       "      <td>0.0</td>\n",
       "      <td>0.0</td>\n",
       "      <td>0.0</td>\n",
       "      <td>...</td>\n",
       "      <td>2.0</td>\n",
       "      <td>88.0</td>\n",
       "      <td>40.46</td>\n",
       "      <td>84.0</td>\n",
       "      <td>17.82</td>\n",
       "      <td>95.0</td>\n",
       "      <td>10.49</td>\n",
       "      <td>5.0</td>\n",
       "      <td>2.70</td>\n",
       "      <td>1.0</td>\n",
       "    </tr>\n",
       "    <tr>\n",
       "      <th>2</th>\n",
       "      <td>1.0</td>\n",
       "      <td>0.0</td>\n",
       "      <td>0.0</td>\n",
       "      <td>0.0</td>\n",
       "      <td>0.0</td>\n",
       "      <td>0.0</td>\n",
       "      <td>1.0</td>\n",
       "      <td>0.0</td>\n",
       "      <td>0.0</td>\n",
       "      <td>0.0</td>\n",
       "      <td>...</td>\n",
       "      <td>1.0</td>\n",
       "      <td>89.0</td>\n",
       "      <td>41.58</td>\n",
       "      <td>80.0</td>\n",
       "      <td>16.05</td>\n",
       "      <td>114.0</td>\n",
       "      <td>9.27</td>\n",
       "      <td>4.0</td>\n",
       "      <td>3.05</td>\n",
       "      <td>0.0</td>\n",
       "    </tr>\n",
       "    <tr>\n",
       "      <th>3</th>\n",
       "      <td>1.0</td>\n",
       "      <td>1.0</td>\n",
       "      <td>0.0</td>\n",
       "      <td>0.0</td>\n",
       "      <td>0.0</td>\n",
       "      <td>0.0</td>\n",
       "      <td>0.0</td>\n",
       "      <td>0.0</td>\n",
       "      <td>0.0</td>\n",
       "      <td>0.0</td>\n",
       "      <td>...</td>\n",
       "      <td>0.0</td>\n",
       "      <td>109.0</td>\n",
       "      <td>37.43</td>\n",
       "      <td>99.0</td>\n",
       "      <td>15.75</td>\n",
       "      <td>82.0</td>\n",
       "      <td>9.23</td>\n",
       "      <td>2.0</td>\n",
       "      <td>1.11</td>\n",
       "      <td>1.0</td>\n",
       "    </tr>\n",
       "    <tr>\n",
       "      <th>4</th>\n",
       "      <td>0.0</td>\n",
       "      <td>1.0</td>\n",
       "      <td>0.0</td>\n",
       "      <td>0.0</td>\n",
       "      <td>1.0</td>\n",
       "      <td>0.0</td>\n",
       "      <td>0.0</td>\n",
       "      <td>0.0</td>\n",
       "      <td>0.0</td>\n",
       "      <td>0.0</td>\n",
       "      <td>...</td>\n",
       "      <td>3.0</td>\n",
       "      <td>96.0</td>\n",
       "      <td>34.78</td>\n",
       "      <td>93.0</td>\n",
       "      <td>11.56</td>\n",
       "      <td>82.0</td>\n",
       "      <td>9.47</td>\n",
       "      <td>2.0</td>\n",
       "      <td>1.78</td>\n",
       "      <td>1.0</td>\n",
       "    </tr>\n",
       "  </tbody>\n",
       "</table>\n",
       "<p>5 rows × 64 columns</p>\n",
       "</div>"
      ],
      "text/plain": [
       "   Intl_Plan  Vmail_Plan  x0_AK  x0_AL  x0_AR  x0_AZ  x0_CA  x0_CO  x0_CT  \\\n",
       "0        1.0         0.0    0.0    0.0    0.0    0.0    0.0    0.0    0.0   \n",
       "1        0.0         1.0    0.0    0.0    0.0    0.0    0.0    0.0    0.0   \n",
       "2        1.0         0.0    0.0    0.0    0.0    0.0    1.0    0.0    0.0   \n",
       "3        1.0         1.0    0.0    0.0    0.0    0.0    0.0    0.0    0.0   \n",
       "4        0.0         1.0    0.0    0.0    1.0    0.0    0.0    0.0    0.0   \n",
       "\n",
       "   x0_DC  ...  CustServ_Calls  Day_Calls  Day_Charge  Eve_Calls  Eve_Charge  \\\n",
       "0    0.0  ...             4.0      127.0       33.52       92.0       13.26   \n",
       "1    0.0  ...             2.0       88.0       40.46       84.0       17.82   \n",
       "2    0.0  ...             1.0       89.0       41.58       80.0       16.05   \n",
       "3    0.0  ...             0.0      109.0       37.43       99.0       15.75   \n",
       "4    0.0  ...             3.0       96.0       34.78       93.0       11.56   \n",
       "\n",
       "   Night_Calls  Night_Charge  Intl_Calls  Intl_Charge  Vmail_Message_b  \n",
       "0         99.0          9.18         6.0         2.67              0.0  \n",
       "1         95.0         10.49         5.0         2.70              1.0  \n",
       "2        114.0          9.27         4.0         3.05              0.0  \n",
       "3         82.0          9.23         2.0         1.11              1.0  \n",
       "4         82.0          9.47         2.0         1.78              1.0  \n",
       "\n",
       "[5 rows x 64 columns]"
      ]
     },
     "execution_count": 149,
     "metadata": {},
     "output_type": "execute_result"
    }
   ],
   "source": [
    "# Forming transformed DF with transformed features\n",
    "\n",
    "X_train_tf = pd.DataFrame(preprocessor.fit_transform(X_train).toarray(), columns=features_transformed)\n",
    "X_train_tf.head()"
   ]
  },
  {
   "cell_type": "code",
   "execution_count": 150,
   "metadata": {},
   "outputs": [
    {
     "data": {
      "text/html": [
       "<div>\n",
       "<style scoped>\n",
       "    .dataframe tbody tr th:only-of-type {\n",
       "        vertical-align: middle;\n",
       "    }\n",
       "\n",
       "    .dataframe tbody tr th {\n",
       "        vertical-align: top;\n",
       "    }\n",
       "\n",
       "    .dataframe thead th {\n",
       "        text-align: right;\n",
       "    }\n",
       "</style>\n",
       "<table border=\"1\" class=\"dataframe\">\n",
       "  <thead>\n",
       "    <tr style=\"text-align: right;\">\n",
       "      <th></th>\n",
       "      <th>Intl_Plan</th>\n",
       "      <th>Vmail_Plan</th>\n",
       "      <th>x0_AK</th>\n",
       "      <th>x0_AL</th>\n",
       "      <th>x0_AR</th>\n",
       "      <th>x0_AZ</th>\n",
       "      <th>x0_CA</th>\n",
       "      <th>x0_CO</th>\n",
       "      <th>x0_CT</th>\n",
       "      <th>x0_DC</th>\n",
       "      <th>...</th>\n",
       "      <th>CustServ_Calls</th>\n",
       "      <th>Day_Calls</th>\n",
       "      <th>Day_Charge</th>\n",
       "      <th>Eve_Calls</th>\n",
       "      <th>Eve_Charge</th>\n",
       "      <th>Night_Calls</th>\n",
       "      <th>Night_Charge</th>\n",
       "      <th>Intl_Calls</th>\n",
       "      <th>Intl_Charge</th>\n",
       "      <th>Vmail_Message_b</th>\n",
       "    </tr>\n",
       "  </thead>\n",
       "  <tbody>\n",
       "    <tr>\n",
       "      <th>0</th>\n",
       "      <td>1.0</td>\n",
       "      <td>0.0</td>\n",
       "      <td>0.0</td>\n",
       "      <td>0.0</td>\n",
       "      <td>0.0</td>\n",
       "      <td>0.0</td>\n",
       "      <td>0.0</td>\n",
       "      <td>0.0</td>\n",
       "      <td>0.0</td>\n",
       "      <td>0.0</td>\n",
       "      <td>...</td>\n",
       "      <td>1.839132</td>\n",
       "      <td>1.333574</td>\n",
       "      <td>0.300530</td>\n",
       "      <td>-0.389945</td>\n",
       "      <td>-0.866588</td>\n",
       "      <td>-0.053210</td>\n",
       "      <td>0.056853</td>\n",
       "      <td>0.601808</td>\n",
       "      <td>-0.148292</td>\n",
       "      <td>-0.624600</td>\n",
       "    </tr>\n",
       "    <tr>\n",
       "      <th>1</th>\n",
       "      <td>0.0</td>\n",
       "      <td>1.0</td>\n",
       "      <td>0.0</td>\n",
       "      <td>0.0</td>\n",
       "      <td>0.0</td>\n",
       "      <td>0.0</td>\n",
       "      <td>0.0</td>\n",
       "      <td>0.0</td>\n",
       "      <td>0.0</td>\n",
       "      <td>0.0</td>\n",
       "      <td>...</td>\n",
       "      <td>0.330236</td>\n",
       "      <td>-0.642229</td>\n",
       "      <td>1.030513</td>\n",
       "      <td>-0.788794</td>\n",
       "      <td>0.189823</td>\n",
       "      <td>-0.256782</td>\n",
       "      <td>0.632349</td>\n",
       "      <td>0.196343</td>\n",
       "      <td>-0.108906</td>\n",
       "      <td>1.601025</td>\n",
       "    </tr>\n",
       "    <tr>\n",
       "      <th>2</th>\n",
       "      <td>1.0</td>\n",
       "      <td>0.0</td>\n",
       "      <td>0.0</td>\n",
       "      <td>0.0</td>\n",
       "      <td>0.0</td>\n",
       "      <td>0.0</td>\n",
       "      <td>1.0</td>\n",
       "      <td>0.0</td>\n",
       "      <td>0.0</td>\n",
       "      <td>0.0</td>\n",
       "      <td>...</td>\n",
       "      <td>-0.424212</td>\n",
       "      <td>-0.591568</td>\n",
       "      <td>1.148321</td>\n",
       "      <td>-0.988219</td>\n",
       "      <td>-0.220232</td>\n",
       "      <td>0.710186</td>\n",
       "      <td>0.096391</td>\n",
       "      <td>-0.209122</td>\n",
       "      <td>0.350604</td>\n",
       "      <td>-0.624600</td>\n",
       "    </tr>\n",
       "    <tr>\n",
       "      <th>3</th>\n",
       "      <td>1.0</td>\n",
       "      <td>1.0</td>\n",
       "      <td>0.0</td>\n",
       "      <td>0.0</td>\n",
       "      <td>0.0</td>\n",
       "      <td>0.0</td>\n",
       "      <td>0.0</td>\n",
       "      <td>0.0</td>\n",
       "      <td>0.0</td>\n",
       "      <td>0.0</td>\n",
       "      <td>...</td>\n",
       "      <td>-1.178660</td>\n",
       "      <td>0.421665</td>\n",
       "      <td>0.711803</td>\n",
       "      <td>-0.040952</td>\n",
       "      <td>-0.289732</td>\n",
       "      <td>-0.918391</td>\n",
       "      <td>0.078819</td>\n",
       "      <td>-1.020051</td>\n",
       "      <td>-2.196394</td>\n",
       "      <td>1.601025</td>\n",
       "    </tr>\n",
       "    <tr>\n",
       "      <th>4</th>\n",
       "      <td>0.0</td>\n",
       "      <td>1.0</td>\n",
       "      <td>0.0</td>\n",
       "      <td>0.0</td>\n",
       "      <td>1.0</td>\n",
       "      <td>0.0</td>\n",
       "      <td>0.0</td>\n",
       "      <td>0.0</td>\n",
       "      <td>0.0</td>\n",
       "      <td>0.0</td>\n",
       "      <td>...</td>\n",
       "      <td>1.084684</td>\n",
       "      <td>-0.236936</td>\n",
       "      <td>0.433063</td>\n",
       "      <td>-0.340089</td>\n",
       "      <td>-1.260425</td>\n",
       "      <td>-0.918391</td>\n",
       "      <td>0.184253</td>\n",
       "      <td>-1.020051</td>\n",
       "      <td>-1.316761</td>\n",
       "      <td>1.601025</td>\n",
       "    </tr>\n",
       "  </tbody>\n",
       "</table>\n",
       "<p>5 rows × 64 columns</p>\n",
       "</div>"
      ],
      "text/plain": [
       "   Intl_Plan  Vmail_Plan  x0_AK  x0_AL  x0_AR  x0_AZ  x0_CA  x0_CO  x0_CT  \\\n",
       "0        1.0         0.0    0.0    0.0    0.0    0.0    0.0    0.0    0.0   \n",
       "1        0.0         1.0    0.0    0.0    0.0    0.0    0.0    0.0    0.0   \n",
       "2        1.0         0.0    0.0    0.0    0.0    0.0    1.0    0.0    0.0   \n",
       "3        1.0         1.0    0.0    0.0    0.0    0.0    0.0    0.0    0.0   \n",
       "4        0.0         1.0    0.0    0.0    1.0    0.0    0.0    0.0    0.0   \n",
       "\n",
       "   x0_DC  ...  CustServ_Calls  Day_Calls  Day_Charge  Eve_Calls  Eve_Charge  \\\n",
       "0    0.0  ...        1.839132   1.333574    0.300530  -0.389945   -0.866588   \n",
       "1    0.0  ...        0.330236  -0.642229    1.030513  -0.788794    0.189823   \n",
       "2    0.0  ...       -0.424212  -0.591568    1.148321  -0.988219   -0.220232   \n",
       "3    0.0  ...       -1.178660   0.421665    0.711803  -0.040952   -0.289732   \n",
       "4    0.0  ...        1.084684  -0.236936    0.433063  -0.340089   -1.260425   \n",
       "\n",
       "   Night_Calls  Night_Charge  Intl_Calls  Intl_Charge  Vmail_Message_b  \n",
       "0    -0.053210      0.056853    0.601808    -0.148292        -0.624600  \n",
       "1    -0.256782      0.632349    0.196343    -0.108906         1.601025  \n",
       "2     0.710186      0.096391   -0.209122     0.350604        -0.624600  \n",
       "3    -0.918391      0.078819   -1.020051    -2.196394         1.601025  \n",
       "4    -0.918391      0.184253   -1.020051    -1.316761         1.601025  \n",
       "\n",
       "[5 rows x 64 columns]"
      ]
     },
     "execution_count": 150,
     "metadata": {},
     "output_type": "execute_result"
    }
   ],
   "source": [
    "# Forming transformed DF with transformed features (features standardized)\n",
    "\n",
    "X_train_tf_ss = pd.DataFrame(preprocessor_ss.fit_transform(X_train).toarray(), columns=features_transformed)\n",
    "X_train_tf_ss.head()"
   ]
  },
  {
   "cell_type": "code",
   "execution_count": 151,
   "metadata": {},
   "outputs": [
    {
     "data": {
      "text/html": [
       "<div>\n",
       "<style scoped>\n",
       "    .dataframe tbody tr th:only-of-type {\n",
       "        vertical-align: middle;\n",
       "    }\n",
       "\n",
       "    .dataframe tbody tr th {\n",
       "        vertical-align: top;\n",
       "    }\n",
       "\n",
       "    .dataframe thead th {\n",
       "        text-align: right;\n",
       "    }\n",
       "</style>\n",
       "<table border=\"1\" class=\"dataframe\">\n",
       "  <thead>\n",
       "    <tr style=\"text-align: right;\">\n",
       "      <th></th>\n",
       "      <th>Intl_Plan</th>\n",
       "      <th>Vmail_Plan</th>\n",
       "      <th>x0_AK</th>\n",
       "      <th>x0_AL</th>\n",
       "      <th>x0_AR</th>\n",
       "      <th>x0_AZ</th>\n",
       "      <th>x0_CA</th>\n",
       "      <th>x0_CO</th>\n",
       "      <th>x0_CT</th>\n",
       "      <th>x0_DC</th>\n",
       "      <th>...</th>\n",
       "      <th>CustServ_Calls</th>\n",
       "      <th>Day_Calls</th>\n",
       "      <th>Day_Charge</th>\n",
       "      <th>Eve_Calls</th>\n",
       "      <th>Eve_Charge</th>\n",
       "      <th>Night_Calls</th>\n",
       "      <th>Night_Charge</th>\n",
       "      <th>Intl_Calls</th>\n",
       "      <th>Intl_Charge</th>\n",
       "      <th>Vmail_Message_b</th>\n",
       "    </tr>\n",
       "  </thead>\n",
       "  <tbody>\n",
       "    <tr>\n",
       "      <th>0</th>\n",
       "      <td>1.0</td>\n",
       "      <td>0.0</td>\n",
       "      <td>0.0</td>\n",
       "      <td>0.0</td>\n",
       "      <td>0.0</td>\n",
       "      <td>0.0</td>\n",
       "      <td>0.0</td>\n",
       "      <td>0.0</td>\n",
       "      <td>0.0</td>\n",
       "      <td>0.0</td>\n",
       "      <td>...</td>\n",
       "      <td>0.018724</td>\n",
       "      <td>0.594486</td>\n",
       "      <td>0.156907</td>\n",
       "      <td>0.430651</td>\n",
       "      <td>0.062070</td>\n",
       "      <td>0.463418</td>\n",
       "      <td>0.042971</td>\n",
       "      <td>0.028086</td>\n",
       "      <td>0.012498</td>\n",
       "      <td>0.000000</td>\n",
       "    </tr>\n",
       "    <tr>\n",
       "      <th>1</th>\n",
       "      <td>0.0</td>\n",
       "      <td>1.0</td>\n",
       "      <td>0.0</td>\n",
       "      <td>0.0</td>\n",
       "      <td>0.0</td>\n",
       "      <td>0.0</td>\n",
       "      <td>0.0</td>\n",
       "      <td>0.0</td>\n",
       "      <td>0.0</td>\n",
       "      <td>0.0</td>\n",
       "      <td>...</td>\n",
       "      <td>0.010522</td>\n",
       "      <td>0.462979</td>\n",
       "      <td>0.212865</td>\n",
       "      <td>0.441935</td>\n",
       "      <td>0.093753</td>\n",
       "      <td>0.499807</td>\n",
       "      <td>0.055189</td>\n",
       "      <td>0.026306</td>\n",
       "      <td>0.014205</td>\n",
       "      <td>0.005261</td>\n",
       "    </tr>\n",
       "    <tr>\n",
       "      <th>2</th>\n",
       "      <td>1.0</td>\n",
       "      <td>0.0</td>\n",
       "      <td>0.0</td>\n",
       "      <td>0.0</td>\n",
       "      <td>0.0</td>\n",
       "      <td>0.0</td>\n",
       "      <td>1.0</td>\n",
       "      <td>0.0</td>\n",
       "      <td>0.0</td>\n",
       "      <td>0.0</td>\n",
       "      <td>...</td>\n",
       "      <td>0.004725</td>\n",
       "      <td>0.420524</td>\n",
       "      <td>0.196465</td>\n",
       "      <td>0.377999</td>\n",
       "      <td>0.075836</td>\n",
       "      <td>0.538649</td>\n",
       "      <td>0.043801</td>\n",
       "      <td>0.018900</td>\n",
       "      <td>0.014411</td>\n",
       "      <td>0.000000</td>\n",
       "    </tr>\n",
       "    <tr>\n",
       "      <th>3</th>\n",
       "      <td>1.0</td>\n",
       "      <td>1.0</td>\n",
       "      <td>0.0</td>\n",
       "      <td>0.0</td>\n",
       "      <td>0.0</td>\n",
       "      <td>0.0</td>\n",
       "      <td>0.0</td>\n",
       "      <td>0.0</td>\n",
       "      <td>0.0</td>\n",
       "      <td>0.0</td>\n",
       "      <td>...</td>\n",
       "      <td>0.000000</td>\n",
       "      <td>0.550733</td>\n",
       "      <td>0.189119</td>\n",
       "      <td>0.500207</td>\n",
       "      <td>0.079578</td>\n",
       "      <td>0.414313</td>\n",
       "      <td>0.046636</td>\n",
       "      <td>0.010105</td>\n",
       "      <td>0.005608</td>\n",
       "      <td>0.005053</td>\n",
       "    </tr>\n",
       "    <tr>\n",
       "      <th>4</th>\n",
       "      <td>0.0</td>\n",
       "      <td>1.0</td>\n",
       "      <td>0.0</td>\n",
       "      <td>0.0</td>\n",
       "      <td>1.0</td>\n",
       "      <td>0.0</td>\n",
       "      <td>0.0</td>\n",
       "      <td>0.0</td>\n",
       "      <td>0.0</td>\n",
       "      <td>0.0</td>\n",
       "      <td>...</td>\n",
       "      <td>0.016194</td>\n",
       "      <td>0.518199</td>\n",
       "      <td>0.187739</td>\n",
       "      <td>0.502006</td>\n",
       "      <td>0.062400</td>\n",
       "      <td>0.442629</td>\n",
       "      <td>0.051118</td>\n",
       "      <td>0.010796</td>\n",
       "      <td>0.009608</td>\n",
       "      <td>0.005398</td>\n",
       "    </tr>\n",
       "  </tbody>\n",
       "</table>\n",
       "<p>5 rows × 64 columns</p>\n",
       "</div>"
      ],
      "text/plain": [
       "   Intl_Plan  Vmail_Plan  x0_AK  x0_AL  x0_AR  x0_AZ  x0_CA  x0_CO  x0_CT  \\\n",
       "0        1.0         0.0    0.0    0.0    0.0    0.0    0.0    0.0    0.0   \n",
       "1        0.0         1.0    0.0    0.0    0.0    0.0    0.0    0.0    0.0   \n",
       "2        1.0         0.0    0.0    0.0    0.0    0.0    1.0    0.0    0.0   \n",
       "3        1.0         1.0    0.0    0.0    0.0    0.0    0.0    0.0    0.0   \n",
       "4        0.0         1.0    0.0    0.0    1.0    0.0    0.0    0.0    0.0   \n",
       "\n",
       "   x0_DC  ...  CustServ_Calls  Day_Calls  Day_Charge  Eve_Calls  Eve_Charge  \\\n",
       "0    0.0  ...        0.018724   0.594486    0.156907   0.430651    0.062070   \n",
       "1    0.0  ...        0.010522   0.462979    0.212865   0.441935    0.093753   \n",
       "2    0.0  ...        0.004725   0.420524    0.196465   0.377999    0.075836   \n",
       "3    0.0  ...        0.000000   0.550733    0.189119   0.500207    0.079578   \n",
       "4    0.0  ...        0.016194   0.518199    0.187739   0.502006    0.062400   \n",
       "\n",
       "   Night_Calls  Night_Charge  Intl_Calls  Intl_Charge  Vmail_Message_b  \n",
       "0     0.463418      0.042971    0.028086     0.012498         0.000000  \n",
       "1     0.499807      0.055189    0.026306     0.014205         0.005261  \n",
       "2     0.538649      0.043801    0.018900     0.014411         0.000000  \n",
       "3     0.414313      0.046636    0.010105     0.005608         0.005053  \n",
       "4     0.442629      0.051118    0.010796     0.009608         0.005398  \n",
       "\n",
       "[5 rows x 64 columns]"
      ]
     },
     "execution_count": 151,
     "metadata": {},
     "output_type": "execute_result"
    }
   ],
   "source": [
    "# Forming transformed DF with transformed features (features normalized)\n",
    "\n",
    "X_train_tf_norm = pd.DataFrame(preprocessor_norm.fit_transform(X_train).toarray(), columns=features_transformed)\n",
    "X_train_tf_norm.head()"
   ]
  },
  {
   "cell_type": "markdown",
   "metadata": {},
   "source": [
    "---"
   ]
  },
  {
   "cell_type": "markdown",
   "metadata": {},
   "source": [
    "<p><a name=\"mlm\"></a></p>\n",
    "\n",
    "## ML Models"
   ]
  },
  {
   "cell_type": "code",
   "execution_count": 152,
   "metadata": {},
   "outputs": [],
   "source": [
    "# Instantiate ML Models\n",
    "\n",
    "lr = LogisticRegression()\n",
    "rf = RandomForestClassifier()"
   ]
  },
  {
   "cell_type": "markdown",
   "metadata": {},
   "source": [
    "---"
   ]
  },
  {
   "cell_type": "markdown",
   "metadata": {},
   "source": [
    "<p><a name=\"skpipe\"></a></p>\n",
    "\n",
    "## Pipeline: sklearn"
   ]
  },
  {
   "cell_type": "markdown",
   "metadata": {},
   "source": [
    "Make Pipeline, train the pipeline, make predictions:\n",
    "\n",
    "_Legend:_\n",
    "- pipe : sklearn pipeline\n",
    "- imbpipe : Imbalanced-Learn pipeline\n",
    "- pp : preprocessing done via column and custom transformers\n",
    "- ss : standardization of features\n",
    "- lr : Logistic Regression\n",
    "- rf : Random Forest\n",
    "- hp : Hyperparameter Tuning done on model\n"
   ]
  },
  {
   "cell_type": "code",
   "execution_count": 153,
   "metadata": {},
   "outputs": [],
   "source": [
    "# Make sklearn pipelines with preprocessors and ML Models\n",
    "\n",
    "# 2 Pipeline with preprocessor_ss => preprocessing and standardization\n",
    "pipe_ss_lr = make_pipeline(preprocessor_ss, lr)\n",
    "pipe_ss_rf = make_pipeline(preprocessor_ss, rf)\n",
    "\n",
    "# pipe = make_pipeline(preprocessor, logreg)\n",
    "# pipe_norm = make_pipeline(preprocessor_norm, logreg)"
   ]
  },
  {
   "cell_type": "code",
   "execution_count": 154,
   "metadata": {},
   "outputs": [],
   "source": [
    "def train_and_predict(pipeline, X_train, X_test, y_train):\n",
    "\n",
    "    '''\n",
    "    Descr:\n",
    "    Trains the pipeline of steps on the trainig datasets provided,\n",
    "    and returns the predictions and prediction probablities\n",
    "    \n",
    "    I/P:\n",
    "    1. pipeline - Preprocessor and ML model used in pipeline\n",
    "    2. X_train : training data containing features\n",
    "    3. X_test : test data containing features\n",
    "    4. y_train : training data containing target\n",
    "\n",
    "    O/P:\n",
    "    1. y_test : Actual target values from test set (this is not\n",
    "                the unseen data.)\n",
    "    2. y_pred : Values predicted by the model\n",
    "    '''    \n",
    "\n",
    "    # Train pipeline\n",
    "    pipeline.fit(X_train, y_train)\n",
    "    \n",
    "    # Make predictions\n",
    "    y_pred = pipeline.predict(X_test)\n",
    "    \n",
    "    # Make probability predictions : \n",
    "    # NOTE: Returns probabilities for class 0 and 1\n",
    "    y_pred_proba_all = pipeline.predict_proba(X_test)\n",
    "    \n",
    "    return y_pred, y_pred_proba_all"
   ]
  },
  {
   "cell_type": "code",
   "execution_count": 155,
   "metadata": {},
   "outputs": [],
   "source": [
    "# Train sklearn pipeline and make predictions\n",
    "\n",
    "# Pipeline with processed data and standardization + LogReg\n",
    "y_pred, y_pred_proba_all = train_and_predict(pipe_ss_lr, X_train, X_test, y_train)\n",
    "\n",
    "# Pipeline with processed data + LogReg\n",
    "# y_pred, y_pred_proba_all = train_and_predict(pipe, X_train, X_test, y_train)\n",
    "\n",
    "# Pipeline with processed data and normalization + LogReg\n",
    "# y_pred, y_pred_proba_all = train_and_predict(pipe_norm, X_train, X_test, y_train)"
   ]
  },
  {
   "cell_type": "markdown",
   "metadata": {},
   "source": [
    "---"
   ]
  },
  {
   "cell_type": "markdown",
   "metadata": {},
   "source": [
    "## Model Evaluation"
   ]
  },
  {
   "cell_type": "markdown",
   "metadata": {},
   "source": [
    "Functions for Model Evaluation:"
   ]
  },
  {
   "cell_type": "code",
   "execution_count": 156,
   "metadata": {},
   "outputs": [],
   "source": [
    "def model_results(model_name, model, model_desc, y_test, y_pred):\n",
    "\n",
    "    '''\n",
    "    Descr:\n",
    "    This function contains methods for evaluating classification\n",
    "    models. Metrics beyond accuracy are included since we'll capture\n",
    "    how well these models perform given that there is a class imbalance\n",
    "\n",
    "    I/P:\n",
    "    1. Model name\n",
    "    2. Model (in case of pipeline, then the pipeline steps)\n",
    "    3. Model description\n",
    "    4. y_test : Actual target values from test set (this is not the\n",
    "                unseen data.)\n",
    "    5. y_pred : Values predicted by the model\n",
    "\n",
    "    O/P:\n",
    "    No return values. Metrics for evaluating the model are stored in \n",
    "    a Pandas dataframe (global) to enable comparison of metrics across \n",
    "    different models. \n",
    "    '''     \n",
    "    \n",
    "    print('-'*60)\n",
    "\n",
    "    accuracy = np.round((accuracy_score(y_test, y_pred)),2)\n",
    "    precision = np.round((precision_score(y_test, y_pred)),2)\n",
    "    recall = np.round((recall_score(y_test, y_pred)),2)\n",
    "    f1score = np.round((f1_score(y_test, y_pred)),2)\n",
    "    cm = confusion_matrix(y_test, y_pred)\n",
    "    tp, fp, fn, tn = cm[0][0], cm[0][1], cm[1][0], cm[1][1]\n",
    "    \n",
    "    print('Accuracy  = %0.2f'%(accuracy))\n",
    "    print('Precision = %0.2f'%(precision))\n",
    "    print('Recall    = %0.2f'%(recall))\n",
    "    print('F1 score  = %0.2f'%(f1score))\n",
    "\n",
    "    print('-'*30)\n",
    "    print('Confusion Matrix:\\n', cm)\n",
    "\n",
    "    print('-'*30)\n",
    "    print('Classification Report:\\n', classification_report(y_test, y_pred))\n",
    "    \n",
    "    model_results_dict = {'Model_Name' : model_name\n",
    "                         ,'Model' : model\n",
    "                         ,'Model_Description' : model_desc \n",
    "                         ,'Accuracy' : accuracy\n",
    "                         ,'Precision' : precision\n",
    "                         ,'Recall' : recall\n",
    "                         ,'F1_Score' : f1score\n",
    "                         ,'TP' : tp\n",
    "                         ,'FP' : fp\n",
    "                         ,'FN' : fn\n",
    "                         ,'TN' : tn}\n",
    "    \n",
    "    print('-'*60)\n",
    "    \n",
    "    df_exists = 'model_results_df' in locals() or 'model_results_df' in globals()\n",
    "    if not df_exists:\n",
    "        global model_results_df\n",
    "        model_results_df = pd.DataFrame()\n",
    "        model_results_df = model_results_df.append(model_results_dict, ignore_index=True)\n",
    "    else:\n",
    "        model_results_df = model_results_df.append(model_results_dict, ignore_index=True)\n",
    "    \n",
    "    model_results_df['TP'] = model_results_df['TP'].astype('int')\n",
    "    model_results_df['FP'] = model_results_df['FP'].astype('int')\n",
    "    model_results_df['FN'] = model_results_df['FN'].astype('int')\n",
    "    model_results_df['TN'] = model_results_df['TN'].astype('int')\n",
    "\n",
    "    model_results_df = model_results_df[['Model_Name', 'Model_Description', 'Accuracy', 'Precision', 'Recall', 'F1_Score', 'TP', 'FP', 'FN', 'TN', 'Model']]\n",
    "    \n",
    "    "
   ]
  },
  {
   "cell_type": "code",
   "execution_count": 157,
   "metadata": {},
   "outputs": [],
   "source": [
    "def auroc(model_name, model, X_test, y_test, y_pred_proba_all):\n",
    "\n",
    "    '''\n",
    "    Descr:\n",
    "    This function plots the Area under the ROC curve and this will\n",
    "    enable us to compare different models visually as well with the\n",
    "    AUC score.\n",
    "\n",
    "    I/P:\n",
    "    1. Model name\n",
    "    2. Model\n",
    "    3. X_test : Test set feature array \n",
    "    4. y_test : Actual target values from test set (this is not the\n",
    "                unseen data.)\n",
    "\n",
    "    O/P:\n",
    "    No return values. Just a plot of the ROC curve and AUC score. \n",
    "    '''\n",
    "    \n",
    "    fpr, tpr, thresholds = roc_curve(y_test, y_pred_proba_all[:,1])\n",
    "    \n",
    "    plt.plot(fpr, tpr)\n",
    "    \n",
    "    plt.ylabel('TPR / Recall')\n",
    "    plt.xlabel('FPR')\n",
    "    \n",
    "    # Area under ROC\n",
    "    auc = roc_auc_score(y_test, y_pred_proba_all[:,1])\n",
    "    \n",
    "    plt.suptitle('ROC Curve of '+ str(model_name), size=14)#, fontweight='bold')\n",
    "    plt.title('AUROC: %0.2f'%auc, pad=-0.2)\n",
    "\n",
    "    # plot diagonal that illustrates model that randomly guesses\n",
    "    plt.plot([0,1],[0,1], linestyle='--', color='orange', label='Random guess model')\n",
    "\n",
    "    plt.legend(loc='lower right')\n",
    "    plt.show()    "
   ]
  },
  {
   "cell_type": "code",
   "execution_count": 158,
   "metadata": {},
   "outputs": [],
   "source": [
    "def plot_pr_curve(model_name, model, X_test, y_test, y_pred_proba_all):\n",
    "    precision, recall, _ = precision_recall_curve(y_test, y_pred_proba_all[:,1])\n",
    "    \n",
    "    plt.plot(recall, precision)\n",
    "    plt.suptitle('Precision-Recall Curve of '+ str(model_name), size=14)#, fontweight='bold')\n",
    "\n",
    "    plt.show()  "
   ]
  },
  {
   "cell_type": "markdown",
   "metadata": {},
   "source": [
    "---"
   ]
  },
  {
   "cell_type": "markdown",
   "metadata": {},
   "source": [
    "### Evaluating sklearn pipeline metrics"
   ]
  },
  {
   "cell_type": "markdown",
   "metadata": {},
   "source": [
    "**_Model Results Legend :_**\n",
    "- Sk      : Sklearn Pipeline\n",
    "- PP      : Data Preprocessing \n",
    "- ST      : Standardization of numerical features\n",
    "- LR      : Logistic Regression\n",
    "- HT      : Hyperparameter Tuning\n",
    "- HT_CW   : Hyperparameter Tuning on Logreg Class Weights for handling imbalance\n",
    "- RF      : Random Forest\n",
    "- Im      : Imblearn Pipeline\n",
    "- SM      : SMOTE\n"
   ]
  },
  {
   "cell_type": "code",
   "execution_count": 159,
   "metadata": {
    "scrolled": false
   },
   "outputs": [
    {
     "name": "stdout",
     "output_type": "stream",
     "text": [
      "------------------------------------------------------------\n",
      "Accuracy  = 0.86\n",
      "Precision = 0.48\n",
      "Recall    = 0.23\n",
      "F1 score  = 0.31\n",
      "------------------------------\n",
      "Confusion Matrix:\n",
      " [[553  23]\n",
      " [ 70  21]]\n",
      "------------------------------\n",
      "Classification Report:\n",
      "               precision    recall  f1-score   support\n",
      "\n",
      "           0       0.89      0.96      0.92       576\n",
      "           1       0.48      0.23      0.31        91\n",
      "\n",
      "    accuracy                           0.86       667\n",
      "   macro avg       0.68      0.60      0.62       667\n",
      "weighted avg       0.83      0.86      0.84       667\n",
      "\n",
      "------------------------------------------------------------\n"
     ]
    }
   ],
   "source": [
    "model_results('pipe_ss_lr'\n",
    "              ,pipe_ss_lr\n",
    "              ,'Sk: PP | ST | LR'\n",
    "              ,y_test\n",
    "              ,y_pred)"
   ]
  },
  {
   "cell_type": "code",
   "execution_count": 160,
   "metadata": {
    "scrolled": false
   },
   "outputs": [
    {
     "data": {
      "image/png": "[encoded data removed]",
      "text/plain": [
       "<Figure size 432x288 with 1 Axes>"
      ]
     },
     "metadata": {},
     "output_type": "display_data"
    }
   ],
   "source": [
    "# ROC Curve\n",
    "\n",
    "auroc('pipe_ss_lr', pipe_ss_lr, X_test, y_test, y_pred_proba_all)"
   ]
  },
  {
   "cell_type": "code",
   "execution_count": 161,
   "metadata": {},
   "outputs": [
    {
     "data": {
      "text/html": [
       "<div>\n",
       "<style scoped>\n",
       "    .dataframe tbody tr th:only-of-type {\n",
       "        vertical-align: middle;\n",
       "    }\n",
       "\n",
       "    .dataframe tbody tr th {\n",
       "        vertical-align: top;\n",
       "    }\n",
       "\n",
       "    .dataframe thead th {\n",
       "        text-align: right;\n",
       "    }\n",
       "</style>\n",
       "<table border=\"1\" class=\"dataframe\">\n",
       "  <thead>\n",
       "    <tr style=\"text-align: right;\">\n",
       "      <th></th>\n",
       "      <th>Model_Name</th>\n",
       "      <th>Model_Description</th>\n",
       "      <th>Accuracy</th>\n",
       "      <th>Precision</th>\n",
       "      <th>Recall</th>\n",
       "      <th>F1_Score</th>\n",
       "      <th>TP</th>\n",
       "      <th>FP</th>\n",
       "      <th>FN</th>\n",
       "      <th>TN</th>\n",
       "      <th>Model</th>\n",
       "    </tr>\n",
       "  </thead>\n",
       "  <tbody>\n",
       "    <tr>\n",
       "      <th>0</th>\n",
       "      <td>pipe_ss_lr</td>\n",
       "      <td>Sk: PP | ST | LR</td>\n",
       "      <td>0.87</td>\n",
       "      <td>0.63</td>\n",
       "      <td>0.20</td>\n",
       "      <td>0.30</td>\n",
       "      <td>560</td>\n",
       "      <td>11</td>\n",
       "      <td>77</td>\n",
       "      <td>19</td>\n",
       "      <td>(ColumnTransformer(remainder='passthrough',\\n ...</td>\n",
       "    </tr>\n",
       "    <tr>\n",
       "      <th>1</th>\n",
       "      <td>pipe_ss_lr_hyp_best</td>\n",
       "      <td>Sk: PP | ST | LR | HT | HT_CW</td>\n",
       "      <td>0.79</td>\n",
       "      <td>0.38</td>\n",
       "      <td>0.72</td>\n",
       "      <td>0.49</td>\n",
       "      <td>457</td>\n",
       "      <td>114</td>\n",
       "      <td>27</td>\n",
       "      <td>69</td>\n",
       "      <td>(ColumnTransformer(remainder='passthrough',\\n ...</td>\n",
       "    </tr>\n",
       "    <tr>\n",
       "      <th>2</th>\n",
       "      <td>pipe_ss_lr</td>\n",
       "      <td>Sk: PP | ST | LR</td>\n",
       "      <td>0.86</td>\n",
       "      <td>0.48</td>\n",
       "      <td>0.23</td>\n",
       "      <td>0.31</td>\n",
       "      <td>553</td>\n",
       "      <td>23</td>\n",
       "      <td>70</td>\n",
       "      <td>21</td>\n",
       "      <td>(ColumnTransformer(remainder='passthrough',\\n ...</td>\n",
       "    </tr>\n",
       "  </tbody>\n",
       "</table>\n",
       "</div>"
      ],
      "text/plain": [
       "            Model_Name              Model_Description  Accuracy  Precision  \\\n",
       "0           pipe_ss_lr               Sk: PP | ST | LR      0.87       0.63   \n",
       "1  pipe_ss_lr_hyp_best  Sk: PP | ST | LR | HT | HT_CW      0.79       0.38   \n",
       "2           pipe_ss_lr               Sk: PP | ST | LR      0.86       0.48   \n",
       "\n",
       "   Recall  F1_Score   TP   FP  FN  TN  \\\n",
       "0    0.20      0.30  560   11  77  19   \n",
       "1    0.72      0.49  457  114  27  69   \n",
       "2    0.23      0.31  553   23  70  21   \n",
       "\n",
       "                                               Model  \n",
       "0  (ColumnTransformer(remainder='passthrough',\\n ...  \n",
       "1  (ColumnTransformer(remainder='passthrough',\\n ...  \n",
       "2  (ColumnTransformer(remainder='passthrough',\\n ...  "
      ]
     },
     "execution_count": 161,
     "metadata": {},
     "output_type": "execute_result"
    }
   ],
   "source": [
    "model_results_df"
   ]
  },
  {
   "cell_type": "code",
   "execution_count": 162,
   "metadata": {},
   "outputs": [
    {
     "data": {
      "text/plain": [
       "array([0.0835369 , 0.1014579 , 0.00389871, 0.01351554, 0.05048708])"
      ]
     },
     "execution_count": 162,
     "metadata": {},
     "output_type": "execute_result"
    }
   ],
   "source": [
    "y_pred_proba_all[:,1][:5]"
   ]
  },
  {
   "cell_type": "markdown",
   "metadata": {},
   "source": [
    "**------------------------------------------------------------------------**\n",
    "\n",
    "**Insights from \"pipe_ss\"**\n",
    "\n",
    "_Notes:_\n",
    "- Standardized preprocessor on default Logistic Regression\n",
    "- Not hyperparameter tuned.\n",
    "- No class weighting to handle class imbalance\n",
    "\n",
    "_Strengths:_\n",
    "- None noteworthy. Does better relatively in precision than recall.\n",
    "\n",
    "_Weakness:_\n",
    "- Overall low precision, recall and therefore f1 score.\n",
    "\n",
    "**------------------------------------------------------------------------**"
   ]
  },
  {
   "cell_type": "markdown",
   "metadata": {},
   "source": [
    "---"
   ]
  },
  {
   "cell_type": "markdown",
   "metadata": {},
   "source": [
    "<p><a name=\"hyp\"></a></p>\n",
    "\n",
    "## Hyperparameter Tuning"
   ]
  },
  {
   "cell_type": "code",
   "execution_count": 163,
   "metadata": {},
   "outputs": [
    {
     "data": {
      "text/plain": [
       "array([576,  91])"
      ]
     },
     "execution_count": 163,
     "metadata": {},
     "output_type": "execute_result"
    }
   ],
   "source": [
    "np.bincount(y_test)\n",
    "\n",
    "# 559/108 ~= 5 therefore, I'd expect the best class_weight returned \n",
    "# with hyperparameter tuning be {0:1, 1:5}"
   ]
  },
  {
   "cell_type": "code",
   "execution_count": 164,
   "metadata": {},
   "outputs": [
    {
     "data": {
      "text/plain": [
       "{'logisticregression__C': [0.1, 1, 10, 100],\n",
       " 'logisticregression__max_iter': [100, 1000, 10000],\n",
       " 'logisticregression__solver': ['liblinear'],\n",
       " 'logisticregression__class_weight': [{0: 1, 1: 5},\n",
       "  {0: 1, 1: 10},\n",
       "  {0: 5, 1: 1}]}"
      ]
     },
     "execution_count": 164,
     "metadata": {},
     "output_type": "execute_result"
    }
   ],
   "source": [
    "params = {}\n",
    "params['logisticregression__C'] = [0.1, 1, 10, 100]\n",
    "params['logisticregression__max_iter'] = [100,1000,10000]\n",
    "params['logisticregression__solver'] = ['liblinear']\n",
    "params['logisticregression__class_weight'] = [{0:1, 1:5}, {0:1, 1:10}, {0:5, 1:1}]\n",
    "params"
   ]
  },
  {
   "cell_type": "code",
   "execution_count": 165,
   "metadata": {
    "scrolled": false
   },
   "outputs": [],
   "source": [
    "# Since the default Log Reg does relatively better on precision\n",
    "# trying to optimize on recall to view results\n",
    "# Grid params include class weights for handling class imbalance\n",
    "\n",
    "pipe_ss_lr_hyp = GridSearchCV(estimator=pipe_ss_lr, param_grid=params, cv=5, scoring='f1')\n",
    "pipe_ss_lr_hyp.fit(X_train, y_train);"
   ]
  },
  {
   "cell_type": "code",
   "execution_count": 166,
   "metadata": {},
   "outputs": [
    {
     "data": {
      "text/plain": [
       "0.5061908908926543"
      ]
     },
     "execution_count": 166,
     "metadata": {},
     "output_type": "execute_result"
    }
   ],
   "source": [
    "# Best score and parameters\n",
    "pipe_ss_lr_hyp.best_score_"
   ]
  },
  {
   "cell_type": "code",
   "execution_count": 167,
   "metadata": {},
   "outputs": [
    {
     "data": {
      "text/plain": [
       "{'logisticregression__C': 0.1,\n",
       " 'logisticregression__class_weight': {0: 1, 1: 5},\n",
       " 'logisticregression__max_iter': 100,\n",
       " 'logisticregression__solver': 'liblinear'}"
      ]
     },
     "execution_count": 167,
     "metadata": {},
     "output_type": "execute_result"
    }
   ],
   "source": [
    "pipe_ss_lr_hyp.best_params_"
   ]
  },
  {
   "cell_type": "code",
   "execution_count": 168,
   "metadata": {},
   "outputs": [],
   "source": [
    "pipe_ss_lr_hyp_best = pipe_ss_lr_hyp.best_estimator_\n",
    "pipe_ss_lr_hyp_best;"
   ]
  },
  {
   "cell_type": "code",
   "execution_count": 169,
   "metadata": {},
   "outputs": [],
   "source": [
    "# Pipeline with processed data and standardization + LogReg + Best Grid after Hyper tuning\n",
    "# Calling the train and predict on the hyperparameter-tuned-pipeline pipe_ss\n",
    "\n",
    "y_pred, y_pred_proba_all = train_and_predict(pipe_ss_lr_hyp_best, X_train, X_test, y_train)"
   ]
  },
  {
   "cell_type": "code",
   "execution_count": 170,
   "metadata": {},
   "outputs": [
    {
     "name": "stdout",
     "output_type": "stream",
     "text": [
      "------------------------------------------------------------\n",
      "Accuracy  = 0.78\n",
      "Precision = 0.36\n",
      "Recall    = 0.74\n",
      "F1 score  = 0.48\n",
      "------------------------------\n",
      "Confusion Matrix:\n",
      " [[456 120]\n",
      " [ 24  67]]\n",
      "------------------------------\n",
      "Classification Report:\n",
      "               precision    recall  f1-score   support\n",
      "\n",
      "           0       0.95      0.79      0.86       576\n",
      "           1       0.36      0.74      0.48        91\n",
      "\n",
      "    accuracy                           0.78       667\n",
      "   macro avg       0.65      0.76      0.67       667\n",
      "weighted avg       0.87      0.78      0.81       667\n",
      "\n",
      "------------------------------------------------------------\n"
     ]
    }
   ],
   "source": [
    "model_results('pipe_ss_lr_hyp_best'\n",
    "              ,pipe_ss_lr_hyp_best\n",
    "              ,'Sk: PP | ST | LR | HT | HT_CW'\n",
    "              ,y_test\n",
    "              ,y_pred)\n"
   ]
  },
  {
   "cell_type": "code",
   "execution_count": 171,
   "metadata": {
    "scrolled": false
   },
   "outputs": [
    {
     "data": {
      "image/png": "[encoded data removed]",
      "text/plain": [
       "<Figure size 432x288 with 1 Axes>"
      ]
     },
     "metadata": {},
     "output_type": "display_data"
    }
   ],
   "source": [
    "auroc('pipe_ss_lr_hyp_best', pipe_ss_lr_hyp_best, X_test, y_test, y_pred_proba_all)"
   ]
  },
  {
   "cell_type": "code",
   "execution_count": 172,
   "metadata": {
    "scrolled": true
   },
   "outputs": [
    {
     "data": {
      "text/html": [
       "<div>\n",
       "<style scoped>\n",
       "    .dataframe tbody tr th:only-of-type {\n",
       "        vertical-align: middle;\n",
       "    }\n",
       "\n",
       "    .dataframe tbody tr th {\n",
       "        vertical-align: top;\n",
       "    }\n",
       "\n",
       "    .dataframe thead th {\n",
       "        text-align: right;\n",
       "    }\n",
       "</style>\n",
       "<table border=\"1\" class=\"dataframe\">\n",
       "  <thead>\n",
       "    <tr style=\"text-align: right;\">\n",
       "      <th></th>\n",
       "      <th>Model_Name</th>\n",
       "      <th>Model_Description</th>\n",
       "      <th>Accuracy</th>\n",
       "      <th>Precision</th>\n",
       "      <th>Recall</th>\n",
       "      <th>F1_Score</th>\n",
       "      <th>TP</th>\n",
       "      <th>FP</th>\n",
       "      <th>FN</th>\n",
       "      <th>TN</th>\n",
       "      <th>Model</th>\n",
       "    </tr>\n",
       "  </thead>\n",
       "  <tbody>\n",
       "    <tr>\n",
       "      <th>0</th>\n",
       "      <td>pipe_ss_lr</td>\n",
       "      <td>Sk: PP | ST | LR</td>\n",
       "      <td>0.87</td>\n",
       "      <td>0.63</td>\n",
       "      <td>0.20</td>\n",
       "      <td>0.30</td>\n",
       "      <td>560</td>\n",
       "      <td>11</td>\n",
       "      <td>77</td>\n",
       "      <td>19</td>\n",
       "      <td>(ColumnTransformer(remainder='passthrough',\\n ...</td>\n",
       "    </tr>\n",
       "    <tr>\n",
       "      <th>1</th>\n",
       "      <td>pipe_ss_lr_hyp_best</td>\n",
       "      <td>Sk: PP | ST | LR | HT | HT_CW</td>\n",
       "      <td>0.79</td>\n",
       "      <td>0.38</td>\n",
       "      <td>0.72</td>\n",
       "      <td>0.49</td>\n",
       "      <td>457</td>\n",
       "      <td>114</td>\n",
       "      <td>27</td>\n",
       "      <td>69</td>\n",
       "      <td>(ColumnTransformer(remainder='passthrough',\\n ...</td>\n",
       "    </tr>\n",
       "    <tr>\n",
       "      <th>2</th>\n",
       "      <td>pipe_ss_lr</td>\n",
       "      <td>Sk: PP | ST | LR</td>\n",
       "      <td>0.86</td>\n",
       "      <td>0.48</td>\n",
       "      <td>0.23</td>\n",
       "      <td>0.31</td>\n",
       "      <td>553</td>\n",
       "      <td>23</td>\n",
       "      <td>70</td>\n",
       "      <td>21</td>\n",
       "      <td>(ColumnTransformer(remainder='passthrough',\\n ...</td>\n",
       "    </tr>\n",
       "    <tr>\n",
       "      <th>3</th>\n",
       "      <td>pipe_ss_lr_hyp_best</td>\n",
       "      <td>Sk: PP | ST | LR | HT | HT_CW</td>\n",
       "      <td>0.78</td>\n",
       "      <td>0.36</td>\n",
       "      <td>0.74</td>\n",
       "      <td>0.48</td>\n",
       "      <td>456</td>\n",
       "      <td>120</td>\n",
       "      <td>24</td>\n",
       "      <td>67</td>\n",
       "      <td>(ColumnTransformer(remainder='passthrough',\\n ...</td>\n",
       "    </tr>\n",
       "  </tbody>\n",
       "</table>\n",
       "</div>"
      ],
      "text/plain": [
       "            Model_Name              Model_Description  Accuracy  Precision  \\\n",
       "0           pipe_ss_lr               Sk: PP | ST | LR      0.87       0.63   \n",
       "1  pipe_ss_lr_hyp_best  Sk: PP | ST | LR | HT | HT_CW      0.79       0.38   \n",
       "2           pipe_ss_lr               Sk: PP | ST | LR      0.86       0.48   \n",
       "3  pipe_ss_lr_hyp_best  Sk: PP | ST | LR | HT | HT_CW      0.78       0.36   \n",
       "\n",
       "   Recall  F1_Score   TP   FP  FN  TN  \\\n",
       "0    0.20      0.30  560   11  77  19   \n",
       "1    0.72      0.49  457  114  27  69   \n",
       "2    0.23      0.31  553   23  70  21   \n",
       "3    0.74      0.48  456  120  24  67   \n",
       "\n",
       "                                               Model  \n",
       "0  (ColumnTransformer(remainder='passthrough',\\n ...  \n",
       "1  (ColumnTransformer(remainder='passthrough',\\n ...  \n",
       "2  (ColumnTransformer(remainder='passthrough',\\n ...  \n",
       "3  (ColumnTransformer(remainder='passthrough',\\n ...  "
      ]
     },
     "execution_count": 172,
     "metadata": {},
     "output_type": "execute_result"
    }
   ],
   "source": [
    "model_results_df"
   ]
  },
  {
   "cell_type": "markdown",
   "metadata": {},
   "source": [
    "**------------------------------------------------------------------------**\n",
    "\n",
    "**Insights from \"pipe_ss_lr_hyp_best\"**\n",
    "\n",
    "_Notes:_\n",
    "- Standardized preprocessor on Logistic Regression\n",
    "- Hyperparameter tuned (Params tuned include class weight; scoring for optimizing Recall.\n",
    "- Includes Class weighting to handle class imbalance\n",
    "\n",
    "_Strengths:_\n",
    "- **Significant increase in Recall** and F1 score after adding and tuning the class_weight hyperparameter.\n",
    "\n",
    "_Weakness:_\n",
    "- **Significant decrease in Precision and accuracy**\n",
    "- **False Positives significantly increased compared to LogReg model without class_weights**\n",
    "\n",
    "**------------------------------------------------------------------------**"
   ]
  },
  {
   "cell_type": "markdown",
   "metadata": {},
   "source": [
    "---"
   ]
  },
  {
   "cell_type": "markdown",
   "metadata": {},
   "source": [
    "### Handling Imbalance"
   ]
  },
  {
   "cell_type": "code",
   "execution_count": 173,
   "metadata": {},
   "outputs": [],
   "source": [
    "# We want to handle the class imbalance by working on the \n",
    "# preprocessed training and test set. Once the class is \n",
    "# balanced on the preprocessed data, we will run ML models\n",
    "# on them. In this regard, we will .transform() the test data\n",
    "# set and use that to the imb_pipe.predict() method \n",
    "# Recall, .predict needs the test dataset, and we want to use\n",
    "# the preprocessed test data set.\n",
    "\n",
    "## Transforming the TEST dataset so that it can be used within\n",
    "# the imblearn pipeline to handle class imbalance\n",
    "\n",
    "X_test_tf = pd.DataFrame(preprocessor.transform(X_test).toarray(), columns=features_transformed)\n",
    "# X_test_tf.head()\n",
    "\n",
    "X_test_tf_ss = pd.DataFrame(preprocessor_ss.transform(X_test).toarray(), columns=features_transformed)\n",
    "# X_test_tf_ss.head()"
   ]
  },
  {
   "cell_type": "code",
   "execution_count": 174,
   "metadata": {},
   "outputs": [],
   "source": [
    "# Synthetic Minority Oversampling Techinque\n",
    "\n",
    "smote = SMOTE()"
   ]
  },
  {
   "cell_type": "code",
   "execution_count": 175,
   "metadata": {},
   "outputs": [
    {
     "data": {
      "text/plain": [
       "Pipeline(steps=[('smote', SMOTE()),\n",
       "                ('logisticregression', LogisticRegression())])"
      ]
     },
     "execution_count": 175,
     "metadata": {},
     "output_type": "execute_result"
    }
   ],
   "source": [
    "# Creating a Imb pipeline with default logistic regression\n",
    "\n",
    "imbpipe_ss_lr = imb_make_pipeline(smote, lr)\n",
    "imbpipe_ss_lr"
   ]
  },
  {
   "cell_type": "code",
   "execution_count": 176,
   "metadata": {},
   "outputs": [],
   "source": [
    "# Checking the preprocessed and standardized X_test data set\n",
    "\n",
    "# X_test_tf_ss.head()"
   ]
  },
  {
   "cell_type": "code",
   "execution_count": 177,
   "metadata": {},
   "outputs": [],
   "source": [
    "# Train and obtain predictions for the Imbalance pipeline\n",
    "\n",
    "y_pred, y_pred_proba_all = train_and_predict(imbpipe_ss_lr, X_train_tf_ss, X_test_tf_ss, y_train)"
   ]
  },
  {
   "cell_type": "code",
   "execution_count": 178,
   "metadata": {},
   "outputs": [
    {
     "name": "stdout",
     "output_type": "stream",
     "text": [
      "------------------------------------------------------------\n",
      "Accuracy  = 0.76\n",
      "Precision = 0.32\n",
      "Recall    = 0.70\n",
      "F1 score  = 0.44\n",
      "------------------------------\n",
      "Confusion Matrix:\n",
      " [[441 135]\n",
      " [ 27  64]]\n",
      "------------------------------\n",
      "Classification Report:\n",
      "               precision    recall  f1-score   support\n",
      "\n",
      "           0       0.94      0.77      0.84       576\n",
      "           1       0.32      0.70      0.44        91\n",
      "\n",
      "    accuracy                           0.76       667\n",
      "   macro avg       0.63      0.73      0.64       667\n",
      "weighted avg       0.86      0.76      0.79       667\n",
      "\n",
      "------------------------------------------------------------\n"
     ]
    }
   ],
   "source": [
    "model_results('imbpipe_ss_lr'\n",
    "              ,imbpipe_ss_lr\n",
    "              ,'Imb: SM | LR' # But we used the preprocessed & standardized data as I/P to Imb Pipeline\n",
    "              ,y_test\n",
    "              ,y_pred)"
   ]
  },
  {
   "cell_type": "code",
   "execution_count": 179,
   "metadata": {},
   "outputs": [
    {
     "data": {
      "image/png": "[encoded data removed]",
      "text/plain": [
       "<Figure size 432x288 with 1 Axes>"
      ]
     },
     "metadata": {},
     "output_type": "display_data"
    }
   ],
   "source": [
    "auroc('imbpipe_ss_lr', imbpipe_ss_lr, X_test_tf_ss, y_test, y_pred_proba_all)"
   ]
  },
  {
   "cell_type": "code",
   "execution_count": 180,
   "metadata": {},
   "outputs": [
    {
     "data": {
      "text/html": [
       "<div>\n",
       "<style scoped>\n",
       "    .dataframe tbody tr th:only-of-type {\n",
       "        vertical-align: middle;\n",
       "    }\n",
       "\n",
       "    .dataframe tbody tr th {\n",
       "        vertical-align: top;\n",
       "    }\n",
       "\n",
       "    .dataframe thead th {\n",
       "        text-align: right;\n",
       "    }\n",
       "</style>\n",
       "<table border=\"1\" class=\"dataframe\">\n",
       "  <thead>\n",
       "    <tr style=\"text-align: right;\">\n",
       "      <th></th>\n",
       "      <th>Model_Name</th>\n",
       "      <th>Model_Description</th>\n",
       "      <th>Accuracy</th>\n",
       "      <th>Precision</th>\n",
       "      <th>Recall</th>\n",
       "      <th>F1_Score</th>\n",
       "      <th>TP</th>\n",
       "      <th>FP</th>\n",
       "      <th>FN</th>\n",
       "      <th>TN</th>\n",
       "      <th>Model</th>\n",
       "    </tr>\n",
       "  </thead>\n",
       "  <tbody>\n",
       "    <tr>\n",
       "      <th>0</th>\n",
       "      <td>pipe_ss_lr</td>\n",
       "      <td>Sk: PP | ST | LR</td>\n",
       "      <td>0.87</td>\n",
       "      <td>0.63</td>\n",
       "      <td>0.20</td>\n",
       "      <td>0.30</td>\n",
       "      <td>560</td>\n",
       "      <td>11</td>\n",
       "      <td>77</td>\n",
       "      <td>19</td>\n",
       "      <td>(ColumnTransformer(remainder='passthrough',\\n ...</td>\n",
       "    </tr>\n",
       "    <tr>\n",
       "      <th>1</th>\n",
       "      <td>pipe_ss_lr_hyp_best</td>\n",
       "      <td>Sk: PP | ST | LR | HT | HT_CW</td>\n",
       "      <td>0.79</td>\n",
       "      <td>0.38</td>\n",
       "      <td>0.72</td>\n",
       "      <td>0.49</td>\n",
       "      <td>457</td>\n",
       "      <td>114</td>\n",
       "      <td>27</td>\n",
       "      <td>69</td>\n",
       "      <td>(ColumnTransformer(remainder='passthrough',\\n ...</td>\n",
       "    </tr>\n",
       "    <tr>\n",
       "      <th>2</th>\n",
       "      <td>pipe_ss_lr</td>\n",
       "      <td>Sk: PP | ST | LR</td>\n",
       "      <td>0.86</td>\n",
       "      <td>0.48</td>\n",
       "      <td>0.23</td>\n",
       "      <td>0.31</td>\n",
       "      <td>553</td>\n",
       "      <td>23</td>\n",
       "      <td>70</td>\n",
       "      <td>21</td>\n",
       "      <td>(ColumnTransformer(remainder='passthrough',\\n ...</td>\n",
       "    </tr>\n",
       "    <tr>\n",
       "      <th>3</th>\n",
       "      <td>pipe_ss_lr_hyp_best</td>\n",
       "      <td>Sk: PP | ST | LR | HT | HT_CW</td>\n",
       "      <td>0.78</td>\n",
       "      <td>0.36</td>\n",
       "      <td>0.74</td>\n",
       "      <td>0.48</td>\n",
       "      <td>456</td>\n",
       "      <td>120</td>\n",
       "      <td>24</td>\n",
       "      <td>67</td>\n",
       "      <td>(ColumnTransformer(remainder='passthrough',\\n ...</td>\n",
       "    </tr>\n",
       "    <tr>\n",
       "      <th>4</th>\n",
       "      <td>imbpipe_ss_lr</td>\n",
       "      <td>Imb: SM | LR</td>\n",
       "      <td>0.76</td>\n",
       "      <td>0.32</td>\n",
       "      <td>0.70</td>\n",
       "      <td>0.44</td>\n",
       "      <td>441</td>\n",
       "      <td>135</td>\n",
       "      <td>27</td>\n",
       "      <td>64</td>\n",
       "      <td>(SMOTE(), LogisticRegression())</td>\n",
       "    </tr>\n",
       "  </tbody>\n",
       "</table>\n",
       "</div>"
      ],
      "text/plain": [
       "            Model_Name              Model_Description  Accuracy  Precision  \\\n",
       "0           pipe_ss_lr               Sk: PP | ST | LR      0.87       0.63   \n",
       "1  pipe_ss_lr_hyp_best  Sk: PP | ST | LR | HT | HT_CW      0.79       0.38   \n",
       "2           pipe_ss_lr               Sk: PP | ST | LR      0.86       0.48   \n",
       "3  pipe_ss_lr_hyp_best  Sk: PP | ST | LR | HT | HT_CW      0.78       0.36   \n",
       "4        imbpipe_ss_lr                   Imb: SM | LR      0.76       0.32   \n",
       "\n",
       "   Recall  F1_Score   TP   FP  FN  TN  \\\n",
       "0    0.20      0.30  560   11  77  19   \n",
       "1    0.72      0.49  457  114  27  69   \n",
       "2    0.23      0.31  553   23  70  21   \n",
       "3    0.74      0.48  456  120  24  67   \n",
       "4    0.70      0.44  441  135  27  64   \n",
       "\n",
       "                                               Model  \n",
       "0  (ColumnTransformer(remainder='passthrough',\\n ...  \n",
       "1  (ColumnTransformer(remainder='passthrough',\\n ...  \n",
       "2  (ColumnTransformer(remainder='passthrough',\\n ...  \n",
       "3  (ColumnTransformer(remainder='passthrough',\\n ...  \n",
       "4                    (SMOTE(), LogisticRegression())  "
      ]
     },
     "execution_count": 180,
     "metadata": {},
     "output_type": "execute_result"
    }
   ],
   "source": [
    "model_results_df"
   ]
  },
  {
   "cell_type": "code",
   "execution_count": 181,
   "metadata": {},
   "outputs": [],
   "source": [
    "# @@@@@@@@\n",
    "\n",
    "\n",
    "# Hyperparameter tuning on the Logreg for Imb pipeline above to be done"
   ]
  },
  {
   "cell_type": "code",
   "execution_count": 182,
   "metadata": {},
   "outputs": [
    {
     "data": {
      "text/plain": [
       "{'logisticregression__C': [0.1, 1, 10, 100],\n",
       " 'logisticregression__solver': ['liblinear'],\n",
       " 'logisticregression__max_iter': [100, 1000, 10000]}"
      ]
     },
     "execution_count": 182,
     "metadata": {},
     "output_type": "execute_result"
    }
   ],
   "source": [
    "imb_params = {}\n",
    "imb_params['logisticregression__C'] = [0.1, 1, 10, 100]\n",
    "imb_params['logisticregression__solver'] = ['liblinear'] #['lbfgs', 'liblinear']\n",
    "imb_params['logisticregression__max_iter'] = [100,1000,10000]\n",
    "# params['logisticregression__class_weight'] = [{0:1, 1:5}, {0:1, 1:10}, {0:5, 1:1}]\n",
    "imb_params"
   ]
  },
  {
   "cell_type": "code",
   "execution_count": 183,
   "metadata": {},
   "outputs": [],
   "source": [
    "imbpipe_ss_lr_hyp = GridSearchCV(estimator=imbpipe_ss_lr, param_grid=imb_params, cv=5, scoring='recall')\n",
    "imbpipe_ss_lr_hyp.fit(X_train_tf_ss, y_train);"
   ]
  },
  {
   "cell_type": "code",
   "execution_count": 184,
   "metadata": {},
   "outputs": [
    {
     "data": {
      "text/plain": [
       "0.7468147282291058"
      ]
     },
     "execution_count": 184,
     "metadata": {},
     "output_type": "execute_result"
    }
   ],
   "source": [
    "# Best score and parameters\n",
    "imbpipe_ss_lr_hyp.best_score_"
   ]
  },
  {
   "cell_type": "code",
   "execution_count": 185,
   "metadata": {},
   "outputs": [
    {
     "data": {
      "text/plain": [
       "{'logisticregression__C': 0.1,\n",
       " 'logisticregression__max_iter': 1000,\n",
       " 'logisticregression__solver': 'liblinear'}"
      ]
     },
     "execution_count": 185,
     "metadata": {},
     "output_type": "execute_result"
    }
   ],
   "source": [
    "imbpipe_ss_lr_hyp.best_params_"
   ]
  },
  {
   "cell_type": "code",
   "execution_count": 186,
   "metadata": {},
   "outputs": [],
   "source": [
    "imbpipe_ss_lr_hyp_best = imbpipe_ss_lr_hyp.best_estimator_\n",
    "imbpipe_ss_lr_hyp_best;"
   ]
  },
  {
   "cell_type": "code",
   "execution_count": 187,
   "metadata": {},
   "outputs": [],
   "source": [
    "# Pipeline with processed data and standardization + LogReg + Best Grid after Hyper tuning\n",
    "# Calling the train and predict on the hyperparameter-tuned-pipeline pipe_ss\n",
    "\n",
    "y_pred, y_pred_proba_all = train_and_predict(imbpipe_ss_lr_hyp, X_train_tf_ss, X_test_tf_ss, y_train)"
   ]
  },
  {
   "cell_type": "code",
   "execution_count": 188,
   "metadata": {},
   "outputs": [
    {
     "name": "stdout",
     "output_type": "stream",
     "text": [
      "------------------------------------------------------------\n",
      "Accuracy  = 0.76\n",
      "Precision = 0.33\n",
      "Recall    = 0.75\n",
      "F1 score  = 0.46\n",
      "------------------------------\n",
      "Confusion Matrix:\n",
      " [[439 137]\n",
      " [ 23  68]]\n",
      "------------------------------\n",
      "Classification Report:\n",
      "               precision    recall  f1-score   support\n",
      "\n",
      "           0       0.95      0.76      0.85       576\n",
      "           1       0.33      0.75      0.46        91\n",
      "\n",
      "    accuracy                           0.76       667\n",
      "   macro avg       0.64      0.75      0.65       667\n",
      "weighted avg       0.87      0.76      0.79       667\n",
      "\n",
      "------------------------------------------------------------\n"
     ]
    }
   ],
   "source": [
    "model_results('imbpipe_ss_lr_hyp'\n",
    "              ,imbpipe_ss_lr_hyp\n",
    "              ,'Imb: SM | LR | HT'  # But we used the preprocessed & standardized data as I/P to Imb Pipeline\n",
    "              ,y_test\n",
    "              ,y_pred)\n"
   ]
  },
  {
   "cell_type": "code",
   "execution_count": 189,
   "metadata": {
    "scrolled": false
   },
   "outputs": [
    {
     "data": {
      "image/png": "[encoded data removed]",
      "text/plain": [
       "<Figure size 432x288 with 1 Axes>"
      ]
     },
     "metadata": {},
     "output_type": "display_data"
    }
   ],
   "source": [
    "auroc('imbpipe_ss_lr_hyp_best', imbpipe_ss_lr_hyp_best, X_test_tf_ss, y_test, y_pred_proba_all)"
   ]
  },
  {
   "cell_type": "code",
   "execution_count": 190,
   "metadata": {
    "scrolled": true
   },
   "outputs": [
    {
     "data": {
      "text/html": [
       "<div>\n",
       "<style scoped>\n",
       "    .dataframe tbody tr th:only-of-type {\n",
       "        vertical-align: middle;\n",
       "    }\n",
       "\n",
       "    .dataframe tbody tr th {\n",
       "        vertical-align: top;\n",
       "    }\n",
       "\n",
       "    .dataframe thead th {\n",
       "        text-align: right;\n",
       "    }\n",
       "</style>\n",
       "<table border=\"1\" class=\"dataframe\">\n",
       "  <thead>\n",
       "    <tr style=\"text-align: right;\">\n",
       "      <th></th>\n",
       "      <th>Model_Name</th>\n",
       "      <th>Model_Description</th>\n",
       "      <th>Accuracy</th>\n",
       "      <th>Precision</th>\n",
       "      <th>Recall</th>\n",
       "      <th>F1_Score</th>\n",
       "      <th>TP</th>\n",
       "      <th>FP</th>\n",
       "      <th>FN</th>\n",
       "      <th>TN</th>\n",
       "      <th>Model</th>\n",
       "    </tr>\n",
       "  </thead>\n",
       "  <tbody>\n",
       "    <tr>\n",
       "      <th>0</th>\n",
       "      <td>pipe_ss_lr</td>\n",
       "      <td>Sk: PP | ST | LR</td>\n",
       "      <td>0.87</td>\n",
       "      <td>0.63</td>\n",
       "      <td>0.20</td>\n",
       "      <td>0.30</td>\n",
       "      <td>560</td>\n",
       "      <td>11</td>\n",
       "      <td>77</td>\n",
       "      <td>19</td>\n",
       "      <td>(ColumnTransformer(remainder='passthrough',\\n ...</td>\n",
       "    </tr>\n",
       "    <tr>\n",
       "      <th>1</th>\n",
       "      <td>pipe_ss_lr_hyp_best</td>\n",
       "      <td>Sk: PP | ST | LR | HT | HT_CW</td>\n",
       "      <td>0.79</td>\n",
       "      <td>0.38</td>\n",
       "      <td>0.72</td>\n",
       "      <td>0.49</td>\n",
       "      <td>457</td>\n",
       "      <td>114</td>\n",
       "      <td>27</td>\n",
       "      <td>69</td>\n",
       "      <td>(ColumnTransformer(remainder='passthrough',\\n ...</td>\n",
       "    </tr>\n",
       "    <tr>\n",
       "      <th>2</th>\n",
       "      <td>pipe_ss_lr</td>\n",
       "      <td>Sk: PP | ST | LR</td>\n",
       "      <td>0.86</td>\n",
       "      <td>0.48</td>\n",
       "      <td>0.23</td>\n",
       "      <td>0.31</td>\n",
       "      <td>553</td>\n",
       "      <td>23</td>\n",
       "      <td>70</td>\n",
       "      <td>21</td>\n",
       "      <td>(ColumnTransformer(remainder='passthrough',\\n ...</td>\n",
       "    </tr>\n",
       "    <tr>\n",
       "      <th>3</th>\n",
       "      <td>pipe_ss_lr_hyp_best</td>\n",
       "      <td>Sk: PP | ST | LR | HT | HT_CW</td>\n",
       "      <td>0.78</td>\n",
       "      <td>0.36</td>\n",
       "      <td>0.74</td>\n",
       "      <td>0.48</td>\n",
       "      <td>456</td>\n",
       "      <td>120</td>\n",
       "      <td>24</td>\n",
       "      <td>67</td>\n",
       "      <td>(ColumnTransformer(remainder='passthrough',\\n ...</td>\n",
       "    </tr>\n",
       "    <tr>\n",
       "      <th>4</th>\n",
       "      <td>imbpipe_ss_lr</td>\n",
       "      <td>Imb: SM | LR</td>\n",
       "      <td>0.76</td>\n",
       "      <td>0.32</td>\n",
       "      <td>0.70</td>\n",
       "      <td>0.44</td>\n",
       "      <td>441</td>\n",
       "      <td>135</td>\n",
       "      <td>27</td>\n",
       "      <td>64</td>\n",
       "      <td>(SMOTE(), LogisticRegression())</td>\n",
       "    </tr>\n",
       "    <tr>\n",
       "      <th>5</th>\n",
       "      <td>imbpipe_ss_lr_hyp</td>\n",
       "      <td>Imb: SM | LR | HT</td>\n",
       "      <td>0.76</td>\n",
       "      <td>0.33</td>\n",
       "      <td>0.75</td>\n",
       "      <td>0.46</td>\n",
       "      <td>439</td>\n",
       "      <td>137</td>\n",
       "      <td>23</td>\n",
       "      <td>68</td>\n",
       "      <td>GridSearchCV(cv=5,\\n             estimator=Pip...</td>\n",
       "    </tr>\n",
       "  </tbody>\n",
       "</table>\n",
       "</div>"
      ],
      "text/plain": [
       "            Model_Name              Model_Description  Accuracy  Precision  \\\n",
       "0           pipe_ss_lr               Sk: PP | ST | LR      0.87       0.63   \n",
       "1  pipe_ss_lr_hyp_best  Sk: PP | ST | LR | HT | HT_CW      0.79       0.38   \n",
       "2           pipe_ss_lr               Sk: PP | ST | LR      0.86       0.48   \n",
       "3  pipe_ss_lr_hyp_best  Sk: PP | ST | LR | HT | HT_CW      0.78       0.36   \n",
       "4        imbpipe_ss_lr                   Imb: SM | LR      0.76       0.32   \n",
       "5    imbpipe_ss_lr_hyp              Imb: SM | LR | HT      0.76       0.33   \n",
       "\n",
       "   Recall  F1_Score   TP   FP  FN  TN  \\\n",
       "0    0.20      0.30  560   11  77  19   \n",
       "1    0.72      0.49  457  114  27  69   \n",
       "2    0.23      0.31  553   23  70  21   \n",
       "3    0.74      0.48  456  120  24  67   \n",
       "4    0.70      0.44  441  135  27  64   \n",
       "5    0.75      0.46  439  137  23  68   \n",
       "\n",
       "                                               Model  \n",
       "0  (ColumnTransformer(remainder='passthrough',\\n ...  \n",
       "1  (ColumnTransformer(remainder='passthrough',\\n ...  \n",
       "2  (ColumnTransformer(remainder='passthrough',\\n ...  \n",
       "3  (ColumnTransformer(remainder='passthrough',\\n ...  \n",
       "4                    (SMOTE(), LogisticRegression())  \n",
       "5  GridSearchCV(cv=5,\\n             estimator=Pip...  "
      ]
     },
     "execution_count": 190,
     "metadata": {},
     "output_type": "execute_result"
    }
   ],
   "source": [
    "model_results_df"
   ]
  },
  {
   "cell_type": "code",
   "execution_count": 191,
   "metadata": {},
   "outputs": [
    {
     "data": {
      "text/plain": [
       "array([0.31588905, 0.24877532, 0.0313437 , 0.04576858, 0.24842017])"
      ]
     },
     "execution_count": 191,
     "metadata": {},
     "output_type": "execute_result"
    }
   ],
   "source": [
    "y_pred_proba_all[:,1][:5]"
   ]
  },
  {
   "cell_type": "markdown",
   "metadata": {},
   "source": [
    "**------------------------------------------------------------------------**\n",
    "\n",
    "**Insights from \"imb_grid_best_pipe_ss\"**\n",
    "\n",
    "_Notes:_\n",
    "- Hyperparameter tuned Smote + LogReg (but used preprocessed and standardized dataset)\n",
    "- Does NOT include Class weighting to handle class imbalance since SMOTE is to take care of that\n",
    "- not much difference in prediction performance over non-hyperparameter tuned \"imb_pipe\"\n",
    "\n",
    "_Strengths:_\n",
    "- AUC score better than imb_pipe\n",
    "\n",
    "_Weakness:_\n",
    "- None over imb_pipe\n",
    "\n",
    "**------------------------------------------------------------------------**"
   ]
  },
  {
   "cell_type": "markdown",
   "metadata": {},
   "source": [
    "---"
   ]
  },
  {
   "cell_type": "markdown",
   "metadata": {},
   "source": [
    "## Random Forest"
   ]
  },
  {
   "cell_type": "code",
   "execution_count": 192,
   "metadata": {},
   "outputs": [],
   "source": [
    "y_pred, y_pred_proba_all = train_and_predict(pipe_ss_rf, X_train, X_test, y_train)"
   ]
  },
  {
   "cell_type": "code",
   "execution_count": 193,
   "metadata": {
    "scrolled": false
   },
   "outputs": [
    {
     "name": "stdout",
     "output_type": "stream",
     "text": [
      "------------------------------------------------------------\n",
      "Accuracy  = 0.92\n",
      "Precision = 0.80\n",
      "Recall    = 0.52\n",
      "F1 score  = 0.63\n",
      "------------------------------\n",
      "Confusion Matrix:\n",
      " [[564  12]\n",
      " [ 44  47]]\n",
      "------------------------------\n",
      "Classification Report:\n",
      "               precision    recall  f1-score   support\n",
      "\n",
      "           0       0.93      0.98      0.95       576\n",
      "           1       0.80      0.52      0.63        91\n",
      "\n",
      "    accuracy                           0.92       667\n",
      "   macro avg       0.86      0.75      0.79       667\n",
      "weighted avg       0.91      0.92      0.91       667\n",
      "\n",
      "------------------------------------------------------------\n"
     ]
    }
   ],
   "source": [
    "model_results('pipe_ss_rf'\n",
    "              ,pipe_ss_rf\n",
    "              ,'Sk: PP | ST | RF'\n",
    "              ,y_test, y_pred)"
   ]
  },
  {
   "cell_type": "code",
   "execution_count": 194,
   "metadata": {
    "scrolled": false
   },
   "outputs": [
    {
     "data": {
      "image/png": "[encoded data removed]",
      "text/plain": [
       "<Figure size 432x288 with 1 Axes>"
      ]
     },
     "metadata": {},
     "output_type": "display_data"
    }
   ],
   "source": [
    "# ROC Curve\n",
    "\n",
    "auroc('pipe_ss_rf', pipe_ss_rf, X_test, y_test, y_pred_proba_all)"
   ]
  },
  {
   "cell_type": "code",
   "execution_count": 195,
   "metadata": {},
   "outputs": [
    {
     "data": {
      "text/html": [
       "<div>\n",
       "<style scoped>\n",
       "    .dataframe tbody tr th:only-of-type {\n",
       "        vertical-align: middle;\n",
       "    }\n",
       "\n",
       "    .dataframe tbody tr th {\n",
       "        vertical-align: top;\n",
       "    }\n",
       "\n",
       "    .dataframe thead th {\n",
       "        text-align: right;\n",
       "    }\n",
       "</style>\n",
       "<table border=\"1\" class=\"dataframe\">\n",
       "  <thead>\n",
       "    <tr style=\"text-align: right;\">\n",
       "      <th></th>\n",
       "      <th>Model_Name</th>\n",
       "      <th>Model_Description</th>\n",
       "      <th>Accuracy</th>\n",
       "      <th>Precision</th>\n",
       "      <th>Recall</th>\n",
       "      <th>F1_Score</th>\n",
       "      <th>TP</th>\n",
       "      <th>FP</th>\n",
       "      <th>FN</th>\n",
       "      <th>TN</th>\n",
       "      <th>Model</th>\n",
       "    </tr>\n",
       "  </thead>\n",
       "  <tbody>\n",
       "    <tr>\n",
       "      <th>0</th>\n",
       "      <td>pipe_ss_lr</td>\n",
       "      <td>Sk: PP | ST | LR</td>\n",
       "      <td>0.87</td>\n",
       "      <td>0.63</td>\n",
       "      <td>0.20</td>\n",
       "      <td>0.30</td>\n",
       "      <td>560</td>\n",
       "      <td>11</td>\n",
       "      <td>77</td>\n",
       "      <td>19</td>\n",
       "      <td>(ColumnTransformer(remainder='passthrough',\\n ...</td>\n",
       "    </tr>\n",
       "    <tr>\n",
       "      <th>1</th>\n",
       "      <td>pipe_ss_lr_hyp_best</td>\n",
       "      <td>Sk: PP | ST | LR | HT | HT_CW</td>\n",
       "      <td>0.79</td>\n",
       "      <td>0.38</td>\n",
       "      <td>0.72</td>\n",
       "      <td>0.49</td>\n",
       "      <td>457</td>\n",
       "      <td>114</td>\n",
       "      <td>27</td>\n",
       "      <td>69</td>\n",
       "      <td>(ColumnTransformer(remainder='passthrough',\\n ...</td>\n",
       "    </tr>\n",
       "    <tr>\n",
       "      <th>2</th>\n",
       "      <td>pipe_ss_lr</td>\n",
       "      <td>Sk: PP | ST | LR</td>\n",
       "      <td>0.86</td>\n",
       "      <td>0.48</td>\n",
       "      <td>0.23</td>\n",
       "      <td>0.31</td>\n",
       "      <td>553</td>\n",
       "      <td>23</td>\n",
       "      <td>70</td>\n",
       "      <td>21</td>\n",
       "      <td>(ColumnTransformer(remainder='passthrough',\\n ...</td>\n",
       "    </tr>\n",
       "    <tr>\n",
       "      <th>3</th>\n",
       "      <td>pipe_ss_lr_hyp_best</td>\n",
       "      <td>Sk: PP | ST | LR | HT | HT_CW</td>\n",
       "      <td>0.78</td>\n",
       "      <td>0.36</td>\n",
       "      <td>0.74</td>\n",
       "      <td>0.48</td>\n",
       "      <td>456</td>\n",
       "      <td>120</td>\n",
       "      <td>24</td>\n",
       "      <td>67</td>\n",
       "      <td>(ColumnTransformer(remainder='passthrough',\\n ...</td>\n",
       "    </tr>\n",
       "    <tr>\n",
       "      <th>4</th>\n",
       "      <td>imbpipe_ss_lr</td>\n",
       "      <td>Imb: SM | LR</td>\n",
       "      <td>0.76</td>\n",
       "      <td>0.32</td>\n",
       "      <td>0.70</td>\n",
       "      <td>0.44</td>\n",
       "      <td>441</td>\n",
       "      <td>135</td>\n",
       "      <td>27</td>\n",
       "      <td>64</td>\n",
       "      <td>(SMOTE(), LogisticRegression())</td>\n",
       "    </tr>\n",
       "    <tr>\n",
       "      <th>5</th>\n",
       "      <td>imbpipe_ss_lr_hyp</td>\n",
       "      <td>Imb: SM | LR | HT</td>\n",
       "      <td>0.76</td>\n",
       "      <td>0.33</td>\n",
       "      <td>0.75</td>\n",
       "      <td>0.46</td>\n",
       "      <td>439</td>\n",
       "      <td>137</td>\n",
       "      <td>23</td>\n",
       "      <td>68</td>\n",
       "      <td>GridSearchCV(cv=5,\\n             estimator=Pip...</td>\n",
       "    </tr>\n",
       "    <tr>\n",
       "      <th>6</th>\n",
       "      <td>pipe_ss_rf</td>\n",
       "      <td>Sk: PP | ST | RF</td>\n",
       "      <td>0.92</td>\n",
       "      <td>0.80</td>\n",
       "      <td>0.52</td>\n",
       "      <td>0.63</td>\n",
       "      <td>564</td>\n",
       "      <td>12</td>\n",
       "      <td>44</td>\n",
       "      <td>47</td>\n",
       "      <td>(ColumnTransformer(remainder='passthrough',\\n ...</td>\n",
       "    </tr>\n",
       "  </tbody>\n",
       "</table>\n",
       "</div>"
      ],
      "text/plain": [
       "            Model_Name              Model_Description  Accuracy  Precision  \\\n",
       "0           pipe_ss_lr               Sk: PP | ST | LR      0.87       0.63   \n",
       "1  pipe_ss_lr_hyp_best  Sk: PP | ST | LR | HT | HT_CW      0.79       0.38   \n",
       "2           pipe_ss_lr               Sk: PP | ST | LR      0.86       0.48   \n",
       "3  pipe_ss_lr_hyp_best  Sk: PP | ST | LR | HT | HT_CW      0.78       0.36   \n",
       "4        imbpipe_ss_lr                   Imb: SM | LR      0.76       0.32   \n",
       "5    imbpipe_ss_lr_hyp              Imb: SM | LR | HT      0.76       0.33   \n",
       "6           pipe_ss_rf               Sk: PP | ST | RF      0.92       0.80   \n",
       "\n",
       "   Recall  F1_Score   TP   FP  FN  TN  \\\n",
       "0    0.20      0.30  560   11  77  19   \n",
       "1    0.72      0.49  457  114  27  69   \n",
       "2    0.23      0.31  553   23  70  21   \n",
       "3    0.74      0.48  456  120  24  67   \n",
       "4    0.70      0.44  441  135  27  64   \n",
       "5    0.75      0.46  439  137  23  68   \n",
       "6    0.52      0.63  564   12  44  47   \n",
       "\n",
       "                                               Model  \n",
       "0  (ColumnTransformer(remainder='passthrough',\\n ...  \n",
       "1  (ColumnTransformer(remainder='passthrough',\\n ...  \n",
       "2  (ColumnTransformer(remainder='passthrough',\\n ...  \n",
       "3  (ColumnTransformer(remainder='passthrough',\\n ...  \n",
       "4                    (SMOTE(), LogisticRegression())  \n",
       "5  GridSearchCV(cv=5,\\n             estimator=Pip...  \n",
       "6  (ColumnTransformer(remainder='passthrough',\\n ...  "
      ]
     },
     "execution_count": 195,
     "metadata": {},
     "output_type": "execute_result"
    }
   ],
   "source": [
    "model_results_df"
   ]
  },
  {
   "cell_type": "code",
   "execution_count": 196,
   "metadata": {},
   "outputs": [
    {
     "data": {
      "text/plain": [
       "array([0.05, 0.04, 0.02, 0.1 , 0.4 ])"
      ]
     },
     "execution_count": 196,
     "metadata": {},
     "output_type": "execute_result"
    }
   ],
   "source": [
    "y_pred_proba_all[:,1][:5]"
   ]
  },
  {
   "cell_type": "markdown",
   "metadata": {},
   "source": [
    "---"
   ]
  },
  {
   "cell_type": "markdown",
   "metadata": {},
   "source": [
    "## Hyperparameter Tuning on Random Forest"
   ]
  },
  {
   "cell_type": "code",
   "execution_count": 197,
   "metadata": {},
   "outputs": [],
   "source": [
    "#@@@@@@ Delete this cell after development:\n",
    "\n",
    "# To avoid running grid search while developing, HARDCODING \n",
    "# best grid parameters to the RF instance.\n",
    "\n",
    "grid_rf_best_estimator = RandomForestClassifier(n_estimators=10\n",
    "                                               ,max_depth=10\n",
    "                                               ,criterion='gini'\n",
    "                                               ,min_samples_leaf=1\n",
    "                                               ,min_samples_split=6)\n"
   ]
  },
  {
   "cell_type": "code",
   "execution_count": 112,
   "metadata": {},
   "outputs": [],
   "source": [
    "# @@@@@@@@@@@@@@@@@@@\n",
    "\n",
    "## Uncomment the cells BELOW after development"
   ]
  },
  {
   "cell_type": "code",
   "execution_count": 113,
   "metadata": {},
   "outputs": [],
   "source": [
    "# rf_params = {}\n",
    "# rf_params['randomforestclassifier__n_estimators'] = [10, 50, 100]\n",
    "# rf_params['randomforestclassifier__criterion'] = ['gini', 'entropy']\n",
    "# rf_params['randomforestclassifier__max_depth'] = [3,5,10]\n",
    "# rf_params['randomforestclassifier__min_samples_leaf'] = range(1,10)\n",
    "# rf_params['randomforestclassifier__min_samples_split'] = np.linspace(2,30,15,dtype=int)\n",
    "# rf_params"
   ]
  },
  {
   "cell_type": "code",
   "execution_count": 114,
   "metadata": {
    "scrolled": false
   },
   "outputs": [],
   "source": [
    "# grid_rf = GridSearchCV(estimator=pipe_rf_ss, param_grid=rf_params, cv=5, scoring='f1', n_jobs=-1)\n",
    "# grid_rf.fit(X_train, y_train);"
   ]
  },
  {
   "cell_type": "code",
   "execution_count": 115,
   "metadata": {},
   "outputs": [],
   "source": [
    "# # Best score and parameters\n",
    "# grid_rf.best_score_"
   ]
  },
  {
   "cell_type": "code",
   "execution_count": 116,
   "metadata": {},
   "outputs": [],
   "source": [
    "# grid_rf.best_params_"
   ]
  },
  {
   "cell_type": "code",
   "execution_count": 117,
   "metadata": {},
   "outputs": [],
   "source": [
    "# grid_rf_best_estimator = grid_rf.best_estimator_\n",
    "# grid_rf_best_estimator;"
   ]
  },
  {
   "cell_type": "code",
   "execution_count": 118,
   "metadata": {},
   "outputs": [],
   "source": [
    "# @@@@@@@@@@@@@@@@@@@\n",
    "\n",
    "## Uncomment the cells ABOVE after development"
   ]
  },
  {
   "cell_type": "code",
   "execution_count": 119,
   "metadata": {},
   "outputs": [],
   "source": [
    "# Pipeline with processed data and standardization + Random Forest + Best Grid after Hyper tuning\n",
    "# Calling the train and predict on the hyperparameter-tuned-pipeline pipe_ss\n",
    "\n",
    "y_pred, y_pred_proba_all = train_and_predict(grid_rf_best_estimator, X_train_tf_ss, X_test_tf_ss, y_train)"
   ]
  },
  {
   "cell_type": "code",
   "execution_count": 198,
   "metadata": {},
   "outputs": [
    {
     "name": "stdout",
     "output_type": "stream",
     "text": [
      "------------------------------------------------------------\n",
      "Accuracy  = 0.92\n",
      "Precision = 0.80\n",
      "Recall    = 0.52\n",
      "F1 score  = 0.63\n",
      "------------------------------\n",
      "Confusion Matrix:\n",
      " [[564  12]\n",
      " [ 44  47]]\n",
      "------------------------------\n",
      "Classification Report:\n",
      "               precision    recall  f1-score   support\n",
      "\n",
      "           0       0.93      0.98      0.95       576\n",
      "           1       0.80      0.52      0.63        91\n",
      "\n",
      "    accuracy                           0.92       667\n",
      "   macro avg       0.86      0.75      0.79       667\n",
      "weighted avg       0.91      0.92      0.91       667\n",
      "\n",
      "------------------------------------------------------------\n"
     ]
    }
   ],
   "source": [
    "model_results('grid_rf_best_pipe_ss'\n",
    "              ,grid_rf_best_estimator\n",
    "              ,'Sk: PP | ST | RF | HT'\n",
    "              ,y_test\n",
    "              ,y_pred)\n"
   ]
  },
  {
   "cell_type": "code",
   "execution_count": 199,
   "metadata": {
    "scrolled": false
   },
   "outputs": [
    {
     "data": {
      "image/png": "[encoded data removed]",
      "text/plain": [
       "<Figure size 432x288 with 1 Axes>"
      ]
     },
     "metadata": {},
     "output_type": "display_data"
    }
   ],
   "source": [
    "auroc('grid_rf_best_pipe_ss', grid_rf_best_estimator, X_test, y_test, y_pred_proba_all)"
   ]
  },
  {
   "cell_type": "code",
   "execution_count": 200,
   "metadata": {},
   "outputs": [
    {
     "data": {
      "image/png": "[encoded data removed]",
      "text/plain": [
       "<Figure size 432x288 with 1 Axes>"
      ]
     },
     "metadata": {},
     "output_type": "display_data"
    }
   ],
   "source": [
    "plot_pr_curve('grid_rf_best_pipe_ss', grid_rf_best_estimator, X_test_tf_ss, y_test, y_pred_proba_all)"
   ]
  },
  {
   "cell_type": "code",
   "execution_count": 201,
   "metadata": {
    "scrolled": true
   },
   "outputs": [
    {
     "data": {
      "text/html": [
       "<div>\n",
       "<style scoped>\n",
       "    .dataframe tbody tr th:only-of-type {\n",
       "        vertical-align: middle;\n",
       "    }\n",
       "\n",
       "    .dataframe tbody tr th {\n",
       "        vertical-align: top;\n",
       "    }\n",
       "\n",
       "    .dataframe thead th {\n",
       "        text-align: right;\n",
       "    }\n",
       "</style>\n",
       "<table border=\"1\" class=\"dataframe\">\n",
       "  <thead>\n",
       "    <tr style=\"text-align: right;\">\n",
       "      <th></th>\n",
       "      <th>Model_Name</th>\n",
       "      <th>Model_Description</th>\n",
       "      <th>Accuracy</th>\n",
       "      <th>Precision</th>\n",
       "      <th>Recall</th>\n",
       "      <th>F1_Score</th>\n",
       "      <th>TP</th>\n",
       "      <th>FP</th>\n",
       "      <th>FN</th>\n",
       "      <th>TN</th>\n",
       "      <th>Model</th>\n",
       "    </tr>\n",
       "  </thead>\n",
       "  <tbody>\n",
       "    <tr>\n",
       "      <th>0</th>\n",
       "      <td>pipe_ss_lr</td>\n",
       "      <td>Sk: PP | ST | LR</td>\n",
       "      <td>0.87</td>\n",
       "      <td>0.63</td>\n",
       "      <td>0.20</td>\n",
       "      <td>0.30</td>\n",
       "      <td>560</td>\n",
       "      <td>11</td>\n",
       "      <td>77</td>\n",
       "      <td>19</td>\n",
       "      <td>(ColumnTransformer(remainder='passthrough',\\n ...</td>\n",
       "    </tr>\n",
       "    <tr>\n",
       "      <th>1</th>\n",
       "      <td>pipe_ss_lr_hyp_best</td>\n",
       "      <td>Sk: PP | ST | LR | HT | HT_CW</td>\n",
       "      <td>0.79</td>\n",
       "      <td>0.38</td>\n",
       "      <td>0.72</td>\n",
       "      <td>0.49</td>\n",
       "      <td>457</td>\n",
       "      <td>114</td>\n",
       "      <td>27</td>\n",
       "      <td>69</td>\n",
       "      <td>(ColumnTransformer(remainder='passthrough',\\n ...</td>\n",
       "    </tr>\n",
       "    <tr>\n",
       "      <th>2</th>\n",
       "      <td>pipe_ss_lr</td>\n",
       "      <td>Sk: PP | ST | LR</td>\n",
       "      <td>0.86</td>\n",
       "      <td>0.48</td>\n",
       "      <td>0.23</td>\n",
       "      <td>0.31</td>\n",
       "      <td>553</td>\n",
       "      <td>23</td>\n",
       "      <td>70</td>\n",
       "      <td>21</td>\n",
       "      <td>(ColumnTransformer(remainder='passthrough',\\n ...</td>\n",
       "    </tr>\n",
       "    <tr>\n",
       "      <th>3</th>\n",
       "      <td>pipe_ss_lr_hyp_best</td>\n",
       "      <td>Sk: PP | ST | LR | HT | HT_CW</td>\n",
       "      <td>0.78</td>\n",
       "      <td>0.36</td>\n",
       "      <td>0.74</td>\n",
       "      <td>0.48</td>\n",
       "      <td>456</td>\n",
       "      <td>120</td>\n",
       "      <td>24</td>\n",
       "      <td>67</td>\n",
       "      <td>(ColumnTransformer(remainder='passthrough',\\n ...</td>\n",
       "    </tr>\n",
       "    <tr>\n",
       "      <th>4</th>\n",
       "      <td>imbpipe_ss_lr</td>\n",
       "      <td>Imb: SM | LR</td>\n",
       "      <td>0.76</td>\n",
       "      <td>0.32</td>\n",
       "      <td>0.70</td>\n",
       "      <td>0.44</td>\n",
       "      <td>441</td>\n",
       "      <td>135</td>\n",
       "      <td>27</td>\n",
       "      <td>64</td>\n",
       "      <td>(SMOTE(), LogisticRegression())</td>\n",
       "    </tr>\n",
       "    <tr>\n",
       "      <th>5</th>\n",
       "      <td>imbpipe_ss_lr_hyp</td>\n",
       "      <td>Imb: SM | LR | HT</td>\n",
       "      <td>0.76</td>\n",
       "      <td>0.33</td>\n",
       "      <td>0.75</td>\n",
       "      <td>0.46</td>\n",
       "      <td>439</td>\n",
       "      <td>137</td>\n",
       "      <td>23</td>\n",
       "      <td>68</td>\n",
       "      <td>GridSearchCV(cv=5,\\n             estimator=Pip...</td>\n",
       "    </tr>\n",
       "    <tr>\n",
       "      <th>6</th>\n",
       "      <td>pipe_ss_rf</td>\n",
       "      <td>Sk: PP | ST | RF</td>\n",
       "      <td>0.92</td>\n",
       "      <td>0.80</td>\n",
       "      <td>0.52</td>\n",
       "      <td>0.63</td>\n",
       "      <td>564</td>\n",
       "      <td>12</td>\n",
       "      <td>44</td>\n",
       "      <td>47</td>\n",
       "      <td>(ColumnTransformer(remainder='passthrough',\\n ...</td>\n",
       "    </tr>\n",
       "    <tr>\n",
       "      <th>7</th>\n",
       "      <td>grid_rf_best_pipe_ss</td>\n",
       "      <td>Sk: PP | ST | RF | HT</td>\n",
       "      <td>0.92</td>\n",
       "      <td>0.80</td>\n",
       "      <td>0.52</td>\n",
       "      <td>0.63</td>\n",
       "      <td>564</td>\n",
       "      <td>12</td>\n",
       "      <td>44</td>\n",
       "      <td>47</td>\n",
       "      <td>RandomForestClassifier(max_depth=10, min_sampl...</td>\n",
       "    </tr>\n",
       "  </tbody>\n",
       "</table>\n",
       "</div>"
      ],
      "text/plain": [
       "             Model_Name              Model_Description  Accuracy  Precision  \\\n",
       "0            pipe_ss_lr               Sk: PP | ST | LR      0.87       0.63   \n",
       "1   pipe_ss_lr_hyp_best  Sk: PP | ST | LR | HT | HT_CW      0.79       0.38   \n",
       "2            pipe_ss_lr               Sk: PP | ST | LR      0.86       0.48   \n",
       "3   pipe_ss_lr_hyp_best  Sk: PP | ST | LR | HT | HT_CW      0.78       0.36   \n",
       "4         imbpipe_ss_lr                   Imb: SM | LR      0.76       0.32   \n",
       "5     imbpipe_ss_lr_hyp              Imb: SM | LR | HT      0.76       0.33   \n",
       "6            pipe_ss_rf               Sk: PP | ST | RF      0.92       0.80   \n",
       "7  grid_rf_best_pipe_ss          Sk: PP | ST | RF | HT      0.92       0.80   \n",
       "\n",
       "   Recall  F1_Score   TP   FP  FN  TN  \\\n",
       "0    0.20      0.30  560   11  77  19   \n",
       "1    0.72      0.49  457  114  27  69   \n",
       "2    0.23      0.31  553   23  70  21   \n",
       "3    0.74      0.48  456  120  24  67   \n",
       "4    0.70      0.44  441  135  27  64   \n",
       "5    0.75      0.46  439  137  23  68   \n",
       "6    0.52      0.63  564   12  44  47   \n",
       "7    0.52      0.63  564   12  44  47   \n",
       "\n",
       "                                               Model  \n",
       "0  (ColumnTransformer(remainder='passthrough',\\n ...  \n",
       "1  (ColumnTransformer(remainder='passthrough',\\n ...  \n",
       "2  (ColumnTransformer(remainder='passthrough',\\n ...  \n",
       "3  (ColumnTransformer(remainder='passthrough',\\n ...  \n",
       "4                    (SMOTE(), LogisticRegression())  \n",
       "5  GridSearchCV(cv=5,\\n             estimator=Pip...  \n",
       "6  (ColumnTransformer(remainder='passthrough',\\n ...  \n",
       "7  RandomForestClassifier(max_depth=10, min_sampl...  "
      ]
     },
     "execution_count": 201,
     "metadata": {},
     "output_type": "execute_result"
    }
   ],
   "source": [
    "model_results_df"
   ]
  },
  {
   "cell_type": "markdown",
   "metadata": {},
   "source": [
    "**------------------------------------------------------------------------**\n",
    "\n",
    "**Insights from \"grid_rf_best_pipe_ss\"**\n",
    "\n",
    "_Notes:_\n",
    "- Hyperparameter tuned Random Forest \n",
    "- Model operated on preprocessed and standardized data.\n",
    "\n",
    "_Strengths:_\n",
    "- Much better: Accuracy, Precison (only 1 FP) \n",
    "- Best Area under the ROC curve\n",
    "\n",
    "_Weakness:_\n",
    "- Poor Recall (FN increased over previous models) and therefore, TN reduced by ~50%\n",
    "\n",
    "\n",
    "**------------------------------------------------------------------------**"
   ]
  },
  {
   "cell_type": "markdown",
   "metadata": {},
   "source": [
    "---"
   ]
  },
  {
   "cell_type": "markdown",
   "metadata": {},
   "source": [
    "## Learning Curves"
   ]
  },
  {
   "cell_type": "code",
   "execution_count": 202,
   "metadata": {},
   "outputs": [],
   "source": [
    "from sklearn.model_selection import learning_curve"
   ]
  },
  {
   "cell_type": "code",
   "execution_count": 203,
   "metadata": {},
   "outputs": [],
   "source": [
    "train_sizes, train_scores, test_scores = learning_curve(estimator = lr\n",
    "                                                        ,X = X_train_tf_ss # X_train # X_train[features_num]\n",
    "                                                        ,y = y_train\n",
    "                                                        ,train_sizes = np.linspace(0.1, 1, 10)\n",
    "                                                        ,cv = 10\n",
    "                                                        ,n_jobs = -1)"
   ]
  },
  {
   "cell_type": "code",
   "execution_count": 204,
   "metadata": {},
   "outputs": [
    {
     "data": {
      "text/plain": [
       "array([[0.95530726, 0.88826816, 0.88826816, 0.88826816, 0.88826816,\n",
       "        0.88826816, 0.88826816, 0.88826816, 0.88826816, 0.88826816],\n",
       "       [0.91922006, 0.89972145, 0.88857939, 0.88857939, 0.88857939,\n",
       "        0.88857939, 0.88857939, 0.88857939, 0.88857939, 0.88857939],\n",
       "       [0.89795918, 0.89053803, 0.90352505, 0.88868275, 0.88868275,\n",
       "        0.88868275, 0.88868275, 0.88868275, 0.88868275, 0.88868275],\n",
       "       [0.88178025, 0.87065369, 0.89012517, 0.88456189, 0.88873435,\n",
       "        0.88873435, 0.88873435, 0.88873435, 0.88873435, 0.88873435],\n",
       "       [0.88209121, 0.87541713, 0.88765295, 0.87541713, 0.86874305,\n",
       "        0.87430478, 0.87430478, 0.87430478, 0.87430478, 0.87430478],\n",
       "       [0.8721038 , 0.8665431 , 0.87673772, 0.87117702, 0.86005561,\n",
       "        0.87117702, 0.87488415, 0.87488415, 0.87488415, 0.87488415],\n",
       "       [0.87132645, 0.86814932, 0.87212073, 0.86814932, 0.86735504,\n",
       "        0.87291501, 0.87053217, 0.86656076, 0.86656076, 0.86656076],\n",
       "       [0.87630299, 0.87213343, 0.87838777, 0.87421821, 0.87282835,\n",
       "        0.87630299, 0.87352328, 0.87282835, 0.87074357, 0.87074357],\n",
       "       [0.87337863, 0.86967264, 0.87337863, 0.8702903 , 0.87276096,\n",
       "        0.87399629, 0.87090797, 0.86967264, 0.87090797, 0.87090797],\n",
       "       [0.87326292, 0.8704836 , 0.87548638, 0.87159533, 0.87270706,\n",
       "        0.8721512 , 0.8704836 , 0.87159533, 0.86881601, 0.8721512 ]])"
      ]
     },
     "execution_count": 204,
     "metadata": {},
     "output_type": "execute_result"
    }
   ],
   "source": [
    "len(train_scores)\n",
    "train_scores\n",
    "# X_train_tf"
   ]
  },
  {
   "cell_type": "code",
   "execution_count": 205,
   "metadata": {},
   "outputs": [],
   "source": [
    "train_mean = np.mean(train_scores, axis=1)\n",
    "train_std = np.std(train_scores, axis=1)\n",
    "test_mean = np.mean(test_scores, axis=1)\n",
    "test_std = np.std(test_scores, axis=1)"
   ]
  },
  {
   "cell_type": "code",
   "execution_count": 206,
   "metadata": {},
   "outputs": [
    {
     "data": {
      "image/png": "[encoded data removed]",
      "text/plain": [
       "<Figure size 432x288 with 1 Axes>"
      ]
     },
     "metadata": {},
     "output_type": "display_data"
    }
   ],
   "source": [
    "plt.plot(train_sizes, train_mean, color='blue', marker='o', markersize=5, label='training accuracy')\n",
    "plt.plot(train_sizes, test_mean, color='green', linestyle='--', marker='s', markersize=5, label='validation accuracy')\n",
    "# plt.grid()\n",
    "plt.xlabel('Number of training samples')\n",
    "plt.ylabel('Accuracy')\n",
    "plt.legend(loc='best')\n",
    "# plt.ylim([0.8, 1.0])\n",
    "plt.show()\n"
   ]
  },
  {
   "cell_type": "markdown",
   "metadata": {},
   "source": [
    "----"
   ]
  },
  {
   "cell_type": "markdown",
   "metadata": {},
   "source": [
    "### Feature Selection-2"
   ]
  },
  {
   "cell_type": "code",
   "execution_count": 207,
   "metadata": {},
   "outputs": [
    {
     "data": {
      "text/plain": [
       "SelectKBest(k='all', score_func=<function chi2 at 0x7ff8ccf4b280>)"
      ]
     },
     "execution_count": 207,
     "metadata": {},
     "output_type": "execute_result"
    }
   ],
   "source": [
    "bestk = SelectKBest(score_func=chi2, k='all')\n",
    "bestk"
   ]
  },
  {
   "cell_type": "code",
   "execution_count": 208,
   "metadata": {},
   "outputs": [
    {
     "data": {
      "text/plain": [
       "SelectKBest(k='all', score_func=<function chi2 at 0x7ff8ccf4b280>)"
      ]
     },
     "execution_count": 208,
     "metadata": {},
     "output_type": "execute_result"
    }
   ],
   "source": [
    "bestk.fit(X_train_tf, y_train)"
   ]
  },
  {
   "cell_type": "code",
   "execution_count": 209,
   "metadata": {},
   "outputs": [
    {
     "data": {
      "text/plain": [
       "18"
      ]
     },
     "execution_count": 209,
     "metadata": {},
     "output_type": "execute_result"
    }
   ],
   "source": [
    "idx_with_pval_less_005 = []\n",
    "for idx, pval in enumerate(bestk.pvalues_):\n",
    "    if pval < 0.05:\n",
    "        idx_with_pval_less_005.append(idx)\n",
    "\n",
    "len(idx_with_pval_less_005)"
   ]
  },
  {
   "cell_type": "code",
   "execution_count": 210,
   "metadata": {},
   "outputs": [
    {
     "data": {
      "text/html": [
       "<div>\n",
       "<style scoped>\n",
       "    .dataframe tbody tr th:only-of-type {\n",
       "        vertical-align: middle;\n",
       "    }\n",
       "\n",
       "    .dataframe tbody tr th {\n",
       "        vertical-align: top;\n",
       "    }\n",
       "\n",
       "    .dataframe thead th {\n",
       "        text-align: right;\n",
       "    }\n",
       "</style>\n",
       "<table border=\"1\" class=\"dataframe\">\n",
       "  <thead>\n",
       "    <tr style=\"text-align: right;\">\n",
       "      <th></th>\n",
       "      <th>Intl_Plan</th>\n",
       "      <th>Vmail_Plan</th>\n",
       "      <th>x0_CA</th>\n",
       "      <th>x0_MD</th>\n",
       "      <th>x0_MS</th>\n",
       "      <th>x0_NJ</th>\n",
       "      <th>x0_VA</th>\n",
       "      <th>x0_WA</th>\n",
       "      <th>x0_WI</th>\n",
       "      <th>Account_Length</th>\n",
       "      <th>CustServ_Calls</th>\n",
       "      <th>Day_Calls</th>\n",
       "      <th>Day_Charge</th>\n",
       "      <th>Eve_Calls</th>\n",
       "      <th>Eve_Charge</th>\n",
       "      <th>Night_Calls</th>\n",
       "      <th>Intl_Calls</th>\n",
       "      <th>Vmail_Message_b</th>\n",
       "    </tr>\n",
       "  </thead>\n",
       "  <tbody>\n",
       "    <tr>\n",
       "      <th>0</th>\n",
       "      <td>1.0</td>\n",
       "      <td>0.0</td>\n",
       "      <td>0.0</td>\n",
       "      <td>0.0</td>\n",
       "      <td>0.0</td>\n",
       "      <td>0.0</td>\n",
       "      <td>0.0</td>\n",
       "      <td>0.0</td>\n",
       "      <td>0.0</td>\n",
       "      <td>99.0</td>\n",
       "      <td>4.0</td>\n",
       "      <td>127.0</td>\n",
       "      <td>33.52</td>\n",
       "      <td>92.0</td>\n",
       "      <td>13.26</td>\n",
       "      <td>99.0</td>\n",
       "      <td>6.0</td>\n",
       "      <td>0.0</td>\n",
       "    </tr>\n",
       "    <tr>\n",
       "      <th>1</th>\n",
       "      <td>0.0</td>\n",
       "      <td>1.0</td>\n",
       "      <td>0.0</td>\n",
       "      <td>0.0</td>\n",
       "      <td>0.0</td>\n",
       "      <td>0.0</td>\n",
       "      <td>0.0</td>\n",
       "      <td>0.0</td>\n",
       "      <td>0.0</td>\n",
       "      <td>101.0</td>\n",
       "      <td>2.0</td>\n",
       "      <td>88.0</td>\n",
       "      <td>40.46</td>\n",
       "      <td>84.0</td>\n",
       "      <td>17.82</td>\n",
       "      <td>95.0</td>\n",
       "      <td>5.0</td>\n",
       "      <td>1.0</td>\n",
       "    </tr>\n",
       "    <tr>\n",
       "      <th>2</th>\n",
       "      <td>1.0</td>\n",
       "      <td>0.0</td>\n",
       "      <td>1.0</td>\n",
       "      <td>0.0</td>\n",
       "      <td>0.0</td>\n",
       "      <td>0.0</td>\n",
       "      <td>0.0</td>\n",
       "      <td>0.0</td>\n",
       "      <td>0.0</td>\n",
       "      <td>124.0</td>\n",
       "      <td>1.0</td>\n",
       "      <td>89.0</td>\n",
       "      <td>41.58</td>\n",
       "      <td>80.0</td>\n",
       "      <td>16.05</td>\n",
       "      <td>114.0</td>\n",
       "      <td>4.0</td>\n",
       "      <td>0.0</td>\n",
       "    </tr>\n",
       "    <tr>\n",
       "      <th>3</th>\n",
       "      <td>1.0</td>\n",
       "      <td>1.0</td>\n",
       "      <td>0.0</td>\n",
       "      <td>0.0</td>\n",
       "      <td>0.0</td>\n",
       "      <td>1.0</td>\n",
       "      <td>0.0</td>\n",
       "      <td>0.0</td>\n",
       "      <td>0.0</td>\n",
       "      <td>95.0</td>\n",
       "      <td>0.0</td>\n",
       "      <td>109.0</td>\n",
       "      <td>37.43</td>\n",
       "      <td>99.0</td>\n",
       "      <td>15.75</td>\n",
       "      <td>82.0</td>\n",
       "      <td>2.0</td>\n",
       "      <td>1.0</td>\n",
       "    </tr>\n",
       "    <tr>\n",
       "      <th>4</th>\n",
       "      <td>0.0</td>\n",
       "      <td>1.0</td>\n",
       "      <td>0.0</td>\n",
       "      <td>0.0</td>\n",
       "      <td>0.0</td>\n",
       "      <td>0.0</td>\n",
       "      <td>0.0</td>\n",
       "      <td>0.0</td>\n",
       "      <td>0.0</td>\n",
       "      <td>91.0</td>\n",
       "      <td>3.0</td>\n",
       "      <td>96.0</td>\n",
       "      <td>34.78</td>\n",
       "      <td>93.0</td>\n",
       "      <td>11.56</td>\n",
       "      <td>82.0</td>\n",
       "      <td>2.0</td>\n",
       "      <td>1.0</td>\n",
       "    </tr>\n",
       "  </tbody>\n",
       "</table>\n",
       "</div>"
      ],
      "text/plain": [
       "   Intl_Plan  Vmail_Plan  x0_CA  x0_MD  x0_MS  x0_NJ  x0_VA  x0_WA  x0_WI  \\\n",
       "0        1.0         0.0    0.0    0.0    0.0    0.0    0.0    0.0    0.0   \n",
       "1        0.0         1.0    0.0    0.0    0.0    0.0    0.0    0.0    0.0   \n",
       "2        1.0         0.0    1.0    0.0    0.0    0.0    0.0    0.0    0.0   \n",
       "3        1.0         1.0    0.0    0.0    0.0    1.0    0.0    0.0    0.0   \n",
       "4        0.0         1.0    0.0    0.0    0.0    0.0    0.0    0.0    0.0   \n",
       "\n",
       "   Account_Length  CustServ_Calls  Day_Calls  Day_Charge  Eve_Calls  \\\n",
       "0            99.0             4.0      127.0       33.52       92.0   \n",
       "1           101.0             2.0       88.0       40.46       84.0   \n",
       "2           124.0             1.0       89.0       41.58       80.0   \n",
       "3            95.0             0.0      109.0       37.43       99.0   \n",
       "4            91.0             3.0       96.0       34.78       93.0   \n",
       "\n",
       "   Eve_Charge  Night_Calls  Intl_Calls  Vmail_Message_b  \n",
       "0       13.26         99.0         6.0              0.0  \n",
       "1       17.82         95.0         5.0              1.0  \n",
       "2       16.05        114.0         4.0              0.0  \n",
       "3       15.75         82.0         2.0              1.0  \n",
       "4       11.56         82.0         2.0              1.0  "
      ]
     },
     "execution_count": 210,
     "metadata": {},
     "output_type": "execute_result"
    }
   ],
   "source": [
    "# Filter X_train_tf dataframe to contain only statistically significant features\n",
    "# Note: This is a univariate selection so its only comparing individual feature\n",
    "# with the target.\n",
    "\n",
    "X_train_tf_chi2_selected = X_train_tf.iloc[:, idx_with_pval_less_005]\n",
    "X_train_tf_chi2_selected.head()"
   ]
  },
  {
   "cell_type": "code",
   "execution_count": 211,
   "metadata": {},
   "outputs": [
    {
     "data": {
      "text/html": [
       "<div>\n",
       "<style scoped>\n",
       "    .dataframe tbody tr th:only-of-type {\n",
       "        vertical-align: middle;\n",
       "    }\n",
       "\n",
       "    .dataframe tbody tr th {\n",
       "        vertical-align: top;\n",
       "    }\n",
       "\n",
       "    .dataframe thead th {\n",
       "        text-align: right;\n",
       "    }\n",
       "</style>\n",
       "<table border=\"1\" class=\"dataframe\">\n",
       "  <thead>\n",
       "    <tr style=\"text-align: right;\">\n",
       "      <th></th>\n",
       "      <th>Features</th>\n",
       "      <th>pvalues</th>\n",
       "    </tr>\n",
       "  </thead>\n",
       "  <tbody>\n",
       "    <tr>\n",
       "      <th>0</th>\n",
       "      <td>Intl_Plan</td>\n",
       "      <td>5.062363e-30</td>\n",
       "    </tr>\n",
       "    <tr>\n",
       "      <th>1</th>\n",
       "      <td>Vmail_Plan</td>\n",
       "      <td>5.725383e-06</td>\n",
       "    </tr>\n",
       "    <tr>\n",
       "      <th>2</th>\n",
       "      <td>x0_AK</td>\n",
       "      <td>1.985410e-01</td>\n",
       "    </tr>\n",
       "    <tr>\n",
       "      <th>3</th>\n",
       "      <td>x0_AL</td>\n",
       "      <td>9.371557e-02</td>\n",
       "    </tr>\n",
       "    <tr>\n",
       "      <th>4</th>\n",
       "      <td>x0_AR</td>\n",
       "      <td>9.615712e-01</td>\n",
       "    </tr>\n",
       "    <tr>\n",
       "      <th>...</th>\n",
       "      <td>...</td>\n",
       "      <td>...</td>\n",
       "    </tr>\n",
       "    <tr>\n",
       "      <th>59</th>\n",
       "      <td>Night_Calls</td>\n",
       "      <td>4.360563e-02</td>\n",
       "    </tr>\n",
       "    <tr>\n",
       "      <th>60</th>\n",
       "      <td>Night_Charge</td>\n",
       "      <td>2.965459e-01</td>\n",
       "    </tr>\n",
       "    <tr>\n",
       "      <th>61</th>\n",
       "      <td>Intl_Calls</td>\n",
       "      <td>1.502351e-02</td>\n",
       "    </tr>\n",
       "    <tr>\n",
       "      <th>62</th>\n",
       "      <td>Intl_Charge</td>\n",
       "      <td>4.273648e-01</td>\n",
       "    </tr>\n",
       "    <tr>\n",
       "      <th>63</th>\n",
       "      <td>Vmail_Message_b</td>\n",
       "      <td>5.725383e-06</td>\n",
       "    </tr>\n",
       "  </tbody>\n",
       "</table>\n",
       "<p>64 rows × 2 columns</p>\n",
       "</div>"
      ],
      "text/plain": [
       "           Features       pvalues\n",
       "0         Intl_Plan  5.062363e-30\n",
       "1        Vmail_Plan  5.725383e-06\n",
       "2             x0_AK  1.985410e-01\n",
       "3             x0_AL  9.371557e-02\n",
       "4             x0_AR  9.615712e-01\n",
       "..              ...           ...\n",
       "59      Night_Calls  4.360563e-02\n",
       "60     Night_Charge  2.965459e-01\n",
       "61       Intl_Calls  1.502351e-02\n",
       "62      Intl_Charge  4.273648e-01\n",
       "63  Vmail_Message_b  5.725383e-06\n",
       "\n",
       "[64 rows x 2 columns]"
      ]
     },
     "execution_count": 211,
     "metadata": {},
     "output_type": "execute_result"
    }
   ],
   "source": [
    "# All the preselected features for feature selection seem important based on\n",
    "# their low p-values (<0.05)\n",
    "pd.DataFrame(zip(X_train_tf, bestk.pvalues_), columns=['Features','pvalues'])"
   ]
  },
  {
   "cell_type": "code",
   "execution_count": 134,
   "metadata": {},
   "outputs": [],
   "source": [
    "# grid_best_estimator.fit(X_train_tf_chi2_selected, y_train)"
   ]
  },
  {
   "cell_type": "markdown",
   "metadata": {},
   "source": [
    "---"
   ]
  },
  {
   "cell_type": "code",
   "execution_count": 135,
   "metadata": {},
   "outputs": [],
   "source": [
    "# See variable selection from Datacamp logistic regression\n",
    "\n",
    "\n",
    "\n",
    "\n",
    "\n",
    "\n"
   ]
  },
  {
   "cell_type": "markdown",
   "metadata": {},
   "source": [
    "---"
   ]
  },
  {
   "cell_type": "markdown",
   "metadata": {},
   "source": [
    "### RFE within pipeline"
   ]
  },
  {
   "cell_type": "code",
   "execution_count": 213,
   "metadata": {},
   "outputs": [
    {
     "data": {
      "text/plain": [
       "RFE(estimator=LogisticRegression())"
      ]
     },
     "execution_count": 213,
     "metadata": {},
     "output_type": "execute_result"
    }
   ],
   "source": [
    "rfe = RFE(lr, step=1)\n",
    "rfe"
   ]
  },
  {
   "cell_type": "code",
   "execution_count": 214,
   "metadata": {},
   "outputs": [],
   "source": [
    "pipe_with_fs = make_pipeline(preprocessor, rfe, lr)"
   ]
  },
  {
   "cell_type": "code",
   "execution_count": 215,
   "metadata": {},
   "outputs": [
    {
     "name": "stderr",
     "output_type": "stream",
     "text": [
      "/Users/ashishsharma/opt/anaconda3/lib/python3.8/site-packages/sklearn/linear_model/_logistic.py:763: ConvergenceWarning: lbfgs failed to converge (status=1):\n",
      "STOP: TOTAL NO. of ITERATIONS REACHED LIMIT.\n",
      "\n",
      "Increase the number of iterations (max_iter) or scale the data as shown in:\n",
      "    https://scikit-learn.org/stable/modules/preprocessing.html\n",
      "Please also refer to the documentation for alternative solver options:\n",
      "    https://scikit-learn.org/stable/modules/linear_model.html#logistic-regression\n",
      "  n_iter_i = _check_optimize_result(\n",
      "/Users/ashishsharma/opt/anaconda3/lib/python3.8/site-packages/sklearn/linear_model/_logistic.py:763: ConvergenceWarning: lbfgs failed to converge (status=1):\n",
      "STOP: TOTAL NO. of ITERATIONS REACHED LIMIT.\n",
      "\n",
      "Increase the number of iterations (max_iter) or scale the data as shown in:\n",
      "    https://scikit-learn.org/stable/modules/preprocessing.html\n",
      "Please also refer to the documentation for alternative solver options:\n",
      "    https://scikit-learn.org/stable/modules/linear_model.html#logistic-regression\n",
      "  n_iter_i = _check_optimize_result(\n",
      "/Users/ashishsharma/opt/anaconda3/lib/python3.8/site-packages/sklearn/linear_model/_logistic.py:763: ConvergenceWarning: lbfgs failed to converge (status=1):\n",
      "STOP: TOTAL NO. of ITERATIONS REACHED LIMIT.\n",
      "\n",
      "Increase the number of iterations (max_iter) or scale the data as shown in:\n",
      "    https://scikit-learn.org/stable/modules/preprocessing.html\n",
      "Please also refer to the documentation for alternative solver options:\n",
      "    https://scikit-learn.org/stable/modules/linear_model.html#logistic-regression\n",
      "  n_iter_i = _check_optimize_result(\n",
      "/Users/ashishsharma/opt/anaconda3/lib/python3.8/site-packages/sklearn/linear_model/_logistic.py:763: ConvergenceWarning: lbfgs failed to converge (status=1):\n",
      "STOP: TOTAL NO. of ITERATIONS REACHED LIMIT.\n",
      "\n",
      "Increase the number of iterations (max_iter) or scale the data as shown in:\n",
      "    https://scikit-learn.org/stable/modules/preprocessing.html\n",
      "Please also refer to the documentation for alternative solver options:\n",
      "    https://scikit-learn.org/stable/modules/linear_model.html#logistic-regression\n",
      "  n_iter_i = _check_optimize_result(\n",
      "/Users/ashishsharma/opt/anaconda3/lib/python3.8/site-packages/sklearn/linear_model/_logistic.py:763: ConvergenceWarning: lbfgs failed to converge (status=1):\n",
      "STOP: TOTAL NO. of ITERATIONS REACHED LIMIT.\n",
      "\n",
      "Increase the number of iterations (max_iter) or scale the data as shown in:\n",
      "    https://scikit-learn.org/stable/modules/preprocessing.html\n",
      "Please also refer to the documentation for alternative solver options:\n",
      "    https://scikit-learn.org/stable/modules/linear_model.html#logistic-regression\n",
      "  n_iter_i = _check_optimize_result(\n",
      "/Users/ashishsharma/opt/anaconda3/lib/python3.8/site-packages/sklearn/linear_model/_logistic.py:763: ConvergenceWarning: lbfgs failed to converge (status=1):\n",
      "STOP: TOTAL NO. of ITERATIONS REACHED LIMIT.\n",
      "\n",
      "Increase the number of iterations (max_iter) or scale the data as shown in:\n",
      "    https://scikit-learn.org/stable/modules/preprocessing.html\n",
      "Please also refer to the documentation for alternative solver options:\n",
      "    https://scikit-learn.org/stable/modules/linear_model.html#logistic-regression\n",
      "  n_iter_i = _check_optimize_result(\n",
      "/Users/ashishsharma/opt/anaconda3/lib/python3.8/site-packages/sklearn/linear_model/_logistic.py:763: ConvergenceWarning: lbfgs failed to converge (status=1):\n",
      "STOP: TOTAL NO. of ITERATIONS REACHED LIMIT.\n",
      "\n",
      "Increase the number of iterations (max_iter) or scale the data as shown in:\n",
      "    https://scikit-learn.org/stable/modules/preprocessing.html\n",
      "Please also refer to the documentation for alternative solver options:\n",
      "    https://scikit-learn.org/stable/modules/linear_model.html#logistic-regression\n",
      "  n_iter_i = _check_optimize_result(\n",
      "/Users/ashishsharma/opt/anaconda3/lib/python3.8/site-packages/sklearn/linear_model/_logistic.py:763: ConvergenceWarning: lbfgs failed to converge (status=1):\n",
      "STOP: TOTAL NO. of ITERATIONS REACHED LIMIT.\n",
      "\n",
      "Increase the number of iterations (max_iter) or scale the data as shown in:\n",
      "    https://scikit-learn.org/stable/modules/preprocessing.html\n",
      "Please also refer to the documentation for alternative solver options:\n",
      "    https://scikit-learn.org/stable/modules/linear_model.html#logistic-regression\n",
      "  n_iter_i = _check_optimize_result(\n",
      "/Users/ashishsharma/opt/anaconda3/lib/python3.8/site-packages/sklearn/linear_model/_logistic.py:763: ConvergenceWarning: lbfgs failed to converge (status=1):\n",
      "STOP: TOTAL NO. of ITERATIONS REACHED LIMIT.\n",
      "\n",
      "Increase the number of iterations (max_iter) or scale the data as shown in:\n",
      "    https://scikit-learn.org/stable/modules/preprocessing.html\n",
      "Please also refer to the documentation for alternative solver options:\n",
      "    https://scikit-learn.org/stable/modules/linear_model.html#logistic-regression\n",
      "  n_iter_i = _check_optimize_result(\n",
      "/Users/ashishsharma/opt/anaconda3/lib/python3.8/site-packages/sklearn/linear_model/_logistic.py:763: ConvergenceWarning: lbfgs failed to converge (status=1):\n",
      "STOP: TOTAL NO. of ITERATIONS REACHED LIMIT.\n",
      "\n",
      "Increase the number of iterations (max_iter) or scale the data as shown in:\n",
      "    https://scikit-learn.org/stable/modules/preprocessing.html\n",
      "Please also refer to the documentation for alternative solver options:\n",
      "    https://scikit-learn.org/stable/modules/linear_model.html#logistic-regression\n",
      "  n_iter_i = _check_optimize_result(\n",
      "/Users/ashishsharma/opt/anaconda3/lib/python3.8/site-packages/sklearn/linear_model/_logistic.py:763: ConvergenceWarning: lbfgs failed to converge (status=1):\n",
      "STOP: TOTAL NO. of ITERATIONS REACHED LIMIT.\n",
      "\n",
      "Increase the number of iterations (max_iter) or scale the data as shown in:\n",
      "    https://scikit-learn.org/stable/modules/preprocessing.html\n",
      "Please also refer to the documentation for alternative solver options:\n",
      "    https://scikit-learn.org/stable/modules/linear_model.html#logistic-regression\n",
      "  n_iter_i = _check_optimize_result(\n",
      "/Users/ashishsharma/opt/anaconda3/lib/python3.8/site-packages/sklearn/linear_model/_logistic.py:763: ConvergenceWarning: lbfgs failed to converge (status=1):\n",
      "STOP: TOTAL NO. of ITERATIONS REACHED LIMIT.\n",
      "\n",
      "Increase the number of iterations (max_iter) or scale the data as shown in:\n",
      "    https://scikit-learn.org/stable/modules/preprocessing.html\n",
      "Please also refer to the documentation for alternative solver options:\n",
      "    https://scikit-learn.org/stable/modules/linear_model.html#logistic-regression\n",
      "  n_iter_i = _check_optimize_result(\n",
      "/Users/ashishsharma/opt/anaconda3/lib/python3.8/site-packages/sklearn/linear_model/_logistic.py:763: ConvergenceWarning: lbfgs failed to converge (status=1):\n",
      "STOP: TOTAL NO. of ITERATIONS REACHED LIMIT.\n",
      "\n",
      "Increase the number of iterations (max_iter) or scale the data as shown in:\n",
      "    https://scikit-learn.org/stable/modules/preprocessing.html\n",
      "Please also refer to the documentation for alternative solver options:\n",
      "    https://scikit-learn.org/stable/modules/linear_model.html#logistic-regression\n",
      "  n_iter_i = _check_optimize_result(\n",
      "/Users/ashishsharma/opt/anaconda3/lib/python3.8/site-packages/sklearn/linear_model/_logistic.py:763: ConvergenceWarning: lbfgs failed to converge (status=1):\n",
      "STOP: TOTAL NO. of ITERATIONS REACHED LIMIT.\n",
      "\n",
      "Increase the number of iterations (max_iter) or scale the data as shown in:\n",
      "    https://scikit-learn.org/stable/modules/preprocessing.html\n",
      "Please also refer to the documentation for alternative solver options:\n",
      "    https://scikit-learn.org/stable/modules/linear_model.html#logistic-regression\n",
      "  n_iter_i = _check_optimize_result(\n",
      "/Users/ashishsharma/opt/anaconda3/lib/python3.8/site-packages/sklearn/linear_model/_logistic.py:763: ConvergenceWarning: lbfgs failed to converge (status=1):\n",
      "STOP: TOTAL NO. of ITERATIONS REACHED LIMIT.\n",
      "\n",
      "Increase the number of iterations (max_iter) or scale the data as shown in:\n",
      "    https://scikit-learn.org/stable/modules/preprocessing.html\n",
      "Please also refer to the documentation for alternative solver options:\n",
      "    https://scikit-learn.org/stable/modules/linear_model.html#logistic-regression\n",
      "  n_iter_i = _check_optimize_result(\n",
      "/Users/ashishsharma/opt/anaconda3/lib/python3.8/site-packages/sklearn/linear_model/_logistic.py:763: ConvergenceWarning: lbfgs failed to converge (status=1):\n",
      "STOP: TOTAL NO. of ITERATIONS REACHED LIMIT.\n",
      "\n",
      "Increase the number of iterations (max_iter) or scale the data as shown in:\n",
      "    https://scikit-learn.org/stable/modules/preprocessing.html\n",
      "Please also refer to the documentation for alternative solver options:\n",
      "    https://scikit-learn.org/stable/modules/linear_model.html#logistic-regression\n",
      "  n_iter_i = _check_optimize_result(\n",
      "/Users/ashishsharma/opt/anaconda3/lib/python3.8/site-packages/sklearn/linear_model/_logistic.py:763: ConvergenceWarning: lbfgs failed to converge (status=1):\n",
      "STOP: TOTAL NO. of ITERATIONS REACHED LIMIT.\n",
      "\n",
      "Increase the number of iterations (max_iter) or scale the data as shown in:\n",
      "    https://scikit-learn.org/stable/modules/preprocessing.html\n",
      "Please also refer to the documentation for alternative solver options:\n",
      "    https://scikit-learn.org/stable/modules/linear_model.html#logistic-regression\n",
      "  n_iter_i = _check_optimize_result(\n",
      "/Users/ashishsharma/opt/anaconda3/lib/python3.8/site-packages/sklearn/linear_model/_logistic.py:763: ConvergenceWarning: lbfgs failed to converge (status=1):\n",
      "STOP: TOTAL NO. of ITERATIONS REACHED LIMIT.\n",
      "\n",
      "Increase the number of iterations (max_iter) or scale the data as shown in:\n",
      "    https://scikit-learn.org/stable/modules/preprocessing.html\n",
      "Please also refer to the documentation for alternative solver options:\n",
      "    https://scikit-learn.org/stable/modules/linear_model.html#logistic-regression\n",
      "  n_iter_i = _check_optimize_result(\n"
     ]
    }
   ],
   "source": [
    "pipe_with_fs.fit(X_train, y_train);"
   ]
  },
  {
   "cell_type": "code",
   "execution_count": 216,
   "metadata": {},
   "outputs": [],
   "source": [
    "y_pred_with_fs = pipe_with_fs.predict(X_test)"
   ]
  },
  {
   "cell_type": "code",
   "execution_count": 217,
   "metadata": {},
   "outputs": [
    {
     "data": {
      "text/plain": [
       "array([[0.91339299, 0.08660701],\n",
       "       [0.95247359, 0.04752641],\n",
       "       [0.96084098, 0.03915902],\n",
       "       ...,\n",
       "       [0.86768464, 0.13231536],\n",
       "       [0.85657151, 0.14342849],\n",
       "       [0.97343112, 0.02656888]])"
      ]
     },
     "execution_count": 217,
     "metadata": {},
     "output_type": "execute_result"
    }
   ],
   "source": [
    "y_pred_proba_with_fs = pipe_with_fs.predict_proba(X_test)\n",
    "y_pred_proba_with_fs"
   ]
  },
  {
   "cell_type": "code",
   "execution_count": 218,
   "metadata": {},
   "outputs": [
    {
     "data": {
      "text/plain": [
       "array([[566,  10],\n",
       "       [ 80,  11]])"
      ]
     },
     "execution_count": 218,
     "metadata": {},
     "output_type": "execute_result"
    }
   ],
   "source": [
    "# Confusion matrix as this is a imbalanced dataset\n",
    "\n",
    "confusion_matrix(y_test, y_pred_with_fs)"
   ]
  },
  {
   "cell_type": "code",
   "execution_count": 219,
   "metadata": {},
   "outputs": [
    {
     "name": "stdout",
     "output_type": "stream",
     "text": [
      "Precision = 52.38%\n",
      "Recall    = 12.09%\n",
      "F1 Score  = 19.64%\n"
     ]
    }
   ],
   "source": [
    "print('Precision = {0:.2f}%'.format(precision_score(y_test, y_pred_with_fs)*100))\n",
    "print('Recall    = {0:.2f}%'.format(recall_score(y_test, y_pred_with_fs)*100))\n",
    "print('F1 Score  = {0:.2f}%'.format(f1_score(y_test, y_pred_with_fs)*100))"
   ]
  },
  {
   "cell_type": "code",
   "execution_count": 220,
   "metadata": {
    "scrolled": false
   },
   "outputs": [
    {
     "name": "stdout",
     "output_type": "stream",
     "text": [
      "              precision    recall  f1-score   support\n",
      "\n",
      "           0       0.88      0.98      0.93       576\n",
      "           1       0.52      0.12      0.20        91\n",
      "\n",
      "    accuracy                           0.87       667\n",
      "   macro avg       0.70      0.55      0.56       667\n",
      "weighted avg       0.83      0.87      0.83       667\n",
      "\n"
     ]
    }
   ],
   "source": [
    "print(classification_report(y_test, y_pred_with_fs))"
   ]
  },
  {
   "cell_type": "code",
   "execution_count": 221,
   "metadata": {},
   "outputs": [
    {
     "data": {
      "text/plain": [
       "0.8650674662668666"
      ]
     },
     "execution_count": 221,
     "metadata": {},
     "output_type": "execute_result"
    }
   ],
   "source": [
    "pipe_with_fs.score(X_test, y_test)"
   ]
  },
  {
   "cell_type": "markdown",
   "metadata": {},
   "source": [
    "**Accuracy increased by ~1% with RFE**"
   ]
  },
  {
   "cell_type": "code",
   "execution_count": 222,
   "metadata": {},
   "outputs": [
    {
     "data": {
      "text/html": [
       "<div>\n",
       "<style scoped>\n",
       "    .dataframe tbody tr th:only-of-type {\n",
       "        vertical-align: middle;\n",
       "    }\n",
       "\n",
       "    .dataframe tbody tr th {\n",
       "        vertical-align: top;\n",
       "    }\n",
       "\n",
       "    .dataframe thead th {\n",
       "        text-align: right;\n",
       "    }\n",
       "</style>\n",
       "<table border=\"1\" class=\"dataframe\">\n",
       "  <thead>\n",
       "    <tr style=\"text-align: right;\">\n",
       "      <th></th>\n",
       "      <th>FPR</th>\n",
       "      <th>TPR</th>\n",
       "      <th>Thresholds</th>\n",
       "    </tr>\n",
       "  </thead>\n",
       "  <tbody>\n",
       "    <tr>\n",
       "      <th>0</th>\n",
       "      <td>0.000000</td>\n",
       "      <td>0.000000</td>\n",
       "      <td>1.767991</td>\n",
       "    </tr>\n",
       "    <tr>\n",
       "      <th>1</th>\n",
       "      <td>0.001736</td>\n",
       "      <td>0.000000</td>\n",
       "      <td>0.767991</td>\n",
       "    </tr>\n",
       "    <tr>\n",
       "      <th>2</th>\n",
       "      <td>0.001736</td>\n",
       "      <td>0.010989</td>\n",
       "      <td>0.739709</td>\n",
       "    </tr>\n",
       "    <tr>\n",
       "      <th>3</th>\n",
       "      <td>0.003472</td>\n",
       "      <td>0.010989</td>\n",
       "      <td>0.699325</td>\n",
       "    </tr>\n",
       "    <tr>\n",
       "      <th>4</th>\n",
       "      <td>0.003472</td>\n",
       "      <td>0.021978</td>\n",
       "      <td>0.673016</td>\n",
       "    </tr>\n",
       "  </tbody>\n",
       "</table>\n",
       "</div>"
      ],
      "text/plain": [
       "        FPR       TPR  Thresholds\n",
       "0  0.000000  0.000000    1.767991\n",
       "1  0.001736  0.000000    0.767991\n",
       "2  0.001736  0.010989    0.739709\n",
       "3  0.003472  0.010989    0.699325\n",
       "4  0.003472  0.021978    0.673016"
      ]
     },
     "execution_count": 222,
     "metadata": {},
     "output_type": "execute_result"
    }
   ],
   "source": [
    "fpr_with_fs, tpr_with_fs, thresholds_with_fs = roc_curve(y_test, y_pred_proba_with_fs[:,1])\n",
    "\n",
    "roc_df_with_fs = pd.DataFrame({'FPR': fpr_with_fs, 'TPR':tpr_with_fs, 'Thresholds':thresholds_with_fs})\n",
    "roc_df_with_fs.head()"
   ]
  },
  {
   "cell_type": "code",
   "execution_count": 223,
   "metadata": {},
   "outputs": [
    {
     "data": {
      "image/png": "[encoded data removed]",
      "text/plain": [
       "<Figure size 432x288 with 1 Axes>"
      ]
     },
     "metadata": {},
     "output_type": "display_data"
    }
   ],
   "source": [
    "# Plotting the ROC curve\n",
    "\n",
    "plt.plot(fpr_with_fs, tpr_with_fs, label='ROC Curve after RFE')\n",
    "\n",
    "plt.ylabel('True Positive Rate (TPR) / Recall / Sensitivity')\n",
    "plt.xlabel('False Positive Rate (FPR) or (1-Specificity)')\n",
    "plt.title('ROC Curve of Logistic model', size=14)\n",
    "\n",
    "# plot diagonal that illustrates model that randomly guesses\n",
    "plt.plot([0,1],[0,1], linestyle='--', color='orange', label='Random guess model')\n",
    "\n",
    "plt.legend(loc='lower right')\n",
    "plt.show()"
   ]
  },
  {
   "cell_type": "code",
   "execution_count": 224,
   "metadata": {},
   "outputs": [
    {
     "data": {
      "text/plain": [
       "0.7106990231990233"
      ]
     },
     "execution_count": 224,
     "metadata": {},
     "output_type": "execute_result"
    }
   ],
   "source": [
    "roc_auc_score(y_test, y_pred_proba_with_fs[:,1])"
   ]
  },
  {
   "cell_type": "markdown",
   "metadata": {},
   "source": [
    "**AUC dropped ~2% by using dataset post RFE**"
   ]
  },
  {
   "cell_type": "markdown",
   "metadata": {},
   "source": [
    "---"
   ]
  },
  {
   "cell_type": "markdown",
   "metadata": {},
   "source": [
    "### DF of RFE important features (RFE rank=1)\n",
    "\n",
    "- The transform() method of RFE selects features that have a ranking=1 that is determined within the RFE fit() method\n",
    "- Within the pipeline, only those pre-selected features are sent to the ML model.\n",
    "- Below, we form a dataframe containing those RFE selected features"
   ]
  },
  {
   "cell_type": "code",
   "execution_count": 225,
   "metadata": {},
   "outputs": [],
   "source": [
    "# Checking if RFE within the pipeline selected 32 features or not\n",
    "# Based on a individual run of RFE on df_train_tf"
   ]
  },
  {
   "cell_type": "code",
   "execution_count": 226,
   "metadata": {},
   "outputs": [
    {
     "data": {
      "text/plain": [
       "array([ 1,  1,  1,  1, 11,  1,  1,  2,  1, 32,  5, 17,  8,  1,  1, 29,  1,\n",
       "       10,  1, 12,  3, 28,  1,  1,  1,  1, 18,  1, 22, 15,  1, 30,  1,  1,\n",
       "        1,  1, 31,  1, 24,  1, 23,  1,  1, 19,  1,  1, 14,  1,  7,  1,  1,\n",
       "        4,  6, 33,  1, 27, 16, 25, 26, 20, 21, 13,  9,  1])"
      ]
     },
     "execution_count": 226,
     "metadata": {},
     "output_type": "execute_result"
    }
   ],
   "source": [
    "# Obtain the ranking of each feature passed to RFE\n",
    "\n",
    "pipe_with_fs.steps[1][1].ranking_"
   ]
  },
  {
   "cell_type": "code",
   "execution_count": 227,
   "metadata": {},
   "outputs": [
    {
     "data": {
      "text/plain": [
       "32"
      ]
     },
     "execution_count": 227,
     "metadata": {},
     "output_type": "execute_result"
    }
   ],
   "source": [
    "# Get column numbers of features that have a rank=1\n",
    "\n",
    "idx_with_rank1 = []\n",
    "for idx, rank in enumerate(pipe_with_fs.steps[1][1].ranking_):\n",
    "    if rank == 1:\n",
    "        idx_with_rank1.append(idx)\n",
    "\n",
    "len(idx_with_rank1)"
   ]
  },
  {
   "cell_type": "code",
   "execution_count": 228,
   "metadata": {},
   "outputs": [
    {
     "data": {
      "text/html": [
       "<div>\n",
       "<style scoped>\n",
       "    .dataframe tbody tr th:only-of-type {\n",
       "        vertical-align: middle;\n",
       "    }\n",
       "\n",
       "    .dataframe tbody tr th {\n",
       "        vertical-align: top;\n",
       "    }\n",
       "\n",
       "    .dataframe thead th {\n",
       "        text-align: right;\n",
       "    }\n",
       "</style>\n",
       "<table border=\"1\" class=\"dataframe\">\n",
       "  <thead>\n",
       "    <tr style=\"text-align: right;\">\n",
       "      <th></th>\n",
       "      <th>Intl_Plan</th>\n",
       "      <th>Vmail_Plan</th>\n",
       "      <th>x0_AK</th>\n",
       "      <th>x0_AL</th>\n",
       "      <th>x0_AZ</th>\n",
       "      <th>x0_CA</th>\n",
       "      <th>x0_CT</th>\n",
       "      <th>x0_HI</th>\n",
       "      <th>x0_IA</th>\n",
       "      <th>x0_IL</th>\n",
       "      <th>...</th>\n",
       "      <th>x0_OR</th>\n",
       "      <th>x0_RI</th>\n",
       "      <th>x0_SC</th>\n",
       "      <th>x0_TN</th>\n",
       "      <th>x0_TX</th>\n",
       "      <th>x0_VA</th>\n",
       "      <th>x0_WA</th>\n",
       "      <th>x0_WI</th>\n",
       "      <th>CustServ_Calls</th>\n",
       "      <th>Vmail_Message_b</th>\n",
       "    </tr>\n",
       "  </thead>\n",
       "  <tbody>\n",
       "    <tr>\n",
       "      <th>0</th>\n",
       "      <td>1.0</td>\n",
       "      <td>0.0</td>\n",
       "      <td>0.0</td>\n",
       "      <td>0.0</td>\n",
       "      <td>0.0</td>\n",
       "      <td>0.0</td>\n",
       "      <td>0.0</td>\n",
       "      <td>0.0</td>\n",
       "      <td>0.0</td>\n",
       "      <td>0.0</td>\n",
       "      <td>...</td>\n",
       "      <td>0.0</td>\n",
       "      <td>0.0</td>\n",
       "      <td>0.0</td>\n",
       "      <td>0.0</td>\n",
       "      <td>0.0</td>\n",
       "      <td>0.0</td>\n",
       "      <td>0.0</td>\n",
       "      <td>0.0</td>\n",
       "      <td>4.0</td>\n",
       "      <td>0.0</td>\n",
       "    </tr>\n",
       "    <tr>\n",
       "      <th>1</th>\n",
       "      <td>0.0</td>\n",
       "      <td>1.0</td>\n",
       "      <td>0.0</td>\n",
       "      <td>0.0</td>\n",
       "      <td>0.0</td>\n",
       "      <td>0.0</td>\n",
       "      <td>0.0</td>\n",
       "      <td>0.0</td>\n",
       "      <td>0.0</td>\n",
       "      <td>0.0</td>\n",
       "      <td>...</td>\n",
       "      <td>0.0</td>\n",
       "      <td>0.0</td>\n",
       "      <td>0.0</td>\n",
       "      <td>0.0</td>\n",
       "      <td>0.0</td>\n",
       "      <td>0.0</td>\n",
       "      <td>0.0</td>\n",
       "      <td>0.0</td>\n",
       "      <td>2.0</td>\n",
       "      <td>1.0</td>\n",
       "    </tr>\n",
       "    <tr>\n",
       "      <th>2</th>\n",
       "      <td>1.0</td>\n",
       "      <td>0.0</td>\n",
       "      <td>0.0</td>\n",
       "      <td>0.0</td>\n",
       "      <td>0.0</td>\n",
       "      <td>1.0</td>\n",
       "      <td>0.0</td>\n",
       "      <td>0.0</td>\n",
       "      <td>0.0</td>\n",
       "      <td>0.0</td>\n",
       "      <td>...</td>\n",
       "      <td>0.0</td>\n",
       "      <td>0.0</td>\n",
       "      <td>0.0</td>\n",
       "      <td>0.0</td>\n",
       "      <td>0.0</td>\n",
       "      <td>0.0</td>\n",
       "      <td>0.0</td>\n",
       "      <td>0.0</td>\n",
       "      <td>1.0</td>\n",
       "      <td>0.0</td>\n",
       "    </tr>\n",
       "    <tr>\n",
       "      <th>3</th>\n",
       "      <td>1.0</td>\n",
       "      <td>1.0</td>\n",
       "      <td>0.0</td>\n",
       "      <td>0.0</td>\n",
       "      <td>0.0</td>\n",
       "      <td>0.0</td>\n",
       "      <td>0.0</td>\n",
       "      <td>0.0</td>\n",
       "      <td>0.0</td>\n",
       "      <td>0.0</td>\n",
       "      <td>...</td>\n",
       "      <td>0.0</td>\n",
       "      <td>0.0</td>\n",
       "      <td>0.0</td>\n",
       "      <td>0.0</td>\n",
       "      <td>0.0</td>\n",
       "      <td>0.0</td>\n",
       "      <td>0.0</td>\n",
       "      <td>0.0</td>\n",
       "      <td>0.0</td>\n",
       "      <td>1.0</td>\n",
       "    </tr>\n",
       "    <tr>\n",
       "      <th>4</th>\n",
       "      <td>0.0</td>\n",
       "      <td>1.0</td>\n",
       "      <td>0.0</td>\n",
       "      <td>0.0</td>\n",
       "      <td>0.0</td>\n",
       "      <td>0.0</td>\n",
       "      <td>0.0</td>\n",
       "      <td>0.0</td>\n",
       "      <td>0.0</td>\n",
       "      <td>0.0</td>\n",
       "      <td>...</td>\n",
       "      <td>0.0</td>\n",
       "      <td>0.0</td>\n",
       "      <td>0.0</td>\n",
       "      <td>0.0</td>\n",
       "      <td>0.0</td>\n",
       "      <td>0.0</td>\n",
       "      <td>0.0</td>\n",
       "      <td>0.0</td>\n",
       "      <td>3.0</td>\n",
       "      <td>1.0</td>\n",
       "    </tr>\n",
       "  </tbody>\n",
       "</table>\n",
       "<p>5 rows × 32 columns</p>\n",
       "</div>"
      ],
      "text/plain": [
       "   Intl_Plan  Vmail_Plan  x0_AK  x0_AL  x0_AZ  x0_CA  x0_CT  x0_HI  x0_IA  \\\n",
       "0        1.0         0.0    0.0    0.0    0.0    0.0    0.0    0.0    0.0   \n",
       "1        0.0         1.0    0.0    0.0    0.0    0.0    0.0    0.0    0.0   \n",
       "2        1.0         0.0    0.0    0.0    0.0    1.0    0.0    0.0    0.0   \n",
       "3        1.0         1.0    0.0    0.0    0.0    0.0    0.0    0.0    0.0   \n",
       "4        0.0         1.0    0.0    0.0    0.0    0.0    0.0    0.0    0.0   \n",
       "\n",
       "   x0_IL  ...  x0_OR  x0_RI  x0_SC  x0_TN  x0_TX  x0_VA  x0_WA  x0_WI  \\\n",
       "0    0.0  ...    0.0    0.0    0.0    0.0    0.0    0.0    0.0    0.0   \n",
       "1    0.0  ...    0.0    0.0    0.0    0.0    0.0    0.0    0.0    0.0   \n",
       "2    0.0  ...    0.0    0.0    0.0    0.0    0.0    0.0    0.0    0.0   \n",
       "3    0.0  ...    0.0    0.0    0.0    0.0    0.0    0.0    0.0    0.0   \n",
       "4    0.0  ...    0.0    0.0    0.0    0.0    0.0    0.0    0.0    0.0   \n",
       "\n",
       "   CustServ_Calls  Vmail_Message_b  \n",
       "0             4.0              0.0  \n",
       "1             2.0              1.0  \n",
       "2             1.0              0.0  \n",
       "3             0.0              1.0  \n",
       "4             3.0              1.0  \n",
       "\n",
       "[5 rows x 32 columns]"
      ]
     },
     "execution_count": 228,
     "metadata": {},
     "output_type": "execute_result"
    }
   ],
   "source": [
    "# Filter X_train_tf dataframe to contain only RFE selected features\n",
    "\n",
    "X_train_tf_rfe_selected = X_train_tf.iloc[:, idx_with_rank1]\n",
    "X_train_tf_rfe_selected.head()"
   ]
  },
  {
   "cell_type": "markdown",
   "metadata": {},
   "source": [
    "---"
   ]
  }
 ],
 "metadata": {
  "kernelspec": {
   "display_name": "Python 3",
   "language": "python",
   "name": "python3"
  },
  "language_info": {
   "codemirror_mode": {
    "name": "ipython",
    "version": 3
   },
   "file_extension": ".py",
   "mimetype": "text/x-python",
   "name": "python",
   "nbconvert_exporter": "python",
   "pygments_lexer": "ipython3",
   "version": "3.8.5"
  }
 },
 "nbformat": 4,
 "nbformat_minor": 2
}
