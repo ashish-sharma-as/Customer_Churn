{
 "cells": [
  {
   "cell_type": "markdown",
   "metadata": {},
   "source": [
    "# Customer Churn"
   ]
  },
  {
   "cell_type": "markdown",
   "metadata": {},
   "source": [
    "---"
   ]
  },
  {
   "cell_type": "markdown",
   "metadata": {},
   "source": [
    "## Contents\n",
    "\n",
    "- <a href=\"#import\">Import Libraries</a><br>\n",
    "- <a href=\"#data\">Import Data</a><br>\n",
    "- <a href=\"#3\">Creating 3-way Holdout data sets</a><br>\n",
    "- <a href=\"#eda\">Exploratory Data Analysis</a><br>\n",
    "- <a href=\"#prep\">Data Preprocessing</a><br>\n",
    "- <a href=\"#sel\">Feature Selection</a><br>\n",
    "- <a href=\"#engg\">Feature Engineering</a><br>\n",
    "- <a href=\"#hyp\">Hyperparameter Tuning</a><br>"
   ]
  },
  {
   "cell_type": "markdown",
   "metadata": {},
   "source": [
    "---"
   ]
  },
  {
   "cell_type": "markdown",
   "metadata": {},
   "source": [
    "<p><a name=\"import\"></a></p>\n",
    " \n",
    "## Import Modules"
   ]
  },
  {
   "cell_type": "code",
   "execution_count": 1,
   "metadata": {},
   "outputs": [],
   "source": [
    "# Standard Modules\n",
    "import numpy as np\n",
    "import pandas as pd\n",
    "import matplotlib.pyplot as plt\n",
    "%matplotlib inline\n",
    "import seaborn as sns\n",
    "\n",
    "# Model Selection\n",
    "from sklearn.model_selection import train_test_split\n",
    "from sklearn.model_selection import GridSearchCV\n",
    "\n",
    "# Preprocessing\n",
    "from sklearn.preprocessing import StandardScaler\n",
    "from sklearn.preprocessing import Normalizer\n",
    "from sklearn.preprocessing import OrdinalEncoder\n",
    "from sklearn.preprocessing import LabelEncoder\n",
    "from sklearn.preprocessing import OneHotEncoder\n",
    "from sklearn.impute import SimpleImputer\n",
    "\n",
    "# Compose\n",
    "from sklearn.compose import make_column_transformer\n",
    "\n",
    "# Classes for inheritance\n",
    "from sklearn.base import BaseEstimator, TransformerMixin\n",
    "\n",
    "# Pipeline\n",
    "from sklearn.pipeline import make_pipeline\n",
    "\n",
    "# ML Models\n",
    "from sklearn.linear_model import LogisticRegression\n",
    "\n",
    "# Metrics\n",
    "from sklearn.metrics import confusion_matrix\n",
    "from sklearn.metrics import accuracy_score\n",
    "from sklearn.metrics import precision_score\n",
    "from sklearn.metrics import recall_score\n",
    "from sklearn.metrics import f1_score\n",
    "from sklearn.metrics import classification_report\n",
    "from sklearn.metrics import roc_curve\n",
    "from sklearn.metrics import roc_auc_score\n",
    "\n",
    "# Feature Selection\n",
    "from sklearn.feature_selection import SelectKBest\n",
    "from sklearn.feature_selection import chi2\n",
    "from sklearn.feature_selection import RFE\n",
    "\n",
    "# Statistics\n",
    "from scipy.stats import chi2_contingency\n",
    "\n",
    "# Imbalance\n",
    "from imblearn.over_sampling import SMOTE\n",
    "from imblearn.pipeline import make_pipeline as imb_make_pipeline"
   ]
  },
  {
   "cell_type": "code",
   "execution_count": 2,
   "metadata": {},
   "outputs": [
    {
     "name": "stdout",
     "output_type": "stream",
     "text": [
      "\n",
      "System:\n",
      "    python: 3.7.4 (default, Aug 13 2019, 15:17:50)  [Clang 4.0.1 (tags/RELEASE_401/final)]\n",
      "executable: /opt/anaconda3/bin/python\n",
      "   machine: Darwin-19.6.0-x86_64-i386-64bit\n",
      "\n",
      "Python dependencies:\n",
      "          pip: 19.2.3\n",
      "   setuptools: 41.4.0\n",
      "      sklearn: 0.23.2\n",
      "        numpy: 1.17.2\n",
      "        scipy: 1.3.1\n",
      "       Cython: 0.29.13\n",
      "       pandas: 0.25.1\n",
      "   matplotlib: 3.2.2\n",
      "       joblib: 0.13.2\n",
      "threadpoolctl: 2.1.0\n",
      "\n",
      "Built with OpenMP: True\n"
     ]
    }
   ],
   "source": [
    "import sklearn\n",
    "sklearn.show_versions()"
   ]
  },
  {
   "cell_type": "markdown",
   "metadata": {},
   "source": [
    "---"
   ]
  },
  {
   "cell_type": "markdown",
   "metadata": {},
   "source": [
    "<p><a name=\"data\"></a></p>\n",
    "\n",
    "## Import Data"
   ]
  },
  {
   "cell_type": "code",
   "execution_count": 3,
   "metadata": {},
   "outputs": [],
   "source": [
    "# Read csv\n",
    "\n",
    "churn_data = pd.read_csv('./data/churn_data.csv')"
   ]
  },
  {
   "cell_type": "code",
   "execution_count": 4,
   "metadata": {},
   "outputs": [
    {
     "data": {
      "text/plain": [
       "(3333, 21)"
      ]
     },
     "execution_count": 4,
     "metadata": {},
     "output_type": "execute_result"
    }
   ],
   "source": [
    "churn_data.shape"
   ]
  },
  {
   "cell_type": "markdown",
   "metadata": {},
   "source": [
    "---"
   ]
  },
  {
   "cell_type": "markdown",
   "metadata": {},
   "source": [
    "<p><a name=\"3\"></a></p>\n",
    "\n",
    "## Creating a 3-way holdout dataset\n",
    "- Training & Validation data \n",
    "- Test (Unseen) data"
   ]
  },
  {
   "cell_type": "code",
   "execution_count": 5,
   "metadata": {},
   "outputs": [
    {
     "name": "stdout",
     "output_type": "stream",
     "text": [
      "Shape of X and y:\n",
      "\n",
      "(3333, 20) (3333,)\n"
     ]
    }
   ],
   "source": [
    "X_tmp = churn_data.drop(['Churn'], axis=1)\n",
    "y_tmp = churn_data['Churn']\n",
    "\n",
    "print('Shape of X and y:\\n')\n",
    "print(X_tmp.shape, y_tmp.shape)"
   ]
  },
  {
   "cell_type": "code",
   "execution_count": 6,
   "metadata": {},
   "outputs": [],
   "source": [
    "# Split data into training - validation and test (unseen) data\n",
    "\n",
    "X_train_val, X_unseen, y_train_val, y_unseen = train_test_split(X_tmp, y_tmp, test_size=0.2)"
   ]
  },
  {
   "cell_type": "code",
   "execution_count": 7,
   "metadata": {},
   "outputs": [
    {
     "name": "stdout",
     "output_type": "stream",
     "text": [
      "Shape of training & validation data:\n",
      "(2666, 20) (2666,)\n",
      "\n",
      " ----------------------------------------\n",
      "\n",
      "Shape of test(unseen) data:\n",
      "(667, 20) (667,)\n"
     ]
    }
   ],
   "source": [
    "print('Shape of training & validation data:')\n",
    "print(X_train_val.shape, y_train_val.shape)\n",
    "print('\\n','-'*40)\n",
    "print('\\nShape of test(unseen) data:')\n",
    "print(X_unseen.shape, y_unseen.shape)"
   ]
  },
  {
   "cell_type": "code",
   "execution_count": 8,
   "metadata": {},
   "outputs": [],
   "source": [
    "# Making a working copy of the training and validation data\n",
    "\n",
    "df = X_train_val.copy()"
   ]
  },
  {
   "cell_type": "code",
   "execution_count": 9,
   "metadata": {},
   "outputs": [],
   "source": [
    "# Adding churned feature back into dataset to understand properties\n",
    "# of churned v/s non-churned customers\n",
    "\n",
    "df['Churn'] = y_train_val"
   ]
  },
  {
   "cell_type": "markdown",
   "metadata": {},
   "source": [
    "**df = X_train_val + y_train_val**"
   ]
  },
  {
   "cell_type": "code",
   "execution_count": 10,
   "metadata": {},
   "outputs": [
    {
     "data": {
      "text/html": [
       "<div>\n",
       "<style scoped>\n",
       "    .dataframe tbody tr th:only-of-type {\n",
       "        vertical-align: middle;\n",
       "    }\n",
       "\n",
       "    .dataframe tbody tr th {\n",
       "        vertical-align: top;\n",
       "    }\n",
       "\n",
       "    .dataframe thead th {\n",
       "        text-align: right;\n",
       "    }\n",
       "</style>\n",
       "<table border=\"1\" class=\"dataframe\">\n",
       "  <thead>\n",
       "    <tr style=\"text-align: right;\">\n",
       "      <th></th>\n",
       "      <th>Account_Length</th>\n",
       "      <th>Vmail_Message</th>\n",
       "      <th>Day_Mins</th>\n",
       "      <th>Eve_Mins</th>\n",
       "      <th>Night_Mins</th>\n",
       "      <th>Intl_Mins</th>\n",
       "      <th>CustServ_Calls</th>\n",
       "      <th>Intl_Plan</th>\n",
       "      <th>Vmail_Plan</th>\n",
       "      <th>Day_Calls</th>\n",
       "      <th>...</th>\n",
       "      <th>Eve_Calls</th>\n",
       "      <th>Eve_Charge</th>\n",
       "      <th>Night_Calls</th>\n",
       "      <th>Night_Charge</th>\n",
       "      <th>Intl_Calls</th>\n",
       "      <th>Intl_Charge</th>\n",
       "      <th>State</th>\n",
       "      <th>Area_Code</th>\n",
       "      <th>Phone</th>\n",
       "      <th>Churn</th>\n",
       "    </tr>\n",
       "  </thead>\n",
       "  <tbody>\n",
       "    <tr>\n",
       "      <td>559</td>\n",
       "      <td>125</td>\n",
       "      <td>0</td>\n",
       "      <td>131.8</td>\n",
       "      <td>136.7</td>\n",
       "      <td>308.2</td>\n",
       "      <td>7.7</td>\n",
       "      <td>2</td>\n",
       "      <td>no</td>\n",
       "      <td>no</td>\n",
       "      <td>97</td>\n",
       "      <td>...</td>\n",
       "      <td>100</td>\n",
       "      <td>11.62</td>\n",
       "      <td>119</td>\n",
       "      <td>13.87</td>\n",
       "      <td>6</td>\n",
       "      <td>2.08</td>\n",
       "      <td>CO</td>\n",
       "      <td>415</td>\n",
       "      <td>378-9029</td>\n",
       "      <td>no</td>\n",
       "    </tr>\n",
       "    <tr>\n",
       "      <td>654</td>\n",
       "      <td>96</td>\n",
       "      <td>31</td>\n",
       "      <td>183.4</td>\n",
       "      <td>195.5</td>\n",
       "      <td>180.1</td>\n",
       "      <td>10.5</td>\n",
       "      <td>1</td>\n",
       "      <td>no</td>\n",
       "      <td>yes</td>\n",
       "      <td>126</td>\n",
       "      <td>...</td>\n",
       "      <td>106</td>\n",
       "      <td>16.62</td>\n",
       "      <td>93</td>\n",
       "      <td>8.10</td>\n",
       "      <td>5</td>\n",
       "      <td>2.84</td>\n",
       "      <td>CA</td>\n",
       "      <td>510</td>\n",
       "      <td>341-4103</td>\n",
       "      <td>no</td>\n",
       "    </tr>\n",
       "    <tr>\n",
       "      <td>1478</td>\n",
       "      <td>118</td>\n",
       "      <td>0</td>\n",
       "      <td>253.2</td>\n",
       "      <td>201.0</td>\n",
       "      <td>195.3</td>\n",
       "      <td>9.7</td>\n",
       "      <td>2</td>\n",
       "      <td>no</td>\n",
       "      <td>no</td>\n",
       "      <td>122</td>\n",
       "      <td>...</td>\n",
       "      <td>78</td>\n",
       "      <td>17.09</td>\n",
       "      <td>108</td>\n",
       "      <td>8.79</td>\n",
       "      <td>7</td>\n",
       "      <td>2.62</td>\n",
       "      <td>HI</td>\n",
       "      <td>415</td>\n",
       "      <td>379-8526</td>\n",
       "      <td>no</td>\n",
       "    </tr>\n",
       "    <tr>\n",
       "      <td>1396</td>\n",
       "      <td>140</td>\n",
       "      <td>27</td>\n",
       "      <td>188.9</td>\n",
       "      <td>160.9</td>\n",
       "      <td>197.7</td>\n",
       "      <td>11.5</td>\n",
       "      <td>4</td>\n",
       "      <td>yes</td>\n",
       "      <td>yes</td>\n",
       "      <td>124</td>\n",
       "      <td>...</td>\n",
       "      <td>102</td>\n",
       "      <td>13.68</td>\n",
       "      <td>100</td>\n",
       "      <td>8.90</td>\n",
       "      <td>5</td>\n",
       "      <td>3.11</td>\n",
       "      <td>MD</td>\n",
       "      <td>415</td>\n",
       "      <td>412-1076</td>\n",
       "      <td>no</td>\n",
       "    </tr>\n",
       "    <tr>\n",
       "      <td>1510</td>\n",
       "      <td>92</td>\n",
       "      <td>0</td>\n",
       "      <td>265.6</td>\n",
       "      <td>180.7</td>\n",
       "      <td>211.1</td>\n",
       "      <td>8.6</td>\n",
       "      <td>1</td>\n",
       "      <td>no</td>\n",
       "      <td>no</td>\n",
       "      <td>82</td>\n",
       "      <td>...</td>\n",
       "      <td>75</td>\n",
       "      <td>15.36</td>\n",
       "      <td>113</td>\n",
       "      <td>9.50</td>\n",
       "      <td>2</td>\n",
       "      <td>2.32</td>\n",
       "      <td>NY</td>\n",
       "      <td>408</td>\n",
       "      <td>348-2916</td>\n",
       "      <td>no</td>\n",
       "    </tr>\n",
       "  </tbody>\n",
       "</table>\n",
       "<p>5 rows × 21 columns</p>\n",
       "</div>"
      ],
      "text/plain": [
       "      Account_Length  Vmail_Message  Day_Mins  Eve_Mins  Night_Mins  \\\n",
       "559              125              0     131.8     136.7       308.2   \n",
       "654               96             31     183.4     195.5       180.1   \n",
       "1478             118              0     253.2     201.0       195.3   \n",
       "1396             140             27     188.9     160.9       197.7   \n",
       "1510              92              0     265.6     180.7       211.1   \n",
       "\n",
       "      Intl_Mins  CustServ_Calls Intl_Plan Vmail_Plan  Day_Calls  ...  \\\n",
       "559         7.7               2        no         no         97  ...   \n",
       "654        10.5               1        no        yes        126  ...   \n",
       "1478        9.7               2        no         no        122  ...   \n",
       "1396       11.5               4       yes        yes        124  ...   \n",
       "1510        8.6               1        no         no         82  ...   \n",
       "\n",
       "      Eve_Calls  Eve_Charge  Night_Calls  Night_Charge  Intl_Calls  \\\n",
       "559         100       11.62          119         13.87           6   \n",
       "654         106       16.62           93          8.10           5   \n",
       "1478         78       17.09          108          8.79           7   \n",
       "1396        102       13.68          100          8.90           5   \n",
       "1510         75       15.36          113          9.50           2   \n",
       "\n",
       "      Intl_Charge  State Area_Code     Phone Churn  \n",
       "559          2.08     CO       415  378-9029    no  \n",
       "654          2.84     CA       510  341-4103    no  \n",
       "1478         2.62     HI       415  379-8526    no  \n",
       "1396         3.11     MD       415  412-1076    no  \n",
       "1510         2.32     NY       408  348-2916    no  \n",
       "\n",
       "[5 rows x 21 columns]"
      ]
     },
     "execution_count": 10,
     "metadata": {},
     "output_type": "execute_result"
    }
   ],
   "source": [
    "df.head()"
   ]
  },
  {
   "cell_type": "markdown",
   "metadata": {},
   "source": [
    "---"
   ]
  },
  {
   "cell_type": "markdown",
   "metadata": {},
   "source": [
    "<p><a name=\"eda\"></a></p>\n",
    "\n",
    "## Exploratory Data Analysis"
   ]
  },
  {
   "cell_type": "code",
   "execution_count": 11,
   "metadata": {},
   "outputs": [],
   "source": [
    "# Setting seaborn style for visualizations\n",
    "\n",
    "sns.set()"
   ]
  },
  {
   "cell_type": "code",
   "execution_count": 12,
   "metadata": {},
   "outputs": [
    {
     "name": "stdout",
     "output_type": "stream",
     "text": [
      "<class 'pandas.core.frame.DataFrame'>\n",
      "Int64Index: 2666 entries, 559 to 817\n",
      "Data columns (total 21 columns):\n",
      "Account_Length    2666 non-null int64\n",
      "Vmail_Message     2666 non-null int64\n",
      "Day_Mins          2666 non-null float64\n",
      "Eve_Mins          2666 non-null float64\n",
      "Night_Mins        2666 non-null float64\n",
      "Intl_Mins         2666 non-null float64\n",
      "CustServ_Calls    2666 non-null int64\n",
      "Intl_Plan         2666 non-null object\n",
      "Vmail_Plan        2666 non-null object\n",
      "Day_Calls         2666 non-null int64\n",
      "Day_Charge        2666 non-null float64\n",
      "Eve_Calls         2666 non-null int64\n",
      "Eve_Charge        2666 non-null float64\n",
      "Night_Calls       2666 non-null int64\n",
      "Night_Charge      2666 non-null float64\n",
      "Intl_Calls        2666 non-null int64\n",
      "Intl_Charge       2666 non-null float64\n",
      "State             2666 non-null object\n",
      "Area_Code         2666 non-null int64\n",
      "Phone             2666 non-null object\n",
      "Churn             2666 non-null object\n",
      "dtypes: float64(8), int64(8), object(5)\n",
      "memory usage: 458.2+ KB\n"
     ]
    }
   ],
   "source": [
    "df.info()"
   ]
  },
  {
   "cell_type": "code",
   "execution_count": 13,
   "metadata": {},
   "outputs": [
    {
     "data": {
      "image/png": "[encoded data removed]",
      "text/plain": [
       "<Figure size 432x288 with 1 Axes>"
      ]
     },
     "metadata": {},
     "output_type": "display_data"
    }
   ],
   "source": [
    "# Customer Churn as a % \n",
    "\n",
    "df['Churn'].value_counts().plot(kind='pie'\n",
    "                                ,colors=['lightgrey','red']\n",
    "                                ,wedgeprops={'edgecolor': 'black'}\n",
    "                                ,explode=[0,0.1]\n",
    "                                ,autopct='%1.1f%%'\n",
    "                                ,startangle=90)\n",
    "plt.title('Customer Churn % (Training-Validation Set)', size=15, fontweight='bold')\n",
    "plt.show()"
   ]
  },
  {
   "cell_type": "code",
   "execution_count": 14,
   "metadata": {},
   "outputs": [
    {
     "data": {
      "image/png": "[encoded data removed]",
      "text/plain": [
       "<Figure size 432x288 with 1 Axes>"
      ]
     },
     "metadata": {},
     "output_type": "display_data"
    }
   ],
   "source": [
    "# Number of churned customers\n",
    "\n",
    "color = ['green', 'red']\n",
    "\n",
    "df['Churn'].value_counts().plot(kind='bar', alpha=0.7, color=color, edgecolor='black')\n",
    "\n",
    "plt.title('Churned v/s non-churned customer count \\n (Training & Validation Set)', size=15, fontweight='bold')\n",
    "plt.ylabel('Customer Count')\n",
    "plt.xlabel('Churn Indicator')\n",
    "\n",
    "plt.margins(0.3)\n",
    "\n",
    "for x,y in enumerate(df['Churn'].value_counts()):\n",
    "\n",
    "    label = \"{:.0f}\".format(y)\n",
    "\n",
    "    plt.annotate(label\n",
    "                 ,(x,y)\n",
    "                 ,textcoords=\"offset points\"\n",
    "                 ,xytext=(0,10)\n",
    "                 ,ha='center'\n",
    "                ) \n",
    "plt.show()"
   ]
  },
  {
   "cell_type": "code",
   "execution_count": 15,
   "metadata": {},
   "outputs": [
    {
     "data": {
      "text/html": [
       "<div>\n",
       "<style scoped>\n",
       "    .dataframe tbody tr th:only-of-type {\n",
       "        vertical-align: middle;\n",
       "    }\n",
       "\n",
       "    .dataframe tbody tr th {\n",
       "        vertical-align: top;\n",
       "    }\n",
       "\n",
       "    .dataframe thead th {\n",
       "        text-align: right;\n",
       "    }\n",
       "</style>\n",
       "<table border=\"1\" class=\"dataframe\">\n",
       "  <thead>\n",
       "    <tr style=\"text-align: right;\">\n",
       "      <th></th>\n",
       "      <th>CustServ_Calls</th>\n",
       "      <th>Vmail_Message</th>\n",
       "    </tr>\n",
       "    <tr>\n",
       "      <th>Churn</th>\n",
       "      <th></th>\n",
       "      <th></th>\n",
       "    </tr>\n",
       "  </thead>\n",
       "  <tbody>\n",
       "    <tr>\n",
       "      <td>no</td>\n",
       "      <td>1.440907</td>\n",
       "      <td>8.774095</td>\n",
       "    </tr>\n",
       "    <tr>\n",
       "      <td>yes</td>\n",
       "      <td>2.324397</td>\n",
       "      <td>4.777480</td>\n",
       "    </tr>\n",
       "  </tbody>\n",
       "</table>\n",
       "</div>"
      ],
      "text/plain": [
       "       CustServ_Calls  Vmail_Message\n",
       "Churn                               \n",
       "no           1.440907       8.774095\n",
       "yes          2.324397       4.777480"
      ]
     },
     "execution_count": 15,
     "metadata": {},
     "output_type": "execute_result"
    }
   ],
   "source": [
    "df.groupby('Churn')[['CustServ_Calls', 'Vmail_Message']].mean()"
   ]
  },
  {
   "cell_type": "code",
   "execution_count": 16,
   "metadata": {},
   "outputs": [
    {
     "data": {
      "text/plain": [
       "<matplotlib.axes._subplots.AxesSubplot at 0x7ff8bd1f72d0>"
      ]
     },
     "execution_count": 16,
     "metadata": {},
     "output_type": "execute_result"
    },
    {
     "data": {
      "image/png": "[encoded data removed]",
      "text/plain": [
       "<Figure size 432x288 with 1 Axes>"
      ]
     },
     "metadata": {},
     "output_type": "display_data"
    }
   ],
   "source": [
    "# Analyzing churned v/s non-churned customer differences\n",
    "\n",
    "df.groupby('Churn')[['CustServ_Calls', 'Vmail_Message']].mean().plot(kind='bar')"
   ]
  },
  {
   "cell_type": "code",
   "execution_count": 17,
   "metadata": {},
   "outputs": [
    {
     "data": {
      "text/html": [
       "<div>\n",
       "<style scoped>\n",
       "    .dataframe tbody tr th:only-of-type {\n",
       "        vertical-align: middle;\n",
       "    }\n",
       "\n",
       "    .dataframe tbody tr th {\n",
       "        vertical-align: top;\n",
       "    }\n",
       "\n",
       "    .dataframe thead th {\n",
       "        text-align: right;\n",
       "    }\n",
       "</style>\n",
       "<table border=\"1\" class=\"dataframe\">\n",
       "  <thead>\n",
       "    <tr style=\"text-align: right;\">\n",
       "      <th></th>\n",
       "      <th>CustServ_Calls</th>\n",
       "      <th>Vmail_Message</th>\n",
       "    </tr>\n",
       "    <tr>\n",
       "      <th>Churn</th>\n",
       "      <th></th>\n",
       "      <th></th>\n",
       "    </tr>\n",
       "  </thead>\n",
       "  <tbody>\n",
       "    <tr>\n",
       "      <td>no</td>\n",
       "      <td>1.159083</td>\n",
       "      <td>14.076037</td>\n",
       "    </tr>\n",
       "    <tr>\n",
       "      <td>yes</td>\n",
       "      <td>1.879250</td>\n",
       "      <td>11.465766</td>\n",
       "    </tr>\n",
       "  </tbody>\n",
       "</table>\n",
       "</div>"
      ],
      "text/plain": [
       "       CustServ_Calls  Vmail_Message\n",
       "Churn                               \n",
       "no           1.159083      14.076037\n",
       "yes          1.879250      11.465766"
      ]
     },
     "execution_count": 17,
     "metadata": {},
     "output_type": "execute_result"
    }
   ],
   "source": [
    "df.groupby('Churn')[['CustServ_Calls', 'Vmail_Message']].std()"
   ]
  },
  {
   "cell_type": "code",
   "execution_count": 18,
   "metadata": {},
   "outputs": [],
   "source": [
    "# TO DO - make it mardown \n",
    "\n",
    "\n",
    "\n",
    "\n",
    "# Insights\n",
    "    # It can be seen above that Churners place more customer \n",
    "    # service calls than non-churners, and leave fewer voice\n",
    "    # mail messages."
   ]
  },
  {
   "cell_type": "code",
   "execution_count": 19,
   "metadata": {},
   "outputs": [
    {
     "data": {
      "text/plain": [
       "State  Churn\n",
       "AL     no       61\n",
       "       yes       3\n",
       "CA     no       23\n",
       "       yes       8\n",
       "CO     no       46\n",
       "       yes       8\n",
       "Name: Churn, dtype: int64"
      ]
     },
     "execution_count": 19,
     "metadata": {},
     "output_type": "execute_result"
    }
   ],
   "source": [
    "# Veiwing churners and non-churners by state\n",
    "\n",
    "df.groupby('State')['Churn'].value_counts()[['AL','CA','CO']]"
   ]
  },
  {
   "cell_type": "code",
   "execution_count": 20,
   "metadata": {},
   "outputs": [
    {
     "data": {
      "text/plain": [
       "<matplotlib.axes._subplots.AxesSubplot at 0x7ff8bd0f6b90>"
      ]
     },
     "execution_count": 20,
     "metadata": {},
     "output_type": "execute_result"
    },
    {
     "data": {
      "image/png": "[encoded data removed]",
      "text/plain": [
       "<Figure size 432x288 with 1 Axes>"
      ]
     },
     "metadata": {},
     "output_type": "display_data"
    }
   ],
   "source": [
    "# TO DO - multiple bar to see churn and non-churn across different states\n",
    "\n",
    "\n",
    "\n",
    "\n",
    "\n",
    "df.groupby('State')['Churn'].value_counts().plot(kind='bar')"
   ]
  },
  {
   "cell_type": "code",
   "execution_count": 21,
   "metadata": {},
   "outputs": [
    {
     "data": {
      "image/png": "[encoded data removed]",
      "text/plain": [
       "<Figure size 432x288 with 1 Axes>"
      ]
     },
     "metadata": {},
     "output_type": "display_data"
    }
   ],
   "source": [
    "# Distribution of \"Account_Length\" feature\n",
    "\n",
    "# plt.hist(df['Account_Length'], bins=25)\n",
    "sns.distplot(df['Account_Length'])\n",
    "plt.show()"
   ]
  },
  {
   "cell_type": "code",
   "execution_count": 22,
   "metadata": {},
   "outputs": [],
   "source": [
    "# Insights\n",
    "    # Illustrates the duration that a customer stays with the provider\n",
    "    # is normally distribution (as what to expect in the real world)"
   ]
  },
  {
   "cell_type": "code",
   "execution_count": 23,
   "metadata": {},
   "outputs": [
    {
     "data": {
      "image/png": "[encoded data removed]",
      "text/plain": [
       "<Figure size 432x288 with 1 Axes>"
      ]
     },
     "metadata": {},
     "output_type": "display_data"
    }
   ],
   "source": [
    "# Examining differences between churners and non-churners\n",
    "# w.r.t their account lengths\n",
    "\n",
    "sns.boxplot(x='Churn', \n",
    "            y='Account_Length', \n",
    "            data=df)\n",
    "\n",
    "plt.title('Differences in Account Lengths', size=13)\n",
    "plt.show()"
   ]
  },
  {
   "cell_type": "code",
   "execution_count": 24,
   "metadata": {},
   "outputs": [],
   "source": [
    "# There are no notable differences in account lengths for\n",
    "# churners v/s non-churners"
   ]
  },
  {
   "cell_type": "code",
   "execution_count": 25,
   "metadata": {},
   "outputs": [
    {
     "data": {
      "image/png": "[encoded data removed]",
      "text/plain": [
       "<Figure size 432x288 with 1 Axes>"
      ]
     },
     "metadata": {},
     "output_type": "display_data"
    }
   ],
   "source": [
    "# Checking if having an international plan matters\n",
    "\n",
    "sns.boxplot(x='Churn', \n",
    "            y='Account_Length', \n",
    "            data=df,\n",
    "            hue='Intl_Plan')\n",
    "\n",
    "plt.title('Differences in Account Lengths', size=13)\n",
    "plt.show()"
   ]
  },
  {
   "cell_type": "code",
   "execution_count": 26,
   "metadata": {},
   "outputs": [],
   "source": [
    "# Insights\n",
    "    # No noticeable difference amoung customers with or\n",
    "    # without an international plan"
   ]
  },
  {
   "cell_type": "code",
   "execution_count": 27,
   "metadata": {},
   "outputs": [
    {
     "name": "stderr",
     "output_type": "stream",
     "text": [
      "/opt/anaconda3/lib/python3.7/site-packages/pandas/plotting/_matplotlib/tools.py:307: MatplotlibDeprecationWarning: \n",
      "The rowNum attribute was deprecated in Matplotlib 3.2 and will be removed two minor releases later. Use ax.get_subplotspec().rowspan.start instead.\n",
      "  layout[ax.rowNum, ax.colNum] = ax.get_visible()\n",
      "/opt/anaconda3/lib/python3.7/site-packages/pandas/plotting/_matplotlib/tools.py:307: MatplotlibDeprecationWarning: \n",
      "The colNum attribute was deprecated in Matplotlib 3.2 and will be removed two minor releases later. Use ax.get_subplotspec().colspan.start instead.\n",
      "  layout[ax.rowNum, ax.colNum] = ax.get_visible()\n",
      "/opt/anaconda3/lib/python3.7/site-packages/pandas/plotting/_matplotlib/tools.py:313: MatplotlibDeprecationWarning: \n",
      "The rowNum attribute was deprecated in Matplotlib 3.2 and will be removed two minor releases later. Use ax.get_subplotspec().rowspan.start instead.\n",
      "  if not layout[ax.rowNum + 1, ax.colNum]:\n",
      "/opt/anaconda3/lib/python3.7/site-packages/pandas/plotting/_matplotlib/tools.py:313: MatplotlibDeprecationWarning: \n",
      "The colNum attribute was deprecated in Matplotlib 3.2 and will be removed two minor releases later. Use ax.get_subplotspec().colspan.start instead.\n",
      "  if not layout[ax.rowNum + 1, ax.colNum]:\n"
     ]
    },
    {
     "data": {
      "image/png": "[encoded data removed]",
      "text/plain": [
       "<Figure size 1080x720 with 6 Axes>"
      ]
     },
     "metadata": {},
     "output_type": "display_data"
    }
   ],
   "source": [
    "# Checking distribution of select features\n",
    "\n",
    "df[['Account_Length', 'Day_Mins', 'Eve_Mins', 'Night_Mins', 'Intl_Mins']].hist(bins=25, figsize=(15,10))\n",
    "plt.show()"
   ]
  },
  {
   "cell_type": "code",
   "execution_count": 28,
   "metadata": {},
   "outputs": [
    {
     "data": {
      "image/png": "[encoded data removed]",
      "text/plain": [
       "<Figure size 432x288 with 1 Axes>"
      ]
     },
     "metadata": {},
     "output_type": "display_data"
    }
   ],
   "source": [
    "# Churn difference based on Customer Service Calls placed\n",
    "\n",
    "sns.boxplot(x = 'Churn',\n",
    "            y = 'CustServ_Calls',\n",
    "            data = df)\n",
    "\n",
    "plt.title('Churners v/s Non-Churners based on Customer Services Calls')\n",
    "plt.show()"
   ]
  },
  {
   "cell_type": "code",
   "execution_count": 29,
   "metadata": {},
   "outputs": [
    {
     "data": {
      "image/png": "[encoded data removed]",
      "text/plain": [
       "<Figure size 432x288 with 1 Axes>"
      ]
     },
     "metadata": {},
     "output_type": "display_data"
    },
    {
     "data": {
      "image/png": "[encoded data removed]",
      "text/plain": [
       "<Figure size 432x288 with 1 Axes>"
      ]
     },
     "metadata": {},
     "output_type": "display_data"
    }
   ],
   "source": [
    "features = ['Account_Length', 'CustServ_Calls'] \n",
    "\n",
    "for feature in features:\n",
    "    fig, axs = plt.subplots()\n",
    "    fig = sns.boxplot(x = 'Churn',\n",
    "                      y = feature,\n",
    "                      data = df)\n",
    "    plt.title('Churners v/s Non-Churners based on {}'.format(feature))\n",
    "\n",
    "plt.show()"
   ]
  },
  {
   "cell_type": "code",
   "execution_count": 30,
   "metadata": {},
   "outputs": [
    {
     "data": {
      "image/png": "[encoded data removed]",
      "text/plain": [
       "<Figure size 432x288 with 1 Axes>"
      ]
     },
     "metadata": {},
     "output_type": "display_data"
    }
   ],
   "source": [
    "# Churn difference based on Customer Service Calls placed\n",
    "# and being on an International Plan\n",
    "\n",
    "sns.boxplot(x = 'Churn',\n",
    "            y = 'CustServ_Calls',\n",
    "            data = df,\n",
    "            sym='', # removing outliers from plot\n",
    "            hue='Intl_Plan') \n",
    "\n",
    "plt.title('Churners v/s Non-Churners based on Customer Services Calls & Intl Plan')\n",
    "plt.show()"
   ]
  },
  {
   "cell_type": "code",
   "execution_count": 31,
   "metadata": {},
   "outputs": [],
   "source": [
    "# Insights:\n",
    "    # Customers who leave more customer service calls churn more\n",
    "    # unless they also have an international plan"
   ]
  },
  {
   "cell_type": "code",
   "execution_count": 32,
   "metadata": {},
   "outputs": [
    {
     "data": {
      "image/png": "[encoded data removed]",
      "text/plain": [
       "<Figure size 720x432 with 2 Axes>"
      ]
     },
     "metadata": {},
     "output_type": "display_data"
    }
   ],
   "source": [
    "plt.figure(figsize=(10,6))\n",
    "mask = np.zeros_like(df.corr())\n",
    "mask[np.triu_indices_from(mask)] = 1\n",
    "sns.heatmap(df.corr(), mask= mask, linewidth=0.7, cmap='RdYlGn') \n",
    "plt.show()"
   ]
  },
  {
   "cell_type": "code",
   "execution_count": 33,
   "metadata": {},
   "outputs": [],
   "source": [
    "# Since charges and mins are strongly correlated, we can either remove\n",
    "# one of them, or feature engineer them to create 4 new charges_min\n",
    "# and drop the charges and min columns subsequently."
   ]
  },
  {
   "cell_type": "markdown",
   "metadata": {},
   "source": [
    "---"
   ]
  },
  {
   "cell_type": "markdown",
   "metadata": {},
   "source": [
    "<p><a name=\"prep\"></a></p>\n",
    "\n",
    "## Data Preprocessing\n",
    "\n",
    "- Check missing values\n",
    "- Checking distribution of features\n",
    "- Encoding Categorical variables\n",
    "- Feature Scaling via Standardization\n",
    "- Feature Selection and Engineering"
   ]
  },
  {
   "cell_type": "markdown",
   "metadata": {},
   "source": [
    "### Missing Values"
   ]
  },
  {
   "cell_type": "code",
   "execution_count": 34,
   "metadata": {},
   "outputs": [
    {
     "data": {
      "text/plain": [
       "Series([], dtype: int64)"
      ]
     },
     "execution_count": 34,
     "metadata": {},
     "output_type": "execute_result"
    }
   ],
   "source": [
    "# Missing values check\n",
    "\n",
    "missing = df.isnull().sum()\n",
    "missing[missing > 0]"
   ]
  },
  {
   "cell_type": "code",
   "execution_count": 35,
   "metadata": {},
   "outputs": [
    {
     "name": "stdout",
     "output_type": "stream",
     "text": [
      "<class 'pandas.core.frame.DataFrame'>\n",
      "Int64Index: 2666 entries, 559 to 817\n",
      "Data columns (total 21 columns):\n",
      "Account_Length    2666 non-null int64\n",
      "Vmail_Message     2666 non-null int64\n",
      "Day_Mins          2666 non-null float64\n",
      "Eve_Mins          2666 non-null float64\n",
      "Night_Mins        2666 non-null float64\n",
      "Intl_Mins         2666 non-null float64\n",
      "CustServ_Calls    2666 non-null int64\n",
      "Intl_Plan         2666 non-null object\n",
      "Vmail_Plan        2666 non-null object\n",
      "Day_Calls         2666 non-null int64\n",
      "Day_Charge        2666 non-null float64\n",
      "Eve_Calls         2666 non-null int64\n",
      "Eve_Charge        2666 non-null float64\n",
      "Night_Calls       2666 non-null int64\n",
      "Night_Charge      2666 non-null float64\n",
      "Intl_Calls        2666 non-null int64\n",
      "Intl_Charge       2666 non-null float64\n",
      "State             2666 non-null object\n",
      "Area_Code         2666 non-null int64\n",
      "Phone             2666 non-null object\n",
      "Churn             2666 non-null object\n",
      "dtypes: float64(8), int64(8), object(5)\n",
      "memory usage: 538.2+ KB\n"
     ]
    }
   ],
   "source": [
    "# Examining data types \n",
    "\n",
    "# df.dtypes\n",
    "df.info()"
   ]
  },
  {
   "cell_type": "code",
   "execution_count": 36,
   "metadata": {},
   "outputs": [
    {
     "data": {
      "text/plain": [
       "Account_Length     207\n",
       "Vmail_Message       45\n",
       "Day_Mins          1501\n",
       "Eve_Mins          1455\n",
       "Night_Mins        1426\n",
       "Intl_Mins          159\n",
       "CustServ_Calls      10\n",
       "Intl_Plan            2\n",
       "Vmail_Plan           2\n",
       "Day_Calls          116\n",
       "Day_Charge        1501\n",
       "Eve_Calls          119\n",
       "Eve_Charge        1307\n",
       "Night_Calls        117\n",
       "Night_Charge       883\n",
       "Intl_Calls          21\n",
       "Intl_Charge        159\n",
       "State               51\n",
       "Area_Code            3\n",
       "Phone             2666\n",
       "Churn                2\n",
       "dtype: int64"
      ]
     },
     "execution_count": 36,
     "metadata": {},
     "output_type": "execute_result"
    }
   ],
   "source": [
    "#@ Unique values per column. \n",
    "#@@@@ use this to form continuous and discrete numerical variables\n",
    "\n",
    "df.nunique()"
   ]
  },
  {
   "cell_type": "code",
   "execution_count": 37,
   "metadata": {},
   "outputs": [],
   "source": [
    "# Forming list of columns that are numerical and categorical\n",
    "\n",
    "features_num = X_train_val.select_dtypes(include=['int64', 'float64']).columns\n",
    "features_cat = X_train_val.select_dtypes(include=['object']).columns"
   ]
  },
  {
   "cell_type": "code",
   "execution_count": 38,
   "metadata": {},
   "outputs": [
    {
     "name": "stdout",
     "output_type": "stream",
     "text": [
      "Index(['Account_Length', 'Vmail_Message', 'Day_Mins', 'Eve_Mins', 'Night_Mins',\n",
      "       'Intl_Mins', 'CustServ_Calls', 'Day_Calls', 'Day_Charge', 'Eve_Calls',\n",
      "       'Eve_Charge', 'Night_Calls', 'Night_Charge', 'Intl_Calls',\n",
      "       'Intl_Charge', 'Area_Code'],\n",
      "      dtype='object')\n",
      "--------------------------------------------------------------------------------\n",
      "Index(['Intl_Plan', 'Vmail_Plan', 'State', 'Phone'], dtype='object')\n"
     ]
    }
   ],
   "source": [
    "print(features_num)\n",
    "print('-'*80)\n",
    "print(features_cat)"
   ]
  },
  {
   "cell_type": "code",
   "execution_count": 39,
   "metadata": {
    "scrolled": false
   },
   "outputs": [
    {
     "data": {
      "text/html": [
       "<div>\n",
       "<style scoped>\n",
       "    .dataframe tbody tr th:only-of-type {\n",
       "        vertical-align: middle;\n",
       "    }\n",
       "\n",
       "    .dataframe tbody tr th {\n",
       "        vertical-align: top;\n",
       "    }\n",
       "\n",
       "    .dataframe thead th {\n",
       "        text-align: right;\n",
       "    }\n",
       "</style>\n",
       "<table border=\"1\" class=\"dataframe\">\n",
       "  <thead>\n",
       "    <tr style=\"text-align: right;\">\n",
       "      <th></th>\n",
       "      <th>Account_Length</th>\n",
       "      <th>Vmail_Message</th>\n",
       "      <th>Day_Mins</th>\n",
       "      <th>Eve_Mins</th>\n",
       "      <th>Night_Mins</th>\n",
       "      <th>Intl_Mins</th>\n",
       "      <th>CustServ_Calls</th>\n",
       "      <th>Day_Calls</th>\n",
       "      <th>Day_Charge</th>\n",
       "      <th>Eve_Calls</th>\n",
       "      <th>Eve_Charge</th>\n",
       "      <th>Night_Calls</th>\n",
       "      <th>Night_Charge</th>\n",
       "      <th>Intl_Calls</th>\n",
       "      <th>Intl_Charge</th>\n",
       "      <th>Area_Code</th>\n",
       "    </tr>\n",
       "  </thead>\n",
       "  <tbody>\n",
       "    <tr>\n",
       "      <td>559</td>\n",
       "      <td>125</td>\n",
       "      <td>0</td>\n",
       "      <td>131.8</td>\n",
       "      <td>136.7</td>\n",
       "      <td>308.2</td>\n",
       "      <td>7.7</td>\n",
       "      <td>2</td>\n",
       "      <td>97</td>\n",
       "      <td>22.41</td>\n",
       "      <td>100</td>\n",
       "      <td>11.62</td>\n",
       "      <td>119</td>\n",
       "      <td>13.87</td>\n",
       "      <td>6</td>\n",
       "      <td>2.08</td>\n",
       "      <td>415</td>\n",
       "    </tr>\n",
       "    <tr>\n",
       "      <td>654</td>\n",
       "      <td>96</td>\n",
       "      <td>31</td>\n",
       "      <td>183.4</td>\n",
       "      <td>195.5</td>\n",
       "      <td>180.1</td>\n",
       "      <td>10.5</td>\n",
       "      <td>1</td>\n",
       "      <td>126</td>\n",
       "      <td>31.18</td>\n",
       "      <td>106</td>\n",
       "      <td>16.62</td>\n",
       "      <td>93</td>\n",
       "      <td>8.10</td>\n",
       "      <td>5</td>\n",
       "      <td>2.84</td>\n",
       "      <td>510</td>\n",
       "    </tr>\n",
       "    <tr>\n",
       "      <td>1478</td>\n",
       "      <td>118</td>\n",
       "      <td>0</td>\n",
       "      <td>253.2</td>\n",
       "      <td>201.0</td>\n",
       "      <td>195.3</td>\n",
       "      <td>9.7</td>\n",
       "      <td>2</td>\n",
       "      <td>122</td>\n",
       "      <td>43.04</td>\n",
       "      <td>78</td>\n",
       "      <td>17.09</td>\n",
       "      <td>108</td>\n",
       "      <td>8.79</td>\n",
       "      <td>7</td>\n",
       "      <td>2.62</td>\n",
       "      <td>415</td>\n",
       "    </tr>\n",
       "    <tr>\n",
       "      <td>1396</td>\n",
       "      <td>140</td>\n",
       "      <td>27</td>\n",
       "      <td>188.9</td>\n",
       "      <td>160.9</td>\n",
       "      <td>197.7</td>\n",
       "      <td>11.5</td>\n",
       "      <td>4</td>\n",
       "      <td>124</td>\n",
       "      <td>32.11</td>\n",
       "      <td>102</td>\n",
       "      <td>13.68</td>\n",
       "      <td>100</td>\n",
       "      <td>8.90</td>\n",
       "      <td>5</td>\n",
       "      <td>3.11</td>\n",
       "      <td>415</td>\n",
       "    </tr>\n",
       "    <tr>\n",
       "      <td>1510</td>\n",
       "      <td>92</td>\n",
       "      <td>0</td>\n",
       "      <td>265.6</td>\n",
       "      <td>180.7</td>\n",
       "      <td>211.1</td>\n",
       "      <td>8.6</td>\n",
       "      <td>1</td>\n",
       "      <td>82</td>\n",
       "      <td>45.15</td>\n",
       "      <td>75</td>\n",
       "      <td>15.36</td>\n",
       "      <td>113</td>\n",
       "      <td>9.50</td>\n",
       "      <td>2</td>\n",
       "      <td>2.32</td>\n",
       "      <td>408</td>\n",
       "    </tr>\n",
       "    <tr>\n",
       "      <td>...</td>\n",
       "      <td>...</td>\n",
       "      <td>...</td>\n",
       "      <td>...</td>\n",
       "      <td>...</td>\n",
       "      <td>...</td>\n",
       "      <td>...</td>\n",
       "      <td>...</td>\n",
       "      <td>...</td>\n",
       "      <td>...</td>\n",
       "      <td>...</td>\n",
       "      <td>...</td>\n",
       "      <td>...</td>\n",
       "      <td>...</td>\n",
       "      <td>...</td>\n",
       "      <td>...</td>\n",
       "      <td>...</td>\n",
       "    </tr>\n",
       "    <tr>\n",
       "      <td>1486</td>\n",
       "      <td>103</td>\n",
       "      <td>0</td>\n",
       "      <td>160.2</td>\n",
       "      <td>138.9</td>\n",
       "      <td>312.5</td>\n",
       "      <td>9.7</td>\n",
       "      <td>0</td>\n",
       "      <td>104</td>\n",
       "      <td>27.23</td>\n",
       "      <td>70</td>\n",
       "      <td>11.81</td>\n",
       "      <td>97</td>\n",
       "      <td>14.06</td>\n",
       "      <td>2</td>\n",
       "      <td>2.62</td>\n",
       "      <td>510</td>\n",
       "    </tr>\n",
       "    <tr>\n",
       "      <td>1521</td>\n",
       "      <td>103</td>\n",
       "      <td>0</td>\n",
       "      <td>173.5</td>\n",
       "      <td>244.3</td>\n",
       "      <td>221.6</td>\n",
       "      <td>9.7</td>\n",
       "      <td>3</td>\n",
       "      <td>83</td>\n",
       "      <td>29.50</td>\n",
       "      <td>65</td>\n",
       "      <td>20.77</td>\n",
       "      <td>66</td>\n",
       "      <td>9.97</td>\n",
       "      <td>2</td>\n",
       "      <td>2.62</td>\n",
       "      <td>415</td>\n",
       "    </tr>\n",
       "    <tr>\n",
       "      <td>3119</td>\n",
       "      <td>83</td>\n",
       "      <td>0</td>\n",
       "      <td>117.9</td>\n",
       "      <td>160.4</td>\n",
       "      <td>235.3</td>\n",
       "      <td>11.4</td>\n",
       "      <td>0</td>\n",
       "      <td>101</td>\n",
       "      <td>20.04</td>\n",
       "      <td>92</td>\n",
       "      <td>13.63</td>\n",
       "      <td>150</td>\n",
       "      <td>10.59</td>\n",
       "      <td>10</td>\n",
       "      <td>3.08</td>\n",
       "      <td>408</td>\n",
       "    </tr>\n",
       "    <tr>\n",
       "      <td>3222</td>\n",
       "      <td>61</td>\n",
       "      <td>29</td>\n",
       "      <td>128.2</td>\n",
       "      <td>171.7</td>\n",
       "      <td>250.9</td>\n",
       "      <td>11.7</td>\n",
       "      <td>3</td>\n",
       "      <td>119</td>\n",
       "      <td>21.79</td>\n",
       "      <td>83</td>\n",
       "      <td>14.59</td>\n",
       "      <td>114</td>\n",
       "      <td>11.29</td>\n",
       "      <td>6</td>\n",
       "      <td>3.16</td>\n",
       "      <td>415</td>\n",
       "    </tr>\n",
       "    <tr>\n",
       "      <td>817</td>\n",
       "      <td>243</td>\n",
       "      <td>0</td>\n",
       "      <td>95.5</td>\n",
       "      <td>163.7</td>\n",
       "      <td>264.2</td>\n",
       "      <td>6.6</td>\n",
       "      <td>2</td>\n",
       "      <td>92</td>\n",
       "      <td>16.24</td>\n",
       "      <td>63</td>\n",
       "      <td>13.91</td>\n",
       "      <td>118</td>\n",
       "      <td>11.89</td>\n",
       "      <td>6</td>\n",
       "      <td>1.78</td>\n",
       "      <td>510</td>\n",
       "    </tr>\n",
       "  </tbody>\n",
       "</table>\n",
       "<p>2666 rows × 16 columns</p>\n",
       "</div>"
      ],
      "text/plain": [
       "      Account_Length  Vmail_Message  Day_Mins  Eve_Mins  Night_Mins  \\\n",
       "559              125              0     131.8     136.7       308.2   \n",
       "654               96             31     183.4     195.5       180.1   \n",
       "1478             118              0     253.2     201.0       195.3   \n",
       "1396             140             27     188.9     160.9       197.7   \n",
       "1510              92              0     265.6     180.7       211.1   \n",
       "...              ...            ...       ...       ...         ...   \n",
       "1486             103              0     160.2     138.9       312.5   \n",
       "1521             103              0     173.5     244.3       221.6   \n",
       "3119              83              0     117.9     160.4       235.3   \n",
       "3222              61             29     128.2     171.7       250.9   \n",
       "817              243              0      95.5     163.7       264.2   \n",
       "\n",
       "      Intl_Mins  CustServ_Calls  Day_Calls  Day_Charge  Eve_Calls  Eve_Charge  \\\n",
       "559         7.7               2         97       22.41        100       11.62   \n",
       "654        10.5               1        126       31.18        106       16.62   \n",
       "1478        9.7               2        122       43.04         78       17.09   \n",
       "1396       11.5               4        124       32.11        102       13.68   \n",
       "1510        8.6               1         82       45.15         75       15.36   \n",
       "...         ...             ...        ...         ...        ...         ...   \n",
       "1486        9.7               0        104       27.23         70       11.81   \n",
       "1521        9.7               3         83       29.50         65       20.77   \n",
       "3119       11.4               0        101       20.04         92       13.63   \n",
       "3222       11.7               3        119       21.79         83       14.59   \n",
       "817         6.6               2         92       16.24         63       13.91   \n",
       "\n",
       "      Night_Calls  Night_Charge  Intl_Calls  Intl_Charge  Area_Code  \n",
       "559           119         13.87           6         2.08        415  \n",
       "654            93          8.10           5         2.84        510  \n",
       "1478          108          8.79           7         2.62        415  \n",
       "1396          100          8.90           5         3.11        415  \n",
       "1510          113          9.50           2         2.32        408  \n",
       "...           ...           ...         ...          ...        ...  \n",
       "1486           97         14.06           2         2.62        510  \n",
       "1521           66          9.97           2         2.62        415  \n",
       "3119          150         10.59          10         3.08        408  \n",
       "3222          114         11.29           6         3.16        415  \n",
       "817           118         11.89           6         1.78        510  \n",
       "\n",
       "[2666 rows x 16 columns]"
      ]
     },
     "execution_count": 39,
     "metadata": {},
     "output_type": "execute_result"
    }
   ],
   "source": [
    "X_train_val[features_num]"
   ]
  },
  {
   "cell_type": "code",
   "execution_count": 40,
   "metadata": {},
   "outputs": [
    {
     "data": {
      "text/html": [
       "<div>\n",
       "<style scoped>\n",
       "    .dataframe tbody tr th:only-of-type {\n",
       "        vertical-align: middle;\n",
       "    }\n",
       "\n",
       "    .dataframe tbody tr th {\n",
       "        vertical-align: top;\n",
       "    }\n",
       "\n",
       "    .dataframe thead th {\n",
       "        text-align: right;\n",
       "    }\n",
       "</style>\n",
       "<table border=\"1\" class=\"dataframe\">\n",
       "  <thead>\n",
       "    <tr style=\"text-align: right;\">\n",
       "      <th></th>\n",
       "      <th>Intl_Plan</th>\n",
       "      <th>Vmail_Plan</th>\n",
       "      <th>State</th>\n",
       "      <th>Phone</th>\n",
       "    </tr>\n",
       "  </thead>\n",
       "  <tbody>\n",
       "    <tr>\n",
       "      <td>559</td>\n",
       "      <td>no</td>\n",
       "      <td>no</td>\n",
       "      <td>CO</td>\n",
       "      <td>378-9029</td>\n",
       "    </tr>\n",
       "    <tr>\n",
       "      <td>654</td>\n",
       "      <td>no</td>\n",
       "      <td>yes</td>\n",
       "      <td>CA</td>\n",
       "      <td>341-4103</td>\n",
       "    </tr>\n",
       "    <tr>\n",
       "      <td>1478</td>\n",
       "      <td>no</td>\n",
       "      <td>no</td>\n",
       "      <td>HI</td>\n",
       "      <td>379-8526</td>\n",
       "    </tr>\n",
       "    <tr>\n",
       "      <td>1396</td>\n",
       "      <td>yes</td>\n",
       "      <td>yes</td>\n",
       "      <td>MD</td>\n",
       "      <td>412-1076</td>\n",
       "    </tr>\n",
       "    <tr>\n",
       "      <td>1510</td>\n",
       "      <td>no</td>\n",
       "      <td>no</td>\n",
       "      <td>NY</td>\n",
       "      <td>348-2916</td>\n",
       "    </tr>\n",
       "    <tr>\n",
       "      <td>...</td>\n",
       "      <td>...</td>\n",
       "      <td>...</td>\n",
       "      <td>...</td>\n",
       "      <td>...</td>\n",
       "    </tr>\n",
       "    <tr>\n",
       "      <td>1486</td>\n",
       "      <td>no</td>\n",
       "      <td>no</td>\n",
       "      <td>CT</td>\n",
       "      <td>377-9178</td>\n",
       "    </tr>\n",
       "    <tr>\n",
       "      <td>1521</td>\n",
       "      <td>no</td>\n",
       "      <td>no</td>\n",
       "      <td>NM</td>\n",
       "      <td>417-6330</td>\n",
       "    </tr>\n",
       "    <tr>\n",
       "      <td>3119</td>\n",
       "      <td>no</td>\n",
       "      <td>no</td>\n",
       "      <td>MO</td>\n",
       "      <td>362-2356</td>\n",
       "    </tr>\n",
       "    <tr>\n",
       "      <td>3222</td>\n",
       "      <td>yes</td>\n",
       "      <td>yes</td>\n",
       "      <td>UT</td>\n",
       "      <td>349-3843</td>\n",
       "    </tr>\n",
       "    <tr>\n",
       "      <td>817</td>\n",
       "      <td>no</td>\n",
       "      <td>no</td>\n",
       "      <td>UT</td>\n",
       "      <td>355-9360</td>\n",
       "    </tr>\n",
       "  </tbody>\n",
       "</table>\n",
       "<p>2666 rows × 4 columns</p>\n",
       "</div>"
      ],
      "text/plain": [
       "     Intl_Plan Vmail_Plan State     Phone\n",
       "559         no         no    CO  378-9029\n",
       "654         no        yes    CA  341-4103\n",
       "1478        no         no    HI  379-8526\n",
       "1396       yes        yes    MD  412-1076\n",
       "1510        no         no    NY  348-2916\n",
       "...        ...        ...   ...       ...\n",
       "1486        no         no    CT  377-9178\n",
       "1521        no         no    NM  417-6330\n",
       "3119        no         no    MO  362-2356\n",
       "3222       yes        yes    UT  349-3843\n",
       "817         no         no    UT  355-9360\n",
       "\n",
       "[2666 rows x 4 columns]"
      ]
     },
     "execution_count": 40,
     "metadata": {},
     "output_type": "execute_result"
    }
   ],
   "source": [
    "X_train_val[features_cat]"
   ]
  },
  {
   "cell_type": "code",
   "execution_count": 41,
   "metadata": {},
   "outputs": [
    {
     "data": {
      "image/png": "[encoded data removed]",
      "text/plain": [
       "<Figure size 432x288 with 1 Axes>"
      ]
     },
     "metadata": {},
     "output_type": "display_data"
    }
   ],
   "source": [
    "# Examining feature: 'Vmail_Message'\n",
    "\n",
    "plt.hist(X_train_val['Vmail_Message'])\n",
    "\n",
    "plt.title('Distribution of \\'Vmail_Message\\'')\n",
    "plt.show()"
   ]
  },
  {
   "cell_type": "markdown",
   "metadata": {},
   "source": [
    "**Insights**\n",
    "- Since this feature has 0 as the most frequent value for most observations, I'll make this a candidate for a binary column (to be done in feature engineering)"
   ]
  },
  {
   "cell_type": "code",
   "execution_count": 42,
   "metadata": {},
   "outputs": [
    {
     "data": {
      "image/png": "[encoded data removed]",
      "text/plain": [
       "<Figure size 432x288 with 1 Axes>"
      ]
     },
     "metadata": {},
     "output_type": "display_data"
    }
   ],
   "source": [
    "plt.hist(X_train_val['CustServ_Calls'])\n",
    "\n",
    "plt.title('Distribution of \\'CustServ_Calls\\'')\n",
    "plt.show()"
   ]
  },
  {
   "cell_type": "markdown",
   "metadata": {},
   "source": [
    "### Encoding Target"
   ]
  },
  {
   "cell_type": "code",
   "execution_count": 43,
   "metadata": {},
   "outputs": [],
   "source": [
    "# Instantiate Label Encoder for \"Churn\"\n",
    "\n",
    "le = LabelEncoder()"
   ]
  },
  {
   "cell_type": "code",
   "execution_count": 44,
   "metadata": {},
   "outputs": [],
   "source": [
    "y_train_val = le.fit_transform(y_train_val)"
   ]
  },
  {
   "cell_type": "code",
   "execution_count": 45,
   "metadata": {},
   "outputs": [
    {
     "data": {
      "text/plain": [
       "array([0, 0, 0, ..., 0, 0, 0])"
      ]
     },
     "execution_count": 45,
     "metadata": {},
     "output_type": "execute_result"
    }
   ],
   "source": [
    "y_train_val"
   ]
  },
  {
   "cell_type": "markdown",
   "metadata": {},
   "source": [
    "### Train-Test Split"
   ]
  },
  {
   "cell_type": "code",
   "execution_count": 46,
   "metadata": {},
   "outputs": [
    {
     "name": "stdout",
     "output_type": "stream",
     "text": [
      "(1999, 20) (667, 20) (1999,) (667,)\n"
     ]
    }
   ],
   "source": [
    "# Split data into training and test sets\n",
    "\n",
    "X_train, X_test, y_train, y_test = train_test_split(X_train_val, y_train_val, test_size=0.25)\n",
    "\n",
    "print(X_train.shape, X_test.shape, y_train.shape, y_test.shape)"
   ]
  },
  {
   "cell_type": "markdown",
   "metadata": {},
   "source": [
    "---"
   ]
  },
  {
   "cell_type": "markdown",
   "metadata": {},
   "source": [
    "<p><a name=\"sel\"></a></p>\n",
    "\n",
    "### Feature Selection"
   ]
  },
  {
   "cell_type": "code",
   "execution_count": 47,
   "metadata": {},
   "outputs": [
    {
     "data": {
      "image/png": "[encoded data removed]",
      "text/plain": [
       "<Figure size 432x288 with 2 Axes>"
      ]
     },
     "metadata": {},
     "output_type": "display_data"
    }
   ],
   "source": [
    "mask = np.zeros_like(X_train.corr())\n",
    "mask[np.triu_indices_from(mask)] = 1\n",
    "sns.heatmap(X_train.corr(), mask= mask, linewidth=0.7, cmap='RdYlGn') \n",
    "plt.show()"
   ]
  },
  {
   "cell_type": "markdown",
   "metadata": {},
   "source": [
    "**Insights:**\n",
    "- Following features are highly correlated\n",
    "    - Day_Mins & Day_Charge\n",
    "    - Eve_Mins & Eve_Charge\n",
    "    - Night_Mins & Night_Charge\n",
    "    - Intl_Mins & Intl_Charge\n",
    "- Either set are candidates for being dropped or their combination for feature engineering"
   ]
  },
  {
   "cell_type": "markdown",
   "metadata": {},
   "source": [
    "---"
   ]
  },
  {
   "cell_type": "markdown",
   "metadata": {},
   "source": [
    "<p><a name=\"dp\"></a></p>\n",
    "\n",
    "## Data Preprocessing"
   ]
  },
  {
   "cell_type": "markdown",
   "metadata": {},
   "source": [
    "<p><a name=\"engg\"></a></p>\n",
    "\n",
    "### Feature Engineering"
   ]
  },
  {
   "cell_type": "code",
   "execution_count": 48,
   "metadata": {},
   "outputs": [],
   "source": [
    "class CategoricalTransformer(BaseEstimator, TransformerMixin):\n",
    "    \n",
    "    '''\n",
    "    Descr:\n",
    "    This class contains methods to undertake categorical transformations\n",
    "    on features and its output will be used as CustomTransfomers \n",
    "    in the pipeline functionality to prevent data leakage and also\n",
    "    automate categorical transformations on unseen data.\n",
    "    \n",
    "    Tasks performed by transform() method:\n",
    "    1. Drops columns not required / provide no predictive information the model\n",
    "\n",
    "    I/P:\n",
    "    1. Features dataframe to perform transformation on\n",
    "    2. Names of categorical features to be dropped\n",
    "\n",
    "    O/P:\n",
    "    numpy array of transformed categorical features\n",
    "    '''    \n",
    "    \n",
    "    # Class constructor\n",
    "    def __init__(self, drop_cat_features):\n",
    "        self.drop_cat_features = drop_cat_features\n",
    "    \n",
    "    # fit method - does nothing and returns self\n",
    "    def fit(self, X, y=None):\n",
    "        return self\n",
    "    \n",
    "    # transform method for custom transformations\n",
    "    def transform(self, X, y=None):\n",
    "        \n",
    "        # Doing this to avoid Chained Indexing error:\n",
    "        # \"SettingWithCopyWarning: A value is trying to be set on a copy of a slice from a DataFrame\"\n",
    "        X1 = X.copy()\n",
    "        \n",
    "        # Dropping columns\n",
    "        X1.drop(self.drop_cat_features, axis=1, inplace=True)\n",
    "\n",
    "        # Return numpy array of transformed numerical features\n",
    "        return X1 "
   ]
  },
  {
   "cell_type": "code",
   "execution_count": 49,
   "metadata": {},
   "outputs": [],
   "source": [
    "class NumericalTransformer(BaseEstimator, TransformerMixin):\n",
    "    \n",
    "    '''\n",
    "    Descr:\n",
    "    This class contains methods to undertake numerical transformations\n",
    "    on features and its output will be used as CustomTransfomers \n",
    "    in the pipeline functionality to prevent data leakage and also\n",
    "    automate numerical transformations on unseen data.\n",
    "    For it to qualify as a transformer, it will contain the .fit()\n",
    "    and .transform() methods and we'll be inheriting from 2 classes\n",
    "    that faciliate this class being a transformer.\n",
    "    \n",
    "    Tasks performed by transform() method:\n",
    "    1. Drops columns not required / provide no predictive information the model\n",
    "    2. Create binary column of features that are highly skewed to 1 value\n",
    "\n",
    "    I/P:\n",
    "    1. Features dataframe to perform transformation on\n",
    "    2. Names of numerical features to be dropped\n",
    "    3. Print flag to see names of columns after transformation. Defaulted\n",
    "        to 'N' if not passed as 'Y'\n",
    "\n",
    "    O/P:\n",
    "    numpy array of transformed numerical features\n",
    "    '''    \n",
    "    \n",
    "    # Class constructor\n",
    "    def __init__(self, numerical_features, drop_num_features, my_print='N'):\n",
    "        self.numerical_features = numerical_features\n",
    "        self.drop_num_features = drop_num_features\n",
    "        self.my_print = my_print\n",
    "    \n",
    "    # fit method - does nothing and returns self\n",
    "    def fit(self, X, y=None):\n",
    "        return self\n",
    "    \n",
    "    # Binarize method\n",
    "    def binarize(self, obj):\n",
    "        if obj == 0:\n",
    "            return 0\n",
    "        else:\n",
    "            return 1\n",
    "\n",
    "    \n",
    "    # transform method for custom transformations\n",
    "    def transform(self, X, y=None):\n",
    "        \n",
    "        X = pd.DataFrame(X, columns=self.numerical_features)\n",
    "        \n",
    "        # Doing this to avoid Chained Indexing error:\n",
    "        # \"SettingWithCopyWarning: A value is trying to be set on a copy of a slice from a DataFrame\"\n",
    "        X1 = X.copy()\n",
    "        \n",
    "        # Binarize columns\n",
    "        X1.loc[:,'Vmail_Message_b'] = X1['Vmail_Message'].apply(self.binarize)\n",
    "\n",
    "        # Dropping columns\n",
    "        X1.drop(self.drop_num_features, axis=1, inplace=True)\n",
    "\n",
    "        if self.my_print == 'Y':\n",
    "            print('Transformed Numerical Features\\' column names:\\n', list(X1.columns))\n",
    "    \n",
    "        # Return numpy array of transformed numerical features\n",
    "        return X1    #X1.values"
   ]
  },
  {
   "cell_type": "code",
   "execution_count": 50,
   "metadata": {},
   "outputs": [],
   "source": [
    "# Tagging features for transformations\n",
    "\n",
    "# Lists of Categorical features:\n",
    "# Features for (1) dropping 'Phone' (2) imputation (3) Ordinal encoding\n",
    "features_for_pipe_cat_imp_oe = ['Intl_Plan', 'Vmail_Plan', 'Phone']\n",
    "    \n",
    "# Features for (1) imputation (2) OneHot encoding\n",
    "features_for_ohe = ['State']\n",
    "\n",
    "features_dropped_cat = ['Phone']\n",
    "\n",
    "\n",
    "# Lists of Numerical features:\n",
    "features_for_pipe_num_imp = features_num\n",
    "features_for_pipe_num_imp_ss = features_num\n",
    "features_for_pipe_num_imp_norm = features_num\n",
    "\n",
    "features_dropped_num = ['Day_Mins','Eve_Mins','Night_Mins','Intl_Mins',\\\n",
    "                        'Vmail_Message','Area_Code']"
   ]
  },
  {
   "cell_type": "code",
   "execution_count": 51,
   "metadata": {},
   "outputs": [],
   "source": [
    "# Instantiate all transformers to be used in the \n",
    "# Column Transformer (i.e., Preprocessor)\n",
    "\n",
    "# Categorical tranformers\n",
    "cat_transformer = CategoricalTransformer(features_dropped_cat)\n",
    "imp_mode_c = SimpleImputer(strategy='most_frequent')\n",
    "oe = OrdinalEncoder()\n",
    "ohe = OneHotEncoder()\n",
    "\n",
    "# Numerical transformers\n",
    "imp_median_n = SimpleImputer(strategy='median')\n",
    "# Instantiate with 3rd argument 'Y' to see column names of tranformed features\n",
    "num_transformer = NumericalTransformer(features_num, features_dropped_num, 'N')\n",
    "ss = StandardScaler()\n",
    "norm = Normalizer()"
   ]
  },
  {
   "cell_type": "code",
   "execution_count": 52,
   "metadata": {},
   "outputs": [],
   "source": [
    "# Pipelines of transformations (no model yet)\n",
    "\n",
    "# Categorical pipelines of transformations\n",
    "\n",
    "# Pipeline for (1) dropping 'Phone' (2) imputation (3) Ordinal encoding\n",
    "pipe_cat_imp_oe = make_pipeline(cat_transformer, imp_mode_c, oe)\n",
    "\n",
    "# Pipeline for (1) imputation (2) OneHot encoding\n",
    "pipe_imp_ohe = make_pipeline(imp_mode_c, ohe)\n",
    "\n",
    "\n",
    "# Numerical pipelines of transformations\n",
    "# Pipeline for (1) imputation (2) Numerical transformations\n",
    "pipe_num_imp = make_pipeline(imp_median_n, num_transformer)\n",
    "\n",
    "# Pipeline for (1) imputation (2) Numerical transformations (3) Standardizing\n",
    "pipe_num_imp_ss = make_pipeline(imp_median_n, num_transformer, ss)\n",
    "\n",
    "# Pipeline for (1) imputation (2) Numerical transformations (3) Normalizing\n",
    "pipe_num_imp_norm = make_pipeline(imp_median_n, num_transformer, norm)"
   ]
  },
  {
   "cell_type": "code",
   "execution_count": 53,
   "metadata": {},
   "outputs": [],
   "source": [
    "# Utilizing Column Transformer for transformations\n",
    "\n",
    "preprocessor = make_column_transformer(\n",
    "    (pipe_cat_imp_oe, features_for_pipe_cat_imp_oe)\n",
    "    ,(pipe_imp_ohe, features_for_ohe)\n",
    "    ,(pipe_num_imp, features_for_pipe_num_imp)\n",
    "    ,remainder='passthrough') "
   ]
  },
  {
   "cell_type": "code",
   "execution_count": 54,
   "metadata": {},
   "outputs": [],
   "source": [
    "# Utilizing Column Transformer for transformations (including standardizing features)\n",
    "\n",
    "preprocessor_ss = make_column_transformer(\n",
    "    (pipe_cat_imp_oe, features_for_pipe_cat_imp_oe)\n",
    "    ,(pipe_imp_ohe, features_for_ohe)\n",
    "    ,(pipe_num_imp_ss, features_for_pipe_num_imp_ss)\n",
    "    ,remainder='passthrough') "
   ]
  },
  {
   "cell_type": "code",
   "execution_count": 55,
   "metadata": {},
   "outputs": [],
   "source": [
    "# Utilizing Column Transformer for transformations (including normalizing features)\n",
    "\n",
    "preprocessor_norm = make_column_transformer(\n",
    "    (pipe_cat_imp_oe, features_for_pipe_cat_imp_oe)\n",
    "    ,(pipe_imp_ohe, features_for_ohe)\n",
    "    ,(pipe_num_imp_norm, features_for_pipe_num_imp_norm)\n",
    "    ,remainder='passthrough') "
   ]
  },
  {
   "cell_type": "code",
   "execution_count": 56,
   "metadata": {
    "scrolled": true
   },
   "outputs": [
    {
     "data": {
      "text/plain": [
       "<1999x64 sparse matrix of type '<class 'numpy.float64'>'\n",
       "\twith 22842 stored elements in Compressed Sparse Row format>"
      ]
     },
     "execution_count": 56,
     "metadata": {},
     "output_type": "execute_result"
    }
   ],
   "source": [
    "preprocessor.fit_transform(X_train)"
   ]
  },
  {
   "cell_type": "code",
   "execution_count": 57,
   "metadata": {},
   "outputs": [
    {
     "data": {
      "text/plain": [
       "<1999x64 sparse matrix of type '<class 'numpy.float64'>'\n",
       "\twith 24728 stored elements in Compressed Sparse Row format>"
      ]
     },
     "execution_count": 57,
     "metadata": {},
     "output_type": "execute_result"
    }
   ],
   "source": [
    "preprocessor_ss.fit_transform(X_train)"
   ]
  },
  {
   "cell_type": "code",
   "execution_count": 58,
   "metadata": {},
   "outputs": [
    {
     "data": {
      "text/plain": [
       "<1999x64 sparse matrix of type '<class 'numpy.float64'>'\n",
       "\twith 22842 stored elements in Compressed Sparse Row format>"
      ]
     },
     "execution_count": 58,
     "metadata": {},
     "output_type": "execute_result"
    }
   ],
   "source": [
    "preprocessor_norm.fit_transform(X_train)"
   ]
  },
  {
   "cell_type": "markdown",
   "metadata": {},
   "source": [
    "#### Deriving column names of OneHot encoded 'State' feature\n",
    "\n",
    "- Will record a df of the transformed features in **\"X_train_tf\"** (excludes standardized columns)\n",
    "- Will record a df of the transformed features in **\"X_train_tf_ss\"** (includes standardized columns)\n",
    "- Will record a df of the transformed features in **\"X_train_tf_norm\"** (includes normalized columns)"
   ]
  },
  {
   "cell_type": "code",
   "execution_count": 59,
   "metadata": {},
   "outputs": [
    {
     "name": "stdout",
     "output_type": "stream",
     "text": [
      "Number of OHE columns created from \"State\" =  51\n",
      "Number of unique values in \"State\"         =  51\n"
     ]
    }
   ],
   "source": [
    "# Deriving the column names for the OneHot encoded 'State'\n",
    "\n",
    "features_transformed_ohe = list(preprocessor.transformers_[1][1].named_steps['onehotencoder'].get_feature_names())\n",
    "\n",
    "# Quick check\n",
    "print('Number of OHE columns created from \"State\" = ', len(features_transformed_ohe))\n",
    "print('Number of unique values in \"State\"         = ', churn_data['State'].nunique())"
   ]
  },
  {
   "cell_type": "code",
   "execution_count": 60,
   "metadata": {},
   "outputs": [],
   "source": [
    "# Deriving the column names of the transformed df\n",
    "\n",
    "# Leveraing feature names that were provided to the column\n",
    "# transformer, output from ohe and the output of the numerical transformer\n",
    "features_transformed_incl_dropped = features_for_pipe_cat_imp_oe + \\\n",
    "features_transformed_ohe + \\\n",
    "['Account_Length', 'CustServ_Calls', 'Day_Calls', 'Day_Charge', \\\n",
    " 'Eve_Calls', 'Eve_Charge', 'Night_Calls', 'Night_Charge', \\\n",
    " 'Intl_Calls', 'Intl_Charge', 'Vmail_Message_b']\n",
    "\n",
    "# Leveraging feature names provided as input to the dropped\n",
    "features_dropped_all = features_dropped_cat + features_dropped_num\n",
    "\n",
    "\n",
    "# Forming a list of transformed features by removing dropped \n",
    "# columns from the list\n",
    "features_transformed = [col for col in features_transformed_incl_dropped if col not in features_dropped_all]"
   ]
  },
  {
   "cell_type": "code",
   "execution_count": 61,
   "metadata": {},
   "outputs": [
    {
     "name": "stdout",
     "output_type": "stream",
     "text": [
      "\n",
      "# columns from transformation = 64\n",
      "# column names derived        = 64\n"
     ]
    }
   ],
   "source": [
    "# Check the transformed features column name count\n",
    "# versus the shape of the transformed array\n",
    "\n",
    "print('\\n# columns from transformation =', preprocessor.fit_transform(X_train).toarray().shape[1])\n",
    "print('# column names derived        =', len(features_transformed))"
   ]
  },
  {
   "cell_type": "code",
   "execution_count": 62,
   "metadata": {
    "scrolled": true
   },
   "outputs": [
    {
     "data": {
      "text/html": [
       "<div>\n",
       "<style scoped>\n",
       "    .dataframe tbody tr th:only-of-type {\n",
       "        vertical-align: middle;\n",
       "    }\n",
       "\n",
       "    .dataframe tbody tr th {\n",
       "        vertical-align: top;\n",
       "    }\n",
       "\n",
       "    .dataframe thead th {\n",
       "        text-align: right;\n",
       "    }\n",
       "</style>\n",
       "<table border=\"1\" class=\"dataframe\">\n",
       "  <thead>\n",
       "    <tr style=\"text-align: right;\">\n",
       "      <th></th>\n",
       "      <th>Intl_Plan</th>\n",
       "      <th>Vmail_Plan</th>\n",
       "      <th>x0_AK</th>\n",
       "      <th>x0_AL</th>\n",
       "      <th>x0_AR</th>\n",
       "      <th>x0_AZ</th>\n",
       "      <th>x0_CA</th>\n",
       "      <th>x0_CO</th>\n",
       "      <th>x0_CT</th>\n",
       "      <th>x0_DC</th>\n",
       "      <th>...</th>\n",
       "      <th>CustServ_Calls</th>\n",
       "      <th>Day_Calls</th>\n",
       "      <th>Day_Charge</th>\n",
       "      <th>Eve_Calls</th>\n",
       "      <th>Eve_Charge</th>\n",
       "      <th>Night_Calls</th>\n",
       "      <th>Night_Charge</th>\n",
       "      <th>Intl_Calls</th>\n",
       "      <th>Intl_Charge</th>\n",
       "      <th>Vmail_Message_b</th>\n",
       "    </tr>\n",
       "  </thead>\n",
       "  <tbody>\n",
       "    <tr>\n",
       "      <td>0</td>\n",
       "      <td>0.0</td>\n",
       "      <td>1.0</td>\n",
       "      <td>0.0</td>\n",
       "      <td>1.0</td>\n",
       "      <td>0.0</td>\n",
       "      <td>0.0</td>\n",
       "      <td>0.0</td>\n",
       "      <td>0.0</td>\n",
       "      <td>0.0</td>\n",
       "      <td>0.0</td>\n",
       "      <td>...</td>\n",
       "      <td>3.0</td>\n",
       "      <td>97.0</td>\n",
       "      <td>39.51</td>\n",
       "      <td>88.0</td>\n",
       "      <td>15.81</td>\n",
       "      <td>128.0</td>\n",
       "      <td>8.57</td>\n",
       "      <td>3.0</td>\n",
       "      <td>3.32</td>\n",
       "      <td>1.0</td>\n",
       "    </tr>\n",
       "    <tr>\n",
       "      <td>1</td>\n",
       "      <td>0.0</td>\n",
       "      <td>0.0</td>\n",
       "      <td>0.0</td>\n",
       "      <td>1.0</td>\n",
       "      <td>0.0</td>\n",
       "      <td>0.0</td>\n",
       "      <td>0.0</td>\n",
       "      <td>0.0</td>\n",
       "      <td>0.0</td>\n",
       "      <td>0.0</td>\n",
       "      <td>...</td>\n",
       "      <td>3.0</td>\n",
       "      <td>83.0</td>\n",
       "      <td>32.20</td>\n",
       "      <td>89.0</td>\n",
       "      <td>18.62</td>\n",
       "      <td>116.0</td>\n",
       "      <td>7.56</td>\n",
       "      <td>8.0</td>\n",
       "      <td>1.92</td>\n",
       "      <td>0.0</td>\n",
       "    </tr>\n",
       "    <tr>\n",
       "      <td>2</td>\n",
       "      <td>0.0</td>\n",
       "      <td>0.0</td>\n",
       "      <td>0.0</td>\n",
       "      <td>0.0</td>\n",
       "      <td>0.0</td>\n",
       "      <td>0.0</td>\n",
       "      <td>0.0</td>\n",
       "      <td>0.0</td>\n",
       "      <td>0.0</td>\n",
       "      <td>0.0</td>\n",
       "      <td>...</td>\n",
       "      <td>1.0</td>\n",
       "      <td>89.0</td>\n",
       "      <td>30.96</td>\n",
       "      <td>104.0</td>\n",
       "      <td>17.98</td>\n",
       "      <td>124.0</td>\n",
       "      <td>9.33</td>\n",
       "      <td>1.0</td>\n",
       "      <td>1.84</td>\n",
       "      <td>0.0</td>\n",
       "    </tr>\n",
       "    <tr>\n",
       "      <td>3</td>\n",
       "      <td>0.0</td>\n",
       "      <td>0.0</td>\n",
       "      <td>0.0</td>\n",
       "      <td>0.0</td>\n",
       "      <td>0.0</td>\n",
       "      <td>0.0</td>\n",
       "      <td>0.0</td>\n",
       "      <td>0.0</td>\n",
       "      <td>0.0</td>\n",
       "      <td>0.0</td>\n",
       "      <td>...</td>\n",
       "      <td>2.0</td>\n",
       "      <td>92.0</td>\n",
       "      <td>16.24</td>\n",
       "      <td>63.0</td>\n",
       "      <td>13.91</td>\n",
       "      <td>118.0</td>\n",
       "      <td>11.89</td>\n",
       "      <td>6.0</td>\n",
       "      <td>1.78</td>\n",
       "      <td>0.0</td>\n",
       "    </tr>\n",
       "    <tr>\n",
       "      <td>4</td>\n",
       "      <td>0.0</td>\n",
       "      <td>1.0</td>\n",
       "      <td>0.0</td>\n",
       "      <td>0.0</td>\n",
       "      <td>0.0</td>\n",
       "      <td>0.0</td>\n",
       "      <td>0.0</td>\n",
       "      <td>1.0</td>\n",
       "      <td>0.0</td>\n",
       "      <td>0.0</td>\n",
       "      <td>...</td>\n",
       "      <td>3.0</td>\n",
       "      <td>106.0</td>\n",
       "      <td>50.13</td>\n",
       "      <td>115.0</td>\n",
       "      <td>14.08</td>\n",
       "      <td>63.0</td>\n",
       "      <td>8.51</td>\n",
       "      <td>5.0</td>\n",
       "      <td>2.65</td>\n",
       "      <td>1.0</td>\n",
       "    </tr>\n",
       "  </tbody>\n",
       "</table>\n",
       "<p>5 rows × 64 columns</p>\n",
       "</div>"
      ],
      "text/plain": [
       "   Intl_Plan  Vmail_Plan  x0_AK  x0_AL  x0_AR  x0_AZ  x0_CA  x0_CO  x0_CT  \\\n",
       "0        0.0         1.0    0.0    1.0    0.0    0.0    0.0    0.0    0.0   \n",
       "1        0.0         0.0    0.0    1.0    0.0    0.0    0.0    0.0    0.0   \n",
       "2        0.0         0.0    0.0    0.0    0.0    0.0    0.0    0.0    0.0   \n",
       "3        0.0         0.0    0.0    0.0    0.0    0.0    0.0    0.0    0.0   \n",
       "4        0.0         1.0    0.0    0.0    0.0    0.0    0.0    1.0    0.0   \n",
       "\n",
       "   x0_DC  ...  CustServ_Calls  Day_Calls  Day_Charge  Eve_Calls  Eve_Charge  \\\n",
       "0    0.0  ...             3.0       97.0       39.51       88.0       15.81   \n",
       "1    0.0  ...             3.0       83.0       32.20       89.0       18.62   \n",
       "2    0.0  ...             1.0       89.0       30.96      104.0       17.98   \n",
       "3    0.0  ...             2.0       92.0       16.24       63.0       13.91   \n",
       "4    0.0  ...             3.0      106.0       50.13      115.0       14.08   \n",
       "\n",
       "   Night_Calls  Night_Charge  Intl_Calls  Intl_Charge  Vmail_Message_b  \n",
       "0        128.0          8.57         3.0         3.32              1.0  \n",
       "1        116.0          7.56         8.0         1.92              0.0  \n",
       "2        124.0          9.33         1.0         1.84              0.0  \n",
       "3        118.0         11.89         6.0         1.78              0.0  \n",
       "4         63.0          8.51         5.0         2.65              1.0  \n",
       "\n",
       "[5 rows x 64 columns]"
      ]
     },
     "execution_count": 62,
     "metadata": {},
     "output_type": "execute_result"
    }
   ],
   "source": [
    "# Forming transformed DF with transformed features\n",
    "\n",
    "X_train_tf = pd.DataFrame(preprocessor.fit_transform(X_train).toarray(), columns=features_transformed)\n",
    "X_train_tf.head()"
   ]
  },
  {
   "cell_type": "code",
   "execution_count": 63,
   "metadata": {},
   "outputs": [
    {
     "data": {
      "text/html": [
       "<div>\n",
       "<style scoped>\n",
       "    .dataframe tbody tr th:only-of-type {\n",
       "        vertical-align: middle;\n",
       "    }\n",
       "\n",
       "    .dataframe tbody tr th {\n",
       "        vertical-align: top;\n",
       "    }\n",
       "\n",
       "    .dataframe thead th {\n",
       "        text-align: right;\n",
       "    }\n",
       "</style>\n",
       "<table border=\"1\" class=\"dataframe\">\n",
       "  <thead>\n",
       "    <tr style=\"text-align: right;\">\n",
       "      <th></th>\n",
       "      <th>Intl_Plan</th>\n",
       "      <th>Vmail_Plan</th>\n",
       "      <th>x0_AK</th>\n",
       "      <th>x0_AL</th>\n",
       "      <th>x0_AR</th>\n",
       "      <th>x0_AZ</th>\n",
       "      <th>x0_CA</th>\n",
       "      <th>x0_CO</th>\n",
       "      <th>x0_CT</th>\n",
       "      <th>x0_DC</th>\n",
       "      <th>...</th>\n",
       "      <th>CustServ_Calls</th>\n",
       "      <th>Day_Calls</th>\n",
       "      <th>Day_Charge</th>\n",
       "      <th>Eve_Calls</th>\n",
       "      <th>Eve_Charge</th>\n",
       "      <th>Night_Calls</th>\n",
       "      <th>Night_Charge</th>\n",
       "      <th>Intl_Calls</th>\n",
       "      <th>Intl_Charge</th>\n",
       "      <th>Vmail_Message_b</th>\n",
       "    </tr>\n",
       "  </thead>\n",
       "  <tbody>\n",
       "    <tr>\n",
       "      <td>0</td>\n",
       "      <td>0.0</td>\n",
       "      <td>1.0</td>\n",
       "      <td>0.0</td>\n",
       "      <td>1.0</td>\n",
       "      <td>0.0</td>\n",
       "      <td>0.0</td>\n",
       "      <td>0.0</td>\n",
       "      <td>0.0</td>\n",
       "      <td>0.0</td>\n",
       "      <td>0.0</td>\n",
       "      <td>...</td>\n",
       "      <td>1.124169</td>\n",
       "      <td>-0.181341</td>\n",
       "      <td>0.971728</td>\n",
       "      <td>-0.591106</td>\n",
       "      <td>-0.285905</td>\n",
       "      <td>1.421158</td>\n",
       "      <td>-0.200799</td>\n",
       "      <td>-0.589682</td>\n",
       "      <td>0.764834</td>\n",
       "      <td>1.611001</td>\n",
       "    </tr>\n",
       "    <tr>\n",
       "      <td>1</td>\n",
       "      <td>0.0</td>\n",
       "      <td>0.0</td>\n",
       "      <td>0.0</td>\n",
       "      <td>1.0</td>\n",
       "      <td>0.0</td>\n",
       "      <td>0.0</td>\n",
       "      <td>0.0</td>\n",
       "      <td>0.0</td>\n",
       "      <td>0.0</td>\n",
       "      <td>0.0</td>\n",
       "      <td>...</td>\n",
       "      <td>1.124169</td>\n",
       "      <td>-0.896632</td>\n",
       "      <td>0.177117</td>\n",
       "      <td>-0.540899</td>\n",
       "      <td>0.368847</td>\n",
       "      <td>0.812590</td>\n",
       "      <td>-0.641300</td>\n",
       "      <td>1.449014</td>\n",
       "      <td>-1.059089</td>\n",
       "      <td>-0.620732</td>\n",
       "    </tr>\n",
       "    <tr>\n",
       "      <td>2</td>\n",
       "      <td>0.0</td>\n",
       "      <td>0.0</td>\n",
       "      <td>0.0</td>\n",
       "      <td>0.0</td>\n",
       "      <td>0.0</td>\n",
       "      <td>0.0</td>\n",
       "      <td>0.0</td>\n",
       "      <td>0.0</td>\n",
       "      <td>0.0</td>\n",
       "      <td>0.0</td>\n",
       "      <td>...</td>\n",
       "      <td>-0.420839</td>\n",
       "      <td>-0.590079</td>\n",
       "      <td>0.042326</td>\n",
       "      <td>0.212206</td>\n",
       "      <td>0.219722</td>\n",
       "      <td>1.218302</td>\n",
       "      <td>0.130667</td>\n",
       "      <td>-1.405160</td>\n",
       "      <td>-1.163313</td>\n",
       "      <td>-0.620732</td>\n",
       "    </tr>\n",
       "    <tr>\n",
       "      <td>3</td>\n",
       "      <td>0.0</td>\n",
       "      <td>0.0</td>\n",
       "      <td>0.0</td>\n",
       "      <td>0.0</td>\n",
       "      <td>0.0</td>\n",
       "      <td>0.0</td>\n",
       "      <td>0.0</td>\n",
       "      <td>0.0</td>\n",
       "      <td>0.0</td>\n",
       "      <td>0.0</td>\n",
       "      <td>...</td>\n",
       "      <td>0.351665</td>\n",
       "      <td>-0.436802</td>\n",
       "      <td>-1.557767</td>\n",
       "      <td>-1.846281</td>\n",
       "      <td>-0.728619</td>\n",
       "      <td>0.914018</td>\n",
       "      <td>1.247186</td>\n",
       "      <td>0.633536</td>\n",
       "      <td>-1.241481</td>\n",
       "      <td>-0.620732</td>\n",
       "    </tr>\n",
       "    <tr>\n",
       "      <td>4</td>\n",
       "      <td>0.0</td>\n",
       "      <td>1.0</td>\n",
       "      <td>0.0</td>\n",
       "      <td>0.0</td>\n",
       "      <td>0.0</td>\n",
       "      <td>0.0</td>\n",
       "      <td>0.0</td>\n",
       "      <td>1.0</td>\n",
       "      <td>0.0</td>\n",
       "      <td>0.0</td>\n",
       "      <td>...</td>\n",
       "      <td>1.124169</td>\n",
       "      <td>0.278490</td>\n",
       "      <td>2.126144</td>\n",
       "      <td>0.764483</td>\n",
       "      <td>-0.689008</td>\n",
       "      <td>-1.875249</td>\n",
       "      <td>-0.226967</td>\n",
       "      <td>0.225797</td>\n",
       "      <td>-0.108043</td>\n",
       "      <td>1.611001</td>\n",
       "    </tr>\n",
       "  </tbody>\n",
       "</table>\n",
       "<p>5 rows × 64 columns</p>\n",
       "</div>"
      ],
      "text/plain": [
       "   Intl_Plan  Vmail_Plan  x0_AK  x0_AL  x0_AR  x0_AZ  x0_CA  x0_CO  x0_CT  \\\n",
       "0        0.0         1.0    0.0    1.0    0.0    0.0    0.0    0.0    0.0   \n",
       "1        0.0         0.0    0.0    1.0    0.0    0.0    0.0    0.0    0.0   \n",
       "2        0.0         0.0    0.0    0.0    0.0    0.0    0.0    0.0    0.0   \n",
       "3        0.0         0.0    0.0    0.0    0.0    0.0    0.0    0.0    0.0   \n",
       "4        0.0         1.0    0.0    0.0    0.0    0.0    0.0    1.0    0.0   \n",
       "\n",
       "   x0_DC  ...  CustServ_Calls  Day_Calls  Day_Charge  Eve_Calls  Eve_Charge  \\\n",
       "0    0.0  ...        1.124169  -0.181341    0.971728  -0.591106   -0.285905   \n",
       "1    0.0  ...        1.124169  -0.896632    0.177117  -0.540899    0.368847   \n",
       "2    0.0  ...       -0.420839  -0.590079    0.042326   0.212206    0.219722   \n",
       "3    0.0  ...        0.351665  -0.436802   -1.557767  -1.846281   -0.728619   \n",
       "4    0.0  ...        1.124169   0.278490    2.126144   0.764483   -0.689008   \n",
       "\n",
       "   Night_Calls  Night_Charge  Intl_Calls  Intl_Charge  Vmail_Message_b  \n",
       "0     1.421158     -0.200799   -0.589682     0.764834         1.611001  \n",
       "1     0.812590     -0.641300    1.449014    -1.059089        -0.620732  \n",
       "2     1.218302      0.130667   -1.405160    -1.163313        -0.620732  \n",
       "3     0.914018      1.247186    0.633536    -1.241481        -0.620732  \n",
       "4    -1.875249     -0.226967    0.225797    -0.108043         1.611001  \n",
       "\n",
       "[5 rows x 64 columns]"
      ]
     },
     "execution_count": 63,
     "metadata": {},
     "output_type": "execute_result"
    }
   ],
   "source": [
    "# Forming transformed DF with transformed features (features standardized)\n",
    "\n",
    "X_train_tf_ss = pd.DataFrame(preprocessor_ss.fit_transform(X_train).toarray(), columns=features_transformed)\n",
    "X_train_tf_ss.head()"
   ]
  },
  {
   "cell_type": "code",
   "execution_count": 64,
   "metadata": {},
   "outputs": [
    {
     "data": {
      "text/html": [
       "<div>\n",
       "<style scoped>\n",
       "    .dataframe tbody tr th:only-of-type {\n",
       "        vertical-align: middle;\n",
       "    }\n",
       "\n",
       "    .dataframe tbody tr th {\n",
       "        vertical-align: top;\n",
       "    }\n",
       "\n",
       "    .dataframe thead th {\n",
       "        text-align: right;\n",
       "    }\n",
       "</style>\n",
       "<table border=\"1\" class=\"dataframe\">\n",
       "  <thead>\n",
       "    <tr style=\"text-align: right;\">\n",
       "      <th></th>\n",
       "      <th>Intl_Plan</th>\n",
       "      <th>Vmail_Plan</th>\n",
       "      <th>x0_AK</th>\n",
       "      <th>x0_AL</th>\n",
       "      <th>x0_AR</th>\n",
       "      <th>x0_AZ</th>\n",
       "      <th>x0_CA</th>\n",
       "      <th>x0_CO</th>\n",
       "      <th>x0_CT</th>\n",
       "      <th>x0_DC</th>\n",
       "      <th>...</th>\n",
       "      <th>CustServ_Calls</th>\n",
       "      <th>Day_Calls</th>\n",
       "      <th>Day_Charge</th>\n",
       "      <th>Eve_Calls</th>\n",
       "      <th>Eve_Charge</th>\n",
       "      <th>Night_Calls</th>\n",
       "      <th>Night_Charge</th>\n",
       "      <th>Intl_Calls</th>\n",
       "      <th>Intl_Charge</th>\n",
       "      <th>Vmail_Message_b</th>\n",
       "    </tr>\n",
       "  </thead>\n",
       "  <tbody>\n",
       "    <tr>\n",
       "      <td>0</td>\n",
       "      <td>0.0</td>\n",
       "      <td>1.0</td>\n",
       "      <td>0.0</td>\n",
       "      <td>1.0</td>\n",
       "      <td>0.0</td>\n",
       "      <td>0.0</td>\n",
       "      <td>0.0</td>\n",
       "      <td>0.0</td>\n",
       "      <td>0.0</td>\n",
       "      <td>0.0</td>\n",
       "      <td>...</td>\n",
       "      <td>0.014346</td>\n",
       "      <td>0.463842</td>\n",
       "      <td>0.188932</td>\n",
       "      <td>0.420805</td>\n",
       "      <td>0.075601</td>\n",
       "      <td>0.612080</td>\n",
       "      <td>0.040981</td>\n",
       "      <td>0.014346</td>\n",
       "      <td>0.015876</td>\n",
       "      <td>0.004782</td>\n",
       "    </tr>\n",
       "    <tr>\n",
       "      <td>1</td>\n",
       "      <td>0.0</td>\n",
       "      <td>0.0</td>\n",
       "      <td>0.0</td>\n",
       "      <td>1.0</td>\n",
       "      <td>0.0</td>\n",
       "      <td>0.0</td>\n",
       "      <td>0.0</td>\n",
       "      <td>0.0</td>\n",
       "      <td>0.0</td>\n",
       "      <td>0.0</td>\n",
       "      <td>...</td>\n",
       "      <td>0.014582</td>\n",
       "      <td>0.403429</td>\n",
       "      <td>0.156511</td>\n",
       "      <td>0.432593</td>\n",
       "      <td>0.090504</td>\n",
       "      <td>0.563829</td>\n",
       "      <td>0.036746</td>\n",
       "      <td>0.038885</td>\n",
       "      <td>0.009332</td>\n",
       "      <td>0.000000</td>\n",
       "    </tr>\n",
       "    <tr>\n",
       "      <td>2</td>\n",
       "      <td>0.0</td>\n",
       "      <td>0.0</td>\n",
       "      <td>0.0</td>\n",
       "      <td>0.0</td>\n",
       "      <td>0.0</td>\n",
       "      <td>0.0</td>\n",
       "      <td>0.0</td>\n",
       "      <td>0.0</td>\n",
       "      <td>0.0</td>\n",
       "      <td>0.0</td>\n",
       "      <td>...</td>\n",
       "      <td>0.005187</td>\n",
       "      <td>0.461641</td>\n",
       "      <td>0.160589</td>\n",
       "      <td>0.539445</td>\n",
       "      <td>0.093262</td>\n",
       "      <td>0.643185</td>\n",
       "      <td>0.048394</td>\n",
       "      <td>0.005187</td>\n",
       "      <td>0.009544</td>\n",
       "      <td>0.000000</td>\n",
       "    </tr>\n",
       "    <tr>\n",
       "      <td>3</td>\n",
       "      <td>0.0</td>\n",
       "      <td>0.0</td>\n",
       "      <td>0.0</td>\n",
       "      <td>0.0</td>\n",
       "      <td>0.0</td>\n",
       "      <td>0.0</td>\n",
       "      <td>0.0</td>\n",
       "      <td>0.0</td>\n",
       "      <td>0.0</td>\n",
       "      <td>0.0</td>\n",
       "      <td>...</td>\n",
       "      <td>0.006818</td>\n",
       "      <td>0.313630</td>\n",
       "      <td>0.055363</td>\n",
       "      <td>0.214769</td>\n",
       "      <td>0.047420</td>\n",
       "      <td>0.402265</td>\n",
       "      <td>0.040533</td>\n",
       "      <td>0.020454</td>\n",
       "      <td>0.006068</td>\n",
       "      <td>0.000000</td>\n",
       "    </tr>\n",
       "    <tr>\n",
       "      <td>4</td>\n",
       "      <td>0.0</td>\n",
       "      <td>1.0</td>\n",
       "      <td>0.0</td>\n",
       "      <td>0.0</td>\n",
       "      <td>0.0</td>\n",
       "      <td>0.0</td>\n",
       "      <td>0.0</td>\n",
       "      <td>1.0</td>\n",
       "      <td>0.0</td>\n",
       "      <td>0.0</td>\n",
       "      <td>...</td>\n",
       "      <td>0.014114</td>\n",
       "      <td>0.498694</td>\n",
       "      <td>0.235845</td>\n",
       "      <td>0.541036</td>\n",
       "      <td>0.066242</td>\n",
       "      <td>0.296394</td>\n",
       "      <td>0.040037</td>\n",
       "      <td>0.023523</td>\n",
       "      <td>0.012467</td>\n",
       "      <td>0.004705</td>\n",
       "    </tr>\n",
       "  </tbody>\n",
       "</table>\n",
       "<p>5 rows × 64 columns</p>\n",
       "</div>"
      ],
      "text/plain": [
       "   Intl_Plan  Vmail_Plan  x0_AK  x0_AL  x0_AR  x0_AZ  x0_CA  x0_CO  x0_CT  \\\n",
       "0        0.0         1.0    0.0    1.0    0.0    0.0    0.0    0.0    0.0   \n",
       "1        0.0         0.0    0.0    1.0    0.0    0.0    0.0    0.0    0.0   \n",
       "2        0.0         0.0    0.0    0.0    0.0    0.0    0.0    0.0    0.0   \n",
       "3        0.0         0.0    0.0    0.0    0.0    0.0    0.0    0.0    0.0   \n",
       "4        0.0         1.0    0.0    0.0    0.0    0.0    0.0    1.0    0.0   \n",
       "\n",
       "   x0_DC  ...  CustServ_Calls  Day_Calls  Day_Charge  Eve_Calls  Eve_Charge  \\\n",
       "0    0.0  ...        0.014346   0.463842    0.188932   0.420805    0.075601   \n",
       "1    0.0  ...        0.014582   0.403429    0.156511   0.432593    0.090504   \n",
       "2    0.0  ...        0.005187   0.461641    0.160589   0.539445    0.093262   \n",
       "3    0.0  ...        0.006818   0.313630    0.055363   0.214769    0.047420   \n",
       "4    0.0  ...        0.014114   0.498694    0.235845   0.541036    0.066242   \n",
       "\n",
       "   Night_Calls  Night_Charge  Intl_Calls  Intl_Charge  Vmail_Message_b  \n",
       "0     0.612080      0.040981    0.014346     0.015876         0.004782  \n",
       "1     0.563829      0.036746    0.038885     0.009332         0.000000  \n",
       "2     0.643185      0.048394    0.005187     0.009544         0.000000  \n",
       "3     0.402265      0.040533    0.020454     0.006068         0.000000  \n",
       "4     0.296394      0.040037    0.023523     0.012467         0.004705  \n",
       "\n",
       "[5 rows x 64 columns]"
      ]
     },
     "execution_count": 64,
     "metadata": {},
     "output_type": "execute_result"
    }
   ],
   "source": [
    "# Forming transformed DF with transformed features (features normalized)\n",
    "\n",
    "X_train_tf_norm = pd.DataFrame(preprocessor_norm.fit_transform(X_train).toarray(), columns=features_transformed)\n",
    "X_train_tf_norm.head()"
   ]
  },
  {
   "cell_type": "markdown",
   "metadata": {},
   "source": [
    "---"
   ]
  },
  {
   "cell_type": "markdown",
   "metadata": {},
   "source": [
    "<p><a name=\"mlm\"></a></p>\n",
    "\n",
    "## ML Models"
   ]
  },
  {
   "cell_type": "code",
   "execution_count": 65,
   "metadata": {},
   "outputs": [],
   "source": [
    "# Instantiate ML Model\n",
    "\n",
    "logreg = LogisticRegression()"
   ]
  },
  {
   "cell_type": "markdown",
   "metadata": {},
   "source": [
    "---"
   ]
  },
  {
   "cell_type": "markdown",
   "metadata": {},
   "source": [
    "<p><a name=\"skpipe\"></a></p>\n",
    "\n",
    "## Pipeline: sklearn"
   ]
  },
  {
   "cell_type": "markdown",
   "metadata": {},
   "source": [
    "Make Pipeline, train the pipeline, make predictions:"
   ]
  },
  {
   "cell_type": "code",
   "execution_count": 66,
   "metadata": {},
   "outputs": [],
   "source": [
    "# Make sklearn pipelines with preprocessors and ML Models\n",
    "\n",
    "# SKLearn Pipeline: Preprocessing and default Logistic Regression\n",
    "pipe_ss = make_pipeline(preprocessor_ss, logreg)\n",
    "\n",
    "# pipe = make_pipeline(preprocessor, logreg)\n",
    "# pipe_norm = make_pipeline(preprocessor_norm, logreg)"
   ]
  },
  {
   "cell_type": "code",
   "execution_count": 67,
   "metadata": {},
   "outputs": [],
   "source": [
    "def train_and_predict(pipeline, X_train, X_test, y_train):\n",
    "\n",
    "    '''\n",
    "    Descr:\n",
    "    Trains the pipeline of steps on the trainig datasets provided,\n",
    "    and returns the predictions and prediction probablities\n",
    "    \n",
    "    I/P:\n",
    "    1. pipeline - Preprocessor and ML model used in pipeline\n",
    "    2. X_train : training data containing features\n",
    "    3. X_test : test data containing features\n",
    "    4. y_train : training data containing target\n",
    "\n",
    "    O/P:\n",
    "    1. y_test : Actual target values from test set (this is not\n",
    "                the unseen data.)\n",
    "    2. y_pred : Values predicted by the model\n",
    "    '''    \n",
    "\n",
    "    # Train pipeline\n",
    "    pipeline.fit(X_train, y_train)\n",
    "    \n",
    "    # Make predictions\n",
    "    y_pred = pipeline.predict(X_test)\n",
    "    \n",
    "    # Make probability predictions : \n",
    "    # NOTE: Returns probabilities for class 0 and 1\n",
    "    y_pred_proba_all = pipeline.predict_proba(X_test)\n",
    "    \n",
    "    return y_pred, y_pred_proba_all"
   ]
  },
  {
   "cell_type": "code",
   "execution_count": 69,
   "metadata": {},
   "outputs": [],
   "source": [
    "# Train sklearn pipeline and make predictions\n",
    "\n",
    "# Pipeline with processed data and standardization + LogReg\n",
    "y_pred, y_pred_proba_all = train_and_predict(pipe_ss, X_train, X_test, y_train)\n",
    "\n",
    "# Pipeline with processed data + LogReg\n",
    "# y_pred, y_pred_proba_all = train_and_predict(pipe, X_train, X_test, y_train)\n",
    "\n",
    "# Pipeline with processed data and normalization + LogReg\n",
    "# y_pred, y_pred_proba_all = train_and_predict(pipe_norm, X_train, X_test, y_train)"
   ]
  },
  {
   "cell_type": "markdown",
   "metadata": {},
   "source": [
    "---"
   ]
  },
  {
   "cell_type": "markdown",
   "metadata": {},
   "source": [
    "## Model Evaluation"
   ]
  },
  {
   "cell_type": "markdown",
   "metadata": {},
   "source": [
    "Functions for Model Evaluation:"
   ]
  },
  {
   "cell_type": "code",
   "execution_count": 70,
   "metadata": {},
   "outputs": [],
   "source": [
    "def model_results(model_name, model, model_desc, y_test, y_pred):\n",
    "\n",
    "    '''\n",
    "    Descr:\n",
    "    This function contains methods for evaluating classification\n",
    "    models. Metrics beyond accuracy are included since we'll capture\n",
    "    how well these models perform given that there is a class imbalance\n",
    "\n",
    "    I/P:\n",
    "    1. Model name\n",
    "    2. Model (in case of pipeline, then the pipeline steps)\n",
    "    3. Model description\n",
    "    4. y_test : Actual target values from test set (this is not the\n",
    "                unseen data.)\n",
    "    5. y_pred : Values predicted by the model\n",
    "\n",
    "    O/P:\n",
    "    No return values. Metrics for evaluating the model are stored in \n",
    "    a Pandas dataframe (global) to enable comparison of metrics across \n",
    "    different models. \n",
    "    '''     \n",
    "    \n",
    "    print('-'*60)\n",
    "\n",
    "    accuracy = np.round((accuracy_score(y_test, y_pred)),2)\n",
    "    precision = np.round((precision_score(y_test, y_pred)),2)\n",
    "    recall = np.round((recall_score(y_test, y_pred)),2)\n",
    "    f1score = np.round((f1_score(y_test, y_pred)),2)\n",
    "    cm = confusion_matrix(y_test, y_pred)\n",
    "    tp, fp, fn, tn = cm[0][0], cm[0][1], cm[1][0], cm[1][1]\n",
    "    \n",
    "    print('Accuracy  = %0.2f'%(accuracy))\n",
    "    print('Precision = %0.2f'%(precision))\n",
    "    print('Recall    = %0.2f'%(recall))\n",
    "    print('F1 score  = %0.2f'%(f1score))\n",
    "\n",
    "    print('-'*30)\n",
    "    print('Confusion Matrix:\\n', cm)\n",
    "\n",
    "    print('-'*30)\n",
    "    print('Classification Report:\\n', classification_report(y_test, y_pred))\n",
    "    \n",
    "    model_results_dict = {'Model_Name' : model_name\n",
    "                         ,'Model' : model\n",
    "                         ,'Model_Description' : model_desc \n",
    "                         ,'Accuracy' : accuracy\n",
    "                         ,'Precision' : precision\n",
    "                         ,'Recall' : recall\n",
    "                         ,'F1_Score' : f1score\n",
    "                         ,'TP' : tp\n",
    "                         ,'FP' : fp\n",
    "                         ,'FN' : fn\n",
    "                         ,'TN' : tn}\n",
    "    \n",
    "    print('-'*60)\n",
    "    \n",
    "    df_exists = 'model_results_df' in locals() or 'model_results_df' in globals()\n",
    "    if not df_exists:\n",
    "        global model_results_df\n",
    "        model_results_df = pd.DataFrame()\n",
    "        model_results_df = model_results_df.append(model_results_dict, ignore_index=True)\n",
    "    else:\n",
    "        model_results_df = model_results_df.append(model_results_dict, ignore_index=True)\n",
    "    \n",
    "    model_results_df['TP'] = model_results_df['TP'].astype('int')\n",
    "    model_results_df['FP'] = model_results_df['FP'].astype('int')\n",
    "    model_results_df['FN'] = model_results_df['FN'].astype('int')\n",
    "    model_results_df['TN'] = model_results_df['TN'].astype('int')\n",
    "\n",
    "    model_results_df = model_results_df[['Model_Name', 'Model_Description', 'Accuracy', 'Precision', 'Recall', 'F1_Score', 'TP', 'FP', 'FN', 'TN', 'Model']]\n",
    "    pass\n",
    "    "
   ]
  },
  {
   "cell_type": "code",
   "execution_count": 71,
   "metadata": {},
   "outputs": [],
   "source": [
    "def auroc(model_name, model, X_test, y_test, y_pred_proba_all):\n",
    "\n",
    "    '''\n",
    "    Descr:\n",
    "    This function plots the Area under the ROC curve and this will\n",
    "    enable us to compare different models visually as well with the\n",
    "    AUC score.\n",
    "\n",
    "    I/P:\n",
    "    1. Model name\n",
    "    2. Model\n",
    "    3. X_test : Test set feature array \n",
    "    4. y_test : Actual target values from test set (this is not the\n",
    "                unseen data.)\n",
    "\n",
    "    O/P:\n",
    "    No return values. Just a plot of the ROC curve and AUC score. \n",
    "    '''\n",
    "    \n",
    "    # Commenting below since this is covered in \"make_pipeline_and_predict\"\n",
    "#     y_pred_proba = model.predict_proba(X_test)[:, 1]\n",
    "    # Adding [:, 1] since \"make_pipeline_and_predict\" returns both probabilities\n",
    "    fpr, tpr, thresholds = roc_curve(y_test, y_pred_proba_all[:,1])\n",
    "    \n",
    "    plt.plot(fpr, tpr)\n",
    "    \n",
    "    plt.ylabel('TPR / Recall')\n",
    "    plt.xlabel('FPR')\n",
    "    auc = roc_auc_score(y_test, y_pred_proba_all[:,1])\n",
    "    \n",
    "    plt.suptitle('ROC Curve of '+ str(model_name), size=14)#, fontweight='bold')\n",
    "    plt.title('AUROC: %0.2f'%auc)\n",
    "\n",
    "    # plot diagonal that illustrates model that randomly guesses\n",
    "    plt.plot([0,1],[0,1], linestyle='--', color='orange', label='Random guess model')\n",
    "\n",
    "    plt.legend(loc='lower right')\n",
    "    plt.show()    "
   ]
  },
  {
   "cell_type": "markdown",
   "metadata": {},
   "source": [
    "---"
   ]
  },
  {
   "cell_type": "markdown",
   "metadata": {},
   "source": [
    "### Evaluating sklearn pipeline metrics"
   ]
  },
  {
   "cell_type": "markdown",
   "metadata": {},
   "source": [
    "**_Model Results Legend :_**\n",
    "- Sk      : Sklearn Pipeline\n",
    "- PP      : Data Preprocessing \n",
    "- ST      : Standardization of numerical features\n",
    "- LR      : Logistic Regression\n",
    "- HT      : Hyperparameter Tuning\n",
    "- HT_CW   : Hyperparameter Tuning on Logreg Class Weights for handling imbalance\n",
    "- RF      : Random Forest\n",
    "- Im      : Imblearn Pipeline\n",
    "- SM      : SMOTE\n"
   ]
  },
  {
   "cell_type": "code",
   "execution_count": 72,
   "metadata": {
    "scrolled": false
   },
   "outputs": [
    {
     "name": "stdout",
     "output_type": "stream",
     "text": [
      "------------------------------------------------------------\n",
      "Accuracy  = 0.86\n",
      "Precision = 0.44\n",
      "Recall    = 0.21\n",
      "F1 score  = 0.28\n",
      "------------------------------\n",
      "Confusion Matrix:\n",
      " [[557  23]\n",
      " [ 69  18]]\n",
      "------------------------------\n",
      "Classification Report:\n",
      "               precision    recall  f1-score   support\n",
      "\n",
      "           0       0.89      0.96      0.92       580\n",
      "           1       0.44      0.21      0.28        87\n",
      "\n",
      "    accuracy                           0.86       667\n",
      "   macro avg       0.66      0.58      0.60       667\n",
      "weighted avg       0.83      0.86      0.84       667\n",
      "\n",
      "------------------------------------------------------------\n"
     ]
    }
   ],
   "source": [
    "model_results('pipe_ss'\n",
    "              ,pipe_ss\n",
    "              ,'Sk: PP | ST | LR'\n",
    "              ,y_test, y_pred)"
   ]
  },
  {
   "cell_type": "code",
   "execution_count": 74,
   "metadata": {
    "scrolled": false
   },
   "outputs": [
    {
     "data": {
      "image/png": "[encoded data removed]",
      "text/plain": [
       "<Figure size 432x288 with 1 Axes>"
      ]
     },
     "metadata": {},
     "output_type": "display_data"
    }
   ],
   "source": [
    "# ROC Curve\n",
    "\n",
    "auroc('pipe_ss', pipe_ss, X_test, y_test, y_pred_proba_all)"
   ]
  },
  {
   "cell_type": "code",
   "execution_count": 73,
   "metadata": {},
   "outputs": [
    {
     "data": {
      "text/html": [
       "<div>\n",
       "<style scoped>\n",
       "    .dataframe tbody tr th:only-of-type {\n",
       "        vertical-align: middle;\n",
       "    }\n",
       "\n",
       "    .dataframe tbody tr th {\n",
       "        vertical-align: top;\n",
       "    }\n",
       "\n",
       "    .dataframe thead th {\n",
       "        text-align: right;\n",
       "    }\n",
       "</style>\n",
       "<table border=\"1\" class=\"dataframe\">\n",
       "  <thead>\n",
       "    <tr style=\"text-align: right;\">\n",
       "      <th></th>\n",
       "      <th>Model_Name</th>\n",
       "      <th>Model_Description</th>\n",
       "      <th>Accuracy</th>\n",
       "      <th>Precision</th>\n",
       "      <th>Recall</th>\n",
       "      <th>F1_Score</th>\n",
       "      <th>TP</th>\n",
       "      <th>FP</th>\n",
       "      <th>FN</th>\n",
       "      <th>TN</th>\n",
       "      <th>Model</th>\n",
       "    </tr>\n",
       "  </thead>\n",
       "  <tbody>\n",
       "    <tr>\n",
       "      <td>0</td>\n",
       "      <td>pipe_ss</td>\n",
       "      <td>Sk: PP | ST | LR</td>\n",
       "      <td>0.86</td>\n",
       "      <td>0.44</td>\n",
       "      <td>0.21</td>\n",
       "      <td>0.28</td>\n",
       "      <td>557</td>\n",
       "      <td>23</td>\n",
       "      <td>69</td>\n",
       "      <td>18</td>\n",
       "      <td>(ColumnTransformer(remainder='passthrough',\\n ...</td>\n",
       "    </tr>\n",
       "  </tbody>\n",
       "</table>\n",
       "</div>"
      ],
      "text/plain": [
       "  Model_Name Model_Description  Accuracy  Precision  Recall  F1_Score   TP  \\\n",
       "0    pipe_ss  Sk: PP | ST | LR      0.86       0.44    0.21      0.28  557   \n",
       "\n",
       "   FP  FN  TN                                              Model  \n",
       "0  23  69  18  (ColumnTransformer(remainder='passthrough',\\n ...  "
      ]
     },
     "execution_count": 73,
     "metadata": {},
     "output_type": "execute_result"
    }
   ],
   "source": [
    "model_results_df"
   ]
  },
  {
   "cell_type": "code",
   "execution_count": 75,
   "metadata": {},
   "outputs": [
    {
     "data": {
      "text/plain": [
       "array([0.27807335, 0.15888631, 0.07579041, 0.04381691, 0.09802819])"
      ]
     },
     "execution_count": 75,
     "metadata": {},
     "output_type": "execute_result"
    }
   ],
   "source": [
    "y_pred_proba_all[:,1][:5]"
   ]
  },
  {
   "attachments": {},
   "cell_type": "markdown",
   "metadata": {},
   "source": [
    "**------------------------------------------------------------------------**\n",
    "\n",
    "**Insights from \"pipe_ss\"**\n",
    "\n",
    "_Notes:_\n",
    "- Standardized preprocessor on default Logistic Regression\n",
    "- Not hyperparameter tuned.\n",
    "- No class weighting to handle class imbalance\n",
    "\n",
    "_Strengths:_\n",
    "- None noteworthy\n",
    "\n",
    "_Weakness:_\n",
    "- Low precision, recall and therefore f1 score.\n",
    "\n",
    "**------------------------------------------------------------------------**"
   ]
  },
  {
   "cell_type": "markdown",
   "metadata": {},
   "source": [
    "---"
   ]
  },
  {
   "cell_type": "markdown",
   "metadata": {},
   "source": [
    "<p><a name=\"hyp\"></a></p>\n",
    "\n",
    "## Hyperparameter Tuning"
   ]
  },
  {
   "cell_type": "code",
   "execution_count": 76,
   "metadata": {},
   "outputs": [
    {
     "data": {
      "text/plain": [
       "array([580,  87])"
      ]
     },
     "execution_count": 76,
     "metadata": {},
     "output_type": "execute_result"
    }
   ],
   "source": [
    "np.bincount(y_test)\n",
    "\n",
    "# 559/108 ~= 5 therefore, I'd expect the best class_weight returned \n",
    "# with hyperparameter tuning be {0:1, 1:5}"
   ]
  },
  {
   "cell_type": "code",
   "execution_count": 77,
   "metadata": {},
   "outputs": [
    {
     "data": {
      "text/plain": [
       "{'logisticregression__C': [0.1, 1, 10, 100],\n",
       " 'logisticregression__solver': ['liblinear'],\n",
       " 'logisticregression__max_iter': [100, 1000, 10000],\n",
       " 'logisticregression__class_weight': [{0: 1, 1: 5},\n",
       "  {0: 1, 1: 10},\n",
       "  {0: 5, 1: 1}]}"
      ]
     },
     "execution_count": 77,
     "metadata": {},
     "output_type": "execute_result"
    }
   ],
   "source": [
    "params = {}\n",
    "params['logisticregression__C'] = [0.1, 1, 10, 100]\n",
    "params['logisticregression__solver'] = ['liblinear'] #['lbfgs', 'liblinear']\n",
    "params['logisticregression__max_iter'] = [100,1000,10000]\n",
    "params['logisticregression__class_weight'] = [{0:1, 1:5}, {0:1, 1:10}, {0:5, 1:1}]\n",
    "params"
   ]
  },
  {
   "cell_type": "code",
   "execution_count": 78,
   "metadata": {
    "scrolled": false
   },
   "outputs": [],
   "source": [
    "grid = GridSearchCV(estimator=pipe_ss, param_grid=params, cv=5, scoring='f1')\n",
    "grid.fit(X_train, y_train);"
   ]
  },
  {
   "cell_type": "code",
   "execution_count": 79,
   "metadata": {},
   "outputs": [
    {
     "data": {
      "text/plain": [
       "0.4969349736816504"
      ]
     },
     "execution_count": 79,
     "metadata": {},
     "output_type": "execute_result"
    }
   ],
   "source": [
    "# Best score and parameters\n",
    "grid.best_score_"
   ]
  },
  {
   "cell_type": "code",
   "execution_count": 80,
   "metadata": {},
   "outputs": [
    {
     "data": {
      "text/plain": [
       "{'logisticregression__C': 1,\n",
       " 'logisticregression__class_weight': {0: 1, 1: 5},\n",
       " 'logisticregression__max_iter': 100,\n",
       " 'logisticregression__solver': 'liblinear'}"
      ]
     },
     "execution_count": 80,
     "metadata": {},
     "output_type": "execute_result"
    }
   ],
   "source": [
    "grid.best_params_"
   ]
  },
  {
   "cell_type": "code",
   "execution_count": 81,
   "metadata": {},
   "outputs": [],
   "source": [
    "grid_best_estimator = grid.best_estimator_\n",
    "grid_best_estimator;"
   ]
  },
  {
   "cell_type": "code",
   "execution_count": 82,
   "metadata": {},
   "outputs": [],
   "source": [
    "# Pipeline with processed data and standardization + LogReg + Best Grid after Hyper tuning\n",
    "# Calling the train and predict on the hyperparameter-tuned-pipeline pipe_ss\n",
    "\n",
    "y_pred, y_pred_proba_all = train_and_predict(grid_best_estimator, X_train, X_test, y_train)"
   ]
  },
  {
   "cell_type": "code",
   "execution_count": 83,
   "metadata": {},
   "outputs": [
    {
     "name": "stdout",
     "output_type": "stream",
     "text": [
      "------------------------------------------------------------\n",
      "Accuracy  = 0.76\n",
      "Precision = 0.31\n",
      "Recall    = 0.68\n",
      "F1 score  = 0.42\n",
      "------------------------------\n",
      "Confusion Matrix:\n",
      " [[448 132]\n",
      " [ 28  59]]\n",
      "------------------------------\n",
      "Classification Report:\n",
      "               precision    recall  f1-score   support\n",
      "\n",
      "           0       0.94      0.77      0.85       580\n",
      "           1       0.31      0.68      0.42        87\n",
      "\n",
      "    accuracy                           0.76       667\n",
      "   macro avg       0.63      0.73      0.64       667\n",
      "weighted avg       0.86      0.76      0.79       667\n",
      "\n",
      "------------------------------------------------------------\n"
     ]
    }
   ],
   "source": [
    "model_results('grid_best_pipe_ss'\n",
    "              ,grid_best_estimator\n",
    "              ,'Sk: PP | ST | LR | HT | HT_CW'\n",
    "              ,y_test\n",
    "              ,y_pred)\n"
   ]
  },
  {
   "cell_type": "code",
   "execution_count": 84,
   "metadata": {
    "scrolled": true
   },
   "outputs": [
    {
     "data": {
      "image/png": "[encoded data removed]",
      "text/plain": [
       "<Figure size 432x288 with 1 Axes>"
      ]
     },
     "metadata": {},
     "output_type": "display_data"
    }
   ],
   "source": [
    "auroc('grid_best_pipe_ss', grid_best_estimator, X_test, y_test, y_pred_proba_all)"
   ]
  },
  {
   "cell_type": "code",
   "execution_count": 85,
   "metadata": {},
   "outputs": [
    {
     "data": {
      "text/html": [
       "<div>\n",
       "<style scoped>\n",
       "    .dataframe tbody tr th:only-of-type {\n",
       "        vertical-align: middle;\n",
       "    }\n",
       "\n",
       "    .dataframe tbody tr th {\n",
       "        vertical-align: top;\n",
       "    }\n",
       "\n",
       "    .dataframe thead th {\n",
       "        text-align: right;\n",
       "    }\n",
       "</style>\n",
       "<table border=\"1\" class=\"dataframe\">\n",
       "  <thead>\n",
       "    <tr style=\"text-align: right;\">\n",
       "      <th></th>\n",
       "      <th>Model_Name</th>\n",
       "      <th>Model_Description</th>\n",
       "      <th>Accuracy</th>\n",
       "      <th>Precision</th>\n",
       "      <th>Recall</th>\n",
       "      <th>F1_Score</th>\n",
       "      <th>TP</th>\n",
       "      <th>FP</th>\n",
       "      <th>FN</th>\n",
       "      <th>TN</th>\n",
       "      <th>Model</th>\n",
       "    </tr>\n",
       "  </thead>\n",
       "  <tbody>\n",
       "    <tr>\n",
       "      <td>0</td>\n",
       "      <td>pipe_ss</td>\n",
       "      <td>Sk: PP | ST | LR</td>\n",
       "      <td>0.86</td>\n",
       "      <td>0.44</td>\n",
       "      <td>0.21</td>\n",
       "      <td>0.28</td>\n",
       "      <td>557</td>\n",
       "      <td>23</td>\n",
       "      <td>69</td>\n",
       "      <td>18</td>\n",
       "      <td>(ColumnTransformer(remainder='passthrough',\\n ...</td>\n",
       "    </tr>\n",
       "    <tr>\n",
       "      <td>1</td>\n",
       "      <td>grid_best_pipe_ss</td>\n",
       "      <td>Sk: PP | ST | LR | HT | HT_CW</td>\n",
       "      <td>0.76</td>\n",
       "      <td>0.31</td>\n",
       "      <td>0.68</td>\n",
       "      <td>0.42</td>\n",
       "      <td>448</td>\n",
       "      <td>132</td>\n",
       "      <td>28</td>\n",
       "      <td>59</td>\n",
       "      <td>(ColumnTransformer(remainder='passthrough',\\n ...</td>\n",
       "    </tr>\n",
       "  </tbody>\n",
       "</table>\n",
       "</div>"
      ],
      "text/plain": [
       "          Model_Name              Model_Description  Accuracy  Precision  \\\n",
       "0            pipe_ss               Sk: PP | ST | LR      0.86       0.44   \n",
       "1  grid_best_pipe_ss  Sk: PP | ST | LR | HT | HT_CW      0.76       0.31   \n",
       "\n",
       "   Recall  F1_Score   TP   FP  FN  TN  \\\n",
       "0    0.21      0.28  557   23  69  18   \n",
       "1    0.68      0.42  448  132  28  59   \n",
       "\n",
       "                                               Model  \n",
       "0  (ColumnTransformer(remainder='passthrough',\\n ...  \n",
       "1  (ColumnTransformer(remainder='passthrough',\\n ...  "
      ]
     },
     "execution_count": 85,
     "metadata": {},
     "output_type": "execute_result"
    }
   ],
   "source": [
    "model_results_df"
   ]
  },
  {
   "cell_type": "markdown",
   "metadata": {},
   "source": [
    "**------------------------------------------------------------------------**\n",
    "\n",
    "**Insights from \"grid_best_pipe_ss\"**\n",
    "\n",
    "_Notes:_\n",
    "- Standardized preprocessor on Logistic Regression\n",
    "- Hyperparameter tuned.\n",
    "- Includes Class weighting to handle class imbalance\n",
    "\n",
    "_Strengths:_\n",
    "- Significant increase in Recall and F1 score after adding and tuning the class_weight hyperparameter.\n",
    "\n",
    "_Weakness:_\n",
    "- Decrease in Precision and accuracy \n",
    "- False Positives significantly increased compared to LogReg model without class_weights\n",
    "\n",
    "**------------------------------------------------------------------------**"
   ]
  },
  {
   "cell_type": "markdown",
   "metadata": {},
   "source": [
    "---"
   ]
  },
  {
   "cell_type": "markdown",
   "metadata": {},
   "source": [
    "### Handling Imbalance"
   ]
  },
  {
   "cell_type": "code",
   "execution_count": 117,
   "metadata": {},
   "outputs": [],
   "source": [
    "# We want to handle the class imbalance by working on the \n",
    "# preprocessed training and test set. Once the class is \n",
    "# balanced on the preprocessed data, we will run ML models\n",
    "# on them. In this regard, we will .transform() the test data\n",
    "# set and use that to the imb_pipe.predict() method \n",
    "# Recall, .predict needs the test dataset, and we want to use\n",
    "# the preprocessed test data set.\n",
    "\n",
    "## Transforming the TEST dataset so that it can be used within\n",
    "# the imblearn pipeline to handle class imbalance\n",
    "\n",
    "X_test_tf = pd.DataFrame(preprocessor.transform(X_test).toarray(), columns=features_transformed)\n",
    "# X_test_tf.head()\n",
    "\n",
    "X_test_tf_ss = pd.DataFrame(preprocessor_ss.transform(X_test).toarray(), columns=features_transformed)\n",
    "# X_test_tf_ss.head()"
   ]
  },
  {
   "cell_type": "code",
   "execution_count": 118,
   "metadata": {},
   "outputs": [],
   "source": [
    "smote = SMOTE()\n",
    "\n",
    "logreg = LogisticRegression()"
   ]
  },
  {
   "cell_type": "code",
   "execution_count": 119,
   "metadata": {},
   "outputs": [
    {
     "data": {
      "text/plain": [
       "Pipeline(steps=[('smote', SMOTE()),\n",
       "                ('logisticregression', LogisticRegression())])"
      ]
     },
     "execution_count": 119,
     "metadata": {},
     "output_type": "execute_result"
    }
   ],
   "source": [
    "imb_pipe = imb_make_pipeline(smote, logreg)\n",
    "imb_pipe"
   ]
  },
  {
   "cell_type": "code",
   "execution_count": 120,
   "metadata": {},
   "outputs": [
    {
     "data": {
      "text/html": [
       "<div>\n",
       "<style scoped>\n",
       "    .dataframe tbody tr th:only-of-type {\n",
       "        vertical-align: middle;\n",
       "    }\n",
       "\n",
       "    .dataframe tbody tr th {\n",
       "        vertical-align: top;\n",
       "    }\n",
       "\n",
       "    .dataframe thead th {\n",
       "        text-align: right;\n",
       "    }\n",
       "</style>\n",
       "<table border=\"1\" class=\"dataframe\">\n",
       "  <thead>\n",
       "    <tr style=\"text-align: right;\">\n",
       "      <th></th>\n",
       "      <th>Intl_Plan</th>\n",
       "      <th>Vmail_Plan</th>\n",
       "      <th>x0_AK</th>\n",
       "      <th>x0_AL</th>\n",
       "      <th>x0_AR</th>\n",
       "      <th>x0_AZ</th>\n",
       "      <th>x0_CA</th>\n",
       "      <th>x0_CO</th>\n",
       "      <th>x0_CT</th>\n",
       "      <th>x0_DC</th>\n",
       "      <th>...</th>\n",
       "      <th>CustServ_Calls</th>\n",
       "      <th>Day_Calls</th>\n",
       "      <th>Day_Charge</th>\n",
       "      <th>Eve_Calls</th>\n",
       "      <th>Eve_Charge</th>\n",
       "      <th>Night_Calls</th>\n",
       "      <th>Night_Charge</th>\n",
       "      <th>Intl_Calls</th>\n",
       "      <th>Intl_Charge</th>\n",
       "      <th>Vmail_Message_b</th>\n",
       "    </tr>\n",
       "  </thead>\n",
       "  <tbody>\n",
       "    <tr>\n",
       "      <td>0</td>\n",
       "      <td>0.0</td>\n",
       "      <td>0.0</td>\n",
       "      <td>0.0</td>\n",
       "      <td>0.0</td>\n",
       "      <td>0.0</td>\n",
       "      <td>0.0</td>\n",
       "      <td>0.0</td>\n",
       "      <td>0.0</td>\n",
       "      <td>0.0</td>\n",
       "      <td>0.0</td>\n",
       "      <td>...</td>\n",
       "      <td>1.124169</td>\n",
       "      <td>-0.334617</td>\n",
       "      <td>0.269514</td>\n",
       "      <td>-0.239657</td>\n",
       "      <td>-0.271924</td>\n",
       "      <td>-0.505973</td>\n",
       "      <td>0.444688</td>\n",
       "      <td>0.225797</td>\n",
       "      <td>0.243713</td>\n",
       "      <td>-0.620732</td>\n",
       "    </tr>\n",
       "    <tr>\n",
       "      <td>1</td>\n",
       "      <td>0.0</td>\n",
       "      <td>0.0</td>\n",
       "      <td>0.0</td>\n",
       "      <td>0.0</td>\n",
       "      <td>0.0</td>\n",
       "      <td>0.0</td>\n",
       "      <td>0.0</td>\n",
       "      <td>0.0</td>\n",
       "      <td>0.0</td>\n",
       "      <td>0.0</td>\n",
       "      <td>...</td>\n",
       "      <td>0.351665</td>\n",
       "      <td>-0.130248</td>\n",
       "      <td>-0.833812</td>\n",
       "      <td>-1.595246</td>\n",
       "      <td>-0.213672</td>\n",
       "      <td>1.421158</td>\n",
       "      <td>0.405436</td>\n",
       "      <td>0.225797</td>\n",
       "      <td>0.595470</td>\n",
       "      <td>-0.620732</td>\n",
       "    </tr>\n",
       "    <tr>\n",
       "      <td>2</td>\n",
       "      <td>0.0</td>\n",
       "      <td>0.0</td>\n",
       "      <td>0.0</td>\n",
       "      <td>0.0</td>\n",
       "      <td>0.0</td>\n",
       "      <td>0.0</td>\n",
       "      <td>0.0</td>\n",
       "      <td>0.0</td>\n",
       "      <td>0.0</td>\n",
       "      <td>0.0</td>\n",
       "      <td>...</td>\n",
       "      <td>-0.420839</td>\n",
       "      <td>-0.283525</td>\n",
       "      <td>-0.891424</td>\n",
       "      <td>0.463241</td>\n",
       "      <td>-0.418719</td>\n",
       "      <td>1.471872</td>\n",
       "      <td>0.989863</td>\n",
       "      <td>-0.589682</td>\n",
       "      <td>1.898271</td>\n",
       "      <td>-0.620732</td>\n",
       "    </tr>\n",
       "    <tr>\n",
       "      <td>3</td>\n",
       "      <td>0.0</td>\n",
       "      <td>0.0</td>\n",
       "      <td>0.0</td>\n",
       "      <td>0.0</td>\n",
       "      <td>0.0</td>\n",
       "      <td>0.0</td>\n",
       "      <td>0.0</td>\n",
       "      <td>0.0</td>\n",
       "      <td>0.0</td>\n",
       "      <td>0.0</td>\n",
       "      <td>...</td>\n",
       "      <td>0.351665</td>\n",
       "      <td>-0.130248</td>\n",
       "      <td>0.029282</td>\n",
       "      <td>-0.089036</td>\n",
       "      <td>-0.712309</td>\n",
       "      <td>0.508307</td>\n",
       "      <td>-0.584602</td>\n",
       "      <td>-0.181943</td>\n",
       "      <td>0.269769</td>\n",
       "      <td>-0.620732</td>\n",
       "    </tr>\n",
       "    <tr>\n",
       "      <td>4</td>\n",
       "      <td>0.0</td>\n",
       "      <td>0.0</td>\n",
       "      <td>0.0</td>\n",
       "      <td>0.0</td>\n",
       "      <td>0.0</td>\n",
       "      <td>0.0</td>\n",
       "      <td>0.0</td>\n",
       "      <td>0.0</td>\n",
       "      <td>0.0</td>\n",
       "      <td>0.0</td>\n",
       "      <td>...</td>\n",
       "      <td>-0.420839</td>\n",
       "      <td>-0.487894</td>\n",
       "      <td>-0.327260</td>\n",
       "      <td>-0.289864</td>\n",
       "      <td>0.231372</td>\n",
       "      <td>-1.114540</td>\n",
       "      <td>1.173042</td>\n",
       "      <td>0.225797</td>\n",
       "      <td>0.725750</td>\n",
       "      <td>-0.620732</td>\n",
       "    </tr>\n",
       "  </tbody>\n",
       "</table>\n",
       "<p>5 rows × 64 columns</p>\n",
       "</div>"
      ],
      "text/plain": [
       "   Intl_Plan  Vmail_Plan  x0_AK  x0_AL  x0_AR  x0_AZ  x0_CA  x0_CO  x0_CT  \\\n",
       "0        0.0         0.0    0.0    0.0    0.0    0.0    0.0    0.0    0.0   \n",
       "1        0.0         0.0    0.0    0.0    0.0    0.0    0.0    0.0    0.0   \n",
       "2        0.0         0.0    0.0    0.0    0.0    0.0    0.0    0.0    0.0   \n",
       "3        0.0         0.0    0.0    0.0    0.0    0.0    0.0    0.0    0.0   \n",
       "4        0.0         0.0    0.0    0.0    0.0    0.0    0.0    0.0    0.0   \n",
       "\n",
       "   x0_DC  ...  CustServ_Calls  Day_Calls  Day_Charge  Eve_Calls  Eve_Charge  \\\n",
       "0    0.0  ...        1.124169  -0.334617    0.269514  -0.239657   -0.271924   \n",
       "1    0.0  ...        0.351665  -0.130248   -0.833812  -1.595246   -0.213672   \n",
       "2    0.0  ...       -0.420839  -0.283525   -0.891424   0.463241   -0.418719   \n",
       "3    0.0  ...        0.351665  -0.130248    0.029282  -0.089036   -0.712309   \n",
       "4    0.0  ...       -0.420839  -0.487894   -0.327260  -0.289864    0.231372   \n",
       "\n",
       "   Night_Calls  Night_Charge  Intl_Calls  Intl_Charge  Vmail_Message_b  \n",
       "0    -0.505973      0.444688    0.225797     0.243713        -0.620732  \n",
       "1     1.421158      0.405436    0.225797     0.595470        -0.620732  \n",
       "2     1.471872      0.989863   -0.589682     1.898271        -0.620732  \n",
       "3     0.508307     -0.584602   -0.181943     0.269769        -0.620732  \n",
       "4    -1.114540      1.173042    0.225797     0.725750        -0.620732  \n",
       "\n",
       "[5 rows x 64 columns]"
      ]
     },
     "execution_count": 120,
     "metadata": {},
     "output_type": "execute_result"
    }
   ],
   "source": [
    "# Checking the preprocessed and standardized X_test data set\n",
    "\n",
    "X_test_tf_ss.head()"
   ]
  },
  {
   "cell_type": "code",
   "execution_count": 121,
   "metadata": {},
   "outputs": [],
   "source": [
    "# Train and obtain predictions for the Imbalance pipeline\n",
    "\n",
    "y_pred, y_pred_proba_all = train_and_predict(imb_pipe, X_train_tf_ss, X_test_tf_ss, y_train)"
   ]
  },
  {
   "cell_type": "code",
   "execution_count": 122,
   "metadata": {},
   "outputs": [
    {
     "name": "stdout",
     "output_type": "stream",
     "text": [
      "------------------------------------------------------------\n",
      "Accuracy  = 0.73\n",
      "Precision = 0.29\n",
      "Recall    = 0.70\n",
      "F1 score  = 0.41\n",
      "------------------------------\n",
      "Confusion Matrix:\n",
      " [[427 153]\n",
      " [ 26  61]]\n",
      "------------------------------\n",
      "Classification Report:\n",
      "               precision    recall  f1-score   support\n",
      "\n",
      "           0       0.94      0.74      0.83       580\n",
      "           1       0.29      0.70      0.41        87\n",
      "\n",
      "    accuracy                           0.73       667\n",
      "   macro avg       0.61      0.72      0.62       667\n",
      "weighted avg       0.86      0.73      0.77       667\n",
      "\n",
      "------------------------------------------------------------\n"
     ]
    }
   ],
   "source": [
    "model_results('imb_pipe'\n",
    "              ,imb_pipe\n",
    "              ,'Imb: SM | LR' # But we used the preprocessed & standardized data as I/P to Imb Pipeline\n",
    "              ,y_test\n",
    "              ,y_pred)"
   ]
  },
  {
   "cell_type": "code",
   "execution_count": 123,
   "metadata": {},
   "outputs": [
    {
     "data": {
      "image/png": "[encoded data removed]",
      "text/plain": [
       "<Figure size 432x288 with 1 Axes>"
      ]
     },
     "metadata": {},
     "output_type": "display_data"
    }
   ],
   "source": [
    "auroc('imb_pipe', imb_pipe, X_test_tf_ss, y_test, y_pred_proba_all)"
   ]
  },
  {
   "cell_type": "code",
   "execution_count": 141,
   "metadata": {},
   "outputs": [
    {
     "data": {
      "text/html": [
       "<div>\n",
       "<style scoped>\n",
       "    .dataframe tbody tr th:only-of-type {\n",
       "        vertical-align: middle;\n",
       "    }\n",
       "\n",
       "    .dataframe tbody tr th {\n",
       "        vertical-align: top;\n",
       "    }\n",
       "\n",
       "    .dataframe thead th {\n",
       "        text-align: right;\n",
       "    }\n",
       "</style>\n",
       "<table border=\"1\" class=\"dataframe\">\n",
       "  <thead>\n",
       "    <tr style=\"text-align: right;\">\n",
       "      <th></th>\n",
       "      <th>Model_Name</th>\n",
       "      <th>Model_Description</th>\n",
       "      <th>Accuracy</th>\n",
       "      <th>Precision</th>\n",
       "      <th>Recall</th>\n",
       "      <th>F1_Score</th>\n",
       "      <th>TP</th>\n",
       "      <th>FP</th>\n",
       "      <th>FN</th>\n",
       "      <th>TN</th>\n",
       "      <th>Model</th>\n",
       "    </tr>\n",
       "  </thead>\n",
       "  <tbody>\n",
       "    <tr>\n",
       "      <td>0</td>\n",
       "      <td>pipe_ss</td>\n",
       "      <td>Sk: PP | ST | LR</td>\n",
       "      <td>0.86</td>\n",
       "      <td>0.44</td>\n",
       "      <td>0.21</td>\n",
       "      <td>0.28</td>\n",
       "      <td>557</td>\n",
       "      <td>23</td>\n",
       "      <td>69</td>\n",
       "      <td>18</td>\n",
       "      <td>(ColumnTransformer(remainder='passthrough',\\n ...</td>\n",
       "    </tr>\n",
       "    <tr>\n",
       "      <td>1</td>\n",
       "      <td>grid_best_pipe_ss</td>\n",
       "      <td>Sk: PP | ST | LR | HT | HT_CW</td>\n",
       "      <td>0.76</td>\n",
       "      <td>0.31</td>\n",
       "      <td>0.68</td>\n",
       "      <td>0.42</td>\n",
       "      <td>448</td>\n",
       "      <td>132</td>\n",
       "      <td>28</td>\n",
       "      <td>59</td>\n",
       "      <td>(ColumnTransformer(remainder='passthrough',\\n ...</td>\n",
       "    </tr>\n",
       "    <tr>\n",
       "      <td>2</td>\n",
       "      <td>imb_pipe</td>\n",
       "      <td>Imb: Smote | LR</td>\n",
       "      <td>0.75</td>\n",
       "      <td>0.31</td>\n",
       "      <td>0.70</td>\n",
       "      <td>0.43</td>\n",
       "      <td>442</td>\n",
       "      <td>138</td>\n",
       "      <td>26</td>\n",
       "      <td>61</td>\n",
       "      <td>(SMOTE(), LogisticRegression())</td>\n",
       "    </tr>\n",
       "  </tbody>\n",
       "</table>\n",
       "</div>"
      ],
      "text/plain": [
       "          Model_Name              Model_Description  Accuracy  Precision  \\\n",
       "0            pipe_ss               Sk: PP | ST | LR      0.86       0.44   \n",
       "1  grid_best_pipe_ss  Sk: PP | ST | LR | HT | HT_CW      0.76       0.31   \n",
       "2           imb_pipe                Imb: Smote | LR      0.75       0.31   \n",
       "\n",
       "   Recall  F1_Score   TP   FP  FN  TN  \\\n",
       "0    0.21      0.28  557   23  69  18   \n",
       "1    0.68      0.42  448  132  28  59   \n",
       "2    0.70      0.43  442  138  26  61   \n",
       "\n",
       "                                               Model  \n",
       "0  (ColumnTransformer(remainder='passthrough',\\n ...  \n",
       "1  (ColumnTransformer(remainder='passthrough',\\n ...  \n",
       "2                    (SMOTE(), LogisticRegression())  "
      ]
     },
     "execution_count": 141,
     "metadata": {},
     "output_type": "execute_result"
    }
   ],
   "source": [
    "model_results_df"
   ]
  },
  {
   "cell_type": "code",
   "execution_count": null,
   "metadata": {},
   "outputs": [],
   "source": [
    "# @@@@@@@@\n",
    "\n",
    "\n",
    "# Hyperparameter tuning on the Logreg for Imb pipeline above to be done"
   ]
  },
  {
   "cell_type": "code",
   "execution_count": null,
   "metadata": {},
   "outputs": [],
   "source": []
  },
  {
   "cell_type": "code",
   "execution_count": null,
   "metadata": {},
   "outputs": [],
   "source": []
  },
  {
   "cell_type": "code",
   "execution_count": null,
   "metadata": {},
   "outputs": [],
   "source": []
  },
  {
   "cell_type": "markdown",
   "metadata": {},
   "source": [
    "----"
   ]
  },
  {
   "cell_type": "markdown",
   "metadata": {},
   "source": [
    "### Feature Selection-2"
   ]
  },
  {
   "cell_type": "code",
   "execution_count": null,
   "metadata": {},
   "outputs": [],
   "source": [
    "bestk = SelectKBest(score_func=chi2, k='all')\n",
    "bestk"
   ]
  },
  {
   "cell_type": "code",
   "execution_count": null,
   "metadata": {},
   "outputs": [],
   "source": [
    "bestk.fit(X_train_tf, y_train)"
   ]
  },
  {
   "cell_type": "code",
   "execution_count": null,
   "metadata": {},
   "outputs": [],
   "source": [
    "idx_with_pval_less_005 = []\n",
    "for idx, pval in enumerate(bestk.pvalues_):\n",
    "    if pval < 0.05:\n",
    "        idx_with_pval_less_005.append(idx)\n",
    "\n",
    "len(idx_with_pval_less_005)"
   ]
  },
  {
   "cell_type": "code",
   "execution_count": null,
   "metadata": {},
   "outputs": [],
   "source": [
    "# Filter X_train_tf dataframe to contain only statistically significant features\n",
    "# Note: This is a univariate selection so its only comparing individual feature\n",
    "# with the target.\n",
    "\n",
    "X_train_tf_chi2_selected = X_train_tf.iloc[:, idx_with_pval_less_005]\n",
    "X_train_tf_chi2_selected.head()"
   ]
  },
  {
   "cell_type": "code",
   "execution_count": null,
   "metadata": {},
   "outputs": [],
   "source": [
    "# All the preselected features for feature selection seem important based on\n",
    "# their low p-values (<0.05)\n",
    "pd.DataFrame(zip(X_train_tf, bestk.pvalues_), columns=['Features','pvalues'])"
   ]
  },
  {
   "cell_type": "code",
   "execution_count": null,
   "metadata": {},
   "outputs": [],
   "source": [
    "# grid_best_estimator.fit(X_train_tf_chi2_selected, y_train)"
   ]
  },
  {
   "cell_type": "markdown",
   "metadata": {},
   "source": [
    "---"
   ]
  },
  {
   "cell_type": "code",
   "execution_count": null,
   "metadata": {},
   "outputs": [],
   "source": [
    "# See variable selection from Datacamp logistic regression\n",
    "\n",
    "\n",
    "\n",
    "\n",
    "\n",
    "\n"
   ]
  },
  {
   "cell_type": "markdown",
   "metadata": {},
   "source": [
    "---"
   ]
  },
  {
   "cell_type": "markdown",
   "metadata": {},
   "source": [
    "### RFE within pipeline"
   ]
  },
  {
   "cell_type": "code",
   "execution_count": null,
   "metadata": {},
   "outputs": [],
   "source": [
    "rfe = RFE(logreg, step=1)\n",
    "rfe"
   ]
  },
  {
   "cell_type": "code",
   "execution_count": null,
   "metadata": {},
   "outputs": [],
   "source": [
    "pipe_with_fs = make_pipeline(preprocessor, rfe, logreg)"
   ]
  },
  {
   "cell_type": "code",
   "execution_count": null,
   "metadata": {},
   "outputs": [],
   "source": [
    "pipe_with_fs.fit(X_train, y_train);"
   ]
  },
  {
   "cell_type": "code",
   "execution_count": null,
   "metadata": {},
   "outputs": [],
   "source": [
    "y_pred_with_fs = pipe_with_fs.predict(X_test)"
   ]
  },
  {
   "cell_type": "code",
   "execution_count": null,
   "metadata": {},
   "outputs": [],
   "source": [
    "y_pred_proba_with_fs = pipe_with_fs.predict_proba(X_test)\n",
    "y_pred_proba_with_fs"
   ]
  },
  {
   "cell_type": "code",
   "execution_count": null,
   "metadata": {},
   "outputs": [],
   "source": [
    "# Confusion matrix as this is a imbalanced dataset\n",
    "\n",
    "confusion_matrix(y_test, y_pred_with_fs)"
   ]
  },
  {
   "cell_type": "code",
   "execution_count": null,
   "metadata": {},
   "outputs": [],
   "source": [
    "print('Precision = {0:.2f}%'.format(precision_score(y_test, y_pred_with_fs)*100))\n",
    "print('Recall    = {0:.2f}%'.format(recall_score(y_test, y_pred_with_fs)*100))\n",
    "print('F1 Score  = {0:.2f}%'.format(f1_score(y_test, y_pred_with_fs)*100))"
   ]
  },
  {
   "cell_type": "code",
   "execution_count": null,
   "metadata": {
    "scrolled": false
   },
   "outputs": [],
   "source": [
    "print(classification_report(y_test, y_pred_with_fs))"
   ]
  },
  {
   "cell_type": "code",
   "execution_count": null,
   "metadata": {},
   "outputs": [],
   "source": [
    "pipe_with_fs.score(X_test, y_test)"
   ]
  },
  {
   "cell_type": "markdown",
   "metadata": {},
   "source": [
    "**Accuracy increased by ~1% with RFE**"
   ]
  },
  {
   "cell_type": "code",
   "execution_count": null,
   "metadata": {},
   "outputs": [],
   "source": [
    "fpr_with_fs, tpr_with_fs, thresholds_with_fs = roc_curve(y_test, y_pred_proba_with_fs[:,1])\n",
    "\n",
    "roc_df_with_fs = pd.DataFrame({'FPR': fpr_with_fs, 'TPR':tpr_with_fs, 'Thresholds':thresholds_with_fs})\n",
    "roc_df_with_fs.head()"
   ]
  },
  {
   "cell_type": "code",
   "execution_count": null,
   "metadata": {},
   "outputs": [],
   "source": [
    "# Plotting the ROC curve\n",
    "\n",
    "plt.plot(fpr_with_fs, tpr_with_fs, label='ROC Curve after RFE')\n",
    "\n",
    "plt.ylabel('True Positive Rate (TPR) / Recall / Sensitivity')\n",
    "plt.xlabel('False Positive Rate (FPR) or (1-Specificity)')\n",
    "plt.title('ROC Curve of Logistic model', size=14)\n",
    "\n",
    "# plot diagonal that illustrates model that randomly guesses\n",
    "plt.plot([0,1],[0,1], linestyle='--', color='orange', label='Random guess model')\n",
    "\n",
    "plt.legend(loc='lower right')\n",
    "plt.show()"
   ]
  },
  {
   "cell_type": "code",
   "execution_count": null,
   "metadata": {},
   "outputs": [],
   "source": [
    "roc_auc_score(y_test, y_pred_proba_with_fs[:,1])"
   ]
  },
  {
   "cell_type": "markdown",
   "metadata": {},
   "source": [
    "**AUC dropped ~2% by using dataset post RFE**"
   ]
  },
  {
   "cell_type": "markdown",
   "metadata": {},
   "source": [
    "---"
   ]
  },
  {
   "cell_type": "markdown",
   "metadata": {},
   "source": [
    "### DF of RFE important features (RFE rank=1)\n",
    "\n",
    "- The transform() method of RFE selects features that have a ranking=1 that is determined within the RFE fit() method\n",
    "- Within the pipeline, only those pre-selected features are sent to the ML model.\n",
    "- Below, we form a dataframe containing those RFE selected features"
   ]
  },
  {
   "cell_type": "code",
   "execution_count": null,
   "metadata": {},
   "outputs": [],
   "source": [
    "# Checking if RFE within the pipeline selected 32 features or not\n",
    "# Based on a individual run of RFE on df_train_tf"
   ]
  },
  {
   "cell_type": "code",
   "execution_count": null,
   "metadata": {},
   "outputs": [],
   "source": [
    "# Obtain the ranking of each feature passed to RFE\n",
    "\n",
    "pipe_with_fs.steps[1][1].ranking_"
   ]
  },
  {
   "cell_type": "code",
   "execution_count": null,
   "metadata": {},
   "outputs": [],
   "source": [
    "# Get column numbers of features that have a rank=1\n",
    "\n",
    "idx_with_rank1 = []\n",
    "for idx, rank in enumerate(pipe_with_fs.steps[1][1].ranking_):\n",
    "    if rank == 1:\n",
    "        idx_with_rank1.append(idx)\n",
    "\n",
    "len(idx_with_rank1)"
   ]
  },
  {
   "cell_type": "code",
   "execution_count": null,
   "metadata": {},
   "outputs": [],
   "source": [
    "# Filter X_train_tf dataframe to contain only RFE selected features\n",
    "\n",
    "X_train_tf_rfe_selected = X_train_tf.iloc[:, idx_with_rank1]\n",
    "X_train_tf_rfe_selected.head()"
   ]
  },
  {
   "cell_type": "markdown",
   "metadata": {},
   "source": [
    "---"
   ]
  },
  {
   "cell_type": "markdown",
   "metadata": {},
   "source": [
    "# Rough"
   ]
  },
  {
   "cell_type": "code",
   "execution_count": null,
   "metadata": {},
   "outputs": [],
   "source": [
    "logreg.get_params()"
   ]
  },
  {
   "cell_type": "code",
   "execution_count": null,
   "metadata": {},
   "outputs": [],
   "source": [
    "np.bincount(y_test)"
   ]
  },
  {
   "cell_type": "code",
   "execution_count": null,
   "metadata": {},
   "outputs": [],
   "source": [
    "np.unique(y_test, return_counts=True)"
   ]
  },
  {
   "cell_type": "code",
   "execution_count": null,
   "metadata": {},
   "outputs": [],
   "source": [
    "# n_samples / (n_classes * np.bincount(y))\n",
    "\n",
    "len(y_test)\n",
    "\n",
    "667 / (2 * 564)"
   ]
  },
  {
   "cell_type": "markdown",
   "metadata": {},
   "source": [
    "---"
   ]
  },
  {
   "cell_type": "markdown",
   "metadata": {},
   "source": [
    "#### DF for analysis: with no state and adding back Churn column "
   ]
  },
  {
   "cell_type": "code",
   "execution_count": null,
   "metadata": {},
   "outputs": [],
   "source": [
    "X_train_tf.columns"
   ]
  },
  {
   "cell_type": "code",
   "execution_count": null,
   "metadata": {
    "scrolled": true
   },
   "outputs": [],
   "source": [
    "tnostatedf = X_train_tf.loc[:, (~X_train_tf.columns.str.startswith('x0'))]\n",
    "tynostatedf = pd.concat([tnostatedf, pd.DataFrame(y_train, columns=['Churn'])], axis=1)"
   ]
  },
  {
   "cell_type": "code",
   "execution_count": null,
   "metadata": {},
   "outputs": [],
   "source": [
    "tynostatedf.shape"
   ]
  },
  {
   "cell_type": "code",
   "execution_count": null,
   "metadata": {},
   "outputs": [],
   "source": [
    "tynostatedf.head()"
   ]
  },
  {
   "cell_type": "code",
   "execution_count": null,
   "metadata": {},
   "outputs": [],
   "source": [
    "tynostatedf.to_csv('./Archive/dfnostate.csv')"
   ]
  },
  {
   "cell_type": "markdown",
   "metadata": {},
   "source": [
    "---"
   ]
  }
 ],
 "metadata": {
  "kernelspec": {
   "display_name": "Python 3",
   "language": "python",
   "name": "python3"
  },
  "language_info": {
   "codemirror_mode": {
    "name": "ipython",
    "version": 3
   },
   "file_extension": ".py",
   "mimetype": "text/x-python",
   "name": "python",
   "nbconvert_exporter": "python",
   "pygments_lexer": "ipython3",
   "version": "3.7.4"
  }
 },
 "nbformat": 4,
 "nbformat_minor": 2
}
