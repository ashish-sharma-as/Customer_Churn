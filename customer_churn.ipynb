{
 "cells": [
  {
   "cell_type": "markdown",
   "metadata": {},
   "source": [
    "# Customer Churn"
   ]
  },
  {
   "cell_type": "markdown",
   "metadata": {},
   "source": [
    "---"
   ]
  },
  {
   "cell_type": "markdown",
   "metadata": {},
   "source": [
    "## Contents\n",
    "\n",
    "- <a href=\"#import\">Import Libraries</a><br>\n",
    "- <a href=\"#data\">Import Data</a><br>\n",
    "- <a href=\"#3\">Creating 3-way Holdout data sets</a><br>\n",
    "- <a href=\"#eda\">Exploratory Data Analysis</a><br>\n",
    "- <a href=\"#prep\">Data Preprocessing</a><br>\n",
    "- <a href=\"#sel\">Feature Selection</a><br>\n",
    "- <a href=\"#engg\">Feature Engineering</a><br>\n",
    "- <a href=\"#hyp\">Hyperparameter Tuning</a><br>"
   ]
  },
  {
   "cell_type": "markdown",
   "metadata": {},
   "source": [
    "---"
   ]
  },
  {
   "cell_type": "markdown",
   "metadata": {},
   "source": [
    "<p><a name=\"import\"></a></p>\n",
    " \n",
    "### Import Modules"
   ]
  },
  {
   "cell_type": "code",
   "execution_count": 1,
   "metadata": {},
   "outputs": [],
   "source": [
    "# Standard Modules\n",
    "import numpy as np\n",
    "import pandas as pd\n",
    "import matplotlib.pyplot as plt\n",
    "%matplotlib inline\n",
    "import seaborn as sns\n",
    "\n",
    "# Model Selection\n",
    "from sklearn.model_selection import train_test_split\n",
    "from sklearn.model_selection import GridSearchCV\n",
    "\n",
    "# Preprocessing\n",
    "from sklearn.preprocessing import StandardScaler\n",
    "from sklearn.preprocessing import Normalizer\n",
    "from sklearn.preprocessing import OrdinalEncoder\n",
    "from sklearn.preprocessing import LabelEncoder\n",
    "from sklearn.preprocessing import OneHotEncoder\n",
    "from sklearn.impute import SimpleImputer\n",
    "\n",
    "# Compose\n",
    "from sklearn.compose import make_column_transformer\n",
    "\n",
    "# Classes for inheritance\n",
    "from sklearn.base import BaseEstimator, TransformerMixin\n",
    "\n",
    "# Pipeline\n",
    "from sklearn.pipeline import make_pipeline\n",
    "\n",
    "# ML Models\n",
    "from sklearn.linear_model import LogisticRegression\n",
    "\n",
    "# Metrics\n",
    "from sklearn.metrics import confusion_matrix\n",
    "from sklearn.metrics import precision_score\n",
    "from sklearn.metrics import recall_score\n",
    "from sklearn.metrics import f1_score\n",
    "from sklearn.metrics import classification_report\n",
    "from sklearn.metrics import roc_curve\n",
    "from sklearn.metrics import roc_auc_score\n",
    "\n",
    "# Feature Selection\n",
    "from sklearn.feature_selection import SelectKBest\n",
    "from sklearn.feature_selection import chi2\n",
    "from sklearn.feature_selection import RFE\n",
    "\n",
    "# Statistics\n",
    "from scipy.stats import chi2_contingency"
   ]
  },
  {
   "cell_type": "code",
   "execution_count": 2,
   "metadata": {},
   "outputs": [
    {
     "name": "stdout",
     "output_type": "stream",
     "text": [
      "\n",
      "System:\n",
      "    python: 3.7.4 (default, Aug 13 2019, 15:17:50)  [Clang 4.0.1 (tags/RELEASE_401/final)]\n",
      "executable: /opt/anaconda3/bin/python\n",
      "   machine: Darwin-19.6.0-x86_64-i386-64bit\n",
      "\n",
      "Python dependencies:\n",
      "          pip: 19.2.3\n",
      "   setuptools: 41.4.0\n",
      "      sklearn: 0.23.2\n",
      "        numpy: 1.17.2\n",
      "        scipy: 1.3.1\n",
      "       Cython: 0.29.13\n",
      "       pandas: 0.25.1\n",
      "   matplotlib: 3.2.2\n",
      "       joblib: 0.13.2\n",
      "threadpoolctl: 2.1.0\n",
      "\n",
      "Built with OpenMP: True\n"
     ]
    }
   ],
   "source": [
    "import sklearn\n",
    "sklearn.show_versions()"
   ]
  },
  {
   "cell_type": "markdown",
   "metadata": {},
   "source": [
    "---"
   ]
  },
  {
   "cell_type": "markdown",
   "metadata": {},
   "source": [
    "<p><a name=\"data\"></a></p>\n",
    "\n",
    "### Import Data"
   ]
  },
  {
   "cell_type": "code",
   "execution_count": 3,
   "metadata": {},
   "outputs": [],
   "source": [
    "# Read csv\n",
    "\n",
    "churn_data = pd.read_csv('./data/churn_data.csv')"
   ]
  },
  {
   "cell_type": "code",
   "execution_count": 4,
   "metadata": {},
   "outputs": [
    {
     "data": {
      "text/plain": [
       "(3333, 21)"
      ]
     },
     "execution_count": 4,
     "metadata": {},
     "output_type": "execute_result"
    }
   ],
   "source": [
    "churn_data.shape"
   ]
  },
  {
   "cell_type": "markdown",
   "metadata": {},
   "source": [
    "---"
   ]
  },
  {
   "cell_type": "markdown",
   "metadata": {},
   "source": [
    "<p><a name=\"3\"></a></p>\n",
    "\n",
    "### Creating a 3-way holdout dataset\n",
    "- Training & Validation data \n",
    "- Test (Unseen) data"
   ]
  },
  {
   "cell_type": "code",
   "execution_count": 5,
   "metadata": {},
   "outputs": [
    {
     "name": "stdout",
     "output_type": "stream",
     "text": [
      "Shape of X and y:\n",
      "\n",
      "(3333, 20) (3333,)\n"
     ]
    }
   ],
   "source": [
    "X_tmp = churn_data.drop(['Churn'], axis=1)\n",
    "y_tmp = churn_data['Churn']\n",
    "\n",
    "print('Shape of X and y:\\n')\n",
    "print(X_tmp.shape, y_tmp.shape)"
   ]
  },
  {
   "cell_type": "code",
   "execution_count": 6,
   "metadata": {},
   "outputs": [],
   "source": [
    "# Split data into training - validation and test (unseen) data\n",
    "\n",
    "X_train_val, X_unseen, y_train_val, y_unseen = train_test_split(X_tmp, y_tmp, test_size=0.2)"
   ]
  },
  {
   "cell_type": "code",
   "execution_count": 7,
   "metadata": {},
   "outputs": [
    {
     "name": "stdout",
     "output_type": "stream",
     "text": [
      "Shape of training & validation data:\n",
      "(2666, 20) (2666,)\n",
      "\n",
      " ----------------------------------------\n",
      "\n",
      "Shape of test(unseen) data:\n",
      "(667, 20) (667,)\n"
     ]
    }
   ],
   "source": [
    "print('Shape of training & validation data:')\n",
    "print(X_train_val.shape, y_train_val.shape)\n",
    "print('\\n','-'*40)\n",
    "print('\\nShape of test(unseen) data:')\n",
    "print(X_unseen.shape, y_unseen.shape)"
   ]
  },
  {
   "cell_type": "code",
   "execution_count": 8,
   "metadata": {},
   "outputs": [],
   "source": [
    "# Making a working copy of the training and validation data\n",
    "\n",
    "df = X_train_val.copy()"
   ]
  },
  {
   "cell_type": "code",
   "execution_count": 9,
   "metadata": {},
   "outputs": [],
   "source": [
    "# Adding churned feature back into dataset to understand properties\n",
    "# of churned v/s non-churned customers\n",
    "\n",
    "df['Churn'] = y_train_val"
   ]
  },
  {
   "cell_type": "markdown",
   "metadata": {},
   "source": [
    "**df = X_train_val + y_train_val**"
   ]
  },
  {
   "cell_type": "code",
   "execution_count": 10,
   "metadata": {},
   "outputs": [
    {
     "data": {
      "text/html": [
       "<div>\n",
       "<style scoped>\n",
       "    .dataframe tbody tr th:only-of-type {\n",
       "        vertical-align: middle;\n",
       "    }\n",
       "\n",
       "    .dataframe tbody tr th {\n",
       "        vertical-align: top;\n",
       "    }\n",
       "\n",
       "    .dataframe thead th {\n",
       "        text-align: right;\n",
       "    }\n",
       "</style>\n",
       "<table border=\"1\" class=\"dataframe\">\n",
       "  <thead>\n",
       "    <tr style=\"text-align: right;\">\n",
       "      <th></th>\n",
       "      <th>Account_Length</th>\n",
       "      <th>Vmail_Message</th>\n",
       "      <th>Day_Mins</th>\n",
       "      <th>Eve_Mins</th>\n",
       "      <th>Night_Mins</th>\n",
       "      <th>Intl_Mins</th>\n",
       "      <th>CustServ_Calls</th>\n",
       "      <th>Intl_Plan</th>\n",
       "      <th>Vmail_Plan</th>\n",
       "      <th>Day_Calls</th>\n",
       "      <th>...</th>\n",
       "      <th>Eve_Calls</th>\n",
       "      <th>Eve_Charge</th>\n",
       "      <th>Night_Calls</th>\n",
       "      <th>Night_Charge</th>\n",
       "      <th>Intl_Calls</th>\n",
       "      <th>Intl_Charge</th>\n",
       "      <th>State</th>\n",
       "      <th>Area_Code</th>\n",
       "      <th>Phone</th>\n",
       "      <th>Churn</th>\n",
       "    </tr>\n",
       "  </thead>\n",
       "  <tbody>\n",
       "    <tr>\n",
       "      <td>2178</td>\n",
       "      <td>80</td>\n",
       "      <td>0</td>\n",
       "      <td>101.1</td>\n",
       "      <td>263.2</td>\n",
       "      <td>137.7</td>\n",
       "      <td>7.3</td>\n",
       "      <td>0</td>\n",
       "      <td>no</td>\n",
       "      <td>no</td>\n",
       "      <td>121</td>\n",
       "      <td>...</td>\n",
       "      <td>110</td>\n",
       "      <td>22.37</td>\n",
       "      <td>74</td>\n",
       "      <td>6.20</td>\n",
       "      <td>5</td>\n",
       "      <td>1.97</td>\n",
       "      <td>WY</td>\n",
       "      <td>510</td>\n",
       "      <td>400-5389</td>\n",
       "      <td>no</td>\n",
       "    </tr>\n",
       "    <tr>\n",
       "      <td>778</td>\n",
       "      <td>115</td>\n",
       "      <td>26</td>\n",
       "      <td>170.5</td>\n",
       "      <td>217.2</td>\n",
       "      <td>225.7</td>\n",
       "      <td>13.6</td>\n",
       "      <td>6</td>\n",
       "      <td>no</td>\n",
       "      <td>yes</td>\n",
       "      <td>107</td>\n",
       "      <td>...</td>\n",
       "      <td>77</td>\n",
       "      <td>18.46</td>\n",
       "      <td>71</td>\n",
       "      <td>10.16</td>\n",
       "      <td>5</td>\n",
       "      <td>3.67</td>\n",
       "      <td>LA</td>\n",
       "      <td>415</td>\n",
       "      <td>386-6306</td>\n",
       "      <td>no</td>\n",
       "    </tr>\n",
       "    <tr>\n",
       "      <td>1542</td>\n",
       "      <td>81</td>\n",
       "      <td>0</td>\n",
       "      <td>227.4</td>\n",
       "      <td>211.5</td>\n",
       "      <td>258.2</td>\n",
       "      <td>11.9</td>\n",
       "      <td>0</td>\n",
       "      <td>yes</td>\n",
       "      <td>no</td>\n",
       "      <td>105</td>\n",
       "      <td>...</td>\n",
       "      <td>120</td>\n",
       "      <td>17.98</td>\n",
       "      <td>113</td>\n",
       "      <td>11.62</td>\n",
       "      <td>3</td>\n",
       "      <td>3.21</td>\n",
       "      <td>DC</td>\n",
       "      <td>510</td>\n",
       "      <td>385-7861</td>\n",
       "      <td>no</td>\n",
       "    </tr>\n",
       "    <tr>\n",
       "      <td>604</td>\n",
       "      <td>30</td>\n",
       "      <td>0</td>\n",
       "      <td>169.9</td>\n",
       "      <td>225.2</td>\n",
       "      <td>169.7</td>\n",
       "      <td>11.4</td>\n",
       "      <td>1</td>\n",
       "      <td>no</td>\n",
       "      <td>no</td>\n",
       "      <td>144</td>\n",
       "      <td>...</td>\n",
       "      <td>118</td>\n",
       "      <td>19.14</td>\n",
       "      <td>93</td>\n",
       "      <td>7.64</td>\n",
       "      <td>7</td>\n",
       "      <td>3.08</td>\n",
       "      <td>NM</td>\n",
       "      <td>415</td>\n",
       "      <td>405-8370</td>\n",
       "      <td>no</td>\n",
       "    </tr>\n",
       "    <tr>\n",
       "      <td>1647</td>\n",
       "      <td>110</td>\n",
       "      <td>0</td>\n",
       "      <td>222.7</td>\n",
       "      <td>105.8</td>\n",
       "      <td>214.8</td>\n",
       "      <td>13.5</td>\n",
       "      <td>1</td>\n",
       "      <td>no</td>\n",
       "      <td>no</td>\n",
       "      <td>94</td>\n",
       "      <td>...</td>\n",
       "      <td>98</td>\n",
       "      <td>8.99</td>\n",
       "      <td>78</td>\n",
       "      <td>9.67</td>\n",
       "      <td>4</td>\n",
       "      <td>3.65</td>\n",
       "      <td>MO</td>\n",
       "      <td>408</td>\n",
       "      <td>356-4558</td>\n",
       "      <td>no</td>\n",
       "    </tr>\n",
       "  </tbody>\n",
       "</table>\n",
       "<p>5 rows × 21 columns</p>\n",
       "</div>"
      ],
      "text/plain": [
       "      Account_Length  Vmail_Message  Day_Mins  Eve_Mins  Night_Mins  \\\n",
       "2178              80              0     101.1     263.2       137.7   \n",
       "778              115             26     170.5     217.2       225.7   \n",
       "1542              81              0     227.4     211.5       258.2   \n",
       "604               30              0     169.9     225.2       169.7   \n",
       "1647             110              0     222.7     105.8       214.8   \n",
       "\n",
       "      Intl_Mins  CustServ_Calls Intl_Plan Vmail_Plan  Day_Calls  ...  \\\n",
       "2178        7.3               0        no         no        121  ...   \n",
       "778        13.6               6        no        yes        107  ...   \n",
       "1542       11.9               0       yes         no        105  ...   \n",
       "604        11.4               1        no         no        144  ...   \n",
       "1647       13.5               1        no         no         94  ...   \n",
       "\n",
       "      Eve_Calls  Eve_Charge  Night_Calls  Night_Charge  Intl_Calls  \\\n",
       "2178        110       22.37           74          6.20           5   \n",
       "778          77       18.46           71         10.16           5   \n",
       "1542        120       17.98          113         11.62           3   \n",
       "604         118       19.14           93          7.64           7   \n",
       "1647         98        8.99           78          9.67           4   \n",
       "\n",
       "      Intl_Charge  State Area_Code     Phone Churn  \n",
       "2178         1.97     WY       510  400-5389    no  \n",
       "778          3.67     LA       415  386-6306    no  \n",
       "1542         3.21     DC       510  385-7861    no  \n",
       "604          3.08     NM       415  405-8370    no  \n",
       "1647         3.65     MO       408  356-4558    no  \n",
       "\n",
       "[5 rows x 21 columns]"
      ]
     },
     "execution_count": 10,
     "metadata": {},
     "output_type": "execute_result"
    }
   ],
   "source": [
    "df.head()"
   ]
  },
  {
   "cell_type": "markdown",
   "metadata": {},
   "source": [
    "---"
   ]
  },
  {
   "cell_type": "markdown",
   "metadata": {},
   "source": [
    "<p><a name=\"eda\"></a></p>\n",
    "\n",
    "### Exploratory Analysis"
   ]
  },
  {
   "cell_type": "code",
   "execution_count": 11,
   "metadata": {},
   "outputs": [
    {
     "name": "stdout",
     "output_type": "stream",
     "text": [
      "<class 'pandas.core.frame.DataFrame'>\n",
      "Int64Index: 2666 entries, 2178 to 1362\n",
      "Data columns (total 21 columns):\n",
      "Account_Length    2666 non-null int64\n",
      "Vmail_Message     2666 non-null int64\n",
      "Day_Mins          2666 non-null float64\n",
      "Eve_Mins          2666 non-null float64\n",
      "Night_Mins        2666 non-null float64\n",
      "Intl_Mins         2666 non-null float64\n",
      "CustServ_Calls    2666 non-null int64\n",
      "Intl_Plan         2666 non-null object\n",
      "Vmail_Plan        2666 non-null object\n",
      "Day_Calls         2666 non-null int64\n",
      "Day_Charge        2666 non-null float64\n",
      "Eve_Calls         2666 non-null int64\n",
      "Eve_Charge        2666 non-null float64\n",
      "Night_Calls       2666 non-null int64\n",
      "Night_Charge      2666 non-null float64\n",
      "Intl_Calls        2666 non-null int64\n",
      "Intl_Charge       2666 non-null float64\n",
      "State             2666 non-null object\n",
      "Area_Code         2666 non-null int64\n",
      "Phone             2666 non-null object\n",
      "Churn             2666 non-null object\n",
      "dtypes: float64(8), int64(8), object(5)\n",
      "memory usage: 458.2+ KB\n"
     ]
    }
   ],
   "source": [
    "df.info()"
   ]
  },
  {
   "cell_type": "code",
   "execution_count": 12,
   "metadata": {},
   "outputs": [],
   "source": [
    "sns.set()"
   ]
  },
  {
   "cell_type": "code",
   "execution_count": 13,
   "metadata": {},
   "outputs": [
    {
     "data": {
      "image/png": "[encoded data removed]",
      "text/plain": [
       "<Figure size 432x288 with 1 Axes>"
      ]
     },
     "metadata": {},
     "output_type": "display_data"
    }
   ],
   "source": [
    "# Customer Churn as a % \n",
    "\n",
    "df['Churn'].value_counts().plot(kind='pie'\n",
    "                                ,colors=['lightgrey','red']\n",
    "                                ,wedgeprops={'edgecolor': 'black'}\n",
    "                                ,explode=[0,0.1]\n",
    "                                ,autopct='%1.1f%%'\n",
    "                                ,startangle=90)\n",
    "plt.title('Customer Churn % (Training-Validation Set)', size=15, fontweight='bold')\n",
    "plt.show()"
   ]
  },
  {
   "cell_type": "code",
   "execution_count": 14,
   "metadata": {},
   "outputs": [
    {
     "data": {
      "image/png": "[encoded data removed]",
      "text/plain": [
       "<Figure size 432x288 with 1 Axes>"
      ]
     },
     "metadata": {},
     "output_type": "display_data"
    }
   ],
   "source": [
    "# Number of churned customers\n",
    "\n",
    "color = ['green', 'red']\n",
    "\n",
    "df['Churn'].value_counts().plot(kind='bar', alpha=0.6, color=color, edgecolor='black')\n",
    "\n",
    "plt.title('Churned v/s non-churned customer count \\n (Training & Validation Set)', size=15, fontweight='bold')\n",
    "plt.ylabel('Customer Count')\n",
    "plt.xlabel('Churn Indicator')\n",
    "\n",
    "plt.margins(0.3)\n",
    "\n",
    "for x,y in enumerate(df['Churn'].value_counts()):\n",
    "\n",
    "    label = \"{:.0f}\".format(y)\n",
    "\n",
    "    plt.annotate(label\n",
    "                 ,(x,y)\n",
    "                 ,textcoords=\"offset points\"\n",
    "                 ,xytext=(0,10)\n",
    "                 ,ha='center'\n",
    "                ) \n",
    "plt.show()"
   ]
  },
  {
   "cell_type": "code",
   "execution_count": 15,
   "metadata": {},
   "outputs": [
    {
     "data": {
      "text/html": [
       "<div>\n",
       "<style scoped>\n",
       "    .dataframe tbody tr th:only-of-type {\n",
       "        vertical-align: middle;\n",
       "    }\n",
       "\n",
       "    .dataframe tbody tr th {\n",
       "        vertical-align: top;\n",
       "    }\n",
       "\n",
       "    .dataframe thead th {\n",
       "        text-align: right;\n",
       "    }\n",
       "</style>\n",
       "<table border=\"1\" class=\"dataframe\">\n",
       "  <thead>\n",
       "    <tr style=\"text-align: right;\">\n",
       "      <th></th>\n",
       "      <th>CustServ_Calls</th>\n",
       "      <th>Vmail_Message</th>\n",
       "    </tr>\n",
       "    <tr>\n",
       "      <th>Churn</th>\n",
       "      <th></th>\n",
       "      <th></th>\n",
       "    </tr>\n",
       "  </thead>\n",
       "  <tbody>\n",
       "    <tr>\n",
       "      <td>no</td>\n",
       "      <td>1.456388</td>\n",
       "      <td>8.612775</td>\n",
       "    </tr>\n",
       "    <tr>\n",
       "      <td>yes</td>\n",
       "      <td>2.227273</td>\n",
       "      <td>4.893939</td>\n",
       "    </tr>\n",
       "  </tbody>\n",
       "</table>\n",
       "</div>"
      ],
      "text/plain": [
       "       CustServ_Calls  Vmail_Message\n",
       "Churn                               \n",
       "no           1.456388       8.612775\n",
       "yes          2.227273       4.893939"
      ]
     },
     "execution_count": 15,
     "metadata": {},
     "output_type": "execute_result"
    }
   ],
   "source": [
    "df.groupby('Churn')[['CustServ_Calls', 'Vmail_Message']].mean()"
   ]
  },
  {
   "cell_type": "code",
   "execution_count": 16,
   "metadata": {},
   "outputs": [
    {
     "data": {
      "text/plain": [
       "<matplotlib.axes._subplots.AxesSubplot at 0x7fb0c683ef10>"
      ]
     },
     "execution_count": 16,
     "metadata": {},
     "output_type": "execute_result"
    },
    {
     "data": {
      "image/png": "[encoded data removed]",
      "text/plain": [
       "<Figure size 432x288 with 1 Axes>"
      ]
     },
     "metadata": {},
     "output_type": "display_data"
    }
   ],
   "source": [
    "# Analyzing churned v/s non-churned customer differences\n",
    "\n",
    "df.groupby('Churn')[['CustServ_Calls', 'Vmail_Message']].mean().plot(kind='bar')"
   ]
  },
  {
   "cell_type": "code",
   "execution_count": 17,
   "metadata": {},
   "outputs": [
    {
     "data": {
      "text/html": [
       "<div>\n",
       "<style scoped>\n",
       "    .dataframe tbody tr th:only-of-type {\n",
       "        vertical-align: middle;\n",
       "    }\n",
       "\n",
       "    .dataframe tbody tr th {\n",
       "        vertical-align: top;\n",
       "    }\n",
       "\n",
       "    .dataframe thead th {\n",
       "        text-align: right;\n",
       "    }\n",
       "</style>\n",
       "<table border=\"1\" class=\"dataframe\">\n",
       "  <thead>\n",
       "    <tr style=\"text-align: right;\">\n",
       "      <th></th>\n",
       "      <th>CustServ_Calls</th>\n",
       "      <th>Vmail_Message</th>\n",
       "    </tr>\n",
       "    <tr>\n",
       "      <th>Churn</th>\n",
       "      <th></th>\n",
       "      <th></th>\n",
       "    </tr>\n",
       "  </thead>\n",
       "  <tbody>\n",
       "    <tr>\n",
       "      <td>no</td>\n",
       "      <td>1.163039</td>\n",
       "      <td>13.911079</td>\n",
       "    </tr>\n",
       "    <tr>\n",
       "      <td>yes</td>\n",
       "      <td>1.872888</td>\n",
       "      <td>11.722481</td>\n",
       "    </tr>\n",
       "  </tbody>\n",
       "</table>\n",
       "</div>"
      ],
      "text/plain": [
       "       CustServ_Calls  Vmail_Message\n",
       "Churn                               \n",
       "no           1.163039      13.911079\n",
       "yes          1.872888      11.722481"
      ]
     },
     "execution_count": 17,
     "metadata": {},
     "output_type": "execute_result"
    }
   ],
   "source": [
    "df.groupby('Churn')[['CustServ_Calls', 'Vmail_Message']].std()"
   ]
  },
  {
   "cell_type": "code",
   "execution_count": 18,
   "metadata": {},
   "outputs": [],
   "source": [
    "# TO DO - make it mardown \n",
    "\n",
    "\n",
    "\n",
    "\n",
    "# Insights\n",
    "    # It can be seen above that Churners place more customer \n",
    "    # service calls than non-churners, and leave fewer voice\n",
    "    # mail messages."
   ]
  },
  {
   "cell_type": "code",
   "execution_count": 19,
   "metadata": {},
   "outputs": [
    {
     "data": {
      "text/plain": [
       "State  Churn\n",
       "AL     no       53\n",
       "       yes       7\n",
       "CA     no       21\n",
       "       yes       9\n",
       "CO     no       47\n",
       "       yes       6\n",
       "Name: Churn, dtype: int64"
      ]
     },
     "execution_count": 19,
     "metadata": {},
     "output_type": "execute_result"
    }
   ],
   "source": [
    "# Veiwing churners and non-churners by state\n",
    "\n",
    "df.groupby('State')['Churn'].value_counts()[['AL','CA','CO']]"
   ]
  },
  {
   "cell_type": "code",
   "execution_count": 20,
   "metadata": {},
   "outputs": [
    {
     "data": {
      "text/plain": [
       "<matplotlib.axes._subplots.AxesSubplot at 0x7fb0c6b99c50>"
      ]
     },
     "execution_count": 20,
     "metadata": {},
     "output_type": "execute_result"
    },
    {
     "data": {
      "image/png": "[encoded data removed]",
      "text/plain": [
       "<Figure size 432x288 with 1 Axes>"
      ]
     },
     "metadata": {},
     "output_type": "display_data"
    }
   ],
   "source": [
    "# TO DO - multiple bar to see churn and non-churn across different states\n",
    "\n",
    "\n",
    "\n",
    "\n",
    "\n",
    "df.groupby('State')['Churn'].value_counts().plot(kind='bar')"
   ]
  },
  {
   "cell_type": "code",
   "execution_count": 21,
   "metadata": {},
   "outputs": [
    {
     "data": {
      "image/png": "[encoded data removed]",
      "text/plain": [
       "<Figure size 432x288 with 1 Axes>"
      ]
     },
     "metadata": {},
     "output_type": "display_data"
    }
   ],
   "source": [
    "# Distribution of \"Account_Length\" feature\n",
    "\n",
    "# plt.hist(df['Account_Length'], bins=25)\n",
    "sns.distplot(df['Account_Length'])\n",
    "plt.show()"
   ]
  },
  {
   "cell_type": "code",
   "execution_count": 22,
   "metadata": {},
   "outputs": [],
   "source": [
    "# Insights\n",
    "    # Illustrates the duration that a customer stays with the provider\n",
    "    # is normally distribution (as what to expect in the real world)"
   ]
  },
  {
   "cell_type": "code",
   "execution_count": 23,
   "metadata": {},
   "outputs": [
    {
     "data": {
      "image/png": "[encoded data removed]",
      "text/plain": [
       "<Figure size 432x288 with 1 Axes>"
      ]
     },
     "metadata": {},
     "output_type": "display_data"
    }
   ],
   "source": [
    "# Examining differences between churners and non-churners\n",
    "# w.r.t their account lengths\n",
    "\n",
    "sns.boxplot(x='Churn', \n",
    "            y='Account_Length', \n",
    "            data=df)\n",
    "\n",
    "plt.title('Differences in Account Lengths', size=13)\n",
    "plt.show()"
   ]
  },
  {
   "cell_type": "code",
   "execution_count": 24,
   "metadata": {},
   "outputs": [],
   "source": [
    "# There are no notable differences in account lengths for\n",
    "# churners v/s non-churners"
   ]
  },
  {
   "cell_type": "code",
   "execution_count": 25,
   "metadata": {},
   "outputs": [
    {
     "data": {
      "image/png": "[encoded data removed]",
      "text/plain": [
       "<Figure size 432x288 with 1 Axes>"
      ]
     },
     "metadata": {},
     "output_type": "display_data"
    }
   ],
   "source": [
    "# Checking if having an international plan matters\n",
    "\n",
    "sns.boxplot(x='Churn', \n",
    "            y='Account_Length', \n",
    "            data=df,\n",
    "            hue='Intl_Plan')\n",
    "\n",
    "plt.title('Differences in Account Lengths', size=13)\n",
    "plt.show()"
   ]
  },
  {
   "cell_type": "code",
   "execution_count": 26,
   "metadata": {},
   "outputs": [],
   "source": [
    "# Insights\n",
    "    # No noticeable difference amoung customers with or\n",
    "    # without an international plan"
   ]
  },
  {
   "cell_type": "code",
   "execution_count": 27,
   "metadata": {},
   "outputs": [
    {
     "name": "stderr",
     "output_type": "stream",
     "text": [
      "/opt/anaconda3/lib/python3.7/site-packages/pandas/plotting/_matplotlib/tools.py:307: MatplotlibDeprecationWarning: \n",
      "The rowNum attribute was deprecated in Matplotlib 3.2 and will be removed two minor releases later. Use ax.get_subplotspec().rowspan.start instead.\n",
      "  layout[ax.rowNum, ax.colNum] = ax.get_visible()\n",
      "/opt/anaconda3/lib/python3.7/site-packages/pandas/plotting/_matplotlib/tools.py:307: MatplotlibDeprecationWarning: \n",
      "The colNum attribute was deprecated in Matplotlib 3.2 and will be removed two minor releases later. Use ax.get_subplotspec().colspan.start instead.\n",
      "  layout[ax.rowNum, ax.colNum] = ax.get_visible()\n",
      "/opt/anaconda3/lib/python3.7/site-packages/pandas/plotting/_matplotlib/tools.py:313: MatplotlibDeprecationWarning: \n",
      "The rowNum attribute was deprecated in Matplotlib 3.2 and will be removed two minor releases later. Use ax.get_subplotspec().rowspan.start instead.\n",
      "  if not layout[ax.rowNum + 1, ax.colNum]:\n",
      "/opt/anaconda3/lib/python3.7/site-packages/pandas/plotting/_matplotlib/tools.py:313: MatplotlibDeprecationWarning: \n",
      "The colNum attribute was deprecated in Matplotlib 3.2 and will be removed two minor releases later. Use ax.get_subplotspec().colspan.start instead.\n",
      "  if not layout[ax.rowNum + 1, ax.colNum]:\n"
     ]
    },
    {
     "data": {
      "image/png": "[encoded data removed]",
      "text/plain": [
       "<Figure size 1080x720 with 6 Axes>"
      ]
     },
     "metadata": {},
     "output_type": "display_data"
    }
   ],
   "source": [
    "# Checking distribution of select features\n",
    "\n",
    "df[['Account_Length', 'Day_Mins', 'Eve_Mins', 'Night_Mins', 'Intl_Mins']].hist(bins=25, figsize=(15,10))\n",
    "plt.show()"
   ]
  },
  {
   "cell_type": "code",
   "execution_count": 28,
   "metadata": {},
   "outputs": [
    {
     "data": {
      "image/png": "[encoded data removed]",
      "text/plain": [
       "<Figure size 432x288 with 1 Axes>"
      ]
     },
     "metadata": {},
     "output_type": "display_data"
    }
   ],
   "source": [
    "# Churn difference based on Customer Service Calls placed\n",
    "\n",
    "sns.boxplot(x = 'Churn',\n",
    "            y = 'CustServ_Calls',\n",
    "            data = df)\n",
    "\n",
    "plt.title('Churners v/s Non-Churners based on Customer Services Calls')\n",
    "plt.show()"
   ]
  },
  {
   "cell_type": "code",
   "execution_count": 29,
   "metadata": {},
   "outputs": [
    {
     "data": {
      "image/png": "[encoded data removed]",
      "text/plain": [
       "<Figure size 432x288 with 1 Axes>"
      ]
     },
     "metadata": {},
     "output_type": "display_data"
    },
    {
     "data": {
      "image/png": "[encoded data removed]",
      "text/plain": [
       "<Figure size 432x288 with 1 Axes>"
      ]
     },
     "metadata": {},
     "output_type": "display_data"
    }
   ],
   "source": [
    "features = ['Account_Length', 'CustServ_Calls'] \n",
    "\n",
    "for feature in features:\n",
    "    fig, axs = plt.subplots()\n",
    "    fig = sns.boxplot(x = 'Churn',\n",
    "                      y = feature,\n",
    "                      data = df)\n",
    "    plt.title('Churners v/s Non-Churners based on {}'.format(feature))\n",
    "\n",
    "plt.show()"
   ]
  },
  {
   "cell_type": "code",
   "execution_count": 30,
   "metadata": {},
   "outputs": [
    {
     "data": {
      "image/png": "[encoded data removed]",
      "text/plain": [
       "<Figure size 432x288 with 1 Axes>"
      ]
     },
     "metadata": {},
     "output_type": "display_data"
    }
   ],
   "source": [
    "# Churn difference based on Customer Service Calls placed\n",
    "# and being on an International Plan\n",
    "\n",
    "sns.boxplot(x = 'Churn',\n",
    "            y = 'CustServ_Calls',\n",
    "            data = df,\n",
    "            sym='', # removing outliers from plot\n",
    "            hue='Intl_Plan') \n",
    "\n",
    "plt.title('Churners v/s Non-Churners based on Customer Services Calls & Intl Plan')\n",
    "plt.show()"
   ]
  },
  {
   "cell_type": "code",
   "execution_count": 31,
   "metadata": {},
   "outputs": [],
   "source": [
    "# Insights:\n",
    "    # Customers who leave more customer service calls churn more\n",
    "    # unless they also have an international plan"
   ]
  },
  {
   "cell_type": "code",
   "execution_count": 32,
   "metadata": {},
   "outputs": [
    {
     "data": {
      "image/png": "[encoded data removed]",
      "text/plain": [
       "<Figure size 720x432 with 2 Axes>"
      ]
     },
     "metadata": {},
     "output_type": "display_data"
    }
   ],
   "source": [
    "plt.figure(figsize=(10,6))\n",
    "mask = np.zeros_like(df.corr())\n",
    "mask[np.triu_indices_from(mask)] = 1\n",
    "sns.heatmap(df.corr(), mask= mask, linewidth=0.7, cmap='RdYlGn') \n",
    "plt.show()"
   ]
  },
  {
   "cell_type": "code",
   "execution_count": 33,
   "metadata": {},
   "outputs": [],
   "source": [
    "# Since charges and mins are strongly correlated, we can either remove\n",
    "# one of them, or feature engineer them to create 4 new charges_min\n",
    "# and drop the charges and min columns subsequently."
   ]
  },
  {
   "cell_type": "markdown",
   "metadata": {},
   "source": [
    "---"
   ]
  },
  {
   "cell_type": "markdown",
   "metadata": {},
   "source": [
    "<p><a name=\"prep\"></a></p>\n",
    "\n",
    "## Data Preprocessing\n",
    "\n",
    "- Check missing values\n",
    "- Checking distribution of features\n",
    "- Encoding Categorical variables\n",
    "- Feature Scaling via Standardization\n",
    "- Feature Selection and Engineering"
   ]
  },
  {
   "cell_type": "markdown",
   "metadata": {},
   "source": [
    "### Missing Values"
   ]
  },
  {
   "cell_type": "code",
   "execution_count": 34,
   "metadata": {},
   "outputs": [
    {
     "data": {
      "text/plain": [
       "Series([], dtype: int64)"
      ]
     },
     "execution_count": 34,
     "metadata": {},
     "output_type": "execute_result"
    }
   ],
   "source": [
    "# Missing values check\n",
    "\n",
    "missing = df.isnull().sum()\n",
    "missing[missing > 0]"
   ]
  },
  {
   "cell_type": "code",
   "execution_count": 35,
   "metadata": {},
   "outputs": [
    {
     "name": "stdout",
     "output_type": "stream",
     "text": [
      "<class 'pandas.core.frame.DataFrame'>\n",
      "Int64Index: 2666 entries, 2178 to 1362\n",
      "Data columns (total 21 columns):\n",
      "Account_Length    2666 non-null int64\n",
      "Vmail_Message     2666 non-null int64\n",
      "Day_Mins          2666 non-null float64\n",
      "Eve_Mins          2666 non-null float64\n",
      "Night_Mins        2666 non-null float64\n",
      "Intl_Mins         2666 non-null float64\n",
      "CustServ_Calls    2666 non-null int64\n",
      "Intl_Plan         2666 non-null object\n",
      "Vmail_Plan        2666 non-null object\n",
      "Day_Calls         2666 non-null int64\n",
      "Day_Charge        2666 non-null float64\n",
      "Eve_Calls         2666 non-null int64\n",
      "Eve_Charge        2666 non-null float64\n",
      "Night_Calls       2666 non-null int64\n",
      "Night_Charge      2666 non-null float64\n",
      "Intl_Calls        2666 non-null int64\n",
      "Intl_Charge       2666 non-null float64\n",
      "State             2666 non-null object\n",
      "Area_Code         2666 non-null int64\n",
      "Phone             2666 non-null object\n",
      "Churn             2666 non-null object\n",
      "dtypes: float64(8), int64(8), object(5)\n",
      "memory usage: 538.2+ KB\n"
     ]
    }
   ],
   "source": [
    "# Examining data types \n",
    "\n",
    "# df.dtypes\n",
    "df.info()"
   ]
  },
  {
   "cell_type": "code",
   "execution_count": 36,
   "metadata": {},
   "outputs": [
    {
     "data": {
      "text/plain": [
       "Account_Length     207\n",
       "Vmail_Message       45\n",
       "Day_Mins          1494\n",
       "Eve_Mins          1455\n",
       "Night_Mins        1446\n",
       "Intl_Mins          160\n",
       "CustServ_Calls      10\n",
       "Intl_Plan            2\n",
       "Vmail_Plan           2\n",
       "Day_Calls          114\n",
       "Day_Charge        1494\n",
       "Eve_Calls          118\n",
       "Eve_Charge        1314\n",
       "Night_Calls        118\n",
       "Night_Charge       883\n",
       "Intl_Calls          20\n",
       "Intl_Charge        160\n",
       "State               51\n",
       "Area_Code            3\n",
       "Phone             2666\n",
       "Churn                2\n",
       "dtype: int64"
      ]
     },
     "execution_count": 36,
     "metadata": {},
     "output_type": "execute_result"
    }
   ],
   "source": [
    "#@ Unique values per column. \n",
    "#@@@@ use this to form continuous and discrete numerical variables\n",
    "\n",
    "df.nunique()"
   ]
  },
  {
   "cell_type": "code",
   "execution_count": 37,
   "metadata": {},
   "outputs": [],
   "source": [
    "# Forming list of columns that are numerical and categorical\n",
    "\n",
    "features_num = X_train_val.select_dtypes(include=['int64', 'float64']).columns\n",
    "features_cat = X_train_val.select_dtypes(include=['object']).columns"
   ]
  },
  {
   "cell_type": "code",
   "execution_count": 38,
   "metadata": {},
   "outputs": [
    {
     "name": "stdout",
     "output_type": "stream",
     "text": [
      "Index(['Account_Length', 'Vmail_Message', 'Day_Mins', 'Eve_Mins', 'Night_Mins',\n",
      "       'Intl_Mins', 'CustServ_Calls', 'Day_Calls', 'Day_Charge', 'Eve_Calls',\n",
      "       'Eve_Charge', 'Night_Calls', 'Night_Charge', 'Intl_Calls',\n",
      "       'Intl_Charge', 'Area_Code'],\n",
      "      dtype='object')\n",
      "--------------------------------------------------------------------------------\n",
      "Index(['Intl_Plan', 'Vmail_Plan', 'State', 'Phone'], dtype='object')\n"
     ]
    }
   ],
   "source": [
    "print(features_num)\n",
    "print('-'*80)\n",
    "print(features_cat)"
   ]
  },
  {
   "cell_type": "code",
   "execution_count": 39,
   "metadata": {
    "scrolled": false
   },
   "outputs": [
    {
     "data": {
      "text/html": [
       "<div>\n",
       "<style scoped>\n",
       "    .dataframe tbody tr th:only-of-type {\n",
       "        vertical-align: middle;\n",
       "    }\n",
       "\n",
       "    .dataframe tbody tr th {\n",
       "        vertical-align: top;\n",
       "    }\n",
       "\n",
       "    .dataframe thead th {\n",
       "        text-align: right;\n",
       "    }\n",
       "</style>\n",
       "<table border=\"1\" class=\"dataframe\">\n",
       "  <thead>\n",
       "    <tr style=\"text-align: right;\">\n",
       "      <th></th>\n",
       "      <th>Account_Length</th>\n",
       "      <th>Vmail_Message</th>\n",
       "      <th>Day_Mins</th>\n",
       "      <th>Eve_Mins</th>\n",
       "      <th>Night_Mins</th>\n",
       "      <th>Intl_Mins</th>\n",
       "      <th>CustServ_Calls</th>\n",
       "      <th>Day_Calls</th>\n",
       "      <th>Day_Charge</th>\n",
       "      <th>Eve_Calls</th>\n",
       "      <th>Eve_Charge</th>\n",
       "      <th>Night_Calls</th>\n",
       "      <th>Night_Charge</th>\n",
       "      <th>Intl_Calls</th>\n",
       "      <th>Intl_Charge</th>\n",
       "      <th>Area_Code</th>\n",
       "    </tr>\n",
       "  </thead>\n",
       "  <tbody>\n",
       "    <tr>\n",
       "      <td>2178</td>\n",
       "      <td>80</td>\n",
       "      <td>0</td>\n",
       "      <td>101.1</td>\n",
       "      <td>263.2</td>\n",
       "      <td>137.7</td>\n",
       "      <td>7.3</td>\n",
       "      <td>0</td>\n",
       "      <td>121</td>\n",
       "      <td>17.19</td>\n",
       "      <td>110</td>\n",
       "      <td>22.37</td>\n",
       "      <td>74</td>\n",
       "      <td>6.20</td>\n",
       "      <td>5</td>\n",
       "      <td>1.97</td>\n",
       "      <td>510</td>\n",
       "    </tr>\n",
       "    <tr>\n",
       "      <td>778</td>\n",
       "      <td>115</td>\n",
       "      <td>26</td>\n",
       "      <td>170.5</td>\n",
       "      <td>217.2</td>\n",
       "      <td>225.7</td>\n",
       "      <td>13.6</td>\n",
       "      <td>6</td>\n",
       "      <td>107</td>\n",
       "      <td>28.99</td>\n",
       "      <td>77</td>\n",
       "      <td>18.46</td>\n",
       "      <td>71</td>\n",
       "      <td>10.16</td>\n",
       "      <td>5</td>\n",
       "      <td>3.67</td>\n",
       "      <td>415</td>\n",
       "    </tr>\n",
       "    <tr>\n",
       "      <td>1542</td>\n",
       "      <td>81</td>\n",
       "      <td>0</td>\n",
       "      <td>227.4</td>\n",
       "      <td>211.5</td>\n",
       "      <td>258.2</td>\n",
       "      <td>11.9</td>\n",
       "      <td>0</td>\n",
       "      <td>105</td>\n",
       "      <td>38.66</td>\n",
       "      <td>120</td>\n",
       "      <td>17.98</td>\n",
       "      <td>113</td>\n",
       "      <td>11.62</td>\n",
       "      <td>3</td>\n",
       "      <td>3.21</td>\n",
       "      <td>510</td>\n",
       "    </tr>\n",
       "    <tr>\n",
       "      <td>604</td>\n",
       "      <td>30</td>\n",
       "      <td>0</td>\n",
       "      <td>169.9</td>\n",
       "      <td>225.2</td>\n",
       "      <td>169.7</td>\n",
       "      <td>11.4</td>\n",
       "      <td>1</td>\n",
       "      <td>144</td>\n",
       "      <td>28.88</td>\n",
       "      <td>118</td>\n",
       "      <td>19.14</td>\n",
       "      <td>93</td>\n",
       "      <td>7.64</td>\n",
       "      <td>7</td>\n",
       "      <td>3.08</td>\n",
       "      <td>415</td>\n",
       "    </tr>\n",
       "    <tr>\n",
       "      <td>1647</td>\n",
       "      <td>110</td>\n",
       "      <td>0</td>\n",
       "      <td>222.7</td>\n",
       "      <td>105.8</td>\n",
       "      <td>214.8</td>\n",
       "      <td>13.5</td>\n",
       "      <td>1</td>\n",
       "      <td>94</td>\n",
       "      <td>37.86</td>\n",
       "      <td>98</td>\n",
       "      <td>8.99</td>\n",
       "      <td>78</td>\n",
       "      <td>9.67</td>\n",
       "      <td>4</td>\n",
       "      <td>3.65</td>\n",
       "      <td>408</td>\n",
       "    </tr>\n",
       "    <tr>\n",
       "      <td>...</td>\n",
       "      <td>...</td>\n",
       "      <td>...</td>\n",
       "      <td>...</td>\n",
       "      <td>...</td>\n",
       "      <td>...</td>\n",
       "      <td>...</td>\n",
       "      <td>...</td>\n",
       "      <td>...</td>\n",
       "      <td>...</td>\n",
       "      <td>...</td>\n",
       "      <td>...</td>\n",
       "      <td>...</td>\n",
       "      <td>...</td>\n",
       "      <td>...</td>\n",
       "      <td>...</td>\n",
       "      <td>...</td>\n",
       "    </tr>\n",
       "    <tr>\n",
       "      <td>1837</td>\n",
       "      <td>117</td>\n",
       "      <td>0</td>\n",
       "      <td>54.2</td>\n",
       "      <td>303.2</td>\n",
       "      <td>171.8</td>\n",
       "      <td>8.6</td>\n",
       "      <td>1</td>\n",
       "      <td>100</td>\n",
       "      <td>9.21</td>\n",
       "      <td>84</td>\n",
       "      <td>25.77</td>\n",
       "      <td>84</td>\n",
       "      <td>7.73</td>\n",
       "      <td>2</td>\n",
       "      <td>2.32</td>\n",
       "      <td>510</td>\n",
       "    </tr>\n",
       "    <tr>\n",
       "      <td>2744</td>\n",
       "      <td>33</td>\n",
       "      <td>0</td>\n",
       "      <td>159.5</td>\n",
       "      <td>195.4</td>\n",
       "      <td>102.4</td>\n",
       "      <td>7.1</td>\n",
       "      <td>1</td>\n",
       "      <td>115</td>\n",
       "      <td>27.12</td>\n",
       "      <td>118</td>\n",
       "      <td>16.61</td>\n",
       "      <td>86</td>\n",
       "      <td>4.61</td>\n",
       "      <td>7</td>\n",
       "      <td>1.92</td>\n",
       "      <td>408</td>\n",
       "    </tr>\n",
       "    <tr>\n",
       "      <td>2977</td>\n",
       "      <td>132</td>\n",
       "      <td>0</td>\n",
       "      <td>195.1</td>\n",
       "      <td>148.8</td>\n",
       "      <td>224.5</td>\n",
       "      <td>6.7</td>\n",
       "      <td>0</td>\n",
       "      <td>100</td>\n",
       "      <td>33.17</td>\n",
       "      <td>95</td>\n",
       "      <td>12.65</td>\n",
       "      <td>117</td>\n",
       "      <td>10.10</td>\n",
       "      <td>2</td>\n",
       "      <td>1.81</td>\n",
       "      <td>408</td>\n",
       "    </tr>\n",
       "    <tr>\n",
       "      <td>3216</td>\n",
       "      <td>221</td>\n",
       "      <td>24</td>\n",
       "      <td>180.5</td>\n",
       "      <td>224.1</td>\n",
       "      <td>205.7</td>\n",
       "      <td>2.4</td>\n",
       "      <td>0</td>\n",
       "      <td>85</td>\n",
       "      <td>30.69</td>\n",
       "      <td>92</td>\n",
       "      <td>19.05</td>\n",
       "      <td>103</td>\n",
       "      <td>9.26</td>\n",
       "      <td>3</td>\n",
       "      <td>0.65</td>\n",
       "      <td>510</td>\n",
       "    </tr>\n",
       "    <tr>\n",
       "      <td>1362</td>\n",
       "      <td>63</td>\n",
       "      <td>0</td>\n",
       "      <td>132.9</td>\n",
       "      <td>67.0</td>\n",
       "      <td>160.4</td>\n",
       "      <td>9.9</td>\n",
       "      <td>3</td>\n",
       "      <td>122</td>\n",
       "      <td>22.59</td>\n",
       "      <td>62</td>\n",
       "      <td>5.70</td>\n",
       "      <td>121</td>\n",
       "      <td>7.22</td>\n",
       "      <td>2</td>\n",
       "      <td>2.67</td>\n",
       "      <td>510</td>\n",
       "    </tr>\n",
       "  </tbody>\n",
       "</table>\n",
       "<p>2666 rows × 16 columns</p>\n",
       "</div>"
      ],
      "text/plain": [
       "      Account_Length  Vmail_Message  Day_Mins  Eve_Mins  Night_Mins  \\\n",
       "2178              80              0     101.1     263.2       137.7   \n",
       "778              115             26     170.5     217.2       225.7   \n",
       "1542              81              0     227.4     211.5       258.2   \n",
       "604               30              0     169.9     225.2       169.7   \n",
       "1647             110              0     222.7     105.8       214.8   \n",
       "...              ...            ...       ...       ...         ...   \n",
       "1837             117              0      54.2     303.2       171.8   \n",
       "2744              33              0     159.5     195.4       102.4   \n",
       "2977             132              0     195.1     148.8       224.5   \n",
       "3216             221             24     180.5     224.1       205.7   \n",
       "1362              63              0     132.9      67.0       160.4   \n",
       "\n",
       "      Intl_Mins  CustServ_Calls  Day_Calls  Day_Charge  Eve_Calls  Eve_Charge  \\\n",
       "2178        7.3               0        121       17.19        110       22.37   \n",
       "778        13.6               6        107       28.99         77       18.46   \n",
       "1542       11.9               0        105       38.66        120       17.98   \n",
       "604        11.4               1        144       28.88        118       19.14   \n",
       "1647       13.5               1         94       37.86         98        8.99   \n",
       "...         ...             ...        ...         ...        ...         ...   \n",
       "1837        8.6               1        100        9.21         84       25.77   \n",
       "2744        7.1               1        115       27.12        118       16.61   \n",
       "2977        6.7               0        100       33.17         95       12.65   \n",
       "3216        2.4               0         85       30.69         92       19.05   \n",
       "1362        9.9               3        122       22.59         62        5.70   \n",
       "\n",
       "      Night_Calls  Night_Charge  Intl_Calls  Intl_Charge  Area_Code  \n",
       "2178           74          6.20           5         1.97        510  \n",
       "778            71         10.16           5         3.67        415  \n",
       "1542          113         11.62           3         3.21        510  \n",
       "604            93          7.64           7         3.08        415  \n",
       "1647           78          9.67           4         3.65        408  \n",
       "...           ...           ...         ...          ...        ...  \n",
       "1837           84          7.73           2         2.32        510  \n",
       "2744           86          4.61           7         1.92        408  \n",
       "2977          117         10.10           2         1.81        408  \n",
       "3216          103          9.26           3         0.65        510  \n",
       "1362          121          7.22           2         2.67        510  \n",
       "\n",
       "[2666 rows x 16 columns]"
      ]
     },
     "execution_count": 39,
     "metadata": {},
     "output_type": "execute_result"
    }
   ],
   "source": [
    "X_train_val[features_num]"
   ]
  },
  {
   "cell_type": "code",
   "execution_count": 40,
   "metadata": {},
   "outputs": [
    {
     "data": {
      "text/html": [
       "<div>\n",
       "<style scoped>\n",
       "    .dataframe tbody tr th:only-of-type {\n",
       "        vertical-align: middle;\n",
       "    }\n",
       "\n",
       "    .dataframe tbody tr th {\n",
       "        vertical-align: top;\n",
       "    }\n",
       "\n",
       "    .dataframe thead th {\n",
       "        text-align: right;\n",
       "    }\n",
       "</style>\n",
       "<table border=\"1\" class=\"dataframe\">\n",
       "  <thead>\n",
       "    <tr style=\"text-align: right;\">\n",
       "      <th></th>\n",
       "      <th>Intl_Plan</th>\n",
       "      <th>Vmail_Plan</th>\n",
       "      <th>State</th>\n",
       "      <th>Phone</th>\n",
       "    </tr>\n",
       "  </thead>\n",
       "  <tbody>\n",
       "    <tr>\n",
       "      <td>2178</td>\n",
       "      <td>no</td>\n",
       "      <td>no</td>\n",
       "      <td>WY</td>\n",
       "      <td>400-5389</td>\n",
       "    </tr>\n",
       "    <tr>\n",
       "      <td>778</td>\n",
       "      <td>no</td>\n",
       "      <td>yes</td>\n",
       "      <td>LA</td>\n",
       "      <td>386-6306</td>\n",
       "    </tr>\n",
       "    <tr>\n",
       "      <td>1542</td>\n",
       "      <td>yes</td>\n",
       "      <td>no</td>\n",
       "      <td>DC</td>\n",
       "      <td>385-7861</td>\n",
       "    </tr>\n",
       "    <tr>\n",
       "      <td>604</td>\n",
       "      <td>no</td>\n",
       "      <td>no</td>\n",
       "      <td>NM</td>\n",
       "      <td>405-8370</td>\n",
       "    </tr>\n",
       "    <tr>\n",
       "      <td>1647</td>\n",
       "      <td>no</td>\n",
       "      <td>no</td>\n",
       "      <td>MO</td>\n",
       "      <td>356-4558</td>\n",
       "    </tr>\n",
       "    <tr>\n",
       "      <td>...</td>\n",
       "      <td>...</td>\n",
       "      <td>...</td>\n",
       "      <td>...</td>\n",
       "      <td>...</td>\n",
       "    </tr>\n",
       "    <tr>\n",
       "      <td>1837</td>\n",
       "      <td>yes</td>\n",
       "      <td>no</td>\n",
       "      <td>NH</td>\n",
       "      <td>397-1766</td>\n",
       "    </tr>\n",
       "    <tr>\n",
       "      <td>2744</td>\n",
       "      <td>no</td>\n",
       "      <td>no</td>\n",
       "      <td>CA</td>\n",
       "      <td>369-2743</td>\n",
       "    </tr>\n",
       "    <tr>\n",
       "      <td>2977</td>\n",
       "      <td>no</td>\n",
       "      <td>no</td>\n",
       "      <td>MT</td>\n",
       "      <td>406-8465</td>\n",
       "    </tr>\n",
       "    <tr>\n",
       "      <td>3216</td>\n",
       "      <td>no</td>\n",
       "      <td>yes</td>\n",
       "      <td>SD</td>\n",
       "      <td>365-2192</td>\n",
       "    </tr>\n",
       "    <tr>\n",
       "      <td>1362</td>\n",
       "      <td>no</td>\n",
       "      <td>no</td>\n",
       "      <td>WV</td>\n",
       "      <td>329-7102</td>\n",
       "    </tr>\n",
       "  </tbody>\n",
       "</table>\n",
       "<p>2666 rows × 4 columns</p>\n",
       "</div>"
      ],
      "text/plain": [
       "     Intl_Plan Vmail_Plan State     Phone\n",
       "2178        no         no    WY  400-5389\n",
       "778         no        yes    LA  386-6306\n",
       "1542       yes         no    DC  385-7861\n",
       "604         no         no    NM  405-8370\n",
       "1647        no         no    MO  356-4558\n",
       "...        ...        ...   ...       ...\n",
       "1837       yes         no    NH  397-1766\n",
       "2744        no         no    CA  369-2743\n",
       "2977        no         no    MT  406-8465\n",
       "3216        no        yes    SD  365-2192\n",
       "1362        no         no    WV  329-7102\n",
       "\n",
       "[2666 rows x 4 columns]"
      ]
     },
     "execution_count": 40,
     "metadata": {},
     "output_type": "execute_result"
    }
   ],
   "source": [
    "X_train_val[features_cat]"
   ]
  },
  {
   "cell_type": "code",
   "execution_count": 41,
   "metadata": {},
   "outputs": [
    {
     "data": {
      "image/png": "[encoded data removed]",
      "text/plain": [
       "<Figure size 432x288 with 1 Axes>"
      ]
     },
     "metadata": {},
     "output_type": "display_data"
    }
   ],
   "source": [
    "# Examining feature: 'Vmail_Message'\n",
    "\n",
    "plt.hist(X_train_val['Vmail_Message'])\n",
    "\n",
    "plt.title('Distribution of \\'Vmail_Message\\'')\n",
    "plt.show()"
   ]
  },
  {
   "cell_type": "markdown",
   "metadata": {},
   "source": [
    "**Insights**\n",
    "- Since this feature has 0 as the most frequent value for most observations, I'll make this a candidate for a binary column (to be done in feature engineering)"
   ]
  },
  {
   "cell_type": "code",
   "execution_count": 42,
   "metadata": {},
   "outputs": [
    {
     "data": {
      "image/png": "[encoded data removed]",
      "text/plain": [
       "<Figure size 432x288 with 1 Axes>"
      ]
     },
     "metadata": {},
     "output_type": "display_data"
    }
   ],
   "source": [
    "plt.hist(X_train_val['CustServ_Calls'])\n",
    "\n",
    "plt.title('Distribution of \\'CustServ_Calls\\'')\n",
    "plt.show()"
   ]
  },
  {
   "cell_type": "markdown",
   "metadata": {},
   "source": [
    "### Encoding Target"
   ]
  },
  {
   "cell_type": "code",
   "execution_count": 43,
   "metadata": {},
   "outputs": [],
   "source": [
    "# Instantiate Label Encoder for \"Churn\"\n",
    "\n",
    "le = LabelEncoder()"
   ]
  },
  {
   "cell_type": "code",
   "execution_count": 44,
   "metadata": {},
   "outputs": [],
   "source": [
    "y_train_val = le.fit_transform(y_train_val)"
   ]
  },
  {
   "cell_type": "code",
   "execution_count": 45,
   "metadata": {},
   "outputs": [
    {
     "data": {
      "text/plain": [
       "array([0, 0, 0, ..., 0, 0, 0])"
      ]
     },
     "execution_count": 45,
     "metadata": {},
     "output_type": "execute_result"
    }
   ],
   "source": [
    "y_train_val"
   ]
  },
  {
   "cell_type": "markdown",
   "metadata": {},
   "source": [
    "### Train-Test Split"
   ]
  },
  {
   "cell_type": "code",
   "execution_count": 46,
   "metadata": {},
   "outputs": [
    {
     "name": "stdout",
     "output_type": "stream",
     "text": [
      "(1999, 20) (667, 20) (1999,) (667,)\n"
     ]
    }
   ],
   "source": [
    "# Split data into training and test sets\n",
    "\n",
    "X_train, X_test, y_train, y_test = train_test_split(X_train_val, y_train_val, test_size=0.25)\n",
    "\n",
    "print(X_train.shape, X_test.shape, y_train.shape, y_test.shape)"
   ]
  },
  {
   "cell_type": "markdown",
   "metadata": {},
   "source": [
    "---"
   ]
  },
  {
   "cell_type": "markdown",
   "metadata": {},
   "source": [
    "<p><a name=\"sel\"></a></p>\n",
    "\n",
    "### Feature Selection"
   ]
  },
  {
   "cell_type": "code",
   "execution_count": 47,
   "metadata": {},
   "outputs": [
    {
     "data": {
      "image/png": "[encoded data removed]",
      "text/plain": [
       "<Figure size 432x288 with 2 Axes>"
      ]
     },
     "metadata": {},
     "output_type": "display_data"
    }
   ],
   "source": [
    "mask = np.zeros_like(X_train.corr())\n",
    "mask[np.triu_indices_from(mask)] = 1\n",
    "sns.heatmap(X_train.corr(), mask= mask, linewidth=0.7, cmap='RdYlGn') \n",
    "plt.show()"
   ]
  },
  {
   "cell_type": "markdown",
   "metadata": {},
   "source": [
    "**Insights:**\n",
    "- Following features are highly correlated\n",
    "    - Day_Mins & Day_Charge\n",
    "    - Eve_Mins & Eve_Charge\n",
    "    - Night_Mins & Night_Charge\n",
    "    - Intl_Mins & Intl_Charge\n",
    "- Either set are candidates for being dropped or their combination for feature engineering"
   ]
  },
  {
   "cell_type": "markdown",
   "metadata": {},
   "source": [
    "---"
   ]
  },
  {
   "cell_type": "markdown",
   "metadata": {},
   "source": [
    "<p><a name=\"engg\"></a></p>\n",
    "\n",
    "### Feature Engineering"
   ]
  },
  {
   "cell_type": "code",
   "execution_count": 48,
   "metadata": {},
   "outputs": [],
   "source": [
    "class CategoricalTransformer(BaseEstimator, TransformerMixin):\n",
    "    \n",
    "    '''\n",
    "    Descr:\n",
    "    This class contains methods to undertake categorical transformations\n",
    "    on features and its output will be used as CustomTransfomers \n",
    "    in the pipeline functionality to prevent data leakage and also\n",
    "    automate categorical transformations on unseen data.\n",
    "    \n",
    "    Tasks performed by transform() method:\n",
    "    1. Drops columns not required / provide no predictive information the model\n",
    "\n",
    "    I/P:\n",
    "    1. Features dataframe to perform transformation on\n",
    "    2. Names of categorical features to be dropped\n",
    "\n",
    "    O/P:\n",
    "    numpy array of transformed categorical features\n",
    "    '''    \n",
    "    \n",
    "    # Class constructor\n",
    "    def __init__(self, drop_cat_features):\n",
    "        self.drop_cat_features = drop_cat_features\n",
    "    \n",
    "    # fit method - does nothing and returns self\n",
    "    def fit(self, X, y=None):\n",
    "        return self\n",
    "    \n",
    "    # transform method for custom transformations\n",
    "    def transform(self, X, y=None):\n",
    "        \n",
    "        # Doing this to avoid Chained Indexing error:\n",
    "        # \"SettingWithCopyWarning: A value is trying to be set on a copy of a slice from a DataFrame\"\n",
    "        X1 = X.copy()\n",
    "        \n",
    "        # Dropping columns\n",
    "        X1.drop(self.drop_cat_features, axis=1, inplace=True)\n",
    "\n",
    "        # Return numpy array of transformed numerical features\n",
    "        return X1 "
   ]
  },
  {
   "cell_type": "code",
   "execution_count": 49,
   "metadata": {},
   "outputs": [],
   "source": [
    "class NumericalTransformer(BaseEstimator, TransformerMixin):\n",
    "    \n",
    "    '''\n",
    "    Descr:\n",
    "    This class contains methods to undertake numerical transformations\n",
    "    on features and its output will be used as CustomTransfomers \n",
    "    in the pipeline functionality to prevent data leakage and also\n",
    "    automate numerical transformations on unseen data.\n",
    "    For it to qualify as a transformer, it will contain the .fit()\n",
    "    and .transform() methods and we'll be inheriting from 2 classes\n",
    "    that faciliate this class being a transformer.\n",
    "    \n",
    "    Tasks performed by transform() method:\n",
    "    1. Drops columns not required / provide no predictive information the model\n",
    "    2. Create binary column of features that are highly skewed to 1 value\n",
    "\n",
    "    I/P:\n",
    "    1. Features dataframe to perform transformation on\n",
    "    2. Names of numerical features to be dropped\n",
    "    3. Print flag to see names of columns after transformation. Defaulted\n",
    "        to 'N' if not passed as 'Y'\n",
    "\n",
    "    O/P:\n",
    "    numpy array of transformed numerical features\n",
    "    '''    \n",
    "    \n",
    "    # Class constructor\n",
    "    def __init__(self, numerical_features, drop_num_features, my_print='N'):\n",
    "        self.numerical_features = numerical_features\n",
    "        self.drop_num_features = drop_num_features\n",
    "        self.my_print = my_print\n",
    "    \n",
    "    # fit method - does nothing and returns self\n",
    "    def fit(self, X, y=None):\n",
    "        return self\n",
    "    \n",
    "    # Binarize method\n",
    "    def binarize(self, obj):\n",
    "        if obj == 0:\n",
    "            return 0\n",
    "        else:\n",
    "            return 1\n",
    "\n",
    "    \n",
    "    # transform method for custom transformations\n",
    "    def transform(self, X, y=None):\n",
    "        \n",
    "        X = pd.DataFrame(X, columns=self.numerical_features)\n",
    "        \n",
    "        # Doing this to avoid Chained Indexing error:\n",
    "        # \"SettingWithCopyWarning: A value is trying to be set on a copy of a slice from a DataFrame\"\n",
    "        X1 = X.copy()\n",
    "        \n",
    "        # Binarize columns\n",
    "        X1.loc[:,'Vmail_Message_b'] = X1['Vmail_Message'].apply(self.binarize)\n",
    "\n",
    "        # Dropping columns\n",
    "        X1.drop(self.drop_num_features, axis=1, inplace=True)\n",
    "\n",
    "        if self.my_print == 'Y':\n",
    "            print('Transformed Numerical Features\\' column names:\\n', list(X1.columns))\n",
    "    \n",
    "        # Return numpy array of transformed numerical features\n",
    "        return X1    #X1.values"
   ]
  },
  {
   "cell_type": "code",
   "execution_count": 50,
   "metadata": {},
   "outputs": [],
   "source": [
    "# Tagging features for transformations\n",
    "\n",
    "# Lists of Categorical features:\n",
    "# Features for (1) dropping 'Phone' (2) imputation (3) Ordinal encoding\n",
    "features_for_pipe_cat_imp_oe = ['Intl_Plan', 'Vmail_Plan', 'Phone']\n",
    "    \n",
    "# Features for (1) imputation (2) OneHot encoding\n",
    "features_for_ohe = ['State']\n",
    "\n",
    "features_dropped_cat = ['Phone']\n",
    "\n",
    "\n",
    "# Lists of Numerical features:\n",
    "features_for_pipe_num_imp = features_num\n",
    "features_for_pipe_num_imp_ss = features_num\n",
    "features_for_pipe_num_imp_norm = features_num\n",
    "\n",
    "features_dropped_num = ['Day_Mins','Eve_Mins','Night_Mins','Intl_Mins',\\\n",
    "                        'Vmail_Message','Area_Code']"
   ]
  },
  {
   "cell_type": "code",
   "execution_count": 51,
   "metadata": {},
   "outputs": [
    {
     "data": {
      "text/plain": [
       "Index(['Account_Length', 'Vmail_Message', 'Day_Mins', 'Eve_Mins', 'Night_Mins',\n",
       "       'Intl_Mins', 'CustServ_Calls', 'Day_Calls', 'Day_Charge', 'Eve_Calls',\n",
       "       'Eve_Charge', 'Night_Calls', 'Night_Charge', 'Intl_Calls',\n",
       "       'Intl_Charge', 'Area_Code'],\n",
       "      dtype='object')"
      ]
     },
     "execution_count": 51,
     "metadata": {},
     "output_type": "execute_result"
    }
   ],
   "source": [
    "features_num"
   ]
  },
  {
   "cell_type": "code",
   "execution_count": 52,
   "metadata": {},
   "outputs": [],
   "source": [
    "# Instantiate all transformers to be used in the \n",
    "# Column Transformer (i.e., Preprocessor)\n",
    "\n",
    "# Categorical tranformers\n",
    "cat_transformer = CategoricalTransformer(features_dropped_cat)\n",
    "imp_mode_c = SimpleImputer(strategy='most_frequent')\n",
    "oe = OrdinalEncoder()\n",
    "ohe = OneHotEncoder()\n",
    "\n",
    "# Numerical transformers\n",
    "imp_median_n = SimpleImputer(strategy='median')\n",
    "# Instantiate with 3rd argument 'Y' to see column names of tranformed features\n",
    "num_transformer = NumericalTransformer(features_num, features_dropped_num, 'N')\n",
    "ss = StandardScaler()\n",
    "norm = Normalizer()"
   ]
  },
  {
   "cell_type": "code",
   "execution_count": 53,
   "metadata": {},
   "outputs": [],
   "source": [
    "# Pipelines of transformations (no model yet)\n",
    "\n",
    "# Categorical pipelines of transformations\n",
    "\n",
    "# Pipeline for (1) dropping 'Phone' (2) imputation (3) Ordinal encoding\n",
    "pipe_cat_imp_oe = make_pipeline(cat_transformer, imp_mode_c, oe)\n",
    "\n",
    "# Pipeline for (1) imputation (2) OneHot encoding\n",
    "pipe_imp_ohe = make_pipeline(imp_mode_c, ohe)\n",
    "\n",
    "\n",
    "# Numerical pipelines of transformations\n",
    "# Pipeline for (1) imputation (2) Numerical transformations\n",
    "pipe_num_imp = make_pipeline(imp_median_n, num_transformer)\n",
    "\n",
    "# Pipeline for (1) imputation (2) Numerical transformations (3) Standardizing\n",
    "pipe_num_imp_ss = make_pipeline(imp_median_n, num_transformer, ss)\n",
    "\n",
    "# Pipeline for (1) imputation (2) Numerical transformations (3) Normalizing\n",
    "pipe_num_imp_norm = make_pipeline(imp_median_n, num_transformer, norm)"
   ]
  },
  {
   "cell_type": "code",
   "execution_count": 54,
   "metadata": {},
   "outputs": [],
   "source": [
    "# Utilizing Column Transformer for transformations\n",
    "\n",
    "preprocessor = make_column_transformer(\n",
    "    (pipe_cat_imp_oe, features_for_pipe_cat_imp_oe)\n",
    "    ,(pipe_imp_ohe, features_for_ohe)\n",
    "    ,(pipe_num_imp, features_for_pipe_num_imp)\n",
    "    ,remainder='passthrough') "
   ]
  },
  {
   "cell_type": "code",
   "execution_count": 55,
   "metadata": {},
   "outputs": [],
   "source": [
    "# Utilizing Column Transformer for transformations (including standardizing features)\n",
    "\n",
    "preprocessor_ss = make_column_transformer(\n",
    "    (pipe_cat_imp_oe, features_for_pipe_cat_imp_oe)\n",
    "    ,(pipe_imp_ohe, features_for_ohe)\n",
    "    ,(pipe_num_imp_ss, features_for_pipe_num_imp_ss)\n",
    "    ,remainder='passthrough') "
   ]
  },
  {
   "cell_type": "code",
   "execution_count": 56,
   "metadata": {},
   "outputs": [],
   "source": [
    "# Utilizing Column Transformer for transformations (including normalizing features)\n",
    "\n",
    "preprocessor_norm = make_column_transformer(\n",
    "    (pipe_cat_imp_oe, features_for_pipe_cat_imp_oe)\n",
    "    ,(pipe_imp_ohe, features_for_ohe)\n",
    "    ,(pipe_num_imp_norm, features_for_pipe_num_imp_norm)\n",
    "    ,remainder='passthrough') "
   ]
  },
  {
   "cell_type": "code",
   "execution_count": 57,
   "metadata": {
    "scrolled": true
   },
   "outputs": [
    {
     "data": {
      "text/plain": [
       "<1999x64 sparse matrix of type '<class 'numpy.float64'>'\n",
       "\twith 22861 stored elements in Compressed Sparse Row format>"
      ]
     },
     "execution_count": 57,
     "metadata": {},
     "output_type": "execute_result"
    }
   ],
   "source": [
    "preprocessor.fit_transform(X_train)"
   ]
  },
  {
   "cell_type": "code",
   "execution_count": 58,
   "metadata": {},
   "outputs": [
    {
     "data": {
      "text/plain": [
       "<1999x64 sparse matrix of type '<class 'numpy.float64'>'\n",
       "\twith 24731 stored elements in Compressed Sparse Row format>"
      ]
     },
     "execution_count": 58,
     "metadata": {},
     "output_type": "execute_result"
    }
   ],
   "source": [
    "preprocessor_ss.fit_transform(X_train)"
   ]
  },
  {
   "cell_type": "code",
   "execution_count": 59,
   "metadata": {},
   "outputs": [
    {
     "data": {
      "text/plain": [
       "<1999x64 sparse matrix of type '<class 'numpy.float64'>'\n",
       "\twith 22861 stored elements in Compressed Sparse Row format>"
      ]
     },
     "execution_count": 59,
     "metadata": {},
     "output_type": "execute_result"
    }
   ],
   "source": [
    "preprocessor_norm.fit_transform(X_train)"
   ]
  },
  {
   "cell_type": "markdown",
   "metadata": {},
   "source": [
    "#### Deriving column names of OneHot encoded 'State' feature\n",
    "\n",
    "- Will record a df of the transformed features in **\"X_train_tf\"** (excludes standardized columns)\n",
    "- Will record a df of the transformed features in **\"X_train_tf_ss\"** (includes standardized columns)\n",
    "- Will record a df of the transformed features in **\"X_train_tf_norm\"** (includes normalized columns)"
   ]
  },
  {
   "cell_type": "code",
   "execution_count": 60,
   "metadata": {},
   "outputs": [
    {
     "name": "stdout",
     "output_type": "stream",
     "text": [
      "Number of OHE columns created from \"State\" =  51\n",
      "Number of unique values in \"State\"         =  51\n"
     ]
    }
   ],
   "source": [
    "# Deriving the column names for the OneHot encoded 'State'\n",
    "\n",
    "features_transformed_ohe = list(preprocessor.transformers_[1][1].named_steps['onehotencoder'].get_feature_names())\n",
    "\n",
    "# Quick check\n",
    "print('Number of OHE columns created from \"State\" = ', len(features_transformed_ohe))\n",
    "print('Number of unique values in \"State\"         = ', churn_data['State'].nunique())"
   ]
  },
  {
   "cell_type": "code",
   "execution_count": 61,
   "metadata": {},
   "outputs": [],
   "source": [
    "# Deriving the column names of the transformed df\n",
    "\n",
    "# Leveraing feature names that were provided to the column\n",
    "# transformer, output from ohe and the output of the numerical transformer\n",
    "features_transformed_incl_dropped = features_for_pipe_cat_imp_oe + \\\n",
    "features_transformed_ohe + \\\n",
    "['Account_Length', 'CustServ_Calls', 'Day_Calls', 'Day_Charge', \\\n",
    " 'Eve_Calls', 'Eve_Charge', 'Night_Calls', 'Night_Charge', \\\n",
    " 'Intl_Calls', 'Intl_Charge', 'Vmail_Message_b']\n",
    "\n",
    "# Leveraging feature names provided as input to the dropped\n",
    "features_dropped_all = features_dropped_cat + features_dropped_num\n",
    "\n",
    "\n",
    "# Forming a list of transformed features by removing dropped \n",
    "# columns from the list\n",
    "features_transformed = [col for col in features_transformed_incl_dropped if col not in features_dropped_all]"
   ]
  },
  {
   "cell_type": "code",
   "execution_count": 62,
   "metadata": {},
   "outputs": [
    {
     "name": "stdout",
     "output_type": "stream",
     "text": [
      "\n",
      "# columns from transformation = 64\n",
      "# column names derived        = 64\n"
     ]
    }
   ],
   "source": [
    "# Check the transformed features column name count\n",
    "# versus the shape of the transformed array\n",
    "\n",
    "print('\\n# columns from transformation =', preprocessor.fit_transform(X_train).toarray().shape[1])\n",
    "print('# column names derived        =', len(features_transformed))"
   ]
  },
  {
   "cell_type": "code",
   "execution_count": 63,
   "metadata": {
    "scrolled": true
   },
   "outputs": [
    {
     "data": {
      "text/html": [
       "<div>\n",
       "<style scoped>\n",
       "    .dataframe tbody tr th:only-of-type {\n",
       "        vertical-align: middle;\n",
       "    }\n",
       "\n",
       "    .dataframe tbody tr th {\n",
       "        vertical-align: top;\n",
       "    }\n",
       "\n",
       "    .dataframe thead th {\n",
       "        text-align: right;\n",
       "    }\n",
       "</style>\n",
       "<table border=\"1\" class=\"dataframe\">\n",
       "  <thead>\n",
       "    <tr style=\"text-align: right;\">\n",
       "      <th></th>\n",
       "      <th>Intl_Plan</th>\n",
       "      <th>Vmail_Plan</th>\n",
       "      <th>x0_AK</th>\n",
       "      <th>x0_AL</th>\n",
       "      <th>x0_AR</th>\n",
       "      <th>x0_AZ</th>\n",
       "      <th>x0_CA</th>\n",
       "      <th>x0_CO</th>\n",
       "      <th>x0_CT</th>\n",
       "      <th>x0_DC</th>\n",
       "      <th>...</th>\n",
       "      <th>CustServ_Calls</th>\n",
       "      <th>Day_Calls</th>\n",
       "      <th>Day_Charge</th>\n",
       "      <th>Eve_Calls</th>\n",
       "      <th>Eve_Charge</th>\n",
       "      <th>Night_Calls</th>\n",
       "      <th>Night_Charge</th>\n",
       "      <th>Intl_Calls</th>\n",
       "      <th>Intl_Charge</th>\n",
       "      <th>Vmail_Message_b</th>\n",
       "    </tr>\n",
       "  </thead>\n",
       "  <tbody>\n",
       "    <tr>\n",
       "      <td>0</td>\n",
       "      <td>0.0</td>\n",
       "      <td>0.0</td>\n",
       "      <td>0.0</td>\n",
       "      <td>1.0</td>\n",
       "      <td>0.0</td>\n",
       "      <td>0.0</td>\n",
       "      <td>0.0</td>\n",
       "      <td>0.0</td>\n",
       "      <td>0.0</td>\n",
       "      <td>0.0</td>\n",
       "      <td>...</td>\n",
       "      <td>1.0</td>\n",
       "      <td>83.0</td>\n",
       "      <td>26.74</td>\n",
       "      <td>85.0</td>\n",
       "      <td>18.78</td>\n",
       "      <td>129.0</td>\n",
       "      <td>9.85</td>\n",
       "      <td>7.0</td>\n",
       "      <td>3.24</td>\n",
       "      <td>0.0</td>\n",
       "    </tr>\n",
       "    <tr>\n",
       "      <td>1</td>\n",
       "      <td>0.0</td>\n",
       "      <td>0.0</td>\n",
       "      <td>0.0</td>\n",
       "      <td>0.0</td>\n",
       "      <td>1.0</td>\n",
       "      <td>0.0</td>\n",
       "      <td>0.0</td>\n",
       "      <td>0.0</td>\n",
       "      <td>0.0</td>\n",
       "      <td>0.0</td>\n",
       "      <td>...</td>\n",
       "      <td>2.0</td>\n",
       "      <td>113.0</td>\n",
       "      <td>26.69</td>\n",
       "      <td>97.0</td>\n",
       "      <td>21.84</td>\n",
       "      <td>126.0</td>\n",
       "      <td>8.35</td>\n",
       "      <td>2.0</td>\n",
       "      <td>3.27</td>\n",
       "      <td>0.0</td>\n",
       "    </tr>\n",
       "    <tr>\n",
       "      <td>2</td>\n",
       "      <td>0.0</td>\n",
       "      <td>1.0</td>\n",
       "      <td>0.0</td>\n",
       "      <td>0.0</td>\n",
       "      <td>0.0</td>\n",
       "      <td>0.0</td>\n",
       "      <td>0.0</td>\n",
       "      <td>0.0</td>\n",
       "      <td>0.0</td>\n",
       "      <td>0.0</td>\n",
       "      <td>...</td>\n",
       "      <td>0.0</td>\n",
       "      <td>111.0</td>\n",
       "      <td>25.40</td>\n",
       "      <td>113.0</td>\n",
       "      <td>11.20</td>\n",
       "      <td>87.0</td>\n",
       "      <td>5.97</td>\n",
       "      <td>2.0</td>\n",
       "      <td>1.81</td>\n",
       "      <td>1.0</td>\n",
       "    </tr>\n",
       "    <tr>\n",
       "      <td>3</td>\n",
       "      <td>0.0</td>\n",
       "      <td>1.0</td>\n",
       "      <td>0.0</td>\n",
       "      <td>0.0</td>\n",
       "      <td>0.0</td>\n",
       "      <td>0.0</td>\n",
       "      <td>0.0</td>\n",
       "      <td>0.0</td>\n",
       "      <td>0.0</td>\n",
       "      <td>0.0</td>\n",
       "      <td>...</td>\n",
       "      <td>3.0</td>\n",
       "      <td>87.0</td>\n",
       "      <td>33.81</td>\n",
       "      <td>90.0</td>\n",
       "      <td>17.60</td>\n",
       "      <td>76.0</td>\n",
       "      <td>7.19</td>\n",
       "      <td>4.0</td>\n",
       "      <td>3.40</td>\n",
       "      <td>1.0</td>\n",
       "    </tr>\n",
       "    <tr>\n",
       "      <td>4</td>\n",
       "      <td>0.0</td>\n",
       "      <td>1.0</td>\n",
       "      <td>0.0</td>\n",
       "      <td>0.0</td>\n",
       "      <td>0.0</td>\n",
       "      <td>0.0</td>\n",
       "      <td>0.0</td>\n",
       "      <td>0.0</td>\n",
       "      <td>0.0</td>\n",
       "      <td>0.0</td>\n",
       "      <td>...</td>\n",
       "      <td>1.0</td>\n",
       "      <td>97.0</td>\n",
       "      <td>36.50</td>\n",
       "      <td>90.0</td>\n",
       "      <td>11.77</td>\n",
       "      <td>44.0</td>\n",
       "      <td>7.61</td>\n",
       "      <td>4.0</td>\n",
       "      <td>2.32</td>\n",
       "      <td>1.0</td>\n",
       "    </tr>\n",
       "  </tbody>\n",
       "</table>\n",
       "<p>5 rows × 64 columns</p>\n",
       "</div>"
      ],
      "text/plain": [
       "   Intl_Plan  Vmail_Plan  x0_AK  x0_AL  x0_AR  x0_AZ  x0_CA  x0_CO  x0_CT  \\\n",
       "0        0.0         0.0    0.0    1.0    0.0    0.0    0.0    0.0    0.0   \n",
       "1        0.0         0.0    0.0    0.0    1.0    0.0    0.0    0.0    0.0   \n",
       "2        0.0         1.0    0.0    0.0    0.0    0.0    0.0    0.0    0.0   \n",
       "3        0.0         1.0    0.0    0.0    0.0    0.0    0.0    0.0    0.0   \n",
       "4        0.0         1.0    0.0    0.0    0.0    0.0    0.0    0.0    0.0   \n",
       "\n",
       "   x0_DC  ...  CustServ_Calls  Day_Calls  Day_Charge  Eve_Calls  Eve_Charge  \\\n",
       "0    0.0  ...             1.0       83.0       26.74       85.0       18.78   \n",
       "1    0.0  ...             2.0      113.0       26.69       97.0       21.84   \n",
       "2    0.0  ...             0.0      111.0       25.40      113.0       11.20   \n",
       "3    0.0  ...             3.0       87.0       33.81       90.0       17.60   \n",
       "4    0.0  ...             1.0       97.0       36.50       90.0       11.77   \n",
       "\n",
       "   Night_Calls  Night_Charge  Intl_Calls  Intl_Charge  Vmail_Message_b  \n",
       "0        129.0          9.85         7.0         3.24              0.0  \n",
       "1        126.0          8.35         2.0         3.27              0.0  \n",
       "2         87.0          5.97         2.0         1.81              1.0  \n",
       "3         76.0          7.19         4.0         3.40              1.0  \n",
       "4         44.0          7.61         4.0         2.32              1.0  \n",
       "\n",
       "[5 rows x 64 columns]"
      ]
     },
     "execution_count": 63,
     "metadata": {},
     "output_type": "execute_result"
    }
   ],
   "source": [
    "# Forming transformed DF with transformed features\n",
    "\n",
    "X_train_tf = pd.DataFrame(preprocessor.fit_transform(X_train).toarray(), columns=features_transformed)\n",
    "X_train_tf.head()"
   ]
  },
  {
   "cell_type": "code",
   "execution_count": 64,
   "metadata": {},
   "outputs": [
    {
     "data": {
      "text/html": [
       "<div>\n",
       "<style scoped>\n",
       "    .dataframe tbody tr th:only-of-type {\n",
       "        vertical-align: middle;\n",
       "    }\n",
       "\n",
       "    .dataframe tbody tr th {\n",
       "        vertical-align: top;\n",
       "    }\n",
       "\n",
       "    .dataframe thead th {\n",
       "        text-align: right;\n",
       "    }\n",
       "</style>\n",
       "<table border=\"1\" class=\"dataframe\">\n",
       "  <thead>\n",
       "    <tr style=\"text-align: right;\">\n",
       "      <th></th>\n",
       "      <th>Intl_Plan</th>\n",
       "      <th>Vmail_Plan</th>\n",
       "      <th>x0_AK</th>\n",
       "      <th>x0_AL</th>\n",
       "      <th>x0_AR</th>\n",
       "      <th>x0_AZ</th>\n",
       "      <th>x0_CA</th>\n",
       "      <th>x0_CO</th>\n",
       "      <th>x0_CT</th>\n",
       "      <th>x0_DC</th>\n",
       "      <th>...</th>\n",
       "      <th>CustServ_Calls</th>\n",
       "      <th>Day_Calls</th>\n",
       "      <th>Day_Charge</th>\n",
       "      <th>Eve_Calls</th>\n",
       "      <th>Eve_Charge</th>\n",
       "      <th>Night_Calls</th>\n",
       "      <th>Night_Charge</th>\n",
       "      <th>Intl_Calls</th>\n",
       "      <th>Intl_Charge</th>\n",
       "      <th>Vmail_Message_b</th>\n",
       "    </tr>\n",
       "  </thead>\n",
       "  <tbody>\n",
       "    <tr>\n",
       "      <td>0</td>\n",
       "      <td>0.0</td>\n",
       "      <td>0.0</td>\n",
       "      <td>0.0</td>\n",
       "      <td>1.0</td>\n",
       "      <td>0.0</td>\n",
       "      <td>0.0</td>\n",
       "      <td>0.0</td>\n",
       "      <td>0.0</td>\n",
       "      <td>0.0</td>\n",
       "      <td>0.0</td>\n",
       "      <td>...</td>\n",
       "      <td>-0.431809</td>\n",
       "      <td>-0.861116</td>\n",
       "      <td>-0.404290</td>\n",
       "      <td>-0.791864</td>\n",
       "      <td>0.403133</td>\n",
       "      <td>1.478896</td>\n",
       "      <td>0.386056</td>\n",
       "      <td>0.973328</td>\n",
       "      <td>0.626728</td>\n",
       "      <td>-0.621505</td>\n",
       "    </tr>\n",
       "    <tr>\n",
       "      <td>1</td>\n",
       "      <td>0.0</td>\n",
       "      <td>0.0</td>\n",
       "      <td>0.0</td>\n",
       "      <td>0.0</td>\n",
       "      <td>1.0</td>\n",
       "      <td>0.0</td>\n",
       "      <td>0.0</td>\n",
       "      <td>0.0</td>\n",
       "      <td>0.0</td>\n",
       "      <td>0.0</td>\n",
       "      <td>...</td>\n",
       "      <td>0.334106</td>\n",
       "      <td>0.631747</td>\n",
       "      <td>-0.409526</td>\n",
       "      <td>-0.179944</td>\n",
       "      <td>1.113141</td>\n",
       "      <td>1.326238</td>\n",
       "      <td>-0.275908</td>\n",
       "      <td>-1.001584</td>\n",
       "      <td>0.666188</td>\n",
       "      <td>-0.621505</td>\n",
       "    </tr>\n",
       "    <tr>\n",
       "      <td>2</td>\n",
       "      <td>0.0</td>\n",
       "      <td>1.0</td>\n",
       "      <td>0.0</td>\n",
       "      <td>0.0</td>\n",
       "      <td>0.0</td>\n",
       "      <td>0.0</td>\n",
       "      <td>0.0</td>\n",
       "      <td>0.0</td>\n",
       "      <td>0.0</td>\n",
       "      <td>0.0</td>\n",
       "      <td>...</td>\n",
       "      <td>-1.197725</td>\n",
       "      <td>0.532223</td>\n",
       "      <td>-0.544618</td>\n",
       "      <td>0.635950</td>\n",
       "      <td>-1.355647</td>\n",
       "      <td>-0.658308</td>\n",
       "      <td>-1.326225</td>\n",
       "      <td>-1.001584</td>\n",
       "      <td>-1.254218</td>\n",
       "      <td>1.608996</td>\n",
       "    </tr>\n",
       "    <tr>\n",
       "      <td>3</td>\n",
       "      <td>0.0</td>\n",
       "      <td>1.0</td>\n",
       "      <td>0.0</td>\n",
       "      <td>0.0</td>\n",
       "      <td>0.0</td>\n",
       "      <td>0.0</td>\n",
       "      <td>0.0</td>\n",
       "      <td>0.0</td>\n",
       "      <td>0.0</td>\n",
       "      <td>0.0</td>\n",
       "      <td>...</td>\n",
       "      <td>1.100022</td>\n",
       "      <td>-0.662068</td>\n",
       "      <td>0.336097</td>\n",
       "      <td>-0.536897</td>\n",
       "      <td>0.129338</td>\n",
       "      <td>-1.218052</td>\n",
       "      <td>-0.787827</td>\n",
       "      <td>-0.211619</td>\n",
       "      <td>0.837183</td>\n",
       "      <td>1.608996</td>\n",
       "    </tr>\n",
       "    <tr>\n",
       "      <td>4</td>\n",
       "      <td>0.0</td>\n",
       "      <td>1.0</td>\n",
       "      <td>0.0</td>\n",
       "      <td>0.0</td>\n",
       "      <td>0.0</td>\n",
       "      <td>0.0</td>\n",
       "      <td>0.0</td>\n",
       "      <td>0.0</td>\n",
       "      <td>0.0</td>\n",
       "      <td>0.0</td>\n",
       "      <td>...</td>\n",
       "      <td>-0.431809</td>\n",
       "      <td>-0.164446</td>\n",
       "      <td>0.617800</td>\n",
       "      <td>-0.536897</td>\n",
       "      <td>-1.223390</td>\n",
       "      <td>-2.846397</td>\n",
       "      <td>-0.602477</td>\n",
       "      <td>-0.211619</td>\n",
       "      <td>-0.583392</td>\n",
       "      <td>1.608996</td>\n",
       "    </tr>\n",
       "  </tbody>\n",
       "</table>\n",
       "<p>5 rows × 64 columns</p>\n",
       "</div>"
      ],
      "text/plain": [
       "   Intl_Plan  Vmail_Plan  x0_AK  x0_AL  x0_AR  x0_AZ  x0_CA  x0_CO  x0_CT  \\\n",
       "0        0.0         0.0    0.0    1.0    0.0    0.0    0.0    0.0    0.0   \n",
       "1        0.0         0.0    0.0    0.0    1.0    0.0    0.0    0.0    0.0   \n",
       "2        0.0         1.0    0.0    0.0    0.0    0.0    0.0    0.0    0.0   \n",
       "3        0.0         1.0    0.0    0.0    0.0    0.0    0.0    0.0    0.0   \n",
       "4        0.0         1.0    0.0    0.0    0.0    0.0    0.0    0.0    0.0   \n",
       "\n",
       "   x0_DC  ...  CustServ_Calls  Day_Calls  Day_Charge  Eve_Calls  Eve_Charge  \\\n",
       "0    0.0  ...       -0.431809  -0.861116   -0.404290  -0.791864    0.403133   \n",
       "1    0.0  ...        0.334106   0.631747   -0.409526  -0.179944    1.113141   \n",
       "2    0.0  ...       -1.197725   0.532223   -0.544618   0.635950   -1.355647   \n",
       "3    0.0  ...        1.100022  -0.662068    0.336097  -0.536897    0.129338   \n",
       "4    0.0  ...       -0.431809  -0.164446    0.617800  -0.536897   -1.223390   \n",
       "\n",
       "   Night_Calls  Night_Charge  Intl_Calls  Intl_Charge  Vmail_Message_b  \n",
       "0     1.478896      0.386056    0.973328     0.626728        -0.621505  \n",
       "1     1.326238     -0.275908   -1.001584     0.666188        -0.621505  \n",
       "2    -0.658308     -1.326225   -1.001584    -1.254218         1.608996  \n",
       "3    -1.218052     -0.787827   -0.211619     0.837183         1.608996  \n",
       "4    -2.846397     -0.602477   -0.211619    -0.583392         1.608996  \n",
       "\n",
       "[5 rows x 64 columns]"
      ]
     },
     "execution_count": 64,
     "metadata": {},
     "output_type": "execute_result"
    }
   ],
   "source": [
    "# Forming transformed DF with transformed features (features standardized)\n",
    "\n",
    "X_train_tf_ss = pd.DataFrame(preprocessor_ss.fit_transform(X_train).toarray(), columns=features_transformed)\n",
    "X_train_tf_ss.head()"
   ]
  },
  {
   "cell_type": "code",
   "execution_count": 65,
   "metadata": {},
   "outputs": [
    {
     "data": {
      "text/html": [
       "<div>\n",
       "<style scoped>\n",
       "    .dataframe tbody tr th:only-of-type {\n",
       "        vertical-align: middle;\n",
       "    }\n",
       "\n",
       "    .dataframe tbody tr th {\n",
       "        vertical-align: top;\n",
       "    }\n",
       "\n",
       "    .dataframe thead th {\n",
       "        text-align: right;\n",
       "    }\n",
       "</style>\n",
       "<table border=\"1\" class=\"dataframe\">\n",
       "  <thead>\n",
       "    <tr style=\"text-align: right;\">\n",
       "      <th></th>\n",
       "      <th>Intl_Plan</th>\n",
       "      <th>Vmail_Plan</th>\n",
       "      <th>x0_AK</th>\n",
       "      <th>x0_AL</th>\n",
       "      <th>x0_AR</th>\n",
       "      <th>x0_AZ</th>\n",
       "      <th>x0_CA</th>\n",
       "      <th>x0_CO</th>\n",
       "      <th>x0_CT</th>\n",
       "      <th>x0_DC</th>\n",
       "      <th>...</th>\n",
       "      <th>CustServ_Calls</th>\n",
       "      <th>Day_Calls</th>\n",
       "      <th>Day_Charge</th>\n",
       "      <th>Eve_Calls</th>\n",
       "      <th>Eve_Charge</th>\n",
       "      <th>Night_Calls</th>\n",
       "      <th>Night_Charge</th>\n",
       "      <th>Intl_Calls</th>\n",
       "      <th>Intl_Charge</th>\n",
       "      <th>Vmail_Message_b</th>\n",
       "    </tr>\n",
       "  </thead>\n",
       "  <tbody>\n",
       "    <tr>\n",
       "      <td>0</td>\n",
       "      <td>0.0</td>\n",
       "      <td>0.0</td>\n",
       "      <td>0.0</td>\n",
       "      <td>1.0</td>\n",
       "      <td>0.0</td>\n",
       "      <td>0.0</td>\n",
       "      <td>0.0</td>\n",
       "      <td>0.0</td>\n",
       "      <td>0.0</td>\n",
       "      <td>0.0</td>\n",
       "      <td>...</td>\n",
       "      <td>0.005227</td>\n",
       "      <td>0.433823</td>\n",
       "      <td>0.139764</td>\n",
       "      <td>0.444276</td>\n",
       "      <td>0.098159</td>\n",
       "      <td>0.674255</td>\n",
       "      <td>0.051484</td>\n",
       "      <td>0.036587</td>\n",
       "      <td>0.016935</td>\n",
       "      <td>0.000000</td>\n",
       "    </tr>\n",
       "    <tr>\n",
       "      <td>1</td>\n",
       "      <td>0.0</td>\n",
       "      <td>0.0</td>\n",
       "      <td>0.0</td>\n",
       "      <td>0.0</td>\n",
       "      <td>1.0</td>\n",
       "      <td>0.0</td>\n",
       "      <td>0.0</td>\n",
       "      <td>0.0</td>\n",
       "      <td>0.0</td>\n",
       "      <td>0.0</td>\n",
       "      <td>...</td>\n",
       "      <td>0.008454</td>\n",
       "      <td>0.477628</td>\n",
       "      <td>0.112813</td>\n",
       "      <td>0.410000</td>\n",
       "      <td>0.092313</td>\n",
       "      <td>0.532577</td>\n",
       "      <td>0.035294</td>\n",
       "      <td>0.008454</td>\n",
       "      <td>0.013822</td>\n",
       "      <td>0.000000</td>\n",
       "    </tr>\n",
       "    <tr>\n",
       "      <td>2</td>\n",
       "      <td>0.0</td>\n",
       "      <td>1.0</td>\n",
       "      <td>0.0</td>\n",
       "      <td>0.0</td>\n",
       "      <td>0.0</td>\n",
       "      <td>0.0</td>\n",
       "      <td>0.0</td>\n",
       "      <td>0.0</td>\n",
       "      <td>0.0</td>\n",
       "      <td>0.0</td>\n",
       "      <td>...</td>\n",
       "      <td>0.000000</td>\n",
       "      <td>0.595283</td>\n",
       "      <td>0.136218</td>\n",
       "      <td>0.606009</td>\n",
       "      <td>0.060065</td>\n",
       "      <td>0.466573</td>\n",
       "      <td>0.032017</td>\n",
       "      <td>0.010726</td>\n",
       "      <td>0.009707</td>\n",
       "      <td>0.005363</td>\n",
       "    </tr>\n",
       "    <tr>\n",
       "      <td>3</td>\n",
       "      <td>0.0</td>\n",
       "      <td>1.0</td>\n",
       "      <td>0.0</td>\n",
       "      <td>0.0</td>\n",
       "      <td>0.0</td>\n",
       "      <td>0.0</td>\n",
       "      <td>0.0</td>\n",
       "      <td>0.0</td>\n",
       "      <td>0.0</td>\n",
       "      <td>0.0</td>\n",
       "      <td>...</td>\n",
       "      <td>0.016166</td>\n",
       "      <td>0.468826</td>\n",
       "      <td>0.182196</td>\n",
       "      <td>0.484993</td>\n",
       "      <td>0.094843</td>\n",
       "      <td>0.409550</td>\n",
       "      <td>0.038746</td>\n",
       "      <td>0.021555</td>\n",
       "      <td>0.018322</td>\n",
       "      <td>0.005389</td>\n",
       "    </tr>\n",
       "    <tr>\n",
       "      <td>4</td>\n",
       "      <td>0.0</td>\n",
       "      <td>1.0</td>\n",
       "      <td>0.0</td>\n",
       "      <td>0.0</td>\n",
       "      <td>0.0</td>\n",
       "      <td>0.0</td>\n",
       "      <td>0.0</td>\n",
       "      <td>0.0</td>\n",
       "      <td>0.0</td>\n",
       "      <td>0.0</td>\n",
       "      <td>...</td>\n",
       "      <td>0.004778</td>\n",
       "      <td>0.463494</td>\n",
       "      <td>0.174408</td>\n",
       "      <td>0.430046</td>\n",
       "      <td>0.056240</td>\n",
       "      <td>0.210245</td>\n",
       "      <td>0.036363</td>\n",
       "      <td>0.019113</td>\n",
       "      <td>0.011086</td>\n",
       "      <td>0.004778</td>\n",
       "    </tr>\n",
       "  </tbody>\n",
       "</table>\n",
       "<p>5 rows × 64 columns</p>\n",
       "</div>"
      ],
      "text/plain": [
       "   Intl_Plan  Vmail_Plan  x0_AK  x0_AL  x0_AR  x0_AZ  x0_CA  x0_CO  x0_CT  \\\n",
       "0        0.0         0.0    0.0    1.0    0.0    0.0    0.0    0.0    0.0   \n",
       "1        0.0         0.0    0.0    0.0    1.0    0.0    0.0    0.0    0.0   \n",
       "2        0.0         1.0    0.0    0.0    0.0    0.0    0.0    0.0    0.0   \n",
       "3        0.0         1.0    0.0    0.0    0.0    0.0    0.0    0.0    0.0   \n",
       "4        0.0         1.0    0.0    0.0    0.0    0.0    0.0    0.0    0.0   \n",
       "\n",
       "   x0_DC  ...  CustServ_Calls  Day_Calls  Day_Charge  Eve_Calls  Eve_Charge  \\\n",
       "0    0.0  ...        0.005227   0.433823    0.139764   0.444276    0.098159   \n",
       "1    0.0  ...        0.008454   0.477628    0.112813   0.410000    0.092313   \n",
       "2    0.0  ...        0.000000   0.595283    0.136218   0.606009    0.060065   \n",
       "3    0.0  ...        0.016166   0.468826    0.182196   0.484993    0.094843   \n",
       "4    0.0  ...        0.004778   0.463494    0.174408   0.430046    0.056240   \n",
       "\n",
       "   Night_Calls  Night_Charge  Intl_Calls  Intl_Charge  Vmail_Message_b  \n",
       "0     0.674255      0.051484    0.036587     0.016935         0.000000  \n",
       "1     0.532577      0.035294    0.008454     0.013822         0.000000  \n",
       "2     0.466573      0.032017    0.010726     0.009707         0.005363  \n",
       "3     0.409550      0.038746    0.021555     0.018322         0.005389  \n",
       "4     0.210245      0.036363    0.019113     0.011086         0.004778  \n",
       "\n",
       "[5 rows x 64 columns]"
      ]
     },
     "execution_count": 65,
     "metadata": {},
     "output_type": "execute_result"
    }
   ],
   "source": [
    "# Forming transformed DF with transformed features (features normalized)\n",
    "\n",
    "X_train_tf_norm = pd.DataFrame(preprocessor_norm.fit_transform(X_train).toarray(), columns=features_transformed)\n",
    "X_train_tf_norm.head()"
   ]
  },
  {
   "cell_type": "markdown",
   "metadata": {},
   "source": [
    "---"
   ]
  },
  {
   "cell_type": "markdown",
   "metadata": {},
   "source": [
    "#### ML Models"
   ]
  },
  {
   "cell_type": "code",
   "execution_count": 66,
   "metadata": {},
   "outputs": [],
   "source": [
    "# Instantiate ML Model\n",
    "\n",
    "logreg = LogisticRegression()"
   ]
  },
  {
   "cell_type": "markdown",
   "metadata": {},
   "source": [
    "#### Pipeline"
   ]
  },
  {
   "cell_type": "code",
   "execution_count": 67,
   "metadata": {},
   "outputs": [],
   "source": [
    "# Make pipeline of all transformation and Logistic model\n",
    "\n",
    "# pipe = make_pipeline(preprocessor, logreg)\n",
    "# pipe_norm = make_pipeline(preprocessor_norm, logreg)\n",
    "pipe_ss = make_pipeline(preprocessor_ss, logreg)"
   ]
  },
  {
   "cell_type": "code",
   "execution_count": 68,
   "metadata": {},
   "outputs": [],
   "source": [
    "# pipe.fit(X_train, y_train);\n",
    "# pipe_norm.fit(X_train, y_train);\n",
    "pipe_ss.fit(X_train, y_train);"
   ]
  },
  {
   "cell_type": "code",
   "execution_count": 69,
   "metadata": {},
   "outputs": [],
   "source": [
    "# y_pred = pipe.predict(X_test)\n",
    "# y_pred = pipe_norm.predict(X_test)\n",
    "y_pred = pipe_ss.predict(X_test)"
   ]
  },
  {
   "cell_type": "code",
   "execution_count": 70,
   "metadata": {},
   "outputs": [],
   "source": [
    "# y_pred_proba = pipe.predict_proba(X_test)\n",
    "# y_pred_proba = pipe_norm.predict_proba(X_test)\n",
    "y_pred_proba = pipe_ss.predict_proba(X_test)"
   ]
  },
  {
   "cell_type": "markdown",
   "metadata": {},
   "source": [
    "#### Model Evaluation"
   ]
  },
  {
   "cell_type": "code",
   "execution_count": 71,
   "metadata": {},
   "outputs": [
    {
     "data": {
      "text/plain": [
       "0.8545727136431784"
      ]
     },
     "execution_count": 71,
     "metadata": {},
     "output_type": "execute_result"
    }
   ],
   "source": [
    "# pipe.score(X_test, y_test)\n",
    "# pipe_norm.score(X_test, y_test)\n",
    "pipe_ss.score(X_test, y_test)"
   ]
  },
  {
   "cell_type": "code",
   "execution_count": 72,
   "metadata": {},
   "outputs": [
    {
     "data": {
      "text/plain": [
       "array([[543,  32],\n",
       "       [ 65,  27]])"
      ]
     },
     "execution_count": 72,
     "metadata": {},
     "output_type": "execute_result"
    }
   ],
   "source": [
    "# Confusion matrix as this is a imbalanced dataset\n",
    "\n",
    "confusion_matrix(y_test, y_pred)"
   ]
  },
  {
   "cell_type": "code",
   "execution_count": 73,
   "metadata": {},
   "outputs": [
    {
     "name": "stdout",
     "output_type": "stream",
     "text": [
      "Precision = 45.76%\n",
      "Recall    = 29.35%\n",
      "F1 Score  = 35.76%\n"
     ]
    }
   ],
   "source": [
    "print('Precision = {0:.2f}%'.format(precision_score(y_test, y_pred)*100))\n",
    "print('Recall    = {0:.2f}%'.format(recall_score(y_test, y_pred)*100))\n",
    "print('F1 Score  = {0:.2f}%'.format(f1_score(y_test, y_pred)*100))"
   ]
  },
  {
   "cell_type": "code",
   "execution_count": 74,
   "metadata": {
    "scrolled": false
   },
   "outputs": [
    {
     "name": "stdout",
     "output_type": "stream",
     "text": [
      "              precision    recall  f1-score   support\n",
      "\n",
      "           0       0.89      0.94      0.92       575\n",
      "           1       0.46      0.29      0.36        92\n",
      "\n",
      "    accuracy                           0.85       667\n",
      "   macro avg       0.68      0.62      0.64       667\n",
      "weighted avg       0.83      0.85      0.84       667\n",
      "\n"
     ]
    }
   ],
   "source": [
    "print(classification_report(y_test, y_pred))"
   ]
  },
  {
   "cell_type": "code",
   "execution_count": 75,
   "metadata": {},
   "outputs": [],
   "source": [
    "fpr, tpr, thresholds = roc_curve(y_test, y_pred_proba[:,1])\n",
    "\n",
    "roc_df = pd.DataFrame({'FPR': fpr, 'TPR':tpr, 'Thresholds':thresholds})\n",
    "# roc_df.head()"
   ]
  },
  {
   "cell_type": "code",
   "execution_count": 76,
   "metadata": {},
   "outputs": [
    {
     "data": {
      "image/png": "[encoded data removed]",
      "text/plain": [
       "<Figure size 432x288 with 1 Axes>"
      ]
     },
     "metadata": {},
     "output_type": "display_data"
    }
   ],
   "source": [
    "# Plotting the ROC curve\n",
    "\n",
    "plt.plot(fpr, tpr, label='ROC Curve')\n",
    "\n",
    "plt.ylabel('True Positive Rate (TPR) / Recall / Sensitivity')\n",
    "plt.xlabel('False Positive Rate (FPR) or (1-Specificity)')\n",
    "plt.title('ROC Curve of Logistic model', size=14)\n",
    "\n",
    "# plot diagonal that illustrates model that randomly guesses\n",
    "plt.plot([0,1],[0,1], linestyle='--', color='orange', label='Random guess model')\n",
    "\n",
    "plt.legend(loc='lower right')\n",
    "plt.show()"
   ]
  },
  {
   "cell_type": "code",
   "execution_count": 77,
   "metadata": {},
   "outputs": [
    {
     "data": {
      "text/plain": [
       "0.7984120982986767"
      ]
     },
     "execution_count": 77,
     "metadata": {},
     "output_type": "execute_result"
    }
   ],
   "source": [
    "roc_auc_score(y_test, y_pred_proba[:,1])"
   ]
  },
  {
   "cell_type": "markdown",
   "metadata": {},
   "source": [
    "---"
   ]
  },
  {
   "cell_type": "markdown",
   "metadata": {},
   "source": [
    "### RFE within pipeline"
   ]
  },
  {
   "cell_type": "code",
   "execution_count": null,
   "metadata": {},
   "outputs": [],
   "source": [
    "rfe = RFE(logreg, step=1)\n",
    "rfe"
   ]
  },
  {
   "cell_type": "code",
   "execution_count": null,
   "metadata": {},
   "outputs": [],
   "source": [
    "pipe_with_fs = make_pipeline(preprocessor, rfe, logreg)"
   ]
  },
  {
   "cell_type": "code",
   "execution_count": null,
   "metadata": {},
   "outputs": [],
   "source": [
    "pipe_with_fs.fit(X_train, y_train);"
   ]
  },
  {
   "cell_type": "code",
   "execution_count": null,
   "metadata": {},
   "outputs": [],
   "source": [
    "y_pred_with_fs = pipe_with_fs.predict(X_test)"
   ]
  },
  {
   "cell_type": "code",
   "execution_count": null,
   "metadata": {},
   "outputs": [],
   "source": [
    "y_pred_proba_with_fs = pipe_with_fs.predict_proba(X_test)\n",
    "y_pred_proba_with_fs"
   ]
  },
  {
   "cell_type": "code",
   "execution_count": null,
   "metadata": {},
   "outputs": [],
   "source": [
    "# Confusion matrix as this is a imbalanced dataset\n",
    "\n",
    "confusion_matrix(y_test, y_pred_with_fs)"
   ]
  },
  {
   "cell_type": "code",
   "execution_count": null,
   "metadata": {},
   "outputs": [],
   "source": [
    "print('Precision = {0:.2f}%'.format(precision_score(y_test, y_pred_with_fs)*100))\n",
    "print('Recall    = {0:.2f}%'.format(recall_score(y_test, y_pred_with_fs)*100))\n",
    "print('F1 Score  = {0:.2f}%'.format(f1_score(y_test, y_pred_with_fs)*100))"
   ]
  },
  {
   "cell_type": "code",
   "execution_count": null,
   "metadata": {
    "scrolled": false
   },
   "outputs": [],
   "source": [
    "print(classification_report(y_test, y_pred_with_fs))"
   ]
  },
  {
   "cell_type": "code",
   "execution_count": null,
   "metadata": {},
   "outputs": [],
   "source": [
    "pipe_with_fs.score(X_test, y_test)"
   ]
  },
  {
   "cell_type": "markdown",
   "metadata": {},
   "source": [
    "**Accuracy increased by ~1% with RFE**"
   ]
  },
  {
   "cell_type": "code",
   "execution_count": null,
   "metadata": {},
   "outputs": [],
   "source": [
    "fpr_with_fs, tpr_with_fs, thresholds_with_fs = roc_curve(y_test, y_pred_proba_with_fs[:,1])\n",
    "\n",
    "roc_df_with_fs = pd.DataFrame({'FPR': fpr_with_fs, 'TPR':tpr_with_fs, 'Thresholds':thresholds_with_fs})\n",
    "roc_df_with_fs.head()"
   ]
  },
  {
   "cell_type": "code",
   "execution_count": null,
   "metadata": {},
   "outputs": [],
   "source": [
    "# Plotting the ROC curve\n",
    "\n",
    "plt.plot(fpr_with_fs, tpr_with_fs, label='ROC Curve after RFE')\n",
    "\n",
    "plt.ylabel('True Positive Rate (TPR) / Recall / Sensitivity')\n",
    "plt.xlabel('False Positive Rate (FPR) or (1-Specificity)')\n",
    "plt.title('ROC Curve of Logistic model', size=14)\n",
    "\n",
    "# plot diagonal that illustrates model that randomly guesses\n",
    "plt.plot([0,1],[0,1], linestyle='--', color='orange', label='Random guess model')\n",
    "\n",
    "plt.legend(loc='lower right')\n",
    "plt.show()"
   ]
  },
  {
   "cell_type": "code",
   "execution_count": null,
   "metadata": {},
   "outputs": [],
   "source": [
    "roc_auc_score(y_test, y_pred_proba_with_fs[:,1])"
   ]
  },
  {
   "cell_type": "markdown",
   "metadata": {},
   "source": [
    "**AUC dropped ~2% by using dataset post RFE**"
   ]
  },
  {
   "cell_type": "markdown",
   "metadata": {},
   "source": [
    "---"
   ]
  },
  {
   "cell_type": "markdown",
   "metadata": {},
   "source": [
    "### DF of RFE important features (RFE rank=1)\n",
    "\n",
    "- The transform() method of RFE selects features that have a ranking=1 that is determined within the RFE fit() method\n",
    "- Within the pipeline, only those pre-selected features are sent to the ML model.\n",
    "- Below, we form a dataframe containing those RFE selected features"
   ]
  },
  {
   "cell_type": "code",
   "execution_count": null,
   "metadata": {},
   "outputs": [],
   "source": [
    "# Checking if RFE within the pipeline selected 32 features or not\n",
    "# Based on a individual run of RFE on df_train_tf"
   ]
  },
  {
   "cell_type": "code",
   "execution_count": null,
   "metadata": {},
   "outputs": [],
   "source": [
    "# Obtain the ranking of each feature passed to RFE\n",
    "\n",
    "pipe_with_fs.steps[1][1].ranking_"
   ]
  },
  {
   "cell_type": "code",
   "execution_count": null,
   "metadata": {},
   "outputs": [],
   "source": [
    "# Get column numbers of features that have a rank=1\n",
    "\n",
    "idx_with_rank1 = []\n",
    "for idx, rank in enumerate(pipe_with_fs.steps[1][1].ranking_):\n",
    "    if rank == 1:\n",
    "        idx_with_rank1.append(idx)\n",
    "\n",
    "len(idx_with_rank1)"
   ]
  },
  {
   "cell_type": "code",
   "execution_count": null,
   "metadata": {},
   "outputs": [],
   "source": [
    "# Filter X_train_tf dataframe to contain only RFE selected features\n",
    "\n",
    "X_train_tf_rfe_selected = X_train_tf.iloc[:, idx_with_rank1]\n",
    "X_train_tf_rfe_selected.head()"
   ]
  },
  {
   "cell_type": "markdown",
   "metadata": {},
   "source": [
    "---"
   ]
  },
  {
   "cell_type": "markdown",
   "metadata": {},
   "source": [
    "<p><a name=\"hyp\"></a></p>\n",
    "\n",
    "## Hyperparameter Tuning"
   ]
  },
  {
   "cell_type": "code",
   "execution_count": null,
   "metadata": {},
   "outputs": [],
   "source": [
    "params = {}\n",
    "params['logisticregression__C'] = [0.1, 1, 10, 100]\n",
    "params['logisticregression__solver'] = ['liblinear'] #['lbfgs', 'liblinear']\n",
    "params['logisticregression__max_iter'] = [100,1000,10000]\n",
    "params"
   ]
  },
  {
   "cell_type": "code",
   "execution_count": null,
   "metadata": {
    "scrolled": false
   },
   "outputs": [],
   "source": [
    "grid = GridSearchCV(pipe, params, cv=5, scoring='accuracy')\n",
    "grid.fit(X_train, y_train);"
   ]
  },
  {
   "cell_type": "code",
   "execution_count": null,
   "metadata": {},
   "outputs": [],
   "source": [
    "# pd.DataFrame(grid.cv_results_).sort_values('rank_test_score').head()"
   ]
  },
  {
   "cell_type": "code",
   "execution_count": null,
   "metadata": {},
   "outputs": [],
   "source": [
    "# Best score and parameters\n",
    "grid.best_score_"
   ]
  },
  {
   "cell_type": "code",
   "execution_count": null,
   "metadata": {},
   "outputs": [],
   "source": [
    "grid.best_params_"
   ]
  },
  {
   "cell_type": "code",
   "execution_count": null,
   "metadata": {},
   "outputs": [],
   "source": [
    "# grid.best_estimator_"
   ]
  },
  {
   "cell_type": "code",
   "execution_count": null,
   "metadata": {},
   "outputs": [],
   "source": [
    "\n",
    "# The above grid search needs to be there for other pipes and other dfs\n",
    "\n",
    "\n",
    "\n",
    "\n"
   ]
  },
  {
   "cell_type": "code",
   "execution_count": null,
   "metadata": {},
   "outputs": [],
   "source": [
    "grid_best_estimator = grid.best_estimator_\n",
    "grid_best_estimator"
   ]
  },
  {
   "cell_type": "code",
   "execution_count": null,
   "metadata": {},
   "outputs": [],
   "source": [
    "grid_best_estimator.fit(X_train, y_train);"
   ]
  },
  {
   "cell_type": "code",
   "execution_count": null,
   "metadata": {},
   "outputs": [],
   "source": [
    "y_pred_best = grid_best_estimator.predict(X_test)\n",
    "y_pred_best"
   ]
  },
  {
   "cell_type": "code",
   "execution_count": null,
   "metadata": {},
   "outputs": [],
   "source": [
    "confusion_matrix(y_test, y_pred_best)"
   ]
  },
  {
   "cell_type": "code",
   "execution_count": null,
   "metadata": {},
   "outputs": [],
   "source": [
    "np.unique(y_test, return_counts=True)"
   ]
  },
  {
   "cell_type": "markdown",
   "metadata": {},
   "source": [
    "---"
   ]
  },
  {
   "cell_type": "markdown",
   "metadata": {},
   "source": [
    "### Feature Selection-2"
   ]
  },
  {
   "cell_type": "code",
   "execution_count": null,
   "metadata": {},
   "outputs": [],
   "source": [
    "bestk = SelectKBest(score_func=chi2, k='all')\n",
    "bestk"
   ]
  },
  {
   "cell_type": "code",
   "execution_count": null,
   "metadata": {},
   "outputs": [],
   "source": [
    "bestk.fit(X_train_tf, y_train)"
   ]
  },
  {
   "cell_type": "code",
   "execution_count": null,
   "metadata": {},
   "outputs": [],
   "source": [
    "idx_with_pval_less_005 = []\n",
    "for idx, pval in enumerate(bestk.pvalues_):\n",
    "    if pval < 0.05:\n",
    "        idx_with_pval_less_005.append(idx)\n",
    "\n",
    "len(idx_with_pval_less_005)"
   ]
  },
  {
   "cell_type": "code",
   "execution_count": null,
   "metadata": {},
   "outputs": [],
   "source": [
    "# Filter X_train_tf dataframe to contain only statistically significant features\n",
    "# Note: This is a univariate selection so its only comparing individual feature\n",
    "# with the target.\n",
    "\n",
    "X_train_tf_chi2_selected = X_train_tf.iloc[:, idx_with_pval_less_005]\n",
    "X_train_tf_chi2_selected.head()"
   ]
  },
  {
   "cell_type": "code",
   "execution_count": null,
   "metadata": {},
   "outputs": [],
   "source": [
    "# All the preselected features for feature selection seem important based on\n",
    "# their low p-values (<0.05)\n",
    "pd.DataFrame(zip(X_train_tf, bestk.pvalues_), columns=['Features','pvalues'])"
   ]
  },
  {
   "cell_type": "code",
   "execution_count": null,
   "metadata": {},
   "outputs": [],
   "source": [
    "# grid_best_estimator.fit(X_train_tf_chi2_selected, y_train)"
   ]
  },
  {
   "cell_type": "code",
   "execution_count": null,
   "metadata": {},
   "outputs": [],
   "source": []
  },
  {
   "cell_type": "markdown",
   "metadata": {},
   "source": [
    "---"
   ]
  },
  {
   "cell_type": "code",
   "execution_count": null,
   "metadata": {},
   "outputs": [],
   "source": [
    "# See variable selection from Datacamp logistic regression\n",
    "\n",
    "\n",
    "\n",
    "\n",
    "\n",
    "\n"
   ]
  },
  {
   "cell_type": "markdown",
   "metadata": {},
   "source": [
    "---"
   ]
  },
  {
   "cell_type": "markdown",
   "metadata": {},
   "source": [
    "# Rough"
   ]
  },
  {
   "cell_type": "code",
   "execution_count": null,
   "metadata": {},
   "outputs": [],
   "source": []
  },
  {
   "cell_type": "code",
   "execution_count": null,
   "metadata": {},
   "outputs": [],
   "source": []
  },
  {
   "cell_type": "code",
   "execution_count": null,
   "metadata": {},
   "outputs": [],
   "source": []
  },
  {
   "cell_type": "code",
   "execution_count": null,
   "metadata": {},
   "outputs": [],
   "source": []
  },
  {
   "cell_type": "code",
   "execution_count": null,
   "metadata": {},
   "outputs": [],
   "source": []
  },
  {
   "cell_type": "markdown",
   "metadata": {},
   "source": [
    "---"
   ]
  }
 ],
 "metadata": {
  "kernelspec": {
   "display_name": "Python 3",
   "language": "python",
   "name": "python3"
  },
  "language_info": {
   "codemirror_mode": {
    "name": "ipython",
    "version": 3
   },
   "file_extension": ".py",
   "mimetype": "text/x-python",
   "name": "python",
   "nbconvert_exporter": "python",
   "pygments_lexer": "ipython3",
   "version": "3.7.4"
  }
 },
 "nbformat": 4,
 "nbformat_minor": 2
}
