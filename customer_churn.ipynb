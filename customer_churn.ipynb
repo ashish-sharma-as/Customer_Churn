{
 "cells": [
  {
   "cell_type": "markdown",
   "metadata": {},
   "source": [
    "# Customer Churn"
   ]
  },
  {
   "cell_type": "markdown",
   "metadata": {},
   "source": [
    "---"
   ]
  },
  {
   "cell_type": "markdown",
   "metadata": {},
   "source": [
    "## Contents\n",
    "\n",
    "- <a href=\"#import\">Import Libraries</a><br>\n",
    "- <a href=\"#data\">Import Data</a><br>\n",
    "- <a href=\"#3\">Creating 3-way Holdout data sets</a><br>\n",
    "- <a href=\"#eda\">Exploratory Data Analysis</a><br>\n",
    "- <a href=\"#prep\">Data Preprocessing</a><br>\n",
    "- <a href=\"#sel\">Feature Selection</a><br>\n",
    "- <a href=\"#engg\">Feature Engineering</a><br>\n",
    "- <a href=\"#hyp\">Hyperparameter Tuning</a><br>"
   ]
  },
  {
   "cell_type": "markdown",
   "metadata": {},
   "source": [
    "---"
   ]
  },
  {
   "cell_type": "markdown",
   "metadata": {},
   "source": [
    "<p><a name=\"import\"></a></p>\n",
    " \n",
    "## Import Modules"
   ]
  },
  {
   "cell_type": "code",
   "execution_count": 1,
   "metadata": {},
   "outputs": [],
   "source": [
    "# Standard Modules\n",
    "import numpy as np\n",
    "import pandas as pd\n",
    "import matplotlib.pyplot as plt\n",
    "%matplotlib inline\n",
    "import seaborn as sns\n",
    "\n",
    "# Model Selection\n",
    "from sklearn.model_selection import train_test_split\n",
    "from sklearn.model_selection import GridSearchCV\n",
    "\n",
    "# Preprocessing\n",
    "from sklearn.preprocessing import StandardScaler\n",
    "from sklearn.preprocessing import Normalizer\n",
    "from sklearn.preprocessing import OrdinalEncoder\n",
    "from sklearn.preprocessing import LabelEncoder\n",
    "from sklearn.preprocessing import OneHotEncoder\n",
    "from sklearn.impute import SimpleImputer\n",
    "\n",
    "# Compose\n",
    "from sklearn.compose import make_column_transformer\n",
    "\n",
    "# Classes for inheritance\n",
    "from sklearn.base import BaseEstimator, TransformerMixin\n",
    "\n",
    "# Pipeline\n",
    "from sklearn.pipeline import make_pipeline\n",
    "\n",
    "# ML Models\n",
    "from sklearn.linear_model import LogisticRegression\n",
    "\n",
    "# Metrics\n",
    "from sklearn.metrics import confusion_matrix\n",
    "from sklearn.metrics import accuracy_score\n",
    "from sklearn.metrics import precision_score\n",
    "from sklearn.metrics import recall_score\n",
    "from sklearn.metrics import f1_score\n",
    "from sklearn.metrics import classification_report\n",
    "from sklearn.metrics import roc_curve\n",
    "from sklearn.metrics import roc_auc_score\n",
    "\n",
    "# Feature Selection\n",
    "from sklearn.feature_selection import SelectKBest\n",
    "from sklearn.feature_selection import chi2\n",
    "from sklearn.feature_selection import RFE\n",
    "\n",
    "# Statistics\n",
    "from scipy.stats import chi2_contingency\n",
    "\n",
    "# Imbalance\n",
    "from imblearn.over_sampling import SMOTE\n",
    "from imblearn.pipeline import make_pipeline as imb_make_pipeline"
   ]
  },
  {
   "cell_type": "code",
   "execution_count": 2,
   "metadata": {},
   "outputs": [
    {
     "name": "stdout",
     "output_type": "stream",
     "text": [
      "\n",
      "System:\n",
      "    python: 3.7.4 (default, Aug 13 2019, 15:17:50)  [Clang 4.0.1 (tags/RELEASE_401/final)]\n",
      "executable: /opt/anaconda3/bin/python\n",
      "   machine: Darwin-19.6.0-x86_64-i386-64bit\n",
      "\n",
      "Python dependencies:\n",
      "          pip: 19.2.3\n",
      "   setuptools: 41.4.0\n",
      "      sklearn: 0.23.2\n",
      "        numpy: 1.17.2\n",
      "        scipy: 1.3.1\n",
      "       Cython: 0.29.13\n",
      "       pandas: 0.25.1\n",
      "   matplotlib: 3.2.2\n",
      "       joblib: 0.13.2\n",
      "threadpoolctl: 2.1.0\n",
      "\n",
      "Built with OpenMP: True\n"
     ]
    }
   ],
   "source": [
    "import sklearn\n",
    "sklearn.show_versions()"
   ]
  },
  {
   "cell_type": "markdown",
   "metadata": {},
   "source": [
    "---"
   ]
  },
  {
   "cell_type": "markdown",
   "metadata": {},
   "source": [
    "<p><a name=\"data\"></a></p>\n",
    "\n",
    "## Import Data"
   ]
  },
  {
   "cell_type": "code",
   "execution_count": 3,
   "metadata": {},
   "outputs": [],
   "source": [
    "# Read csv\n",
    "\n",
    "churn_data = pd.read_csv('./data/churn_data.csv')"
   ]
  },
  {
   "cell_type": "code",
   "execution_count": 4,
   "metadata": {},
   "outputs": [
    {
     "data": {
      "text/plain": [
       "(3333, 21)"
      ]
     },
     "execution_count": 4,
     "metadata": {},
     "output_type": "execute_result"
    }
   ],
   "source": [
    "churn_data.shape"
   ]
  },
  {
   "cell_type": "markdown",
   "metadata": {},
   "source": [
    "---"
   ]
  },
  {
   "cell_type": "markdown",
   "metadata": {},
   "source": [
    "<p><a name=\"3\"></a></p>\n",
    "\n",
    "## Creating a 3-way holdout dataset\n",
    "- Training & Validation data \n",
    "- Test (Unseen) data"
   ]
  },
  {
   "cell_type": "code",
   "execution_count": 5,
   "metadata": {},
   "outputs": [
    {
     "name": "stdout",
     "output_type": "stream",
     "text": [
      "Shape of X and y:\n",
      "\n",
      "(3333, 20) (3333,)\n"
     ]
    }
   ],
   "source": [
    "X_tmp = churn_data.drop(['Churn'], axis=1)\n",
    "y_tmp = churn_data['Churn']\n",
    "\n",
    "print('Shape of X and y:\\n')\n",
    "print(X_tmp.shape, y_tmp.shape)"
   ]
  },
  {
   "cell_type": "code",
   "execution_count": 6,
   "metadata": {},
   "outputs": [],
   "source": [
    "# Split data into training - validation and test (unseen) data\n",
    "\n",
    "X_train_val, X_unseen, y_train_val, y_unseen = train_test_split(X_tmp, y_tmp, test_size=0.2)"
   ]
  },
  {
   "cell_type": "code",
   "execution_count": 7,
   "metadata": {},
   "outputs": [
    {
     "name": "stdout",
     "output_type": "stream",
     "text": [
      "Shape of training & validation data:\n",
      "(2666, 20) (2666,)\n",
      "\n",
      " ----------------------------------------\n",
      "\n",
      "Shape of test(unseen) data:\n",
      "(667, 20) (667,)\n"
     ]
    }
   ],
   "source": [
    "print('Shape of training & validation data:')\n",
    "print(X_train_val.shape, y_train_val.shape)\n",
    "print('\\n','-'*40)\n",
    "print('\\nShape of test(unseen) data:')\n",
    "print(X_unseen.shape, y_unseen.shape)"
   ]
  },
  {
   "cell_type": "code",
   "execution_count": 8,
   "metadata": {},
   "outputs": [],
   "source": [
    "# Making a working copy of the training and validation data\n",
    "\n",
    "df = X_train_val.copy()"
   ]
  },
  {
   "cell_type": "code",
   "execution_count": 9,
   "metadata": {},
   "outputs": [],
   "source": [
    "# Adding churned feature back into dataset to understand properties\n",
    "# of churned v/s non-churned customers\n",
    "\n",
    "df['Churn'] = y_train_val"
   ]
  },
  {
   "cell_type": "markdown",
   "metadata": {},
   "source": [
    "**df = X_train_val + y_train_val**"
   ]
  },
  {
   "cell_type": "code",
   "execution_count": 10,
   "metadata": {},
   "outputs": [
    {
     "data": {
      "text/html": [
       "<div>\n",
       "<style scoped>\n",
       "    .dataframe tbody tr th:only-of-type {\n",
       "        vertical-align: middle;\n",
       "    }\n",
       "\n",
       "    .dataframe tbody tr th {\n",
       "        vertical-align: top;\n",
       "    }\n",
       "\n",
       "    .dataframe thead th {\n",
       "        text-align: right;\n",
       "    }\n",
       "</style>\n",
       "<table border=\"1\" class=\"dataframe\">\n",
       "  <thead>\n",
       "    <tr style=\"text-align: right;\">\n",
       "      <th></th>\n",
       "      <th>Account_Length</th>\n",
       "      <th>Vmail_Message</th>\n",
       "      <th>Day_Mins</th>\n",
       "      <th>Eve_Mins</th>\n",
       "      <th>Night_Mins</th>\n",
       "      <th>Intl_Mins</th>\n",
       "      <th>CustServ_Calls</th>\n",
       "      <th>Intl_Plan</th>\n",
       "      <th>Vmail_Plan</th>\n",
       "      <th>Day_Calls</th>\n",
       "      <th>...</th>\n",
       "      <th>Eve_Calls</th>\n",
       "      <th>Eve_Charge</th>\n",
       "      <th>Night_Calls</th>\n",
       "      <th>Night_Charge</th>\n",
       "      <th>Intl_Calls</th>\n",
       "      <th>Intl_Charge</th>\n",
       "      <th>State</th>\n",
       "      <th>Area_Code</th>\n",
       "      <th>Phone</th>\n",
       "      <th>Churn</th>\n",
       "    </tr>\n",
       "  </thead>\n",
       "  <tbody>\n",
       "    <tr>\n",
       "      <td>2799</td>\n",
       "      <td>70</td>\n",
       "      <td>0</td>\n",
       "      <td>214.8</td>\n",
       "      <td>131.0</td>\n",
       "      <td>216.9</td>\n",
       "      <td>9.4</td>\n",
       "      <td>3</td>\n",
       "      <td>no</td>\n",
       "      <td>no</td>\n",
       "      <td>87</td>\n",
       "      <td>...</td>\n",
       "      <td>114</td>\n",
       "      <td>11.14</td>\n",
       "      <td>104</td>\n",
       "      <td>9.76</td>\n",
       "      <td>3</td>\n",
       "      <td>2.54</td>\n",
       "      <td>WV</td>\n",
       "      <td>415</td>\n",
       "      <td>402-2072</td>\n",
       "      <td>no</td>\n",
       "    </tr>\n",
       "    <tr>\n",
       "      <td>2321</td>\n",
       "      <td>153</td>\n",
       "      <td>0</td>\n",
       "      <td>154.6</td>\n",
       "      <td>263.0</td>\n",
       "      <td>367.7</td>\n",
       "      <td>15.5</td>\n",
       "      <td>1</td>\n",
       "      <td>no</td>\n",
       "      <td>no</td>\n",
       "      <td>56</td>\n",
       "      <td>...</td>\n",
       "      <td>84</td>\n",
       "      <td>22.36</td>\n",
       "      <td>89</td>\n",
       "      <td>16.55</td>\n",
       "      <td>2</td>\n",
       "      <td>4.19</td>\n",
       "      <td>AR</td>\n",
       "      <td>408</td>\n",
       "      <td>339-3636</td>\n",
       "      <td>no</td>\n",
       "    </tr>\n",
       "    <tr>\n",
       "      <td>2614</td>\n",
       "      <td>125</td>\n",
       "      <td>0</td>\n",
       "      <td>298.4</td>\n",
       "      <td>270.5</td>\n",
       "      <td>107.3</td>\n",
       "      <td>12.2</td>\n",
       "      <td>0</td>\n",
       "      <td>yes</td>\n",
       "      <td>no</td>\n",
       "      <td>78</td>\n",
       "      <td>...</td>\n",
       "      <td>142</td>\n",
       "      <td>22.99</td>\n",
       "      <td>84</td>\n",
       "      <td>4.83</td>\n",
       "      <td>2</td>\n",
       "      <td>3.29</td>\n",
       "      <td>NH</td>\n",
       "      <td>415</td>\n",
       "      <td>357-1938</td>\n",
       "      <td>yes</td>\n",
       "    </tr>\n",
       "    <tr>\n",
       "      <td>16</td>\n",
       "      <td>85</td>\n",
       "      <td>27</td>\n",
       "      <td>196.4</td>\n",
       "      <td>280.9</td>\n",
       "      <td>89.3</td>\n",
       "      <td>13.8</td>\n",
       "      <td>1</td>\n",
       "      <td>no</td>\n",
       "      <td>yes</td>\n",
       "      <td>139</td>\n",
       "      <td>...</td>\n",
       "      <td>90</td>\n",
       "      <td>23.88</td>\n",
       "      <td>75</td>\n",
       "      <td>4.02</td>\n",
       "      <td>4</td>\n",
       "      <td>3.73</td>\n",
       "      <td>ID</td>\n",
       "      <td>408</td>\n",
       "      <td>350-8884</td>\n",
       "      <td>no</td>\n",
       "    </tr>\n",
       "    <tr>\n",
       "      <td>1276</td>\n",
       "      <td>51</td>\n",
       "      <td>0</td>\n",
       "      <td>229.7</td>\n",
       "      <td>336.0</td>\n",
       "      <td>192.8</td>\n",
       "      <td>9.6</td>\n",
       "      <td>1</td>\n",
       "      <td>no</td>\n",
       "      <td>no</td>\n",
       "      <td>129</td>\n",
       "      <td>...</td>\n",
       "      <td>104</td>\n",
       "      <td>28.56</td>\n",
       "      <td>128</td>\n",
       "      <td>8.68</td>\n",
       "      <td>1</td>\n",
       "      <td>2.59</td>\n",
       "      <td>MI</td>\n",
       "      <td>415</td>\n",
       "      <td>373-1448</td>\n",
       "      <td>yes</td>\n",
       "    </tr>\n",
       "  </tbody>\n",
       "</table>\n",
       "<p>5 rows × 21 columns</p>\n",
       "</div>"
      ],
      "text/plain": [
       "      Account_Length  Vmail_Message  Day_Mins  Eve_Mins  Night_Mins  \\\n",
       "2799              70              0     214.8     131.0       216.9   \n",
       "2321             153              0     154.6     263.0       367.7   \n",
       "2614             125              0     298.4     270.5       107.3   \n",
       "16                85             27     196.4     280.9        89.3   \n",
       "1276              51              0     229.7     336.0       192.8   \n",
       "\n",
       "      Intl_Mins  CustServ_Calls Intl_Plan Vmail_Plan  Day_Calls  ...  \\\n",
       "2799        9.4               3        no         no         87  ...   \n",
       "2321       15.5               1        no         no         56  ...   \n",
       "2614       12.2               0       yes         no         78  ...   \n",
       "16         13.8               1        no        yes        139  ...   \n",
       "1276        9.6               1        no         no        129  ...   \n",
       "\n",
       "      Eve_Calls  Eve_Charge  Night_Calls  Night_Charge  Intl_Calls  \\\n",
       "2799        114       11.14          104          9.76           3   \n",
       "2321         84       22.36           89         16.55           2   \n",
       "2614        142       22.99           84          4.83           2   \n",
       "16           90       23.88           75          4.02           4   \n",
       "1276        104       28.56          128          8.68           1   \n",
       "\n",
       "      Intl_Charge  State Area_Code     Phone Churn  \n",
       "2799         2.54     WV       415  402-2072    no  \n",
       "2321         4.19     AR       408  339-3636    no  \n",
       "2614         3.29     NH       415  357-1938   yes  \n",
       "16           3.73     ID       408  350-8884    no  \n",
       "1276         2.59     MI       415  373-1448   yes  \n",
       "\n",
       "[5 rows x 21 columns]"
      ]
     },
     "execution_count": 10,
     "metadata": {},
     "output_type": "execute_result"
    }
   ],
   "source": [
    "df.head()"
   ]
  },
  {
   "cell_type": "markdown",
   "metadata": {},
   "source": [
    "---"
   ]
  },
  {
   "cell_type": "markdown",
   "metadata": {},
   "source": [
    "<p><a name=\"eda\"></a></p>\n",
    "\n",
    "## Exploratory Data Analysis"
   ]
  },
  {
   "cell_type": "code",
   "execution_count": 11,
   "metadata": {},
   "outputs": [],
   "source": [
    "# Setting seaborn style for visualizations\n",
    "\n",
    "sns.set()"
   ]
  },
  {
   "cell_type": "code",
   "execution_count": 12,
   "metadata": {},
   "outputs": [
    {
     "name": "stdout",
     "output_type": "stream",
     "text": [
      "<class 'pandas.core.frame.DataFrame'>\n",
      "Int64Index: 2666 entries, 2799 to 2582\n",
      "Data columns (total 21 columns):\n",
      "Account_Length    2666 non-null int64\n",
      "Vmail_Message     2666 non-null int64\n",
      "Day_Mins          2666 non-null float64\n",
      "Eve_Mins          2666 non-null float64\n",
      "Night_Mins        2666 non-null float64\n",
      "Intl_Mins         2666 non-null float64\n",
      "CustServ_Calls    2666 non-null int64\n",
      "Intl_Plan         2666 non-null object\n",
      "Vmail_Plan        2666 non-null object\n",
      "Day_Calls         2666 non-null int64\n",
      "Day_Charge        2666 non-null float64\n",
      "Eve_Calls         2666 non-null int64\n",
      "Eve_Charge        2666 non-null float64\n",
      "Night_Calls       2666 non-null int64\n",
      "Night_Charge      2666 non-null float64\n",
      "Intl_Calls        2666 non-null int64\n",
      "Intl_Charge       2666 non-null float64\n",
      "State             2666 non-null object\n",
      "Area_Code         2666 non-null int64\n",
      "Phone             2666 non-null object\n",
      "Churn             2666 non-null object\n",
      "dtypes: float64(8), int64(8), object(5)\n",
      "memory usage: 458.2+ KB\n"
     ]
    }
   ],
   "source": [
    "df.info()"
   ]
  },
  {
   "cell_type": "code",
   "execution_count": 13,
   "metadata": {},
   "outputs": [
    {
     "data": {
      "image/png": "[encoded data removed]",
      "text/plain": [
       "<Figure size 432x288 with 1 Axes>"
      ]
     },
     "metadata": {},
     "output_type": "display_data"
    }
   ],
   "source": [
    "# Customer Churn as a % \n",
    "\n",
    "df['Churn'].value_counts().plot(kind='pie'\n",
    "                                ,colors=['lightgrey','red']\n",
    "                                ,wedgeprops={'edgecolor': 'black'}\n",
    "                                ,explode=[0,0.1]\n",
    "                                ,autopct='%1.1f%%'\n",
    "                                ,startangle=90)\n",
    "plt.title('Customer Churn % (Training-Validation Set)', size=15, fontweight='bold')\n",
    "plt.show()"
   ]
  },
  {
   "cell_type": "code",
   "execution_count": 14,
   "metadata": {},
   "outputs": [
    {
     "data": {
      "image/png": "[encoded data removed]",
      "text/plain": [
       "<Figure size 432x288 with 1 Axes>"
      ]
     },
     "metadata": {},
     "output_type": "display_data"
    }
   ],
   "source": [
    "# Number of churned customers\n",
    "\n",
    "color = ['green', 'red']\n",
    "\n",
    "df['Churn'].value_counts().plot(kind='bar', alpha=0.7, color=color, edgecolor='black')\n",
    "\n",
    "plt.title('Churned v/s non-churned customer count \\n (Training & Validation Set)', size=15, fontweight='bold')\n",
    "plt.ylabel('Customer Count')\n",
    "plt.xlabel('Churn Indicator')\n",
    "\n",
    "plt.margins(0.3)\n",
    "\n",
    "for x,y in enumerate(df['Churn'].value_counts()):\n",
    "\n",
    "    label = \"{:.0f}\".format(y)\n",
    "\n",
    "    plt.annotate(label\n",
    "                 ,(x,y)\n",
    "                 ,textcoords=\"offset points\"\n",
    "                 ,xytext=(0,10)\n",
    "                 ,ha='center'\n",
    "                ) \n",
    "plt.show()"
   ]
  },
  {
   "cell_type": "code",
   "execution_count": 15,
   "metadata": {},
   "outputs": [
    {
     "data": {
      "text/html": [
       "<div>\n",
       "<style scoped>\n",
       "    .dataframe tbody tr th:only-of-type {\n",
       "        vertical-align: middle;\n",
       "    }\n",
       "\n",
       "    .dataframe tbody tr th {\n",
       "        vertical-align: top;\n",
       "    }\n",
       "\n",
       "    .dataframe thead th {\n",
       "        text-align: right;\n",
       "    }\n",
       "</style>\n",
       "<table border=\"1\" class=\"dataframe\">\n",
       "  <thead>\n",
       "    <tr style=\"text-align: right;\">\n",
       "      <th></th>\n",
       "      <th>CustServ_Calls</th>\n",
       "      <th>Vmail_Message</th>\n",
       "    </tr>\n",
       "    <tr>\n",
       "      <th>Churn</th>\n",
       "      <th></th>\n",
       "      <th></th>\n",
       "    </tr>\n",
       "  </thead>\n",
       "  <tbody>\n",
       "    <tr>\n",
       "      <td>no</td>\n",
       "      <td>1.442451</td>\n",
       "      <td>8.679212</td>\n",
       "    </tr>\n",
       "    <tr>\n",
       "      <td>yes</td>\n",
       "      <td>2.223097</td>\n",
       "      <td>5.270341</td>\n",
       "    </tr>\n",
       "  </tbody>\n",
       "</table>\n",
       "</div>"
      ],
      "text/plain": [
       "       CustServ_Calls  Vmail_Message\n",
       "Churn                               \n",
       "no           1.442451       8.679212\n",
       "yes          2.223097       5.270341"
      ]
     },
     "execution_count": 15,
     "metadata": {},
     "output_type": "execute_result"
    }
   ],
   "source": [
    "df.groupby('Churn')[['CustServ_Calls', 'Vmail_Message']].mean()"
   ]
  },
  {
   "cell_type": "code",
   "execution_count": 16,
   "metadata": {},
   "outputs": [
    {
     "data": {
      "text/plain": [
       "<matplotlib.axes._subplots.AxesSubplot at 0x7fda008fc5d0>"
      ]
     },
     "execution_count": 16,
     "metadata": {},
     "output_type": "execute_result"
    },
    {
     "data": {
      "image/png": "[encoded data removed]",
      "text/plain": [
       "<Figure size 432x288 with 1 Axes>"
      ]
     },
     "metadata": {},
     "output_type": "display_data"
    }
   ],
   "source": [
    "# Analyzing churned v/s non-churned customer differences\n",
    "\n",
    "df.groupby('Churn')[['CustServ_Calls', 'Vmail_Message']].mean().plot(kind='bar')"
   ]
  },
  {
   "cell_type": "code",
   "execution_count": 17,
   "metadata": {},
   "outputs": [
    {
     "data": {
      "text/html": [
       "<div>\n",
       "<style scoped>\n",
       "    .dataframe tbody tr th:only-of-type {\n",
       "        vertical-align: middle;\n",
       "    }\n",
       "\n",
       "    .dataframe tbody tr th {\n",
       "        vertical-align: top;\n",
       "    }\n",
       "\n",
       "    .dataframe thead th {\n",
       "        text-align: right;\n",
       "    }\n",
       "</style>\n",
       "<table border=\"1\" class=\"dataframe\">\n",
       "  <thead>\n",
       "    <tr style=\"text-align: right;\">\n",
       "      <th></th>\n",
       "      <th>CustServ_Calls</th>\n",
       "      <th>Vmail_Message</th>\n",
       "    </tr>\n",
       "    <tr>\n",
       "      <th>Churn</th>\n",
       "      <th></th>\n",
       "      <th></th>\n",
       "    </tr>\n",
       "  </thead>\n",
       "  <tbody>\n",
       "    <tr>\n",
       "      <td>no</td>\n",
       "      <td>1.171704</td>\n",
       "      <td>13.964112</td>\n",
       "    </tr>\n",
       "    <tr>\n",
       "      <td>yes</td>\n",
       "      <td>1.813717</td>\n",
       "      <td>12.090574</td>\n",
       "    </tr>\n",
       "  </tbody>\n",
       "</table>\n",
       "</div>"
      ],
      "text/plain": [
       "       CustServ_Calls  Vmail_Message\n",
       "Churn                               \n",
       "no           1.171704      13.964112\n",
       "yes          1.813717      12.090574"
      ]
     },
     "execution_count": 17,
     "metadata": {},
     "output_type": "execute_result"
    }
   ],
   "source": [
    "df.groupby('Churn')[['CustServ_Calls', 'Vmail_Message']].std()"
   ]
  },
  {
   "cell_type": "code",
   "execution_count": 18,
   "metadata": {},
   "outputs": [],
   "source": [
    "# TO DO - make it mardown \n",
    "\n",
    "\n",
    "\n",
    "\n",
    "# Insights\n",
    "    # It can be seen above that Churners place more customer \n",
    "    # service calls than non-churners, and leave fewer voice\n",
    "    # mail messages."
   ]
  },
  {
   "cell_type": "code",
   "execution_count": 19,
   "metadata": {},
   "outputs": [
    {
     "data": {
      "text/plain": [
       "State  Churn\n",
       "AL     no       59\n",
       "       yes       5\n",
       "CA     no       22\n",
       "       yes       7\n",
       "CO     no       43\n",
       "       yes       8\n",
       "Name: Churn, dtype: int64"
      ]
     },
     "execution_count": 19,
     "metadata": {},
     "output_type": "execute_result"
    }
   ],
   "source": [
    "# Veiwing churners and non-churners by state\n",
    "\n",
    "df.groupby('State')['Churn'].value_counts()[['AL','CA','CO']]"
   ]
  },
  {
   "cell_type": "code",
   "execution_count": 20,
   "metadata": {},
   "outputs": [
    {
     "data": {
      "text/plain": [
       "<matplotlib.axes._subplots.AxesSubplot at 0x7fda008b70d0>"
      ]
     },
     "execution_count": 20,
     "metadata": {},
     "output_type": "execute_result"
    },
    {
     "data": {
      "image/png": "[encoded data removed]",
      "text/plain": [
       "<Figure size 432x288 with 1 Axes>"
      ]
     },
     "metadata": {},
     "output_type": "display_data"
    }
   ],
   "source": [
    "# TO DO - multiple bar to see churn and non-churn across different states\n",
    "\n",
    "\n",
    "\n",
    "\n",
    "\n",
    "df.groupby('State')['Churn'].value_counts().plot(kind='bar')"
   ]
  },
  {
   "cell_type": "code",
   "execution_count": 21,
   "metadata": {},
   "outputs": [
    {
     "data": {
      "image/png": "[encoded data removed]",
      "text/plain": [
       "<Figure size 432x288 with 1 Axes>"
      ]
     },
     "metadata": {},
     "output_type": "display_data"
    }
   ],
   "source": [
    "# Distribution of \"Account_Length\" feature\n",
    "\n",
    "# plt.hist(df['Account_Length'], bins=25)\n",
    "sns.distplot(df['Account_Length'])\n",
    "plt.show()"
   ]
  },
  {
   "cell_type": "code",
   "execution_count": 22,
   "metadata": {},
   "outputs": [],
   "source": [
    "# Insights\n",
    "    # Illustrates the duration that a customer stays with the provider\n",
    "    # is normally distribution (as what to expect in the real world)"
   ]
  },
  {
   "cell_type": "code",
   "execution_count": 23,
   "metadata": {},
   "outputs": [
    {
     "data": {
      "image/png": "[encoded data removed]",
      "text/plain": [
       "<Figure size 432x288 with 1 Axes>"
      ]
     },
     "metadata": {},
     "output_type": "display_data"
    }
   ],
   "source": [
    "# Examining differences between churners and non-churners\n",
    "# w.r.t their account lengths\n",
    "\n",
    "sns.boxplot(x='Churn', \n",
    "            y='Account_Length', \n",
    "            data=df)\n",
    "\n",
    "plt.title('Differences in Account Lengths', size=13)\n",
    "plt.show()"
   ]
  },
  {
   "cell_type": "code",
   "execution_count": 24,
   "metadata": {},
   "outputs": [],
   "source": [
    "# There are no notable differences in account lengths for\n",
    "# churners v/s non-churners"
   ]
  },
  {
   "cell_type": "code",
   "execution_count": 25,
   "metadata": {},
   "outputs": [
    {
     "data": {
      "image/png": "[encoded data removed]",
      "text/plain": [
       "<Figure size 432x288 with 1 Axes>"
      ]
     },
     "metadata": {},
     "output_type": "display_data"
    }
   ],
   "source": [
    "# Checking if having an international plan matters\n",
    "\n",
    "sns.boxplot(x='Churn', \n",
    "            y='Account_Length', \n",
    "            data=df,\n",
    "            hue='Intl_Plan')\n",
    "\n",
    "plt.title('Differences in Account Lengths', size=13)\n",
    "plt.show()"
   ]
  },
  {
   "cell_type": "code",
   "execution_count": 26,
   "metadata": {},
   "outputs": [],
   "source": [
    "# Insights\n",
    "    # No noticeable difference amoung customers with or\n",
    "    # without an international plan"
   ]
  },
  {
   "cell_type": "code",
   "execution_count": 27,
   "metadata": {},
   "outputs": [
    {
     "name": "stderr",
     "output_type": "stream",
     "text": [
      "/opt/anaconda3/lib/python3.7/site-packages/pandas/plotting/_matplotlib/tools.py:307: MatplotlibDeprecationWarning: \n",
      "The rowNum attribute was deprecated in Matplotlib 3.2 and will be removed two minor releases later. Use ax.get_subplotspec().rowspan.start instead.\n",
      "  layout[ax.rowNum, ax.colNum] = ax.get_visible()\n",
      "/opt/anaconda3/lib/python3.7/site-packages/pandas/plotting/_matplotlib/tools.py:307: MatplotlibDeprecationWarning: \n",
      "The colNum attribute was deprecated in Matplotlib 3.2 and will be removed two minor releases later. Use ax.get_subplotspec().colspan.start instead.\n",
      "  layout[ax.rowNum, ax.colNum] = ax.get_visible()\n",
      "/opt/anaconda3/lib/python3.7/site-packages/pandas/plotting/_matplotlib/tools.py:313: MatplotlibDeprecationWarning: \n",
      "The rowNum attribute was deprecated in Matplotlib 3.2 and will be removed two minor releases later. Use ax.get_subplotspec().rowspan.start instead.\n",
      "  if not layout[ax.rowNum + 1, ax.colNum]:\n",
      "/opt/anaconda3/lib/python3.7/site-packages/pandas/plotting/_matplotlib/tools.py:313: MatplotlibDeprecationWarning: \n",
      "The colNum attribute was deprecated in Matplotlib 3.2 and will be removed two minor releases later. Use ax.get_subplotspec().colspan.start instead.\n",
      "  if not layout[ax.rowNum + 1, ax.colNum]:\n"
     ]
    },
    {
     "data": {
      "image/png": "[encoded data removed]",
      "text/plain": [
       "<Figure size 1080x720 with 6 Axes>"
      ]
     },
     "metadata": {},
     "output_type": "display_data"
    }
   ],
   "source": [
    "# Checking distribution of select features\n",
    "\n",
    "df[['Account_Length', 'Day_Mins', 'Eve_Mins', 'Night_Mins', 'Intl_Mins']].hist(bins=25, figsize=(15,10))\n",
    "plt.show()"
   ]
  },
  {
   "cell_type": "code",
   "execution_count": 28,
   "metadata": {},
   "outputs": [
    {
     "data": {
      "image/png": "[encoded data removed]",
      "text/plain": [
       "<Figure size 432x288 with 1 Axes>"
      ]
     },
     "metadata": {},
     "output_type": "display_data"
    }
   ],
   "source": [
    "# Churn difference based on Customer Service Calls placed\n",
    "\n",
    "sns.boxplot(x = 'Churn',\n",
    "            y = 'CustServ_Calls',\n",
    "            data = df)\n",
    "\n",
    "plt.title('Churners v/s Non-Churners based on Customer Services Calls')\n",
    "plt.show()"
   ]
  },
  {
   "cell_type": "code",
   "execution_count": 29,
   "metadata": {},
   "outputs": [
    {
     "data": {
      "image/png": "[encoded data removed]",
      "text/plain": [
       "<Figure size 432x288 with 1 Axes>"
      ]
     },
     "metadata": {},
     "output_type": "display_data"
    },
    {
     "data": {
      "image/png": "[encoded data removed]",
      "text/plain": [
       "<Figure size 432x288 with 1 Axes>"
      ]
     },
     "metadata": {},
     "output_type": "display_data"
    }
   ],
   "source": [
    "features = ['Account_Length', 'CustServ_Calls'] \n",
    "\n",
    "for feature in features:\n",
    "    fig, axs = plt.subplots()\n",
    "    fig = sns.boxplot(x = 'Churn',\n",
    "                      y = feature,\n",
    "                      data = df)\n",
    "    plt.title('Churners v/s Non-Churners based on {}'.format(feature))\n",
    "\n",
    "plt.show()"
   ]
  },
  {
   "cell_type": "code",
   "execution_count": 30,
   "metadata": {},
   "outputs": [
    {
     "data": {
      "image/png": "[encoded data removed]",
      "text/plain": [
       "<Figure size 432x288 with 1 Axes>"
      ]
     },
     "metadata": {},
     "output_type": "display_data"
    }
   ],
   "source": [
    "# Churn difference based on Customer Service Calls placed\n",
    "# and being on an International Plan\n",
    "\n",
    "sns.boxplot(x = 'Churn',\n",
    "            y = 'CustServ_Calls',\n",
    "            data = df,\n",
    "            sym='', # removing outliers from plot\n",
    "            hue='Intl_Plan') \n",
    "\n",
    "plt.title('Churners v/s Non-Churners based on Customer Services Calls & Intl Plan')\n",
    "plt.show()"
   ]
  },
  {
   "cell_type": "code",
   "execution_count": 31,
   "metadata": {},
   "outputs": [],
   "source": [
    "# Insights:\n",
    "    # Customers who leave more customer service calls churn more\n",
    "    # unless they also have an international plan"
   ]
  },
  {
   "cell_type": "code",
   "execution_count": 32,
   "metadata": {},
   "outputs": [
    {
     "data": {
      "image/png": "[encoded data removed]",
      "text/plain": [
       "<Figure size 720x432 with 2 Axes>"
      ]
     },
     "metadata": {},
     "output_type": "display_data"
    }
   ],
   "source": [
    "plt.figure(figsize=(10,6))\n",
    "mask = np.zeros_like(df.corr())\n",
    "mask[np.triu_indices_from(mask)] = 1\n",
    "sns.heatmap(df.corr(), mask= mask, linewidth=0.7, cmap='RdYlGn') \n",
    "plt.show()"
   ]
  },
  {
   "cell_type": "code",
   "execution_count": 33,
   "metadata": {},
   "outputs": [],
   "source": [
    "# Since charges and mins are strongly correlated, we can either remove\n",
    "# one of them, or feature engineer them to create 4 new charges_min\n",
    "# and drop the charges and min columns subsequently."
   ]
  },
  {
   "cell_type": "markdown",
   "metadata": {},
   "source": [
    "---"
   ]
  },
  {
   "cell_type": "markdown",
   "metadata": {},
   "source": [
    "<p><a name=\"prep\"></a></p>\n",
    "\n",
    "## Data Preprocessing\n",
    "\n",
    "- Check missing values\n",
    "- Checking distribution of features\n",
    "- Encoding Categorical variables\n",
    "- Feature Scaling via Standardization\n",
    "- Feature Selection and Engineering"
   ]
  },
  {
   "cell_type": "markdown",
   "metadata": {},
   "source": [
    "### Missing Values"
   ]
  },
  {
   "cell_type": "code",
   "execution_count": 34,
   "metadata": {},
   "outputs": [
    {
     "data": {
      "text/plain": [
       "Series([], dtype: int64)"
      ]
     },
     "execution_count": 34,
     "metadata": {},
     "output_type": "execute_result"
    }
   ],
   "source": [
    "# Missing values check\n",
    "\n",
    "missing = df.isnull().sum()\n",
    "missing[missing > 0]"
   ]
  },
  {
   "cell_type": "code",
   "execution_count": 35,
   "metadata": {},
   "outputs": [
    {
     "name": "stdout",
     "output_type": "stream",
     "text": [
      "<class 'pandas.core.frame.DataFrame'>\n",
      "Int64Index: 2666 entries, 2799 to 2582\n",
      "Data columns (total 21 columns):\n",
      "Account_Length    2666 non-null int64\n",
      "Vmail_Message     2666 non-null int64\n",
      "Day_Mins          2666 non-null float64\n",
      "Eve_Mins          2666 non-null float64\n",
      "Night_Mins        2666 non-null float64\n",
      "Intl_Mins         2666 non-null float64\n",
      "CustServ_Calls    2666 non-null int64\n",
      "Intl_Plan         2666 non-null object\n",
      "Vmail_Plan        2666 non-null object\n",
      "Day_Calls         2666 non-null int64\n",
      "Day_Charge        2666 non-null float64\n",
      "Eve_Calls         2666 non-null int64\n",
      "Eve_Charge        2666 non-null float64\n",
      "Night_Calls       2666 non-null int64\n",
      "Night_Charge      2666 non-null float64\n",
      "Intl_Calls        2666 non-null int64\n",
      "Intl_Charge       2666 non-null float64\n",
      "State             2666 non-null object\n",
      "Area_Code         2666 non-null int64\n",
      "Phone             2666 non-null object\n",
      "Churn             2666 non-null object\n",
      "dtypes: float64(8), int64(8), object(5)\n",
      "memory usage: 538.2+ KB\n"
     ]
    }
   ],
   "source": [
    "# Examining data types \n",
    "\n",
    "# df.dtypes\n",
    "df.info()"
   ]
  },
  {
   "cell_type": "code",
   "execution_count": 36,
   "metadata": {},
   "outputs": [
    {
     "data": {
      "text/plain": [
       "Account_Length     210\n",
       "Vmail_Message       45\n",
       "Day_Mins          1488\n",
       "Eve_Mins          1439\n",
       "Night_Mins        1441\n",
       "Intl_Mins          156\n",
       "CustServ_Calls      10\n",
       "Intl_Plan            2\n",
       "Vmail_Plan           2\n",
       "Day_Calls          117\n",
       "Day_Charge        1488\n",
       "Eve_Calls          117\n",
       "Eve_Charge        1291\n",
       "Night_Calls        117\n",
       "Night_Charge       874\n",
       "Intl_Calls          19\n",
       "Intl_Charge        156\n",
       "State               51\n",
       "Area_Code            3\n",
       "Phone             2666\n",
       "Churn                2\n",
       "dtype: int64"
      ]
     },
     "execution_count": 36,
     "metadata": {},
     "output_type": "execute_result"
    }
   ],
   "source": [
    "#@ Unique values per column. \n",
    "#@@@@ use this to form continuous and discrete numerical variables\n",
    "\n",
    "df.nunique()"
   ]
  },
  {
   "cell_type": "code",
   "execution_count": 37,
   "metadata": {},
   "outputs": [],
   "source": [
    "# Forming list of columns that are numerical and categorical\n",
    "\n",
    "features_num = X_train_val.select_dtypes(include=['int64', 'float64']).columns\n",
    "features_cat = X_train_val.select_dtypes(include=['object']).columns"
   ]
  },
  {
   "cell_type": "code",
   "execution_count": 38,
   "metadata": {},
   "outputs": [
    {
     "name": "stdout",
     "output_type": "stream",
     "text": [
      "Index(['Account_Length', 'Vmail_Message', 'Day_Mins', 'Eve_Mins', 'Night_Mins',\n",
      "       'Intl_Mins', 'CustServ_Calls', 'Day_Calls', 'Day_Charge', 'Eve_Calls',\n",
      "       'Eve_Charge', 'Night_Calls', 'Night_Charge', 'Intl_Calls',\n",
      "       'Intl_Charge', 'Area_Code'],\n",
      "      dtype='object')\n",
      "--------------------------------------------------------------------------------\n",
      "Index(['Intl_Plan', 'Vmail_Plan', 'State', 'Phone'], dtype='object')\n"
     ]
    }
   ],
   "source": [
    "print(features_num)\n",
    "print('-'*80)\n",
    "print(features_cat)"
   ]
  },
  {
   "cell_type": "code",
   "execution_count": 39,
   "metadata": {
    "scrolled": false
   },
   "outputs": [
    {
     "data": {
      "text/html": [
       "<div>\n",
       "<style scoped>\n",
       "    .dataframe tbody tr th:only-of-type {\n",
       "        vertical-align: middle;\n",
       "    }\n",
       "\n",
       "    .dataframe tbody tr th {\n",
       "        vertical-align: top;\n",
       "    }\n",
       "\n",
       "    .dataframe thead th {\n",
       "        text-align: right;\n",
       "    }\n",
       "</style>\n",
       "<table border=\"1\" class=\"dataframe\">\n",
       "  <thead>\n",
       "    <tr style=\"text-align: right;\">\n",
       "      <th></th>\n",
       "      <th>Account_Length</th>\n",
       "      <th>Vmail_Message</th>\n",
       "      <th>Day_Mins</th>\n",
       "      <th>Eve_Mins</th>\n",
       "      <th>Night_Mins</th>\n",
       "      <th>Intl_Mins</th>\n",
       "      <th>CustServ_Calls</th>\n",
       "      <th>Day_Calls</th>\n",
       "      <th>Day_Charge</th>\n",
       "      <th>Eve_Calls</th>\n",
       "      <th>Eve_Charge</th>\n",
       "      <th>Night_Calls</th>\n",
       "      <th>Night_Charge</th>\n",
       "      <th>Intl_Calls</th>\n",
       "      <th>Intl_Charge</th>\n",
       "      <th>Area_Code</th>\n",
       "    </tr>\n",
       "  </thead>\n",
       "  <tbody>\n",
       "    <tr>\n",
       "      <td>2799</td>\n",
       "      <td>70</td>\n",
       "      <td>0</td>\n",
       "      <td>214.8</td>\n",
       "      <td>131.0</td>\n",
       "      <td>216.9</td>\n",
       "      <td>9.4</td>\n",
       "      <td>3</td>\n",
       "      <td>87</td>\n",
       "      <td>36.52</td>\n",
       "      <td>114</td>\n",
       "      <td>11.14</td>\n",
       "      <td>104</td>\n",
       "      <td>9.76</td>\n",
       "      <td>3</td>\n",
       "      <td>2.54</td>\n",
       "      <td>415</td>\n",
       "    </tr>\n",
       "    <tr>\n",
       "      <td>2321</td>\n",
       "      <td>153</td>\n",
       "      <td>0</td>\n",
       "      <td>154.6</td>\n",
       "      <td>263.0</td>\n",
       "      <td>367.7</td>\n",
       "      <td>15.5</td>\n",
       "      <td>1</td>\n",
       "      <td>56</td>\n",
       "      <td>26.28</td>\n",
       "      <td>84</td>\n",
       "      <td>22.36</td>\n",
       "      <td>89</td>\n",
       "      <td>16.55</td>\n",
       "      <td>2</td>\n",
       "      <td>4.19</td>\n",
       "      <td>408</td>\n",
       "    </tr>\n",
       "    <tr>\n",
       "      <td>2614</td>\n",
       "      <td>125</td>\n",
       "      <td>0</td>\n",
       "      <td>298.4</td>\n",
       "      <td>270.5</td>\n",
       "      <td>107.3</td>\n",
       "      <td>12.2</td>\n",
       "      <td>0</td>\n",
       "      <td>78</td>\n",
       "      <td>50.73</td>\n",
       "      <td>142</td>\n",
       "      <td>22.99</td>\n",
       "      <td>84</td>\n",
       "      <td>4.83</td>\n",
       "      <td>2</td>\n",
       "      <td>3.29</td>\n",
       "      <td>415</td>\n",
       "    </tr>\n",
       "    <tr>\n",
       "      <td>16</td>\n",
       "      <td>85</td>\n",
       "      <td>27</td>\n",
       "      <td>196.4</td>\n",
       "      <td>280.9</td>\n",
       "      <td>89.3</td>\n",
       "      <td>13.8</td>\n",
       "      <td>1</td>\n",
       "      <td>139</td>\n",
       "      <td>33.39</td>\n",
       "      <td>90</td>\n",
       "      <td>23.88</td>\n",
       "      <td>75</td>\n",
       "      <td>4.02</td>\n",
       "      <td>4</td>\n",
       "      <td>3.73</td>\n",
       "      <td>408</td>\n",
       "    </tr>\n",
       "    <tr>\n",
       "      <td>1276</td>\n",
       "      <td>51</td>\n",
       "      <td>0</td>\n",
       "      <td>229.7</td>\n",
       "      <td>336.0</td>\n",
       "      <td>192.8</td>\n",
       "      <td>9.6</td>\n",
       "      <td>1</td>\n",
       "      <td>129</td>\n",
       "      <td>39.05</td>\n",
       "      <td>104</td>\n",
       "      <td>28.56</td>\n",
       "      <td>128</td>\n",
       "      <td>8.68</td>\n",
       "      <td>1</td>\n",
       "      <td>2.59</td>\n",
       "      <td>415</td>\n",
       "    </tr>\n",
       "    <tr>\n",
       "      <td>...</td>\n",
       "      <td>...</td>\n",
       "      <td>...</td>\n",
       "      <td>...</td>\n",
       "      <td>...</td>\n",
       "      <td>...</td>\n",
       "      <td>...</td>\n",
       "      <td>...</td>\n",
       "      <td>...</td>\n",
       "      <td>...</td>\n",
       "      <td>...</td>\n",
       "      <td>...</td>\n",
       "      <td>...</td>\n",
       "      <td>...</td>\n",
       "      <td>...</td>\n",
       "      <td>...</td>\n",
       "      <td>...</td>\n",
       "    </tr>\n",
       "    <tr>\n",
       "      <td>1136</td>\n",
       "      <td>106</td>\n",
       "      <td>26</td>\n",
       "      <td>270.3</td>\n",
       "      <td>215.2</td>\n",
       "      <td>254.0</td>\n",
       "      <td>14.4</td>\n",
       "      <td>1</td>\n",
       "      <td>111</td>\n",
       "      <td>45.95</td>\n",
       "      <td>90</td>\n",
       "      <td>18.29</td>\n",
       "      <td>133</td>\n",
       "      <td>11.43</td>\n",
       "      <td>7</td>\n",
       "      <td>3.89</td>\n",
       "      <td>415</td>\n",
       "    </tr>\n",
       "    <tr>\n",
       "      <td>733</td>\n",
       "      <td>85</td>\n",
       "      <td>37</td>\n",
       "      <td>229.6</td>\n",
       "      <td>132.3</td>\n",
       "      <td>211.9</td>\n",
       "      <td>9.5</td>\n",
       "      <td>2</td>\n",
       "      <td>123</td>\n",
       "      <td>39.03</td>\n",
       "      <td>90</td>\n",
       "      <td>11.25</td>\n",
       "      <td>76</td>\n",
       "      <td>9.54</td>\n",
       "      <td>8</td>\n",
       "      <td>2.57</td>\n",
       "      <td>408</td>\n",
       "    </tr>\n",
       "    <tr>\n",
       "      <td>2926</td>\n",
       "      <td>72</td>\n",
       "      <td>0</td>\n",
       "      <td>287.4</td>\n",
       "      <td>235.3</td>\n",
       "      <td>292.1</td>\n",
       "      <td>5.0</td>\n",
       "      <td>4</td>\n",
       "      <td>116</td>\n",
       "      <td>48.86</td>\n",
       "      <td>126</td>\n",
       "      <td>20.00</td>\n",
       "      <td>114</td>\n",
       "      <td>13.14</td>\n",
       "      <td>3</td>\n",
       "      <td>1.35</td>\n",
       "      <td>510</td>\n",
       "    </tr>\n",
       "    <tr>\n",
       "      <td>2759</td>\n",
       "      <td>130</td>\n",
       "      <td>0</td>\n",
       "      <td>115.6</td>\n",
       "      <td>167.8</td>\n",
       "      <td>141.8</td>\n",
       "      <td>12.6</td>\n",
       "      <td>1</td>\n",
       "      <td>129</td>\n",
       "      <td>19.65</td>\n",
       "      <td>104</td>\n",
       "      <td>14.26</td>\n",
       "      <td>124</td>\n",
       "      <td>6.38</td>\n",
       "      <td>9</td>\n",
       "      <td>3.40</td>\n",
       "      <td>408</td>\n",
       "    </tr>\n",
       "    <tr>\n",
       "      <td>2582</td>\n",
       "      <td>116</td>\n",
       "      <td>0</td>\n",
       "      <td>205.0</td>\n",
       "      <td>140.9</td>\n",
       "      <td>272.6</td>\n",
       "      <td>7.5</td>\n",
       "      <td>2</td>\n",
       "      <td>90</td>\n",
       "      <td>34.85</td>\n",
       "      <td>114</td>\n",
       "      <td>11.98</td>\n",
       "      <td>96</td>\n",
       "      <td>12.27</td>\n",
       "      <td>4</td>\n",
       "      <td>2.03</td>\n",
       "      <td>510</td>\n",
       "    </tr>\n",
       "  </tbody>\n",
       "</table>\n",
       "<p>2666 rows × 16 columns</p>\n",
       "</div>"
      ],
      "text/plain": [
       "      Account_Length  Vmail_Message  Day_Mins  Eve_Mins  Night_Mins  \\\n",
       "2799              70              0     214.8     131.0       216.9   \n",
       "2321             153              0     154.6     263.0       367.7   \n",
       "2614             125              0     298.4     270.5       107.3   \n",
       "16                85             27     196.4     280.9        89.3   \n",
       "1276              51              0     229.7     336.0       192.8   \n",
       "...              ...            ...       ...       ...         ...   \n",
       "1136             106             26     270.3     215.2       254.0   \n",
       "733               85             37     229.6     132.3       211.9   \n",
       "2926              72              0     287.4     235.3       292.1   \n",
       "2759             130              0     115.6     167.8       141.8   \n",
       "2582             116              0     205.0     140.9       272.6   \n",
       "\n",
       "      Intl_Mins  CustServ_Calls  Day_Calls  Day_Charge  Eve_Calls  Eve_Charge  \\\n",
       "2799        9.4               3         87       36.52        114       11.14   \n",
       "2321       15.5               1         56       26.28         84       22.36   \n",
       "2614       12.2               0         78       50.73        142       22.99   \n",
       "16         13.8               1        139       33.39         90       23.88   \n",
       "1276        9.6               1        129       39.05        104       28.56   \n",
       "...         ...             ...        ...         ...        ...         ...   \n",
       "1136       14.4               1        111       45.95         90       18.29   \n",
       "733         9.5               2        123       39.03         90       11.25   \n",
       "2926        5.0               4        116       48.86        126       20.00   \n",
       "2759       12.6               1        129       19.65        104       14.26   \n",
       "2582        7.5               2         90       34.85        114       11.98   \n",
       "\n",
       "      Night_Calls  Night_Charge  Intl_Calls  Intl_Charge  Area_Code  \n",
       "2799          104          9.76           3         2.54        415  \n",
       "2321           89         16.55           2         4.19        408  \n",
       "2614           84          4.83           2         3.29        415  \n",
       "16             75          4.02           4         3.73        408  \n",
       "1276          128          8.68           1         2.59        415  \n",
       "...           ...           ...         ...          ...        ...  \n",
       "1136          133         11.43           7         3.89        415  \n",
       "733            76          9.54           8         2.57        408  \n",
       "2926          114         13.14           3         1.35        510  \n",
       "2759          124          6.38           9         3.40        408  \n",
       "2582           96         12.27           4         2.03        510  \n",
       "\n",
       "[2666 rows x 16 columns]"
      ]
     },
     "execution_count": 39,
     "metadata": {},
     "output_type": "execute_result"
    }
   ],
   "source": [
    "X_train_val[features_num]"
   ]
  },
  {
   "cell_type": "code",
   "execution_count": 40,
   "metadata": {},
   "outputs": [
    {
     "data": {
      "text/html": [
       "<div>\n",
       "<style scoped>\n",
       "    .dataframe tbody tr th:only-of-type {\n",
       "        vertical-align: middle;\n",
       "    }\n",
       "\n",
       "    .dataframe tbody tr th {\n",
       "        vertical-align: top;\n",
       "    }\n",
       "\n",
       "    .dataframe thead th {\n",
       "        text-align: right;\n",
       "    }\n",
       "</style>\n",
       "<table border=\"1\" class=\"dataframe\">\n",
       "  <thead>\n",
       "    <tr style=\"text-align: right;\">\n",
       "      <th></th>\n",
       "      <th>Intl_Plan</th>\n",
       "      <th>Vmail_Plan</th>\n",
       "      <th>State</th>\n",
       "      <th>Phone</th>\n",
       "    </tr>\n",
       "  </thead>\n",
       "  <tbody>\n",
       "    <tr>\n",
       "      <td>2799</td>\n",
       "      <td>no</td>\n",
       "      <td>no</td>\n",
       "      <td>WV</td>\n",
       "      <td>402-2072</td>\n",
       "    </tr>\n",
       "    <tr>\n",
       "      <td>2321</td>\n",
       "      <td>no</td>\n",
       "      <td>no</td>\n",
       "      <td>AR</td>\n",
       "      <td>339-3636</td>\n",
       "    </tr>\n",
       "    <tr>\n",
       "      <td>2614</td>\n",
       "      <td>yes</td>\n",
       "      <td>no</td>\n",
       "      <td>NH</td>\n",
       "      <td>357-1938</td>\n",
       "    </tr>\n",
       "    <tr>\n",
       "      <td>16</td>\n",
       "      <td>no</td>\n",
       "      <td>yes</td>\n",
       "      <td>ID</td>\n",
       "      <td>350-8884</td>\n",
       "    </tr>\n",
       "    <tr>\n",
       "      <td>1276</td>\n",
       "      <td>no</td>\n",
       "      <td>no</td>\n",
       "      <td>MI</td>\n",
       "      <td>373-1448</td>\n",
       "    </tr>\n",
       "    <tr>\n",
       "      <td>...</td>\n",
       "      <td>...</td>\n",
       "      <td>...</td>\n",
       "      <td>...</td>\n",
       "      <td>...</td>\n",
       "    </tr>\n",
       "    <tr>\n",
       "      <td>1136</td>\n",
       "      <td>yes</td>\n",
       "      <td>yes</td>\n",
       "      <td>WY</td>\n",
       "      <td>338-6018</td>\n",
       "    </tr>\n",
       "    <tr>\n",
       "      <td>733</td>\n",
       "      <td>no</td>\n",
       "      <td>yes</td>\n",
       "      <td>NM</td>\n",
       "      <td>338-9210</td>\n",
       "    </tr>\n",
       "    <tr>\n",
       "      <td>2926</td>\n",
       "      <td>no</td>\n",
       "      <td>no</td>\n",
       "      <td>IN</td>\n",
       "      <td>391-1499</td>\n",
       "    </tr>\n",
       "    <tr>\n",
       "      <td>2759</td>\n",
       "      <td>no</td>\n",
       "      <td>no</td>\n",
       "      <td>IN</td>\n",
       "      <td>334-9818</td>\n",
       "    </tr>\n",
       "    <tr>\n",
       "      <td>2582</td>\n",
       "      <td>no</td>\n",
       "      <td>no</td>\n",
       "      <td>OK</td>\n",
       "      <td>393-3976</td>\n",
       "    </tr>\n",
       "  </tbody>\n",
       "</table>\n",
       "<p>2666 rows × 4 columns</p>\n",
       "</div>"
      ],
      "text/plain": [
       "     Intl_Plan Vmail_Plan State     Phone\n",
       "2799        no         no    WV  402-2072\n",
       "2321        no         no    AR  339-3636\n",
       "2614       yes         no    NH  357-1938\n",
       "16          no        yes    ID  350-8884\n",
       "1276        no         no    MI  373-1448\n",
       "...        ...        ...   ...       ...\n",
       "1136       yes        yes    WY  338-6018\n",
       "733         no        yes    NM  338-9210\n",
       "2926        no         no    IN  391-1499\n",
       "2759        no         no    IN  334-9818\n",
       "2582        no         no    OK  393-3976\n",
       "\n",
       "[2666 rows x 4 columns]"
      ]
     },
     "execution_count": 40,
     "metadata": {},
     "output_type": "execute_result"
    }
   ],
   "source": [
    "X_train_val[features_cat]"
   ]
  },
  {
   "cell_type": "code",
   "execution_count": 41,
   "metadata": {},
   "outputs": [
    {
     "data": {
      "image/png": "[encoded data removed]",
      "text/plain": [
       "<Figure size 432x288 with 1 Axes>"
      ]
     },
     "metadata": {},
     "output_type": "display_data"
    }
   ],
   "source": [
    "# Examining feature: 'Vmail_Message'\n",
    "\n",
    "plt.hist(X_train_val['Vmail_Message'])\n",
    "\n",
    "plt.title('Distribution of \\'Vmail_Message\\'')\n",
    "plt.show()"
   ]
  },
  {
   "cell_type": "markdown",
   "metadata": {},
   "source": [
    "**Insights**\n",
    "- Since this feature has 0 as the most frequent value for most observations, I'll make this a candidate for a binary column (to be done in feature engineering)"
   ]
  },
  {
   "cell_type": "code",
   "execution_count": 42,
   "metadata": {},
   "outputs": [
    {
     "data": {
      "image/png": "[encoded data removed]",
      "text/plain": [
       "<Figure size 432x288 with 1 Axes>"
      ]
     },
     "metadata": {},
     "output_type": "display_data"
    }
   ],
   "source": [
    "plt.hist(X_train_val['CustServ_Calls'])\n",
    "\n",
    "plt.title('Distribution of \\'CustServ_Calls\\'')\n",
    "plt.show()"
   ]
  },
  {
   "cell_type": "markdown",
   "metadata": {},
   "source": [
    "### Encoding Target"
   ]
  },
  {
   "cell_type": "code",
   "execution_count": 43,
   "metadata": {},
   "outputs": [],
   "source": [
    "# Instantiate Label Encoder for \"Churn\"\n",
    "\n",
    "le = LabelEncoder()"
   ]
  },
  {
   "cell_type": "code",
   "execution_count": 44,
   "metadata": {},
   "outputs": [],
   "source": [
    "y_train_val = le.fit_transform(y_train_val)"
   ]
  },
  {
   "cell_type": "code",
   "execution_count": 45,
   "metadata": {},
   "outputs": [
    {
     "data": {
      "text/plain": [
       "array([0, 0, 1, ..., 1, 0, 0])"
      ]
     },
     "execution_count": 45,
     "metadata": {},
     "output_type": "execute_result"
    }
   ],
   "source": [
    "y_train_val"
   ]
  },
  {
   "cell_type": "markdown",
   "metadata": {},
   "source": [
    "### Train-Test Split"
   ]
  },
  {
   "cell_type": "code",
   "execution_count": 46,
   "metadata": {},
   "outputs": [
    {
     "name": "stdout",
     "output_type": "stream",
     "text": [
      "(1999, 20) (667, 20) (1999,) (667,)\n"
     ]
    }
   ],
   "source": [
    "# Split data into training and test sets\n",
    "\n",
    "X_train, X_test, y_train, y_test = train_test_split(X_train_val, y_train_val, test_size=0.25)\n",
    "\n",
    "print(X_train.shape, X_test.shape, y_train.shape, y_test.shape)"
   ]
  },
  {
   "cell_type": "markdown",
   "metadata": {},
   "source": [
    "---"
   ]
  },
  {
   "cell_type": "markdown",
   "metadata": {},
   "source": [
    "<p><a name=\"sel\"></a></p>\n",
    "\n",
    "### Feature Selection"
   ]
  },
  {
   "cell_type": "code",
   "execution_count": 47,
   "metadata": {},
   "outputs": [
    {
     "data": {
      "image/png": "[encoded data removed]",
      "text/plain": [
       "<Figure size 432x288 with 2 Axes>"
      ]
     },
     "metadata": {},
     "output_type": "display_data"
    }
   ],
   "source": [
    "mask = np.zeros_like(X_train.corr())\n",
    "mask[np.triu_indices_from(mask)] = 1\n",
    "sns.heatmap(X_train.corr(), mask= mask, linewidth=0.7, cmap='RdYlGn') \n",
    "plt.show()"
   ]
  },
  {
   "cell_type": "markdown",
   "metadata": {},
   "source": [
    "**Insights:**\n",
    "- Following features are highly correlated\n",
    "    - Day_Mins & Day_Charge\n",
    "    - Eve_Mins & Eve_Charge\n",
    "    - Night_Mins & Night_Charge\n",
    "    - Intl_Mins & Intl_Charge\n",
    "- Either set are candidates for being dropped or their combination for feature engineering"
   ]
  },
  {
   "cell_type": "markdown",
   "metadata": {},
   "source": [
    "---"
   ]
  },
  {
   "cell_type": "markdown",
   "metadata": {},
   "source": [
    "<p><a name=\"dp\"></a></p>\n",
    "\n",
    "## Data Preprocessing"
   ]
  },
  {
   "cell_type": "markdown",
   "metadata": {},
   "source": [
    "<p><a name=\"engg\"></a></p>\n",
    "\n",
    "### Feature Engineering"
   ]
  },
  {
   "cell_type": "code",
   "execution_count": 48,
   "metadata": {},
   "outputs": [],
   "source": [
    "class CategoricalTransformer(BaseEstimator, TransformerMixin):\n",
    "    \n",
    "    '''\n",
    "    Descr:\n",
    "    This class contains methods to undertake categorical transformations\n",
    "    on features and its output will be used as CustomTransfomers \n",
    "    in the pipeline functionality to prevent data leakage and also\n",
    "    automate categorical transformations on unseen data.\n",
    "    \n",
    "    Tasks performed by transform() method:\n",
    "    1. Drops columns not required / provide no predictive information the model\n",
    "\n",
    "    I/P:\n",
    "    1. Features dataframe to perform transformation on\n",
    "    2. Names of categorical features to be dropped\n",
    "\n",
    "    O/P:\n",
    "    numpy array of transformed categorical features\n",
    "    '''    \n",
    "    \n",
    "    # Class constructor\n",
    "    def __init__(self, drop_cat_features):\n",
    "        self.drop_cat_features = drop_cat_features\n",
    "    \n",
    "    # fit method - does nothing and returns self\n",
    "    def fit(self, X, y=None):\n",
    "        return self\n",
    "    \n",
    "    # transform method for custom transformations\n",
    "    def transform(self, X, y=None):\n",
    "        \n",
    "        # Doing this to avoid Chained Indexing error:\n",
    "        # \"SettingWithCopyWarning: A value is trying to be set on a copy of a slice from a DataFrame\"\n",
    "        X1 = X.copy()\n",
    "        \n",
    "        # Dropping columns\n",
    "        X1.drop(self.drop_cat_features, axis=1, inplace=True)\n",
    "\n",
    "        # Return numpy array of transformed numerical features\n",
    "        return X1 "
   ]
  },
  {
   "cell_type": "code",
   "execution_count": 49,
   "metadata": {},
   "outputs": [],
   "source": [
    "class NumericalTransformer(BaseEstimator, TransformerMixin):\n",
    "    \n",
    "    '''\n",
    "    Descr:\n",
    "    This class contains methods to undertake numerical transformations\n",
    "    on features and its output will be used as CustomTransfomers \n",
    "    in the pipeline functionality to prevent data leakage and also\n",
    "    automate numerical transformations on unseen data.\n",
    "    For it to qualify as a transformer, it will contain the .fit()\n",
    "    and .transform() methods and we'll be inheriting from 2 classes\n",
    "    that faciliate this class being a transformer.\n",
    "    \n",
    "    Tasks performed by transform() method:\n",
    "    1. Drops columns not required / provide no predictive information the model\n",
    "    2. Create binary column of features that are highly skewed to 1 value\n",
    "\n",
    "    I/P:\n",
    "    1. Features dataframe to perform transformation on\n",
    "    2. Names of numerical features to be dropped\n",
    "    3. Print flag to see names of columns after transformation. Defaulted\n",
    "        to 'N' if not passed as 'Y'\n",
    "\n",
    "    O/P:\n",
    "    numpy array of transformed numerical features\n",
    "    '''    \n",
    "    \n",
    "    # Class constructor\n",
    "    def __init__(self, numerical_features, drop_num_features, my_print='N'):\n",
    "        self.numerical_features = numerical_features\n",
    "        self.drop_num_features = drop_num_features\n",
    "        self.my_print = my_print\n",
    "    \n",
    "    # fit method - does nothing and returns self\n",
    "    def fit(self, X, y=None):\n",
    "        return self\n",
    "    \n",
    "    # Binarize method\n",
    "    def binarize(self, obj):\n",
    "        if obj == 0:\n",
    "            return 0\n",
    "        else:\n",
    "            return 1\n",
    "\n",
    "    \n",
    "    # transform method for custom transformations\n",
    "    def transform(self, X, y=None):\n",
    "        \n",
    "        X = pd.DataFrame(X, columns=self.numerical_features)\n",
    "        \n",
    "        # Doing this to avoid Chained Indexing error:\n",
    "        # \"SettingWithCopyWarning: A value is trying to be set on a copy of a slice from a DataFrame\"\n",
    "        X1 = X.copy()\n",
    "        \n",
    "        # Binarize columns\n",
    "        X1.loc[:,'Vmail_Message_b'] = X1['Vmail_Message'].apply(self.binarize)\n",
    "\n",
    "        # Dropping columns\n",
    "        X1.drop(self.drop_num_features, axis=1, inplace=True)\n",
    "\n",
    "        if self.my_print == 'Y':\n",
    "            print('Transformed Numerical Features\\' column names:\\n', list(X1.columns))\n",
    "    \n",
    "        # Return numpy array of transformed numerical features\n",
    "        return X1    #X1.values"
   ]
  },
  {
   "cell_type": "code",
   "execution_count": 50,
   "metadata": {},
   "outputs": [],
   "source": [
    "# Tagging features for transformations\n",
    "\n",
    "# Lists of Categorical features:\n",
    "# Features for (1) dropping 'Phone' (2) imputation (3) Ordinal encoding\n",
    "features_for_pipe_cat_imp_oe = ['Intl_Plan', 'Vmail_Plan', 'Phone']\n",
    "    \n",
    "# Features for (1) imputation (2) OneHot encoding\n",
    "features_for_ohe = ['State']\n",
    "\n",
    "features_dropped_cat = ['Phone']\n",
    "\n",
    "\n",
    "# Lists of Numerical features:\n",
    "features_for_pipe_num_imp = features_num\n",
    "features_for_pipe_num_imp_ss = features_num\n",
    "features_for_pipe_num_imp_norm = features_num\n",
    "\n",
    "features_dropped_num = ['Day_Mins','Eve_Mins','Night_Mins','Intl_Mins',\\\n",
    "                        'Vmail_Message','Area_Code']"
   ]
  },
  {
   "cell_type": "code",
   "execution_count": 51,
   "metadata": {},
   "outputs": [],
   "source": [
    "# Instantiate all transformers to be used in the \n",
    "# Column Transformer (i.e., Preprocessor)\n",
    "\n",
    "# Categorical tranformers\n",
    "cat_transformer = CategoricalTransformer(features_dropped_cat)\n",
    "imp_mode_c = SimpleImputer(strategy='most_frequent')\n",
    "oe = OrdinalEncoder()\n",
    "ohe = OneHotEncoder()\n",
    "\n",
    "# Numerical transformers\n",
    "imp_median_n = SimpleImputer(strategy='median')\n",
    "# Instantiate with 3rd argument 'Y' to see column names of tranformed features\n",
    "num_transformer = NumericalTransformer(features_num, features_dropped_num, 'N')\n",
    "ss = StandardScaler()\n",
    "norm = Normalizer()"
   ]
  },
  {
   "cell_type": "code",
   "execution_count": 52,
   "metadata": {},
   "outputs": [],
   "source": [
    "# Pipelines of transformations (no model yet)\n",
    "\n",
    "# Categorical pipelines of transformations\n",
    "\n",
    "# Pipeline for (1) dropping 'Phone' (2) imputation (3) Ordinal encoding\n",
    "pipe_cat_imp_oe = make_pipeline(cat_transformer, imp_mode_c, oe)\n",
    "\n",
    "# Pipeline for (1) imputation (2) OneHot encoding\n",
    "pipe_imp_ohe = make_pipeline(imp_mode_c, ohe)\n",
    "\n",
    "\n",
    "# Numerical pipelines of transformations\n",
    "# Pipeline for (1) imputation (2) Numerical transformations\n",
    "pipe_num_imp = make_pipeline(imp_median_n, num_transformer)\n",
    "\n",
    "# Pipeline for (1) imputation (2) Numerical transformations (3) Standardizing\n",
    "pipe_num_imp_ss = make_pipeline(imp_median_n, num_transformer, ss)\n",
    "\n",
    "# Pipeline for (1) imputation (2) Numerical transformations (3) Normalizing\n",
    "pipe_num_imp_norm = make_pipeline(imp_median_n, num_transformer, norm)"
   ]
  },
  {
   "cell_type": "code",
   "execution_count": 53,
   "metadata": {},
   "outputs": [],
   "source": [
    "# Utilizing Column Transformer for transformations\n",
    "\n",
    "preprocessor = make_column_transformer(\n",
    "    (pipe_cat_imp_oe, features_for_pipe_cat_imp_oe)\n",
    "    ,(pipe_imp_ohe, features_for_ohe)\n",
    "    ,(pipe_num_imp, features_for_pipe_num_imp)\n",
    "    ,remainder='passthrough') "
   ]
  },
  {
   "cell_type": "code",
   "execution_count": 54,
   "metadata": {},
   "outputs": [],
   "source": [
    "# Utilizing Column Transformer for transformations (including standardizing features)\n",
    "\n",
    "preprocessor_ss = make_column_transformer(\n",
    "    (pipe_cat_imp_oe, features_for_pipe_cat_imp_oe)\n",
    "    ,(pipe_imp_ohe, features_for_ohe)\n",
    "    ,(pipe_num_imp_ss, features_for_pipe_num_imp_ss)\n",
    "    ,remainder='passthrough') "
   ]
  },
  {
   "cell_type": "code",
   "execution_count": 55,
   "metadata": {},
   "outputs": [],
   "source": [
    "# Utilizing Column Transformer for transformations (including normalizing features)\n",
    "\n",
    "preprocessor_norm = make_column_transformer(\n",
    "    (pipe_cat_imp_oe, features_for_pipe_cat_imp_oe)\n",
    "    ,(pipe_imp_ohe, features_for_ohe)\n",
    "    ,(pipe_num_imp_norm, features_for_pipe_num_imp_norm)\n",
    "    ,remainder='passthrough') "
   ]
  },
  {
   "cell_type": "code",
   "execution_count": 56,
   "metadata": {
    "scrolled": true
   },
   "outputs": [
    {
     "data": {
      "text/plain": [
       "<1999x64 sparse matrix of type '<class 'numpy.float64'>'\n",
       "\twith 22803 stored elements in Compressed Sparse Row format>"
      ]
     },
     "execution_count": 56,
     "metadata": {},
     "output_type": "execute_result"
    }
   ],
   "source": [
    "preprocessor.fit_transform(X_train)"
   ]
  },
  {
   "cell_type": "code",
   "execution_count": 57,
   "metadata": {},
   "outputs": [
    {
     "data": {
      "text/plain": [
       "<1999x64 sparse matrix of type '<class 'numpy.float64'>'\n",
       "\twith 24722 stored elements in Compressed Sparse Row format>"
      ]
     },
     "execution_count": 57,
     "metadata": {},
     "output_type": "execute_result"
    }
   ],
   "source": [
    "preprocessor_ss.fit_transform(X_train)"
   ]
  },
  {
   "cell_type": "code",
   "execution_count": 58,
   "metadata": {},
   "outputs": [
    {
     "data": {
      "text/plain": [
       "<1999x64 sparse matrix of type '<class 'numpy.float64'>'\n",
       "\twith 22803 stored elements in Compressed Sparse Row format>"
      ]
     },
     "execution_count": 58,
     "metadata": {},
     "output_type": "execute_result"
    }
   ],
   "source": [
    "preprocessor_norm.fit_transform(X_train)"
   ]
  },
  {
   "cell_type": "markdown",
   "metadata": {},
   "source": [
    "#### Deriving column names of OneHot encoded 'State' feature\n",
    "\n",
    "- Will record a df of the transformed features in **\"X_train_tf\"** (excludes standardized columns)\n",
    "- Will record a df of the transformed features in **\"X_train_tf_ss\"** (includes standardized columns)\n",
    "- Will record a df of the transformed features in **\"X_train_tf_norm\"** (includes normalized columns)"
   ]
  },
  {
   "cell_type": "code",
   "execution_count": 59,
   "metadata": {},
   "outputs": [
    {
     "name": "stdout",
     "output_type": "stream",
     "text": [
      "Number of OHE columns created from \"State\" =  51\n",
      "Number of unique values in \"State\"         =  51\n"
     ]
    }
   ],
   "source": [
    "# Deriving the column names for the OneHot encoded 'State'\n",
    "\n",
    "features_transformed_ohe = list(preprocessor.transformers_[1][1].named_steps['onehotencoder'].get_feature_names())\n",
    "\n",
    "# Quick check\n",
    "print('Number of OHE columns created from \"State\" = ', len(features_transformed_ohe))\n",
    "print('Number of unique values in \"State\"         = ', churn_data['State'].nunique())"
   ]
  },
  {
   "cell_type": "code",
   "execution_count": 60,
   "metadata": {},
   "outputs": [],
   "source": [
    "# Deriving the column names of the transformed df\n",
    "\n",
    "# Leveraing feature names that were provided to the column\n",
    "# transformer, output from ohe and the output of the numerical transformer\n",
    "features_transformed_incl_dropped = features_for_pipe_cat_imp_oe + \\\n",
    "features_transformed_ohe + \\\n",
    "['Account_Length', 'CustServ_Calls', 'Day_Calls', 'Day_Charge', \\\n",
    " 'Eve_Calls', 'Eve_Charge', 'Night_Calls', 'Night_Charge', \\\n",
    " 'Intl_Calls', 'Intl_Charge', 'Vmail_Message_b']\n",
    "\n",
    "# Leveraging feature names provided as input to the dropped\n",
    "features_dropped_all = features_dropped_cat + features_dropped_num\n",
    "\n",
    "\n",
    "# Forming a list of transformed features by removing dropped \n",
    "# columns from the list\n",
    "features_transformed = [col for col in features_transformed_incl_dropped if col not in features_dropped_all]"
   ]
  },
  {
   "cell_type": "code",
   "execution_count": 61,
   "metadata": {},
   "outputs": [
    {
     "name": "stdout",
     "output_type": "stream",
     "text": [
      "\n",
      "# columns from transformation = 64\n",
      "# column names derived        = 64\n"
     ]
    }
   ],
   "source": [
    "# Check the transformed features column name count\n",
    "# versus the shape of the transformed array\n",
    "\n",
    "print('\\n# columns from transformation =', preprocessor.fit_transform(X_train).toarray().shape[1])\n",
    "print('# column names derived        =', len(features_transformed))"
   ]
  },
  {
   "cell_type": "code",
   "execution_count": 62,
   "metadata": {
    "scrolled": true
   },
   "outputs": [
    {
     "data": {
      "text/html": [
       "<div>\n",
       "<style scoped>\n",
       "    .dataframe tbody tr th:only-of-type {\n",
       "        vertical-align: middle;\n",
       "    }\n",
       "\n",
       "    .dataframe tbody tr th {\n",
       "        vertical-align: top;\n",
       "    }\n",
       "\n",
       "    .dataframe thead th {\n",
       "        text-align: right;\n",
       "    }\n",
       "</style>\n",
       "<table border=\"1\" class=\"dataframe\">\n",
       "  <thead>\n",
       "    <tr style=\"text-align: right;\">\n",
       "      <th></th>\n",
       "      <th>Intl_Plan</th>\n",
       "      <th>Vmail_Plan</th>\n",
       "      <th>x0_AK</th>\n",
       "      <th>x0_AL</th>\n",
       "      <th>x0_AR</th>\n",
       "      <th>x0_AZ</th>\n",
       "      <th>x0_CA</th>\n",
       "      <th>x0_CO</th>\n",
       "      <th>x0_CT</th>\n",
       "      <th>x0_DC</th>\n",
       "      <th>...</th>\n",
       "      <th>CustServ_Calls</th>\n",
       "      <th>Day_Calls</th>\n",
       "      <th>Day_Charge</th>\n",
       "      <th>Eve_Calls</th>\n",
       "      <th>Eve_Charge</th>\n",
       "      <th>Night_Calls</th>\n",
       "      <th>Night_Charge</th>\n",
       "      <th>Intl_Calls</th>\n",
       "      <th>Intl_Charge</th>\n",
       "      <th>Vmail_Message_b</th>\n",
       "    </tr>\n",
       "  </thead>\n",
       "  <tbody>\n",
       "    <tr>\n",
       "      <td>0</td>\n",
       "      <td>1.0</td>\n",
       "      <td>0.0</td>\n",
       "      <td>0.0</td>\n",
       "      <td>0.0</td>\n",
       "      <td>0.0</td>\n",
       "      <td>0.0</td>\n",
       "      <td>0.0</td>\n",
       "      <td>0.0</td>\n",
       "      <td>0.0</td>\n",
       "      <td>0.0</td>\n",
       "      <td>...</td>\n",
       "      <td>1.0</td>\n",
       "      <td>45.0</td>\n",
       "      <td>22.73</td>\n",
       "      <td>107.0</td>\n",
       "      <td>15.96</td>\n",
       "      <td>89.0</td>\n",
       "      <td>8.19</td>\n",
       "      <td>2.0</td>\n",
       "      <td>2.89</td>\n",
       "      <td>0.0</td>\n",
       "    </tr>\n",
       "    <tr>\n",
       "      <td>1</td>\n",
       "      <td>0.0</td>\n",
       "      <td>0.0</td>\n",
       "      <td>0.0</td>\n",
       "      <td>0.0</td>\n",
       "      <td>0.0</td>\n",
       "      <td>0.0</td>\n",
       "      <td>0.0</td>\n",
       "      <td>0.0</td>\n",
       "      <td>0.0</td>\n",
       "      <td>0.0</td>\n",
       "      <td>...</td>\n",
       "      <td>6.0</td>\n",
       "      <td>91.0</td>\n",
       "      <td>26.21</td>\n",
       "      <td>108.0</td>\n",
       "      <td>22.83</td>\n",
       "      <td>99.0</td>\n",
       "      <td>8.50</td>\n",
       "      <td>4.0</td>\n",
       "      <td>2.94</td>\n",
       "      <td>0.0</td>\n",
       "    </tr>\n",
       "    <tr>\n",
       "      <td>2</td>\n",
       "      <td>0.0</td>\n",
       "      <td>0.0</td>\n",
       "      <td>0.0</td>\n",
       "      <td>0.0</td>\n",
       "      <td>0.0</td>\n",
       "      <td>0.0</td>\n",
       "      <td>0.0</td>\n",
       "      <td>0.0</td>\n",
       "      <td>0.0</td>\n",
       "      <td>0.0</td>\n",
       "      <td>...</td>\n",
       "      <td>0.0</td>\n",
       "      <td>97.0</td>\n",
       "      <td>18.55</td>\n",
       "      <td>96.0</td>\n",
       "      <td>9.83</td>\n",
       "      <td>84.0</td>\n",
       "      <td>13.31</td>\n",
       "      <td>6.0</td>\n",
       "      <td>2.24</td>\n",
       "      <td>0.0</td>\n",
       "    </tr>\n",
       "    <tr>\n",
       "      <td>3</td>\n",
       "      <td>0.0</td>\n",
       "      <td>0.0</td>\n",
       "      <td>0.0</td>\n",
       "      <td>0.0</td>\n",
       "      <td>0.0</td>\n",
       "      <td>0.0</td>\n",
       "      <td>0.0</td>\n",
       "      <td>0.0</td>\n",
       "      <td>0.0</td>\n",
       "      <td>0.0</td>\n",
       "      <td>...</td>\n",
       "      <td>1.0</td>\n",
       "      <td>72.0</td>\n",
       "      <td>24.02</td>\n",
       "      <td>95.0</td>\n",
       "      <td>13.12</td>\n",
       "      <td>91.0</td>\n",
       "      <td>9.48</td>\n",
       "      <td>5.0</td>\n",
       "      <td>2.21</td>\n",
       "      <td>0.0</td>\n",
       "    </tr>\n",
       "    <tr>\n",
       "      <td>4</td>\n",
       "      <td>0.0</td>\n",
       "      <td>0.0</td>\n",
       "      <td>0.0</td>\n",
       "      <td>0.0</td>\n",
       "      <td>0.0</td>\n",
       "      <td>0.0</td>\n",
       "      <td>0.0</td>\n",
       "      <td>0.0</td>\n",
       "      <td>0.0</td>\n",
       "      <td>0.0</td>\n",
       "      <td>...</td>\n",
       "      <td>3.0</td>\n",
       "      <td>104.0</td>\n",
       "      <td>26.96</td>\n",
       "      <td>77.0</td>\n",
       "      <td>17.95</td>\n",
       "      <td>104.0</td>\n",
       "      <td>8.07</td>\n",
       "      <td>8.0</td>\n",
       "      <td>2.75</td>\n",
       "      <td>0.0</td>\n",
       "    </tr>\n",
       "  </tbody>\n",
       "</table>\n",
       "<p>5 rows × 64 columns</p>\n",
       "</div>"
      ],
      "text/plain": [
       "   Intl_Plan  Vmail_Plan  x0_AK  x0_AL  x0_AR  x0_AZ  x0_CA  x0_CO  x0_CT  \\\n",
       "0        1.0         0.0    0.0    0.0    0.0    0.0    0.0    0.0    0.0   \n",
       "1        0.0         0.0    0.0    0.0    0.0    0.0    0.0    0.0    0.0   \n",
       "2        0.0         0.0    0.0    0.0    0.0    0.0    0.0    0.0    0.0   \n",
       "3        0.0         0.0    0.0    0.0    0.0    0.0    0.0    0.0    0.0   \n",
       "4        0.0         0.0    0.0    0.0    0.0    0.0    0.0    0.0    0.0   \n",
       "\n",
       "   x0_DC  ...  CustServ_Calls  Day_Calls  Day_Charge  Eve_Calls  Eve_Charge  \\\n",
       "0    0.0  ...             1.0       45.0       22.73      107.0       15.96   \n",
       "1    0.0  ...             6.0       91.0       26.21      108.0       22.83   \n",
       "2    0.0  ...             0.0       97.0       18.55       96.0        9.83   \n",
       "3    0.0  ...             1.0       72.0       24.02       95.0       13.12   \n",
       "4    0.0  ...             3.0      104.0       26.96       77.0       17.95   \n",
       "\n",
       "   Night_Calls  Night_Charge  Intl_Calls  Intl_Charge  Vmail_Message_b  \n",
       "0         89.0          8.19         2.0         2.89              0.0  \n",
       "1         99.0          8.50         4.0         2.94              0.0  \n",
       "2         84.0         13.31         6.0         2.24              0.0  \n",
       "3         91.0          9.48         5.0         2.21              0.0  \n",
       "4        104.0          8.07         8.0         2.75              0.0  \n",
       "\n",
       "[5 rows x 64 columns]"
      ]
     },
     "execution_count": 62,
     "metadata": {},
     "output_type": "execute_result"
    }
   ],
   "source": [
    "# Forming transformed DF with transformed features\n",
    "\n",
    "X_train_tf = pd.DataFrame(preprocessor.fit_transform(X_train).toarray(), columns=features_transformed)\n",
    "X_train_tf.head()"
   ]
  },
  {
   "cell_type": "code",
   "execution_count": 63,
   "metadata": {},
   "outputs": [
    {
     "data": {
      "text/html": [
       "<div>\n",
       "<style scoped>\n",
       "    .dataframe tbody tr th:only-of-type {\n",
       "        vertical-align: middle;\n",
       "    }\n",
       "\n",
       "    .dataframe tbody tr th {\n",
       "        vertical-align: top;\n",
       "    }\n",
       "\n",
       "    .dataframe thead th {\n",
       "        text-align: right;\n",
       "    }\n",
       "</style>\n",
       "<table border=\"1\" class=\"dataframe\">\n",
       "  <thead>\n",
       "    <tr style=\"text-align: right;\">\n",
       "      <th></th>\n",
       "      <th>Intl_Plan</th>\n",
       "      <th>Vmail_Plan</th>\n",
       "      <th>x0_AK</th>\n",
       "      <th>x0_AL</th>\n",
       "      <th>x0_AR</th>\n",
       "      <th>x0_AZ</th>\n",
       "      <th>x0_CA</th>\n",
       "      <th>x0_CO</th>\n",
       "      <th>x0_CT</th>\n",
       "      <th>x0_DC</th>\n",
       "      <th>...</th>\n",
       "      <th>CustServ_Calls</th>\n",
       "      <th>Day_Calls</th>\n",
       "      <th>Day_Charge</th>\n",
       "      <th>Eve_Calls</th>\n",
       "      <th>Eve_Charge</th>\n",
       "      <th>Night_Calls</th>\n",
       "      <th>Night_Charge</th>\n",
       "      <th>Intl_Calls</th>\n",
       "      <th>Intl_Charge</th>\n",
       "      <th>Vmail_Message_b</th>\n",
       "    </tr>\n",
       "  </thead>\n",
       "  <tbody>\n",
       "    <tr>\n",
       "      <td>0</td>\n",
       "      <td>1.0</td>\n",
       "      <td>0.0</td>\n",
       "      <td>0.0</td>\n",
       "      <td>0.0</td>\n",
       "      <td>0.0</td>\n",
       "      <td>0.0</td>\n",
       "      <td>0.0</td>\n",
       "      <td>0.0</td>\n",
       "      <td>0.0</td>\n",
       "      <td>0.0</td>\n",
       "      <td>...</td>\n",
       "      <td>-0.423065</td>\n",
       "      <td>-2.753795</td>\n",
       "      <td>-0.829723</td>\n",
       "      <td>0.328797</td>\n",
       "      <td>-0.253457</td>\n",
       "      <td>-0.546637</td>\n",
       "      <td>-0.385302</td>\n",
       "      <td>-0.981897</td>\n",
       "      <td>0.151650</td>\n",
       "      <td>-0.61764</td>\n",
       "    </tr>\n",
       "    <tr>\n",
       "      <td>1</td>\n",
       "      <td>0.0</td>\n",
       "      <td>0.0</td>\n",
       "      <td>0.0</td>\n",
       "      <td>0.0</td>\n",
       "      <td>0.0</td>\n",
       "      <td>0.0</td>\n",
       "      <td>0.0</td>\n",
       "      <td>0.0</td>\n",
       "      <td>0.0</td>\n",
       "      <td>0.0</td>\n",
       "      <td>...</td>\n",
       "      <td>3.386430</td>\n",
       "      <td>-0.469424</td>\n",
       "      <td>-0.453907</td>\n",
       "      <td>0.378361</td>\n",
       "      <td>1.330035</td>\n",
       "      <td>-0.033740</td>\n",
       "      <td>-0.248082</td>\n",
       "      <td>-0.182869</td>\n",
       "      <td>0.217391</td>\n",
       "      <td>-0.61764</td>\n",
       "    </tr>\n",
       "    <tr>\n",
       "      <td>2</td>\n",
       "      <td>0.0</td>\n",
       "      <td>0.0</td>\n",
       "      <td>0.0</td>\n",
       "      <td>0.0</td>\n",
       "      <td>0.0</td>\n",
       "      <td>0.0</td>\n",
       "      <td>0.0</td>\n",
       "      <td>0.0</td>\n",
       "      <td>0.0</td>\n",
       "      <td>0.0</td>\n",
       "      <td>...</td>\n",
       "      <td>-1.184964</td>\n",
       "      <td>-0.171463</td>\n",
       "      <td>-1.281134</td>\n",
       "      <td>-0.216405</td>\n",
       "      <td>-1.666383</td>\n",
       "      <td>-0.803086</td>\n",
       "      <td>1.881035</td>\n",
       "      <td>0.616159</td>\n",
       "      <td>-0.702991</td>\n",
       "      <td>-0.61764</td>\n",
       "    </tr>\n",
       "    <tr>\n",
       "      <td>3</td>\n",
       "      <td>0.0</td>\n",
       "      <td>0.0</td>\n",
       "      <td>0.0</td>\n",
       "      <td>0.0</td>\n",
       "      <td>0.0</td>\n",
       "      <td>0.0</td>\n",
       "      <td>0.0</td>\n",
       "      <td>0.0</td>\n",
       "      <td>0.0</td>\n",
       "      <td>0.0</td>\n",
       "      <td>...</td>\n",
       "      <td>-0.423065</td>\n",
       "      <td>-1.412969</td>\n",
       "      <td>-0.690412</td>\n",
       "      <td>-0.265968</td>\n",
       "      <td>-0.908058</td>\n",
       "      <td>-0.444058</td>\n",
       "      <td>0.185709</td>\n",
       "      <td>0.216645</td>\n",
       "      <td>-0.742436</td>\n",
       "      <td>-0.61764</td>\n",
       "    </tr>\n",
       "    <tr>\n",
       "      <td>4</td>\n",
       "      <td>0.0</td>\n",
       "      <td>0.0</td>\n",
       "      <td>0.0</td>\n",
       "      <td>0.0</td>\n",
       "      <td>0.0</td>\n",
       "      <td>0.0</td>\n",
       "      <td>0.0</td>\n",
       "      <td>0.0</td>\n",
       "      <td>0.0</td>\n",
       "      <td>0.0</td>\n",
       "      <td>...</td>\n",
       "      <td>1.100733</td>\n",
       "      <td>0.176158</td>\n",
       "      <td>-0.372912</td>\n",
       "      <td>-1.158117</td>\n",
       "      <td>0.205226</td>\n",
       "      <td>0.222709</td>\n",
       "      <td>-0.438419</td>\n",
       "      <td>1.415186</td>\n",
       "      <td>-0.032427</td>\n",
       "      <td>-0.61764</td>\n",
       "    </tr>\n",
       "  </tbody>\n",
       "</table>\n",
       "<p>5 rows × 64 columns</p>\n",
       "</div>"
      ],
      "text/plain": [
       "   Intl_Plan  Vmail_Plan  x0_AK  x0_AL  x0_AR  x0_AZ  x0_CA  x0_CO  x0_CT  \\\n",
       "0        1.0         0.0    0.0    0.0    0.0    0.0    0.0    0.0    0.0   \n",
       "1        0.0         0.0    0.0    0.0    0.0    0.0    0.0    0.0    0.0   \n",
       "2        0.0         0.0    0.0    0.0    0.0    0.0    0.0    0.0    0.0   \n",
       "3        0.0         0.0    0.0    0.0    0.0    0.0    0.0    0.0    0.0   \n",
       "4        0.0         0.0    0.0    0.0    0.0    0.0    0.0    0.0    0.0   \n",
       "\n",
       "   x0_DC  ...  CustServ_Calls  Day_Calls  Day_Charge  Eve_Calls  Eve_Charge  \\\n",
       "0    0.0  ...       -0.423065  -2.753795   -0.829723   0.328797   -0.253457   \n",
       "1    0.0  ...        3.386430  -0.469424   -0.453907   0.378361    1.330035   \n",
       "2    0.0  ...       -1.184964  -0.171463   -1.281134  -0.216405   -1.666383   \n",
       "3    0.0  ...       -0.423065  -1.412969   -0.690412  -0.265968   -0.908058   \n",
       "4    0.0  ...        1.100733   0.176158   -0.372912  -1.158117    0.205226   \n",
       "\n",
       "   Night_Calls  Night_Charge  Intl_Calls  Intl_Charge  Vmail_Message_b  \n",
       "0    -0.546637     -0.385302   -0.981897     0.151650         -0.61764  \n",
       "1    -0.033740     -0.248082   -0.182869     0.217391         -0.61764  \n",
       "2    -0.803086      1.881035    0.616159    -0.702991         -0.61764  \n",
       "3    -0.444058      0.185709    0.216645    -0.742436         -0.61764  \n",
       "4     0.222709     -0.438419    1.415186    -0.032427         -0.61764  \n",
       "\n",
       "[5 rows x 64 columns]"
      ]
     },
     "execution_count": 63,
     "metadata": {},
     "output_type": "execute_result"
    }
   ],
   "source": [
    "# Forming transformed DF with transformed features (features standardized)\n",
    "\n",
    "X_train_tf_ss = pd.DataFrame(preprocessor_ss.fit_transform(X_train).toarray(), columns=features_transformed)\n",
    "X_train_tf_ss.head()"
   ]
  },
  {
   "cell_type": "code",
   "execution_count": 64,
   "metadata": {},
   "outputs": [
    {
     "data": {
      "text/html": [
       "<div>\n",
       "<style scoped>\n",
       "    .dataframe tbody tr th:only-of-type {\n",
       "        vertical-align: middle;\n",
       "    }\n",
       "\n",
       "    .dataframe tbody tr th {\n",
       "        vertical-align: top;\n",
       "    }\n",
       "\n",
       "    .dataframe thead th {\n",
       "        text-align: right;\n",
       "    }\n",
       "</style>\n",
       "<table border=\"1\" class=\"dataframe\">\n",
       "  <thead>\n",
       "    <tr style=\"text-align: right;\">\n",
       "      <th></th>\n",
       "      <th>Intl_Plan</th>\n",
       "      <th>Vmail_Plan</th>\n",
       "      <th>x0_AK</th>\n",
       "      <th>x0_AL</th>\n",
       "      <th>x0_AR</th>\n",
       "      <th>x0_AZ</th>\n",
       "      <th>x0_CA</th>\n",
       "      <th>x0_CO</th>\n",
       "      <th>x0_CT</th>\n",
       "      <th>x0_DC</th>\n",
       "      <th>...</th>\n",
       "      <th>CustServ_Calls</th>\n",
       "      <th>Day_Calls</th>\n",
       "      <th>Day_Charge</th>\n",
       "      <th>Eve_Calls</th>\n",
       "      <th>Eve_Charge</th>\n",
       "      <th>Night_Calls</th>\n",
       "      <th>Night_Charge</th>\n",
       "      <th>Intl_Calls</th>\n",
       "      <th>Intl_Charge</th>\n",
       "      <th>Vmail_Message_b</th>\n",
       "    </tr>\n",
       "  </thead>\n",
       "  <tbody>\n",
       "    <tr>\n",
       "      <td>0</td>\n",
       "      <td>1.0</td>\n",
       "      <td>0.0</td>\n",
       "      <td>0.0</td>\n",
       "      <td>0.0</td>\n",
       "      <td>0.0</td>\n",
       "      <td>0.0</td>\n",
       "      <td>0.0</td>\n",
       "      <td>0.0</td>\n",
       "      <td>0.0</td>\n",
       "      <td>0.0</td>\n",
       "      <td>...</td>\n",
       "      <td>0.005465</td>\n",
       "      <td>0.245924</td>\n",
       "      <td>0.124219</td>\n",
       "      <td>0.584754</td>\n",
       "      <td>0.087221</td>\n",
       "      <td>0.486384</td>\n",
       "      <td>0.044758</td>\n",
       "      <td>0.010930</td>\n",
       "      <td>0.015794</td>\n",
       "      <td>0.0</td>\n",
       "    </tr>\n",
       "    <tr>\n",
       "      <td>1</td>\n",
       "      <td>0.0</td>\n",
       "      <td>0.0</td>\n",
       "      <td>0.0</td>\n",
       "      <td>0.0</td>\n",
       "      <td>0.0</td>\n",
       "      <td>0.0</td>\n",
       "      <td>0.0</td>\n",
       "      <td>0.0</td>\n",
       "      <td>0.0</td>\n",
       "      <td>0.0</td>\n",
       "      <td>...</td>\n",
       "      <td>0.024847</td>\n",
       "      <td>0.376844</td>\n",
       "      <td>0.108539</td>\n",
       "      <td>0.447244</td>\n",
       "      <td>0.094542</td>\n",
       "      <td>0.409974</td>\n",
       "      <td>0.035200</td>\n",
       "      <td>0.016565</td>\n",
       "      <td>0.012175</td>\n",
       "      <td>0.0</td>\n",
       "    </tr>\n",
       "    <tr>\n",
       "      <td>2</td>\n",
       "      <td>0.0</td>\n",
       "      <td>0.0</td>\n",
       "      <td>0.0</td>\n",
       "      <td>0.0</td>\n",
       "      <td>0.0</td>\n",
       "      <td>0.0</td>\n",
       "      <td>0.0</td>\n",
       "      <td>0.0</td>\n",
       "      <td>0.0</td>\n",
       "      <td>0.0</td>\n",
       "      <td>...</td>\n",
       "      <td>0.000000</td>\n",
       "      <td>0.546326</td>\n",
       "      <td>0.104478</td>\n",
       "      <td>0.540694</td>\n",
       "      <td>0.055365</td>\n",
       "      <td>0.473107</td>\n",
       "      <td>0.074965</td>\n",
       "      <td>0.033793</td>\n",
       "      <td>0.012616</td>\n",
       "      <td>0.0</td>\n",
       "    </tr>\n",
       "    <tr>\n",
       "      <td>3</td>\n",
       "      <td>0.0</td>\n",
       "      <td>0.0</td>\n",
       "      <td>0.0</td>\n",
       "      <td>0.0</td>\n",
       "      <td>0.0</td>\n",
       "      <td>0.0</td>\n",
       "      <td>0.0</td>\n",
       "      <td>0.0</td>\n",
       "      <td>0.0</td>\n",
       "      <td>0.0</td>\n",
       "      <td>...</td>\n",
       "      <td>0.005702</td>\n",
       "      <td>0.410552</td>\n",
       "      <td>0.136965</td>\n",
       "      <td>0.541701</td>\n",
       "      <td>0.074812</td>\n",
       "      <td>0.518893</td>\n",
       "      <td>0.054056</td>\n",
       "      <td>0.028511</td>\n",
       "      <td>0.012602</td>\n",
       "      <td>0.0</td>\n",
       "    </tr>\n",
       "    <tr>\n",
       "      <td>4</td>\n",
       "      <td>0.0</td>\n",
       "      <td>0.0</td>\n",
       "      <td>0.0</td>\n",
       "      <td>0.0</td>\n",
       "      <td>0.0</td>\n",
       "      <td>0.0</td>\n",
       "      <td>0.0</td>\n",
       "      <td>0.0</td>\n",
       "      <td>0.0</td>\n",
       "      <td>0.0</td>\n",
       "      <td>...</td>\n",
       "      <td>0.014281</td>\n",
       "      <td>0.495060</td>\n",
       "      <td>0.128335</td>\n",
       "      <td>0.366535</td>\n",
       "      <td>0.085445</td>\n",
       "      <td>0.495060</td>\n",
       "      <td>0.038415</td>\n",
       "      <td>0.038082</td>\n",
       "      <td>0.013091</td>\n",
       "      <td>0.0</td>\n",
       "    </tr>\n",
       "  </tbody>\n",
       "</table>\n",
       "<p>5 rows × 64 columns</p>\n",
       "</div>"
      ],
      "text/plain": [
       "   Intl_Plan  Vmail_Plan  x0_AK  x0_AL  x0_AR  x0_AZ  x0_CA  x0_CO  x0_CT  \\\n",
       "0        1.0         0.0    0.0    0.0    0.0    0.0    0.0    0.0    0.0   \n",
       "1        0.0         0.0    0.0    0.0    0.0    0.0    0.0    0.0    0.0   \n",
       "2        0.0         0.0    0.0    0.0    0.0    0.0    0.0    0.0    0.0   \n",
       "3        0.0         0.0    0.0    0.0    0.0    0.0    0.0    0.0    0.0   \n",
       "4        0.0         0.0    0.0    0.0    0.0    0.0    0.0    0.0    0.0   \n",
       "\n",
       "   x0_DC  ...  CustServ_Calls  Day_Calls  Day_Charge  Eve_Calls  Eve_Charge  \\\n",
       "0    0.0  ...        0.005465   0.245924    0.124219   0.584754    0.087221   \n",
       "1    0.0  ...        0.024847   0.376844    0.108539   0.447244    0.094542   \n",
       "2    0.0  ...        0.000000   0.546326    0.104478   0.540694    0.055365   \n",
       "3    0.0  ...        0.005702   0.410552    0.136965   0.541701    0.074812   \n",
       "4    0.0  ...        0.014281   0.495060    0.128335   0.366535    0.085445   \n",
       "\n",
       "   Night_Calls  Night_Charge  Intl_Calls  Intl_Charge  Vmail_Message_b  \n",
       "0     0.486384      0.044758    0.010930     0.015794              0.0  \n",
       "1     0.409974      0.035200    0.016565     0.012175              0.0  \n",
       "2     0.473107      0.074965    0.033793     0.012616              0.0  \n",
       "3     0.518893      0.054056    0.028511     0.012602              0.0  \n",
       "4     0.495060      0.038415    0.038082     0.013091              0.0  \n",
       "\n",
       "[5 rows x 64 columns]"
      ]
     },
     "execution_count": 64,
     "metadata": {},
     "output_type": "execute_result"
    }
   ],
   "source": [
    "# Forming transformed DF with transformed features (features normalized)\n",
    "\n",
    "X_train_tf_norm = pd.DataFrame(preprocessor_norm.fit_transform(X_train).toarray(), columns=features_transformed)\n",
    "X_train_tf_norm.head()"
   ]
  },
  {
   "cell_type": "markdown",
   "metadata": {},
   "source": [
    "---"
   ]
  },
  {
   "cell_type": "markdown",
   "metadata": {},
   "source": [
    "<p><a name=\"mlm\"></a></p>\n",
    "\n",
    "## ML Models"
   ]
  },
  {
   "cell_type": "code",
   "execution_count": 65,
   "metadata": {},
   "outputs": [],
   "source": [
    "# Instantiate ML Model\n",
    "\n",
    "logreg = LogisticRegression()"
   ]
  },
  {
   "cell_type": "markdown",
   "metadata": {},
   "source": [
    "---"
   ]
  },
  {
   "cell_type": "markdown",
   "metadata": {},
   "source": [
    "<p><a name=\"skpipe\"></a></p>\n",
    "\n",
    "## Pipeline: sklearn"
   ]
  },
  {
   "cell_type": "code",
   "execution_count": 66,
   "metadata": {},
   "outputs": [],
   "source": [
    "# Make pipeline of all transformation and Logistic model\n",
    "\n",
    "# pipe = make_pipeline(preprocessor, logreg)\n",
    "# pipe_norm = make_pipeline(preprocessor_norm, logreg)\n",
    "pipe_ss = make_pipeline(preprocessor_ss, logreg)"
   ]
  },
  {
   "cell_type": "code",
   "execution_count": 67,
   "metadata": {},
   "outputs": [],
   "source": [
    "# pipe.fit(X_train, y_train);\n",
    "# pipe_norm.fit(X_train, y_train);\n",
    "pipe_ss.fit(X_train, y_train);"
   ]
  },
  {
   "cell_type": "code",
   "execution_count": 68,
   "metadata": {},
   "outputs": [],
   "source": [
    "# y_pred = pipe.predict(X_test)\n",
    "# y_pred = pipe_norm.predict(X_test)\n",
    "y_pred = pipe_ss.predict(X_test)"
   ]
  },
  {
   "cell_type": "code",
   "execution_count": 69,
   "metadata": {},
   "outputs": [],
   "source": [
    "# y_pred_proba = pipe.predict_proba(X_test)\n",
    "# y_pred_proba = pipe_norm.predict_proba(X_test)\n",
    "y_pred_proba = pipe_ss.predict_proba(X_test)"
   ]
  },
  {
   "cell_type": "markdown",
   "metadata": {},
   "source": [
    "---"
   ]
  },
  {
   "cell_type": "markdown",
   "metadata": {},
   "source": [
    "## Model Evaluation"
   ]
  },
  {
   "cell_type": "markdown",
   "metadata": {},
   "source": [
    "#### Functions for Model Evaluation"
   ]
  },
  {
   "cell_type": "code",
   "execution_count": 70,
   "metadata": {},
   "outputs": [],
   "source": [
    "def model_results(model_name, model, model_desc, y_test, y_pred):\n",
    "\n",
    "    '''\n",
    "    Descr:\n",
    "    This function contains methods for evaluating classification\n",
    "    models. Metrics beyond accuracy are included since we'll capture\n",
    "    how well these models perform given that there is a class imbalance\n",
    "\n",
    "    I/P:\n",
    "    1. Model name\n",
    "    2. Model (in case of pipeline, then the pipeline steps)\n",
    "    3. Model description\n",
    "    4. y_test : Actual target values from test set (this is not the\n",
    "                unseen data.)\n",
    "    5. y_pred : Values predicted by the model\n",
    "\n",
    "    O/P:\n",
    "    No return values. Metrics for evaluating the model are stored in \n",
    "    a Pandas dataframe (global) to enable comparison of metrics across \n",
    "    different models. \n",
    "    '''     \n",
    "    \n",
    "    print('-'*60)\n",
    "\n",
    "    accuracy = np.round((accuracy_score(y_test, y_pred)),2)\n",
    "    precision = np.round((precision_score(y_test, y_pred)),2)\n",
    "    recall = np.round((recall_score(y_test, y_pred)),2)\n",
    "    f1score = np.round((f1_score(y_test, y_pred)),2)\n",
    "    cm = confusion_matrix(y_test, y_pred)\n",
    "    tp, fp, fn, tn = cm[0][0], cm[0][1], cm[1][0], cm[1][1]\n",
    "    \n",
    "    print('Accuracy  = %0.2f'%(accuracy))\n",
    "    print('Precision = %0.2f'%(precision))\n",
    "    print('Recall    = %0.2f'%(recall))\n",
    "    print('F1 score  = %0.2f'%(f1score))\n",
    "\n",
    "    print('-'*30)\n",
    "    print('Confusion Matrix:\\n', cm)\n",
    "\n",
    "    print('-'*30)\n",
    "    print('Classification Report:\\n', classification_report(y_test, y_pred))\n",
    "    \n",
    "    model_results_dict = {'Model_Name' : model_name\n",
    "                         ,'Model' : model\n",
    "                         ,'Model_Description' : model_desc \n",
    "                         ,'Accuracy' : accuracy\n",
    "                         ,'Precision' : precision\n",
    "                         ,'Recall' : recall\n",
    "                         ,'F1_Score' : f1score\n",
    "                         ,'TP' : tp\n",
    "                         ,'FP' : fp\n",
    "                         ,'FN' : fn\n",
    "                         ,'TN' : tn}\n",
    "    \n",
    "    print('-'*60)\n",
    "    \n",
    "    df_exists = 'model_results_df' in locals() or 'model_results_df' in globals()\n",
    "    if not df_exists:\n",
    "        global model_results_df\n",
    "        model_results_df = pd.DataFrame()\n",
    "        model_results_df = model_results_df.append(model_results_dict, ignore_index=True)\n",
    "    else:\n",
    "        model_results_df = model_results_df.append(model_results_dict, ignore_index=True)\n",
    "    \n",
    "    model_results_df['TP'] = model_results_df['TP'].astype('int')\n",
    "    model_results_df['FP'] = model_results_df['FP'].astype('int')\n",
    "    model_results_df['FN'] = model_results_df['FN'].astype('int')\n",
    "    model_results_df['TN'] = model_results_df['TN'].astype('int')\n",
    "\n",
    "    model_results_df = model_results_df[['Model_Name', 'Model_Description', 'Accuracy', 'Precision', 'Recall', 'F1_Score', 'TP', 'FP', 'FN', 'TN', 'Model']]\n",
    "    pass\n",
    "    "
   ]
  },
  {
   "cell_type": "code",
   "execution_count": 71,
   "metadata": {},
   "outputs": [],
   "source": [
    "def auroc(model_name, model, X_test, y_test):\n",
    "\n",
    "    '''\n",
    "    Descr:\n",
    "    This function plots the Area under the ROC curve and this will\n",
    "    enable us to compare different models visually as well with the\n",
    "    AUC score.\n",
    "\n",
    "    I/P:\n",
    "    1. Model name\n",
    "    2. Model\n",
    "    3. X_test : Test set feature array \n",
    "    4. y_test : Actual target values from test set (this is not the\n",
    "                unseen data.)\n",
    "\n",
    "    O/P:\n",
    "    No return values. Just a plot of the ROC curve and AUC score. \n",
    "    '''\n",
    "    \n",
    "    y_pred_proba = model.predict_proba(X_test)[:, 1]\n",
    "    fpr, tpr, thresholds = roc_curve(y_test, y_pred_proba)\n",
    "    \n",
    "    plt.plot(fpr, tpr)\n",
    "    \n",
    "    plt.ylabel('TPR / Recall')\n",
    "    plt.xlabel('FPR')\n",
    "    auc = roc_auc_score(y_test, y_pred_proba)\n",
    "    \n",
    "    plt.suptitle('ROC Curve of '+ str(model_name), size=14)#, fontweight='bold')\n",
    "    plt.title('AUROC: %0.2f'%auc)\n",
    "\n",
    "    # plot diagonal that illustrates model that randomly guesses\n",
    "    plt.plot([0,1],[0,1], linestyle='--', color='orange', label='Random guess model')\n",
    "\n",
    "    plt.legend(loc='lower right')\n",
    "    plt.show()    "
   ]
  },
  {
   "cell_type": "markdown",
   "metadata": {},
   "source": [
    "---"
   ]
  },
  {
   "cell_type": "markdown",
   "metadata": {},
   "source": [
    "#### Evaluating sklearn pipeline metrics"
   ]
  },
  {
   "cell_type": "code",
   "execution_count": 72,
   "metadata": {},
   "outputs": [
    {
     "name": "stdout",
     "output_type": "stream",
     "text": [
      "------------------------------------------------------------\n",
      "Accuracy  = 0.84\n",
      "Precision = 0.47\n",
      "Recall    = 0.17\n",
      "F1 score  = 0.25\n",
      "------------------------------\n",
      "Confusion Matrix:\n",
      " [[539  20]\n",
      " [ 90  18]]\n",
      "------------------------------\n",
      "Classification Report:\n",
      "               precision    recall  f1-score   support\n",
      "\n",
      "           0       0.86      0.96      0.91       559\n",
      "           1       0.47      0.17      0.25       108\n",
      "\n",
      "    accuracy                           0.84       667\n",
      "   macro avg       0.67      0.57      0.58       667\n",
      "weighted avg       0.79      0.84      0.80       667\n",
      "\n",
      "------------------------------------------------------------\n"
     ]
    }
   ],
   "source": [
    "model_results('pipe_ss', pipe_ss, 'Sk Pipe: Preprocessing + Std + LogReg', y_test, y_pred)"
   ]
  },
  {
   "cell_type": "code",
   "execution_count": 73,
   "metadata": {},
   "outputs": [
    {
     "data": {
      "text/html": [
       "<div>\n",
       "<style scoped>\n",
       "    .dataframe tbody tr th:only-of-type {\n",
       "        vertical-align: middle;\n",
       "    }\n",
       "\n",
       "    .dataframe tbody tr th {\n",
       "        vertical-align: top;\n",
       "    }\n",
       "\n",
       "    .dataframe thead th {\n",
       "        text-align: right;\n",
       "    }\n",
       "</style>\n",
       "<table border=\"1\" class=\"dataframe\">\n",
       "  <thead>\n",
       "    <tr style=\"text-align: right;\">\n",
       "      <th></th>\n",
       "      <th>Model_Name</th>\n",
       "      <th>Model_Description</th>\n",
       "      <th>Accuracy</th>\n",
       "      <th>Precision</th>\n",
       "      <th>Recall</th>\n",
       "      <th>F1_Score</th>\n",
       "      <th>TP</th>\n",
       "      <th>FP</th>\n",
       "      <th>FN</th>\n",
       "      <th>TN</th>\n",
       "      <th>Model</th>\n",
       "    </tr>\n",
       "  </thead>\n",
       "  <tbody>\n",
       "    <tr>\n",
       "      <td>0</td>\n",
       "      <td>pipe_ss</td>\n",
       "      <td>Sk Pipe: Preprocessing + Std + LogReg</td>\n",
       "      <td>0.84</td>\n",
       "      <td>0.47</td>\n",
       "      <td>0.17</td>\n",
       "      <td>0.25</td>\n",
       "      <td>539</td>\n",
       "      <td>20</td>\n",
       "      <td>90</td>\n",
       "      <td>18</td>\n",
       "      <td>(ColumnTransformer(remainder='passthrough',\\n ...</td>\n",
       "    </tr>\n",
       "  </tbody>\n",
       "</table>\n",
       "</div>"
      ],
      "text/plain": [
       "  Model_Name                      Model_Description  Accuracy  Precision  \\\n",
       "0    pipe_ss  Sk Pipe: Preprocessing + Std + LogReg      0.84       0.47   \n",
       "\n",
       "   Recall  F1_Score   TP  FP  FN  TN  \\\n",
       "0    0.17      0.25  539  20  90  18   \n",
       "\n",
       "                                               Model  \n",
       "0  (ColumnTransformer(remainder='passthrough',\\n ...  "
      ]
     },
     "execution_count": 73,
     "metadata": {},
     "output_type": "execute_result"
    }
   ],
   "source": [
    "model_results_df"
   ]
  },
  {
   "cell_type": "code",
   "execution_count": 74,
   "metadata": {},
   "outputs": [],
   "source": [
    "# model_results_df.loc[0, 'Model']"
   ]
  },
  {
   "cell_type": "code",
   "execution_count": 75,
   "metadata": {
    "scrolled": false
   },
   "outputs": [
    {
     "data": {
      "image/png": "[encoded data removed]",
      "text/plain": [
       "<Figure size 432x288 with 1 Axes>"
      ]
     },
     "metadata": {},
     "output_type": "display_data"
    }
   ],
   "source": [
    "# ROC Curve\n",
    "\n",
    "auroc('pipe_ss', pipe_ss, X_test, y_test)"
   ]
  },
  {
   "cell_type": "markdown",
   "metadata": {},
   "source": [
    "---"
   ]
  },
  {
   "cell_type": "markdown",
   "metadata": {},
   "source": [
    "<p><a name=\"hyp\"></a></p>\n",
    "\n",
    "## Hyperparameter Tuning"
   ]
  },
  {
   "cell_type": "code",
   "execution_count": 90,
   "metadata": {},
   "outputs": [
    {
     "data": {
      "text/plain": [
       "array([559, 108])"
      ]
     },
     "execution_count": 90,
     "metadata": {},
     "output_type": "execute_result"
    }
   ],
   "source": [
    "np.bincount(y_test)\n",
    "\n",
    "# 559/108"
   ]
  },
  {
   "cell_type": "code",
   "execution_count": 91,
   "metadata": {},
   "outputs": [
    {
     "data": {
      "text/plain": [
       "{'logisticregression__C': [0.1, 1, 10, 100],\n",
       " 'logisticregression__solver': ['liblinear'],\n",
       " 'logisticregression__max_iter': [100, 1000, 10000],\n",
       " 'logisticregression__class_weight': [{0: 1, 1: 5},\n",
       "  {0: 1, 1: 10},\n",
       "  {0: 5, 1: 1}]}"
      ]
     },
     "execution_count": 91,
     "metadata": {},
     "output_type": "execute_result"
    }
   ],
   "source": [
    "params = {}\n",
    "params['logisticregression__C'] = [0.1, 1, 10, 100]\n",
    "params['logisticregression__solver'] = ['liblinear'] #['lbfgs', 'liblinear']\n",
    "params['logisticregression__max_iter'] = [100,1000,10000]\n",
    "params['logisticregression__class_weight'] = [{0:1, 1:5}, {0:1, 1:10}, {0:5, 1:1}]\n",
    "params"
   ]
  },
  {
   "cell_type": "code",
   "execution_count": 92,
   "metadata": {
    "scrolled": false
   },
   "outputs": [],
   "source": [
    "grid = GridSearchCV(estimator=pipe_ss, param_grid=params, cv=5, scoring='f1')\n",
    "grid.fit(X_train, y_train);"
   ]
  },
  {
   "cell_type": "code",
   "execution_count": 93,
   "metadata": {},
   "outputs": [],
   "source": [
    "# pd.DataFrame(grid.cv_results_).sort_values('rank_test_score').head()"
   ]
  },
  {
   "cell_type": "code",
   "execution_count": 94,
   "metadata": {},
   "outputs": [
    {
     "data": {
      "text/plain": [
       "0.47694588514566216"
      ]
     },
     "execution_count": 94,
     "metadata": {},
     "output_type": "execute_result"
    }
   ],
   "source": [
    "# Best score and parameters\n",
    "grid.best_score_"
   ]
  },
  {
   "cell_type": "code",
   "execution_count": 95,
   "metadata": {},
   "outputs": [
    {
     "data": {
      "text/plain": [
       "{'logisticregression__C': 0.1,\n",
       " 'logisticregression__class_weight': {0: 1, 1: 5},\n",
       " 'logisticregression__max_iter': 100,\n",
       " 'logisticregression__solver': 'liblinear'}"
      ]
     },
     "execution_count": 95,
     "metadata": {},
     "output_type": "execute_result"
    }
   ],
   "source": [
    "grid.best_params_"
   ]
  },
  {
   "cell_type": "code",
   "execution_count": 96,
   "metadata": {},
   "outputs": [],
   "source": [
    "grid_best_estimator = grid.best_estimator_\n",
    "grid_best_estimator;"
   ]
  },
  {
   "cell_type": "code",
   "execution_count": 97,
   "metadata": {},
   "outputs": [],
   "source": [
    "grid_best_estimator.fit(X_train, y_train);"
   ]
  },
  {
   "cell_type": "code",
   "execution_count": 98,
   "metadata": {},
   "outputs": [],
   "source": [
    "y_pred_best = grid_best_estimator.predict(X_test)"
   ]
  },
  {
   "cell_type": "code",
   "execution_count": 99,
   "metadata": {},
   "outputs": [
    {
     "name": "stdout",
     "output_type": "stream",
     "text": [
      "------------------------------------------------------------\n",
      "Accuracy  = 0.79\n",
      "Precision = 0.40\n",
      "Recall    = 0.59\n",
      "F1 score  = 0.48\n",
      "------------------------------\n",
      "Confusion Matrix:\n",
      " [[463  96]\n",
      " [ 44  64]]\n",
      "------------------------------\n",
      "Classification Report:\n",
      "               precision    recall  f1-score   support\n",
      "\n",
      "           0       0.91      0.83      0.87       559\n",
      "           1       0.40      0.59      0.48       108\n",
      "\n",
      "    accuracy                           0.79       667\n",
      "   macro avg       0.66      0.71      0.67       667\n",
      "weighted avg       0.83      0.79      0.81       667\n",
      "\n",
      "------------------------------------------------------------\n"
     ]
    }
   ],
   "source": [
    "model_results('grid_best_estimator'\n",
    "              ,grid_best_estimator\n",
    "              ,'Sk Pipe: Preprocessing + Std + LogReg + HT + HT_CW'\n",
    "              ,y_test\n",
    "              ,y_pred_best)\n"
   ]
  },
  {
   "cell_type": "code",
   "execution_count": 100,
   "metadata": {},
   "outputs": [
    {
     "data": {
      "text/html": [
       "<div>\n",
       "<style scoped>\n",
       "    .dataframe tbody tr th:only-of-type {\n",
       "        vertical-align: middle;\n",
       "    }\n",
       "\n",
       "    .dataframe tbody tr th {\n",
       "        vertical-align: top;\n",
       "    }\n",
       "\n",
       "    .dataframe thead th {\n",
       "        text-align: right;\n",
       "    }\n",
       "</style>\n",
       "<table border=\"1\" class=\"dataframe\">\n",
       "  <thead>\n",
       "    <tr style=\"text-align: right;\">\n",
       "      <th></th>\n",
       "      <th>Model_Name</th>\n",
       "      <th>Model_Description</th>\n",
       "      <th>Accuracy</th>\n",
       "      <th>Precision</th>\n",
       "      <th>Recall</th>\n",
       "      <th>F1_Score</th>\n",
       "      <th>TP</th>\n",
       "      <th>FP</th>\n",
       "      <th>FN</th>\n",
       "      <th>TN</th>\n",
       "      <th>Model</th>\n",
       "    </tr>\n",
       "  </thead>\n",
       "  <tbody>\n",
       "    <tr>\n",
       "      <td>0</td>\n",
       "      <td>pipe_ss</td>\n",
       "      <td>Sk Pipe: Preprocessing + Std + LogReg</td>\n",
       "      <td>0.84</td>\n",
       "      <td>0.47</td>\n",
       "      <td>0.17</td>\n",
       "      <td>0.25</td>\n",
       "      <td>539</td>\n",
       "      <td>20</td>\n",
       "      <td>90</td>\n",
       "      <td>18</td>\n",
       "      <td>(ColumnTransformer(remainder='passthrough',\\n ...</td>\n",
       "    </tr>\n",
       "    <tr>\n",
       "      <td>1</td>\n",
       "      <td>grid_best_estimator</td>\n",
       "      <td>Sk Pipe: Preprocessing + Std + LogReg + HT</td>\n",
       "      <td>0.83</td>\n",
       "      <td>0.47</td>\n",
       "      <td>0.19</td>\n",
       "      <td>0.26</td>\n",
       "      <td>536</td>\n",
       "      <td>23</td>\n",
       "      <td>88</td>\n",
       "      <td>20</td>\n",
       "      <td>(ColumnTransformer(remainder='passthrough',\\n ...</td>\n",
       "    </tr>\n",
       "    <tr>\n",
       "      <td>2</td>\n",
       "      <td>grid_best_estimator</td>\n",
       "      <td>Sk Pipe: Preprocessing + Std + LogReg + HT + H...</td>\n",
       "      <td>0.79</td>\n",
       "      <td>0.40</td>\n",
       "      <td>0.59</td>\n",
       "      <td>0.48</td>\n",
       "      <td>463</td>\n",
       "      <td>96</td>\n",
       "      <td>44</td>\n",
       "      <td>64</td>\n",
       "      <td>(ColumnTransformer(remainder='passthrough',\\n ...</td>\n",
       "    </tr>\n",
       "  </tbody>\n",
       "</table>\n",
       "</div>"
      ],
      "text/plain": [
       "            Model_Name                                  Model_Description  \\\n",
       "0              pipe_ss              Sk Pipe: Preprocessing + Std + LogReg   \n",
       "1  grid_best_estimator         Sk Pipe: Preprocessing + Std + LogReg + HT   \n",
       "2  grid_best_estimator  Sk Pipe: Preprocessing + Std + LogReg + HT + H...   \n",
       "\n",
       "   Accuracy  Precision  Recall  F1_Score   TP  FP  FN  TN  \\\n",
       "0      0.84       0.47    0.17      0.25  539  20  90  18   \n",
       "1      0.83       0.47    0.19      0.26  536  23  88  20   \n",
       "2      0.79       0.40    0.59      0.48  463  96  44  64   \n",
       "\n",
       "                                               Model  \n",
       "0  (ColumnTransformer(remainder='passthrough',\\n ...  \n",
       "1  (ColumnTransformer(remainder='passthrough',\\n ...  \n",
       "2  (ColumnTransformer(remainder='passthrough',\\n ...  "
      ]
     },
     "execution_count": 100,
     "metadata": {},
     "output_type": "execute_result"
    }
   ],
   "source": [
    "model_results_df"
   ]
  },
  {
   "cell_type": "markdown",
   "metadata": {},
   "source": [
    "---"
   ]
  },
  {
   "cell_type": "markdown",
   "metadata": {},
   "source": [
    "### Handling Imbalance"
   ]
  },
  {
   "cell_type": "code",
   "execution_count": null,
   "metadata": {},
   "outputs": [],
   "source": [
    "# We want to handle the class imbalance by working on the \n",
    "# preprocessed training and test set. Once the class is \n",
    "# balanced on the preprocessed data, we will run ML models\n",
    "# on them. In this regard, we will .transform() the test data\n",
    "# set and use that to the imb_pipe.predict() method \n",
    "# Recall, .predict needs the test dataset, and we want to use\n",
    "# the preprocessed test data set.\n",
    "\n",
    "\n",
    "\n",
    "\n",
    "# I think imb_pipe then has to be within sklearn pipe \n",
    "# Step 1 of sklearn pipe: sklearn pipe for preprocessing \n",
    "# Step 2 of sklearn pipe: imbpipe for class imbalance\n",
    "# Step 3 of sklearn pipe: ML models ()\n",
    "\n",
    "\n",
    "\n",
    "\n",
    "\n",
    "\n",
    "\n",
    "\n",
    "## Transforming the TEST dataset so that it can be used within\n",
    "# the imblearn pipeline to handle class imbalance\n",
    "\n",
    "X_test_tf = pd.DataFrame(preprocessor.transform(X_test).toarray(), columns=features_transformed)\n",
    "# X_test_tf.head()\n",
    "\n",
    "X_test_tf_ss = pd.DataFrame(preprocessor_ss.transform(X_test).toarray(), columns=features_transformed)\n",
    "# X_test_tf_ss.head()"
   ]
  },
  {
   "cell_type": "code",
   "execution_count": null,
   "metadata": {},
   "outputs": [],
   "source": [
    "smote = SMOTE()\n",
    "\n",
    "logreg = LogisticRegression()"
   ]
  },
  {
   "cell_type": "code",
   "execution_count": null,
   "metadata": {},
   "outputs": [],
   "source": [
    "imb_pipe = imb_make_pipeline(smote, logreg)\n",
    "imb_pipe"
   ]
  },
  {
   "cell_type": "code",
   "execution_count": null,
   "metadata": {},
   "outputs": [],
   "source": [
    "# X_train_tf_ss\n",
    "# y_train\n",
    "X_test_tf_ss.head()"
   ]
  },
  {
   "cell_type": "code",
   "execution_count": null,
   "metadata": {},
   "outputs": [],
   "source": [
    "imb_pipe.fit(X_train_tf_ss, y_train)\n",
    "y_pred_imb = imb_pipe.predict(X_test_tf_ss)\n",
    "\n",
    "confusion_matrix(y_test, y_pred_imb)"
   ]
  },
  {
   "cell_type": "markdown",
   "metadata": {},
   "source": [
    "---"
   ]
  },
  {
   "cell_type": "code",
   "execution_count": null,
   "metadata": {},
   "outputs": [],
   "source": [
    "# Evaluating the handling of class imbalance passed to Logistic \n",
    "# Regression ML model"
   ]
  },
  {
   "cell_type": "code",
   "execution_count": null,
   "metadata": {},
   "outputs": [],
   "source": [
    "model_results('imb_pipe', imb_pipe, 'Imb Pipe on Preprocessing + Standardization', y_test, y_pred_imb)"
   ]
  },
  {
   "cell_type": "code",
   "execution_count": null,
   "metadata": {},
   "outputs": [],
   "source": [
    "# Access model results df\n",
    "\n",
    "model_results_df"
   ]
  },
  {
   "cell_type": "code",
   "execution_count": null,
   "metadata": {},
   "outputs": [],
   "source": [
    "auroc('imb_pipe', imb_pipe, X_test_tf_ss, y_test)\n",
    "# auroc(imb_pipe, X_test_tf, y_test)"
   ]
  },
  {
   "cell_type": "markdown",
   "metadata": {},
   "source": [
    "---"
   ]
  },
  {
   "cell_type": "markdown",
   "metadata": {},
   "source": [
    "---"
   ]
  },
  {
   "cell_type": "markdown",
   "metadata": {},
   "source": [
    "### Feature Selection-2"
   ]
  },
  {
   "cell_type": "code",
   "execution_count": null,
   "metadata": {},
   "outputs": [],
   "source": [
    "bestk = SelectKBest(score_func=chi2, k='all')\n",
    "bestk"
   ]
  },
  {
   "cell_type": "code",
   "execution_count": null,
   "metadata": {},
   "outputs": [],
   "source": [
    "bestk.fit(X_train_tf, y_train)"
   ]
  },
  {
   "cell_type": "code",
   "execution_count": null,
   "metadata": {},
   "outputs": [],
   "source": [
    "idx_with_pval_less_005 = []\n",
    "for idx, pval in enumerate(bestk.pvalues_):\n",
    "    if pval < 0.05:\n",
    "        idx_with_pval_less_005.append(idx)\n",
    "\n",
    "len(idx_with_pval_less_005)"
   ]
  },
  {
   "cell_type": "code",
   "execution_count": null,
   "metadata": {},
   "outputs": [],
   "source": [
    "# Filter X_train_tf dataframe to contain only statistically significant features\n",
    "# Note: This is a univariate selection so its only comparing individual feature\n",
    "# with the target.\n",
    "\n",
    "X_train_tf_chi2_selected = X_train_tf.iloc[:, idx_with_pval_less_005]\n",
    "X_train_tf_chi2_selected.head()"
   ]
  },
  {
   "cell_type": "code",
   "execution_count": null,
   "metadata": {},
   "outputs": [],
   "source": [
    "# All the preselected features for feature selection seem important based on\n",
    "# their low p-values (<0.05)\n",
    "pd.DataFrame(zip(X_train_tf, bestk.pvalues_), columns=['Features','pvalues'])"
   ]
  },
  {
   "cell_type": "code",
   "execution_count": null,
   "metadata": {},
   "outputs": [],
   "source": [
    "# grid_best_estimator.fit(X_train_tf_chi2_selected, y_train)"
   ]
  },
  {
   "cell_type": "code",
   "execution_count": null,
   "metadata": {},
   "outputs": [],
   "source": []
  },
  {
   "cell_type": "markdown",
   "metadata": {},
   "source": [
    "---"
   ]
  },
  {
   "cell_type": "code",
   "execution_count": null,
   "metadata": {},
   "outputs": [],
   "source": [
    "# See variable selection from Datacamp logistic regression\n",
    "\n",
    "\n",
    "\n",
    "\n",
    "\n",
    "\n"
   ]
  },
  {
   "cell_type": "markdown",
   "metadata": {},
   "source": [
    "---"
   ]
  },
  {
   "cell_type": "markdown",
   "metadata": {},
   "source": [
    "### RFE within pipeline"
   ]
  },
  {
   "cell_type": "code",
   "execution_count": null,
   "metadata": {},
   "outputs": [],
   "source": [
    "rfe = RFE(logreg, step=1)\n",
    "rfe"
   ]
  },
  {
   "cell_type": "code",
   "execution_count": null,
   "metadata": {},
   "outputs": [],
   "source": [
    "pipe_with_fs = make_pipeline(preprocessor, rfe, logreg)"
   ]
  },
  {
   "cell_type": "code",
   "execution_count": null,
   "metadata": {},
   "outputs": [],
   "source": [
    "pipe_with_fs.fit(X_train, y_train);"
   ]
  },
  {
   "cell_type": "code",
   "execution_count": null,
   "metadata": {},
   "outputs": [],
   "source": [
    "y_pred_with_fs = pipe_with_fs.predict(X_test)"
   ]
  },
  {
   "cell_type": "code",
   "execution_count": null,
   "metadata": {},
   "outputs": [],
   "source": [
    "y_pred_proba_with_fs = pipe_with_fs.predict_proba(X_test)\n",
    "y_pred_proba_with_fs"
   ]
  },
  {
   "cell_type": "code",
   "execution_count": null,
   "metadata": {},
   "outputs": [],
   "source": [
    "# Confusion matrix as this is a imbalanced dataset\n",
    "\n",
    "confusion_matrix(y_test, y_pred_with_fs)"
   ]
  },
  {
   "cell_type": "code",
   "execution_count": null,
   "metadata": {},
   "outputs": [],
   "source": [
    "print('Precision = {0:.2f}%'.format(precision_score(y_test, y_pred_with_fs)*100))\n",
    "print('Recall    = {0:.2f}%'.format(recall_score(y_test, y_pred_with_fs)*100))\n",
    "print('F1 Score  = {0:.2f}%'.format(f1_score(y_test, y_pred_with_fs)*100))"
   ]
  },
  {
   "cell_type": "code",
   "execution_count": null,
   "metadata": {
    "scrolled": false
   },
   "outputs": [],
   "source": [
    "print(classification_report(y_test, y_pred_with_fs))"
   ]
  },
  {
   "cell_type": "code",
   "execution_count": null,
   "metadata": {},
   "outputs": [],
   "source": [
    "pipe_with_fs.score(X_test, y_test)"
   ]
  },
  {
   "cell_type": "markdown",
   "metadata": {},
   "source": [
    "**Accuracy increased by ~1% with RFE**"
   ]
  },
  {
   "cell_type": "code",
   "execution_count": null,
   "metadata": {},
   "outputs": [],
   "source": [
    "fpr_with_fs, tpr_with_fs, thresholds_with_fs = roc_curve(y_test, y_pred_proba_with_fs[:,1])\n",
    "\n",
    "roc_df_with_fs = pd.DataFrame({'FPR': fpr_with_fs, 'TPR':tpr_with_fs, 'Thresholds':thresholds_with_fs})\n",
    "roc_df_with_fs.head()"
   ]
  },
  {
   "cell_type": "code",
   "execution_count": null,
   "metadata": {},
   "outputs": [],
   "source": [
    "# Plotting the ROC curve\n",
    "\n",
    "plt.plot(fpr_with_fs, tpr_with_fs, label='ROC Curve after RFE')\n",
    "\n",
    "plt.ylabel('True Positive Rate (TPR) / Recall / Sensitivity')\n",
    "plt.xlabel('False Positive Rate (FPR) or (1-Specificity)')\n",
    "plt.title('ROC Curve of Logistic model', size=14)\n",
    "\n",
    "# plot diagonal that illustrates model that randomly guesses\n",
    "plt.plot([0,1],[0,1], linestyle='--', color='orange', label='Random guess model')\n",
    "\n",
    "plt.legend(loc='lower right')\n",
    "plt.show()"
   ]
  },
  {
   "cell_type": "code",
   "execution_count": null,
   "metadata": {},
   "outputs": [],
   "source": [
    "roc_auc_score(y_test, y_pred_proba_with_fs[:,1])"
   ]
  },
  {
   "cell_type": "markdown",
   "metadata": {},
   "source": [
    "**AUC dropped ~2% by using dataset post RFE**"
   ]
  },
  {
   "cell_type": "markdown",
   "metadata": {},
   "source": [
    "---"
   ]
  },
  {
   "cell_type": "markdown",
   "metadata": {},
   "source": [
    "### DF of RFE important features (RFE rank=1)\n",
    "\n",
    "- The transform() method of RFE selects features that have a ranking=1 that is determined within the RFE fit() method\n",
    "- Within the pipeline, only those pre-selected features are sent to the ML model.\n",
    "- Below, we form a dataframe containing those RFE selected features"
   ]
  },
  {
   "cell_type": "code",
   "execution_count": null,
   "metadata": {},
   "outputs": [],
   "source": [
    "# Checking if RFE within the pipeline selected 32 features or not\n",
    "# Based on a individual run of RFE on df_train_tf"
   ]
  },
  {
   "cell_type": "code",
   "execution_count": null,
   "metadata": {},
   "outputs": [],
   "source": [
    "# Obtain the ranking of each feature passed to RFE\n",
    "\n",
    "pipe_with_fs.steps[1][1].ranking_"
   ]
  },
  {
   "cell_type": "code",
   "execution_count": null,
   "metadata": {},
   "outputs": [],
   "source": [
    "# Get column numbers of features that have a rank=1\n",
    "\n",
    "idx_with_rank1 = []\n",
    "for idx, rank in enumerate(pipe_with_fs.steps[1][1].ranking_):\n",
    "    if rank == 1:\n",
    "        idx_with_rank1.append(idx)\n",
    "\n",
    "len(idx_with_rank1)"
   ]
  },
  {
   "cell_type": "code",
   "execution_count": null,
   "metadata": {},
   "outputs": [],
   "source": [
    "# Filter X_train_tf dataframe to contain only RFE selected features\n",
    "\n",
    "X_train_tf_rfe_selected = X_train_tf.iloc[:, idx_with_rank1]\n",
    "X_train_tf_rfe_selected.head()"
   ]
  },
  {
   "cell_type": "markdown",
   "metadata": {},
   "source": [
    "---"
   ]
  },
  {
   "cell_type": "markdown",
   "metadata": {},
   "source": [
    "# Rough"
   ]
  },
  {
   "cell_type": "code",
   "execution_count": null,
   "metadata": {},
   "outputs": [],
   "source": [
    "logreg.get_params()"
   ]
  },
  {
   "cell_type": "code",
   "execution_count": null,
   "metadata": {},
   "outputs": [],
   "source": [
    "np.bincount(y_test)"
   ]
  },
  {
   "cell_type": "code",
   "execution_count": null,
   "metadata": {},
   "outputs": [],
   "source": [
    "np.unique(y_test, return_counts=True)"
   ]
  },
  {
   "cell_type": "code",
   "execution_count": null,
   "metadata": {},
   "outputs": [],
   "source": [
    "# n_samples / (n_classes * np.bincount(y))\n",
    "\n",
    "len(y_test)\n",
    "\n",
    "667 / (2 * 564)"
   ]
  },
  {
   "cell_type": "markdown",
   "metadata": {},
   "source": [
    "---"
   ]
  },
  {
   "cell_type": "markdown",
   "metadata": {},
   "source": [
    "#### DF for analysis: with no state and adding back Churn column "
   ]
  },
  {
   "cell_type": "code",
   "execution_count": null,
   "metadata": {},
   "outputs": [],
   "source": [
    "X_train_tf.columns"
   ]
  },
  {
   "cell_type": "code",
   "execution_count": null,
   "metadata": {
    "scrolled": true
   },
   "outputs": [],
   "source": [
    "tnostatedf = X_train_tf.loc[:, (~X_train_tf.columns.str.startswith('x0'))]\n",
    "tynostatedf = pd.concat([tnostatedf, pd.DataFrame(y_train, columns=['Churn'])], axis=1)"
   ]
  },
  {
   "cell_type": "code",
   "execution_count": null,
   "metadata": {},
   "outputs": [],
   "source": [
    "tynostatedf.shape"
   ]
  },
  {
   "cell_type": "code",
   "execution_count": null,
   "metadata": {},
   "outputs": [],
   "source": [
    "tynostatedf.head()"
   ]
  },
  {
   "cell_type": "code",
   "execution_count": null,
   "metadata": {},
   "outputs": [],
   "source": [
    "tynostatedf.to_csv('./Archive/dfnostate.csv')"
   ]
  },
  {
   "cell_type": "markdown",
   "metadata": {},
   "source": [
    "---"
   ]
  }
 ],
 "metadata": {
  "kernelspec": {
   "display_name": "Python 3",
   "language": "python",
   "name": "python3"
  },
  "language_info": {
   "codemirror_mode": {
    "name": "ipython",
    "version": 3
   },
   "file_extension": ".py",
   "mimetype": "text/x-python",
   "name": "python",
   "nbconvert_exporter": "python",
   "pygments_lexer": "ipython3",
   "version": "3.7.4"
  }
 },
 "nbformat": 4,
 "nbformat_minor": 2
}
