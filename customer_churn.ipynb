{
 "cells": [
  {
   "cell_type": "markdown",
   "metadata": {},
   "source": [
    "# Customer Churn"
   ]
  },
  {
   "cell_type": "markdown",
   "metadata": {},
   "source": [
    "---"
   ]
  },
  {
   "cell_type": "markdown",
   "metadata": {},
   "source": [
    "## Contents\n",
    "\n",
    "- <a href=\"#import\">Import Libraries</a><br>\n",
    "- <a href=\"#data\">Import Data</a><br>\n",
    "- <a href=\"#3\">Creating 3-way Holdout data sets</a><br>\n",
    "- <a href=\"#eda\">Exploratory Data Analysis</a><br>\n",
    "- <a href=\"#prep\">Data Preprocessing</a><br>\n",
    "- <a href=\"#sel\">Feature Selection</a><br>\n",
    "- <a href=\"#engg\">Feature Engineering</a><br>"
   ]
  },
  {
   "cell_type": "markdown",
   "metadata": {},
   "source": [
    "---"
   ]
  },
  {
   "cell_type": "markdown",
   "metadata": {},
   "source": [
    "<p><a name=\"import\"></a></p>\n",
    " \n",
    "### Import Modules"
   ]
  },
  {
   "cell_type": "code",
   "execution_count": 86,
   "metadata": {},
   "outputs": [],
   "source": [
    "# Standard Modules\n",
    "import numpy as np\n",
    "import pandas as pd\n",
    "import matplotlib.pyplot as plt\n",
    "%matplotlib inline\n",
    "import seaborn as sns\n",
    "\n",
    "# Model Selection\n",
    "from sklearn.model_selection import train_test_split\n",
    "from sklearn.model_selection import GridSearchCV\n",
    "\n",
    "# Preprocessing\n",
    "from sklearn.preprocessing import StandardScaler\n",
    "from sklearn.preprocessing import OrdinalEncoder\n",
    "from sklearn.preprocessing import LabelEncoder\n",
    "from sklearn.preprocessing import OneHotEncoder\n",
    "from sklearn.impute import SimpleImputer\n",
    "\n",
    "# Compose\n",
    "from sklearn.compose import make_column_transformer\n",
    "\n",
    "# Classes for inheritance\n",
    "from sklearn.base import BaseEstimator, TransformerMixin\n",
    "\n",
    "# Pipeline\n",
    "from sklearn.pipeline import make_pipeline\n",
    "\n",
    "# ML Models\n",
    "from sklearn.linear_model import LogisticRegression\n",
    "\n",
    "# Metrics\n",
    "from sklearn.metrics import confusion_matrix\n",
    "from sklearn.metrics import precision_score\n",
    "from sklearn.metrics import recall_score\n",
    "from sklearn.metrics import classification_report\n",
    "from sklearn.metrics import roc_curve\n",
    "from sklearn.metrics import roc_auc_score"
   ]
  },
  {
   "cell_type": "markdown",
   "metadata": {},
   "source": [
    "---"
   ]
  },
  {
   "cell_type": "markdown",
   "metadata": {},
   "source": [
    "<p><a name=\"data\"></a></p>\n",
    "\n",
    "### Import Data"
   ]
  },
  {
   "cell_type": "code",
   "execution_count": 2,
   "metadata": {},
   "outputs": [],
   "source": [
    "# Read csv\n",
    "\n",
    "churn_data = pd.read_csv('./data/churn_data.csv')"
   ]
  },
  {
   "cell_type": "code",
   "execution_count": 3,
   "metadata": {},
   "outputs": [
    {
     "data": {
      "text/plain": [
       "(3333, 21)"
      ]
     },
     "execution_count": 3,
     "metadata": {},
     "output_type": "execute_result"
    }
   ],
   "source": [
    "churn_data.shape"
   ]
  },
  {
   "cell_type": "markdown",
   "metadata": {},
   "source": [
    "---"
   ]
  },
  {
   "cell_type": "markdown",
   "metadata": {},
   "source": [
    "<p><a name=\"3\"></a></p>\n",
    "\n",
    "### Creating a 3-way holdout dataset\n",
    "- Training & Validation data \n",
    "- Test (Unseen) data"
   ]
  },
  {
   "cell_type": "code",
   "execution_count": 4,
   "metadata": {},
   "outputs": [
    {
     "name": "stdout",
     "output_type": "stream",
     "text": [
      "Shape of X and y:\n",
      "\n",
      "(3333, 20) (3333,)\n"
     ]
    }
   ],
   "source": [
    "X_tmp = churn_data.drop(['Churn'], axis=1)\n",
    "y_tmp = churn_data['Churn']\n",
    "\n",
    "print('Shape of X and y:\\n')\n",
    "print(X_tmp.shape, y_tmp.shape)"
   ]
  },
  {
   "cell_type": "code",
   "execution_count": 5,
   "metadata": {},
   "outputs": [],
   "source": [
    "# Split data into training - validation and test (unseen) data\n",
    "\n",
    "X_train_val, X_unseen, y_train_val, y_unseen = train_test_split(X_tmp, y_tmp, test_size=0.2)"
   ]
  },
  {
   "cell_type": "code",
   "execution_count": 6,
   "metadata": {},
   "outputs": [
    {
     "name": "stdout",
     "output_type": "stream",
     "text": [
      "Shape of training & validation data:\n",
      "(2666, 20) (2666,)\n",
      "\n",
      " ----------------------------------------\n",
      "\n",
      "Shape of test(unseen) data:\n",
      "(667, 20) (667,)\n"
     ]
    }
   ],
   "source": [
    "print('Shape of training & validation data:')\n",
    "print(X_train_val.shape, y_train_val.shape)\n",
    "print('\\n','-'*40)\n",
    "print('\\nShape of test(unseen) data:')\n",
    "print(X_unseen.shape, y_unseen.shape)"
   ]
  },
  {
   "cell_type": "code",
   "execution_count": 7,
   "metadata": {},
   "outputs": [],
   "source": [
    "# Making a working copy of the training and validation data\n",
    "\n",
    "df = X_train_val.copy()"
   ]
  },
  {
   "cell_type": "code",
   "execution_count": 8,
   "metadata": {},
   "outputs": [],
   "source": [
    "# Adding churned feature back into dataset to understand properties\n",
    "# of churned v/s non-churned customers\n",
    "\n",
    "df['Churn'] = y_train_val"
   ]
  },
  {
   "cell_type": "markdown",
   "metadata": {},
   "source": [
    "**df = X_train_val + y_train_val**"
   ]
  },
  {
   "cell_type": "code",
   "execution_count": 9,
   "metadata": {},
   "outputs": [
    {
     "data": {
      "text/html": [
       "<div>\n",
       "<style scoped>\n",
       "    .dataframe tbody tr th:only-of-type {\n",
       "        vertical-align: middle;\n",
       "    }\n",
       "\n",
       "    .dataframe tbody tr th {\n",
       "        vertical-align: top;\n",
       "    }\n",
       "\n",
       "    .dataframe thead th {\n",
       "        text-align: right;\n",
       "    }\n",
       "</style>\n",
       "<table border=\"1\" class=\"dataframe\">\n",
       "  <thead>\n",
       "    <tr style=\"text-align: right;\">\n",
       "      <th></th>\n",
       "      <th>Account_Length</th>\n",
       "      <th>Vmail_Message</th>\n",
       "      <th>Day_Mins</th>\n",
       "      <th>Eve_Mins</th>\n",
       "      <th>Night_Mins</th>\n",
       "      <th>Intl_Mins</th>\n",
       "      <th>CustServ_Calls</th>\n",
       "      <th>Intl_Plan</th>\n",
       "      <th>Vmail_Plan</th>\n",
       "      <th>Day_Calls</th>\n",
       "      <th>...</th>\n",
       "      <th>Eve_Calls</th>\n",
       "      <th>Eve_Charge</th>\n",
       "      <th>Night_Calls</th>\n",
       "      <th>Night_Charge</th>\n",
       "      <th>Intl_Calls</th>\n",
       "      <th>Intl_Charge</th>\n",
       "      <th>State</th>\n",
       "      <th>Area_Code</th>\n",
       "      <th>Phone</th>\n",
       "      <th>Churn</th>\n",
       "    </tr>\n",
       "  </thead>\n",
       "  <tbody>\n",
       "    <tr>\n",
       "      <td>1349</td>\n",
       "      <td>71</td>\n",
       "      <td>22</td>\n",
       "      <td>141.4</td>\n",
       "      <td>163.0</td>\n",
       "      <td>220.0</td>\n",
       "      <td>5.6</td>\n",
       "      <td>2</td>\n",
       "      <td>no</td>\n",
       "      <td>yes</td>\n",
       "      <td>107</td>\n",
       "      <td>...</td>\n",
       "      <td>105</td>\n",
       "      <td>13.86</td>\n",
       "      <td>99</td>\n",
       "      <td>9.90</td>\n",
       "      <td>3</td>\n",
       "      <td>1.51</td>\n",
       "      <td>KY</td>\n",
       "      <td>510</td>\n",
       "      <td>403-1953</td>\n",
       "      <td>no</td>\n",
       "    </tr>\n",
       "    <tr>\n",
       "      <td>2552</td>\n",
       "      <td>49</td>\n",
       "      <td>0</td>\n",
       "      <td>236.6</td>\n",
       "      <td>220.9</td>\n",
       "      <td>146.8</td>\n",
       "      <td>8.9</td>\n",
       "      <td>1</td>\n",
       "      <td>no</td>\n",
       "      <td>no</td>\n",
       "      <td>91</td>\n",
       "      <td>...</td>\n",
       "      <td>146</td>\n",
       "      <td>18.78</td>\n",
       "      <td>114</td>\n",
       "      <td>6.61</td>\n",
       "      <td>2</td>\n",
       "      <td>2.40</td>\n",
       "      <td>MT</td>\n",
       "      <td>408</td>\n",
       "      <td>353-8970</td>\n",
       "      <td>no</td>\n",
       "    </tr>\n",
       "    <tr>\n",
       "      <td>322</td>\n",
       "      <td>104</td>\n",
       "      <td>0</td>\n",
       "      <td>138.7</td>\n",
       "      <td>256.9</td>\n",
       "      <td>234.9</td>\n",
       "      <td>10.0</td>\n",
       "      <td>0</td>\n",
       "      <td>no</td>\n",
       "      <td>no</td>\n",
       "      <td>107</td>\n",
       "      <td>...</td>\n",
       "      <td>113</td>\n",
       "      <td>21.84</td>\n",
       "      <td>74</td>\n",
       "      <td>10.57</td>\n",
       "      <td>3</td>\n",
       "      <td>2.70</td>\n",
       "      <td>VA</td>\n",
       "      <td>408</td>\n",
       "      <td>360-2479</td>\n",
       "      <td>no</td>\n",
       "    </tr>\n",
       "    <tr>\n",
       "      <td>2471</td>\n",
       "      <td>95</td>\n",
       "      <td>23</td>\n",
       "      <td>160.3</td>\n",
       "      <td>202.4</td>\n",
       "      <td>191.1</td>\n",
       "      <td>7.4</td>\n",
       "      <td>0</td>\n",
       "      <td>no</td>\n",
       "      <td>yes</td>\n",
       "      <td>87</td>\n",
       "      <td>...</td>\n",
       "      <td>101</td>\n",
       "      <td>17.20</td>\n",
       "      <td>122</td>\n",
       "      <td>8.60</td>\n",
       "      <td>3</td>\n",
       "      <td>2.00</td>\n",
       "      <td>OH</td>\n",
       "      <td>415</td>\n",
       "      <td>329-8056</td>\n",
       "      <td>no</td>\n",
       "    </tr>\n",
       "    <tr>\n",
       "      <td>1350</td>\n",
       "      <td>55</td>\n",
       "      <td>0</td>\n",
       "      <td>285.7</td>\n",
       "      <td>230.9</td>\n",
       "      <td>230.7</td>\n",
       "      <td>14.8</td>\n",
       "      <td>0</td>\n",
       "      <td>no</td>\n",
       "      <td>no</td>\n",
       "      <td>124</td>\n",
       "      <td>...</td>\n",
       "      <td>106</td>\n",
       "      <td>19.63</td>\n",
       "      <td>140</td>\n",
       "      <td>10.38</td>\n",
       "      <td>7</td>\n",
       "      <td>4.00</td>\n",
       "      <td>WA</td>\n",
       "      <td>408</td>\n",
       "      <td>357-6039</td>\n",
       "      <td>yes</td>\n",
       "    </tr>\n",
       "  </tbody>\n",
       "</table>\n",
       "<p>5 rows × 21 columns</p>\n",
       "</div>"
      ],
      "text/plain": [
       "      Account_Length  Vmail_Message  Day_Mins  Eve_Mins  Night_Mins  \\\n",
       "1349              71             22     141.4     163.0       220.0   \n",
       "2552              49              0     236.6     220.9       146.8   \n",
       "322              104              0     138.7     256.9       234.9   \n",
       "2471              95             23     160.3     202.4       191.1   \n",
       "1350              55              0     285.7     230.9       230.7   \n",
       "\n",
       "      Intl_Mins  CustServ_Calls Intl_Plan Vmail_Plan  Day_Calls  ...  \\\n",
       "1349        5.6               2        no        yes        107  ...   \n",
       "2552        8.9               1        no         no         91  ...   \n",
       "322        10.0               0        no         no        107  ...   \n",
       "2471        7.4               0        no        yes         87  ...   \n",
       "1350       14.8               0        no         no        124  ...   \n",
       "\n",
       "      Eve_Calls  Eve_Charge  Night_Calls  Night_Charge  Intl_Calls  \\\n",
       "1349        105       13.86           99          9.90           3   \n",
       "2552        146       18.78          114          6.61           2   \n",
       "322         113       21.84           74         10.57           3   \n",
       "2471        101       17.20          122          8.60           3   \n",
       "1350        106       19.63          140         10.38           7   \n",
       "\n",
       "      Intl_Charge  State Area_Code     Phone Churn  \n",
       "1349         1.51     KY       510  403-1953    no  \n",
       "2552         2.40     MT       408  353-8970    no  \n",
       "322          2.70     VA       408  360-2479    no  \n",
       "2471         2.00     OH       415  329-8056    no  \n",
       "1350         4.00     WA       408  357-6039   yes  \n",
       "\n",
       "[5 rows x 21 columns]"
      ]
     },
     "execution_count": 9,
     "metadata": {},
     "output_type": "execute_result"
    }
   ],
   "source": [
    "df.head()"
   ]
  },
  {
   "cell_type": "markdown",
   "metadata": {},
   "source": [
    "---"
   ]
  },
  {
   "cell_type": "markdown",
   "metadata": {},
   "source": [
    "<p><a name=\"eda\"></a></p>\n",
    "\n",
    "### Exploratory Analysis"
   ]
  },
  {
   "cell_type": "code",
   "execution_count": 10,
   "metadata": {},
   "outputs": [
    {
     "name": "stdout",
     "output_type": "stream",
     "text": [
      "<class 'pandas.core.frame.DataFrame'>\n",
      "Int64Index: 2666 entries, 1349 to 504\n",
      "Data columns (total 21 columns):\n",
      "Account_Length    2666 non-null int64\n",
      "Vmail_Message     2666 non-null int64\n",
      "Day_Mins          2666 non-null float64\n",
      "Eve_Mins          2666 non-null float64\n",
      "Night_Mins        2666 non-null float64\n",
      "Intl_Mins         2666 non-null float64\n",
      "CustServ_Calls    2666 non-null int64\n",
      "Intl_Plan         2666 non-null object\n",
      "Vmail_Plan        2666 non-null object\n",
      "Day_Calls         2666 non-null int64\n",
      "Day_Charge        2666 non-null float64\n",
      "Eve_Calls         2666 non-null int64\n",
      "Eve_Charge        2666 non-null float64\n",
      "Night_Calls       2666 non-null int64\n",
      "Night_Charge      2666 non-null float64\n",
      "Intl_Calls        2666 non-null int64\n",
      "Intl_Charge       2666 non-null float64\n",
      "State             2666 non-null object\n",
      "Area_Code         2666 non-null int64\n",
      "Phone             2666 non-null object\n",
      "Churn             2666 non-null object\n",
      "dtypes: float64(8), int64(8), object(5)\n",
      "memory usage: 458.2+ KB\n"
     ]
    }
   ],
   "source": [
    "df.info()"
   ]
  },
  {
   "cell_type": "code",
   "execution_count": 11,
   "metadata": {},
   "outputs": [],
   "source": [
    "sns.set()"
   ]
  },
  {
   "cell_type": "code",
   "execution_count": 12,
   "metadata": {},
   "outputs": [
    {
     "data": {
      "image/png": "[encoded data removed]",
      "text/plain": [
       "<Figure size 432x288 with 1 Axes>"
      ]
     },
     "metadata": {},
     "output_type": "display_data"
    }
   ],
   "source": [
    "# Customer Churn as a % \n",
    "\n",
    "df['Churn'].value_counts().plot(kind='pie'\n",
    "                                ,colors=['lightgrey','red']\n",
    "                                ,wedgeprops={'edgecolor': 'black'}\n",
    "                                ,explode=[0,0.1]\n",
    "                                ,autopct='%1.1f%%'\n",
    "                                ,startangle=90)\n",
    "plt.title('Customer Churn % (Training-Validation Set)', size=15, fontweight='bold')\n",
    "plt.show()"
   ]
  },
  {
   "cell_type": "code",
   "execution_count": 13,
   "metadata": {},
   "outputs": [
    {
     "data": {
      "image/png": "[encoded data removed]",
      "text/plain": [
       "<Figure size 432x288 with 1 Axes>"
      ]
     },
     "metadata": {},
     "output_type": "display_data"
    }
   ],
   "source": [
    "# Number of churned customers\n",
    "\n",
    "color = ['green', 'red']\n",
    "\n",
    "df['Churn'].value_counts().plot(kind='bar', alpha=0.6, color=color, edgecolor='black')\n",
    "\n",
    "plt.title('Churned v/s non-churned customer count \\n (Training & Validation Set)', size=15, fontweight='bold')\n",
    "plt.ylabel('Customer Count')\n",
    "plt.xlabel('Churn Indicator')\n",
    "\n",
    "plt.margins(0.3)\n",
    "\n",
    "for x,y in enumerate(df['Churn'].value_counts()):\n",
    "\n",
    "    label = \"{:.0f}\".format(y)\n",
    "\n",
    "    plt.annotate(label\n",
    "                 ,(x,y)\n",
    "                 ,textcoords=\"offset points\"\n",
    "                 ,xytext=(0,10)\n",
    "                 ,ha='center'\n",
    "                ) \n",
    "plt.show()"
   ]
  },
  {
   "cell_type": "code",
   "execution_count": 14,
   "metadata": {},
   "outputs": [
    {
     "data": {
      "text/html": [
       "<div>\n",
       "<style scoped>\n",
       "    .dataframe tbody tr th:only-of-type {\n",
       "        vertical-align: middle;\n",
       "    }\n",
       "\n",
       "    .dataframe tbody tr th {\n",
       "        vertical-align: top;\n",
       "    }\n",
       "\n",
       "    .dataframe thead th {\n",
       "        text-align: right;\n",
       "    }\n",
       "</style>\n",
       "<table border=\"1\" class=\"dataframe\">\n",
       "  <thead>\n",
       "    <tr style=\"text-align: right;\">\n",
       "      <th></th>\n",
       "      <th>CustServ_Calls</th>\n",
       "      <th>Vmail_Message</th>\n",
       "    </tr>\n",
       "    <tr>\n",
       "      <th>Churn</th>\n",
       "      <th></th>\n",
       "      <th></th>\n",
       "    </tr>\n",
       "  </thead>\n",
       "  <tbody>\n",
       "    <tr>\n",
       "      <td>no</td>\n",
       "      <td>1.420708</td>\n",
       "      <td>8.671035</td>\n",
       "    </tr>\n",
       "    <tr>\n",
       "      <td>yes</td>\n",
       "      <td>2.236074</td>\n",
       "      <td>5.111406</td>\n",
       "    </tr>\n",
       "  </tbody>\n",
       "</table>\n",
       "</div>"
      ],
      "text/plain": [
       "       CustServ_Calls  Vmail_Message\n",
       "Churn                               \n",
       "no           1.420708       8.671035\n",
       "yes          2.236074       5.111406"
      ]
     },
     "execution_count": 14,
     "metadata": {},
     "output_type": "execute_result"
    }
   ],
   "source": [
    "df.groupby('Churn')[['CustServ_Calls', 'Vmail_Message']].mean()"
   ]
  },
  {
   "cell_type": "code",
   "execution_count": 15,
   "metadata": {},
   "outputs": [
    {
     "data": {
      "text/plain": [
       "<matplotlib.axes._subplots.AxesSubplot at 0x7fb878854a50>"
      ]
     },
     "execution_count": 15,
     "metadata": {},
     "output_type": "execute_result"
    },
    {
     "data": {
      "image/png": "[encoded data removed]",
      "text/plain": [
       "<Figure size 432x288 with 1 Axes>"
      ]
     },
     "metadata": {},
     "output_type": "display_data"
    }
   ],
   "source": [
    "# Analyzing churned v/s non-churned customer differences\n",
    "\n",
    "df.groupby('Churn')[['CustServ_Calls', 'Vmail_Message']].mean().plot(kind='bar')"
   ]
  },
  {
   "cell_type": "code",
   "execution_count": 16,
   "metadata": {},
   "outputs": [
    {
     "data": {
      "text/html": [
       "<div>\n",
       "<style scoped>\n",
       "    .dataframe tbody tr th:only-of-type {\n",
       "        vertical-align: middle;\n",
       "    }\n",
       "\n",
       "    .dataframe tbody tr th {\n",
       "        vertical-align: top;\n",
       "    }\n",
       "\n",
       "    .dataframe thead th {\n",
       "        text-align: right;\n",
       "    }\n",
       "</style>\n",
       "<table border=\"1\" class=\"dataframe\">\n",
       "  <thead>\n",
       "    <tr style=\"text-align: right;\">\n",
       "      <th></th>\n",
       "      <th>CustServ_Calls</th>\n",
       "      <th>Vmail_Message</th>\n",
       "    </tr>\n",
       "    <tr>\n",
       "      <th>Churn</th>\n",
       "      <th></th>\n",
       "      <th></th>\n",
       "    </tr>\n",
       "  </thead>\n",
       "  <tbody>\n",
       "    <tr>\n",
       "      <td>no</td>\n",
       "      <td>1.159835</td>\n",
       "      <td>13.954523</td>\n",
       "    </tr>\n",
       "    <tr>\n",
       "      <td>yes</td>\n",
       "      <td>1.856551</td>\n",
       "      <td>11.760613</td>\n",
       "    </tr>\n",
       "  </tbody>\n",
       "</table>\n",
       "</div>"
      ],
      "text/plain": [
       "       CustServ_Calls  Vmail_Message\n",
       "Churn                               \n",
       "no           1.159835      13.954523\n",
       "yes          1.856551      11.760613"
      ]
     },
     "execution_count": 16,
     "metadata": {},
     "output_type": "execute_result"
    }
   ],
   "source": [
    "df.groupby('Churn')[['CustServ_Calls', 'Vmail_Message']].std()"
   ]
  },
  {
   "cell_type": "code",
   "execution_count": 17,
   "metadata": {},
   "outputs": [],
   "source": [
    "# TO DO - make it mardown \n",
    "\n",
    "\n",
    "\n",
    "\n",
    "# Insights\n",
    "    # It can be seen above that Churners place more customer \n",
    "    # service calls than non-churners, and leave fewer voice\n",
    "    # mail messages."
   ]
  },
  {
   "cell_type": "code",
   "execution_count": 18,
   "metadata": {},
   "outputs": [
    {
     "data": {
      "text/plain": [
       "State  Churn\n",
       "AL     no       59\n",
       "       yes       7\n",
       "CA     no       21\n",
       "       yes       6\n",
       "CO     no       44\n",
       "       yes       7\n",
       "Name: Churn, dtype: int64"
      ]
     },
     "execution_count": 18,
     "metadata": {},
     "output_type": "execute_result"
    }
   ],
   "source": [
    "# Veiwing churners and non-churners by state\n",
    "\n",
    "df.groupby('State')['Churn'].value_counts()[['AL','CA','CO']]"
   ]
  },
  {
   "cell_type": "code",
   "execution_count": 19,
   "metadata": {},
   "outputs": [
    {
     "data": {
      "text/plain": [
       "<matplotlib.axes._subplots.AxesSubplot at 0x7fb878bd5e90>"
      ]
     },
     "execution_count": 19,
     "metadata": {},
     "output_type": "execute_result"
    },
    {
     "data": {
      "image/png": "[encoded data removed]",
      "text/plain": [
       "<Figure size 432x288 with 1 Axes>"
      ]
     },
     "metadata": {},
     "output_type": "display_data"
    }
   ],
   "source": [
    "# TO DO - multiple bar to see churn and non-churn across different states\n",
    "\n",
    "\n",
    "\n",
    "\n",
    "\n",
    "df.groupby('State')['Churn'].value_counts().plot(kind='bar')"
   ]
  },
  {
   "cell_type": "code",
   "execution_count": 20,
   "metadata": {},
   "outputs": [
    {
     "data": {
      "image/png": "[encoded data removed]",
      "text/plain": [
       "<Figure size 432x288 with 1 Axes>"
      ]
     },
     "metadata": {},
     "output_type": "display_data"
    }
   ],
   "source": [
    "# Distribution of \"Account_Length\" feature\n",
    "\n",
    "# plt.hist(df['Account_Length'], bins=25)\n",
    "sns.distplot(df['Account_Length'])\n",
    "plt.show()"
   ]
  },
  {
   "cell_type": "code",
   "execution_count": 21,
   "metadata": {},
   "outputs": [],
   "source": [
    "# Insights\n",
    "    # Illustrates the duration that a customer stays with the provider\n",
    "    # is normally distribution (as what to expect in the real world)"
   ]
  },
  {
   "cell_type": "code",
   "execution_count": 22,
   "metadata": {},
   "outputs": [
    {
     "data": {
      "image/png": "[encoded data removed]",
      "text/plain": [
       "<Figure size 432x288 with 1 Axes>"
      ]
     },
     "metadata": {},
     "output_type": "display_data"
    }
   ],
   "source": [
    "# Examining differences between churners and non-churners\n",
    "# w.r.t their account lengths\n",
    "\n",
    "sns.boxplot(x='Churn', \n",
    "            y='Account_Length', \n",
    "            data=df)\n",
    "\n",
    "plt.title('Differences in Account Lengths', size=13)\n",
    "plt.show()"
   ]
  },
  {
   "cell_type": "code",
   "execution_count": 23,
   "metadata": {},
   "outputs": [],
   "source": [
    "# There are no notable differences in account lengths for\n",
    "# churners v/s non-churners"
   ]
  },
  {
   "cell_type": "code",
   "execution_count": 24,
   "metadata": {},
   "outputs": [
    {
     "data": {
      "image/png": "[encoded data removed]",
      "text/plain": [
       "<Figure size 432x288 with 1 Axes>"
      ]
     },
     "metadata": {},
     "output_type": "display_data"
    }
   ],
   "source": [
    "# Checking if having an international plan matters\n",
    "\n",
    "sns.boxplot(x='Churn', \n",
    "            y='Account_Length', \n",
    "            data=df,\n",
    "            hue='Intl_Plan')\n",
    "\n",
    "plt.title('Differences in Account Lengths', size=13)\n",
    "plt.show()"
   ]
  },
  {
   "cell_type": "code",
   "execution_count": 25,
   "metadata": {},
   "outputs": [],
   "source": [
    "# Insights\n",
    "    # No noticeable difference amoung customers with or\n",
    "    # without an international plan"
   ]
  },
  {
   "cell_type": "code",
   "execution_count": 26,
   "metadata": {},
   "outputs": [
    {
     "data": {
      "image/png": "[encoded data removed]",
      "text/plain": [
       "<Figure size 1080x720 with 6 Axes>"
      ]
     },
     "metadata": {},
     "output_type": "display_data"
    }
   ],
   "source": [
    "# Checking distribution of select features\n",
    "\n",
    "df[['Account_Length', 'Day_Mins', 'Eve_Mins', 'Night_Mins', 'Intl_Mins']].hist(bins=25, figsize=(15,10))\n",
    "plt.show()"
   ]
  },
  {
   "cell_type": "code",
   "execution_count": 27,
   "metadata": {},
   "outputs": [
    {
     "data": {
      "image/png": "[encoded data removed]",
      "text/plain": [
       "<Figure size 432x288 with 1 Axes>"
      ]
     },
     "metadata": {},
     "output_type": "display_data"
    }
   ],
   "source": [
    "# Churn difference based on Customer Service Calls placed\n",
    "\n",
    "sns.boxplot(x = 'Churn',\n",
    "            y = 'CustServ_Calls',\n",
    "            data = df)\n",
    "\n",
    "plt.title('Churners v/s Non-Churners based on Customer Services Calls')\n",
    "plt.show()"
   ]
  },
  {
   "cell_type": "code",
   "execution_count": 28,
   "metadata": {},
   "outputs": [
    {
     "data": {
      "image/png": "[encoded data removed]",
      "text/plain": [
       "<Figure size 432x288 with 1 Axes>"
      ]
     },
     "metadata": {},
     "output_type": "display_data"
    },
    {
     "data": {
      "image/png": "[encoded data removed]",
      "text/plain": [
       "<Figure size 432x288 with 1 Axes>"
      ]
     },
     "metadata": {},
     "output_type": "display_data"
    }
   ],
   "source": [
    "features = ['Account_Length', 'CustServ_Calls'] \n",
    "\n",
    "for feature in features:\n",
    "    fig, axs = plt.subplots()\n",
    "    fig = sns.boxplot(x = 'Churn',\n",
    "                      y = feature,\n",
    "                      data = df)\n",
    "    plt.title('Churners v/s Non-Churners based on {}'.format(feature))\n",
    "\n",
    "plt.show()"
   ]
  },
  {
   "cell_type": "code",
   "execution_count": 29,
   "metadata": {},
   "outputs": [
    {
     "data": {
      "image/png": "[encoded data removed]",
      "text/plain": [
       "<Figure size 432x288 with 1 Axes>"
      ]
     },
     "metadata": {},
     "output_type": "display_data"
    }
   ],
   "source": [
    "# Churn difference based on Customer Service Calls placed\n",
    "# and being on an International Plan\n",
    "\n",
    "sns.boxplot(x = 'Churn',\n",
    "            y = 'CustServ_Calls',\n",
    "            data = df,\n",
    "            sym='', # removing outliers from plot\n",
    "            hue='Intl_Plan') \n",
    "\n",
    "plt.title('Churners v/s Non-Churners based on Customer Services Calls & Intl Plan')\n",
    "plt.show()"
   ]
  },
  {
   "cell_type": "code",
   "execution_count": 30,
   "metadata": {},
   "outputs": [],
   "source": [
    "# Insights:\n",
    "    # Customers who leave more customer service calls churn more\n",
    "    # unless they also have an international plan"
   ]
  },
  {
   "cell_type": "code",
   "execution_count": 31,
   "metadata": {},
   "outputs": [
    {
     "data": {
      "image/png": "[encoded data removed]",
      "text/plain": [
       "<Figure size 720x432 with 2 Axes>"
      ]
     },
     "metadata": {},
     "output_type": "display_data"
    }
   ],
   "source": [
    "plt.figure(figsize=(10,6))\n",
    "mask = np.zeros_like(df.corr())\n",
    "mask[np.triu_indices_from(mask)] = 1\n",
    "sns.heatmap(df.corr(), mask= mask, linewidth=0.7, cmap='RdYlGn') \n",
    "plt.show()"
   ]
  },
  {
   "cell_type": "code",
   "execution_count": 32,
   "metadata": {},
   "outputs": [],
   "source": [
    "# Since charges and mins are strongly correlated, we can either remove\n",
    "# one of them, or feature engineer them to create 4 new charges_min\n",
    "# and drop the charges and min columns subsequently."
   ]
  },
  {
   "cell_type": "markdown",
   "metadata": {},
   "source": [
    "---"
   ]
  },
  {
   "cell_type": "markdown",
   "metadata": {},
   "source": [
    "<p><a name=\"prep\"></a></p>\n",
    "\n",
    "## Data Preprocessing\n",
    "\n",
    "- Check missing values\n",
    "- Checking distribution of features\n",
    "- Encoding Categorical variables\n",
    "- Feature Scaling via Standardization\n",
    "- Feature Selection and Engineering"
   ]
  },
  {
   "cell_type": "markdown",
   "metadata": {},
   "source": [
    "### Missing Values"
   ]
  },
  {
   "cell_type": "code",
   "execution_count": 33,
   "metadata": {},
   "outputs": [
    {
     "data": {
      "text/plain": [
       "Series([], dtype: int64)"
      ]
     },
     "execution_count": 33,
     "metadata": {},
     "output_type": "execute_result"
    }
   ],
   "source": [
    "# Missing values check\n",
    "\n",
    "missing = df.isnull().sum()\n",
    "missing[missing > 0]"
   ]
  },
  {
   "cell_type": "code",
   "execution_count": 34,
   "metadata": {},
   "outputs": [
    {
     "data": {
      "text/plain": [
       "Account_Length      int64\n",
       "Vmail_Message       int64\n",
       "Day_Mins          float64\n",
       "Eve_Mins          float64\n",
       "Night_Mins        float64\n",
       "Intl_Mins         float64\n",
       "CustServ_Calls      int64\n",
       "Intl_Plan          object\n",
       "Vmail_Plan         object\n",
       "Day_Calls           int64\n",
       "Day_Charge        float64\n",
       "Eve_Calls           int64\n",
       "Eve_Charge        float64\n",
       "Night_Calls         int64\n",
       "Night_Charge      float64\n",
       "Intl_Calls          int64\n",
       "Intl_Charge       float64\n",
       "State              object\n",
       "Area_Code           int64\n",
       "Phone              object\n",
       "Churn              object\n",
       "dtype: object"
      ]
     },
     "execution_count": 34,
     "metadata": {},
     "output_type": "execute_result"
    }
   ],
   "source": [
    "# Examining data types \n",
    "\n",
    "df.dtypes"
   ]
  },
  {
   "cell_type": "code",
   "execution_count": 35,
   "metadata": {},
   "outputs": [],
   "source": [
    "# Forming list of columns that are numerical and categorical\n",
    "\n",
    "features_num = X_train_val.select_dtypes(include=['int64', 'float64']).columns\n",
    "features_cat = X_train_val.select_dtypes(include=['object']).columns"
   ]
  },
  {
   "cell_type": "code",
   "execution_count": 36,
   "metadata": {},
   "outputs": [
    {
     "name": "stdout",
     "output_type": "stream",
     "text": [
      "Index(['Account_Length', 'Vmail_Message', 'Day_Mins', 'Eve_Mins', 'Night_Mins',\n",
      "       'Intl_Mins', 'CustServ_Calls', 'Day_Calls', 'Day_Charge', 'Eve_Calls',\n",
      "       'Eve_Charge', 'Night_Calls', 'Night_Charge', 'Intl_Calls',\n",
      "       'Intl_Charge', 'Area_Code'],\n",
      "      dtype='object')\n",
      "--------------------------------------------------------------------------------\n",
      "Index(['Intl_Plan', 'Vmail_Plan', 'State', 'Phone'], dtype='object')\n"
     ]
    }
   ],
   "source": [
    "print(features_num)\n",
    "print('-'*80)\n",
    "print(features_cat)"
   ]
  },
  {
   "cell_type": "code",
   "execution_count": 37,
   "metadata": {
    "scrolled": false
   },
   "outputs": [
    {
     "data": {
      "text/html": [
       "<div>\n",
       "<style scoped>\n",
       "    .dataframe tbody tr th:only-of-type {\n",
       "        vertical-align: middle;\n",
       "    }\n",
       "\n",
       "    .dataframe tbody tr th {\n",
       "        vertical-align: top;\n",
       "    }\n",
       "\n",
       "    .dataframe thead th {\n",
       "        text-align: right;\n",
       "    }\n",
       "</style>\n",
       "<table border=\"1\" class=\"dataframe\">\n",
       "  <thead>\n",
       "    <tr style=\"text-align: right;\">\n",
       "      <th></th>\n",
       "      <th>Account_Length</th>\n",
       "      <th>Vmail_Message</th>\n",
       "      <th>Day_Mins</th>\n",
       "      <th>Eve_Mins</th>\n",
       "      <th>Night_Mins</th>\n",
       "      <th>Intl_Mins</th>\n",
       "      <th>CustServ_Calls</th>\n",
       "      <th>Day_Calls</th>\n",
       "      <th>Day_Charge</th>\n",
       "      <th>Eve_Calls</th>\n",
       "      <th>Eve_Charge</th>\n",
       "      <th>Night_Calls</th>\n",
       "      <th>Night_Charge</th>\n",
       "      <th>Intl_Calls</th>\n",
       "      <th>Intl_Charge</th>\n",
       "      <th>Area_Code</th>\n",
       "    </tr>\n",
       "  </thead>\n",
       "  <tbody>\n",
       "    <tr>\n",
       "      <td>1349</td>\n",
       "      <td>71</td>\n",
       "      <td>22</td>\n",
       "      <td>141.4</td>\n",
       "      <td>163.0</td>\n",
       "      <td>220.0</td>\n",
       "      <td>5.6</td>\n",
       "      <td>2</td>\n",
       "      <td>107</td>\n",
       "      <td>24.04</td>\n",
       "      <td>105</td>\n",
       "      <td>13.86</td>\n",
       "      <td>99</td>\n",
       "      <td>9.90</td>\n",
       "      <td>3</td>\n",
       "      <td>1.51</td>\n",
       "      <td>510</td>\n",
       "    </tr>\n",
       "    <tr>\n",
       "      <td>2552</td>\n",
       "      <td>49</td>\n",
       "      <td>0</td>\n",
       "      <td>236.6</td>\n",
       "      <td>220.9</td>\n",
       "      <td>146.8</td>\n",
       "      <td>8.9</td>\n",
       "      <td>1</td>\n",
       "      <td>91</td>\n",
       "      <td>40.22</td>\n",
       "      <td>146</td>\n",
       "      <td>18.78</td>\n",
       "      <td>114</td>\n",
       "      <td>6.61</td>\n",
       "      <td>2</td>\n",
       "      <td>2.40</td>\n",
       "      <td>408</td>\n",
       "    </tr>\n",
       "    <tr>\n",
       "      <td>322</td>\n",
       "      <td>104</td>\n",
       "      <td>0</td>\n",
       "      <td>138.7</td>\n",
       "      <td>256.9</td>\n",
       "      <td>234.9</td>\n",
       "      <td>10.0</td>\n",
       "      <td>0</td>\n",
       "      <td>107</td>\n",
       "      <td>23.58</td>\n",
       "      <td>113</td>\n",
       "      <td>21.84</td>\n",
       "      <td>74</td>\n",
       "      <td>10.57</td>\n",
       "      <td>3</td>\n",
       "      <td>2.70</td>\n",
       "      <td>408</td>\n",
       "    </tr>\n",
       "    <tr>\n",
       "      <td>2471</td>\n",
       "      <td>95</td>\n",
       "      <td>23</td>\n",
       "      <td>160.3</td>\n",
       "      <td>202.4</td>\n",
       "      <td>191.1</td>\n",
       "      <td>7.4</td>\n",
       "      <td>0</td>\n",
       "      <td>87</td>\n",
       "      <td>27.25</td>\n",
       "      <td>101</td>\n",
       "      <td>17.20</td>\n",
       "      <td>122</td>\n",
       "      <td>8.60</td>\n",
       "      <td>3</td>\n",
       "      <td>2.00</td>\n",
       "      <td>415</td>\n",
       "    </tr>\n",
       "    <tr>\n",
       "      <td>1350</td>\n",
       "      <td>55</td>\n",
       "      <td>0</td>\n",
       "      <td>285.7</td>\n",
       "      <td>230.9</td>\n",
       "      <td>230.7</td>\n",
       "      <td>14.8</td>\n",
       "      <td>0</td>\n",
       "      <td>124</td>\n",
       "      <td>48.57</td>\n",
       "      <td>106</td>\n",
       "      <td>19.63</td>\n",
       "      <td>140</td>\n",
       "      <td>10.38</td>\n",
       "      <td>7</td>\n",
       "      <td>4.00</td>\n",
       "      <td>408</td>\n",
       "    </tr>\n",
       "    <tr>\n",
       "      <td>...</td>\n",
       "      <td>...</td>\n",
       "      <td>...</td>\n",
       "      <td>...</td>\n",
       "      <td>...</td>\n",
       "      <td>...</td>\n",
       "      <td>...</td>\n",
       "      <td>...</td>\n",
       "      <td>...</td>\n",
       "      <td>...</td>\n",
       "      <td>...</td>\n",
       "      <td>...</td>\n",
       "      <td>...</td>\n",
       "      <td>...</td>\n",
       "      <td>...</td>\n",
       "      <td>...</td>\n",
       "      <td>...</td>\n",
       "    </tr>\n",
       "    <tr>\n",
       "      <td>2102</td>\n",
       "      <td>111</td>\n",
       "      <td>0</td>\n",
       "      <td>246.5</td>\n",
       "      <td>216.3</td>\n",
       "      <td>179.6</td>\n",
       "      <td>12.7</td>\n",
       "      <td>2</td>\n",
       "      <td>108</td>\n",
       "      <td>41.91</td>\n",
       "      <td>89</td>\n",
       "      <td>18.39</td>\n",
       "      <td>99</td>\n",
       "      <td>8.08</td>\n",
       "      <td>3</td>\n",
       "      <td>3.43</td>\n",
       "      <td>415</td>\n",
       "    </tr>\n",
       "    <tr>\n",
       "      <td>2310</td>\n",
       "      <td>148</td>\n",
       "      <td>25</td>\n",
       "      <td>230.7</td>\n",
       "      <td>233.8</td>\n",
       "      <td>215.8</td>\n",
       "      <td>13.5</td>\n",
       "      <td>3</td>\n",
       "      <td>102</td>\n",
       "      <td>39.22</td>\n",
       "      <td>109</td>\n",
       "      <td>19.87</td>\n",
       "      <td>90</td>\n",
       "      <td>9.71</td>\n",
       "      <td>2</td>\n",
       "      <td>3.65</td>\n",
       "      <td>408</td>\n",
       "    </tr>\n",
       "    <tr>\n",
       "      <td>1361</td>\n",
       "      <td>64</td>\n",
       "      <td>0</td>\n",
       "      <td>206.2</td>\n",
       "      <td>232.4</td>\n",
       "      <td>251.6</td>\n",
       "      <td>13.6</td>\n",
       "      <td>1</td>\n",
       "      <td>76</td>\n",
       "      <td>35.05</td>\n",
       "      <td>76</td>\n",
       "      <td>19.75</td>\n",
       "      <td>96</td>\n",
       "      <td>11.32</td>\n",
       "      <td>2</td>\n",
       "      <td>3.67</td>\n",
       "      <td>415</td>\n",
       "    </tr>\n",
       "    <tr>\n",
       "      <td>2654</td>\n",
       "      <td>66</td>\n",
       "      <td>0</td>\n",
       "      <td>207.7</td>\n",
       "      <td>196.7</td>\n",
       "      <td>261.7</td>\n",
       "      <td>6.8</td>\n",
       "      <td>1</td>\n",
       "      <td>85</td>\n",
       "      <td>35.31</td>\n",
       "      <td>112</td>\n",
       "      <td>16.72</td>\n",
       "      <td>83</td>\n",
       "      <td>11.78</td>\n",
       "      <td>3</td>\n",
       "      <td>1.84</td>\n",
       "      <td>510</td>\n",
       "    </tr>\n",
       "    <tr>\n",
       "      <td>504</td>\n",
       "      <td>80</td>\n",
       "      <td>0</td>\n",
       "      <td>206.3</td>\n",
       "      <td>154.9</td>\n",
       "      <td>263.6</td>\n",
       "      <td>12.4</td>\n",
       "      <td>0</td>\n",
       "      <td>97</td>\n",
       "      <td>35.07</td>\n",
       "      <td>98</td>\n",
       "      <td>13.17</td>\n",
       "      <td>82</td>\n",
       "      <td>11.86</td>\n",
       "      <td>12</td>\n",
       "      <td>3.35</td>\n",
       "      <td>510</td>\n",
       "    </tr>\n",
       "  </tbody>\n",
       "</table>\n",
       "<p>2666 rows × 16 columns</p>\n",
       "</div>"
      ],
      "text/plain": [
       "      Account_Length  Vmail_Message  Day_Mins  Eve_Mins  Night_Mins  \\\n",
       "1349              71             22     141.4     163.0       220.0   \n",
       "2552              49              0     236.6     220.9       146.8   \n",
       "322              104              0     138.7     256.9       234.9   \n",
       "2471              95             23     160.3     202.4       191.1   \n",
       "1350              55              0     285.7     230.9       230.7   \n",
       "...              ...            ...       ...       ...         ...   \n",
       "2102             111              0     246.5     216.3       179.6   \n",
       "2310             148             25     230.7     233.8       215.8   \n",
       "1361              64              0     206.2     232.4       251.6   \n",
       "2654              66              0     207.7     196.7       261.7   \n",
       "504               80              0     206.3     154.9       263.6   \n",
       "\n",
       "      Intl_Mins  CustServ_Calls  Day_Calls  Day_Charge  Eve_Calls  Eve_Charge  \\\n",
       "1349        5.6               2        107       24.04        105       13.86   \n",
       "2552        8.9               1         91       40.22        146       18.78   \n",
       "322        10.0               0        107       23.58        113       21.84   \n",
       "2471        7.4               0         87       27.25        101       17.20   \n",
       "1350       14.8               0        124       48.57        106       19.63   \n",
       "...         ...             ...        ...         ...        ...         ...   \n",
       "2102       12.7               2        108       41.91         89       18.39   \n",
       "2310       13.5               3        102       39.22        109       19.87   \n",
       "1361       13.6               1         76       35.05         76       19.75   \n",
       "2654        6.8               1         85       35.31        112       16.72   \n",
       "504        12.4               0         97       35.07         98       13.17   \n",
       "\n",
       "      Night_Calls  Night_Charge  Intl_Calls  Intl_Charge  Area_Code  \n",
       "1349           99          9.90           3         1.51        510  \n",
       "2552          114          6.61           2         2.40        408  \n",
       "322            74         10.57           3         2.70        408  \n",
       "2471          122          8.60           3         2.00        415  \n",
       "1350          140         10.38           7         4.00        408  \n",
       "...           ...           ...         ...          ...        ...  \n",
       "2102           99          8.08           3         3.43        415  \n",
       "2310           90          9.71           2         3.65        408  \n",
       "1361           96         11.32           2         3.67        415  \n",
       "2654           83         11.78           3         1.84        510  \n",
       "504            82         11.86          12         3.35        510  \n",
       "\n",
       "[2666 rows x 16 columns]"
      ]
     },
     "execution_count": 37,
     "metadata": {},
     "output_type": "execute_result"
    }
   ],
   "source": [
    "X_train_val[features_num]"
   ]
  },
  {
   "cell_type": "code",
   "execution_count": 38,
   "metadata": {},
   "outputs": [
    {
     "data": {
      "text/html": [
       "<div>\n",
       "<style scoped>\n",
       "    .dataframe tbody tr th:only-of-type {\n",
       "        vertical-align: middle;\n",
       "    }\n",
       "\n",
       "    .dataframe tbody tr th {\n",
       "        vertical-align: top;\n",
       "    }\n",
       "\n",
       "    .dataframe thead th {\n",
       "        text-align: right;\n",
       "    }\n",
       "</style>\n",
       "<table border=\"1\" class=\"dataframe\">\n",
       "  <thead>\n",
       "    <tr style=\"text-align: right;\">\n",
       "      <th></th>\n",
       "      <th>Intl_Plan</th>\n",
       "      <th>Vmail_Plan</th>\n",
       "      <th>State</th>\n",
       "      <th>Phone</th>\n",
       "    </tr>\n",
       "  </thead>\n",
       "  <tbody>\n",
       "    <tr>\n",
       "      <td>1349</td>\n",
       "      <td>no</td>\n",
       "      <td>yes</td>\n",
       "      <td>KY</td>\n",
       "      <td>403-1953</td>\n",
       "    </tr>\n",
       "    <tr>\n",
       "      <td>2552</td>\n",
       "      <td>no</td>\n",
       "      <td>no</td>\n",
       "      <td>MT</td>\n",
       "      <td>353-8970</td>\n",
       "    </tr>\n",
       "    <tr>\n",
       "      <td>322</td>\n",
       "      <td>no</td>\n",
       "      <td>no</td>\n",
       "      <td>VA</td>\n",
       "      <td>360-2479</td>\n",
       "    </tr>\n",
       "    <tr>\n",
       "      <td>2471</td>\n",
       "      <td>no</td>\n",
       "      <td>yes</td>\n",
       "      <td>OH</td>\n",
       "      <td>329-8056</td>\n",
       "    </tr>\n",
       "    <tr>\n",
       "      <td>1350</td>\n",
       "      <td>no</td>\n",
       "      <td>no</td>\n",
       "      <td>WA</td>\n",
       "      <td>357-6039</td>\n",
       "    </tr>\n",
       "    <tr>\n",
       "      <td>...</td>\n",
       "      <td>...</td>\n",
       "      <td>...</td>\n",
       "      <td>...</td>\n",
       "      <td>...</td>\n",
       "    </tr>\n",
       "    <tr>\n",
       "      <td>2102</td>\n",
       "      <td>no</td>\n",
       "      <td>no</td>\n",
       "      <td>WI</td>\n",
       "      <td>382-6438</td>\n",
       "    </tr>\n",
       "    <tr>\n",
       "      <td>2310</td>\n",
       "      <td>no</td>\n",
       "      <td>yes</td>\n",
       "      <td>IL</td>\n",
       "      <td>395-9270</td>\n",
       "    </tr>\n",
       "    <tr>\n",
       "      <td>1361</td>\n",
       "      <td>no</td>\n",
       "      <td>no</td>\n",
       "      <td>WY</td>\n",
       "      <td>385-1985</td>\n",
       "    </tr>\n",
       "    <tr>\n",
       "      <td>2654</td>\n",
       "      <td>no</td>\n",
       "      <td>no</td>\n",
       "      <td>ME</td>\n",
       "      <td>404-3592</td>\n",
       "    </tr>\n",
       "    <tr>\n",
       "      <td>504</td>\n",
       "      <td>no</td>\n",
       "      <td>no</td>\n",
       "      <td>NM</td>\n",
       "      <td>334-9806</td>\n",
       "    </tr>\n",
       "  </tbody>\n",
       "</table>\n",
       "<p>2666 rows × 4 columns</p>\n",
       "</div>"
      ],
      "text/plain": [
       "     Intl_Plan Vmail_Plan State     Phone\n",
       "1349        no        yes    KY  403-1953\n",
       "2552        no         no    MT  353-8970\n",
       "322         no         no    VA  360-2479\n",
       "2471        no        yes    OH  329-8056\n",
       "1350        no         no    WA  357-6039\n",
       "...        ...        ...   ...       ...\n",
       "2102        no         no    WI  382-6438\n",
       "2310        no        yes    IL  395-9270\n",
       "1361        no         no    WY  385-1985\n",
       "2654        no         no    ME  404-3592\n",
       "504         no         no    NM  334-9806\n",
       "\n",
       "[2666 rows x 4 columns]"
      ]
     },
     "execution_count": 38,
     "metadata": {},
     "output_type": "execute_result"
    }
   ],
   "source": [
    "X_train_val[features_cat]"
   ]
  },
  {
   "cell_type": "code",
   "execution_count": 39,
   "metadata": {},
   "outputs": [
    {
     "data": {
      "image/png": "[encoded data removed]",
      "text/plain": [
       "<Figure size 432x288 with 1 Axes>"
      ]
     },
     "metadata": {},
     "output_type": "display_data"
    }
   ],
   "source": [
    "# Examining feature: 'Vmail_Message'\n",
    "\n",
    "plt.hist(X_train_val['Vmail_Message'])\n",
    "\n",
    "plt.title('Distribution of \\'Vmail_Message\\'')\n",
    "plt.show()"
   ]
  },
  {
   "cell_type": "markdown",
   "metadata": {},
   "source": [
    "**Insights**\n",
    "- Since this feature has 0 as the most frequent value for most observations, I'll make this a candidate for a binary column (to be done in feature engineering)"
   ]
  },
  {
   "cell_type": "code",
   "execution_count": 40,
   "metadata": {},
   "outputs": [
    {
     "data": {
      "image/png": "[encoded data removed]",
      "text/plain": [
       "<Figure size 432x288 with 1 Axes>"
      ]
     },
     "metadata": {},
     "output_type": "display_data"
    }
   ],
   "source": [
    "plt.hist(X_train_val['CustServ_Calls'])\n",
    "\n",
    "plt.title('Distribution of \\'CustServ_Calls\\'')\n",
    "plt.show()"
   ]
  },
  {
   "cell_type": "markdown",
   "metadata": {},
   "source": [
    "### Encoding Target"
   ]
  },
  {
   "cell_type": "code",
   "execution_count": 41,
   "metadata": {},
   "outputs": [],
   "source": [
    "# Instantiate Label Encoder for \"Churn\"\n",
    "\n",
    "le = LabelEncoder()"
   ]
  },
  {
   "cell_type": "code",
   "execution_count": 42,
   "metadata": {},
   "outputs": [],
   "source": [
    "y_train_val = le.fit_transform(y_train_val)"
   ]
  },
  {
   "cell_type": "code",
   "execution_count": 43,
   "metadata": {},
   "outputs": [
    {
     "data": {
      "text/plain": [
       "array([0, 0, 0, ..., 0, 0, 0])"
      ]
     },
     "execution_count": 43,
     "metadata": {},
     "output_type": "execute_result"
    }
   ],
   "source": [
    "y_train_val"
   ]
  },
  {
   "cell_type": "markdown",
   "metadata": {},
   "source": [
    "### Train-Test Split"
   ]
  },
  {
   "cell_type": "code",
   "execution_count": 44,
   "metadata": {},
   "outputs": [
    {
     "name": "stdout",
     "output_type": "stream",
     "text": [
      "(1999, 20) (667, 20) (1999,) (667,)\n"
     ]
    }
   ],
   "source": [
    "# Split data into training and test sets\n",
    "\n",
    "X_train, X_test, y_train, y_test = train_test_split(X_train_val, y_train_val, test_size=0.25)\n",
    "\n",
    "print(X_train.shape, X_test.shape, y_train.shape, y_test.shape)"
   ]
  },
  {
   "cell_type": "markdown",
   "metadata": {},
   "source": [
    "---"
   ]
  },
  {
   "cell_type": "markdown",
   "metadata": {},
   "source": [
    "<p><a name=\"sel\"></a></p>\n",
    "\n",
    "### Feature Selection"
   ]
  },
  {
   "cell_type": "code",
   "execution_count": 45,
   "metadata": {},
   "outputs": [
    {
     "data": {
      "image/png": "[encoded data removed]",
      "text/plain": [
       "<Figure size 432x288 with 2 Axes>"
      ]
     },
     "metadata": {},
     "output_type": "display_data"
    }
   ],
   "source": [
    "mask = np.zeros_like(X_train.corr())\n",
    "mask[np.triu_indices_from(mask)] = 1\n",
    "sns.heatmap(X_train.corr(), mask= mask, linewidth=0.7, cmap='RdYlGn') \n",
    "plt.show()"
   ]
  },
  {
   "cell_type": "markdown",
   "metadata": {},
   "source": [
    "**Insights:**\n",
    "- Following features are highly correlated\n",
    "    - Day_Mins & Day_Charge\n",
    "    - Eve_Mins & Eve_Charge\n",
    "    - Night_Mins & Night_Charge\n",
    "    - Intl_Mins & Intl_Charge\n",
    "- Either set are candidates for being dropped or their combination for feature engineering"
   ]
  },
  {
   "cell_type": "markdown",
   "metadata": {},
   "source": [
    "---"
   ]
  },
  {
   "cell_type": "markdown",
   "metadata": {},
   "source": [
    "<p><a name=\"engg\"></a></p>\n",
    "\n",
    "### Feature Engineering"
   ]
  },
  {
   "cell_type": "code",
   "execution_count": 46,
   "metadata": {},
   "outputs": [],
   "source": [
    "class CategoricalTransformer(BaseEstimator, TransformerMixin):\n",
    "    \n",
    "    '''\n",
    "    Descr:\n",
    "    This class contains methods to undertake categorical transformations\n",
    "    on features and its output will be used as CustomTransfomers \n",
    "    in the pipeline functionality to prevent data leakage and also\n",
    "    automate categorical transformations on unseen data.\n",
    "    \n",
    "    Tasks performed by transform() method:\n",
    "    1. Drops columns not required / provide no predictive information the model\n",
    "\n",
    "    I/P:\n",
    "    Features dataframe\n",
    "\n",
    "    O/P:\n",
    "    numpy array of transformed categorical features\n",
    "    '''    \n",
    "    \n",
    "    # Class constructor\n",
    "    def __init__(self):\n",
    "        pass\n",
    "    \n",
    "    # fit method - does nothing and returns self\n",
    "    def fit(self, X, y=None):\n",
    "        return self\n",
    "    \n",
    "    # transform method for custom transformations\n",
    "    def transform(self, X, y=None):\n",
    "        \n",
    "        # Doing this to avoid Chained Indexing error:\n",
    "        # \"SettingWithCopyWarning: A value is trying to be set on a copy of a slice from a DataFrame\"\n",
    "        X1 = X.copy()\n",
    "        \n",
    "        # Dropping columns that:\n",
    "            # were transformed above\n",
    "            # provide no predictive information\n",
    "        X1.drop(['Phone'], axis=1, inplace=True)\n",
    "\n",
    "\n",
    "        # Return numpy array of transformed numerical features\n",
    "        return X1 "
   ]
  },
  {
   "cell_type": "code",
   "execution_count": 47,
   "metadata": {},
   "outputs": [],
   "source": [
    "class NumericalTransformer(BaseEstimator, TransformerMixin):\n",
    "    \n",
    "    '''\n",
    "    Descr:\n",
    "    This class contains methods to undertake numerical transformations\n",
    "    on features and its output will be used as CustomTransfomers \n",
    "    in the pipeline functionality to prevent data leakage and also\n",
    "    automate numerical transformations on unseen data.\n",
    "    For it to qualify as a transformer, it will contain the .fit()\n",
    "    and .transform() methods and we'll be inheriting from 2 classes\n",
    "    that faciliate this class being a transformer.\n",
    "    \n",
    "    Tasks performed by transform() method:\n",
    "    1. Creates 4 (Day, Eve, Night, Intl) \"ChargesPerMin\" columns and drops original\n",
    "    2. Create binary column of features that are highly skewed to 1 value\n",
    "    3. Drops columns not required / provide no predictive information the model\n",
    "\n",
    "    I/P:\n",
    "    Features dataframe\n",
    "\n",
    "    O/P:\n",
    "    numpy array of transformed numerical features\n",
    "    '''    \n",
    "    \n",
    "    # Class constructor\n",
    "    def __init__(self, numerical_features):\n",
    "        self.numerical_features = numerical_features\n",
    "    \n",
    "    # fit method - does nothing and returns self\n",
    "    def fit(self, X, y=None):\n",
    "        return self\n",
    "    \n",
    "    # Binarize method\n",
    "    def binarize(self, obj):\n",
    "        if obj == 0:\n",
    "            return 0\n",
    "        else:\n",
    "            return 1\n",
    "    \n",
    "    # transform method for custom transformations\n",
    "    def transform(self, X, y=None):\n",
    "        \n",
    "        X = pd.DataFrame(X, columns=self.numerical_features)\n",
    "        \n",
    "        # Doing this to avoid Chained Indexing error:\n",
    "        # \"SettingWithCopyWarning: A value is trying to be set on a copy of a slice from a DataFrame\"\n",
    "        X1 = X.copy()\n",
    "        \n",
    "        # Binarize columns\n",
    "        X1.loc[:,'Vmail_Message_b'] = X1['Vmail_Message'].apply(self.binarize)\n",
    "\n",
    "        \n",
    "        # Dropping columns that:\n",
    "        X1.drop(['Day_Mins','Eve_Mins','Night_Mins','Intl_Mins',\\\n",
    "                 'Vmail_Message','Area_Code'], axis=1, inplace=True)\n",
    "\n",
    "        \n",
    "        # Return numpy array of transformed numerical features\n",
    "        return X1    #X1.values"
   ]
  },
  {
   "cell_type": "code",
   "execution_count": 48,
   "metadata": {},
   "outputs": [],
   "source": [
    "# Instantiate Transformers\n",
    "\n",
    "# Categorical \n",
    "cat_transformer = CategoricalTransformer()\n",
    "imp_mode_c = SimpleImputer(strategy='most_frequent')\n",
    "oe = OrdinalEncoder()\n",
    "ohe = OneHotEncoder()\n",
    "\n",
    "# Numerical\n",
    "imp_median_n = SimpleImputer(strategy='median')\n",
    "num_transformer = NumericalTransformer(features_num)\n",
    "ss = StandardScaler()"
   ]
  },
  {
   "cell_type": "code",
   "execution_count": 49,
   "metadata": {},
   "outputs": [],
   "source": [
    "# Tagging features for transformations\n",
    "\n",
    "# Categorical \n",
    "features_for_pipe_cat_imp_oe = ['Intl_Plan', 'Vmail_Plan', 'Phone']\n",
    "    # 'Phone' will get dropped and remaining 2 will be ordinal encoded\n",
    "features_for_ohe = ['State']\n",
    "\n",
    "# Numerical\n",
    "features_for_pipe_num_imp_ss = features_num"
   ]
  },
  {
   "cell_type": "code",
   "execution_count": 50,
   "metadata": {},
   "outputs": [],
   "source": [
    "# Categorical pipelines\n",
    "# Pipeline for dropping 'Phone' and for imputation & Ordinal encoding\n",
    "pipe_cat_imp_oe = make_pipeline(cat_transformer, imp_mode_c, oe)\n",
    "\n",
    "# Pipeline for imputation & OneHot encoding\n",
    "pipe_imp_ohe = make_pipeline(imp_mode_c, ohe)\n",
    "\n",
    "\n",
    "# Numerical pipelines\n",
    "pipe_num_imp_ss = make_pipeline(imp_median_n, num_transformer,ss)"
   ]
  },
  {
   "cell_type": "code",
   "execution_count": 51,
   "metadata": {},
   "outputs": [],
   "source": [
    "# Utilizing Column Transformer for transformations\n",
    "\n",
    "ct = make_column_transformer(\n",
    "    (pipe_cat_imp_oe, features_for_pipe_cat_imp_oe)\n",
    "    ,(pipe_imp_ohe, features_for_ohe)\n",
    "    ,(pipe_num_imp_ss, features_for_pipe_num_imp_ss)\n",
    "    ,remainder='passthrough') "
   ]
  },
  {
   "cell_type": "code",
   "execution_count": 52,
   "metadata": {
    "scrolled": false
   },
   "outputs": [
    {
     "data": {
      "text/plain": [
       "<1999x64 sparse matrix of type '<class 'numpy.float64'>'\n",
       "\twith 24734 stored elements in Compressed Sparse Row format>"
      ]
     },
     "execution_count": 52,
     "metadata": {},
     "output_type": "execute_result"
    }
   ],
   "source": [
    "ct.fit_transform(X_train)"
   ]
  },
  {
   "cell_type": "code",
   "execution_count": 53,
   "metadata": {},
   "outputs": [
    {
     "data": {
      "text/plain": [
       "(1999, 64)"
      ]
     },
     "execution_count": 53,
     "metadata": {},
     "output_type": "execute_result"
    }
   ],
   "source": [
    "ct.fit_transform(X_train).toarray().shape"
   ]
  },
  {
   "cell_type": "code",
   "execution_count": 54,
   "metadata": {},
   "outputs": [],
   "source": [
    "# Instantiate ML Model\n",
    "\n",
    "logreg = LogisticRegression()"
   ]
  },
  {
   "cell_type": "code",
   "execution_count": 55,
   "metadata": {},
   "outputs": [],
   "source": [
    "# Make pipeline of all transformation and Logistic model\n",
    "\n",
    "pipe = make_pipeline(ct, logreg)"
   ]
  },
  {
   "cell_type": "code",
   "execution_count": 56,
   "metadata": {},
   "outputs": [
    {
     "data": {
      "text/plain": [
       "{'columntransformer': ColumnTransformer(n_jobs=None, remainder='passthrough', sparse_threshold=0.3,\n",
       "                   transformer_weights=None,\n",
       "                   transformers=[('pipeline-1',\n",
       "                                  Pipeline(memory=None,\n",
       "                                           steps=[('categoricaltransformer',\n",
       "                                                   CategoricalTransformer()),\n",
       "                                                  ('simpleimputer',\n",
       "                                                   SimpleImputer(add_indicator=False,\n",
       "                                                                 copy=True,\n",
       "                                                                 fill_value=None,\n",
       "                                                                 missing_values=nan,\n",
       "                                                                 strategy='most_frequent',\n",
       "                                                                 verbose=0)),\n",
       "                                                  ('ordinal...\n",
       "       dtype='object'))),\n",
       "                                                  ('standardscaler',\n",
       "                                                   StandardScaler(copy=True,\n",
       "                                                                  with_mean=True,\n",
       "                                                                  with_std=True))],\n",
       "                                           verbose=False),\n",
       "                                  Index(['Account_Length', 'Vmail_Message', 'Day_Mins', 'Eve_Mins', 'Night_Mins',\n",
       "        'Intl_Mins', 'CustServ_Calls', 'Day_Calls', 'Day_Charge', 'Eve_Calls',\n",
       "        'Eve_Charge', 'Night_Calls', 'Night_Charge', 'Intl_Calls',\n",
       "        'Intl_Charge', 'Area_Code'],\n",
       "       dtype='object'))],\n",
       "                   verbose=False),\n",
       " 'logisticregression': LogisticRegression(C=1.0, class_weight=None, dual=False, fit_intercept=True,\n",
       "                    intercept_scaling=1, l1_ratio=None, max_iter=100,\n",
       "                    multi_class='warn', n_jobs=None, penalty='l2',\n",
       "                    random_state=None, solver='warn', tol=0.0001, verbose=0,\n",
       "                    warm_start=False)}"
      ]
     },
     "execution_count": 56,
     "metadata": {},
     "output_type": "execute_result"
    }
   ],
   "source": [
    "pipe.named_steps"
   ]
  },
  {
   "cell_type": "code",
   "execution_count": 57,
   "metadata": {},
   "outputs": [
    {
     "name": "stderr",
     "output_type": "stream",
     "text": [
      "/opt/anaconda3/lib/python3.7/site-packages/sklearn/linear_model/logistic.py:432: FutureWarning: Default solver will be changed to 'lbfgs' in 0.22. Specify a solver to silence this warning.\n",
      "  FutureWarning)\n"
     ]
    },
    {
     "data": {
      "text/plain": [
       "Pipeline(memory=None,\n",
       "         steps=[('columntransformer',\n",
       "                 ColumnTransformer(n_jobs=None, remainder='passthrough',\n",
       "                                   sparse_threshold=0.3,\n",
       "                                   transformer_weights=None,\n",
       "                                   transformers=[('pipeline-1',\n",
       "                                                  Pipeline(memory=None,\n",
       "                                                           steps=[('categoricaltransformer',\n",
       "                                                                   CategoricalTransformer()),\n",
       "                                                                  ('simpleimputer',\n",
       "                                                                   SimpleImputer(add_indicator=False,\n",
       "                                                                                 copy=True,\n",
       "                                                                                 fill_value=None,\n",
       "                                                                                 missing_values=n...\n",
       "       'Eve_Charge', 'Night_Calls', 'Night_Charge', 'Intl_Calls',\n",
       "       'Intl_Charge', 'Area_Code'],\n",
       "      dtype='object'))],\n",
       "                                   verbose=False)),\n",
       "                ('logisticregression',\n",
       "                 LogisticRegression(C=1.0, class_weight=None, dual=False,\n",
       "                                    fit_intercept=True, intercept_scaling=1,\n",
       "                                    l1_ratio=None, max_iter=100,\n",
       "                                    multi_class='warn', n_jobs=None,\n",
       "                                    penalty='l2', random_state=None,\n",
       "                                    solver='warn', tol=0.0001, verbose=0,\n",
       "                                    warm_start=False))],\n",
       "         verbose=False)"
      ]
     },
     "execution_count": 57,
     "metadata": {},
     "output_type": "execute_result"
    }
   ],
   "source": [
    "pipe.fit(X_train, y_train)"
   ]
  },
  {
   "cell_type": "code",
   "execution_count": 58,
   "metadata": {},
   "outputs": [],
   "source": [
    "y_pred = pipe.predict(X_test)"
   ]
  },
  {
   "cell_type": "code",
   "execution_count": 59,
   "metadata": {},
   "outputs": [
    {
     "data": {
      "text/plain": [
       "array([[561,  14],\n",
       "       [ 70,  22]])"
      ]
     },
     "execution_count": 59,
     "metadata": {},
     "output_type": "execute_result"
    }
   ],
   "source": [
    "confusion_matrix(y_test, y_pred)"
   ]
  },
  {
   "cell_type": "code",
   "execution_count": 60,
   "metadata": {},
   "outputs": [
    {
     "data": {
      "text/plain": [
       "0.863568215892054"
      ]
     },
     "execution_count": 60,
     "metadata": {},
     "output_type": "execute_result"
    }
   ],
   "source": [
    "(546+30)/(546+30+8+83)"
   ]
  },
  {
   "cell_type": "code",
   "execution_count": 61,
   "metadata": {},
   "outputs": [
    {
     "data": {
      "text/plain": [
       "{'logisticregression__C': [0.1, 1, 10, 100],\n",
       " 'logisticregression__solver': ['lbfgs', 'liblinear'],\n",
       " 'logisticregression__max_iter': [100, 1000, 10000]}"
      ]
     },
     "execution_count": 61,
     "metadata": {},
     "output_type": "execute_result"
    }
   ],
   "source": [
    "params = {}\n",
    "params['logisticregression__C'] = [0.1, 1, 10, 100]\n",
    "params['logisticregression__solver'] = ['lbfgs', 'liblinear']\n",
    "params['logisticregression__max_iter'] = [100,1000,10000]\n",
    "params"
   ]
  },
  {
   "cell_type": "code",
   "execution_count": 62,
   "metadata": {
    "scrolled": false
   },
   "outputs": [
    {
     "name": "stderr",
     "output_type": "stream",
     "text": [
      "/opt/anaconda3/lib/python3.7/site-packages/sklearn/linear_model/logistic.py:947: ConvergenceWarning: lbfgs failed to converge. Increase the number of iterations.\n",
      "  \"of iterations.\", ConvergenceWarning)\n",
      "/opt/anaconda3/lib/python3.7/site-packages/sklearn/linear_model/logistic.py:947: ConvergenceWarning: lbfgs failed to converge. Increase the number of iterations.\n",
      "  \"of iterations.\", ConvergenceWarning)\n",
      "/opt/anaconda3/lib/python3.7/site-packages/sklearn/linear_model/logistic.py:947: ConvergenceWarning: lbfgs failed to converge. Increase the number of iterations.\n",
      "  \"of iterations.\", ConvergenceWarning)\n",
      "/opt/anaconda3/lib/python3.7/site-packages/sklearn/linear_model/logistic.py:947: ConvergenceWarning: lbfgs failed to converge. Increase the number of iterations.\n",
      "  \"of iterations.\", ConvergenceWarning)\n",
      "/opt/anaconda3/lib/python3.7/site-packages/sklearn/linear_model/logistic.py:947: ConvergenceWarning: lbfgs failed to converge. Increase the number of iterations.\n",
      "  \"of iterations.\", ConvergenceWarning)\n",
      "/opt/anaconda3/lib/python3.7/site-packages/sklearn/linear_model/logistic.py:947: ConvergenceWarning: lbfgs failed to converge. Increase the number of iterations.\n",
      "  \"of iterations.\", ConvergenceWarning)\n"
     ]
    }
   ],
   "source": [
    "grid = GridSearchCV(pipe, params, cv=5, scoring='accuracy')\n",
    "grid.fit(X_train, y_train);"
   ]
  },
  {
   "cell_type": "code",
   "execution_count": 63,
   "metadata": {},
   "outputs": [
    {
     "data": {
      "text/html": [
       "<div>\n",
       "<style scoped>\n",
       "    .dataframe tbody tr th:only-of-type {\n",
       "        vertical-align: middle;\n",
       "    }\n",
       "\n",
       "    .dataframe tbody tr th {\n",
       "        vertical-align: top;\n",
       "    }\n",
       "\n",
       "    .dataframe thead th {\n",
       "        text-align: right;\n",
       "    }\n",
       "</style>\n",
       "<table border=\"1\" class=\"dataframe\">\n",
       "  <thead>\n",
       "    <tr style=\"text-align: right;\">\n",
       "      <th></th>\n",
       "      <th>mean_fit_time</th>\n",
       "      <th>std_fit_time</th>\n",
       "      <th>mean_score_time</th>\n",
       "      <th>std_score_time</th>\n",
       "      <th>param_logisticregression__C</th>\n",
       "      <th>param_logisticregression__max_iter</th>\n",
       "      <th>param_logisticregression__solver</th>\n",
       "      <th>params</th>\n",
       "      <th>split0_test_score</th>\n",
       "      <th>split1_test_score</th>\n",
       "      <th>split2_test_score</th>\n",
       "      <th>split3_test_score</th>\n",
       "      <th>split4_test_score</th>\n",
       "      <th>mean_test_score</th>\n",
       "      <th>std_test_score</th>\n",
       "      <th>rank_test_score</th>\n",
       "    </tr>\n",
       "  </thead>\n",
       "  <tbody>\n",
       "    <tr>\n",
       "      <td>1</td>\n",
       "      <td>0.018719</td>\n",
       "      <td>0.000541</td>\n",
       "      <td>0.006881</td>\n",
       "      <td>0.000197</td>\n",
       "      <td>0.1</td>\n",
       "      <td>100</td>\n",
       "      <td>liblinear</td>\n",
       "      <td>{'logisticregression__C': 0.1, 'logisticregres...</td>\n",
       "      <td>0.8400</td>\n",
       "      <td>0.8625</td>\n",
       "      <td>0.8775</td>\n",
       "      <td>0.8625</td>\n",
       "      <td>0.859649</td>\n",
       "      <td>0.860430</td>\n",
       "      <td>0.011986</td>\n",
       "      <td>1</td>\n",
       "    </tr>\n",
       "    <tr>\n",
       "      <td>3</td>\n",
       "      <td>0.018867</td>\n",
       "      <td>0.000418</td>\n",
       "      <td>0.007039</td>\n",
       "      <td>0.000408</td>\n",
       "      <td>0.1</td>\n",
       "      <td>1000</td>\n",
       "      <td>liblinear</td>\n",
       "      <td>{'logisticregression__C': 0.1, 'logisticregres...</td>\n",
       "      <td>0.8400</td>\n",
       "      <td>0.8625</td>\n",
       "      <td>0.8775</td>\n",
       "      <td>0.8625</td>\n",
       "      <td>0.859649</td>\n",
       "      <td>0.860430</td>\n",
       "      <td>0.011986</td>\n",
       "      <td>1</td>\n",
       "    </tr>\n",
       "    <tr>\n",
       "      <td>5</td>\n",
       "      <td>0.019923</td>\n",
       "      <td>0.001136</td>\n",
       "      <td>0.007596</td>\n",
       "      <td>0.000774</td>\n",
       "      <td>0.1</td>\n",
       "      <td>10000</td>\n",
       "      <td>liblinear</td>\n",
       "      <td>{'logisticregression__C': 0.1, 'logisticregres...</td>\n",
       "      <td>0.8400</td>\n",
       "      <td>0.8625</td>\n",
       "      <td>0.8775</td>\n",
       "      <td>0.8625</td>\n",
       "      <td>0.859649</td>\n",
       "      <td>0.860430</td>\n",
       "      <td>0.011986</td>\n",
       "      <td>1</td>\n",
       "    </tr>\n",
       "    <tr>\n",
       "      <td>0</td>\n",
       "      <td>0.029931</td>\n",
       "      <td>0.004787</td>\n",
       "      <td>0.008233</td>\n",
       "      <td>0.001180</td>\n",
       "      <td>0.1</td>\n",
       "      <td>100</td>\n",
       "      <td>lbfgs</td>\n",
       "      <td>{'logisticregression__C': 0.1, 'logisticregres...</td>\n",
       "      <td>0.8375</td>\n",
       "      <td>0.8625</td>\n",
       "      <td>0.8775</td>\n",
       "      <td>0.8625</td>\n",
       "      <td>0.859649</td>\n",
       "      <td>0.859930</td>\n",
       "      <td>0.012849</td>\n",
       "      <td>4</td>\n",
       "    </tr>\n",
       "    <tr>\n",
       "      <td>2</td>\n",
       "      <td>0.023543</td>\n",
       "      <td>0.000356</td>\n",
       "      <td>0.006869</td>\n",
       "      <td>0.000138</td>\n",
       "      <td>0.1</td>\n",
       "      <td>1000</td>\n",
       "      <td>lbfgs</td>\n",
       "      <td>{'logisticregression__C': 0.1, 'logisticregres...</td>\n",
       "      <td>0.8375</td>\n",
       "      <td>0.8625</td>\n",
       "      <td>0.8775</td>\n",
       "      <td>0.8625</td>\n",
       "      <td>0.859649</td>\n",
       "      <td>0.859930</td>\n",
       "      <td>0.012849</td>\n",
       "      <td>4</td>\n",
       "    </tr>\n",
       "    <tr>\n",
       "      <td>4</td>\n",
       "      <td>0.023169</td>\n",
       "      <td>0.000112</td>\n",
       "      <td>0.007152</td>\n",
       "      <td>0.000613</td>\n",
       "      <td>0.1</td>\n",
       "      <td>10000</td>\n",
       "      <td>lbfgs</td>\n",
       "      <td>{'logisticregression__C': 0.1, 'logisticregres...</td>\n",
       "      <td>0.8375</td>\n",
       "      <td>0.8625</td>\n",
       "      <td>0.8775</td>\n",
       "      <td>0.8625</td>\n",
       "      <td>0.859649</td>\n",
       "      <td>0.859930</td>\n",
       "      <td>0.012849</td>\n",
       "      <td>4</td>\n",
       "    </tr>\n",
       "    <tr>\n",
       "      <td>6</td>\n",
       "      <td>0.031409</td>\n",
       "      <td>0.001161</td>\n",
       "      <td>0.007024</td>\n",
       "      <td>0.000151</td>\n",
       "      <td>1</td>\n",
       "      <td>100</td>\n",
       "      <td>lbfgs</td>\n",
       "      <td>{'logisticregression__C': 1, 'logisticregressi...</td>\n",
       "      <td>0.8300</td>\n",
       "      <td>0.8525</td>\n",
       "      <td>0.8825</td>\n",
       "      <td>0.8750</td>\n",
       "      <td>0.854637</td>\n",
       "      <td>0.858929</td>\n",
       "      <td>0.018500</td>\n",
       "      <td>7</td>\n",
       "    </tr>\n",
       "    <tr>\n",
       "      <td>10</td>\n",
       "      <td>0.030647</td>\n",
       "      <td>0.001263</td>\n",
       "      <td>0.006912</td>\n",
       "      <td>0.000150</td>\n",
       "      <td>1</td>\n",
       "      <td>10000</td>\n",
       "      <td>lbfgs</td>\n",
       "      <td>{'logisticregression__C': 1, 'logisticregressi...</td>\n",
       "      <td>0.8300</td>\n",
       "      <td>0.8525</td>\n",
       "      <td>0.8825</td>\n",
       "      <td>0.8750</td>\n",
       "      <td>0.854637</td>\n",
       "      <td>0.858929</td>\n",
       "      <td>0.018500</td>\n",
       "      <td>7</td>\n",
       "    </tr>\n",
       "    <tr>\n",
       "      <td>8</td>\n",
       "      <td>0.030156</td>\n",
       "      <td>0.001451</td>\n",
       "      <td>0.006866</td>\n",
       "      <td>0.000169</td>\n",
       "      <td>1</td>\n",
       "      <td>1000</td>\n",
       "      <td>lbfgs</td>\n",
       "      <td>{'logisticregression__C': 1, 'logisticregressi...</td>\n",
       "      <td>0.8300</td>\n",
       "      <td>0.8525</td>\n",
       "      <td>0.8825</td>\n",
       "      <td>0.8750</td>\n",
       "      <td>0.854637</td>\n",
       "      <td>0.858929</td>\n",
       "      <td>0.018500</td>\n",
       "      <td>7</td>\n",
       "    </tr>\n",
       "    <tr>\n",
       "      <td>11</td>\n",
       "      <td>0.019499</td>\n",
       "      <td>0.000336</td>\n",
       "      <td>0.007130</td>\n",
       "      <td>0.000436</td>\n",
       "      <td>1</td>\n",
       "      <td>10000</td>\n",
       "      <td>liblinear</td>\n",
       "      <td>{'logisticregression__C': 1, 'logisticregressi...</td>\n",
       "      <td>0.8300</td>\n",
       "      <td>0.8500</td>\n",
       "      <td>0.8800</td>\n",
       "      <td>0.8750</td>\n",
       "      <td>0.854637</td>\n",
       "      <td>0.857929</td>\n",
       "      <td>0.018072</td>\n",
       "      <td>10</td>\n",
       "    </tr>\n",
       "    <tr>\n",
       "      <td>7</td>\n",
       "      <td>0.019849</td>\n",
       "      <td>0.000454</td>\n",
       "      <td>0.007670</td>\n",
       "      <td>0.001467</td>\n",
       "      <td>1</td>\n",
       "      <td>100</td>\n",
       "      <td>liblinear</td>\n",
       "      <td>{'logisticregression__C': 1, 'logisticregressi...</td>\n",
       "      <td>0.8300</td>\n",
       "      <td>0.8500</td>\n",
       "      <td>0.8800</td>\n",
       "      <td>0.8750</td>\n",
       "      <td>0.854637</td>\n",
       "      <td>0.857929</td>\n",
       "      <td>0.018072</td>\n",
       "      <td>10</td>\n",
       "    </tr>\n",
       "    <tr>\n",
       "      <td>9</td>\n",
       "      <td>0.019584</td>\n",
       "      <td>0.000853</td>\n",
       "      <td>0.007100</td>\n",
       "      <td>0.000490</td>\n",
       "      <td>1</td>\n",
       "      <td>1000</td>\n",
       "      <td>liblinear</td>\n",
       "      <td>{'logisticregression__C': 1, 'logisticregressi...</td>\n",
       "      <td>0.8300</td>\n",
       "      <td>0.8500</td>\n",
       "      <td>0.8800</td>\n",
       "      <td>0.8750</td>\n",
       "      <td>0.854637</td>\n",
       "      <td>0.857929</td>\n",
       "      <td>0.018072</td>\n",
       "      <td>10</td>\n",
       "    </tr>\n",
       "    <tr>\n",
       "      <td>12</td>\n",
       "      <td>0.042713</td>\n",
       "      <td>0.001373</td>\n",
       "      <td>0.007127</td>\n",
       "      <td>0.000219</td>\n",
       "      <td>10</td>\n",
       "      <td>100</td>\n",
       "      <td>lbfgs</td>\n",
       "      <td>{'logisticregression__C': 10, 'logisticregress...</td>\n",
       "      <td>0.8300</td>\n",
       "      <td>0.8500</td>\n",
       "      <td>0.8800</td>\n",
       "      <td>0.8725</td>\n",
       "      <td>0.852130</td>\n",
       "      <td>0.856928</td>\n",
       "      <td>0.017729</td>\n",
       "      <td>13</td>\n",
       "    </tr>\n",
       "    <tr>\n",
       "      <td>14</td>\n",
       "      <td>0.043170</td>\n",
       "      <td>0.002391</td>\n",
       "      <td>0.007083</td>\n",
       "      <td>0.000239</td>\n",
       "      <td>10</td>\n",
       "      <td>1000</td>\n",
       "      <td>lbfgs</td>\n",
       "      <td>{'logisticregression__C': 10, 'logisticregress...</td>\n",
       "      <td>0.8300</td>\n",
       "      <td>0.8500</td>\n",
       "      <td>0.8800</td>\n",
       "      <td>0.8725</td>\n",
       "      <td>0.852130</td>\n",
       "      <td>0.856928</td>\n",
       "      <td>0.017729</td>\n",
       "      <td>13</td>\n",
       "    </tr>\n",
       "    <tr>\n",
       "      <td>16</td>\n",
       "      <td>0.043038</td>\n",
       "      <td>0.001879</td>\n",
       "      <td>0.007215</td>\n",
       "      <td>0.000145</td>\n",
       "      <td>10</td>\n",
       "      <td>10000</td>\n",
       "      <td>lbfgs</td>\n",
       "      <td>{'logisticregression__C': 10, 'logisticregress...</td>\n",
       "      <td>0.8300</td>\n",
       "      <td>0.8500</td>\n",
       "      <td>0.8800</td>\n",
       "      <td>0.8725</td>\n",
       "      <td>0.852130</td>\n",
       "      <td>0.856928</td>\n",
       "      <td>0.017729</td>\n",
       "      <td>13</td>\n",
       "    </tr>\n",
       "    <tr>\n",
       "      <td>22</td>\n",
       "      <td>0.050988</td>\n",
       "      <td>0.009860</td>\n",
       "      <td>0.006729</td>\n",
       "      <td>0.000071</td>\n",
       "      <td>100</td>\n",
       "      <td>10000</td>\n",
       "      <td>lbfgs</td>\n",
       "      <td>{'logisticregression__C': 100, 'logisticregres...</td>\n",
       "      <td>0.8300</td>\n",
       "      <td>0.8500</td>\n",
       "      <td>0.8800</td>\n",
       "      <td>0.8700</td>\n",
       "      <td>0.852130</td>\n",
       "      <td>0.856428</td>\n",
       "      <td>0.017313</td>\n",
       "      <td>16</td>\n",
       "    </tr>\n",
       "    <tr>\n",
       "      <td>13</td>\n",
       "      <td>0.023302</td>\n",
       "      <td>0.002625</td>\n",
       "      <td>0.007435</td>\n",
       "      <td>0.000685</td>\n",
       "      <td>10</td>\n",
       "      <td>100</td>\n",
       "      <td>liblinear</td>\n",
       "      <td>{'logisticregression__C': 10, 'logisticregress...</td>\n",
       "      <td>0.8300</td>\n",
       "      <td>0.8500</td>\n",
       "      <td>0.8800</td>\n",
       "      <td>0.8725</td>\n",
       "      <td>0.849624</td>\n",
       "      <td>0.856428</td>\n",
       "      <td>0.017892</td>\n",
       "      <td>16</td>\n",
       "    </tr>\n",
       "    <tr>\n",
       "      <td>15</td>\n",
       "      <td>0.021693</td>\n",
       "      <td>0.000563</td>\n",
       "      <td>0.007316</td>\n",
       "      <td>0.000249</td>\n",
       "      <td>10</td>\n",
       "      <td>1000</td>\n",
       "      <td>liblinear</td>\n",
       "      <td>{'logisticregression__C': 10, 'logisticregress...</td>\n",
       "      <td>0.8300</td>\n",
       "      <td>0.8500</td>\n",
       "      <td>0.8800</td>\n",
       "      <td>0.8725</td>\n",
       "      <td>0.849624</td>\n",
       "      <td>0.856428</td>\n",
       "      <td>0.017892</td>\n",
       "      <td>16</td>\n",
       "    </tr>\n",
       "    <tr>\n",
       "      <td>17</td>\n",
       "      <td>0.021153</td>\n",
       "      <td>0.000575</td>\n",
       "      <td>0.007205</td>\n",
       "      <td>0.000243</td>\n",
       "      <td>10</td>\n",
       "      <td>10000</td>\n",
       "      <td>liblinear</td>\n",
       "      <td>{'logisticregression__C': 10, 'logisticregress...</td>\n",
       "      <td>0.8300</td>\n",
       "      <td>0.8500</td>\n",
       "      <td>0.8800</td>\n",
       "      <td>0.8725</td>\n",
       "      <td>0.849624</td>\n",
       "      <td>0.856428</td>\n",
       "      <td>0.017892</td>\n",
       "      <td>16</td>\n",
       "    </tr>\n",
       "    <tr>\n",
       "      <td>18</td>\n",
       "      <td>0.045921</td>\n",
       "      <td>0.000500</td>\n",
       "      <td>0.007721</td>\n",
       "      <td>0.000384</td>\n",
       "      <td>100</td>\n",
       "      <td>100</td>\n",
       "      <td>lbfgs</td>\n",
       "      <td>{'logisticregression__C': 100, 'logisticregres...</td>\n",
       "      <td>0.8300</td>\n",
       "      <td>0.8500</td>\n",
       "      <td>0.8800</td>\n",
       "      <td>0.8700</td>\n",
       "      <td>0.852130</td>\n",
       "      <td>0.856428</td>\n",
       "      <td>0.017313</td>\n",
       "      <td>16</td>\n",
       "    </tr>\n",
       "    <tr>\n",
       "      <td>19</td>\n",
       "      <td>0.023494</td>\n",
       "      <td>0.003480</td>\n",
       "      <td>0.007480</td>\n",
       "      <td>0.000726</td>\n",
       "      <td>100</td>\n",
       "      <td>100</td>\n",
       "      <td>liblinear</td>\n",
       "      <td>{'logisticregression__C': 100, 'logisticregres...</td>\n",
       "      <td>0.8300</td>\n",
       "      <td>0.8500</td>\n",
       "      <td>0.8800</td>\n",
       "      <td>0.8700</td>\n",
       "      <td>0.852130</td>\n",
       "      <td>0.856428</td>\n",
       "      <td>0.017313</td>\n",
       "      <td>16</td>\n",
       "    </tr>\n",
       "    <tr>\n",
       "      <td>20</td>\n",
       "      <td>0.054212</td>\n",
       "      <td>0.013011</td>\n",
       "      <td>0.007201</td>\n",
       "      <td>0.000219</td>\n",
       "      <td>100</td>\n",
       "      <td>1000</td>\n",
       "      <td>lbfgs</td>\n",
       "      <td>{'logisticregression__C': 100, 'logisticregres...</td>\n",
       "      <td>0.8300</td>\n",
       "      <td>0.8500</td>\n",
       "      <td>0.8800</td>\n",
       "      <td>0.8700</td>\n",
       "      <td>0.852130</td>\n",
       "      <td>0.856428</td>\n",
       "      <td>0.017313</td>\n",
       "      <td>16</td>\n",
       "    </tr>\n",
       "    <tr>\n",
       "      <td>21</td>\n",
       "      <td>0.020571</td>\n",
       "      <td>0.000498</td>\n",
       "      <td>0.006879</td>\n",
       "      <td>0.000118</td>\n",
       "      <td>100</td>\n",
       "      <td>1000</td>\n",
       "      <td>liblinear</td>\n",
       "      <td>{'logisticregression__C': 100, 'logisticregres...</td>\n",
       "      <td>0.8300</td>\n",
       "      <td>0.8500</td>\n",
       "      <td>0.8800</td>\n",
       "      <td>0.8700</td>\n",
       "      <td>0.852130</td>\n",
       "      <td>0.856428</td>\n",
       "      <td>0.017313</td>\n",
       "      <td>16</td>\n",
       "    </tr>\n",
       "    <tr>\n",
       "      <td>23</td>\n",
       "      <td>0.020428</td>\n",
       "      <td>0.000748</td>\n",
       "      <td>0.006747</td>\n",
       "      <td>0.000096</td>\n",
       "      <td>100</td>\n",
       "      <td>10000</td>\n",
       "      <td>liblinear</td>\n",
       "      <td>{'logisticregression__C': 100, 'logisticregres...</td>\n",
       "      <td>0.8300</td>\n",
       "      <td>0.8500</td>\n",
       "      <td>0.8800</td>\n",
       "      <td>0.8700</td>\n",
       "      <td>0.852130</td>\n",
       "      <td>0.856428</td>\n",
       "      <td>0.017313</td>\n",
       "      <td>16</td>\n",
       "    </tr>\n",
       "  </tbody>\n",
       "</table>\n",
       "</div>"
      ],
      "text/plain": [
       "    mean_fit_time  std_fit_time  mean_score_time  std_score_time  \\\n",
       "1        0.018719      0.000541         0.006881        0.000197   \n",
       "3        0.018867      0.000418         0.007039        0.000408   \n",
       "5        0.019923      0.001136         0.007596        0.000774   \n",
       "0        0.029931      0.004787         0.008233        0.001180   \n",
       "2        0.023543      0.000356         0.006869        0.000138   \n",
       "4        0.023169      0.000112         0.007152        0.000613   \n",
       "6        0.031409      0.001161         0.007024        0.000151   \n",
       "10       0.030647      0.001263         0.006912        0.000150   \n",
       "8        0.030156      0.001451         0.006866        0.000169   \n",
       "11       0.019499      0.000336         0.007130        0.000436   \n",
       "7        0.019849      0.000454         0.007670        0.001467   \n",
       "9        0.019584      0.000853         0.007100        0.000490   \n",
       "12       0.042713      0.001373         0.007127        0.000219   \n",
       "14       0.043170      0.002391         0.007083        0.000239   \n",
       "16       0.043038      0.001879         0.007215        0.000145   \n",
       "22       0.050988      0.009860         0.006729        0.000071   \n",
       "13       0.023302      0.002625         0.007435        0.000685   \n",
       "15       0.021693      0.000563         0.007316        0.000249   \n",
       "17       0.021153      0.000575         0.007205        0.000243   \n",
       "18       0.045921      0.000500         0.007721        0.000384   \n",
       "19       0.023494      0.003480         0.007480        0.000726   \n",
       "20       0.054212      0.013011         0.007201        0.000219   \n",
       "21       0.020571      0.000498         0.006879        0.000118   \n",
       "23       0.020428      0.000748         0.006747        0.000096   \n",
       "\n",
       "   param_logisticregression__C param_logisticregression__max_iter  \\\n",
       "1                          0.1                                100   \n",
       "3                          0.1                               1000   \n",
       "5                          0.1                              10000   \n",
       "0                          0.1                                100   \n",
       "2                          0.1                               1000   \n",
       "4                          0.1                              10000   \n",
       "6                            1                                100   \n",
       "10                           1                              10000   \n",
       "8                            1                               1000   \n",
       "11                           1                              10000   \n",
       "7                            1                                100   \n",
       "9                            1                               1000   \n",
       "12                          10                                100   \n",
       "14                          10                               1000   \n",
       "16                          10                              10000   \n",
       "22                         100                              10000   \n",
       "13                          10                                100   \n",
       "15                          10                               1000   \n",
       "17                          10                              10000   \n",
       "18                         100                                100   \n",
       "19                         100                                100   \n",
       "20                         100                               1000   \n",
       "21                         100                               1000   \n",
       "23                         100                              10000   \n",
       "\n",
       "   param_logisticregression__solver  \\\n",
       "1                         liblinear   \n",
       "3                         liblinear   \n",
       "5                         liblinear   \n",
       "0                             lbfgs   \n",
       "2                             lbfgs   \n",
       "4                             lbfgs   \n",
       "6                             lbfgs   \n",
       "10                            lbfgs   \n",
       "8                             lbfgs   \n",
       "11                        liblinear   \n",
       "7                         liblinear   \n",
       "9                         liblinear   \n",
       "12                            lbfgs   \n",
       "14                            lbfgs   \n",
       "16                            lbfgs   \n",
       "22                            lbfgs   \n",
       "13                        liblinear   \n",
       "15                        liblinear   \n",
       "17                        liblinear   \n",
       "18                            lbfgs   \n",
       "19                        liblinear   \n",
       "20                            lbfgs   \n",
       "21                        liblinear   \n",
       "23                        liblinear   \n",
       "\n",
       "                                               params  split0_test_score  \\\n",
       "1   {'logisticregression__C': 0.1, 'logisticregres...             0.8400   \n",
       "3   {'logisticregression__C': 0.1, 'logisticregres...             0.8400   \n",
       "5   {'logisticregression__C': 0.1, 'logisticregres...             0.8400   \n",
       "0   {'logisticregression__C': 0.1, 'logisticregres...             0.8375   \n",
       "2   {'logisticregression__C': 0.1, 'logisticregres...             0.8375   \n",
       "4   {'logisticregression__C': 0.1, 'logisticregres...             0.8375   \n",
       "6   {'logisticregression__C': 1, 'logisticregressi...             0.8300   \n",
       "10  {'logisticregression__C': 1, 'logisticregressi...             0.8300   \n",
       "8   {'logisticregression__C': 1, 'logisticregressi...             0.8300   \n",
       "11  {'logisticregression__C': 1, 'logisticregressi...             0.8300   \n",
       "7   {'logisticregression__C': 1, 'logisticregressi...             0.8300   \n",
       "9   {'logisticregression__C': 1, 'logisticregressi...             0.8300   \n",
       "12  {'logisticregression__C': 10, 'logisticregress...             0.8300   \n",
       "14  {'logisticregression__C': 10, 'logisticregress...             0.8300   \n",
       "16  {'logisticregression__C': 10, 'logisticregress...             0.8300   \n",
       "22  {'logisticregression__C': 100, 'logisticregres...             0.8300   \n",
       "13  {'logisticregression__C': 10, 'logisticregress...             0.8300   \n",
       "15  {'logisticregression__C': 10, 'logisticregress...             0.8300   \n",
       "17  {'logisticregression__C': 10, 'logisticregress...             0.8300   \n",
       "18  {'logisticregression__C': 100, 'logisticregres...             0.8300   \n",
       "19  {'logisticregression__C': 100, 'logisticregres...             0.8300   \n",
       "20  {'logisticregression__C': 100, 'logisticregres...             0.8300   \n",
       "21  {'logisticregression__C': 100, 'logisticregres...             0.8300   \n",
       "23  {'logisticregression__C': 100, 'logisticregres...             0.8300   \n",
       "\n",
       "    split1_test_score  split2_test_score  split3_test_score  \\\n",
       "1              0.8625             0.8775             0.8625   \n",
       "3              0.8625             0.8775             0.8625   \n",
       "5              0.8625             0.8775             0.8625   \n",
       "0              0.8625             0.8775             0.8625   \n",
       "2              0.8625             0.8775             0.8625   \n",
       "4              0.8625             0.8775             0.8625   \n",
       "6              0.8525             0.8825             0.8750   \n",
       "10             0.8525             0.8825             0.8750   \n",
       "8              0.8525             0.8825             0.8750   \n",
       "11             0.8500             0.8800             0.8750   \n",
       "7              0.8500             0.8800             0.8750   \n",
       "9              0.8500             0.8800             0.8750   \n",
       "12             0.8500             0.8800             0.8725   \n",
       "14             0.8500             0.8800             0.8725   \n",
       "16             0.8500             0.8800             0.8725   \n",
       "22             0.8500             0.8800             0.8700   \n",
       "13             0.8500             0.8800             0.8725   \n",
       "15             0.8500             0.8800             0.8725   \n",
       "17             0.8500             0.8800             0.8725   \n",
       "18             0.8500             0.8800             0.8700   \n",
       "19             0.8500             0.8800             0.8700   \n",
       "20             0.8500             0.8800             0.8700   \n",
       "21             0.8500             0.8800             0.8700   \n",
       "23             0.8500             0.8800             0.8700   \n",
       "\n",
       "    split4_test_score  mean_test_score  std_test_score  rank_test_score  \n",
       "1            0.859649         0.860430        0.011986                1  \n",
       "3            0.859649         0.860430        0.011986                1  \n",
       "5            0.859649         0.860430        0.011986                1  \n",
       "0            0.859649         0.859930        0.012849                4  \n",
       "2            0.859649         0.859930        0.012849                4  \n",
       "4            0.859649         0.859930        0.012849                4  \n",
       "6            0.854637         0.858929        0.018500                7  \n",
       "10           0.854637         0.858929        0.018500                7  \n",
       "8            0.854637         0.858929        0.018500                7  \n",
       "11           0.854637         0.857929        0.018072               10  \n",
       "7            0.854637         0.857929        0.018072               10  \n",
       "9            0.854637         0.857929        0.018072               10  \n",
       "12           0.852130         0.856928        0.017729               13  \n",
       "14           0.852130         0.856928        0.017729               13  \n",
       "16           0.852130         0.856928        0.017729               13  \n",
       "22           0.852130         0.856428        0.017313               16  \n",
       "13           0.849624         0.856428        0.017892               16  \n",
       "15           0.849624         0.856428        0.017892               16  \n",
       "17           0.849624         0.856428        0.017892               16  \n",
       "18           0.852130         0.856428        0.017313               16  \n",
       "19           0.852130         0.856428        0.017313               16  \n",
       "20           0.852130         0.856428        0.017313               16  \n",
       "21           0.852130         0.856428        0.017313               16  \n",
       "23           0.852130         0.856428        0.017313               16  "
      ]
     },
     "execution_count": 63,
     "metadata": {},
     "output_type": "execute_result"
    }
   ],
   "source": [
    "pd.DataFrame(grid.cv_results_).sort_values('rank_test_score')"
   ]
  },
  {
   "cell_type": "code",
   "execution_count": 64,
   "metadata": {},
   "outputs": [
    {
     "data": {
      "text/plain": [
       "0.8604302151075538"
      ]
     },
     "execution_count": 64,
     "metadata": {},
     "output_type": "execute_result"
    }
   ],
   "source": [
    "grid.best_score_"
   ]
  },
  {
   "cell_type": "code",
   "execution_count": 65,
   "metadata": {},
   "outputs": [
    {
     "data": {
      "text/plain": [
       "{'logisticregression__C': 0.1,\n",
       " 'logisticregression__max_iter': 100,\n",
       " 'logisticregression__solver': 'liblinear'}"
      ]
     },
     "execution_count": 65,
     "metadata": {},
     "output_type": "execute_result"
    }
   ],
   "source": [
    "grid.best_params_"
   ]
  },
  {
   "cell_type": "code",
   "execution_count": 69,
   "metadata": {},
   "outputs": [
    {
     "data": {
      "text/plain": [
       "array([[0.80671446, 0.19328554],\n",
       "       [0.87764081, 0.12235919],\n",
       "       [0.96287823, 0.03712177],\n",
       "       ...,\n",
       "       [0.97746058, 0.02253942],\n",
       "       [0.96456731, 0.03543269],\n",
       "       [0.97976972, 0.02023028]])"
      ]
     },
     "execution_count": 69,
     "metadata": {},
     "output_type": "execute_result"
    }
   ],
   "source": [
    "y_pred_proba = pipe.predict_proba(X_test)\n",
    "y_pred_proba"
   ]
  },
  {
   "cell_type": "code",
   "execution_count": 96,
   "metadata": {},
   "outputs": [
    {
     "name": "stdout",
     "output_type": "stream",
     "text": [
      "Precision = 61.11%\n",
      "Recall    = 23.91%\n"
     ]
    }
   ],
   "source": [
    "print('Precision = {0:.2f}%'.format(precision_score(y_test, y_pred)*100))\n",
    "print('Recall    = {0:.2f}%'.format(recall_score(y_test, y_pred)*100))"
   ]
  },
  {
   "cell_type": "code",
   "execution_count": 81,
   "metadata": {},
   "outputs": [
    {
     "name": "stdout",
     "output_type": "stream",
     "text": [
      "              precision    recall  f1-score   support\n",
      "\n",
      "           0       0.89      0.98      0.93       575\n",
      "           1       0.61      0.24      0.34        92\n",
      "\n",
      "    accuracy                           0.87       667\n",
      "   macro avg       0.75      0.61      0.64       667\n",
      "weighted avg       0.85      0.87      0.85       667\n",
      "\n"
     ]
    }
   ],
   "source": [
    "print(classification_report(y_test, y_pred))"
   ]
  },
  {
   "cell_type": "code",
   "execution_count": 74,
   "metadata": {},
   "outputs": [
    {
     "data": {
      "text/html": [
       "<div>\n",
       "<style scoped>\n",
       "    .dataframe tbody tr th:only-of-type {\n",
       "        vertical-align: middle;\n",
       "    }\n",
       "\n",
       "    .dataframe tbody tr th {\n",
       "        vertical-align: top;\n",
       "    }\n",
       "\n",
       "    .dataframe thead th {\n",
       "        text-align: right;\n",
       "    }\n",
       "</style>\n",
       "<table border=\"1\" class=\"dataframe\">\n",
       "  <thead>\n",
       "    <tr style=\"text-align: right;\">\n",
       "      <th></th>\n",
       "      <th>FPR</th>\n",
       "      <th>TPR</th>\n",
       "      <th>Thresholds</th>\n",
       "    </tr>\n",
       "  </thead>\n",
       "  <tbody>\n",
       "    <tr>\n",
       "      <td>0</td>\n",
       "      <td>0.000000</td>\n",
       "      <td>0.000000</td>\n",
       "      <td>1.796219</td>\n",
       "    </tr>\n",
       "    <tr>\n",
       "      <td>1</td>\n",
       "      <td>0.000000</td>\n",
       "      <td>0.010870</td>\n",
       "      <td>0.796219</td>\n",
       "    </tr>\n",
       "    <tr>\n",
       "      <td>2</td>\n",
       "      <td>0.000000</td>\n",
       "      <td>0.043478</td>\n",
       "      <td>0.745979</td>\n",
       "    </tr>\n",
       "    <tr>\n",
       "      <td>3</td>\n",
       "      <td>0.001739</td>\n",
       "      <td>0.043478</td>\n",
       "      <td>0.725871</td>\n",
       "    </tr>\n",
       "    <tr>\n",
       "      <td>4</td>\n",
       "      <td>0.001739</td>\n",
       "      <td>0.054348</td>\n",
       "      <td>0.725113</td>\n",
       "    </tr>\n",
       "    <tr>\n",
       "      <td>...</td>\n",
       "      <td>...</td>\n",
       "      <td>...</td>\n",
       "      <td>...</td>\n",
       "    </tr>\n",
       "    <tr>\n",
       "      <td>139</td>\n",
       "      <td>0.916522</td>\n",
       "      <td>0.978261</td>\n",
       "      <td>0.012201</td>\n",
       "    </tr>\n",
       "    <tr>\n",
       "      <td>140</td>\n",
       "      <td>0.916522</td>\n",
       "      <td>0.989130</td>\n",
       "      <td>0.011941</td>\n",
       "    </tr>\n",
       "    <tr>\n",
       "      <td>141</td>\n",
       "      <td>0.947826</td>\n",
       "      <td>0.989130</td>\n",
       "      <td>0.008779</td>\n",
       "    </tr>\n",
       "    <tr>\n",
       "      <td>142</td>\n",
       "      <td>0.947826</td>\n",
       "      <td>1.000000</td>\n",
       "      <td>0.008719</td>\n",
       "    </tr>\n",
       "    <tr>\n",
       "      <td>143</td>\n",
       "      <td>1.000000</td>\n",
       "      <td>1.000000</td>\n",
       "      <td>0.002452</td>\n",
       "    </tr>\n",
       "  </tbody>\n",
       "</table>\n",
       "<p>144 rows × 3 columns</p>\n",
       "</div>"
      ],
      "text/plain": [
       "          FPR       TPR  Thresholds\n",
       "0    0.000000  0.000000    1.796219\n",
       "1    0.000000  0.010870    0.796219\n",
       "2    0.000000  0.043478    0.745979\n",
       "3    0.001739  0.043478    0.725871\n",
       "4    0.001739  0.054348    0.725113\n",
       "..        ...       ...         ...\n",
       "139  0.916522  0.978261    0.012201\n",
       "140  0.916522  0.989130    0.011941\n",
       "141  0.947826  0.989130    0.008779\n",
       "142  0.947826  1.000000    0.008719\n",
       "143  1.000000  1.000000    0.002452\n",
       "\n",
       "[144 rows x 3 columns]"
      ]
     },
     "execution_count": 74,
     "metadata": {},
     "output_type": "execute_result"
    }
   ],
   "source": [
    "fpr, tpr, thresholds = roc_curve(y_test, y_pred_proba[:,1])\n",
    "\n",
    "roc_df = pd.DataFrame({'FPR': fpr, 'TPR':tpr, 'Thresholds':thresholds})\n",
    "roc_df"
   ]
  },
  {
   "cell_type": "code",
   "execution_count": 106,
   "metadata": {},
   "outputs": [
    {
     "data": {
      "image/png": "[encoded data removed]",
      "text/plain": [
       "<Figure size 432x288 with 1 Axes>"
      ]
     },
     "metadata": {
      "needs_background": "light"
     },
     "output_type": "display_data"
    }
   ],
   "source": [
    "# Plotting the ROC curve\n",
    "\n",
    "plt.plot(fpr, tpr, label='ROC Curve')\n",
    "\n",
    "plt.ylabel('True Positive Rate (TPR) / Recall / Sensitivity')\n",
    "plt.xlabel('False Positive Rate (FPR) or (1-Specificity)')\n",
    "plt.title('ROC Curve of Logistic model', size=14)\n",
    "\n",
    "# plot diagonal that illustrates model that randomly guesses\n",
    "plt.plot([0,1],[0,1], linestyle='--', color='orange', label='Random guesses')\n",
    "\n",
    "plt.legend(loc='lower right')\n",
    "plt.show()"
   ]
  },
  {
   "cell_type": "code",
   "execution_count": 78,
   "metadata": {},
   "outputs": [
    {
     "data": {
      "text/plain": [
       "0.782570888468809"
      ]
     },
     "execution_count": 78,
     "metadata": {},
     "output_type": "execute_result"
    }
   ],
   "source": [
    "roc_auc_score(y_test, y_pred_proba[:,1])"
   ]
  },
  {
   "cell_type": "code",
   "execution_count": null,
   "metadata": {},
   "outputs": [],
   "source": []
  },
  {
   "cell_type": "code",
   "execution_count": null,
   "metadata": {},
   "outputs": [],
   "source": []
  },
  {
   "cell_type": "code",
   "execution_count": null,
   "metadata": {},
   "outputs": [],
   "source": []
  },
  {
   "cell_type": "markdown",
   "metadata": {},
   "source": [
    "---"
   ]
  },
  {
   "cell_type": "code",
   "execution_count": 67,
   "metadata": {},
   "outputs": [],
   "source": [
    "# See variable selection from Datacamp logistic regression\n",
    "\n",
    "\n",
    "\n",
    "\n",
    "\n",
    "\n"
   ]
  },
  {
   "cell_type": "markdown",
   "metadata": {},
   "source": [
    "# Rough"
   ]
  },
  {
   "cell_type": "code",
   "execution_count": 85,
   "metadata": {},
   "outputs": [
    {
     "data": {
      "text/plain": [
       "no     2850\n",
       "yes     483\n",
       "Name: Churn, dtype: int64"
      ]
     },
     "execution_count": 85,
     "metadata": {},
     "output_type": "execute_result"
    }
   ],
   "source": [
    "churn_data['Churn'].value_counts()"
   ]
  },
  {
   "cell_type": "code",
   "execution_count": null,
   "metadata": {},
   "outputs": [],
   "source": []
  }
 ],
 "metadata": {
  "kernelspec": {
   "display_name": "Python 3",
   "language": "python",
   "name": "python3"
  },
  "language_info": {
   "codemirror_mode": {
    "name": "ipython",
    "version": 3
   },
   "file_extension": ".py",
   "mimetype": "text/x-python",
   "name": "python",
   "nbconvert_exporter": "python",
   "pygments_lexer": "ipython3",
   "version": "3.7.4"
  }
 },
 "nbformat": 4,
 "nbformat_minor": 2
}
