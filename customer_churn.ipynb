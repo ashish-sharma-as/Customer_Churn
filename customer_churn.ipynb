{
 "cells": [
  {
   "cell_type": "markdown",
   "metadata": {},
   "source": [
    "# Customer Churn"
   ]
  },
  {
   "cell_type": "markdown",
   "metadata": {},
   "source": [
    "---"
   ]
  },
  {
   "cell_type": "markdown",
   "metadata": {},
   "source": [
    "## Contents\n",
    "\n",
    "- <a href=\"#import\">Import Libraries</a><br>\n",
    "- <a href=\"#data\">Import Data</a><br>\n",
    "- <a href=\"#3\">Creating 3-way Holdout data sets</a><br>\n",
    "- <a href=\"#eda\">Exploratory Data Analysis</a><br>\n",
    "- <a href=\"#prep\">Data Preprocessing</a><br>\n",
    "- <a href=\"#sel\">Feature Selection</a><br>\n",
    "- <a href=\"#engg\">Feature Engineering</a><br>"
   ]
  },
  {
   "cell_type": "markdown",
   "metadata": {},
   "source": [
    "---"
   ]
  },
  {
   "cell_type": "markdown",
   "metadata": {},
   "source": [
    "<p><a name=\"import\"></a></p>\n",
    " \n",
    "### Import Modules"
   ]
  },
  {
   "cell_type": "code",
   "execution_count": 1,
   "metadata": {},
   "outputs": [],
   "source": [
    "# Standard Modules\n",
    "import numpy as np\n",
    "import pandas as pd\n",
    "import matplotlib.pyplot as plt\n",
    "%matplotlib inline\n",
    "import seaborn as sns\n",
    "\n",
    "# Model Selection\n",
    "from sklearn.model_selection import train_test_split\n",
    "\n",
    "# Preprocessing\n",
    "from sklearn.preprocessing import StandardScaler\n",
    "from sklearn.preprocessing import OrdinalEncoder\n",
    "from sklearn.preprocessing import LabelEncoder\n",
    "from sklearn.preprocessing import OneHotEncoder\n",
    "from sklearn.impute import SimpleImputer\n",
    "\n",
    "# Compose\n",
    "from sklearn.compose import make_column_transformer\n",
    "\n",
    "# Classes for inheritance\n",
    "from sklearn.base import BaseEstimator, TransformerMixin\n",
    "\n",
    "# Pipeline\n",
    "from sklearn.pipeline import make_pipeline"
   ]
  },
  {
   "cell_type": "markdown",
   "metadata": {},
   "source": [
    "---"
   ]
  },
  {
   "cell_type": "markdown",
   "metadata": {},
   "source": [
    "<p><a name=\"data\"></a></p>\n",
    "\n",
    "### Import Data"
   ]
  },
  {
   "cell_type": "code",
   "execution_count": 2,
   "metadata": {},
   "outputs": [],
   "source": [
    "# Read csv\n",
    "\n",
    "churn_data = pd.read_csv('./data/churn_data.csv')"
   ]
  },
  {
   "cell_type": "code",
   "execution_count": 3,
   "metadata": {},
   "outputs": [
    {
     "data": {
      "text/plain": [
       "(3333, 21)"
      ]
     },
     "execution_count": 3,
     "metadata": {},
     "output_type": "execute_result"
    }
   ],
   "source": [
    "churn_data.shape"
   ]
  },
  {
   "cell_type": "markdown",
   "metadata": {},
   "source": [
    "---"
   ]
  },
  {
   "cell_type": "markdown",
   "metadata": {},
   "source": [
    "<p><a name=\"3\"></a></p>\n",
    "\n",
    "### Creating a 3-way holdout dataset\n",
    "- Training & Validation data \n",
    "- Test (Unseen) data"
   ]
  },
  {
   "cell_type": "code",
   "execution_count": 4,
   "metadata": {},
   "outputs": [
    {
     "name": "stdout",
     "output_type": "stream",
     "text": [
      "Shape of X and y:\n",
      "\n",
      "(3333, 20) (3333,)\n"
     ]
    }
   ],
   "source": [
    "X_tmp = churn_data.drop(['Churn'], axis=1)\n",
    "y_tmp = churn_data['Churn']\n",
    "\n",
    "print('Shape of X and y:\\n')\n",
    "print(X_tmp.shape, y_tmp.shape)"
   ]
  },
  {
   "cell_type": "code",
   "execution_count": 5,
   "metadata": {},
   "outputs": [],
   "source": [
    "# Split data into training - validation and test (unseen) data\n",
    "\n",
    "X_train_val, X_unseen, y_train_val, y_unseen = train_test_split(X_tmp, y_tmp, test_size=0.2)"
   ]
  },
  {
   "cell_type": "code",
   "execution_count": 6,
   "metadata": {},
   "outputs": [
    {
     "name": "stdout",
     "output_type": "stream",
     "text": [
      "Shape of training & validation data:\n",
      "(2666, 20) (2666,)\n",
      "\n",
      " ----------------------------------------\n",
      "\n",
      "Shape of test(unseen) data:\n",
      "(667, 20) (667,)\n"
     ]
    }
   ],
   "source": [
    "print('Shape of training & validation data:')\n",
    "print(X_train_val.shape, y_train_val.shape)\n",
    "print('\\n','-'*40)\n",
    "print('\\nShape of test(unseen) data:')\n",
    "print(X_unseen.shape, y_unseen.shape)"
   ]
  },
  {
   "cell_type": "code",
   "execution_count": 7,
   "metadata": {},
   "outputs": [],
   "source": [
    "# Making a working copy of the training and validation data\n",
    "\n",
    "df = X_train_val.copy()"
   ]
  },
  {
   "cell_type": "code",
   "execution_count": 8,
   "metadata": {},
   "outputs": [],
   "source": [
    "# Adding churned feature back into dataset to understand properties\n",
    "# of churned v/s non-churned customers\n",
    "\n",
    "df['Churn'] = y_train_val"
   ]
  },
  {
   "cell_type": "markdown",
   "metadata": {},
   "source": [
    "**df = X_train_val + y_train_val**"
   ]
  },
  {
   "cell_type": "code",
   "execution_count": 9,
   "metadata": {},
   "outputs": [
    {
     "data": {
      "text/html": [
       "<div>\n",
       "<style scoped>\n",
       "    .dataframe tbody tr th:only-of-type {\n",
       "        vertical-align: middle;\n",
       "    }\n",
       "\n",
       "    .dataframe tbody tr th {\n",
       "        vertical-align: top;\n",
       "    }\n",
       "\n",
       "    .dataframe thead th {\n",
       "        text-align: right;\n",
       "    }\n",
       "</style>\n",
       "<table border=\"1\" class=\"dataframe\">\n",
       "  <thead>\n",
       "    <tr style=\"text-align: right;\">\n",
       "      <th></th>\n",
       "      <th>Account_Length</th>\n",
       "      <th>Vmail_Message</th>\n",
       "      <th>Day_Mins</th>\n",
       "      <th>Eve_Mins</th>\n",
       "      <th>Night_Mins</th>\n",
       "      <th>Intl_Mins</th>\n",
       "      <th>CustServ_Calls</th>\n",
       "      <th>Intl_Plan</th>\n",
       "      <th>Vmail_Plan</th>\n",
       "      <th>Day_Calls</th>\n",
       "      <th>...</th>\n",
       "      <th>Eve_Calls</th>\n",
       "      <th>Eve_Charge</th>\n",
       "      <th>Night_Calls</th>\n",
       "      <th>Night_Charge</th>\n",
       "      <th>Intl_Calls</th>\n",
       "      <th>Intl_Charge</th>\n",
       "      <th>State</th>\n",
       "      <th>Area_Code</th>\n",
       "      <th>Phone</th>\n",
       "      <th>Churn</th>\n",
       "    </tr>\n",
       "  </thead>\n",
       "  <tbody>\n",
       "    <tr>\n",
       "      <td>1173</td>\n",
       "      <td>109</td>\n",
       "      <td>0</td>\n",
       "      <td>222.2</td>\n",
       "      <td>218.5</td>\n",
       "      <td>266.0</td>\n",
       "      <td>10.9</td>\n",
       "      <td>1</td>\n",
       "      <td>no</td>\n",
       "      <td>no</td>\n",
       "      <td>113</td>\n",
       "      <td>...</td>\n",
       "      <td>122</td>\n",
       "      <td>18.57</td>\n",
       "      <td>88</td>\n",
       "      <td>11.97</td>\n",
       "      <td>5</td>\n",
       "      <td>2.94</td>\n",
       "      <td>VT</td>\n",
       "      <td>408</td>\n",
       "      <td>344-9966</td>\n",
       "      <td>no</td>\n",
       "    </tr>\n",
       "    <tr>\n",
       "      <td>1022</td>\n",
       "      <td>154</td>\n",
       "      <td>0</td>\n",
       "      <td>166.9</td>\n",
       "      <td>154.9</td>\n",
       "      <td>189.4</td>\n",
       "      <td>7.2</td>\n",
       "      <td>0</td>\n",
       "      <td>no</td>\n",
       "      <td>no</td>\n",
       "      <td>99</td>\n",
       "      <td>...</td>\n",
       "      <td>97</td>\n",
       "      <td>13.17</td>\n",
       "      <td>89</td>\n",
       "      <td>8.52</td>\n",
       "      <td>5</td>\n",
       "      <td>1.94</td>\n",
       "      <td>LA</td>\n",
       "      <td>510</td>\n",
       "      <td>388-8670</td>\n",
       "      <td>no</td>\n",
       "    </tr>\n",
       "    <tr>\n",
       "      <td>177</td>\n",
       "      <td>127</td>\n",
       "      <td>0</td>\n",
       "      <td>202.1</td>\n",
       "      <td>229.4</td>\n",
       "      <td>195.2</td>\n",
       "      <td>11.5</td>\n",
       "      <td>2</td>\n",
       "      <td>no</td>\n",
       "      <td>no</td>\n",
       "      <td>103</td>\n",
       "      <td>...</td>\n",
       "      <td>86</td>\n",
       "      <td>19.50</td>\n",
       "      <td>113</td>\n",
       "      <td>8.78</td>\n",
       "      <td>3</td>\n",
       "      <td>3.11</td>\n",
       "      <td>MI</td>\n",
       "      <td>415</td>\n",
       "      <td>401-3170</td>\n",
       "      <td>no</td>\n",
       "    </tr>\n",
       "    <tr>\n",
       "      <td>2229</td>\n",
       "      <td>83</td>\n",
       "      <td>25</td>\n",
       "      <td>191.3</td>\n",
       "      <td>250.7</td>\n",
       "      <td>249.4</td>\n",
       "      <td>17.6</td>\n",
       "      <td>2</td>\n",
       "      <td>no</td>\n",
       "      <td>yes</td>\n",
       "      <td>95</td>\n",
       "      <td>...</td>\n",
       "      <td>136</td>\n",
       "      <td>21.31</td>\n",
       "      <td>86</td>\n",
       "      <td>11.22</td>\n",
       "      <td>5</td>\n",
       "      <td>4.75</td>\n",
       "      <td>OH</td>\n",
       "      <td>415</td>\n",
       "      <td>376-5375</td>\n",
       "      <td>no</td>\n",
       "    </tr>\n",
       "    <tr>\n",
       "      <td>2225</td>\n",
       "      <td>93</td>\n",
       "      <td>0</td>\n",
       "      <td>179.3</td>\n",
       "      <td>188.8</td>\n",
       "      <td>253.2</td>\n",
       "      <td>12.1</td>\n",
       "      <td>1</td>\n",
       "      <td>no</td>\n",
       "      <td>no</td>\n",
       "      <td>93</td>\n",
       "      <td>...</td>\n",
       "      <td>65</td>\n",
       "      <td>16.05</td>\n",
       "      <td>88</td>\n",
       "      <td>11.39</td>\n",
       "      <td>5</td>\n",
       "      <td>3.27</td>\n",
       "      <td>NH</td>\n",
       "      <td>408</td>\n",
       "      <td>411-1045</td>\n",
       "      <td>no</td>\n",
       "    </tr>\n",
       "  </tbody>\n",
       "</table>\n",
       "<p>5 rows × 21 columns</p>\n",
       "</div>"
      ],
      "text/plain": [
       "      Account_Length  Vmail_Message  Day_Mins  Eve_Mins  Night_Mins  \\\n",
       "1173             109              0     222.2     218.5       266.0   \n",
       "1022             154              0     166.9     154.9       189.4   \n",
       "177              127              0     202.1     229.4       195.2   \n",
       "2229              83             25     191.3     250.7       249.4   \n",
       "2225              93              0     179.3     188.8       253.2   \n",
       "\n",
       "      Intl_Mins  CustServ_Calls Intl_Plan Vmail_Plan  Day_Calls  ...  \\\n",
       "1173       10.9               1        no         no        113  ...   \n",
       "1022        7.2               0        no         no         99  ...   \n",
       "177        11.5               2        no         no        103  ...   \n",
       "2229       17.6               2        no        yes         95  ...   \n",
       "2225       12.1               1        no         no         93  ...   \n",
       "\n",
       "      Eve_Calls  Eve_Charge  Night_Calls  Night_Charge  Intl_Calls  \\\n",
       "1173        122       18.57           88         11.97           5   \n",
       "1022         97       13.17           89          8.52           5   \n",
       "177          86       19.50          113          8.78           3   \n",
       "2229        136       21.31           86         11.22           5   \n",
       "2225         65       16.05           88         11.39           5   \n",
       "\n",
       "      Intl_Charge  State Area_Code     Phone Churn  \n",
       "1173         2.94     VT       408  344-9966    no  \n",
       "1022         1.94     LA       510  388-8670    no  \n",
       "177          3.11     MI       415  401-3170    no  \n",
       "2229         4.75     OH       415  376-5375    no  \n",
       "2225         3.27     NH       408  411-1045    no  \n",
       "\n",
       "[5 rows x 21 columns]"
      ]
     },
     "execution_count": 9,
     "metadata": {},
     "output_type": "execute_result"
    }
   ],
   "source": [
    "df.head()"
   ]
  },
  {
   "cell_type": "markdown",
   "metadata": {},
   "source": [
    "---"
   ]
  },
  {
   "cell_type": "markdown",
   "metadata": {},
   "source": [
    "<p><a name=\"eda\"></a></p>\n",
    "\n",
    "### Exploratory Analysis"
   ]
  },
  {
   "cell_type": "code",
   "execution_count": 10,
   "metadata": {},
   "outputs": [
    {
     "name": "stdout",
     "output_type": "stream",
     "text": [
      "<class 'pandas.core.frame.DataFrame'>\n",
      "Int64Index: 2666 entries, 1173 to 2881\n",
      "Data columns (total 21 columns):\n",
      "Account_Length    2666 non-null int64\n",
      "Vmail_Message     2666 non-null int64\n",
      "Day_Mins          2666 non-null float64\n",
      "Eve_Mins          2666 non-null float64\n",
      "Night_Mins        2666 non-null float64\n",
      "Intl_Mins         2666 non-null float64\n",
      "CustServ_Calls    2666 non-null int64\n",
      "Intl_Plan         2666 non-null object\n",
      "Vmail_Plan        2666 non-null object\n",
      "Day_Calls         2666 non-null int64\n",
      "Day_Charge        2666 non-null float64\n",
      "Eve_Calls         2666 non-null int64\n",
      "Eve_Charge        2666 non-null float64\n",
      "Night_Calls       2666 non-null int64\n",
      "Night_Charge      2666 non-null float64\n",
      "Intl_Calls        2666 non-null int64\n",
      "Intl_Charge       2666 non-null float64\n",
      "State             2666 non-null object\n",
      "Area_Code         2666 non-null int64\n",
      "Phone             2666 non-null object\n",
      "Churn             2666 non-null object\n",
      "dtypes: float64(8), int64(8), object(5)\n",
      "memory usage: 458.2+ KB\n"
     ]
    }
   ],
   "source": [
    "df.info()"
   ]
  },
  {
   "cell_type": "code",
   "execution_count": 11,
   "metadata": {},
   "outputs": [],
   "source": [
    "sns.set()"
   ]
  },
  {
   "cell_type": "code",
   "execution_count": 12,
   "metadata": {},
   "outputs": [
    {
     "data": {
      "image/png": "[encoded data removed]",
      "text/plain": [
       "<Figure size 432x288 with 1 Axes>"
      ]
     },
     "metadata": {},
     "output_type": "display_data"
    }
   ],
   "source": [
    "# Customer Churn as a % \n",
    "\n",
    "df['Churn'].value_counts().plot(kind='pie'\n",
    "                                ,colors=['lightgrey','red']\n",
    "                                ,wedgeprops={'edgecolor': 'black'}\n",
    "                                ,explode=[0,0.1]\n",
    "                                ,autopct='%1.1f%%'\n",
    "                                ,startangle=90)\n",
    "plt.title('Customer Churn % (Training-Validation Set)', size=15, fontweight='bold')\n",
    "plt.show()"
   ]
  },
  {
   "cell_type": "code",
   "execution_count": 13,
   "metadata": {},
   "outputs": [
    {
     "data": {
      "image/png": "[encoded data removed]",
      "text/plain": [
       "<Figure size 432x288 with 1 Axes>"
      ]
     },
     "metadata": {},
     "output_type": "display_data"
    }
   ],
   "source": [
    "# Number of churned customers\n",
    "\n",
    "color = ['green', 'red']\n",
    "\n",
    "df['Churn'].value_counts().plot(kind='bar', alpha=0.6, color=color, edgecolor='black')\n",
    "\n",
    "plt.title('Churned v/s non-churned customer count \\n (Training & Validation Set)', size=15, fontweight='bold')\n",
    "plt.ylabel('Customer Count')\n",
    "plt.xlabel('Churn Indicator')\n",
    "\n",
    "plt.margins(0.3)\n",
    "\n",
    "for x,y in enumerate(df['Churn'].value_counts()):\n",
    "\n",
    "    label = \"{:.0f}\".format(y)\n",
    "\n",
    "    plt.annotate(label\n",
    "                 ,(x,y)\n",
    "                 ,textcoords=\"offset points\"\n",
    "                 ,xytext=(0,10)\n",
    "                 ,ha='center'\n",
    "                ) \n",
    "plt.show()"
   ]
  },
  {
   "cell_type": "code",
   "execution_count": 14,
   "metadata": {},
   "outputs": [
    {
     "data": {
      "text/html": [
       "<div>\n",
       "<style scoped>\n",
       "    .dataframe tbody tr th:only-of-type {\n",
       "        vertical-align: middle;\n",
       "    }\n",
       "\n",
       "    .dataframe tbody tr th {\n",
       "        vertical-align: top;\n",
       "    }\n",
       "\n",
       "    .dataframe thead th {\n",
       "        text-align: right;\n",
       "    }\n",
       "</style>\n",
       "<table border=\"1\" class=\"dataframe\">\n",
       "  <thead>\n",
       "    <tr style=\"text-align: right;\">\n",
       "      <th></th>\n",
       "      <th>CustServ_Calls</th>\n",
       "      <th>Vmail_Message</th>\n",
       "    </tr>\n",
       "    <tr>\n",
       "      <th>Churn</th>\n",
       "      <th></th>\n",
       "      <th></th>\n",
       "    </tr>\n",
       "  </thead>\n",
       "  <tbody>\n",
       "    <tr>\n",
       "      <td>no</td>\n",
       "      <td>1.473707</td>\n",
       "      <td>8.279579</td>\n",
       "    </tr>\n",
       "    <tr>\n",
       "      <td>yes</td>\n",
       "      <td>2.184896</td>\n",
       "      <td>5.226562</td>\n",
       "    </tr>\n",
       "  </tbody>\n",
       "</table>\n",
       "</div>"
      ],
      "text/plain": [
       "       CustServ_Calls  Vmail_Message\n",
       "Churn                               \n",
       "no           1.473707       8.279579\n",
       "yes          2.184896       5.226562"
      ]
     },
     "execution_count": 14,
     "metadata": {},
     "output_type": "execute_result"
    }
   ],
   "source": [
    "df.groupby('Churn')[['CustServ_Calls', 'Vmail_Message']].mean()"
   ]
  },
  {
   "cell_type": "code",
   "execution_count": 15,
   "metadata": {},
   "outputs": [
    {
     "data": {
      "text/plain": [
       "<matplotlib.axes._subplots.AxesSubplot at 0x7fc1658b8690>"
      ]
     },
     "execution_count": 15,
     "metadata": {},
     "output_type": "execute_result"
    },
    {
     "data": {
      "image/png": "[encoded data removed]",
      "text/plain": [
       "<Figure size 432x288 with 1 Axes>"
      ]
     },
     "metadata": {},
     "output_type": "display_data"
    }
   ],
   "source": [
    "# Analyzing churned v/s non-churned customer differences\n",
    "\n",
    "df.groupby('Churn')[['CustServ_Calls', 'Vmail_Message']].mean().plot(kind='bar')"
   ]
  },
  {
   "cell_type": "code",
   "execution_count": 16,
   "metadata": {},
   "outputs": [
    {
     "data": {
      "text/html": [
       "<div>\n",
       "<style scoped>\n",
       "    .dataframe tbody tr th:only-of-type {\n",
       "        vertical-align: middle;\n",
       "    }\n",
       "\n",
       "    .dataframe tbody tr th {\n",
       "        vertical-align: top;\n",
       "    }\n",
       "\n",
       "    .dataframe thead th {\n",
       "        text-align: right;\n",
       "    }\n",
       "</style>\n",
       "<table border=\"1\" class=\"dataframe\">\n",
       "  <thead>\n",
       "    <tr style=\"text-align: right;\">\n",
       "      <th></th>\n",
       "      <th>CustServ_Calls</th>\n",
       "      <th>Vmail_Message</th>\n",
       "    </tr>\n",
       "    <tr>\n",
       "      <th>Churn</th>\n",
       "      <th></th>\n",
       "      <th></th>\n",
       "    </tr>\n",
       "  </thead>\n",
       "  <tbody>\n",
       "    <tr>\n",
       "      <td>no</td>\n",
       "      <td>1.165205</td>\n",
       "      <td>13.604800</td>\n",
       "    </tr>\n",
       "    <tr>\n",
       "      <td>yes</td>\n",
       "      <td>1.881525</td>\n",
       "      <td>11.966805</td>\n",
       "    </tr>\n",
       "  </tbody>\n",
       "</table>\n",
       "</div>"
      ],
      "text/plain": [
       "       CustServ_Calls  Vmail_Message\n",
       "Churn                               \n",
       "no           1.165205      13.604800\n",
       "yes          1.881525      11.966805"
      ]
     },
     "execution_count": 16,
     "metadata": {},
     "output_type": "execute_result"
    }
   ],
   "source": [
    "df.groupby('Churn')[['CustServ_Calls', 'Vmail_Message']].std()"
   ]
  },
  {
   "cell_type": "code",
   "execution_count": 17,
   "metadata": {},
   "outputs": [],
   "source": [
    "# TO DO - make it mardown \n",
    "\n",
    "\n",
    "\n",
    "\n",
    "# Insights\n",
    "    # It can be seen above that Churners place more customer \n",
    "    # service calls than non-churners, and leave fewer voice\n",
    "    # mail messages."
   ]
  },
  {
   "cell_type": "code",
   "execution_count": 18,
   "metadata": {},
   "outputs": [
    {
     "data": {
      "text/plain": [
       "State  Churn\n",
       "AL     no       55\n",
       "       yes       4\n",
       "CA     no       18\n",
       "       yes       5\n",
       "CO     no       42\n",
       "       yes       9\n",
       "Name: Churn, dtype: int64"
      ]
     },
     "execution_count": 18,
     "metadata": {},
     "output_type": "execute_result"
    }
   ],
   "source": [
    "# Veiwing churners and non-churners by state\n",
    "\n",
    "df.groupby('State')['Churn'].value_counts()[['AL','CA','CO']]"
   ]
  },
  {
   "cell_type": "code",
   "execution_count": 19,
   "metadata": {},
   "outputs": [
    {
     "data": {
      "text/plain": [
       "<matplotlib.axes._subplots.AxesSubplot at 0x7fc165c5d110>"
      ]
     },
     "execution_count": 19,
     "metadata": {},
     "output_type": "execute_result"
    },
    {
     "data": {
      "image/png": "[encoded data removed]",
      "text/plain": [
       "<Figure size 432x288 with 1 Axes>"
      ]
     },
     "metadata": {},
     "output_type": "display_data"
    }
   ],
   "source": [
    "# TO DO - multiple bar to see churn and non-churn across different states\n",
    "\n",
    "\n",
    "\n",
    "\n",
    "\n",
    "df.groupby('State')['Churn'].value_counts().plot(kind='bar')"
   ]
  },
  {
   "cell_type": "code",
   "execution_count": 20,
   "metadata": {},
   "outputs": [
    {
     "data": {
      "image/png": "[encoded data removed]",
      "text/plain": [
       "<Figure size 432x288 with 1 Axes>"
      ]
     },
     "metadata": {},
     "output_type": "display_data"
    }
   ],
   "source": [
    "# Distribution of \"Account_Length\" feature\n",
    "\n",
    "# plt.hist(df['Account_Length'], bins=25)\n",
    "sns.distplot(df['Account_Length'])\n",
    "plt.show()"
   ]
  },
  {
   "cell_type": "code",
   "execution_count": 21,
   "metadata": {},
   "outputs": [],
   "source": [
    "# Insights\n",
    "    # Illustrates the duration that a customer stays with the provider\n",
    "    # is normally distribution (as what to expect in the real world)"
   ]
  },
  {
   "cell_type": "code",
   "execution_count": 22,
   "metadata": {},
   "outputs": [
    {
     "data": {
      "image/png": "[encoded data removed]",
      "text/plain": [
       "<Figure size 432x288 with 1 Axes>"
      ]
     },
     "metadata": {},
     "output_type": "display_data"
    }
   ],
   "source": [
    "# Examining differences between churners and non-churners\n",
    "# w.r.t their account lengths\n",
    "\n",
    "sns.boxplot(x='Churn', \n",
    "            y='Account_Length', \n",
    "            data=df)\n",
    "\n",
    "plt.title('Differences in Account Lengths', size=13)\n",
    "plt.show()"
   ]
  },
  {
   "cell_type": "code",
   "execution_count": 23,
   "metadata": {},
   "outputs": [],
   "source": [
    "# There are no notable differences in account lengths for\n",
    "# churners v/s non-churners"
   ]
  },
  {
   "cell_type": "code",
   "execution_count": 24,
   "metadata": {},
   "outputs": [
    {
     "data": {
      "image/png": "[encoded data removed]",
      "text/plain": [
       "<Figure size 432x288 with 1 Axes>"
      ]
     },
     "metadata": {},
     "output_type": "display_data"
    }
   ],
   "source": [
    "# Checking if having an international plan matters\n",
    "\n",
    "sns.boxplot(x='Churn', \n",
    "            y='Account_Length', \n",
    "            data=df,\n",
    "            hue='Intl_Plan')\n",
    "\n",
    "plt.title('Differences in Account Lengths', size=13)\n",
    "plt.show()"
   ]
  },
  {
   "cell_type": "code",
   "execution_count": 25,
   "metadata": {},
   "outputs": [],
   "source": [
    "# Insights\n",
    "    # No noticeable difference amoung customers with or\n",
    "    # without an international plan"
   ]
  },
  {
   "cell_type": "code",
   "execution_count": 26,
   "metadata": {},
   "outputs": [
    {
     "data": {
      "image/png": "[encoded data removed]",
      "text/plain": [
       "<Figure size 1080x720 with 6 Axes>"
      ]
     },
     "metadata": {},
     "output_type": "display_data"
    }
   ],
   "source": [
    "# Checking distribution of select features\n",
    "\n",
    "df[['Account_Length', 'Day_Mins', 'Eve_Mins', 'Night_Mins', 'Intl_Mins']].hist(bins=25, figsize=(15,10))\n",
    "plt.show()"
   ]
  },
  {
   "cell_type": "code",
   "execution_count": 27,
   "metadata": {},
   "outputs": [
    {
     "data": {
      "image/png": "[encoded data removed]",
      "text/plain": [
       "<Figure size 432x288 with 1 Axes>"
      ]
     },
     "metadata": {},
     "output_type": "display_data"
    }
   ],
   "source": [
    "# Churn difference based on Customer Service Calls placed\n",
    "\n",
    "sns.boxplot(x = 'Churn',\n",
    "            y = 'CustServ_Calls',\n",
    "            data = df)\n",
    "\n",
    "plt.title('Churners v/s Non-Churners based on Customer Services Calls')\n",
    "plt.show()"
   ]
  },
  {
   "cell_type": "code",
   "execution_count": 28,
   "metadata": {},
   "outputs": [
    {
     "data": {
      "image/png": "[encoded data removed]",
      "text/plain": [
       "<Figure size 432x288 with 1 Axes>"
      ]
     },
     "metadata": {},
     "output_type": "display_data"
    },
    {
     "data": {
      "image/png": "[encoded data removed]",
      "text/plain": [
       "<Figure size 432x288 with 1 Axes>"
      ]
     },
     "metadata": {},
     "output_type": "display_data"
    }
   ],
   "source": [
    "features = ['Account_Length', 'CustServ_Calls'] \n",
    "\n",
    "for feature in features:\n",
    "    fig, axs = plt.subplots()\n",
    "    fig = sns.boxplot(x = 'Churn',\n",
    "                      y = feature,\n",
    "                      data = df)\n",
    "    plt.title('Churners v/s Non-Churners based on {}'.format(feature))\n",
    "\n",
    "plt.show()"
   ]
  },
  {
   "cell_type": "code",
   "execution_count": 29,
   "metadata": {},
   "outputs": [
    {
     "data": {
      "image/png": "[encoded data removed]",
      "text/plain": [
       "<Figure size 432x288 with 1 Axes>"
      ]
     },
     "metadata": {},
     "output_type": "display_data"
    }
   ],
   "source": [
    "# Churn difference based on Customer Service Calls placed\n",
    "# and being on an International Plan\n",
    "\n",
    "sns.boxplot(x = 'Churn',\n",
    "            y = 'CustServ_Calls',\n",
    "            data = df,\n",
    "            sym='', # removing outliers from plot\n",
    "            hue='Intl_Plan') \n",
    "\n",
    "plt.title('Churners v/s Non-Churners based on Customer Services Calls & Intl Plan')\n",
    "plt.show()"
   ]
  },
  {
   "cell_type": "code",
   "execution_count": 30,
   "metadata": {},
   "outputs": [],
   "source": [
    "# Insights:\n",
    "    # Customers who leave more customer service calls churn more\n",
    "    # unless they also have an international plan"
   ]
  },
  {
   "cell_type": "code",
   "execution_count": 31,
   "metadata": {},
   "outputs": [
    {
     "data": {
      "image/png": "[encoded data removed]",
      "text/plain": [
       "<Figure size 720x432 with 2 Axes>"
      ]
     },
     "metadata": {},
     "output_type": "display_data"
    }
   ],
   "source": [
    "plt.figure(figsize=(10,6))\n",
    "mask = np.zeros_like(df.corr())\n",
    "mask[np.triu_indices_from(mask)] = 1\n",
    "sns.heatmap(df.corr(), mask= mask, linewidth=0.7, cmap='RdYlGn') \n",
    "plt.show()"
   ]
  },
  {
   "cell_type": "code",
   "execution_count": 32,
   "metadata": {},
   "outputs": [],
   "source": [
    "# Since charges and mins are strongly correlated, we can either remove\n",
    "# one of them, or feature engineer them to create 4 new charges_min\n",
    "# and drop the charges and min columns subsequently."
   ]
  },
  {
   "cell_type": "markdown",
   "metadata": {},
   "source": [
    "---"
   ]
  },
  {
   "cell_type": "markdown",
   "metadata": {},
   "source": [
    "<p><a name=\"prep\"></a></p>\n",
    "\n",
    "## Data Preprocessing\n",
    "\n",
    "- Check missing values\n",
    "- Checking distribution of features\n",
    "- Encoding Categorical variables\n",
    "- Feature Scaling via Standardization\n",
    "- Feature Selection and Engineering"
   ]
  },
  {
   "cell_type": "markdown",
   "metadata": {},
   "source": [
    "### Missing Values"
   ]
  },
  {
   "cell_type": "code",
   "execution_count": 33,
   "metadata": {},
   "outputs": [
    {
     "data": {
      "text/plain": [
       "Series([], dtype: int64)"
      ]
     },
     "execution_count": 33,
     "metadata": {},
     "output_type": "execute_result"
    }
   ],
   "source": [
    "# Missing values check\n",
    "\n",
    "missing = df.isnull().sum()\n",
    "missing[missing > 0]"
   ]
  },
  {
   "cell_type": "code",
   "execution_count": 34,
   "metadata": {},
   "outputs": [
    {
     "data": {
      "text/plain": [
       "Account_Length      int64\n",
       "Vmail_Message       int64\n",
       "Day_Mins          float64\n",
       "Eve_Mins          float64\n",
       "Night_Mins        float64\n",
       "Intl_Mins         float64\n",
       "CustServ_Calls      int64\n",
       "Intl_Plan          object\n",
       "Vmail_Plan         object\n",
       "Day_Calls           int64\n",
       "Day_Charge        float64\n",
       "Eve_Calls           int64\n",
       "Eve_Charge        float64\n",
       "Night_Calls         int64\n",
       "Night_Charge      float64\n",
       "Intl_Calls          int64\n",
       "Intl_Charge       float64\n",
       "State              object\n",
       "Area_Code           int64\n",
       "Phone              object\n",
       "Churn              object\n",
       "dtype: object"
      ]
     },
     "execution_count": 34,
     "metadata": {},
     "output_type": "execute_result"
    }
   ],
   "source": [
    "# Examining data types \n",
    "\n",
    "df.dtypes"
   ]
  },
  {
   "cell_type": "code",
   "execution_count": 35,
   "metadata": {},
   "outputs": [],
   "source": [
    "# Forming list of columns that are numerical and categorical\n",
    "\n",
    "features_num = X_train_val.select_dtypes(include=['int64', 'float64']).columns\n",
    "features_cat = X_train_val.select_dtypes(include=['object']).columns"
   ]
  },
  {
   "cell_type": "code",
   "execution_count": 36,
   "metadata": {},
   "outputs": [
    {
     "name": "stdout",
     "output_type": "stream",
     "text": [
      "Index(['Account_Length', 'Vmail_Message', 'Day_Mins', 'Eve_Mins', 'Night_Mins',\n",
      "       'Intl_Mins', 'CustServ_Calls', 'Day_Calls', 'Day_Charge', 'Eve_Calls',\n",
      "       'Eve_Charge', 'Night_Calls', 'Night_Charge', 'Intl_Calls',\n",
      "       'Intl_Charge', 'Area_Code'],\n",
      "      dtype='object')\n",
      "--------------------------------------------------------------------------------\n",
      "Index(['Intl_Plan', 'Vmail_Plan', 'State', 'Phone'], dtype='object')\n"
     ]
    }
   ],
   "source": [
    "print(features_num)\n",
    "print('-'*80)\n",
    "print(features_cat)"
   ]
  },
  {
   "cell_type": "code",
   "execution_count": 37,
   "metadata": {
    "scrolled": false
   },
   "outputs": [
    {
     "data": {
      "text/html": [
       "<div>\n",
       "<style scoped>\n",
       "    .dataframe tbody tr th:only-of-type {\n",
       "        vertical-align: middle;\n",
       "    }\n",
       "\n",
       "    .dataframe tbody tr th {\n",
       "        vertical-align: top;\n",
       "    }\n",
       "\n",
       "    .dataframe thead th {\n",
       "        text-align: right;\n",
       "    }\n",
       "</style>\n",
       "<table border=\"1\" class=\"dataframe\">\n",
       "  <thead>\n",
       "    <tr style=\"text-align: right;\">\n",
       "      <th></th>\n",
       "      <th>Account_Length</th>\n",
       "      <th>Vmail_Message</th>\n",
       "      <th>Day_Mins</th>\n",
       "      <th>Eve_Mins</th>\n",
       "      <th>Night_Mins</th>\n",
       "      <th>Intl_Mins</th>\n",
       "      <th>CustServ_Calls</th>\n",
       "      <th>Day_Calls</th>\n",
       "      <th>Day_Charge</th>\n",
       "      <th>Eve_Calls</th>\n",
       "      <th>Eve_Charge</th>\n",
       "      <th>Night_Calls</th>\n",
       "      <th>Night_Charge</th>\n",
       "      <th>Intl_Calls</th>\n",
       "      <th>Intl_Charge</th>\n",
       "      <th>Area_Code</th>\n",
       "    </tr>\n",
       "  </thead>\n",
       "  <tbody>\n",
       "    <tr>\n",
       "      <td>1173</td>\n",
       "      <td>109</td>\n",
       "      <td>0</td>\n",
       "      <td>222.2</td>\n",
       "      <td>218.5</td>\n",
       "      <td>266.0</td>\n",
       "      <td>10.9</td>\n",
       "      <td>1</td>\n",
       "      <td>113</td>\n",
       "      <td>37.77</td>\n",
       "      <td>122</td>\n",
       "      <td>18.57</td>\n",
       "      <td>88</td>\n",
       "      <td>11.97</td>\n",
       "      <td>5</td>\n",
       "      <td>2.94</td>\n",
       "      <td>408</td>\n",
       "    </tr>\n",
       "    <tr>\n",
       "      <td>1022</td>\n",
       "      <td>154</td>\n",
       "      <td>0</td>\n",
       "      <td>166.9</td>\n",
       "      <td>154.9</td>\n",
       "      <td>189.4</td>\n",
       "      <td>7.2</td>\n",
       "      <td>0</td>\n",
       "      <td>99</td>\n",
       "      <td>28.37</td>\n",
       "      <td>97</td>\n",
       "      <td>13.17</td>\n",
       "      <td>89</td>\n",
       "      <td>8.52</td>\n",
       "      <td>5</td>\n",
       "      <td>1.94</td>\n",
       "      <td>510</td>\n",
       "    </tr>\n",
       "    <tr>\n",
       "      <td>177</td>\n",
       "      <td>127</td>\n",
       "      <td>0</td>\n",
       "      <td>202.1</td>\n",
       "      <td>229.4</td>\n",
       "      <td>195.2</td>\n",
       "      <td>11.5</td>\n",
       "      <td>2</td>\n",
       "      <td>103</td>\n",
       "      <td>34.36</td>\n",
       "      <td>86</td>\n",
       "      <td>19.50</td>\n",
       "      <td>113</td>\n",
       "      <td>8.78</td>\n",
       "      <td>3</td>\n",
       "      <td>3.11</td>\n",
       "      <td>415</td>\n",
       "    </tr>\n",
       "    <tr>\n",
       "      <td>2229</td>\n",
       "      <td>83</td>\n",
       "      <td>25</td>\n",
       "      <td>191.3</td>\n",
       "      <td>250.7</td>\n",
       "      <td>249.4</td>\n",
       "      <td>17.6</td>\n",
       "      <td>2</td>\n",
       "      <td>95</td>\n",
       "      <td>32.52</td>\n",
       "      <td>136</td>\n",
       "      <td>21.31</td>\n",
       "      <td>86</td>\n",
       "      <td>11.22</td>\n",
       "      <td>5</td>\n",
       "      <td>4.75</td>\n",
       "      <td>415</td>\n",
       "    </tr>\n",
       "    <tr>\n",
       "      <td>2225</td>\n",
       "      <td>93</td>\n",
       "      <td>0</td>\n",
       "      <td>179.3</td>\n",
       "      <td>188.8</td>\n",
       "      <td>253.2</td>\n",
       "      <td>12.1</td>\n",
       "      <td>1</td>\n",
       "      <td>93</td>\n",
       "      <td>30.48</td>\n",
       "      <td>65</td>\n",
       "      <td>16.05</td>\n",
       "      <td>88</td>\n",
       "      <td>11.39</td>\n",
       "      <td>5</td>\n",
       "      <td>3.27</td>\n",
       "      <td>408</td>\n",
       "    </tr>\n",
       "    <tr>\n",
       "      <td>...</td>\n",
       "      <td>...</td>\n",
       "      <td>...</td>\n",
       "      <td>...</td>\n",
       "      <td>...</td>\n",
       "      <td>...</td>\n",
       "      <td>...</td>\n",
       "      <td>...</td>\n",
       "      <td>...</td>\n",
       "      <td>...</td>\n",
       "      <td>...</td>\n",
       "      <td>...</td>\n",
       "      <td>...</td>\n",
       "      <td>...</td>\n",
       "      <td>...</td>\n",
       "      <td>...</td>\n",
       "      <td>...</td>\n",
       "    </tr>\n",
       "    <tr>\n",
       "      <td>2837</td>\n",
       "      <td>75</td>\n",
       "      <td>0</td>\n",
       "      <td>203.3</td>\n",
       "      <td>228.9</td>\n",
       "      <td>222.2</td>\n",
       "      <td>14.3</td>\n",
       "      <td>1</td>\n",
       "      <td>70</td>\n",
       "      <td>34.56</td>\n",
       "      <td>97</td>\n",
       "      <td>19.46</td>\n",
       "      <td>118</td>\n",
       "      <td>10.00</td>\n",
       "      <td>3</td>\n",
       "      <td>3.86</td>\n",
       "      <td>408</td>\n",
       "    </tr>\n",
       "    <tr>\n",
       "      <td>3102</td>\n",
       "      <td>100</td>\n",
       "      <td>32</td>\n",
       "      <td>125.2</td>\n",
       "      <td>230.9</td>\n",
       "      <td>192.0</td>\n",
       "      <td>12.6</td>\n",
       "      <td>3</td>\n",
       "      <td>123</td>\n",
       "      <td>21.28</td>\n",
       "      <td>101</td>\n",
       "      <td>19.63</td>\n",
       "      <td>106</td>\n",
       "      <td>8.64</td>\n",
       "      <td>9</td>\n",
       "      <td>3.40</td>\n",
       "      <td>415</td>\n",
       "    </tr>\n",
       "    <tr>\n",
       "      <td>993</td>\n",
       "      <td>70</td>\n",
       "      <td>0</td>\n",
       "      <td>126.3</td>\n",
       "      <td>141.6</td>\n",
       "      <td>255.9</td>\n",
       "      <td>9.6</td>\n",
       "      <td>0</td>\n",
       "      <td>99</td>\n",
       "      <td>21.47</td>\n",
       "      <td>106</td>\n",
       "      <td>12.04</td>\n",
       "      <td>96</td>\n",
       "      <td>11.52</td>\n",
       "      <td>2</td>\n",
       "      <td>2.59</td>\n",
       "      <td>510</td>\n",
       "    </tr>\n",
       "    <tr>\n",
       "      <td>867</td>\n",
       "      <td>86</td>\n",
       "      <td>0</td>\n",
       "      <td>141.3</td>\n",
       "      <td>154.3</td>\n",
       "      <td>210.6</td>\n",
       "      <td>8.2</td>\n",
       "      <td>1</td>\n",
       "      <td>72</td>\n",
       "      <td>24.02</td>\n",
       "      <td>95</td>\n",
       "      <td>13.12</td>\n",
       "      <td>91</td>\n",
       "      <td>9.48</td>\n",
       "      <td>5</td>\n",
       "      <td>2.21</td>\n",
       "      <td>510</td>\n",
       "    </tr>\n",
       "    <tr>\n",
       "      <td>2881</td>\n",
       "      <td>91</td>\n",
       "      <td>20</td>\n",
       "      <td>146.1</td>\n",
       "      <td>277.4</td>\n",
       "      <td>137.7</td>\n",
       "      <td>6.2</td>\n",
       "      <td>1</td>\n",
       "      <td>98</td>\n",
       "      <td>24.84</td>\n",
       "      <td>104</td>\n",
       "      <td>23.58</td>\n",
       "      <td>100</td>\n",
       "      <td>6.20</td>\n",
       "      <td>3</td>\n",
       "      <td>1.67</td>\n",
       "      <td>415</td>\n",
       "    </tr>\n",
       "  </tbody>\n",
       "</table>\n",
       "<p>2666 rows × 16 columns</p>\n",
       "</div>"
      ],
      "text/plain": [
       "      Account_Length  Vmail_Message  Day_Mins  Eve_Mins  Night_Mins  \\\n",
       "1173             109              0     222.2     218.5       266.0   \n",
       "1022             154              0     166.9     154.9       189.4   \n",
       "177              127              0     202.1     229.4       195.2   \n",
       "2229              83             25     191.3     250.7       249.4   \n",
       "2225              93              0     179.3     188.8       253.2   \n",
       "...              ...            ...       ...       ...         ...   \n",
       "2837              75              0     203.3     228.9       222.2   \n",
       "3102             100             32     125.2     230.9       192.0   \n",
       "993               70              0     126.3     141.6       255.9   \n",
       "867               86              0     141.3     154.3       210.6   \n",
       "2881              91             20     146.1     277.4       137.7   \n",
       "\n",
       "      Intl_Mins  CustServ_Calls  Day_Calls  Day_Charge  Eve_Calls  Eve_Charge  \\\n",
       "1173       10.9               1        113       37.77        122       18.57   \n",
       "1022        7.2               0         99       28.37         97       13.17   \n",
       "177        11.5               2        103       34.36         86       19.50   \n",
       "2229       17.6               2         95       32.52        136       21.31   \n",
       "2225       12.1               1         93       30.48         65       16.05   \n",
       "...         ...             ...        ...         ...        ...         ...   \n",
       "2837       14.3               1         70       34.56         97       19.46   \n",
       "3102       12.6               3        123       21.28        101       19.63   \n",
       "993         9.6               0         99       21.47        106       12.04   \n",
       "867         8.2               1         72       24.02         95       13.12   \n",
       "2881        6.2               1         98       24.84        104       23.58   \n",
       "\n",
       "      Night_Calls  Night_Charge  Intl_Calls  Intl_Charge  Area_Code  \n",
       "1173           88         11.97           5         2.94        408  \n",
       "1022           89          8.52           5         1.94        510  \n",
       "177           113          8.78           3         3.11        415  \n",
       "2229           86         11.22           5         4.75        415  \n",
       "2225           88         11.39           5         3.27        408  \n",
       "...           ...           ...         ...          ...        ...  \n",
       "2837          118         10.00           3         3.86        408  \n",
       "3102          106          8.64           9         3.40        415  \n",
       "993            96         11.52           2         2.59        510  \n",
       "867            91          9.48           5         2.21        510  \n",
       "2881          100          6.20           3         1.67        415  \n",
       "\n",
       "[2666 rows x 16 columns]"
      ]
     },
     "execution_count": 37,
     "metadata": {},
     "output_type": "execute_result"
    }
   ],
   "source": [
    "X_train_val[features_num]"
   ]
  },
  {
   "cell_type": "code",
   "execution_count": 38,
   "metadata": {},
   "outputs": [
    {
     "data": {
      "text/html": [
       "<div>\n",
       "<style scoped>\n",
       "    .dataframe tbody tr th:only-of-type {\n",
       "        vertical-align: middle;\n",
       "    }\n",
       "\n",
       "    .dataframe tbody tr th {\n",
       "        vertical-align: top;\n",
       "    }\n",
       "\n",
       "    .dataframe thead th {\n",
       "        text-align: right;\n",
       "    }\n",
       "</style>\n",
       "<table border=\"1\" class=\"dataframe\">\n",
       "  <thead>\n",
       "    <tr style=\"text-align: right;\">\n",
       "      <th></th>\n",
       "      <th>Intl_Plan</th>\n",
       "      <th>Vmail_Plan</th>\n",
       "      <th>State</th>\n",
       "      <th>Phone</th>\n",
       "    </tr>\n",
       "  </thead>\n",
       "  <tbody>\n",
       "    <tr>\n",
       "      <td>1173</td>\n",
       "      <td>no</td>\n",
       "      <td>no</td>\n",
       "      <td>VT</td>\n",
       "      <td>344-9966</td>\n",
       "    </tr>\n",
       "    <tr>\n",
       "      <td>1022</td>\n",
       "      <td>no</td>\n",
       "      <td>no</td>\n",
       "      <td>LA</td>\n",
       "      <td>388-8670</td>\n",
       "    </tr>\n",
       "    <tr>\n",
       "      <td>177</td>\n",
       "      <td>no</td>\n",
       "      <td>no</td>\n",
       "      <td>MI</td>\n",
       "      <td>401-3170</td>\n",
       "    </tr>\n",
       "    <tr>\n",
       "      <td>2229</td>\n",
       "      <td>no</td>\n",
       "      <td>yes</td>\n",
       "      <td>OH</td>\n",
       "      <td>376-5375</td>\n",
       "    </tr>\n",
       "    <tr>\n",
       "      <td>2225</td>\n",
       "      <td>no</td>\n",
       "      <td>no</td>\n",
       "      <td>NH</td>\n",
       "      <td>411-1045</td>\n",
       "    </tr>\n",
       "    <tr>\n",
       "      <td>...</td>\n",
       "      <td>...</td>\n",
       "      <td>...</td>\n",
       "      <td>...</td>\n",
       "      <td>...</td>\n",
       "    </tr>\n",
       "    <tr>\n",
       "      <td>2837</td>\n",
       "      <td>no</td>\n",
       "      <td>no</td>\n",
       "      <td>NC</td>\n",
       "      <td>406-5003</td>\n",
       "    </tr>\n",
       "    <tr>\n",
       "      <td>3102</td>\n",
       "      <td>no</td>\n",
       "      <td>yes</td>\n",
       "      <td>IN</td>\n",
       "      <td>406-7643</td>\n",
       "    </tr>\n",
       "    <tr>\n",
       "      <td>993</td>\n",
       "      <td>no</td>\n",
       "      <td>no</td>\n",
       "      <td>TN</td>\n",
       "      <td>395-4757</td>\n",
       "    </tr>\n",
       "    <tr>\n",
       "      <td>867</td>\n",
       "      <td>no</td>\n",
       "      <td>no</td>\n",
       "      <td>NV</td>\n",
       "      <td>353-7730</td>\n",
       "    </tr>\n",
       "    <tr>\n",
       "      <td>2881</td>\n",
       "      <td>no</td>\n",
       "      <td>yes</td>\n",
       "      <td>NY</td>\n",
       "      <td>377-9829</td>\n",
       "    </tr>\n",
       "  </tbody>\n",
       "</table>\n",
       "<p>2666 rows × 4 columns</p>\n",
       "</div>"
      ],
      "text/plain": [
       "     Intl_Plan Vmail_Plan State     Phone\n",
       "1173        no         no    VT  344-9966\n",
       "1022        no         no    LA  388-8670\n",
       "177         no         no    MI  401-3170\n",
       "2229        no        yes    OH  376-5375\n",
       "2225        no         no    NH  411-1045\n",
       "...        ...        ...   ...       ...\n",
       "2837        no         no    NC  406-5003\n",
       "3102        no        yes    IN  406-7643\n",
       "993         no         no    TN  395-4757\n",
       "867         no         no    NV  353-7730\n",
       "2881        no        yes    NY  377-9829\n",
       "\n",
       "[2666 rows x 4 columns]"
      ]
     },
     "execution_count": 38,
     "metadata": {},
     "output_type": "execute_result"
    }
   ],
   "source": [
    "X_train_val[features_cat]"
   ]
  },
  {
   "cell_type": "code",
   "execution_count": 39,
   "metadata": {},
   "outputs": [
    {
     "data": {
      "image/png": "[encoded data removed]",
      "text/plain": [
       "<Figure size 432x288 with 1 Axes>"
      ]
     },
     "metadata": {},
     "output_type": "display_data"
    }
   ],
   "source": [
    "# Examining feature: 'Vmail_Message'\n",
    "\n",
    "plt.hist(X_train_val['Vmail_Message'])\n",
    "\n",
    "plt.title('Distribution of \\'Vmail_Message\\'')\n",
    "plt.show()"
   ]
  },
  {
   "cell_type": "markdown",
   "metadata": {},
   "source": [
    "**Insights**\n",
    "- Since this feature has 0 as the most frequent value for most observations, I'll make this a candidate for a binary column (to be done in feature engineering)"
   ]
  },
  {
   "cell_type": "code",
   "execution_count": 40,
   "metadata": {},
   "outputs": [
    {
     "data": {
      "image/png": "[encoded data removed]",
      "text/plain": [
       "<Figure size 432x288 with 1 Axes>"
      ]
     },
     "metadata": {},
     "output_type": "display_data"
    }
   ],
   "source": [
    "plt.hist(X_train_val['CustServ_Calls'])\n",
    "\n",
    "plt.title('Distribution of \\'CustServ_Calls\\'')\n",
    "plt.show()"
   ]
  },
  {
   "cell_type": "markdown",
   "metadata": {},
   "source": [
    "### Encoding Target"
   ]
  },
  {
   "cell_type": "code",
   "execution_count": 41,
   "metadata": {},
   "outputs": [],
   "source": [
    "# Instantiate Label Encoder for \"Churn\"\n",
    "\n",
    "le = LabelEncoder()"
   ]
  },
  {
   "cell_type": "code",
   "execution_count": 42,
   "metadata": {},
   "outputs": [],
   "source": [
    "y_train_val = le.fit_transform(y_train_val)"
   ]
  },
  {
   "cell_type": "code",
   "execution_count": 43,
   "metadata": {},
   "outputs": [
    {
     "data": {
      "text/plain": [
       "array([0, 0, 0, ..., 0, 0, 0])"
      ]
     },
     "execution_count": 43,
     "metadata": {},
     "output_type": "execute_result"
    }
   ],
   "source": [
    "y_train_val"
   ]
  },
  {
   "cell_type": "markdown",
   "metadata": {},
   "source": [
    "### Train-Test Split"
   ]
  },
  {
   "cell_type": "code",
   "execution_count": 44,
   "metadata": {},
   "outputs": [
    {
     "name": "stdout",
     "output_type": "stream",
     "text": [
      "(1999, 20) (667, 20) (1999,) (667,)\n"
     ]
    }
   ],
   "source": [
    "# Split data into training and test sets\n",
    "\n",
    "X_train, X_test, y_train, y_test = train_test_split(X_train_val, y_train_val, test_size=0.25)\n",
    "\n",
    "print(X_train.shape, X_test.shape, y_train.shape, y_test.shape)"
   ]
  },
  {
   "cell_type": "markdown",
   "metadata": {},
   "source": [
    "---"
   ]
  },
  {
   "cell_type": "markdown",
   "metadata": {},
   "source": [
    "<p><a name=\"sel\"></a></p>\n",
    "\n",
    "### Feature Selection"
   ]
  },
  {
   "cell_type": "code",
   "execution_count": 45,
   "metadata": {},
   "outputs": [
    {
     "data": {
      "image/png": "[encoded data removed]",
      "text/plain": [
       "<Figure size 432x288 with 2 Axes>"
      ]
     },
     "metadata": {},
     "output_type": "display_data"
    }
   ],
   "source": [
    "mask = np.zeros_like(X_train.corr())\n",
    "mask[np.triu_indices_from(mask)] = 1\n",
    "sns.heatmap(X_train.corr(), mask= mask, linewidth=0.7, cmap='RdYlGn') \n",
    "plt.show()"
   ]
  },
  {
   "cell_type": "markdown",
   "metadata": {},
   "source": [
    "**Insights:**\n",
    "- Following features are highly correlated\n",
    "    - Day_Mins & Day_Charge\n",
    "    - Eve_Mins & Eve_Charge\n",
    "    - Night_Mins & Night_Charge\n",
    "    - Intl_Mins & Intl_Charge\n",
    "- Either set are candidates for being dropped or their combination for feature engineering"
   ]
  },
  {
   "cell_type": "markdown",
   "metadata": {},
   "source": [
    "---"
   ]
  },
  {
   "cell_type": "markdown",
   "metadata": {},
   "source": [
    "<p><a name=\"engg\"></a></p>\n",
    "\n",
    "### Feature Engineering"
   ]
  },
  {
   "cell_type": "code",
   "execution_count": 46,
   "metadata": {},
   "outputs": [],
   "source": [
    "class CategoricalTransformer(BaseEstimator, TransformerMixin):\n",
    "    \n",
    "    '''\n",
    "    Descr:\n",
    "    This class contains methods to undertake categorical transformations\n",
    "    on features and its output will be used as CustomTransfomers \n",
    "    in the pipeline functionality to prevent data leakage and also\n",
    "    automate categorical transformations on unseen data.\n",
    "    \n",
    "    Tasks performed by transform() method:\n",
    "    1. Drops columns not required / provide no predictive information the model\n",
    "\n",
    "    I/P:\n",
    "    Features dataframe\n",
    "\n",
    "    O/P:\n",
    "    numpy array of transformed categorical features\n",
    "    '''    \n",
    "    \n",
    "    # Class constructor\n",
    "    def __init__(self):\n",
    "        pass\n",
    "    \n",
    "    # fit method - does nothing and returns self\n",
    "    def fit(self, X, y=None):\n",
    "        return self\n",
    "    \n",
    "    # transform method for custom transformations\n",
    "    def transform(self, X, y=None):\n",
    "        \n",
    "        # Doing this to avoid Chained Indexing error:\n",
    "        # \"SettingWithCopyWarning: A value is trying to be set on a copy of a slice from a DataFrame\"\n",
    "        X1 = X.copy()\n",
    "        \n",
    "        # Dropping columns that:\n",
    "            # were transformed above\n",
    "            # provide no predictive information\n",
    "        X1.drop(['Phone'], axis=1, inplace=True)\n",
    "\n",
    "\n",
    "        # Return numpy array of transformed numerical features\n",
    "        return X1 "
   ]
  },
  {
   "cell_type": "code",
   "execution_count": 152,
   "metadata": {},
   "outputs": [],
   "source": [
    "class NumericalTransformer(BaseEstimator, TransformerMixin):\n",
    "    \n",
    "    '''\n",
    "    Descr:\n",
    "    This class contains methods to undertake numerical transformations\n",
    "    on features and its output will be used as CustomTransfomers \n",
    "    in the pipeline functionality to prevent data leakage and also\n",
    "    automate numerical transformations on unseen data.\n",
    "    For it to qualify as a transformer, it will contain the .fit()\n",
    "    and .transform() methods and we'll be inheriting from 2 classes\n",
    "    that faciliate this class being a transformer.\n",
    "    \n",
    "    Tasks performed by transform() method:\n",
    "    1. Creates 4 (Day, Eve, Night, Intl) \"ChargesPerMin\" columns and drops original\n",
    "    2. Create binary column of features that are highly skewed to 1 value\n",
    "    3. Drops columns not required / provide no predictive information the model\n",
    "\n",
    "    I/P:\n",
    "    Features dataframe\n",
    "\n",
    "    O/P:\n",
    "    numpy array of transformed numerical features\n",
    "    '''    \n",
    "    \n",
    "    # Class constructor\n",
    "    def __init__(self):\n",
    "        pass\n",
    "    \n",
    "    # fit method - does nothing and returns self\n",
    "    def fit(self, X, y=None):\n",
    "        return self\n",
    "    \n",
    "    # Binarize method\n",
    "    def binarize(self, obj):\n",
    "        if obj == 0:\n",
    "            return 0\n",
    "        else:\n",
    "            return 1\n",
    "    \n",
    "    # transform method for custom transformations\n",
    "    def transform(self, X, y=None):\n",
    "        \n",
    "        # Doing this to avoid Chained Indexing error:\n",
    "        # \"SettingWithCopyWarning: A value is trying to be set on a copy of a slice from a DataFrame\"\n",
    "        X1 = X.copy()\n",
    "        \n",
    "        # Create 4 new columns for Charge/min for Day, Eve, Night, Intl\n",
    "        X1.loc[:,'ChargePerMin_Day'] = (X['Day_Charge'] / X['Day_Mins'])\n",
    "        X1.loc[:,'ChargePerMin_Eve'] = (X['Eve_Charge'] / X['Eve_Mins'])\n",
    "        X1.loc[:,'ChargePerMin_Night'] = (X['Night_Charge'] / X['Night_Mins'])\n",
    "        X1.loc[:,'ChargePerMin_Intl'] = (X['Intl_Charge'] / X['Intl_Mins'])\n",
    "        \n",
    "        # Binarize columns\n",
    "        X1.loc[:,'Vmail_Message_b'] = X1['Vmail_Message'].apply(self.binarize)\n",
    "\n",
    "        \n",
    "        # Dropping columns that:\n",
    "        X1.drop(['Day_Charge','Day_Mins','Eve_Charge','Eve_Mins',\\\n",
    "                 'Night_Charge','Night_Mins','Intl_Charge','Intl_Mins',\\\n",
    "                 'Vmail_Message','Area_Code'], axis=1, inplace=True)\n",
    "\n",
    "        \n",
    "        # Return numpy array of transformed numerical features\n",
    "        return X1    #X1.values"
   ]
  },
  {
   "cell_type": "code",
   "execution_count": 153,
   "metadata": {},
   "outputs": [],
   "source": [
    "# Instantiate Transformers: \n",
    "\n",
    "# Categorical \n",
    "cat_transformer = CategoricalTransformer()\n",
    "imp_mode_c = SimpleImputer(strategy='most_frequent')\n",
    "oe = OrdinalEncoder()\n",
    "ohe = OneHotEncoder()\n",
    "\n",
    "# Numerical\n",
    "imp_median_n = SimpleImputer(strategy='median')\n",
    "num_transformer = NumericalTransformer()\n",
    "ss = StandardScaler()"
   ]
  },
  {
   "cell_type": "code",
   "execution_count": 154,
   "metadata": {},
   "outputs": [],
   "source": [
    "# Tagging features for transformations\n",
    "\n",
    "# Categorical \n",
    "features_for_pipe_cat_imp_oe = ['Intl_Plan', 'Vmail_Plan', 'Phone']\n",
    "    # 'Phone' will get dropped and remaining 2 will be ordinal encoded\n",
    "features_for_ohe = ['State']\n",
    "\n",
    "# Numerical\n",
    "features_for_pipe_num_imp_ss = features_num"
   ]
  },
  {
   "cell_type": "code",
   "execution_count": 155,
   "metadata": {},
   "outputs": [],
   "source": [
    "# Categorical pipelines\n",
    "\n",
    "# Pipeline for dropping 'Phone' and for imputation & Ordinal encoding\n",
    "pipe_cat_imp_oe = make_pipeline(cat_transformer, imp_mode_c, oe)\n",
    "\n",
    "# Pipeline for imputation & OneHot encoding\n",
    "pipe_imp_ohe = make_pipeline(imp_mode_c, ohe)\n",
    "\n",
    "\n",
    "# Numerical pipelines\n",
    "# Uncomment #@@@@@@@@@@@@@@@@@@@@@@\n",
    "# pipe_num_imp_ss = make_pipeline(imp_median_n, num_transformer,ss) \n",
    "pipe_num_imp_ss = make_pipeline(num_transformer, imp_median_n)\n"
   ]
  },
  {
   "cell_type": "code",
   "execution_count": 156,
   "metadata": {},
   "outputs": [],
   "source": [
    "# Utilizing Column Transformer for transformations\n",
    "\n",
    "# ct = make_column_transformer(\n",
    "#     (oe, ['Intl_Plan', 'Vmail_Plan']),\n",
    "#     (ohe, ['State']),\n",
    "#     (ss, ['Day_Calls', 'Eve_Calls', 'Night_Calls', 'Intl_Calls']) # this should be for all numerical columns. Check.\n",
    "#     ,remainder='passthrough')"
   ]
  },
  {
   "cell_type": "code",
   "execution_count": 157,
   "metadata": {},
   "outputs": [],
   "source": [
    "# Utilizing Column Transformer for transformations\n",
    "\n",
    "ct = make_column_transformer(\n",
    "    (pipe_cat_imp_oe, features_for_pipe_cat_imp_oe)\n",
    "    ,(pipe_imp_ohe, features_for_ohe)\n",
    "    ,(pipe_num_imp_ss, features_for_pipe_num_imp_ss)\n",
    "    ,remainder='passthrough')"
   ]
  },
  {
   "cell_type": "code",
   "execution_count": 158,
   "metadata": {},
   "outputs": [],
   "source": [
    "# ct.fit_transform(X_train[['Intl_Plan', 'Vmail_Plan', 'State', 'Phone']]).toarray().shape"
   ]
  },
  {
   "cell_type": "code",
   "execution_count": 159,
   "metadata": {},
   "outputs": [],
   "source": [
    "# ct.fit_transform(X_train[features_cat]).toarray().shape"
   ]
  },
  {
   "cell_type": "code",
   "execution_count": 160,
   "metadata": {
    "scrolled": true
   },
   "outputs": [],
   "source": [
    "# ct.fit_transform(X_train[features_cat]).toarray()"
   ]
  },
  {
   "cell_type": "markdown",
   "metadata": {},
   "source": [
    "---"
   ]
  },
  {
   "cell_type": "code",
   "execution_count": 161,
   "metadata": {
    "scrolled": false
   },
   "outputs": [
    {
     "data": {
      "text/plain": [
       "(1999, 64)"
      ]
     },
     "execution_count": 161,
     "metadata": {},
     "output_type": "execute_result"
    }
   ],
   "source": [
    "ct.fit_transform(X_train).shape"
   ]
  },
  {
   "cell_type": "markdown",
   "metadata": {},
   "source": [
    "---"
   ]
  },
  {
   "cell_type": "code",
   "execution_count": 142,
   "metadata": {},
   "outputs": [],
   "source": [
    "dft = pd.read_excel('./data/test.xlsx')"
   ]
  },
  {
   "cell_type": "code",
   "execution_count": 143,
   "metadata": {},
   "outputs": [
    {
     "data": {
      "text/html": [
       "<div>\n",
       "<style scoped>\n",
       "    .dataframe tbody tr th:only-of-type {\n",
       "        vertical-align: middle;\n",
       "    }\n",
       "\n",
       "    .dataframe tbody tr th {\n",
       "        vertical-align: top;\n",
       "    }\n",
       "\n",
       "    .dataframe thead th {\n",
       "        text-align: right;\n",
       "    }\n",
       "</style>\n",
       "<table border=\"1\" class=\"dataframe\">\n",
       "  <thead>\n",
       "    <tr style=\"text-align: right;\">\n",
       "      <th></th>\n",
       "      <th>Charge</th>\n",
       "      <th>Mins</th>\n",
       "    </tr>\n",
       "  </thead>\n",
       "  <tbody>\n",
       "    <tr>\n",
       "      <td>0</td>\n",
       "      <td>10.0</td>\n",
       "      <td>1.0</td>\n",
       "    </tr>\n",
       "    <tr>\n",
       "      <td>1</td>\n",
       "      <td>20.0</td>\n",
       "      <td>2.0</td>\n",
       "    </tr>\n",
       "    <tr>\n",
       "      <td>2</td>\n",
       "      <td>30.0</td>\n",
       "      <td>3.0</td>\n",
       "    </tr>\n",
       "    <tr>\n",
       "      <td>3</td>\n",
       "      <td>40.0</td>\n",
       "      <td>NaN</td>\n",
       "    </tr>\n",
       "    <tr>\n",
       "      <td>4</td>\n",
       "      <td>50.0</td>\n",
       "      <td>5.0</td>\n",
       "    </tr>\n",
       "    <tr>\n",
       "      <td>5</td>\n",
       "      <td>NaN</td>\n",
       "      <td>6.0</td>\n",
       "    </tr>\n",
       "    <tr>\n",
       "      <td>6</td>\n",
       "      <td>70.0</td>\n",
       "      <td>7.0</td>\n",
       "    </tr>\n",
       "  </tbody>\n",
       "</table>\n",
       "</div>"
      ],
      "text/plain": [
       "   Charge  Mins\n",
       "0    10.0   1.0\n",
       "1    20.0   2.0\n",
       "2    30.0   3.0\n",
       "3    40.0   NaN\n",
       "4    50.0   5.0\n",
       "5     NaN   6.0\n",
       "6    70.0   7.0"
      ]
     },
     "execution_count": 143,
     "metadata": {},
     "output_type": "execute_result"
    }
   ],
   "source": [
    "dft"
   ]
  },
  {
   "cell_type": "code",
   "execution_count": 144,
   "metadata": {},
   "outputs": [],
   "source": [
    "dft.loc[:,'ChargePerMin_Day'] = (dft['Charge'] / dft['Mins'])"
   ]
  },
  {
   "cell_type": "code",
   "execution_count": 145,
   "metadata": {},
   "outputs": [
    {
     "data": {
      "text/html": [
       "<div>\n",
       "<style scoped>\n",
       "    .dataframe tbody tr th:only-of-type {\n",
       "        vertical-align: middle;\n",
       "    }\n",
       "\n",
       "    .dataframe tbody tr th {\n",
       "        vertical-align: top;\n",
       "    }\n",
       "\n",
       "    .dataframe thead th {\n",
       "        text-align: right;\n",
       "    }\n",
       "</style>\n",
       "<table border=\"1\" class=\"dataframe\">\n",
       "  <thead>\n",
       "    <tr style=\"text-align: right;\">\n",
       "      <th></th>\n",
       "      <th>Charge</th>\n",
       "      <th>Mins</th>\n",
       "      <th>ChargePerMin_Day</th>\n",
       "    </tr>\n",
       "  </thead>\n",
       "  <tbody>\n",
       "    <tr>\n",
       "      <td>0</td>\n",
       "      <td>10.0</td>\n",
       "      <td>1.0</td>\n",
       "      <td>10.0</td>\n",
       "    </tr>\n",
       "    <tr>\n",
       "      <td>1</td>\n",
       "      <td>20.0</td>\n",
       "      <td>2.0</td>\n",
       "      <td>10.0</td>\n",
       "    </tr>\n",
       "    <tr>\n",
       "      <td>2</td>\n",
       "      <td>30.0</td>\n",
       "      <td>3.0</td>\n",
       "      <td>10.0</td>\n",
       "    </tr>\n",
       "    <tr>\n",
       "      <td>3</td>\n",
       "      <td>40.0</td>\n",
       "      <td>NaN</td>\n",
       "      <td>NaN</td>\n",
       "    </tr>\n",
       "    <tr>\n",
       "      <td>4</td>\n",
       "      <td>50.0</td>\n",
       "      <td>5.0</td>\n",
       "      <td>10.0</td>\n",
       "    </tr>\n",
       "    <tr>\n",
       "      <td>5</td>\n",
       "      <td>NaN</td>\n",
       "      <td>6.0</td>\n",
       "      <td>NaN</td>\n",
       "    </tr>\n",
       "    <tr>\n",
       "      <td>6</td>\n",
       "      <td>70.0</td>\n",
       "      <td>7.0</td>\n",
       "      <td>10.0</td>\n",
       "    </tr>\n",
       "  </tbody>\n",
       "</table>\n",
       "</div>"
      ],
      "text/plain": [
       "   Charge  Mins  ChargePerMin_Day\n",
       "0    10.0   1.0              10.0\n",
       "1    20.0   2.0              10.0\n",
       "2    30.0   3.0              10.0\n",
       "3    40.0   NaN               NaN\n",
       "4    50.0   5.0              10.0\n",
       "5     NaN   6.0               NaN\n",
       "6    70.0   7.0              10.0"
      ]
     },
     "execution_count": 145,
     "metadata": {},
     "output_type": "execute_result"
    }
   ],
   "source": [
    "dft"
   ]
  },
  {
   "cell_type": "code",
   "execution_count": 147,
   "metadata": {},
   "outputs": [],
   "source": [
    "dftv = pd.read_excel('./data/test.xlsx').values"
   ]
  },
  {
   "cell_type": "code",
   "execution_count": 148,
   "metadata": {},
   "outputs": [
    {
     "data": {
      "text/plain": [
       "array([[10.,  1.],\n",
       "       [20.,  2.],\n",
       "       [30.,  3.],\n",
       "       [40., nan],\n",
       "       [50.,  5.],\n",
       "       [nan,  6.],\n",
       "       [70.,  7.]])"
      ]
     },
     "execution_count": 148,
     "metadata": {},
     "output_type": "execute_result"
    }
   ],
   "source": [
    "dftv"
   ]
  },
  {
   "cell_type": "code",
   "execution_count": null,
   "metadata": {},
   "outputs": [],
   "source": []
  },
  {
   "cell_type": "code",
   "execution_count": null,
   "metadata": {},
   "outputs": [],
   "source": []
  }
 ],
 "metadata": {
  "kernelspec": {
   "display_name": "Python 3",
   "language": "python",
   "name": "python3"
  },
  "language_info": {
   "codemirror_mode": {
    "name": "ipython",
    "version": 3
   },
   "file_extension": ".py",
   "mimetype": "text/x-python",
   "name": "python",
   "nbconvert_exporter": "python",
   "pygments_lexer": "ipython3",
   "version": "3.7.4"
  }
 },
 "nbformat": 4,
 "nbformat_minor": 2
}
