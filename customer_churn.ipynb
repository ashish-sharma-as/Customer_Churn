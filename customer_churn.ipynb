{
 "cells": [
  {
   "cell_type": "markdown",
   "metadata": {},
   "source": [
    "# Customer Churn"
   ]
  },
  {
   "cell_type": "markdown",
   "metadata": {},
   "source": [
    "---"
   ]
  },
  {
   "cell_type": "markdown",
   "metadata": {},
   "source": [
    "## Contents\n",
    "\n",
    "- <a href=\"#import\">Import Libraries</a><br>\n",
    "- <a href=\"#data\">Import Data</a><br>\n",
    "- <a href=\"#3\">Creating 3-way Holdout data sets</a><br>\n",
    "- <a href=\"#eda\">Exploratory Data Analysis</a><br>\n",
    "- <a href=\"#prep\">Data Preprocessing</a><br>\n",
    "- <a href=\"#sel\">Feature Selection</a><br>\n",
    "- <a href=\"#engg\">Feature Engineering</a><br>\n",
    "- <a href=\"#hyp\">Hyperparameter Tuning</a><br>"
   ]
  },
  {
   "cell_type": "markdown",
   "metadata": {},
   "source": [
    "---"
   ]
  },
  {
   "cell_type": "markdown",
   "metadata": {},
   "source": [
    "<p><a name=\"import\"></a></p>\n",
    " \n",
    "### Import Modules"
   ]
  },
  {
   "cell_type": "code",
   "execution_count": 152,
   "metadata": {},
   "outputs": [],
   "source": [
    "# Standard Modules\n",
    "import numpy as np\n",
    "import pandas as pd\n",
    "import matplotlib.pyplot as plt\n",
    "%matplotlib inline\n",
    "import seaborn as sns\n",
    "\n",
    "# Model Selection\n",
    "from sklearn.model_selection import train_test_split\n",
    "from sklearn.model_selection import GridSearchCV\n",
    "\n",
    "# Preprocessing\n",
    "from sklearn.preprocessing import StandardScaler\n",
    "from sklearn.preprocessing import OrdinalEncoder\n",
    "from sklearn.preprocessing import LabelEncoder\n",
    "from sklearn.preprocessing import OneHotEncoder\n",
    "from sklearn.impute import SimpleImputer\n",
    "\n",
    "# Compose\n",
    "from sklearn.compose import make_column_transformer\n",
    "\n",
    "# Classes for inheritance\n",
    "from sklearn.base import BaseEstimator, TransformerMixin\n",
    "\n",
    "# Pipeline\n",
    "from sklearn.pipeline import make_pipeline\n",
    "\n",
    "# ML Models\n",
    "from sklearn.linear_model import LogisticRegression\n",
    "\n",
    "# Metrics\n",
    "from sklearn.metrics import confusion_matrix\n",
    "from sklearn.metrics import precision_score\n",
    "from sklearn.metrics import recall_score\n",
    "from sklearn.metrics import f1_score\n",
    "from sklearn.metrics import classification_report\n",
    "from sklearn.metrics import roc_curve\n",
    "from sklearn.metrics import roc_auc_score\n",
    "\n",
    "# Feature Selection\n",
    "from sklearn.feature_selection import SelectKBest\n",
    "from sklearn.feature_selection import chi2\n",
    "from sklearn.feature_selection import RFE\n",
    "\n",
    "# Statistics\n",
    "from scipy.stats import chi2_contingency"
   ]
  },
  {
   "cell_type": "code",
   "execution_count": 4,
   "metadata": {},
   "outputs": [
    {
     "name": "stdout",
     "output_type": "stream",
     "text": [
      "\n",
      "System:\n",
      "    python: 3.7.4 (default, Aug 13 2019, 15:17:50)  [Clang 4.0.1 (tags/RELEASE_401/final)]\n",
      "executable: /opt/anaconda3/bin/python\n",
      "   machine: Darwin-19.6.0-x86_64-i386-64bit\n",
      "\n",
      "Python dependencies:\n",
      "          pip: 19.2.3\n",
      "   setuptools: 41.4.0\n",
      "      sklearn: 0.23.2\n",
      "        numpy: 1.17.2\n",
      "        scipy: 1.3.1\n",
      "       Cython: 0.29.13\n",
      "       pandas: 0.25.1\n",
      "   matplotlib: 3.2.2\n",
      "       joblib: 0.13.2\n",
      "threadpoolctl: 2.1.0\n",
      "\n",
      "Built with OpenMP: True\n"
     ]
    }
   ],
   "source": [
    "import sklearn\n",
    "sklearn.show_versions()"
   ]
  },
  {
   "cell_type": "markdown",
   "metadata": {},
   "source": [
    "---"
   ]
  },
  {
   "cell_type": "markdown",
   "metadata": {},
   "source": [
    "<p><a name=\"data\"></a></p>\n",
    "\n",
    "### Import Data"
   ]
  },
  {
   "cell_type": "code",
   "execution_count": 5,
   "metadata": {},
   "outputs": [],
   "source": [
    "# Read csv\n",
    "\n",
    "churn_data = pd.read_csv('./data/churn_data.csv')"
   ]
  },
  {
   "cell_type": "code",
   "execution_count": 6,
   "metadata": {},
   "outputs": [
    {
     "data": {
      "text/plain": [
       "(3333, 21)"
      ]
     },
     "execution_count": 6,
     "metadata": {},
     "output_type": "execute_result"
    }
   ],
   "source": [
    "churn_data.shape"
   ]
  },
  {
   "cell_type": "markdown",
   "metadata": {},
   "source": [
    "---"
   ]
  },
  {
   "cell_type": "markdown",
   "metadata": {},
   "source": [
    "<p><a name=\"3\"></a></p>\n",
    "\n",
    "### Creating a 3-way holdout dataset\n",
    "- Training & Validation data \n",
    "- Test (Unseen) data"
   ]
  },
  {
   "cell_type": "code",
   "execution_count": 7,
   "metadata": {},
   "outputs": [
    {
     "name": "stdout",
     "output_type": "stream",
     "text": [
      "Shape of X and y:\n",
      "\n",
      "(3333, 20) (3333,)\n"
     ]
    }
   ],
   "source": [
    "X_tmp = churn_data.drop(['Churn'], axis=1)\n",
    "y_tmp = churn_data['Churn']\n",
    "\n",
    "print('Shape of X and y:\\n')\n",
    "print(X_tmp.shape, y_tmp.shape)"
   ]
  },
  {
   "cell_type": "code",
   "execution_count": 8,
   "metadata": {},
   "outputs": [],
   "source": [
    "# Split data into training - validation and test (unseen) data\n",
    "\n",
    "X_train_val, X_unseen, y_train_val, y_unseen = train_test_split(X_tmp, y_tmp, test_size=0.2)"
   ]
  },
  {
   "cell_type": "code",
   "execution_count": 9,
   "metadata": {},
   "outputs": [
    {
     "name": "stdout",
     "output_type": "stream",
     "text": [
      "Shape of training & validation data:\n",
      "(2666, 20) (2666,)\n",
      "\n",
      " ----------------------------------------\n",
      "\n",
      "Shape of test(unseen) data:\n",
      "(667, 20) (667,)\n"
     ]
    }
   ],
   "source": [
    "print('Shape of training & validation data:')\n",
    "print(X_train_val.shape, y_train_val.shape)\n",
    "print('\\n','-'*40)\n",
    "print('\\nShape of test(unseen) data:')\n",
    "print(X_unseen.shape, y_unseen.shape)"
   ]
  },
  {
   "cell_type": "code",
   "execution_count": 10,
   "metadata": {},
   "outputs": [],
   "source": [
    "# Making a working copy of the training and validation data\n",
    "\n",
    "df = X_train_val.copy()"
   ]
  },
  {
   "cell_type": "code",
   "execution_count": 11,
   "metadata": {},
   "outputs": [],
   "source": [
    "# Adding churned feature back into dataset to understand properties\n",
    "# of churned v/s non-churned customers\n",
    "\n",
    "df['Churn'] = y_train_val"
   ]
  },
  {
   "cell_type": "markdown",
   "metadata": {},
   "source": [
    "**df = X_train_val + y_train_val**"
   ]
  },
  {
   "cell_type": "code",
   "execution_count": 12,
   "metadata": {},
   "outputs": [
    {
     "data": {
      "text/html": [
       "<div>\n",
       "<style scoped>\n",
       "    .dataframe tbody tr th:only-of-type {\n",
       "        vertical-align: middle;\n",
       "    }\n",
       "\n",
       "    .dataframe tbody tr th {\n",
       "        vertical-align: top;\n",
       "    }\n",
       "\n",
       "    .dataframe thead th {\n",
       "        text-align: right;\n",
       "    }\n",
       "</style>\n",
       "<table border=\"1\" class=\"dataframe\">\n",
       "  <thead>\n",
       "    <tr style=\"text-align: right;\">\n",
       "      <th></th>\n",
       "      <th>Account_Length</th>\n",
       "      <th>Vmail_Message</th>\n",
       "      <th>Day_Mins</th>\n",
       "      <th>Eve_Mins</th>\n",
       "      <th>Night_Mins</th>\n",
       "      <th>Intl_Mins</th>\n",
       "      <th>CustServ_Calls</th>\n",
       "      <th>Intl_Plan</th>\n",
       "      <th>Vmail_Plan</th>\n",
       "      <th>Day_Calls</th>\n",
       "      <th>...</th>\n",
       "      <th>Eve_Calls</th>\n",
       "      <th>Eve_Charge</th>\n",
       "      <th>Night_Calls</th>\n",
       "      <th>Night_Charge</th>\n",
       "      <th>Intl_Calls</th>\n",
       "      <th>Intl_Charge</th>\n",
       "      <th>State</th>\n",
       "      <th>Area_Code</th>\n",
       "      <th>Phone</th>\n",
       "      <th>Churn</th>\n",
       "    </tr>\n",
       "  </thead>\n",
       "  <tbody>\n",
       "    <tr>\n",
       "      <td>2032</td>\n",
       "      <td>151</td>\n",
       "      <td>0</td>\n",
       "      <td>118.9</td>\n",
       "      <td>278.3</td>\n",
       "      <td>194.8</td>\n",
       "      <td>13.2</td>\n",
       "      <td>2</td>\n",
       "      <td>no</td>\n",
       "      <td>no</td>\n",
       "      <td>128</td>\n",
       "      <td>...</td>\n",
       "      <td>65</td>\n",
       "      <td>23.66</td>\n",
       "      <td>61</td>\n",
       "      <td>8.77</td>\n",
       "      <td>10</td>\n",
       "      <td>3.56</td>\n",
       "      <td>NJ</td>\n",
       "      <td>415</td>\n",
       "      <td>399-3840</td>\n",
       "      <td>no</td>\n",
       "    </tr>\n",
       "    <tr>\n",
       "      <td>1889</td>\n",
       "      <td>91</td>\n",
       "      <td>0</td>\n",
       "      <td>153.0</td>\n",
       "      <td>141.1</td>\n",
       "      <td>171.5</td>\n",
       "      <td>10.3</td>\n",
       "      <td>1</td>\n",
       "      <td>no</td>\n",
       "      <td>no</td>\n",
       "      <td>123</td>\n",
       "      <td>...</td>\n",
       "      <td>127</td>\n",
       "      <td>11.99</td>\n",
       "      <td>76</td>\n",
       "      <td>7.72</td>\n",
       "      <td>15</td>\n",
       "      <td>2.78</td>\n",
       "      <td>SD</td>\n",
       "      <td>415</td>\n",
       "      <td>357-5696</td>\n",
       "      <td>yes</td>\n",
       "    </tr>\n",
       "    <tr>\n",
       "      <td>2202</td>\n",
       "      <td>112</td>\n",
       "      <td>16</td>\n",
       "      <td>200.3</td>\n",
       "      <td>197.8</td>\n",
       "      <td>151.1</td>\n",
       "      <td>10.4</td>\n",
       "      <td>1</td>\n",
       "      <td>yes</td>\n",
       "      <td>yes</td>\n",
       "      <td>72</td>\n",
       "      <td>...</td>\n",
       "      <td>91</td>\n",
       "      <td>16.81</td>\n",
       "      <td>92</td>\n",
       "      <td>6.80</td>\n",
       "      <td>3</td>\n",
       "      <td>2.81</td>\n",
       "      <td>NE</td>\n",
       "      <td>415</td>\n",
       "      <td>351-2928</td>\n",
       "      <td>no</td>\n",
       "    </tr>\n",
       "    <tr>\n",
       "      <td>3193</td>\n",
       "      <td>88</td>\n",
       "      <td>0</td>\n",
       "      <td>113.7</td>\n",
       "      <td>165.1</td>\n",
       "      <td>141.5</td>\n",
       "      <td>10.8</td>\n",
       "      <td>1</td>\n",
       "      <td>no</td>\n",
       "      <td>no</td>\n",
       "      <td>67</td>\n",
       "      <td>...</td>\n",
       "      <td>127</td>\n",
       "      <td>14.03</td>\n",
       "      <td>142</td>\n",
       "      <td>6.37</td>\n",
       "      <td>3</td>\n",
       "      <td>2.92</td>\n",
       "      <td>IA</td>\n",
       "      <td>415</td>\n",
       "      <td>410-2015</td>\n",
       "      <td>no</td>\n",
       "    </tr>\n",
       "    <tr>\n",
       "      <td>2954</td>\n",
       "      <td>57</td>\n",
       "      <td>0</td>\n",
       "      <td>161.0</td>\n",
       "      <td>208.0</td>\n",
       "      <td>208.1</td>\n",
       "      <td>8.4</td>\n",
       "      <td>3</td>\n",
       "      <td>no</td>\n",
       "      <td>no</td>\n",
       "      <td>113</td>\n",
       "      <td>...</td>\n",
       "      <td>134</td>\n",
       "      <td>17.68</td>\n",
       "      <td>81</td>\n",
       "      <td>9.36</td>\n",
       "      <td>4</td>\n",
       "      <td>2.27</td>\n",
       "      <td>TX</td>\n",
       "      <td>415</td>\n",
       "      <td>403-6225</td>\n",
       "      <td>no</td>\n",
       "    </tr>\n",
       "  </tbody>\n",
       "</table>\n",
       "<p>5 rows × 21 columns</p>\n",
       "</div>"
      ],
      "text/plain": [
       "      Account_Length  Vmail_Message  Day_Mins  Eve_Mins  Night_Mins  \\\n",
       "2032             151              0     118.9     278.3       194.8   \n",
       "1889              91              0     153.0     141.1       171.5   \n",
       "2202             112             16     200.3     197.8       151.1   \n",
       "3193              88              0     113.7     165.1       141.5   \n",
       "2954              57              0     161.0     208.0       208.1   \n",
       "\n",
       "      Intl_Mins  CustServ_Calls Intl_Plan Vmail_Plan  Day_Calls  ...  \\\n",
       "2032       13.2               2        no         no        128  ...   \n",
       "1889       10.3               1        no         no        123  ...   \n",
       "2202       10.4               1       yes        yes         72  ...   \n",
       "3193       10.8               1        no         no         67  ...   \n",
       "2954        8.4               3        no         no        113  ...   \n",
       "\n",
       "      Eve_Calls  Eve_Charge  Night_Calls  Night_Charge  Intl_Calls  \\\n",
       "2032         65       23.66           61          8.77          10   \n",
       "1889        127       11.99           76          7.72          15   \n",
       "2202         91       16.81           92          6.80           3   \n",
       "3193        127       14.03          142          6.37           3   \n",
       "2954        134       17.68           81          9.36           4   \n",
       "\n",
       "      Intl_Charge  State Area_Code     Phone Churn  \n",
       "2032         3.56     NJ       415  399-3840    no  \n",
       "1889         2.78     SD       415  357-5696   yes  \n",
       "2202         2.81     NE       415  351-2928    no  \n",
       "3193         2.92     IA       415  410-2015    no  \n",
       "2954         2.27     TX       415  403-6225    no  \n",
       "\n",
       "[5 rows x 21 columns]"
      ]
     },
     "execution_count": 12,
     "metadata": {},
     "output_type": "execute_result"
    }
   ],
   "source": [
    "df.head()"
   ]
  },
  {
   "cell_type": "markdown",
   "metadata": {},
   "source": [
    "---"
   ]
  },
  {
   "cell_type": "markdown",
   "metadata": {},
   "source": [
    "<p><a name=\"eda\"></a></p>\n",
    "\n",
    "### Exploratory Analysis"
   ]
  },
  {
   "cell_type": "code",
   "execution_count": 13,
   "metadata": {},
   "outputs": [
    {
     "name": "stdout",
     "output_type": "stream",
     "text": [
      "<class 'pandas.core.frame.DataFrame'>\n",
      "Int64Index: 2666 entries, 2032 to 399\n",
      "Data columns (total 21 columns):\n",
      "Account_Length    2666 non-null int64\n",
      "Vmail_Message     2666 non-null int64\n",
      "Day_Mins          2666 non-null float64\n",
      "Eve_Mins          2666 non-null float64\n",
      "Night_Mins        2666 non-null float64\n",
      "Intl_Mins         2666 non-null float64\n",
      "CustServ_Calls    2666 non-null int64\n",
      "Intl_Plan         2666 non-null object\n",
      "Vmail_Plan        2666 non-null object\n",
      "Day_Calls         2666 non-null int64\n",
      "Day_Charge        2666 non-null float64\n",
      "Eve_Calls         2666 non-null int64\n",
      "Eve_Charge        2666 non-null float64\n",
      "Night_Calls       2666 non-null int64\n",
      "Night_Charge      2666 non-null float64\n",
      "Intl_Calls        2666 non-null int64\n",
      "Intl_Charge       2666 non-null float64\n",
      "State             2666 non-null object\n",
      "Area_Code         2666 non-null int64\n",
      "Phone             2666 non-null object\n",
      "Churn             2666 non-null object\n",
      "dtypes: float64(8), int64(8), object(5)\n",
      "memory usage: 458.2+ KB\n"
     ]
    }
   ],
   "source": [
    "df.info()"
   ]
  },
  {
   "cell_type": "code",
   "execution_count": 14,
   "metadata": {},
   "outputs": [],
   "source": [
    "sns.set()"
   ]
  },
  {
   "cell_type": "code",
   "execution_count": 15,
   "metadata": {},
   "outputs": [
    {
     "data": {
      "image/png": "[encoded data removed]",
      "text/plain": [
       "<Figure size 432x288 with 1 Axes>"
      ]
     },
     "metadata": {},
     "output_type": "display_data"
    }
   ],
   "source": [
    "# Customer Churn as a % \n",
    "\n",
    "df['Churn'].value_counts().plot(kind='pie'\n",
    "                                ,colors=['lightgrey','red']\n",
    "                                ,wedgeprops={'edgecolor': 'black'}\n",
    "                                ,explode=[0,0.1]\n",
    "                                ,autopct='%1.1f%%'\n",
    "                                ,startangle=90)\n",
    "plt.title('Customer Churn % (Training-Validation Set)', size=15, fontweight='bold')\n",
    "plt.show()"
   ]
  },
  {
   "cell_type": "code",
   "execution_count": 16,
   "metadata": {},
   "outputs": [
    {
     "data": {
      "image/png": "[encoded data removed]",
      "text/plain": [
       "<Figure size 432x288 with 1 Axes>"
      ]
     },
     "metadata": {},
     "output_type": "display_data"
    }
   ],
   "source": [
    "# Number of churned customers\n",
    "\n",
    "color = ['green', 'red']\n",
    "\n",
    "df['Churn'].value_counts().plot(kind='bar', alpha=0.6, color=color, edgecolor='black')\n",
    "\n",
    "plt.title('Churned v/s non-churned customer count \\n (Training & Validation Set)', size=15, fontweight='bold')\n",
    "plt.ylabel('Customer Count')\n",
    "plt.xlabel('Churn Indicator')\n",
    "\n",
    "plt.margins(0.3)\n",
    "\n",
    "for x,y in enumerate(df['Churn'].value_counts()):\n",
    "\n",
    "    label = \"{:.0f}\".format(y)\n",
    "\n",
    "    plt.annotate(label\n",
    "                 ,(x,y)\n",
    "                 ,textcoords=\"offset points\"\n",
    "                 ,xytext=(0,10)\n",
    "                 ,ha='center'\n",
    "                ) \n",
    "plt.show()"
   ]
  },
  {
   "cell_type": "code",
   "execution_count": 17,
   "metadata": {},
   "outputs": [
    {
     "data": {
      "text/html": [
       "<div>\n",
       "<style scoped>\n",
       "    .dataframe tbody tr th:only-of-type {\n",
       "        vertical-align: middle;\n",
       "    }\n",
       "\n",
       "    .dataframe tbody tr th {\n",
       "        vertical-align: top;\n",
       "    }\n",
       "\n",
       "    .dataframe thead th {\n",
       "        text-align: right;\n",
       "    }\n",
       "</style>\n",
       "<table border=\"1\" class=\"dataframe\">\n",
       "  <thead>\n",
       "    <tr style=\"text-align: right;\">\n",
       "      <th></th>\n",
       "      <th>CustServ_Calls</th>\n",
       "      <th>Vmail_Message</th>\n",
       "    </tr>\n",
       "    <tr>\n",
       "      <th>Churn</th>\n",
       "      <th></th>\n",
       "      <th></th>\n",
       "    </tr>\n",
       "  </thead>\n",
       "  <tbody>\n",
       "    <tr>\n",
       "      <td>no</td>\n",
       "      <td>1.475066</td>\n",
       "      <td>8.552493</td>\n",
       "    </tr>\n",
       "    <tr>\n",
       "      <td>yes</td>\n",
       "      <td>2.210526</td>\n",
       "      <td>4.786842</td>\n",
       "    </tr>\n",
       "  </tbody>\n",
       "</table>\n",
       "</div>"
      ],
      "text/plain": [
       "       CustServ_Calls  Vmail_Message\n",
       "Churn                               \n",
       "no           1.475066       8.552493\n",
       "yes          2.210526       4.786842"
      ]
     },
     "execution_count": 17,
     "metadata": {},
     "output_type": "execute_result"
    }
   ],
   "source": [
    "df.groupby('Churn')[['CustServ_Calls', 'Vmail_Message']].mean()"
   ]
  },
  {
   "cell_type": "code",
   "execution_count": 18,
   "metadata": {},
   "outputs": [
    {
     "data": {
      "text/plain": [
       "<matplotlib.axes._subplots.AxesSubplot at 0x7ff27ab1cd90>"
      ]
     },
     "execution_count": 18,
     "metadata": {},
     "output_type": "execute_result"
    },
    {
     "data": {
      "image/png": "[encoded data removed]",
      "text/plain": [
       "<Figure size 432x288 with 1 Axes>"
      ]
     },
     "metadata": {},
     "output_type": "display_data"
    }
   ],
   "source": [
    "# Analyzing churned v/s non-churned customer differences\n",
    "\n",
    "df.groupby('Churn')[['CustServ_Calls', 'Vmail_Message']].mean().plot(kind='bar')"
   ]
  },
  {
   "cell_type": "code",
   "execution_count": 19,
   "metadata": {},
   "outputs": [
    {
     "data": {
      "text/html": [
       "<div>\n",
       "<style scoped>\n",
       "    .dataframe tbody tr th:only-of-type {\n",
       "        vertical-align: middle;\n",
       "    }\n",
       "\n",
       "    .dataframe tbody tr th {\n",
       "        vertical-align: top;\n",
       "    }\n",
       "\n",
       "    .dataframe thead th {\n",
       "        text-align: right;\n",
       "    }\n",
       "</style>\n",
       "<table border=\"1\" class=\"dataframe\">\n",
       "  <thead>\n",
       "    <tr style=\"text-align: right;\">\n",
       "      <th></th>\n",
       "      <th>CustServ_Calls</th>\n",
       "      <th>Vmail_Message</th>\n",
       "    </tr>\n",
       "    <tr>\n",
       "      <th>Churn</th>\n",
       "      <th></th>\n",
       "      <th></th>\n",
       "    </tr>\n",
       "  </thead>\n",
       "  <tbody>\n",
       "    <tr>\n",
       "      <td>no</td>\n",
       "      <td>1.185263</td>\n",
       "      <td>13.872965</td>\n",
       "    </tr>\n",
       "    <tr>\n",
       "      <td>yes</td>\n",
       "      <td>1.832827</td>\n",
       "      <td>11.540194</td>\n",
       "    </tr>\n",
       "  </tbody>\n",
       "</table>\n",
       "</div>"
      ],
      "text/plain": [
       "       CustServ_Calls  Vmail_Message\n",
       "Churn                               \n",
       "no           1.185263      13.872965\n",
       "yes          1.832827      11.540194"
      ]
     },
     "execution_count": 19,
     "metadata": {},
     "output_type": "execute_result"
    }
   ],
   "source": [
    "df.groupby('Churn')[['CustServ_Calls', 'Vmail_Message']].std()"
   ]
  },
  {
   "cell_type": "code",
   "execution_count": 20,
   "metadata": {},
   "outputs": [],
   "source": [
    "# TO DO - make it mardown \n",
    "\n",
    "\n",
    "\n",
    "\n",
    "# Insights\n",
    "    # It can be seen above that Churners place more customer \n",
    "    # service calls than non-churners, and leave fewer voice\n",
    "    # mail messages."
   ]
  },
  {
   "cell_type": "code",
   "execution_count": 21,
   "metadata": {},
   "outputs": [
    {
     "data": {
      "text/plain": [
       "State  Churn\n",
       "AL     no       52\n",
       "       yes       6\n",
       "CA     no       18\n",
       "       yes       8\n",
       "CO     no       43\n",
       "       yes       6\n",
       "Name: Churn, dtype: int64"
      ]
     },
     "execution_count": 21,
     "metadata": {},
     "output_type": "execute_result"
    }
   ],
   "source": [
    "# Veiwing churners and non-churners by state\n",
    "\n",
    "df.groupby('State')['Churn'].value_counts()[['AL','CA','CO']]"
   ]
  },
  {
   "cell_type": "code",
   "execution_count": 22,
   "metadata": {},
   "outputs": [
    {
     "data": {
      "text/plain": [
       "<matplotlib.axes._subplots.AxesSubplot at 0x7ff27acae290>"
      ]
     },
     "execution_count": 22,
     "metadata": {},
     "output_type": "execute_result"
    },
    {
     "data": {
      "image/png": "[encoded data removed]",
      "text/plain": [
       "<Figure size 432x288 with 1 Axes>"
      ]
     },
     "metadata": {},
     "output_type": "display_data"
    }
   ],
   "source": [
    "# TO DO - multiple bar to see churn and non-churn across different states\n",
    "\n",
    "\n",
    "\n",
    "\n",
    "\n",
    "df.groupby('State')['Churn'].value_counts().plot(kind='bar')"
   ]
  },
  {
   "cell_type": "code",
   "execution_count": 23,
   "metadata": {},
   "outputs": [
    {
     "data": {
      "image/png": "[encoded data removed]",
      "text/plain": [
       "<Figure size 432x288 with 1 Axes>"
      ]
     },
     "metadata": {},
     "output_type": "display_data"
    }
   ],
   "source": [
    "# Distribution of \"Account_Length\" feature\n",
    "\n",
    "# plt.hist(df['Account_Length'], bins=25)\n",
    "sns.distplot(df['Account_Length'])\n",
    "plt.show()"
   ]
  },
  {
   "cell_type": "code",
   "execution_count": 24,
   "metadata": {},
   "outputs": [],
   "source": [
    "# Insights\n",
    "    # Illustrates the duration that a customer stays with the provider\n",
    "    # is normally distribution (as what to expect in the real world)"
   ]
  },
  {
   "cell_type": "code",
   "execution_count": 25,
   "metadata": {},
   "outputs": [
    {
     "data": {
      "image/png": "[encoded data removed]",
      "text/plain": [
       "<Figure size 432x288 with 1 Axes>"
      ]
     },
     "metadata": {},
     "output_type": "display_data"
    }
   ],
   "source": [
    "# Examining differences between churners and non-churners\n",
    "# w.r.t their account lengths\n",
    "\n",
    "sns.boxplot(x='Churn', \n",
    "            y='Account_Length', \n",
    "            data=df)\n",
    "\n",
    "plt.title('Differences in Account Lengths', size=13)\n",
    "plt.show()"
   ]
  },
  {
   "cell_type": "code",
   "execution_count": 26,
   "metadata": {},
   "outputs": [],
   "source": [
    "# There are no notable differences in account lengths for\n",
    "# churners v/s non-churners"
   ]
  },
  {
   "cell_type": "code",
   "execution_count": 27,
   "metadata": {},
   "outputs": [
    {
     "data": {
      "image/png": "[encoded data removed]",
      "text/plain": [
       "<Figure size 432x288 with 1 Axes>"
      ]
     },
     "metadata": {},
     "output_type": "display_data"
    }
   ],
   "source": [
    "# Checking if having an international plan matters\n",
    "\n",
    "sns.boxplot(x='Churn', \n",
    "            y='Account_Length', \n",
    "            data=df,\n",
    "            hue='Intl_Plan')\n",
    "\n",
    "plt.title('Differences in Account Lengths', size=13)\n",
    "plt.show()"
   ]
  },
  {
   "cell_type": "code",
   "execution_count": 28,
   "metadata": {},
   "outputs": [],
   "source": [
    "# Insights\n",
    "    # No noticeable difference amoung customers with or\n",
    "    # without an international plan"
   ]
  },
  {
   "cell_type": "code",
   "execution_count": 29,
   "metadata": {},
   "outputs": [
    {
     "name": "stderr",
     "output_type": "stream",
     "text": [
      "/opt/anaconda3/lib/python3.7/site-packages/pandas/plotting/_matplotlib/tools.py:307: MatplotlibDeprecationWarning: \n",
      "The rowNum attribute was deprecated in Matplotlib 3.2 and will be removed two minor releases later. Use ax.get_subplotspec().rowspan.start instead.\n",
      "  layout[ax.rowNum, ax.colNum] = ax.get_visible()\n",
      "/opt/anaconda3/lib/python3.7/site-packages/pandas/plotting/_matplotlib/tools.py:307: MatplotlibDeprecationWarning: \n",
      "The colNum attribute was deprecated in Matplotlib 3.2 and will be removed two minor releases later. Use ax.get_subplotspec().colspan.start instead.\n",
      "  layout[ax.rowNum, ax.colNum] = ax.get_visible()\n",
      "/opt/anaconda3/lib/python3.7/site-packages/pandas/plotting/_matplotlib/tools.py:313: MatplotlibDeprecationWarning: \n",
      "The rowNum attribute was deprecated in Matplotlib 3.2 and will be removed two minor releases later. Use ax.get_subplotspec().rowspan.start instead.\n",
      "  if not layout[ax.rowNum + 1, ax.colNum]:\n",
      "/opt/anaconda3/lib/python3.7/site-packages/pandas/plotting/_matplotlib/tools.py:313: MatplotlibDeprecationWarning: \n",
      "The colNum attribute was deprecated in Matplotlib 3.2 and will be removed two minor releases later. Use ax.get_subplotspec().colspan.start instead.\n",
      "  if not layout[ax.rowNum + 1, ax.colNum]:\n"
     ]
    },
    {
     "data": {
      "image/png": "[encoded data removed]",
      "text/plain": [
       "<Figure size 1080x720 with 6 Axes>"
      ]
     },
     "metadata": {},
     "output_type": "display_data"
    }
   ],
   "source": [
    "# Checking distribution of select features\n",
    "\n",
    "df[['Account_Length', 'Day_Mins', 'Eve_Mins', 'Night_Mins', 'Intl_Mins']].hist(bins=25, figsize=(15,10))\n",
    "plt.show()"
   ]
  },
  {
   "cell_type": "code",
   "execution_count": 30,
   "metadata": {},
   "outputs": [
    {
     "data": {
      "image/png": "[encoded data removed]",
      "text/plain": [
       "<Figure size 432x288 with 1 Axes>"
      ]
     },
     "metadata": {},
     "output_type": "display_data"
    }
   ],
   "source": [
    "# Churn difference based on Customer Service Calls placed\n",
    "\n",
    "sns.boxplot(x = 'Churn',\n",
    "            y = 'CustServ_Calls',\n",
    "            data = df)\n",
    "\n",
    "plt.title('Churners v/s Non-Churners based on Customer Services Calls')\n",
    "plt.show()"
   ]
  },
  {
   "cell_type": "code",
   "execution_count": 31,
   "metadata": {},
   "outputs": [
    {
     "data": {
      "image/png": "[encoded data removed]",
      "text/plain": [
       "<Figure size 432x288 with 1 Axes>"
      ]
     },
     "metadata": {},
     "output_type": "display_data"
    },
    {
     "data": {
      "image/png": "[encoded data removed]",
      "text/plain": [
       "<Figure size 432x288 with 1 Axes>"
      ]
     },
     "metadata": {},
     "output_type": "display_data"
    }
   ],
   "source": [
    "features = ['Account_Length', 'CustServ_Calls'] \n",
    "\n",
    "for feature in features:\n",
    "    fig, axs = plt.subplots()\n",
    "    fig = sns.boxplot(x = 'Churn',\n",
    "                      y = feature,\n",
    "                      data = df)\n",
    "    plt.title('Churners v/s Non-Churners based on {}'.format(feature))\n",
    "\n",
    "plt.show()"
   ]
  },
  {
   "cell_type": "code",
   "execution_count": 32,
   "metadata": {},
   "outputs": [
    {
     "data": {
      "image/png": "[encoded data removed]",
      "text/plain": [
       "<Figure size 432x288 with 1 Axes>"
      ]
     },
     "metadata": {},
     "output_type": "display_data"
    }
   ],
   "source": [
    "# Churn difference based on Customer Service Calls placed\n",
    "# and being on an International Plan\n",
    "\n",
    "sns.boxplot(x = 'Churn',\n",
    "            y = 'CustServ_Calls',\n",
    "            data = df,\n",
    "            sym='', # removing outliers from plot\n",
    "            hue='Intl_Plan') \n",
    "\n",
    "plt.title('Churners v/s Non-Churners based on Customer Services Calls & Intl Plan')\n",
    "plt.show()"
   ]
  },
  {
   "cell_type": "code",
   "execution_count": 33,
   "metadata": {},
   "outputs": [],
   "source": [
    "# Insights:\n",
    "    # Customers who leave more customer service calls churn more\n",
    "    # unless they also have an international plan"
   ]
  },
  {
   "cell_type": "code",
   "execution_count": 34,
   "metadata": {},
   "outputs": [
    {
     "data": {
      "image/png": "[encoded data removed]",
      "text/plain": [
       "<Figure size 720x432 with 2 Axes>"
      ]
     },
     "metadata": {},
     "output_type": "display_data"
    }
   ],
   "source": [
    "plt.figure(figsize=(10,6))\n",
    "mask = np.zeros_like(df.corr())\n",
    "mask[np.triu_indices_from(mask)] = 1\n",
    "sns.heatmap(df.corr(), mask= mask, linewidth=0.7, cmap='RdYlGn') \n",
    "plt.show()"
   ]
  },
  {
   "cell_type": "code",
   "execution_count": 35,
   "metadata": {},
   "outputs": [],
   "source": [
    "# Since charges and mins are strongly correlated, we can either remove\n",
    "# one of them, or feature engineer them to create 4 new charges_min\n",
    "# and drop the charges and min columns subsequently."
   ]
  },
  {
   "cell_type": "markdown",
   "metadata": {},
   "source": [
    "---"
   ]
  },
  {
   "cell_type": "markdown",
   "metadata": {},
   "source": [
    "<p><a name=\"prep\"></a></p>\n",
    "\n",
    "## Data Preprocessing\n",
    "\n",
    "- Check missing values\n",
    "- Checking distribution of features\n",
    "- Encoding Categorical variables\n",
    "- Feature Scaling via Standardization\n",
    "- Feature Selection and Engineering"
   ]
  },
  {
   "cell_type": "markdown",
   "metadata": {},
   "source": [
    "### Missing Values"
   ]
  },
  {
   "cell_type": "code",
   "execution_count": 36,
   "metadata": {},
   "outputs": [
    {
     "data": {
      "text/plain": [
       "Series([], dtype: int64)"
      ]
     },
     "execution_count": 36,
     "metadata": {},
     "output_type": "execute_result"
    }
   ],
   "source": [
    "# Missing values check\n",
    "\n",
    "missing = df.isnull().sum()\n",
    "missing[missing > 0]"
   ]
  },
  {
   "cell_type": "code",
   "execution_count": 37,
   "metadata": {},
   "outputs": [
    {
     "name": "stdout",
     "output_type": "stream",
     "text": [
      "<class 'pandas.core.frame.DataFrame'>\n",
      "Int64Index: 2666 entries, 2032 to 399\n",
      "Data columns (total 21 columns):\n",
      "Account_Length    2666 non-null int64\n",
      "Vmail_Message     2666 non-null int64\n",
      "Day_Mins          2666 non-null float64\n",
      "Eve_Mins          2666 non-null float64\n",
      "Night_Mins        2666 non-null float64\n",
      "Intl_Mins         2666 non-null float64\n",
      "CustServ_Calls    2666 non-null int64\n",
      "Intl_Plan         2666 non-null object\n",
      "Vmail_Plan        2666 non-null object\n",
      "Day_Calls         2666 non-null int64\n",
      "Day_Charge        2666 non-null float64\n",
      "Eve_Calls         2666 non-null int64\n",
      "Eve_Charge        2666 non-null float64\n",
      "Night_Calls       2666 non-null int64\n",
      "Night_Charge      2666 non-null float64\n",
      "Intl_Calls        2666 non-null int64\n",
      "Intl_Charge       2666 non-null float64\n",
      "State             2666 non-null object\n",
      "Area_Code         2666 non-null int64\n",
      "Phone             2666 non-null object\n",
      "Churn             2666 non-null object\n",
      "dtypes: float64(8), int64(8), object(5)\n",
      "memory usage: 538.2+ KB\n"
     ]
    }
   ],
   "source": [
    "# Examining data types \n",
    "\n",
    "# df.dtypes\n",
    "df.info()"
   ]
  },
  {
   "cell_type": "code",
   "execution_count": 38,
   "metadata": {},
   "outputs": [
    {
     "data": {
      "text/plain": [
       "Account_Length     209\n",
       "Vmail_Message       44\n",
       "Day_Mins          1503\n",
       "Eve_Mins          1449\n",
       "Night_Mins        1433\n",
       "Intl_Mins          157\n",
       "CustServ_Calls      10\n",
       "Intl_Plan            2\n",
       "Vmail_Plan           2\n",
       "Day_Calls          116\n",
       "Day_Charge        1503\n",
       "Eve_Calls          117\n",
       "Eve_Charge        1303\n",
       "Night_Calls        118\n",
       "Night_Charge       884\n",
       "Intl_Calls          21\n",
       "Intl_Charge        157\n",
       "State               51\n",
       "Area_Code            3\n",
       "Phone             2666\n",
       "Churn                2\n",
       "dtype: int64"
      ]
     },
     "execution_count": 38,
     "metadata": {},
     "output_type": "execute_result"
    }
   ],
   "source": [
    "#@ Unique values per column. \n",
    "#@@@@ use this to form continuous and discrete numerical variables\n",
    "\n",
    "df.nunique()"
   ]
  },
  {
   "cell_type": "code",
   "execution_count": 39,
   "metadata": {},
   "outputs": [],
   "source": [
    "# Forming list of columns that are numerical and categorical\n",
    "\n",
    "features_num = X_train_val.select_dtypes(include=['int64', 'float64']).columns\n",
    "features_cat = X_train_val.select_dtypes(include=['object']).columns"
   ]
  },
  {
   "cell_type": "code",
   "execution_count": 40,
   "metadata": {},
   "outputs": [
    {
     "name": "stdout",
     "output_type": "stream",
     "text": [
      "Index(['Account_Length', 'Vmail_Message', 'Day_Mins', 'Eve_Mins', 'Night_Mins',\n",
      "       'Intl_Mins', 'CustServ_Calls', 'Day_Calls', 'Day_Charge', 'Eve_Calls',\n",
      "       'Eve_Charge', 'Night_Calls', 'Night_Charge', 'Intl_Calls',\n",
      "       'Intl_Charge', 'Area_Code'],\n",
      "      dtype='object')\n",
      "--------------------------------------------------------------------------------\n",
      "Index(['Intl_Plan', 'Vmail_Plan', 'State', 'Phone'], dtype='object')\n"
     ]
    }
   ],
   "source": [
    "print(features_num)\n",
    "print('-'*80)\n",
    "print(features_cat)"
   ]
  },
  {
   "cell_type": "code",
   "execution_count": 41,
   "metadata": {
    "scrolled": false
   },
   "outputs": [
    {
     "data": {
      "text/html": [
       "<div>\n",
       "<style scoped>\n",
       "    .dataframe tbody tr th:only-of-type {\n",
       "        vertical-align: middle;\n",
       "    }\n",
       "\n",
       "    .dataframe tbody tr th {\n",
       "        vertical-align: top;\n",
       "    }\n",
       "\n",
       "    .dataframe thead th {\n",
       "        text-align: right;\n",
       "    }\n",
       "</style>\n",
       "<table border=\"1\" class=\"dataframe\">\n",
       "  <thead>\n",
       "    <tr style=\"text-align: right;\">\n",
       "      <th></th>\n",
       "      <th>Account_Length</th>\n",
       "      <th>Vmail_Message</th>\n",
       "      <th>Day_Mins</th>\n",
       "      <th>Eve_Mins</th>\n",
       "      <th>Night_Mins</th>\n",
       "      <th>Intl_Mins</th>\n",
       "      <th>CustServ_Calls</th>\n",
       "      <th>Day_Calls</th>\n",
       "      <th>Day_Charge</th>\n",
       "      <th>Eve_Calls</th>\n",
       "      <th>Eve_Charge</th>\n",
       "      <th>Night_Calls</th>\n",
       "      <th>Night_Charge</th>\n",
       "      <th>Intl_Calls</th>\n",
       "      <th>Intl_Charge</th>\n",
       "      <th>Area_Code</th>\n",
       "    </tr>\n",
       "  </thead>\n",
       "  <tbody>\n",
       "    <tr>\n",
       "      <td>2032</td>\n",
       "      <td>151</td>\n",
       "      <td>0</td>\n",
       "      <td>118.9</td>\n",
       "      <td>278.3</td>\n",
       "      <td>194.8</td>\n",
       "      <td>13.2</td>\n",
       "      <td>2</td>\n",
       "      <td>128</td>\n",
       "      <td>20.21</td>\n",
       "      <td>65</td>\n",
       "      <td>23.66</td>\n",
       "      <td>61</td>\n",
       "      <td>8.77</td>\n",
       "      <td>10</td>\n",
       "      <td>3.56</td>\n",
       "      <td>415</td>\n",
       "    </tr>\n",
       "    <tr>\n",
       "      <td>1889</td>\n",
       "      <td>91</td>\n",
       "      <td>0</td>\n",
       "      <td>153.0</td>\n",
       "      <td>141.1</td>\n",
       "      <td>171.5</td>\n",
       "      <td>10.3</td>\n",
       "      <td>1</td>\n",
       "      <td>123</td>\n",
       "      <td>26.01</td>\n",
       "      <td>127</td>\n",
       "      <td>11.99</td>\n",
       "      <td>76</td>\n",
       "      <td>7.72</td>\n",
       "      <td>15</td>\n",
       "      <td>2.78</td>\n",
       "      <td>415</td>\n",
       "    </tr>\n",
       "    <tr>\n",
       "      <td>2202</td>\n",
       "      <td>112</td>\n",
       "      <td>16</td>\n",
       "      <td>200.3</td>\n",
       "      <td>197.8</td>\n",
       "      <td>151.1</td>\n",
       "      <td>10.4</td>\n",
       "      <td>1</td>\n",
       "      <td>72</td>\n",
       "      <td>34.05</td>\n",
       "      <td>91</td>\n",
       "      <td>16.81</td>\n",
       "      <td>92</td>\n",
       "      <td>6.80</td>\n",
       "      <td>3</td>\n",
       "      <td>2.81</td>\n",
       "      <td>415</td>\n",
       "    </tr>\n",
       "    <tr>\n",
       "      <td>3193</td>\n",
       "      <td>88</td>\n",
       "      <td>0</td>\n",
       "      <td>113.7</td>\n",
       "      <td>165.1</td>\n",
       "      <td>141.5</td>\n",
       "      <td>10.8</td>\n",
       "      <td>1</td>\n",
       "      <td>67</td>\n",
       "      <td>19.33</td>\n",
       "      <td>127</td>\n",
       "      <td>14.03</td>\n",
       "      <td>142</td>\n",
       "      <td>6.37</td>\n",
       "      <td>3</td>\n",
       "      <td>2.92</td>\n",
       "      <td>415</td>\n",
       "    </tr>\n",
       "    <tr>\n",
       "      <td>2954</td>\n",
       "      <td>57</td>\n",
       "      <td>0</td>\n",
       "      <td>161.0</td>\n",
       "      <td>208.0</td>\n",
       "      <td>208.1</td>\n",
       "      <td>8.4</td>\n",
       "      <td>3</td>\n",
       "      <td>113</td>\n",
       "      <td>27.37</td>\n",
       "      <td>134</td>\n",
       "      <td>17.68</td>\n",
       "      <td>81</td>\n",
       "      <td>9.36</td>\n",
       "      <td>4</td>\n",
       "      <td>2.27</td>\n",
       "      <td>415</td>\n",
       "    </tr>\n",
       "    <tr>\n",
       "      <td>...</td>\n",
       "      <td>...</td>\n",
       "      <td>...</td>\n",
       "      <td>...</td>\n",
       "      <td>...</td>\n",
       "      <td>...</td>\n",
       "      <td>...</td>\n",
       "      <td>...</td>\n",
       "      <td>...</td>\n",
       "      <td>...</td>\n",
       "      <td>...</td>\n",
       "      <td>...</td>\n",
       "      <td>...</td>\n",
       "      <td>...</td>\n",
       "      <td>...</td>\n",
       "      <td>...</td>\n",
       "      <td>...</td>\n",
       "    </tr>\n",
       "    <tr>\n",
       "      <td>2978</td>\n",
       "      <td>83</td>\n",
       "      <td>0</td>\n",
       "      <td>208.9</td>\n",
       "      <td>214.8</td>\n",
       "      <td>247.9</td>\n",
       "      <td>13.0</td>\n",
       "      <td>1</td>\n",
       "      <td>71</td>\n",
       "      <td>35.51</td>\n",
       "      <td>92</td>\n",
       "      <td>18.26</td>\n",
       "      <td>108</td>\n",
       "      <td>11.16</td>\n",
       "      <td>5</td>\n",
       "      <td>3.51</td>\n",
       "      <td>510</td>\n",
       "    </tr>\n",
       "    <tr>\n",
       "      <td>3178</td>\n",
       "      <td>91</td>\n",
       "      <td>0</td>\n",
       "      <td>190.5</td>\n",
       "      <td>205.5</td>\n",
       "      <td>130.7</td>\n",
       "      <td>13.8</td>\n",
       "      <td>0</td>\n",
       "      <td>128</td>\n",
       "      <td>32.39</td>\n",
       "      <td>103</td>\n",
       "      <td>17.47</td>\n",
       "      <td>63</td>\n",
       "      <td>5.88</td>\n",
       "      <td>5</td>\n",
       "      <td>3.73</td>\n",
       "      <td>415</td>\n",
       "    </tr>\n",
       "    <tr>\n",
       "      <td>294</td>\n",
       "      <td>96</td>\n",
       "      <td>18</td>\n",
       "      <td>172.7</td>\n",
       "      <td>133.4</td>\n",
       "      <td>259.5</td>\n",
       "      <td>9.8</td>\n",
       "      <td>1</td>\n",
       "      <td>86</td>\n",
       "      <td>29.36</td>\n",
       "      <td>113</td>\n",
       "      <td>11.34</td>\n",
       "      <td>70</td>\n",
       "      <td>11.68</td>\n",
       "      <td>3</td>\n",
       "      <td>2.65</td>\n",
       "      <td>510</td>\n",
       "    </tr>\n",
       "    <tr>\n",
       "      <td>1836</td>\n",
       "      <td>112</td>\n",
       "      <td>17</td>\n",
       "      <td>183.2</td>\n",
       "      <td>252.8</td>\n",
       "      <td>156.7</td>\n",
       "      <td>9.7</td>\n",
       "      <td>0</td>\n",
       "      <td>95</td>\n",
       "      <td>31.14</td>\n",
       "      <td>125</td>\n",
       "      <td>21.49</td>\n",
       "      <td>95</td>\n",
       "      <td>7.05</td>\n",
       "      <td>3</td>\n",
       "      <td>2.62</td>\n",
       "      <td>415</td>\n",
       "    </tr>\n",
       "    <tr>\n",
       "      <td>399</td>\n",
       "      <td>66</td>\n",
       "      <td>0</td>\n",
       "      <td>167.3</td>\n",
       "      <td>230.0</td>\n",
       "      <td>191.7</td>\n",
       "      <td>10.6</td>\n",
       "      <td>1</td>\n",
       "      <td>91</td>\n",
       "      <td>28.44</td>\n",
       "      <td>68</td>\n",
       "      <td>19.55</td>\n",
       "      <td>118</td>\n",
       "      <td>8.63</td>\n",
       "      <td>5</td>\n",
       "      <td>2.86</td>\n",
       "      <td>415</td>\n",
       "    </tr>\n",
       "  </tbody>\n",
       "</table>\n",
       "<p>2666 rows × 16 columns</p>\n",
       "</div>"
      ],
      "text/plain": [
       "      Account_Length  Vmail_Message  Day_Mins  Eve_Mins  Night_Mins  \\\n",
       "2032             151              0     118.9     278.3       194.8   \n",
       "1889              91              0     153.0     141.1       171.5   \n",
       "2202             112             16     200.3     197.8       151.1   \n",
       "3193              88              0     113.7     165.1       141.5   \n",
       "2954              57              0     161.0     208.0       208.1   \n",
       "...              ...            ...       ...       ...         ...   \n",
       "2978              83              0     208.9     214.8       247.9   \n",
       "3178              91              0     190.5     205.5       130.7   \n",
       "294               96             18     172.7     133.4       259.5   \n",
       "1836             112             17     183.2     252.8       156.7   \n",
       "399               66              0     167.3     230.0       191.7   \n",
       "\n",
       "      Intl_Mins  CustServ_Calls  Day_Calls  Day_Charge  Eve_Calls  Eve_Charge  \\\n",
       "2032       13.2               2        128       20.21         65       23.66   \n",
       "1889       10.3               1        123       26.01        127       11.99   \n",
       "2202       10.4               1         72       34.05         91       16.81   \n",
       "3193       10.8               1         67       19.33        127       14.03   \n",
       "2954        8.4               3        113       27.37        134       17.68   \n",
       "...         ...             ...        ...         ...        ...         ...   \n",
       "2978       13.0               1         71       35.51         92       18.26   \n",
       "3178       13.8               0        128       32.39        103       17.47   \n",
       "294         9.8               1         86       29.36        113       11.34   \n",
       "1836        9.7               0         95       31.14        125       21.49   \n",
       "399        10.6               1         91       28.44         68       19.55   \n",
       "\n",
       "      Night_Calls  Night_Charge  Intl_Calls  Intl_Charge  Area_Code  \n",
       "2032           61          8.77          10         3.56        415  \n",
       "1889           76          7.72          15         2.78        415  \n",
       "2202           92          6.80           3         2.81        415  \n",
       "3193          142          6.37           3         2.92        415  \n",
       "2954           81          9.36           4         2.27        415  \n",
       "...           ...           ...         ...          ...        ...  \n",
       "2978          108         11.16           5         3.51        510  \n",
       "3178           63          5.88           5         3.73        415  \n",
       "294            70         11.68           3         2.65        510  \n",
       "1836           95          7.05           3         2.62        415  \n",
       "399           118          8.63           5         2.86        415  \n",
       "\n",
       "[2666 rows x 16 columns]"
      ]
     },
     "execution_count": 41,
     "metadata": {},
     "output_type": "execute_result"
    }
   ],
   "source": [
    "X_train_val[features_num]"
   ]
  },
  {
   "cell_type": "code",
   "execution_count": 42,
   "metadata": {},
   "outputs": [
    {
     "data": {
      "text/html": [
       "<div>\n",
       "<style scoped>\n",
       "    .dataframe tbody tr th:only-of-type {\n",
       "        vertical-align: middle;\n",
       "    }\n",
       "\n",
       "    .dataframe tbody tr th {\n",
       "        vertical-align: top;\n",
       "    }\n",
       "\n",
       "    .dataframe thead th {\n",
       "        text-align: right;\n",
       "    }\n",
       "</style>\n",
       "<table border=\"1\" class=\"dataframe\">\n",
       "  <thead>\n",
       "    <tr style=\"text-align: right;\">\n",
       "      <th></th>\n",
       "      <th>Intl_Plan</th>\n",
       "      <th>Vmail_Plan</th>\n",
       "      <th>State</th>\n",
       "      <th>Phone</th>\n",
       "    </tr>\n",
       "  </thead>\n",
       "  <tbody>\n",
       "    <tr>\n",
       "      <td>2032</td>\n",
       "      <td>no</td>\n",
       "      <td>no</td>\n",
       "      <td>NJ</td>\n",
       "      <td>399-3840</td>\n",
       "    </tr>\n",
       "    <tr>\n",
       "      <td>1889</td>\n",
       "      <td>no</td>\n",
       "      <td>no</td>\n",
       "      <td>SD</td>\n",
       "      <td>357-5696</td>\n",
       "    </tr>\n",
       "    <tr>\n",
       "      <td>2202</td>\n",
       "      <td>yes</td>\n",
       "      <td>yes</td>\n",
       "      <td>NE</td>\n",
       "      <td>351-2928</td>\n",
       "    </tr>\n",
       "    <tr>\n",
       "      <td>3193</td>\n",
       "      <td>no</td>\n",
       "      <td>no</td>\n",
       "      <td>IA</td>\n",
       "      <td>410-2015</td>\n",
       "    </tr>\n",
       "    <tr>\n",
       "      <td>2954</td>\n",
       "      <td>no</td>\n",
       "      <td>no</td>\n",
       "      <td>TX</td>\n",
       "      <td>403-6225</td>\n",
       "    </tr>\n",
       "    <tr>\n",
       "      <td>...</td>\n",
       "      <td>...</td>\n",
       "      <td>...</td>\n",
       "      <td>...</td>\n",
       "      <td>...</td>\n",
       "    </tr>\n",
       "    <tr>\n",
       "      <td>2978</td>\n",
       "      <td>no</td>\n",
       "      <td>no</td>\n",
       "      <td>UT</td>\n",
       "      <td>386-6114</td>\n",
       "    </tr>\n",
       "    <tr>\n",
       "      <td>3178</td>\n",
       "      <td>no</td>\n",
       "      <td>no</td>\n",
       "      <td>LA</td>\n",
       "      <td>382-6153</td>\n",
       "    </tr>\n",
       "    <tr>\n",
       "      <td>294</td>\n",
       "      <td>no</td>\n",
       "      <td>yes</td>\n",
       "      <td>WI</td>\n",
       "      <td>343-2605</td>\n",
       "    </tr>\n",
       "    <tr>\n",
       "      <td>1836</td>\n",
       "      <td>no</td>\n",
       "      <td>yes</td>\n",
       "      <td>MA</td>\n",
       "      <td>358-7379</td>\n",
       "    </tr>\n",
       "    <tr>\n",
       "      <td>399</td>\n",
       "      <td>no</td>\n",
       "      <td>no</td>\n",
       "      <td>DC</td>\n",
       "      <td>402-5155</td>\n",
       "    </tr>\n",
       "  </tbody>\n",
       "</table>\n",
       "<p>2666 rows × 4 columns</p>\n",
       "</div>"
      ],
      "text/plain": [
       "     Intl_Plan Vmail_Plan State     Phone\n",
       "2032        no         no    NJ  399-3840\n",
       "1889        no         no    SD  357-5696\n",
       "2202       yes        yes    NE  351-2928\n",
       "3193        no         no    IA  410-2015\n",
       "2954        no         no    TX  403-6225\n",
       "...        ...        ...   ...       ...\n",
       "2978        no         no    UT  386-6114\n",
       "3178        no         no    LA  382-6153\n",
       "294         no        yes    WI  343-2605\n",
       "1836        no        yes    MA  358-7379\n",
       "399         no         no    DC  402-5155\n",
       "\n",
       "[2666 rows x 4 columns]"
      ]
     },
     "execution_count": 42,
     "metadata": {},
     "output_type": "execute_result"
    }
   ],
   "source": [
    "X_train_val[features_cat]"
   ]
  },
  {
   "cell_type": "code",
   "execution_count": 43,
   "metadata": {},
   "outputs": [
    {
     "data": {
      "image/png": "[encoded data removed]",
      "text/plain": [
       "<Figure size 432x288 with 1 Axes>"
      ]
     },
     "metadata": {},
     "output_type": "display_data"
    }
   ],
   "source": [
    "# Examining feature: 'Vmail_Message'\n",
    "\n",
    "plt.hist(X_train_val['Vmail_Message'])\n",
    "\n",
    "plt.title('Distribution of \\'Vmail_Message\\'')\n",
    "plt.show()"
   ]
  },
  {
   "cell_type": "markdown",
   "metadata": {},
   "source": [
    "**Insights**\n",
    "- Since this feature has 0 as the most frequent value for most observations, I'll make this a candidate for a binary column (to be done in feature engineering)"
   ]
  },
  {
   "cell_type": "code",
   "execution_count": 44,
   "metadata": {},
   "outputs": [
    {
     "data": {
      "image/png": "[encoded data removed]",
      "text/plain": [
       "<Figure size 432x288 with 1 Axes>"
      ]
     },
     "metadata": {},
     "output_type": "display_data"
    }
   ],
   "source": [
    "plt.hist(X_train_val['CustServ_Calls'])\n",
    "\n",
    "plt.title('Distribution of \\'CustServ_Calls\\'')\n",
    "plt.show()"
   ]
  },
  {
   "cell_type": "markdown",
   "metadata": {},
   "source": [
    "### Encoding Target"
   ]
  },
  {
   "cell_type": "code",
   "execution_count": 45,
   "metadata": {},
   "outputs": [],
   "source": [
    "# Instantiate Label Encoder for \"Churn\"\n",
    "\n",
    "le = LabelEncoder()"
   ]
  },
  {
   "cell_type": "code",
   "execution_count": 46,
   "metadata": {},
   "outputs": [],
   "source": [
    "y_train_val = le.fit_transform(y_train_val)"
   ]
  },
  {
   "cell_type": "code",
   "execution_count": 47,
   "metadata": {},
   "outputs": [
    {
     "data": {
      "text/plain": [
       "array([0, 1, 0, ..., 0, 0, 1])"
      ]
     },
     "execution_count": 47,
     "metadata": {},
     "output_type": "execute_result"
    }
   ],
   "source": [
    "y_train_val"
   ]
  },
  {
   "cell_type": "markdown",
   "metadata": {},
   "source": [
    "### Train-Test Split"
   ]
  },
  {
   "cell_type": "code",
   "execution_count": 48,
   "metadata": {},
   "outputs": [
    {
     "name": "stdout",
     "output_type": "stream",
     "text": [
      "(1999, 20) (667, 20) (1999,) (667,)\n"
     ]
    }
   ],
   "source": [
    "# Split data into training and test sets\n",
    "\n",
    "X_train, X_test, y_train, y_test = train_test_split(X_train_val, y_train_val, test_size=0.25)\n",
    "\n",
    "print(X_train.shape, X_test.shape, y_train.shape, y_test.shape)"
   ]
  },
  {
   "cell_type": "markdown",
   "metadata": {},
   "source": [
    "---"
   ]
  },
  {
   "cell_type": "markdown",
   "metadata": {},
   "source": [
    "<p><a name=\"sel\"></a></p>\n",
    "\n",
    "### Feature Selection"
   ]
  },
  {
   "cell_type": "code",
   "execution_count": 49,
   "metadata": {},
   "outputs": [
    {
     "data": {
      "image/png": "[encoded data removed]",
      "text/plain": [
       "<Figure size 432x288 with 2 Axes>"
      ]
     },
     "metadata": {},
     "output_type": "display_data"
    }
   ],
   "source": [
    "mask = np.zeros_like(X_train.corr())\n",
    "mask[np.triu_indices_from(mask)] = 1\n",
    "sns.heatmap(X_train.corr(), mask= mask, linewidth=0.7, cmap='RdYlGn') \n",
    "plt.show()"
   ]
  },
  {
   "cell_type": "markdown",
   "metadata": {},
   "source": [
    "**Insights:**\n",
    "- Following features are highly correlated\n",
    "    - Day_Mins & Day_Charge\n",
    "    - Eve_Mins & Eve_Charge\n",
    "    - Night_Mins & Night_Charge\n",
    "    - Intl_Mins & Intl_Charge\n",
    "- Either set are candidates for being dropped or their combination for feature engineering"
   ]
  },
  {
   "cell_type": "markdown",
   "metadata": {},
   "source": [
    "---"
   ]
  },
  {
   "cell_type": "markdown",
   "metadata": {},
   "source": [
    "<p><a name=\"engg\"></a></p>\n",
    "\n",
    "### Feature Engineering"
   ]
  },
  {
   "cell_type": "code",
   "execution_count": 50,
   "metadata": {},
   "outputs": [],
   "source": [
    "class CategoricalTransformer(BaseEstimator, TransformerMixin):\n",
    "    \n",
    "    '''\n",
    "    Descr:\n",
    "    This class contains methods to undertake categorical transformations\n",
    "    on features and its output will be used as CustomTransfomers \n",
    "    in the pipeline functionality to prevent data leakage and also\n",
    "    automate categorical transformations on unseen data.\n",
    "    \n",
    "    Tasks performed by transform() method:\n",
    "    1. Drops columns not required / provide no predictive information the model\n",
    "\n",
    "    I/P:\n",
    "    1. Features dataframe to perform transformation on\n",
    "    2. Names of categorical features to be dropped\n",
    "\n",
    "    O/P:\n",
    "    numpy array of transformed categorical features\n",
    "    '''    \n",
    "    \n",
    "    # Class constructor\n",
    "    def __init__(self, drop_cat_features):\n",
    "        self.drop_cat_features = drop_cat_features\n",
    "    \n",
    "    # fit method - does nothing and returns self\n",
    "    def fit(self, X, y=None):\n",
    "        return self\n",
    "    \n",
    "    # transform method for custom transformations\n",
    "    def transform(self, X, y=None):\n",
    "        \n",
    "        # Doing this to avoid Chained Indexing error:\n",
    "        # \"SettingWithCopyWarning: A value is trying to be set on a copy of a slice from a DataFrame\"\n",
    "        X1 = X.copy()\n",
    "        \n",
    "        # Dropping columns\n",
    "        X1.drop(self.drop_cat_features, axis=1, inplace=True)\n",
    "\n",
    "        # Return numpy array of transformed numerical features\n",
    "        return X1 "
   ]
  },
  {
   "cell_type": "code",
   "execution_count": 51,
   "metadata": {},
   "outputs": [],
   "source": [
    "class NumericalTransformer(BaseEstimator, TransformerMixin):\n",
    "    \n",
    "    '''\n",
    "    Descr:\n",
    "    This class contains methods to undertake numerical transformations\n",
    "    on features and its output will be used as CustomTransfomers \n",
    "    in the pipeline functionality to prevent data leakage and also\n",
    "    automate numerical transformations on unseen data.\n",
    "    For it to qualify as a transformer, it will contain the .fit()\n",
    "    and .transform() methods and we'll be inheriting from 2 classes\n",
    "    that faciliate this class being a transformer.\n",
    "    \n",
    "    Tasks performed by transform() method:\n",
    "    1. Drops columns not required / provide no predictive information the model\n",
    "    2. Create binary column of features that are highly skewed to 1 value\n",
    "\n",
    "    I/P:\n",
    "    1. Features dataframe to perform transformation on\n",
    "    2. Names of numerical features to be dropped\n",
    "    3. Print flag to see names of columns after transformation. Defaulted\n",
    "        to 'N' if not passed as 'Y'\n",
    "\n",
    "    O/P:\n",
    "    numpy array of transformed numerical features\n",
    "    '''    \n",
    "    \n",
    "    # Class constructor\n",
    "    def __init__(self, numerical_features, drop_num_features, my_print='N'):\n",
    "        self.numerical_features = numerical_features\n",
    "        self.drop_num_features = drop_num_features\n",
    "        self.my_print = my_print\n",
    "    \n",
    "    # fit method - does nothing and returns self\n",
    "    def fit(self, X, y=None):\n",
    "        return self\n",
    "    \n",
    "    # Binarize method\n",
    "    def binarize(self, obj):\n",
    "        if obj == 0:\n",
    "            return 0\n",
    "        else:\n",
    "            return 1\n",
    "\n",
    "    \n",
    "    # transform method for custom transformations\n",
    "    def transform(self, X, y=None):\n",
    "        \n",
    "        X = pd.DataFrame(X, columns=self.numerical_features)\n",
    "        \n",
    "        # Doing this to avoid Chained Indexing error:\n",
    "        # \"SettingWithCopyWarning: A value is trying to be set on a copy of a slice from a DataFrame\"\n",
    "        X1 = X.copy()\n",
    "        \n",
    "        # Binarize columns\n",
    "        X1.loc[:,'Vmail_Message_b'] = X1['Vmail_Message'].apply(self.binarize)\n",
    "\n",
    "        # Dropping columns\n",
    "        X1.drop(self.drop_num_features, axis=1, inplace=True)\n",
    "\n",
    "        if self.my_print == 'Y':\n",
    "            print('Transformed Numerical Features\\' column names:\\n', list(X1.columns))\n",
    "    \n",
    "        # Return numpy array of transformed numerical features\n",
    "        return X1    #X1.values"
   ]
  },
  {
   "cell_type": "code",
   "execution_count": 52,
   "metadata": {},
   "outputs": [],
   "source": [
    "# Tagging features for transformations\n",
    "\n",
    "# Lists of Categorical features:\n",
    "# Features for (1) dropping 'Phone' (2) imputation (3) Ordinal encoding\n",
    "features_for_pipe_cat_imp_oe = ['Intl_Plan', 'Vmail_Plan', 'Phone']\n",
    "    \n",
    "# Features for (1) imputation (2) OneHot encoding\n",
    "features_for_ohe = ['State']\n",
    "\n",
    "features_dropped_cat = ['Phone']\n",
    "\n",
    "\n",
    "# Lists of Numerical features:\n",
    "features_for_pipe_num_imp_ss = features_num\n",
    "\n",
    "features_dropped_num = ['Day_Mins','Eve_Mins','Night_Mins','Intl_Mins',\\\n",
    "                        'Vmail_Message','Area_Code']"
   ]
  },
  {
   "cell_type": "code",
   "execution_count": 53,
   "metadata": {},
   "outputs": [],
   "source": [
    "# Instantiate all transformers to be used in the \n",
    "# Column Transformer (i.e., Preprocessor)\n",
    "\n",
    "# Categorical tranformers\n",
    "cat_transformer = CategoricalTransformer(features_dropped_cat)\n",
    "imp_mode_c = SimpleImputer(strategy='most_frequent')\n",
    "oe = OrdinalEncoder()\n",
    "ohe = OneHotEncoder()\n",
    "\n",
    "# Numerical transformers\n",
    "imp_median_n = SimpleImputer(strategy='median')\n",
    "# Instantiate with 3rd argument 'Y' to see column names of tranformed features\n",
    "num_transformer = NumericalTransformer(features_num, features_dropped_num, 'N')\n",
    "ss = StandardScaler()"
   ]
  },
  {
   "cell_type": "code",
   "execution_count": 54,
   "metadata": {},
   "outputs": [],
   "source": [
    "# Pipelines of transformations (no model yet)\n",
    "\n",
    "# Categorical pipelines of transformations\n",
    "\n",
    "# Pipeline for (1) dropping 'Phone' (2) imputation (3) Ordinal encoding\n",
    "pipe_cat_imp_oe = make_pipeline(cat_transformer, imp_mode_c, oe)\n",
    "\n",
    "# Pipeline for (1) imputation (2) OneHot encoding\n",
    "pipe_imp_ohe = make_pipeline(imp_mode_c, ohe)\n",
    "\n",
    "\n",
    "# Numerical pipelines of transformations\n",
    "# Pipeline for (1) imputation (2) Numerical transformations (3) Standardizing\n",
    "\n",
    "\n",
    "#@@@@@@@@@@@@@@ Uncomment below to run without standardizing data.\n",
    "pipe_num_imp_ss = make_pipeline(imp_median_n, num_transformer)\n",
    "# pipe_num_imp_ss = make_pipeline(imp_median_n, num_transformer, ss)\n",
    "\n",
    "\n"
   ]
  },
  {
   "cell_type": "code",
   "execution_count": 55,
   "metadata": {},
   "outputs": [],
   "source": [
    "# Utilizing Column Transformer for transformations\n",
    "\n",
    "preprocessor = make_column_transformer(\n",
    "    (pipe_cat_imp_oe, features_for_pipe_cat_imp_oe)\n",
    "    ,(pipe_imp_ohe, features_for_ohe)\n",
    "    ,(pipe_num_imp_ss, features_for_pipe_num_imp_ss)\n",
    "    ,remainder='passthrough') "
   ]
  },
  {
   "cell_type": "code",
   "execution_count": 56,
   "metadata": {
    "scrolled": false
   },
   "outputs": [
    {
     "data": {
      "text/plain": [
       "<1999x64 sparse matrix of type '<class 'numpy.float64'>'\n",
       "\twith 22858 stored elements in Compressed Sparse Row format>"
      ]
     },
     "execution_count": 56,
     "metadata": {},
     "output_type": "execute_result"
    }
   ],
   "source": [
    "preprocessor.fit_transform(X_train)"
   ]
  },
  {
   "cell_type": "code",
   "execution_count": 57,
   "metadata": {},
   "outputs": [
    {
     "name": "stdout",
     "output_type": "stream",
     "text": [
      "Number of OHE columns created from \"State\" =  51\n",
      "Number of unique values in \"State\"         =  51\n"
     ]
    }
   ],
   "source": [
    "# Deriving the column names for the OneHot encoded 'State'\n",
    "\n",
    "features_transformed_ohe = list(preprocessor.transformers_[1][1].named_steps['onehotencoder'].get_feature_names())\n",
    "\n",
    "# Quick check\n",
    "print('Number of OHE columns created from \"State\" = ', len(features_transformed_ohe))\n",
    "print('Number of unique values in \"State\"         = ', churn_data['State'].nunique())"
   ]
  },
  {
   "cell_type": "code",
   "execution_count": 58,
   "metadata": {},
   "outputs": [],
   "source": [
    "# Deriving the column names of the transformed df\n",
    "\n",
    "# Leveraing feature names that were provided to the column\n",
    "# transformer, output from ohe and the output of the numerical transformer\n",
    "features_transformed_incl_dropped = features_for_pipe_cat_imp_oe + \\\n",
    "features_transformed_ohe + \\\n",
    "['Account_Length', 'CustServ_Calls', 'Day_Calls', 'Day_Charge', \\\n",
    " 'Eve_Calls', 'Eve_Charge', 'Night_Calls', 'Night_Charge', \\\n",
    " 'Intl_Calls', 'Intl_Charge', 'Vmail_Message_b']\n",
    "\n",
    "# Leveraging feature names provided as input to the dropped\n",
    "features_dropped_all = features_dropped_cat + features_dropped_num\n",
    "\n",
    "\n",
    "# Forming a list of transformed features by removing dropped \n",
    "# columns from the list\n",
    "features_transformed = [col for col in features_transformed_incl_dropped if col not in features_dropped_all]"
   ]
  },
  {
   "cell_type": "code",
   "execution_count": 59,
   "metadata": {},
   "outputs": [
    {
     "name": "stdout",
     "output_type": "stream",
     "text": [
      "\n",
      "# columns from transformation = 64\n",
      "# column names derived        = 64\n"
     ]
    }
   ],
   "source": [
    "# Check the transformed features column name count\n",
    "# versus the shape of the transformed array\n",
    "\n",
    "print('\\n# columns from transformation =', preprocessor.fit_transform(X_train).toarray().shape[1])\n",
    "print('# column names derived        =', len(features_transformed))"
   ]
  },
  {
   "cell_type": "code",
   "execution_count": 60,
   "metadata": {},
   "outputs": [
    {
     "data": {
      "text/html": [
       "<div>\n",
       "<style scoped>\n",
       "    .dataframe tbody tr th:only-of-type {\n",
       "        vertical-align: middle;\n",
       "    }\n",
       "\n",
       "    .dataframe tbody tr th {\n",
       "        vertical-align: top;\n",
       "    }\n",
       "\n",
       "    .dataframe thead th {\n",
       "        text-align: right;\n",
       "    }\n",
       "</style>\n",
       "<table border=\"1\" class=\"dataframe\">\n",
       "  <thead>\n",
       "    <tr style=\"text-align: right;\">\n",
       "      <th></th>\n",
       "      <th>Intl_Plan</th>\n",
       "      <th>Vmail_Plan</th>\n",
       "      <th>x0_AK</th>\n",
       "      <th>x0_AL</th>\n",
       "      <th>x0_AR</th>\n",
       "      <th>x0_AZ</th>\n",
       "      <th>x0_CA</th>\n",
       "      <th>x0_CO</th>\n",
       "      <th>x0_CT</th>\n",
       "      <th>x0_DC</th>\n",
       "      <th>...</th>\n",
       "      <th>CustServ_Calls</th>\n",
       "      <th>Day_Calls</th>\n",
       "      <th>Day_Charge</th>\n",
       "      <th>Eve_Calls</th>\n",
       "      <th>Eve_Charge</th>\n",
       "      <th>Night_Calls</th>\n",
       "      <th>Night_Charge</th>\n",
       "      <th>Intl_Calls</th>\n",
       "      <th>Intl_Charge</th>\n",
       "      <th>Vmail_Message_b</th>\n",
       "    </tr>\n",
       "  </thead>\n",
       "  <tbody>\n",
       "    <tr>\n",
       "      <td>0</td>\n",
       "      <td>0.0</td>\n",
       "      <td>0.0</td>\n",
       "      <td>0.0</td>\n",
       "      <td>0.0</td>\n",
       "      <td>0.0</td>\n",
       "      <td>0.0</td>\n",
       "      <td>0.0</td>\n",
       "      <td>0.0</td>\n",
       "      <td>0.0</td>\n",
       "      <td>0.0</td>\n",
       "      <td>...</td>\n",
       "      <td>0.0</td>\n",
       "      <td>132.0</td>\n",
       "      <td>40.05</td>\n",
       "      <td>129.0</td>\n",
       "      <td>9.85</td>\n",
       "      <td>136.0</td>\n",
       "      <td>8.34</td>\n",
       "      <td>2.0</td>\n",
       "      <td>4.37</td>\n",
       "      <td>0.0</td>\n",
       "    </tr>\n",
       "    <tr>\n",
       "      <td>1</td>\n",
       "      <td>0.0</td>\n",
       "      <td>0.0</td>\n",
       "      <td>0.0</td>\n",
       "      <td>0.0</td>\n",
       "      <td>0.0</td>\n",
       "      <td>0.0</td>\n",
       "      <td>0.0</td>\n",
       "      <td>0.0</td>\n",
       "      <td>0.0</td>\n",
       "      <td>0.0</td>\n",
       "      <td>...</td>\n",
       "      <td>2.0</td>\n",
       "      <td>100.0</td>\n",
       "      <td>23.58</td>\n",
       "      <td>58.0</td>\n",
       "      <td>18.31</td>\n",
       "      <td>98.0</td>\n",
       "      <td>7.39</td>\n",
       "      <td>4.0</td>\n",
       "      <td>1.32</td>\n",
       "      <td>0.0</td>\n",
       "    </tr>\n",
       "    <tr>\n",
       "      <td>2</td>\n",
       "      <td>0.0</td>\n",
       "      <td>0.0</td>\n",
       "      <td>0.0</td>\n",
       "      <td>1.0</td>\n",
       "      <td>0.0</td>\n",
       "      <td>0.0</td>\n",
       "      <td>0.0</td>\n",
       "      <td>0.0</td>\n",
       "      <td>0.0</td>\n",
       "      <td>0.0</td>\n",
       "      <td>...</td>\n",
       "      <td>5.0</td>\n",
       "      <td>71.0</td>\n",
       "      <td>21.96</td>\n",
       "      <td>68.0</td>\n",
       "      <td>18.20</td>\n",
       "      <td>100.0</td>\n",
       "      <td>9.67</td>\n",
       "      <td>4.0</td>\n",
       "      <td>2.78</td>\n",
       "      <td>0.0</td>\n",
       "    </tr>\n",
       "    <tr>\n",
       "      <td>3</td>\n",
       "      <td>0.0</td>\n",
       "      <td>0.0</td>\n",
       "      <td>0.0</td>\n",
       "      <td>0.0</td>\n",
       "      <td>0.0</td>\n",
       "      <td>0.0</td>\n",
       "      <td>0.0</td>\n",
       "      <td>0.0</td>\n",
       "      <td>0.0</td>\n",
       "      <td>0.0</td>\n",
       "      <td>...</td>\n",
       "      <td>1.0</td>\n",
       "      <td>116.0</td>\n",
       "      <td>41.79</td>\n",
       "      <td>91.0</td>\n",
       "      <td>24.37</td>\n",
       "      <td>115.0</td>\n",
       "      <td>10.83</td>\n",
       "      <td>13.0</td>\n",
       "      <td>2.43</td>\n",
       "      <td>0.0</td>\n",
       "    </tr>\n",
       "    <tr>\n",
       "      <td>4</td>\n",
       "      <td>0.0</td>\n",
       "      <td>0.0</td>\n",
       "      <td>0.0</td>\n",
       "      <td>0.0</td>\n",
       "      <td>0.0</td>\n",
       "      <td>0.0</td>\n",
       "      <td>0.0</td>\n",
       "      <td>1.0</td>\n",
       "      <td>0.0</td>\n",
       "      <td>0.0</td>\n",
       "      <td>...</td>\n",
       "      <td>1.0</td>\n",
       "      <td>92.0</td>\n",
       "      <td>26.11</td>\n",
       "      <td>88.0</td>\n",
       "      <td>17.47</td>\n",
       "      <td>89.0</td>\n",
       "      <td>5.15</td>\n",
       "      <td>10.0</td>\n",
       "      <td>3.38</td>\n",
       "      <td>0.0</td>\n",
       "    </tr>\n",
       "  </tbody>\n",
       "</table>\n",
       "<p>5 rows × 64 columns</p>\n",
       "</div>"
      ],
      "text/plain": [
       "   Intl_Plan  Vmail_Plan  x0_AK  x0_AL  x0_AR  x0_AZ  x0_CA  x0_CO  x0_CT  \\\n",
       "0        0.0         0.0    0.0    0.0    0.0    0.0    0.0    0.0    0.0   \n",
       "1        0.0         0.0    0.0    0.0    0.0    0.0    0.0    0.0    0.0   \n",
       "2        0.0         0.0    0.0    1.0    0.0    0.0    0.0    0.0    0.0   \n",
       "3        0.0         0.0    0.0    0.0    0.0    0.0    0.0    0.0    0.0   \n",
       "4        0.0         0.0    0.0    0.0    0.0    0.0    0.0    1.0    0.0   \n",
       "\n",
       "   x0_DC  ...  CustServ_Calls  Day_Calls  Day_Charge  Eve_Calls  Eve_Charge  \\\n",
       "0    0.0  ...             0.0      132.0       40.05      129.0        9.85   \n",
       "1    0.0  ...             2.0      100.0       23.58       58.0       18.31   \n",
       "2    0.0  ...             5.0       71.0       21.96       68.0       18.20   \n",
       "3    0.0  ...             1.0      116.0       41.79       91.0       24.37   \n",
       "4    0.0  ...             1.0       92.0       26.11       88.0       17.47   \n",
       "\n",
       "   Night_Calls  Night_Charge  Intl_Calls  Intl_Charge  Vmail_Message_b  \n",
       "0        136.0          8.34         2.0         4.37              0.0  \n",
       "1         98.0          7.39         4.0         1.32              0.0  \n",
       "2        100.0          9.67         4.0         2.78              0.0  \n",
       "3        115.0         10.83        13.0         2.43              0.0  \n",
       "4         89.0          5.15        10.0         3.38              0.0  \n",
       "\n",
       "[5 rows x 64 columns]"
      ]
     },
     "execution_count": 60,
     "metadata": {},
     "output_type": "execute_result"
    }
   ],
   "source": [
    "# Forming transformed DF with transformed features\n",
    "\n",
    "X_train_tf = pd.DataFrame(preprocessor.fit_transform(X_train).toarray(), columns=features_transformed)\n",
    "X_train_tf.head()"
   ]
  },
  {
   "cell_type": "markdown",
   "metadata": {},
   "source": [
    "---"
   ]
  },
  {
   "cell_type": "markdown",
   "metadata": {},
   "source": [
    "#### ML Models"
   ]
  },
  {
   "cell_type": "code",
   "execution_count": 61,
   "metadata": {},
   "outputs": [],
   "source": [
    "# Instantiate ML Model\n",
    "\n",
    "logreg = LogisticRegression()"
   ]
  },
  {
   "cell_type": "markdown",
   "metadata": {},
   "source": [
    "#### Pipeline"
   ]
  },
  {
   "cell_type": "code",
   "execution_count": 62,
   "metadata": {},
   "outputs": [],
   "source": [
    "# Make pipeline of all transformation and Logistic model\n",
    "\n",
    "pipe = make_pipeline(preprocessor, logreg)"
   ]
  },
  {
   "cell_type": "code",
   "execution_count": 63,
   "metadata": {},
   "outputs": [
    {
     "name": "stderr",
     "output_type": "stream",
     "text": [
      "/opt/anaconda3/lib/python3.7/site-packages/sklearn/linear_model/_logistic.py:764: ConvergenceWarning: lbfgs failed to converge (status=1):\n",
      "STOP: TOTAL NO. of ITERATIONS REACHED LIMIT.\n",
      "\n",
      "Increase the number of iterations (max_iter) or scale the data as shown in:\n",
      "    https://scikit-learn.org/stable/modules/preprocessing.html\n",
      "Please also refer to the documentation for alternative solver options:\n",
      "    https://scikit-learn.org/stable/modules/linear_model.html#logistic-regression\n",
      "  extra_warning_msg=_LOGISTIC_SOLVER_CONVERGENCE_MSG)\n"
     ]
    }
   ],
   "source": [
    "pipe.fit(X_train, y_train);"
   ]
  },
  {
   "cell_type": "code",
   "execution_count": 64,
   "metadata": {},
   "outputs": [],
   "source": [
    "y_pred = pipe.predict(X_test)"
   ]
  },
  {
   "cell_type": "code",
   "execution_count": 65,
   "metadata": {},
   "outputs": [
    {
     "data": {
      "text/plain": [
       "array([[0.81768176, 0.18231824],\n",
       "       [0.61384834, 0.38615166],\n",
       "       [0.93071956, 0.06928044],\n",
       "       ...,\n",
       "       [0.86155868, 0.13844132],\n",
       "       [0.82919462, 0.17080538],\n",
       "       [0.93100132, 0.06899868]])"
      ]
     },
     "execution_count": 65,
     "metadata": {},
     "output_type": "execute_result"
    }
   ],
   "source": [
    "y_pred_proba = pipe.predict_proba(X_test)\n",
    "y_pred_proba"
   ]
  },
  {
   "cell_type": "markdown",
   "metadata": {},
   "source": [
    "#### Model Evaluation"
   ]
  },
  {
   "cell_type": "code",
   "execution_count": 66,
   "metadata": {},
   "outputs": [
    {
     "data": {
      "text/plain": [
       "array([[552,  14],\n",
       "       [ 92,   9]])"
      ]
     },
     "execution_count": 66,
     "metadata": {},
     "output_type": "execute_result"
    }
   ],
   "source": [
    "# Confusion matrix as this is a imbalanced dataset\n",
    "\n",
    "confusion_matrix(y_test, y_pred)"
   ]
  },
  {
   "cell_type": "code",
   "execution_count": 67,
   "metadata": {},
   "outputs": [
    {
     "name": "stdout",
     "output_type": "stream",
     "text": [
      "Precision = 39.13%\n",
      "Recall    = 8.91%\n",
      "F1 Score  = 14.52%\n"
     ]
    }
   ],
   "source": [
    "print('Precision = {0:.2f}%'.format(precision_score(y_test, y_pred)*100))\n",
    "print('Recall    = {0:.2f}%'.format(recall_score(y_test, y_pred)*100))\n",
    "print('F1 Score  = {0:.2f}%'.format(f1_score(y_test, y_pred)*100))"
   ]
  },
  {
   "cell_type": "code",
   "execution_count": 68,
   "metadata": {
    "scrolled": true
   },
   "outputs": [
    {
     "name": "stdout",
     "output_type": "stream",
     "text": [
      "              precision    recall  f1-score   support\n",
      "\n",
      "           0       0.86      0.98      0.91       566\n",
      "           1       0.39      0.09      0.15       101\n",
      "\n",
      "    accuracy                           0.84       667\n",
      "   macro avg       0.62      0.53      0.53       667\n",
      "weighted avg       0.79      0.84      0.80       667\n",
      "\n"
     ]
    }
   ],
   "source": [
    "print(classification_report(y_test, y_pred))"
   ]
  },
  {
   "cell_type": "code",
   "execution_count": 69,
   "metadata": {},
   "outputs": [
    {
     "data": {
      "text/html": [
       "<div>\n",
       "<style scoped>\n",
       "    .dataframe tbody tr th:only-of-type {\n",
       "        vertical-align: middle;\n",
       "    }\n",
       "\n",
       "    .dataframe tbody tr th {\n",
       "        vertical-align: top;\n",
       "    }\n",
       "\n",
       "    .dataframe thead th {\n",
       "        text-align: right;\n",
       "    }\n",
       "</style>\n",
       "<table border=\"1\" class=\"dataframe\">\n",
       "  <thead>\n",
       "    <tr style=\"text-align: right;\">\n",
       "      <th></th>\n",
       "      <th>FPR</th>\n",
       "      <th>TPR</th>\n",
       "      <th>Thresholds</th>\n",
       "    </tr>\n",
       "  </thead>\n",
       "  <tbody>\n",
       "    <tr>\n",
       "      <td>0</td>\n",
       "      <td>0.000000</td>\n",
       "      <td>0.000000</td>\n",
       "      <td>1.824943</td>\n",
       "    </tr>\n",
       "    <tr>\n",
       "      <td>1</td>\n",
       "      <td>0.001767</td>\n",
       "      <td>0.000000</td>\n",
       "      <td>0.824943</td>\n",
       "    </tr>\n",
       "    <tr>\n",
       "      <td>2</td>\n",
       "      <td>0.003534</td>\n",
       "      <td>0.000000</td>\n",
       "      <td>0.699141</td>\n",
       "    </tr>\n",
       "    <tr>\n",
       "      <td>3</td>\n",
       "      <td>0.003534</td>\n",
       "      <td>0.029703</td>\n",
       "      <td>0.666151</td>\n",
       "    </tr>\n",
       "    <tr>\n",
       "      <td>4</td>\n",
       "      <td>0.005300</td>\n",
       "      <td>0.029703</td>\n",
       "      <td>0.657266</td>\n",
       "    </tr>\n",
       "  </tbody>\n",
       "</table>\n",
       "</div>"
      ],
      "text/plain": [
       "        FPR       TPR  Thresholds\n",
       "0  0.000000  0.000000    1.824943\n",
       "1  0.001767  0.000000    0.824943\n",
       "2  0.003534  0.000000    0.699141\n",
       "3  0.003534  0.029703    0.666151\n",
       "4  0.005300  0.029703    0.657266"
      ]
     },
     "execution_count": 69,
     "metadata": {},
     "output_type": "execute_result"
    }
   ],
   "source": [
    "fpr, tpr, thresholds = roc_curve(y_test, y_pred_proba[:,1])\n",
    "\n",
    "roc_df = pd.DataFrame({'FPR': fpr, 'TPR':tpr, 'Thresholds':thresholds})\n",
    "roc_df.head()"
   ]
  },
  {
   "cell_type": "code",
   "execution_count": 70,
   "metadata": {},
   "outputs": [
    {
     "data": {
      "image/png": "[encoded data removed]",
      "text/plain": [
       "<Figure size 432x288 with 1 Axes>"
      ]
     },
     "metadata": {},
     "output_type": "display_data"
    }
   ],
   "source": [
    "# Plotting the ROC curve\n",
    "\n",
    "plt.plot(fpr, tpr, label='ROC Curve')\n",
    "\n",
    "plt.ylabel('True Positive Rate (TPR) / Recall / Sensitivity')\n",
    "plt.xlabel('False Positive Rate (FPR) or (1-Specificity)')\n",
    "plt.title('ROC Curve of Logistic model', size=14)\n",
    "\n",
    "# plot diagonal that illustrates model that randomly guesses\n",
    "plt.plot([0,1],[0,1], linestyle='--', color='orange', label='Random guess model')\n",
    "\n",
    "plt.legend(loc='lower right')\n",
    "plt.show()"
   ]
  },
  {
   "cell_type": "code",
   "execution_count": 71,
   "metadata": {},
   "outputs": [
    {
     "data": {
      "text/plain": [
       "0.7350523038169542"
      ]
     },
     "execution_count": 71,
     "metadata": {},
     "output_type": "execute_result"
    }
   ],
   "source": [
    "roc_auc_score(y_test, y_pred_proba[:,1])"
   ]
  },
  {
   "cell_type": "markdown",
   "metadata": {},
   "source": [
    "---"
   ]
  },
  {
   "cell_type": "markdown",
   "metadata": {},
   "source": [
    "<p><a name=\"hyp\"></a></p>\n",
    "\n",
    "## Hyperparameter Tuning"
   ]
  },
  {
   "cell_type": "code",
   "execution_count": 72,
   "metadata": {},
   "outputs": [
    {
     "data": {
      "text/plain": [
       "{'logisticregression__C': [0.1, 1, 10, 100],\n",
       " 'logisticregression__solver': ['liblinear'],\n",
       " 'logisticregression__max_iter': [100, 1000, 10000]}"
      ]
     },
     "execution_count": 72,
     "metadata": {},
     "output_type": "execute_result"
    }
   ],
   "source": [
    "params = {}\n",
    "params['logisticregression__C'] = [0.1, 1, 10, 100]\n",
    "params['logisticregression__solver'] = ['liblinear'] #['lbfgs', 'liblinear']\n",
    "params['logisticregression__max_iter'] = [100,1000,10000]\n",
    "params"
   ]
  },
  {
   "cell_type": "code",
   "execution_count": 73,
   "metadata": {
    "scrolled": false
   },
   "outputs": [],
   "source": [
    "grid = GridSearchCV(pipe, params, cv=5, scoring='accuracy')\n",
    "grid.fit(X_train, y_train);"
   ]
  },
  {
   "cell_type": "code",
   "execution_count": 74,
   "metadata": {},
   "outputs": [
    {
     "data": {
      "text/html": [
       "<div>\n",
       "<style scoped>\n",
       "    .dataframe tbody tr th:only-of-type {\n",
       "        vertical-align: middle;\n",
       "    }\n",
       "\n",
       "    .dataframe tbody tr th {\n",
       "        vertical-align: top;\n",
       "    }\n",
       "\n",
       "    .dataframe thead th {\n",
       "        text-align: right;\n",
       "    }\n",
       "</style>\n",
       "<table border=\"1\" class=\"dataframe\">\n",
       "  <thead>\n",
       "    <tr style=\"text-align: right;\">\n",
       "      <th></th>\n",
       "      <th>mean_fit_time</th>\n",
       "      <th>std_fit_time</th>\n",
       "      <th>mean_score_time</th>\n",
       "      <th>std_score_time</th>\n",
       "      <th>param_logisticregression__C</th>\n",
       "      <th>param_logisticregression__max_iter</th>\n",
       "      <th>param_logisticregression__solver</th>\n",
       "      <th>params</th>\n",
       "      <th>split0_test_score</th>\n",
       "      <th>split1_test_score</th>\n",
       "      <th>split2_test_score</th>\n",
       "      <th>split3_test_score</th>\n",
       "      <th>split4_test_score</th>\n",
       "      <th>mean_test_score</th>\n",
       "      <th>std_test_score</th>\n",
       "      <th>rank_test_score</th>\n",
       "    </tr>\n",
       "  </thead>\n",
       "  <tbody>\n",
       "    <tr>\n",
       "      <td>9</td>\n",
       "      <td>0.033384</td>\n",
       "      <td>0.000822</td>\n",
       "      <td>0.010195</td>\n",
       "      <td>0.000780</td>\n",
       "      <td>100</td>\n",
       "      <td>100</td>\n",
       "      <td>liblinear</td>\n",
       "      <td>{'logisticregression__C': 100, 'logisticregres...</td>\n",
       "      <td>0.8300</td>\n",
       "      <td>0.8575</td>\n",
       "      <td>0.8975</td>\n",
       "      <td>0.8675</td>\n",
       "      <td>0.874687</td>\n",
       "      <td>0.865437</td>\n",
       "      <td>0.022075</td>\n",
       "      <td>1</td>\n",
       "    </tr>\n",
       "    <tr>\n",
       "      <td>10</td>\n",
       "      <td>0.033001</td>\n",
       "      <td>0.000726</td>\n",
       "      <td>0.009861</td>\n",
       "      <td>0.000168</td>\n",
       "      <td>100</td>\n",
       "      <td>1000</td>\n",
       "      <td>liblinear</td>\n",
       "      <td>{'logisticregression__C': 100, 'logisticregres...</td>\n",
       "      <td>0.8300</td>\n",
       "      <td>0.8575</td>\n",
       "      <td>0.8975</td>\n",
       "      <td>0.8675</td>\n",
       "      <td>0.874687</td>\n",
       "      <td>0.865437</td>\n",
       "      <td>0.022075</td>\n",
       "      <td>1</td>\n",
       "    </tr>\n",
       "    <tr>\n",
       "      <td>11</td>\n",
       "      <td>0.034449</td>\n",
       "      <td>0.002544</td>\n",
       "      <td>0.009916</td>\n",
       "      <td>0.000325</td>\n",
       "      <td>100</td>\n",
       "      <td>10000</td>\n",
       "      <td>liblinear</td>\n",
       "      <td>{'logisticregression__C': 100, 'logisticregres...</td>\n",
       "      <td>0.8300</td>\n",
       "      <td>0.8575</td>\n",
       "      <td>0.8975</td>\n",
       "      <td>0.8675</td>\n",
       "      <td>0.874687</td>\n",
       "      <td>0.865437</td>\n",
       "      <td>0.022075</td>\n",
       "      <td>1</td>\n",
       "    </tr>\n",
       "    <tr>\n",
       "      <td>6</td>\n",
       "      <td>0.033353</td>\n",
       "      <td>0.000983</td>\n",
       "      <td>0.010283</td>\n",
       "      <td>0.000427</td>\n",
       "      <td>10</td>\n",
       "      <td>100</td>\n",
       "      <td>liblinear</td>\n",
       "      <td>{'logisticregression__C': 10, 'logisticregress...</td>\n",
       "      <td>0.8325</td>\n",
       "      <td>0.8575</td>\n",
       "      <td>0.8875</td>\n",
       "      <td>0.8675</td>\n",
       "      <td>0.877193</td>\n",
       "      <td>0.864439</td>\n",
       "      <td>0.018826</td>\n",
       "      <td>4</td>\n",
       "    </tr>\n",
       "    <tr>\n",
       "      <td>7</td>\n",
       "      <td>0.033847</td>\n",
       "      <td>0.000932</td>\n",
       "      <td>0.010020</td>\n",
       "      <td>0.000111</td>\n",
       "      <td>10</td>\n",
       "      <td>1000</td>\n",
       "      <td>liblinear</td>\n",
       "      <td>{'logisticregression__C': 10, 'logisticregress...</td>\n",
       "      <td>0.8325</td>\n",
       "      <td>0.8575</td>\n",
       "      <td>0.8875</td>\n",
       "      <td>0.8675</td>\n",
       "      <td>0.877193</td>\n",
       "      <td>0.864439</td>\n",
       "      <td>0.018826</td>\n",
       "      <td>4</td>\n",
       "    </tr>\n",
       "  </tbody>\n",
       "</table>\n",
       "</div>"
      ],
      "text/plain": [
       "    mean_fit_time  std_fit_time  mean_score_time  std_score_time  \\\n",
       "9        0.033384      0.000822         0.010195        0.000780   \n",
       "10       0.033001      0.000726         0.009861        0.000168   \n",
       "11       0.034449      0.002544         0.009916        0.000325   \n",
       "6        0.033353      0.000983         0.010283        0.000427   \n",
       "7        0.033847      0.000932         0.010020        0.000111   \n",
       "\n",
       "   param_logisticregression__C param_logisticregression__max_iter  \\\n",
       "9                          100                                100   \n",
       "10                         100                               1000   \n",
       "11                         100                              10000   \n",
       "6                           10                                100   \n",
       "7                           10                               1000   \n",
       "\n",
       "   param_logisticregression__solver  \\\n",
       "9                         liblinear   \n",
       "10                        liblinear   \n",
       "11                        liblinear   \n",
       "6                         liblinear   \n",
       "7                         liblinear   \n",
       "\n",
       "                                               params  split0_test_score  \\\n",
       "9   {'logisticregression__C': 100, 'logisticregres...             0.8300   \n",
       "10  {'logisticregression__C': 100, 'logisticregres...             0.8300   \n",
       "11  {'logisticregression__C': 100, 'logisticregres...             0.8300   \n",
       "6   {'logisticregression__C': 10, 'logisticregress...             0.8325   \n",
       "7   {'logisticregression__C': 10, 'logisticregress...             0.8325   \n",
       "\n",
       "    split1_test_score  split2_test_score  split3_test_score  \\\n",
       "9              0.8575             0.8975             0.8675   \n",
       "10             0.8575             0.8975             0.8675   \n",
       "11             0.8575             0.8975             0.8675   \n",
       "6              0.8575             0.8875             0.8675   \n",
       "7              0.8575             0.8875             0.8675   \n",
       "\n",
       "    split4_test_score  mean_test_score  std_test_score  rank_test_score  \n",
       "9            0.874687         0.865437        0.022075                1  \n",
       "10           0.874687         0.865437        0.022075                1  \n",
       "11           0.874687         0.865437        0.022075                1  \n",
       "6            0.877193         0.864439        0.018826                4  \n",
       "7            0.877193         0.864439        0.018826                4  "
      ]
     },
     "execution_count": 74,
     "metadata": {},
     "output_type": "execute_result"
    }
   ],
   "source": [
    "pd.DataFrame(grid.cv_results_).sort_values('rank_test_score').head()"
   ]
  },
  {
   "cell_type": "code",
   "execution_count": 75,
   "metadata": {},
   "outputs": [
    {
     "data": {
      "text/plain": [
       "0.865437343358396"
      ]
     },
     "execution_count": 75,
     "metadata": {},
     "output_type": "execute_result"
    }
   ],
   "source": [
    "grid.best_score_"
   ]
  },
  {
   "cell_type": "code",
   "execution_count": 76,
   "metadata": {},
   "outputs": [
    {
     "data": {
      "text/plain": [
       "{'logisticregression__C': 100,\n",
       " 'logisticregression__max_iter': 100,\n",
       " 'logisticregression__solver': 'liblinear'}"
      ]
     },
     "execution_count": 76,
     "metadata": {},
     "output_type": "execute_result"
    }
   ],
   "source": [
    "grid.best_params_"
   ]
  },
  {
   "cell_type": "markdown",
   "metadata": {},
   "source": [
    "---"
   ]
  },
  {
   "cell_type": "markdown",
   "metadata": {},
   "source": [
    "### Feature Selection"
   ]
  },
  {
   "cell_type": "code",
   "execution_count": 77,
   "metadata": {},
   "outputs": [],
   "source": [
    "# To understand feature selection with a smaller subset of columns\n",
    "# I'm going to removed state and then use the column transformer\n",
    "# to preprocess features so that they can be worked on\n",
    "\n",
    "\n",
    "# TO DO:\n",
    "    # Can feature selection happen BEFORE you preprocess data??\n",
    "    # How to handle OHE variables with feature selection\n",
    "    # How to get the column names of preprocessed features???\n",
    "    # How to incorporate feature selection techinques within pipelines??\n",
    "\n",
    "\n",
    "\n",
    "\n",
    "\n",
    "\n"
   ]
  },
  {
   "cell_type": "code",
   "execution_count": 78,
   "metadata": {},
   "outputs": [],
   "source": [
    "def select_features(X_train, y_train): #@, X_test):\n",
    "    fs = SelectKBest(score_func=chi2, k=5)#'all')\n",
    "    fs.fit(X_train, y_train)\n",
    "    X_train_fs = fs.transform(X_train)\n",
    "    return X_train, fs"
   ]
  },
  {
   "cell_type": "code",
   "execution_count": 79,
   "metadata": {},
   "outputs": [],
   "source": [
    "X_train_fs, fs = select_features(X_train_tf, y_train)"
   ]
  },
  {
   "cell_type": "code",
   "execution_count": 80,
   "metadata": {},
   "outputs": [
    {
     "data": {
      "text/html": [
       "<div>\n",
       "<style scoped>\n",
       "    .dataframe tbody tr th:only-of-type {\n",
       "        vertical-align: middle;\n",
       "    }\n",
       "\n",
       "    .dataframe tbody tr th {\n",
       "        vertical-align: top;\n",
       "    }\n",
       "\n",
       "    .dataframe thead th {\n",
       "        text-align: right;\n",
       "    }\n",
       "</style>\n",
       "<table border=\"1\" class=\"dataframe\">\n",
       "  <thead>\n",
       "    <tr style=\"text-align: right;\">\n",
       "      <th></th>\n",
       "      <th>Intl_Plan</th>\n",
       "      <th>Vmail_Plan</th>\n",
       "      <th>x0_AK</th>\n",
       "      <th>x0_AL</th>\n",
       "      <th>x0_AR</th>\n",
       "      <th>x0_AZ</th>\n",
       "      <th>x0_CA</th>\n",
       "      <th>x0_CO</th>\n",
       "      <th>x0_CT</th>\n",
       "      <th>x0_DC</th>\n",
       "      <th>...</th>\n",
       "      <th>CustServ_Calls</th>\n",
       "      <th>Day_Calls</th>\n",
       "      <th>Day_Charge</th>\n",
       "      <th>Eve_Calls</th>\n",
       "      <th>Eve_Charge</th>\n",
       "      <th>Night_Calls</th>\n",
       "      <th>Night_Charge</th>\n",
       "      <th>Intl_Calls</th>\n",
       "      <th>Intl_Charge</th>\n",
       "      <th>Vmail_Message_b</th>\n",
       "    </tr>\n",
       "  </thead>\n",
       "  <tbody>\n",
       "    <tr>\n",
       "      <td>0</td>\n",
       "      <td>0.0</td>\n",
       "      <td>0.0</td>\n",
       "      <td>0.0</td>\n",
       "      <td>0.0</td>\n",
       "      <td>0.0</td>\n",
       "      <td>0.0</td>\n",
       "      <td>0.0</td>\n",
       "      <td>0.0</td>\n",
       "      <td>0.0</td>\n",
       "      <td>0.0</td>\n",
       "      <td>...</td>\n",
       "      <td>0.0</td>\n",
       "      <td>132.0</td>\n",
       "      <td>40.05</td>\n",
       "      <td>129.0</td>\n",
       "      <td>9.85</td>\n",
       "      <td>136.0</td>\n",
       "      <td>8.34</td>\n",
       "      <td>2.0</td>\n",
       "      <td>4.37</td>\n",
       "      <td>0.0</td>\n",
       "    </tr>\n",
       "    <tr>\n",
       "      <td>1</td>\n",
       "      <td>0.0</td>\n",
       "      <td>0.0</td>\n",
       "      <td>0.0</td>\n",
       "      <td>0.0</td>\n",
       "      <td>0.0</td>\n",
       "      <td>0.0</td>\n",
       "      <td>0.0</td>\n",
       "      <td>0.0</td>\n",
       "      <td>0.0</td>\n",
       "      <td>0.0</td>\n",
       "      <td>...</td>\n",
       "      <td>2.0</td>\n",
       "      <td>100.0</td>\n",
       "      <td>23.58</td>\n",
       "      <td>58.0</td>\n",
       "      <td>18.31</td>\n",
       "      <td>98.0</td>\n",
       "      <td>7.39</td>\n",
       "      <td>4.0</td>\n",
       "      <td>1.32</td>\n",
       "      <td>0.0</td>\n",
       "    </tr>\n",
       "    <tr>\n",
       "      <td>2</td>\n",
       "      <td>0.0</td>\n",
       "      <td>0.0</td>\n",
       "      <td>0.0</td>\n",
       "      <td>1.0</td>\n",
       "      <td>0.0</td>\n",
       "      <td>0.0</td>\n",
       "      <td>0.0</td>\n",
       "      <td>0.0</td>\n",
       "      <td>0.0</td>\n",
       "      <td>0.0</td>\n",
       "      <td>...</td>\n",
       "      <td>5.0</td>\n",
       "      <td>71.0</td>\n",
       "      <td>21.96</td>\n",
       "      <td>68.0</td>\n",
       "      <td>18.20</td>\n",
       "      <td>100.0</td>\n",
       "      <td>9.67</td>\n",
       "      <td>4.0</td>\n",
       "      <td>2.78</td>\n",
       "      <td>0.0</td>\n",
       "    </tr>\n",
       "    <tr>\n",
       "      <td>3</td>\n",
       "      <td>0.0</td>\n",
       "      <td>0.0</td>\n",
       "      <td>0.0</td>\n",
       "      <td>0.0</td>\n",
       "      <td>0.0</td>\n",
       "      <td>0.0</td>\n",
       "      <td>0.0</td>\n",
       "      <td>0.0</td>\n",
       "      <td>0.0</td>\n",
       "      <td>0.0</td>\n",
       "      <td>...</td>\n",
       "      <td>1.0</td>\n",
       "      <td>116.0</td>\n",
       "      <td>41.79</td>\n",
       "      <td>91.0</td>\n",
       "      <td>24.37</td>\n",
       "      <td>115.0</td>\n",
       "      <td>10.83</td>\n",
       "      <td>13.0</td>\n",
       "      <td>2.43</td>\n",
       "      <td>0.0</td>\n",
       "    </tr>\n",
       "    <tr>\n",
       "      <td>4</td>\n",
       "      <td>0.0</td>\n",
       "      <td>0.0</td>\n",
       "      <td>0.0</td>\n",
       "      <td>0.0</td>\n",
       "      <td>0.0</td>\n",
       "      <td>0.0</td>\n",
       "      <td>0.0</td>\n",
       "      <td>1.0</td>\n",
       "      <td>0.0</td>\n",
       "      <td>0.0</td>\n",
       "      <td>...</td>\n",
       "      <td>1.0</td>\n",
       "      <td>92.0</td>\n",
       "      <td>26.11</td>\n",
       "      <td>88.0</td>\n",
       "      <td>17.47</td>\n",
       "      <td>89.0</td>\n",
       "      <td>5.15</td>\n",
       "      <td>10.0</td>\n",
       "      <td>3.38</td>\n",
       "      <td>0.0</td>\n",
       "    </tr>\n",
       "    <tr>\n",
       "      <td>...</td>\n",
       "      <td>...</td>\n",
       "      <td>...</td>\n",
       "      <td>...</td>\n",
       "      <td>...</td>\n",
       "      <td>...</td>\n",
       "      <td>...</td>\n",
       "      <td>...</td>\n",
       "      <td>...</td>\n",
       "      <td>...</td>\n",
       "      <td>...</td>\n",
       "      <td>...</td>\n",
       "      <td>...</td>\n",
       "      <td>...</td>\n",
       "      <td>...</td>\n",
       "      <td>...</td>\n",
       "      <td>...</td>\n",
       "      <td>...</td>\n",
       "      <td>...</td>\n",
       "      <td>...</td>\n",
       "      <td>...</td>\n",
       "      <td>...</td>\n",
       "    </tr>\n",
       "    <tr>\n",
       "      <td>1994</td>\n",
       "      <td>0.0</td>\n",
       "      <td>0.0</td>\n",
       "      <td>0.0</td>\n",
       "      <td>0.0</td>\n",
       "      <td>0.0</td>\n",
       "      <td>0.0</td>\n",
       "      <td>0.0</td>\n",
       "      <td>0.0</td>\n",
       "      <td>0.0</td>\n",
       "      <td>1.0</td>\n",
       "      <td>...</td>\n",
       "      <td>1.0</td>\n",
       "      <td>145.0</td>\n",
       "      <td>25.98</td>\n",
       "      <td>102.0</td>\n",
       "      <td>15.61</td>\n",
       "      <td>75.0</td>\n",
       "      <td>6.83</td>\n",
       "      <td>2.0</td>\n",
       "      <td>2.84</td>\n",
       "      <td>0.0</td>\n",
       "    </tr>\n",
       "    <tr>\n",
       "      <td>1995</td>\n",
       "      <td>0.0</td>\n",
       "      <td>0.0</td>\n",
       "      <td>0.0</td>\n",
       "      <td>0.0</td>\n",
       "      <td>0.0</td>\n",
       "      <td>0.0</td>\n",
       "      <td>0.0</td>\n",
       "      <td>0.0</td>\n",
       "      <td>0.0</td>\n",
       "      <td>0.0</td>\n",
       "      <td>...</td>\n",
       "      <td>2.0</td>\n",
       "      <td>92.0</td>\n",
       "      <td>34.03</td>\n",
       "      <td>87.0</td>\n",
       "      <td>10.09</td>\n",
       "      <td>65.0</td>\n",
       "      <td>10.65</td>\n",
       "      <td>6.0</td>\n",
       "      <td>1.62</td>\n",
       "      <td>0.0</td>\n",
       "    </tr>\n",
       "    <tr>\n",
       "      <td>1996</td>\n",
       "      <td>0.0</td>\n",
       "      <td>0.0</td>\n",
       "      <td>0.0</td>\n",
       "      <td>0.0</td>\n",
       "      <td>0.0</td>\n",
       "      <td>0.0</td>\n",
       "      <td>0.0</td>\n",
       "      <td>0.0</td>\n",
       "      <td>0.0</td>\n",
       "      <td>0.0</td>\n",
       "      <td>...</td>\n",
       "      <td>0.0</td>\n",
       "      <td>147.0</td>\n",
       "      <td>39.13</td>\n",
       "      <td>121.0</td>\n",
       "      <td>15.87</td>\n",
       "      <td>100.0</td>\n",
       "      <td>5.78</td>\n",
       "      <td>3.0</td>\n",
       "      <td>2.48</td>\n",
       "      <td>0.0</td>\n",
       "    </tr>\n",
       "    <tr>\n",
       "      <td>1997</td>\n",
       "      <td>0.0</td>\n",
       "      <td>0.0</td>\n",
       "      <td>0.0</td>\n",
       "      <td>0.0</td>\n",
       "      <td>1.0</td>\n",
       "      <td>0.0</td>\n",
       "      <td>0.0</td>\n",
       "      <td>0.0</td>\n",
       "      <td>0.0</td>\n",
       "      <td>0.0</td>\n",
       "      <td>...</td>\n",
       "      <td>2.0</td>\n",
       "      <td>107.0</td>\n",
       "      <td>40.61</td>\n",
       "      <td>88.0</td>\n",
       "      <td>15.91</td>\n",
       "      <td>84.0</td>\n",
       "      <td>8.15</td>\n",
       "      <td>3.0</td>\n",
       "      <td>3.19</td>\n",
       "      <td>0.0</td>\n",
       "    </tr>\n",
       "    <tr>\n",
       "      <td>1998</td>\n",
       "      <td>1.0</td>\n",
       "      <td>0.0</td>\n",
       "      <td>0.0</td>\n",
       "      <td>0.0</td>\n",
       "      <td>0.0</td>\n",
       "      <td>0.0</td>\n",
       "      <td>0.0</td>\n",
       "      <td>0.0</td>\n",
       "      <td>0.0</td>\n",
       "      <td>0.0</td>\n",
       "      <td>...</td>\n",
       "      <td>1.0</td>\n",
       "      <td>78.0</td>\n",
       "      <td>37.81</td>\n",
       "      <td>111.0</td>\n",
       "      <td>27.80</td>\n",
       "      <td>104.0</td>\n",
       "      <td>9.36</td>\n",
       "      <td>9.0</td>\n",
       "      <td>2.35</td>\n",
       "      <td>0.0</td>\n",
       "    </tr>\n",
       "  </tbody>\n",
       "</table>\n",
       "<p>1999 rows × 64 columns</p>\n",
       "</div>"
      ],
      "text/plain": [
       "      Intl_Plan  Vmail_Plan  x0_AK  x0_AL  x0_AR  x0_AZ  x0_CA  x0_CO  x0_CT  \\\n",
       "0           0.0         0.0    0.0    0.0    0.0    0.0    0.0    0.0    0.0   \n",
       "1           0.0         0.0    0.0    0.0    0.0    0.0    0.0    0.0    0.0   \n",
       "2           0.0         0.0    0.0    1.0    0.0    0.0    0.0    0.0    0.0   \n",
       "3           0.0         0.0    0.0    0.0    0.0    0.0    0.0    0.0    0.0   \n",
       "4           0.0         0.0    0.0    0.0    0.0    0.0    0.0    1.0    0.0   \n",
       "...         ...         ...    ...    ...    ...    ...    ...    ...    ...   \n",
       "1994        0.0         0.0    0.0    0.0    0.0    0.0    0.0    0.0    0.0   \n",
       "1995        0.0         0.0    0.0    0.0    0.0    0.0    0.0    0.0    0.0   \n",
       "1996        0.0         0.0    0.0    0.0    0.0    0.0    0.0    0.0    0.0   \n",
       "1997        0.0         0.0    0.0    0.0    1.0    0.0    0.0    0.0    0.0   \n",
       "1998        1.0         0.0    0.0    0.0    0.0    0.0    0.0    0.0    0.0   \n",
       "\n",
       "      x0_DC  ...  CustServ_Calls  Day_Calls  Day_Charge  Eve_Calls  \\\n",
       "0       0.0  ...             0.0      132.0       40.05      129.0   \n",
       "1       0.0  ...             2.0      100.0       23.58       58.0   \n",
       "2       0.0  ...             5.0       71.0       21.96       68.0   \n",
       "3       0.0  ...             1.0      116.0       41.79       91.0   \n",
       "4       0.0  ...             1.0       92.0       26.11       88.0   \n",
       "...     ...  ...             ...        ...         ...        ...   \n",
       "1994    1.0  ...             1.0      145.0       25.98      102.0   \n",
       "1995    0.0  ...             2.0       92.0       34.03       87.0   \n",
       "1996    0.0  ...             0.0      147.0       39.13      121.0   \n",
       "1997    0.0  ...             2.0      107.0       40.61       88.0   \n",
       "1998    0.0  ...             1.0       78.0       37.81      111.0   \n",
       "\n",
       "      Eve_Charge  Night_Calls  Night_Charge  Intl_Calls  Intl_Charge  \\\n",
       "0           9.85        136.0          8.34         2.0         4.37   \n",
       "1          18.31         98.0          7.39         4.0         1.32   \n",
       "2          18.20        100.0          9.67         4.0         2.78   \n",
       "3          24.37        115.0         10.83        13.0         2.43   \n",
       "4          17.47         89.0          5.15        10.0         3.38   \n",
       "...          ...          ...           ...         ...          ...   \n",
       "1994       15.61         75.0          6.83         2.0         2.84   \n",
       "1995       10.09         65.0         10.65         6.0         1.62   \n",
       "1996       15.87        100.0          5.78         3.0         2.48   \n",
       "1997       15.91         84.0          8.15         3.0         3.19   \n",
       "1998       27.80        104.0          9.36         9.0         2.35   \n",
       "\n",
       "      Vmail_Message_b  \n",
       "0                 0.0  \n",
       "1                 0.0  \n",
       "2                 0.0  \n",
       "3                 0.0  \n",
       "4                 0.0  \n",
       "...               ...  \n",
       "1994              0.0  \n",
       "1995              0.0  \n",
       "1996              0.0  \n",
       "1997              0.0  \n",
       "1998              0.0  \n",
       "\n",
       "[1999 rows x 64 columns]"
      ]
     },
     "execution_count": 80,
     "metadata": {},
     "output_type": "execute_result"
    }
   ],
   "source": [
    "X_train_fs"
   ]
  },
  {
   "cell_type": "code",
   "execution_count": 81,
   "metadata": {},
   "outputs": [
    {
     "data": {
      "text/plain": [
       "(1999, 5)"
      ]
     },
     "execution_count": 81,
     "metadata": {},
     "output_type": "execute_result"
    }
   ],
   "source": [
    "best5 = SelectKBest(chi2, k=5).fit_transform(X_train_tf, y_train)\n",
    "best5.shape"
   ]
  },
  {
   "cell_type": "code",
   "execution_count": 82,
   "metadata": {},
   "outputs": [
    {
     "data": {
      "text/plain": [
       "array([[  0.  ,  24.  ,   0.  ,  40.05,   9.85],\n",
       "       [  0.  , 104.  ,   2.  ,  23.58,  18.31],\n",
       "       [  0.  ,  89.  ,   5.  ,  21.96,  18.2 ],\n",
       "       [  0.  , 145.  ,   1.  ,  41.79,  24.37],\n",
       "       [  0.  ,  59.  ,   1.  ,  26.11,  17.47]])"
      ]
     },
     "execution_count": 82,
     "metadata": {},
     "output_type": "execute_result"
    }
   ],
   "source": [
    "best5[:5]"
   ]
  },
  {
   "cell_type": "code",
   "execution_count": 83,
   "metadata": {},
   "outputs": [
    {
     "data": {
      "text/html": [
       "<div>\n",
       "<style scoped>\n",
       "    .dataframe tbody tr th:only-of-type {\n",
       "        vertical-align: middle;\n",
       "    }\n",
       "\n",
       "    .dataframe tbody tr th {\n",
       "        vertical-align: top;\n",
       "    }\n",
       "\n",
       "    .dataframe thead th {\n",
       "        text-align: right;\n",
       "    }\n",
       "</style>\n",
       "<table border=\"1\" class=\"dataframe\">\n",
       "  <thead>\n",
       "    <tr style=\"text-align: right;\">\n",
       "      <th></th>\n",
       "      <th>Intl_Plan</th>\n",
       "      <th>Vmail_Plan</th>\n",
       "      <th>x0_AK</th>\n",
       "      <th>x0_AL</th>\n",
       "      <th>x0_AR</th>\n",
       "      <th>x0_AZ</th>\n",
       "      <th>x0_CA</th>\n",
       "      <th>x0_CO</th>\n",
       "      <th>x0_CT</th>\n",
       "      <th>x0_DC</th>\n",
       "      <th>...</th>\n",
       "      <th>CustServ_Calls</th>\n",
       "      <th>Day_Calls</th>\n",
       "      <th>Day_Charge</th>\n",
       "      <th>Eve_Calls</th>\n",
       "      <th>Eve_Charge</th>\n",
       "      <th>Night_Calls</th>\n",
       "      <th>Night_Charge</th>\n",
       "      <th>Intl_Calls</th>\n",
       "      <th>Intl_Charge</th>\n",
       "      <th>Vmail_Message_b</th>\n",
       "    </tr>\n",
       "  </thead>\n",
       "  <tbody>\n",
       "    <tr>\n",
       "      <td>0</td>\n",
       "      <td>0.0</td>\n",
       "      <td>0.0</td>\n",
       "      <td>0.0</td>\n",
       "      <td>0.0</td>\n",
       "      <td>0.0</td>\n",
       "      <td>0.0</td>\n",
       "      <td>0.0</td>\n",
       "      <td>0.0</td>\n",
       "      <td>0.0</td>\n",
       "      <td>0.0</td>\n",
       "      <td>...</td>\n",
       "      <td>0.0</td>\n",
       "      <td>132.0</td>\n",
       "      <td>40.05</td>\n",
       "      <td>129.0</td>\n",
       "      <td>9.85</td>\n",
       "      <td>136.0</td>\n",
       "      <td>8.34</td>\n",
       "      <td>2.0</td>\n",
       "      <td>4.37</td>\n",
       "      <td>0.0</td>\n",
       "    </tr>\n",
       "    <tr>\n",
       "      <td>1</td>\n",
       "      <td>0.0</td>\n",
       "      <td>0.0</td>\n",
       "      <td>0.0</td>\n",
       "      <td>0.0</td>\n",
       "      <td>0.0</td>\n",
       "      <td>0.0</td>\n",
       "      <td>0.0</td>\n",
       "      <td>0.0</td>\n",
       "      <td>0.0</td>\n",
       "      <td>0.0</td>\n",
       "      <td>...</td>\n",
       "      <td>2.0</td>\n",
       "      <td>100.0</td>\n",
       "      <td>23.58</td>\n",
       "      <td>58.0</td>\n",
       "      <td>18.31</td>\n",
       "      <td>98.0</td>\n",
       "      <td>7.39</td>\n",
       "      <td>4.0</td>\n",
       "      <td>1.32</td>\n",
       "      <td>0.0</td>\n",
       "    </tr>\n",
       "    <tr>\n",
       "      <td>2</td>\n",
       "      <td>0.0</td>\n",
       "      <td>0.0</td>\n",
       "      <td>0.0</td>\n",
       "      <td>1.0</td>\n",
       "      <td>0.0</td>\n",
       "      <td>0.0</td>\n",
       "      <td>0.0</td>\n",
       "      <td>0.0</td>\n",
       "      <td>0.0</td>\n",
       "      <td>0.0</td>\n",
       "      <td>...</td>\n",
       "      <td>5.0</td>\n",
       "      <td>71.0</td>\n",
       "      <td>21.96</td>\n",
       "      <td>68.0</td>\n",
       "      <td>18.20</td>\n",
       "      <td>100.0</td>\n",
       "      <td>9.67</td>\n",
       "      <td>4.0</td>\n",
       "      <td>2.78</td>\n",
       "      <td>0.0</td>\n",
       "    </tr>\n",
       "    <tr>\n",
       "      <td>3</td>\n",
       "      <td>0.0</td>\n",
       "      <td>0.0</td>\n",
       "      <td>0.0</td>\n",
       "      <td>0.0</td>\n",
       "      <td>0.0</td>\n",
       "      <td>0.0</td>\n",
       "      <td>0.0</td>\n",
       "      <td>0.0</td>\n",
       "      <td>0.0</td>\n",
       "      <td>0.0</td>\n",
       "      <td>...</td>\n",
       "      <td>1.0</td>\n",
       "      <td>116.0</td>\n",
       "      <td>41.79</td>\n",
       "      <td>91.0</td>\n",
       "      <td>24.37</td>\n",
       "      <td>115.0</td>\n",
       "      <td>10.83</td>\n",
       "      <td>13.0</td>\n",
       "      <td>2.43</td>\n",
       "      <td>0.0</td>\n",
       "    </tr>\n",
       "    <tr>\n",
       "      <td>4</td>\n",
       "      <td>0.0</td>\n",
       "      <td>0.0</td>\n",
       "      <td>0.0</td>\n",
       "      <td>0.0</td>\n",
       "      <td>0.0</td>\n",
       "      <td>0.0</td>\n",
       "      <td>0.0</td>\n",
       "      <td>1.0</td>\n",
       "      <td>0.0</td>\n",
       "      <td>0.0</td>\n",
       "      <td>...</td>\n",
       "      <td>1.0</td>\n",
       "      <td>92.0</td>\n",
       "      <td>26.11</td>\n",
       "      <td>88.0</td>\n",
       "      <td>17.47</td>\n",
       "      <td>89.0</td>\n",
       "      <td>5.15</td>\n",
       "      <td>10.0</td>\n",
       "      <td>3.38</td>\n",
       "      <td>0.0</td>\n",
       "    </tr>\n",
       "  </tbody>\n",
       "</table>\n",
       "<p>5 rows × 64 columns</p>\n",
       "</div>"
      ],
      "text/plain": [
       "   Intl_Plan  Vmail_Plan  x0_AK  x0_AL  x0_AR  x0_AZ  x0_CA  x0_CO  x0_CT  \\\n",
       "0        0.0         0.0    0.0    0.0    0.0    0.0    0.0    0.0    0.0   \n",
       "1        0.0         0.0    0.0    0.0    0.0    0.0    0.0    0.0    0.0   \n",
       "2        0.0         0.0    0.0    1.0    0.0    0.0    0.0    0.0    0.0   \n",
       "3        0.0         0.0    0.0    0.0    0.0    0.0    0.0    0.0    0.0   \n",
       "4        0.0         0.0    0.0    0.0    0.0    0.0    0.0    1.0    0.0   \n",
       "\n",
       "   x0_DC  ...  CustServ_Calls  Day_Calls  Day_Charge  Eve_Calls  Eve_Charge  \\\n",
       "0    0.0  ...             0.0      132.0       40.05      129.0        9.85   \n",
       "1    0.0  ...             2.0      100.0       23.58       58.0       18.31   \n",
       "2    0.0  ...             5.0       71.0       21.96       68.0       18.20   \n",
       "3    0.0  ...             1.0      116.0       41.79       91.0       24.37   \n",
       "4    0.0  ...             1.0       92.0       26.11       88.0       17.47   \n",
       "\n",
       "   Night_Calls  Night_Charge  Intl_Calls  Intl_Charge  Vmail_Message_b  \n",
       "0        136.0          8.34         2.0         4.37              0.0  \n",
       "1         98.0          7.39         4.0         1.32              0.0  \n",
       "2        100.0          9.67         4.0         2.78              0.0  \n",
       "3        115.0         10.83        13.0         2.43              0.0  \n",
       "4         89.0          5.15        10.0         3.38              0.0  \n",
       "\n",
       "[5 rows x 64 columns]"
      ]
     },
     "execution_count": 83,
     "metadata": {},
     "output_type": "execute_result"
    }
   ],
   "source": [
    "X_train_tf.head()"
   ]
  },
  {
   "cell_type": "markdown",
   "metadata": {},
   "source": [
    "### Feature Selection-2"
   ]
  },
  {
   "cell_type": "code",
   "execution_count": 130,
   "metadata": {},
   "outputs": [
    {
     "data": {
      "text/html": [
       "<div>\n",
       "<style scoped>\n",
       "    .dataframe tbody tr th:only-of-type {\n",
       "        vertical-align: middle;\n",
       "    }\n",
       "\n",
       "    .dataframe tbody tr th {\n",
       "        vertical-align: top;\n",
       "    }\n",
       "\n",
       "    .dataframe thead th {\n",
       "        text-align: right;\n",
       "    }\n",
       "</style>\n",
       "<table border=\"1\" class=\"dataframe\">\n",
       "  <thead>\n",
       "    <tr style=\"text-align: right;\">\n",
       "      <th></th>\n",
       "      <th>Intl_Plan</th>\n",
       "      <th>Vmail_Plan</th>\n",
       "      <th>Account_Length</th>\n",
       "      <th>CustServ_Calls</th>\n",
       "      <th>Day_Calls</th>\n",
       "      <th>Day_Charge</th>\n",
       "      <th>Eve_Calls</th>\n",
       "      <th>Eve_Charge</th>\n",
       "      <th>Night_Calls</th>\n",
       "      <th>Night_Charge</th>\n",
       "      <th>Intl_Calls</th>\n",
       "      <th>Intl_Charge</th>\n",
       "      <th>Vmail_Message_b</th>\n",
       "    </tr>\n",
       "  </thead>\n",
       "  <tbody>\n",
       "    <tr>\n",
       "      <td>0</td>\n",
       "      <td>0.0</td>\n",
       "      <td>0.0</td>\n",
       "      <td>24.0</td>\n",
       "      <td>0.0</td>\n",
       "      <td>132.0</td>\n",
       "      <td>40.05</td>\n",
       "      <td>129.0</td>\n",
       "      <td>9.85</td>\n",
       "      <td>136.0</td>\n",
       "      <td>8.34</td>\n",
       "      <td>2.0</td>\n",
       "      <td>4.37</td>\n",
       "      <td>0.0</td>\n",
       "    </tr>\n",
       "    <tr>\n",
       "      <td>1</td>\n",
       "      <td>0.0</td>\n",
       "      <td>0.0</td>\n",
       "      <td>104.0</td>\n",
       "      <td>2.0</td>\n",
       "      <td>100.0</td>\n",
       "      <td>23.58</td>\n",
       "      <td>58.0</td>\n",
       "      <td>18.31</td>\n",
       "      <td>98.0</td>\n",
       "      <td>7.39</td>\n",
       "      <td>4.0</td>\n",
       "      <td>1.32</td>\n",
       "      <td>0.0</td>\n",
       "    </tr>\n",
       "    <tr>\n",
       "      <td>2</td>\n",
       "      <td>0.0</td>\n",
       "      <td>0.0</td>\n",
       "      <td>89.0</td>\n",
       "      <td>5.0</td>\n",
       "      <td>71.0</td>\n",
       "      <td>21.96</td>\n",
       "      <td>68.0</td>\n",
       "      <td>18.20</td>\n",
       "      <td>100.0</td>\n",
       "      <td>9.67</td>\n",
       "      <td>4.0</td>\n",
       "      <td>2.78</td>\n",
       "      <td>0.0</td>\n",
       "    </tr>\n",
       "    <tr>\n",
       "      <td>3</td>\n",
       "      <td>0.0</td>\n",
       "      <td>0.0</td>\n",
       "      <td>145.0</td>\n",
       "      <td>1.0</td>\n",
       "      <td>116.0</td>\n",
       "      <td>41.79</td>\n",
       "      <td>91.0</td>\n",
       "      <td>24.37</td>\n",
       "      <td>115.0</td>\n",
       "      <td>10.83</td>\n",
       "      <td>13.0</td>\n",
       "      <td>2.43</td>\n",
       "      <td>0.0</td>\n",
       "    </tr>\n",
       "    <tr>\n",
       "      <td>4</td>\n",
       "      <td>0.0</td>\n",
       "      <td>0.0</td>\n",
       "      <td>59.0</td>\n",
       "      <td>1.0</td>\n",
       "      <td>92.0</td>\n",
       "      <td>26.11</td>\n",
       "      <td>88.0</td>\n",
       "      <td>17.47</td>\n",
       "      <td>89.0</td>\n",
       "      <td>5.15</td>\n",
       "      <td>10.0</td>\n",
       "      <td>3.38</td>\n",
       "      <td>0.0</td>\n",
       "    </tr>\n",
       "  </tbody>\n",
       "</table>\n",
       "</div>"
      ],
      "text/plain": [
       "   Intl_Plan  Vmail_Plan  Account_Length  CustServ_Calls  Day_Calls  \\\n",
       "0        0.0         0.0            24.0             0.0      132.0   \n",
       "1        0.0         0.0           104.0             2.0      100.0   \n",
       "2        0.0         0.0            89.0             5.0       71.0   \n",
       "3        0.0         0.0           145.0             1.0      116.0   \n",
       "4        0.0         0.0            59.0             1.0       92.0   \n",
       "\n",
       "   Day_Charge  Eve_Calls  Eve_Charge  Night_Calls  Night_Charge  Intl_Calls  \\\n",
       "0       40.05      129.0        9.85        136.0          8.34         2.0   \n",
       "1       23.58       58.0       18.31         98.0          7.39         4.0   \n",
       "2       21.96       68.0       18.20        100.0          9.67         4.0   \n",
       "3       41.79       91.0       24.37        115.0         10.83        13.0   \n",
       "4       26.11       88.0       17.47         89.0          5.15        10.0   \n",
       "\n",
       "   Intl_Charge  Vmail_Message_b  \n",
       "0         4.37              0.0  \n",
       "1         1.32              0.0  \n",
       "2         2.78              0.0  \n",
       "3         2.43              0.0  \n",
       "4         3.38              0.0  "
      ]
     },
     "execution_count": 130,
     "metadata": {},
     "output_type": "execute_result"
    }
   ],
   "source": [
    "# Selecting all columns that are not State OHE for feature selection\n",
    "\n",
    "X_train_tf_non_state = X_train_tf[X_train_tf.columns[~X_train_tf.columns.str.startswith('x0')]]\n",
    "X_train_tf_non_state.head()"
   ]
  },
  {
   "cell_type": "code",
   "execution_count": 140,
   "metadata": {},
   "outputs": [],
   "source": [
    "features_for_chi2_fs = ['Intl_Plan', 'Vmail_Plan', 'Account_Length', 'Vmail_Message_b', 'CustServ_Calls']"
   ]
  },
  {
   "cell_type": "code",
   "execution_count": 147,
   "metadata": {},
   "outputs": [
    {
     "data": {
      "text/plain": [
       "SelectKBest(k='all', score_func=<function chi2 at 0x7ff2796b9050>)"
      ]
     },
     "execution_count": 147,
     "metadata": {},
     "output_type": "execute_result"
    }
   ],
   "source": [
    "bestk = SelectKBest(score_func=chi2, k='all')\n",
    "bestk"
   ]
  },
  {
   "cell_type": "code",
   "execution_count": 148,
   "metadata": {},
   "outputs": [
    {
     "data": {
      "text/plain": [
       "SelectKBest(k='all', score_func=<function chi2 at 0x7ff2796b9050>)"
      ]
     },
     "execution_count": 148,
     "metadata": {},
     "output_type": "execute_result"
    }
   ],
   "source": [
    "bestk.fit(X_train_tf[features_for_chi2_fs], y_train)"
   ]
  },
  {
   "cell_type": "code",
   "execution_count": 149,
   "metadata": {},
   "outputs": [
    {
     "data": {
      "text/plain": [
       "array([3.88488129e-34, 3.92156363e-05, 4.05685751e-06, 3.92156363e-05,\n",
       "       7.37115204e-21])"
      ]
     },
     "execution_count": 149,
     "metadata": {},
     "output_type": "execute_result"
    }
   ],
   "source": [
    "bestk.pvalues_"
   ]
  },
  {
   "cell_type": "code",
   "execution_count": 151,
   "metadata": {},
   "outputs": [
    {
     "data": {
      "text/html": [
       "<div>\n",
       "<style scoped>\n",
       "    .dataframe tbody tr th:only-of-type {\n",
       "        vertical-align: middle;\n",
       "    }\n",
       "\n",
       "    .dataframe tbody tr th {\n",
       "        vertical-align: top;\n",
       "    }\n",
       "\n",
       "    .dataframe thead th {\n",
       "        text-align: right;\n",
       "    }\n",
       "</style>\n",
       "<table border=\"1\" class=\"dataframe\">\n",
       "  <thead>\n",
       "    <tr style=\"text-align: right;\">\n",
       "      <th></th>\n",
       "      <th>Features</th>\n",
       "      <th>pvalues</th>\n",
       "    </tr>\n",
       "  </thead>\n",
       "  <tbody>\n",
       "    <tr>\n",
       "      <td>0</td>\n",
       "      <td>Intl_Plan</td>\n",
       "      <td>3.884881e-34</td>\n",
       "    </tr>\n",
       "    <tr>\n",
       "      <td>1</td>\n",
       "      <td>Vmail_Plan</td>\n",
       "      <td>3.921564e-05</td>\n",
       "    </tr>\n",
       "    <tr>\n",
       "      <td>2</td>\n",
       "      <td>Account_Length</td>\n",
       "      <td>4.056858e-06</td>\n",
       "    </tr>\n",
       "    <tr>\n",
       "      <td>3</td>\n",
       "      <td>Vmail_Message_b</td>\n",
       "      <td>3.921564e-05</td>\n",
       "    </tr>\n",
       "    <tr>\n",
       "      <td>4</td>\n",
       "      <td>CustServ_Calls</td>\n",
       "      <td>7.371152e-21</td>\n",
       "    </tr>\n",
       "  </tbody>\n",
       "</table>\n",
       "</div>"
      ],
      "text/plain": [
       "          Features       pvalues\n",
       "0        Intl_Plan  3.884881e-34\n",
       "1       Vmail_Plan  3.921564e-05\n",
       "2   Account_Length  4.056858e-06\n",
       "3  Vmail_Message_b  3.921564e-05\n",
       "4   CustServ_Calls  7.371152e-21"
      ]
     },
     "execution_count": 151,
     "metadata": {},
     "output_type": "execute_result"
    }
   ],
   "source": [
    "# All the preselected features for feature selection seem important based on\n",
    "# their low p-values (<0.05)\n",
    "pd.DataFrame(zip(X_train_tf[features_for_chi2_fs], bestk.pvalues_), columns=['Features','pvalues'])"
   ]
  },
  {
   "cell_type": "markdown",
   "metadata": {},
   "source": [
    "#### f_classif"
   ]
  },
  {
   "cell_type": "code",
   "execution_count": null,
   "metadata": {},
   "outputs": [],
   "source": [
    "# Not much point there.... Let's try:\n",
    "# 1. f_classif -- requires the entities used to be normally distribution and is sensitive to this. So ignore for now.\n",
    "# 2 RFE \n",
    "# to close out Features Selection."
   ]
  },
  {
   "cell_type": "markdown",
   "metadata": {},
   "source": [
    "#### RFE"
   ]
  },
  {
   "cell_type": "code",
   "execution_count": 153,
   "metadata": {},
   "outputs": [
    {
     "data": {
      "text/plain": [
       "RFE(estimator=LogisticRegression())"
      ]
     },
     "execution_count": 153,
     "metadata": {},
     "output_type": "execute_result"
    }
   ],
   "source": [
    "rfe = RFE(logreg, step=1)\n",
    "rfe"
   ]
  },
  {
   "cell_type": "code",
   "execution_count": 154,
   "metadata": {},
   "outputs": [
    {
     "name": "stderr",
     "output_type": "stream",
     "text": [
      "/opt/anaconda3/lib/python3.7/site-packages/sklearn/linear_model/_logistic.py:764: ConvergenceWarning: lbfgs failed to converge (status=1):\n",
      "STOP: TOTAL NO. of ITERATIONS REACHED LIMIT.\n",
      "\n",
      "Increase the number of iterations (max_iter) or scale the data as shown in:\n",
      "    https://scikit-learn.org/stable/modules/preprocessing.html\n",
      "Please also refer to the documentation for alternative solver options:\n",
      "    https://scikit-learn.org/stable/modules/linear_model.html#logistic-regression\n",
      "  extra_warning_msg=_LOGISTIC_SOLVER_CONVERGENCE_MSG)\n",
      "/opt/anaconda3/lib/python3.7/site-packages/sklearn/linear_model/_logistic.py:764: ConvergenceWarning: lbfgs failed to converge (status=1):\n",
      "STOP: TOTAL NO. of ITERATIONS REACHED LIMIT.\n",
      "\n",
      "Increase the number of iterations (max_iter) or scale the data as shown in:\n",
      "    https://scikit-learn.org/stable/modules/preprocessing.html\n",
      "Please also refer to the documentation for alternative solver options:\n",
      "    https://scikit-learn.org/stable/modules/linear_model.html#logistic-regression\n",
      "  extra_warning_msg=_LOGISTIC_SOLVER_CONVERGENCE_MSG)\n",
      "/opt/anaconda3/lib/python3.7/site-packages/sklearn/linear_model/_logistic.py:764: ConvergenceWarning: lbfgs failed to converge (status=1):\n",
      "STOP: TOTAL NO. of ITERATIONS REACHED LIMIT.\n",
      "\n",
      "Increase the number of iterations (max_iter) or scale the data as shown in:\n",
      "    https://scikit-learn.org/stable/modules/preprocessing.html\n",
      "Please also refer to the documentation for alternative solver options:\n",
      "    https://scikit-learn.org/stable/modules/linear_model.html#logistic-regression\n",
      "  extra_warning_msg=_LOGISTIC_SOLVER_CONVERGENCE_MSG)\n",
      "/opt/anaconda3/lib/python3.7/site-packages/sklearn/linear_model/_logistic.py:764: ConvergenceWarning: lbfgs failed to converge (status=1):\n",
      "STOP: TOTAL NO. of ITERATIONS REACHED LIMIT.\n",
      "\n",
      "Increase the number of iterations (max_iter) or scale the data as shown in:\n",
      "    https://scikit-learn.org/stable/modules/preprocessing.html\n",
      "Please also refer to the documentation for alternative solver options:\n",
      "    https://scikit-learn.org/stable/modules/linear_model.html#logistic-regression\n",
      "  extra_warning_msg=_LOGISTIC_SOLVER_CONVERGENCE_MSG)\n",
      "/opt/anaconda3/lib/python3.7/site-packages/sklearn/linear_model/_logistic.py:764: ConvergenceWarning: lbfgs failed to converge (status=1):\n",
      "STOP: TOTAL NO. of ITERATIONS REACHED LIMIT.\n",
      "\n",
      "Increase the number of iterations (max_iter) or scale the data as shown in:\n",
      "    https://scikit-learn.org/stable/modules/preprocessing.html\n",
      "Please also refer to the documentation for alternative solver options:\n",
      "    https://scikit-learn.org/stable/modules/linear_model.html#logistic-regression\n",
      "  extra_warning_msg=_LOGISTIC_SOLVER_CONVERGENCE_MSG)\n",
      "/opt/anaconda3/lib/python3.7/site-packages/sklearn/linear_model/_logistic.py:764: ConvergenceWarning: lbfgs failed to converge (status=1):\n",
      "STOP: TOTAL NO. of ITERATIONS REACHED LIMIT.\n",
      "\n",
      "Increase the number of iterations (max_iter) or scale the data as shown in:\n",
      "    https://scikit-learn.org/stable/modules/preprocessing.html\n",
      "Please also refer to the documentation for alternative solver options:\n",
      "    https://scikit-learn.org/stable/modules/linear_model.html#logistic-regression\n",
      "  extra_warning_msg=_LOGISTIC_SOLVER_CONVERGENCE_MSG)\n",
      "/opt/anaconda3/lib/python3.7/site-packages/sklearn/linear_model/_logistic.py:764: ConvergenceWarning: lbfgs failed to converge (status=1):\n",
      "STOP: TOTAL NO. of ITERATIONS REACHED LIMIT.\n",
      "\n",
      "Increase the number of iterations (max_iter) or scale the data as shown in:\n",
      "    https://scikit-learn.org/stable/modules/preprocessing.html\n",
      "Please also refer to the documentation for alternative solver options:\n",
      "    https://scikit-learn.org/stable/modules/linear_model.html#logistic-regression\n",
      "  extra_warning_msg=_LOGISTIC_SOLVER_CONVERGENCE_MSG)\n",
      "/opt/anaconda3/lib/python3.7/site-packages/sklearn/linear_model/_logistic.py:764: ConvergenceWarning: lbfgs failed to converge (status=1):\n",
      "STOP: TOTAL NO. of ITERATIONS REACHED LIMIT.\n",
      "\n",
      "Increase the number of iterations (max_iter) or scale the data as shown in:\n",
      "    https://scikit-learn.org/stable/modules/preprocessing.html\n",
      "Please also refer to the documentation for alternative solver options:\n",
      "    https://scikit-learn.org/stable/modules/linear_model.html#logistic-regression\n",
      "  extra_warning_msg=_LOGISTIC_SOLVER_CONVERGENCE_MSG)\n",
      "/opt/anaconda3/lib/python3.7/site-packages/sklearn/linear_model/_logistic.py:764: ConvergenceWarning: lbfgs failed to converge (status=1):\n",
      "STOP: TOTAL NO. of ITERATIONS REACHED LIMIT.\n",
      "\n",
      "Increase the number of iterations (max_iter) or scale the data as shown in:\n",
      "    https://scikit-learn.org/stable/modules/preprocessing.html\n",
      "Please also refer to the documentation for alternative solver options:\n",
      "    https://scikit-learn.org/stable/modules/linear_model.html#logistic-regression\n",
      "  extra_warning_msg=_LOGISTIC_SOLVER_CONVERGENCE_MSG)\n",
      "/opt/anaconda3/lib/python3.7/site-packages/sklearn/linear_model/_logistic.py:764: ConvergenceWarning: lbfgs failed to converge (status=1):\n",
      "STOP: TOTAL NO. of ITERATIONS REACHED LIMIT.\n",
      "\n",
      "Increase the number of iterations (max_iter) or scale the data as shown in:\n",
      "    https://scikit-learn.org/stable/modules/preprocessing.html\n",
      "Please also refer to the documentation for alternative solver options:\n",
      "    https://scikit-learn.org/stable/modules/linear_model.html#logistic-regression\n",
      "  extra_warning_msg=_LOGISTIC_SOLVER_CONVERGENCE_MSG)\n",
      "/opt/anaconda3/lib/python3.7/site-packages/sklearn/linear_model/_logistic.py:764: ConvergenceWarning: lbfgs failed to converge (status=1):\n",
      "STOP: TOTAL NO. of ITERATIONS REACHED LIMIT.\n",
      "\n",
      "Increase the number of iterations (max_iter) or scale the data as shown in:\n",
      "    https://scikit-learn.org/stable/modules/preprocessing.html\n",
      "Please also refer to the documentation for alternative solver options:\n",
      "    https://scikit-learn.org/stable/modules/linear_model.html#logistic-regression\n",
      "  extra_warning_msg=_LOGISTIC_SOLVER_CONVERGENCE_MSG)\n",
      "/opt/anaconda3/lib/python3.7/site-packages/sklearn/linear_model/_logistic.py:764: ConvergenceWarning: lbfgs failed to converge (status=1):\n",
      "STOP: TOTAL NO. of ITERATIONS REACHED LIMIT.\n",
      "\n",
      "Increase the number of iterations (max_iter) or scale the data as shown in:\n",
      "    https://scikit-learn.org/stable/modules/preprocessing.html\n",
      "Please also refer to the documentation for alternative solver options:\n",
      "    https://scikit-learn.org/stable/modules/linear_model.html#logistic-regression\n",
      "  extra_warning_msg=_LOGISTIC_SOLVER_CONVERGENCE_MSG)\n",
      "/opt/anaconda3/lib/python3.7/site-packages/sklearn/linear_model/_logistic.py:764: ConvergenceWarning: lbfgs failed to converge (status=1):\n",
      "STOP: TOTAL NO. of ITERATIONS REACHED LIMIT.\n",
      "\n",
      "Increase the number of iterations (max_iter) or scale the data as shown in:\n",
      "    https://scikit-learn.org/stable/modules/preprocessing.html\n",
      "Please also refer to the documentation for alternative solver options:\n",
      "    https://scikit-learn.org/stable/modules/linear_model.html#logistic-regression\n",
      "  extra_warning_msg=_LOGISTIC_SOLVER_CONVERGENCE_MSG)\n",
      "/opt/anaconda3/lib/python3.7/site-packages/sklearn/linear_model/_logistic.py:764: ConvergenceWarning: lbfgs failed to converge (status=1):\n",
      "STOP: TOTAL NO. of ITERATIONS REACHED LIMIT.\n",
      "\n",
      "Increase the number of iterations (max_iter) or scale the data as shown in:\n",
      "    https://scikit-learn.org/stable/modules/preprocessing.html\n",
      "Please also refer to the documentation for alternative solver options:\n",
      "    https://scikit-learn.org/stable/modules/linear_model.html#logistic-regression\n",
      "  extra_warning_msg=_LOGISTIC_SOLVER_CONVERGENCE_MSG)\n",
      "/opt/anaconda3/lib/python3.7/site-packages/sklearn/linear_model/_logistic.py:764: ConvergenceWarning: lbfgs failed to converge (status=1):\n",
      "STOP: TOTAL NO. of ITERATIONS REACHED LIMIT.\n",
      "\n",
      "Increase the number of iterations (max_iter) or scale the data as shown in:\n",
      "    https://scikit-learn.org/stable/modules/preprocessing.html\n",
      "Please also refer to the documentation for alternative solver options:\n",
      "    https://scikit-learn.org/stable/modules/linear_model.html#logistic-regression\n",
      "  extra_warning_msg=_LOGISTIC_SOLVER_CONVERGENCE_MSG)\n",
      "/opt/anaconda3/lib/python3.7/site-packages/sklearn/linear_model/_logistic.py:764: ConvergenceWarning: lbfgs failed to converge (status=1):\n",
      "STOP: TOTAL NO. of ITERATIONS REACHED LIMIT.\n",
      "\n",
      "Increase the number of iterations (max_iter) or scale the data as shown in:\n",
      "    https://scikit-learn.org/stable/modules/preprocessing.html\n",
      "Please also refer to the documentation for alternative solver options:\n",
      "    https://scikit-learn.org/stable/modules/linear_model.html#logistic-regression\n",
      "  extra_warning_msg=_LOGISTIC_SOLVER_CONVERGENCE_MSG)\n",
      "/opt/anaconda3/lib/python3.7/site-packages/sklearn/linear_model/_logistic.py:764: ConvergenceWarning: lbfgs failed to converge (status=1):\n",
      "STOP: TOTAL NO. of ITERATIONS REACHED LIMIT.\n",
      "\n",
      "Increase the number of iterations (max_iter) or scale the data as shown in:\n",
      "    https://scikit-learn.org/stable/modules/preprocessing.html\n",
      "Please also refer to the documentation for alternative solver options:\n",
      "    https://scikit-learn.org/stable/modules/linear_model.html#logistic-regression\n",
      "  extra_warning_msg=_LOGISTIC_SOLVER_CONVERGENCE_MSG)\n",
      "/opt/anaconda3/lib/python3.7/site-packages/sklearn/linear_model/_logistic.py:764: ConvergenceWarning: lbfgs failed to converge (status=1):\n",
      "STOP: TOTAL NO. of ITERATIONS REACHED LIMIT.\n",
      "\n",
      "Increase the number of iterations (max_iter) or scale the data as shown in:\n",
      "    https://scikit-learn.org/stable/modules/preprocessing.html\n",
      "Please also refer to the documentation for alternative solver options:\n",
      "    https://scikit-learn.org/stable/modules/linear_model.html#logistic-regression\n",
      "  extra_warning_msg=_LOGISTIC_SOLVER_CONVERGENCE_MSG)\n",
      "/opt/anaconda3/lib/python3.7/site-packages/sklearn/linear_model/_logistic.py:764: ConvergenceWarning: lbfgs failed to converge (status=1):\n",
      "STOP: TOTAL NO. of ITERATIONS REACHED LIMIT.\n",
      "\n",
      "Increase the number of iterations (max_iter) or scale the data as shown in:\n",
      "    https://scikit-learn.org/stable/modules/preprocessing.html\n",
      "Please also refer to the documentation for alternative solver options:\n",
      "    https://scikit-learn.org/stable/modules/linear_model.html#logistic-regression\n",
      "  extra_warning_msg=_LOGISTIC_SOLVER_CONVERGENCE_MSG)\n",
      "/opt/anaconda3/lib/python3.7/site-packages/sklearn/linear_model/_logistic.py:764: ConvergenceWarning: lbfgs failed to converge (status=1):\n",
      "STOP: TOTAL NO. of ITERATIONS REACHED LIMIT.\n",
      "\n",
      "Increase the number of iterations (max_iter) or scale the data as shown in:\n",
      "    https://scikit-learn.org/stable/modules/preprocessing.html\n",
      "Please also refer to the documentation for alternative solver options:\n",
      "    https://scikit-learn.org/stable/modules/linear_model.html#logistic-regression\n",
      "  extra_warning_msg=_LOGISTIC_SOLVER_CONVERGENCE_MSG)\n",
      "/opt/anaconda3/lib/python3.7/site-packages/sklearn/linear_model/_logistic.py:764: ConvergenceWarning: lbfgs failed to converge (status=1):\n",
      "STOP: TOTAL NO. of ITERATIONS REACHED LIMIT.\n",
      "\n",
      "Increase the number of iterations (max_iter) or scale the data as shown in:\n",
      "    https://scikit-learn.org/stable/modules/preprocessing.html\n",
      "Please also refer to the documentation for alternative solver options:\n",
      "    https://scikit-learn.org/stable/modules/linear_model.html#logistic-regression\n",
      "  extra_warning_msg=_LOGISTIC_SOLVER_CONVERGENCE_MSG)\n"
     ]
    },
    {
     "data": {
      "text/plain": [
       "RFE(estimator=LogisticRegression())"
      ]
     },
     "execution_count": 154,
     "metadata": {},
     "output_type": "execute_result"
    }
   ],
   "source": [
    "rfe.fit(X_train_tf, y_train)"
   ]
  },
  {
   "cell_type": "code",
   "execution_count": 155,
   "metadata": {},
   "outputs": [
    {
     "data": {
      "text/plain": [
       "array([ 1,  1,  1,  1, 30,  1,  1, 22,  1, 14,  5,  1,  9,  1,  1, 24,  1,\n",
       "       27,  1,  6, 17, 26, 15,  1,  1,  1, 11,  3,  1, 21,  1,  1,  1,  1,\n",
       "        1, 32,  1, 19,  7, 18, 31,  1,  1, 10, 29,  1,  1,  1,  1,  1,  8,\n",
       "        1,  2, 33,  1, 25, 13, 20, 28, 23, 16, 12,  4,  1])"
      ]
     },
     "execution_count": 155,
     "metadata": {},
     "output_type": "execute_result"
    }
   ],
   "source": [
    "rfe.ranking_"
   ]
  },
  {
   "cell_type": "code",
   "execution_count": 158,
   "metadata": {},
   "outputs": [
    {
     "data": {
      "text/html": [
       "<div>\n",
       "<style scoped>\n",
       "    .dataframe tbody tr th:only-of-type {\n",
       "        vertical-align: middle;\n",
       "    }\n",
       "\n",
       "    .dataframe tbody tr th {\n",
       "        vertical-align: top;\n",
       "    }\n",
       "\n",
       "    .dataframe thead th {\n",
       "        text-align: right;\n",
       "    }\n",
       "</style>\n",
       "<table border=\"1\" class=\"dataframe\">\n",
       "  <thead>\n",
       "    <tr style=\"text-align: right;\">\n",
       "      <th></th>\n",
       "      <th>Features</th>\n",
       "      <th>RFE_Rank</th>\n",
       "    </tr>\n",
       "  </thead>\n",
       "  <tbody>\n",
       "    <tr>\n",
       "      <td>0</td>\n",
       "      <td>Intl_Plan</td>\n",
       "      <td>1</td>\n",
       "    </tr>\n",
       "    <tr>\n",
       "      <td>25</td>\n",
       "      <td>x0_MN</td>\n",
       "      <td>1</td>\n",
       "    </tr>\n",
       "    <tr>\n",
       "      <td>28</td>\n",
       "      <td>x0_MT</td>\n",
       "      <td>1</td>\n",
       "    </tr>\n",
       "    <tr>\n",
       "      <td>30</td>\n",
       "      <td>x0_ND</td>\n",
       "      <td>1</td>\n",
       "    </tr>\n",
       "    <tr>\n",
       "      <td>32</td>\n",
       "      <td>x0_NH</td>\n",
       "      <td>1</td>\n",
       "    </tr>\n",
       "    <tr>\n",
       "      <td>33</td>\n",
       "      <td>x0_NJ</td>\n",
       "      <td>1</td>\n",
       "    </tr>\n",
       "    <tr>\n",
       "      <td>34</td>\n",
       "      <td>x0_NM</td>\n",
       "      <td>1</td>\n",
       "    </tr>\n",
       "    <tr>\n",
       "      <td>36</td>\n",
       "      <td>x0_NY</td>\n",
       "      <td>1</td>\n",
       "    </tr>\n",
       "    <tr>\n",
       "      <td>24</td>\n",
       "      <td>x0_MI</td>\n",
       "      <td>1</td>\n",
       "    </tr>\n",
       "    <tr>\n",
       "      <td>41</td>\n",
       "      <td>x0_RI</td>\n",
       "      <td>1</td>\n",
       "    </tr>\n",
       "    <tr>\n",
       "      <td>45</td>\n",
       "      <td>x0_TX</td>\n",
       "      <td>1</td>\n",
       "    </tr>\n",
       "    <tr>\n",
       "      <td>46</td>\n",
       "      <td>x0_UT</td>\n",
       "      <td>1</td>\n",
       "    </tr>\n",
       "    <tr>\n",
       "      <td>47</td>\n",
       "      <td>x0_VA</td>\n",
       "      <td>1</td>\n",
       "    </tr>\n",
       "    <tr>\n",
       "      <td>48</td>\n",
       "      <td>x0_VT</td>\n",
       "      <td>1</td>\n",
       "    </tr>\n",
       "    <tr>\n",
       "      <td>49</td>\n",
       "      <td>x0_WA</td>\n",
       "      <td>1</td>\n",
       "    </tr>\n",
       "    <tr>\n",
       "      <td>51</td>\n",
       "      <td>x0_WV</td>\n",
       "      <td>1</td>\n",
       "    </tr>\n",
       "    <tr>\n",
       "      <td>54</td>\n",
       "      <td>CustServ_Calls</td>\n",
       "      <td>1</td>\n",
       "    </tr>\n",
       "    <tr>\n",
       "      <td>42</td>\n",
       "      <td>x0_SC</td>\n",
       "      <td>1</td>\n",
       "    </tr>\n",
       "    <tr>\n",
       "      <td>23</td>\n",
       "      <td>x0_ME</td>\n",
       "      <td>1</td>\n",
       "    </tr>\n",
       "    <tr>\n",
       "      <td>31</td>\n",
       "      <td>x0_NE</td>\n",
       "      <td>1</td>\n",
       "    </tr>\n",
       "    <tr>\n",
       "      <td>63</td>\n",
       "      <td>Vmail_Message_b</td>\n",
       "      <td>1</td>\n",
       "    </tr>\n",
       "    <tr>\n",
       "      <td>6</td>\n",
       "      <td>x0_CA</td>\n",
       "      <td>1</td>\n",
       "    </tr>\n",
       "    <tr>\n",
       "      <td>5</td>\n",
       "      <td>x0_AZ</td>\n",
       "      <td>1</td>\n",
       "    </tr>\n",
       "    <tr>\n",
       "      <td>18</td>\n",
       "      <td>x0_KS</td>\n",
       "      <td>1</td>\n",
       "    </tr>\n",
       "    <tr>\n",
       "      <td>1</td>\n",
       "      <td>Vmail_Plan</td>\n",
       "      <td>1</td>\n",
       "    </tr>\n",
       "    <tr>\n",
       "      <td>16</td>\n",
       "      <td>x0_IL</td>\n",
       "      <td>1</td>\n",
       "    </tr>\n",
       "    <tr>\n",
       "      <td>3</td>\n",
       "      <td>x0_AL</td>\n",
       "      <td>1</td>\n",
       "    </tr>\n",
       "    <tr>\n",
       "      <td>2</td>\n",
       "      <td>x0_AK</td>\n",
       "      <td>1</td>\n",
       "    </tr>\n",
       "    <tr>\n",
       "      <td>14</td>\n",
       "      <td>x0_IA</td>\n",
       "      <td>1</td>\n",
       "    </tr>\n",
       "    <tr>\n",
       "      <td>8</td>\n",
       "      <td>x0_CT</td>\n",
       "      <td>1</td>\n",
       "    </tr>\n",
       "    <tr>\n",
       "      <td>13</td>\n",
       "      <td>x0_HI</td>\n",
       "      <td>1</td>\n",
       "    </tr>\n",
       "    <tr>\n",
       "      <td>11</td>\n",
       "      <td>x0_FL</td>\n",
       "      <td>1</td>\n",
       "    </tr>\n",
       "  </tbody>\n",
       "</table>\n",
       "</div>"
      ],
      "text/plain": [
       "           Features  RFE_Rank\n",
       "0         Intl_Plan         1\n",
       "25            x0_MN         1\n",
       "28            x0_MT         1\n",
       "30            x0_ND         1\n",
       "32            x0_NH         1\n",
       "33            x0_NJ         1\n",
       "34            x0_NM         1\n",
       "36            x0_NY         1\n",
       "24            x0_MI         1\n",
       "41            x0_RI         1\n",
       "45            x0_TX         1\n",
       "46            x0_UT         1\n",
       "47            x0_VA         1\n",
       "48            x0_VT         1\n",
       "49            x0_WA         1\n",
       "51            x0_WV         1\n",
       "54   CustServ_Calls         1\n",
       "42            x0_SC         1\n",
       "23            x0_ME         1\n",
       "31            x0_NE         1\n",
       "63  Vmail_Message_b         1\n",
       "6             x0_CA         1\n",
       "5             x0_AZ         1\n",
       "18            x0_KS         1\n",
       "1        Vmail_Plan         1\n",
       "16            x0_IL         1\n",
       "3             x0_AL         1\n",
       "2             x0_AK         1\n",
       "14            x0_IA         1\n",
       "8             x0_CT         1\n",
       "13            x0_HI         1\n",
       "11            x0_FL         1"
      ]
     },
     "execution_count": 158,
     "metadata": {},
     "output_type": "execute_result"
    }
   ],
   "source": [
    "rfe_ranking = pd.DataFrame({'Features':X_train_tf.columns, 'RFE_Rank':rfe.ranking_}).sort_values(by='RFE_Rank')\n",
    "rfe_ranking[rfe_ranking['RFE_Rank']==1]"
   ]
  },
  {
   "cell_type": "code",
   "execution_count": 159,
   "metadata": {},
   "outputs": [
    {
     "name": "stderr",
     "output_type": "stream",
     "text": [
      "/opt/anaconda3/lib/python3.7/site-packages/sklearn/linear_model/_logistic.py:764: ConvergenceWarning: lbfgs failed to converge (status=1):\n",
      "STOP: TOTAL NO. of ITERATIONS REACHED LIMIT.\n",
      "\n",
      "Increase the number of iterations (max_iter) or scale the data as shown in:\n",
      "    https://scikit-learn.org/stable/modules/preprocessing.html\n",
      "Please also refer to the documentation for alternative solver options:\n",
      "    https://scikit-learn.org/stable/modules/linear_model.html#logistic-regression\n",
      "  extra_warning_msg=_LOGISTIC_SOLVER_CONVERGENCE_MSG)\n",
      "/opt/anaconda3/lib/python3.7/site-packages/sklearn/linear_model/_logistic.py:764: ConvergenceWarning: lbfgs failed to converge (status=1):\n",
      "STOP: TOTAL NO. of ITERATIONS REACHED LIMIT.\n",
      "\n",
      "Increase the number of iterations (max_iter) or scale the data as shown in:\n",
      "    https://scikit-learn.org/stable/modules/preprocessing.html\n",
      "Please also refer to the documentation for alternative solver options:\n",
      "    https://scikit-learn.org/stable/modules/linear_model.html#logistic-regression\n",
      "  extra_warning_msg=_LOGISTIC_SOLVER_CONVERGENCE_MSG)\n",
      "/opt/anaconda3/lib/python3.7/site-packages/sklearn/linear_model/_logistic.py:764: ConvergenceWarning: lbfgs failed to converge (status=1):\n",
      "STOP: TOTAL NO. of ITERATIONS REACHED LIMIT.\n",
      "\n",
      "Increase the number of iterations (max_iter) or scale the data as shown in:\n",
      "    https://scikit-learn.org/stable/modules/preprocessing.html\n",
      "Please also refer to the documentation for alternative solver options:\n",
      "    https://scikit-learn.org/stable/modules/linear_model.html#logistic-regression\n",
      "  extra_warning_msg=_LOGISTIC_SOLVER_CONVERGENCE_MSG)\n",
      "/opt/anaconda3/lib/python3.7/site-packages/sklearn/linear_model/_logistic.py:764: ConvergenceWarning: lbfgs failed to converge (status=1):\n",
      "STOP: TOTAL NO. of ITERATIONS REACHED LIMIT.\n",
      "\n",
      "Increase the number of iterations (max_iter) or scale the data as shown in:\n",
      "    https://scikit-learn.org/stable/modules/preprocessing.html\n",
      "Please also refer to the documentation for alternative solver options:\n",
      "    https://scikit-learn.org/stable/modules/linear_model.html#logistic-regression\n",
      "  extra_warning_msg=_LOGISTIC_SOLVER_CONVERGENCE_MSG)\n",
      "/opt/anaconda3/lib/python3.7/site-packages/sklearn/linear_model/_logistic.py:764: ConvergenceWarning: lbfgs failed to converge (status=1):\n",
      "STOP: TOTAL NO. of ITERATIONS REACHED LIMIT.\n",
      "\n",
      "Increase the number of iterations (max_iter) or scale the data as shown in:\n",
      "    https://scikit-learn.org/stable/modules/preprocessing.html\n",
      "Please also refer to the documentation for alternative solver options:\n",
      "    https://scikit-learn.org/stable/modules/linear_model.html#logistic-regression\n",
      "  extra_warning_msg=_LOGISTIC_SOLVER_CONVERGENCE_MSG)\n"
     ]
    },
    {
     "data": {
      "text/plain": [
       "RFE(estimator=LogisticRegression())"
      ]
     },
     "execution_count": 159,
     "metadata": {},
     "output_type": "execute_result"
    }
   ],
   "source": [
    "rfe.fit(X_train_tf_non_state, y_train)"
   ]
  },
  {
   "cell_type": "code",
   "execution_count": 160,
   "metadata": {},
   "outputs": [
    {
     "data": {
      "text/plain": [
       "array([1, 1, 8, 1, 7, 2, 5, 6, 4, 3, 1, 1, 1])"
      ]
     },
     "execution_count": 160,
     "metadata": {},
     "output_type": "execute_result"
    }
   ],
   "source": [
    "rfe.ranking_"
   ]
  },
  {
   "cell_type": "code",
   "execution_count": 162,
   "metadata": {},
   "outputs": [
    {
     "data": {
      "text/html": [
       "<div>\n",
       "<style scoped>\n",
       "    .dataframe tbody tr th:only-of-type {\n",
       "        vertical-align: middle;\n",
       "    }\n",
       "\n",
       "    .dataframe tbody tr th {\n",
       "        vertical-align: top;\n",
       "    }\n",
       "\n",
       "    .dataframe thead th {\n",
       "        text-align: right;\n",
       "    }\n",
       "</style>\n",
       "<table border=\"1\" class=\"dataframe\">\n",
       "  <thead>\n",
       "    <tr style=\"text-align: right;\">\n",
       "      <th></th>\n",
       "      <th>Features</th>\n",
       "      <th>RFE_Rank</th>\n",
       "    </tr>\n",
       "  </thead>\n",
       "  <tbody>\n",
       "    <tr>\n",
       "      <td>0</td>\n",
       "      <td>Intl_Plan</td>\n",
       "      <td>1</td>\n",
       "    </tr>\n",
       "    <tr>\n",
       "      <td>1</td>\n",
       "      <td>Vmail_Plan</td>\n",
       "      <td>1</td>\n",
       "    </tr>\n",
       "    <tr>\n",
       "      <td>3</td>\n",
       "      <td>CustServ_Calls</td>\n",
       "      <td>1</td>\n",
       "    </tr>\n",
       "    <tr>\n",
       "      <td>10</td>\n",
       "      <td>Intl_Calls</td>\n",
       "      <td>1</td>\n",
       "    </tr>\n",
       "    <tr>\n",
       "      <td>11</td>\n",
       "      <td>Intl_Charge</td>\n",
       "      <td>1</td>\n",
       "    </tr>\n",
       "    <tr>\n",
       "      <td>12</td>\n",
       "      <td>Vmail_Message_b</td>\n",
       "      <td>1</td>\n",
       "    </tr>\n",
       "    <tr>\n",
       "      <td>5</td>\n",
       "      <td>Day_Charge</td>\n",
       "      <td>2</td>\n",
       "    </tr>\n",
       "    <tr>\n",
       "      <td>9</td>\n",
       "      <td>Night_Charge</td>\n",
       "      <td>3</td>\n",
       "    </tr>\n",
       "    <tr>\n",
       "      <td>8</td>\n",
       "      <td>Night_Calls</td>\n",
       "      <td>4</td>\n",
       "    </tr>\n",
       "    <tr>\n",
       "      <td>6</td>\n",
       "      <td>Eve_Calls</td>\n",
       "      <td>5</td>\n",
       "    </tr>\n",
       "    <tr>\n",
       "      <td>7</td>\n",
       "      <td>Eve_Charge</td>\n",
       "      <td>6</td>\n",
       "    </tr>\n",
       "    <tr>\n",
       "      <td>4</td>\n",
       "      <td>Day_Calls</td>\n",
       "      <td>7</td>\n",
       "    </tr>\n",
       "    <tr>\n",
       "      <td>2</td>\n",
       "      <td>Account_Length</td>\n",
       "      <td>8</td>\n",
       "    </tr>\n",
       "  </tbody>\n",
       "</table>\n",
       "</div>"
      ],
      "text/plain": [
       "           Features  RFE_Rank\n",
       "0         Intl_Plan         1\n",
       "1        Vmail_Plan         1\n",
       "3    CustServ_Calls         1\n",
       "10       Intl_Calls         1\n",
       "11      Intl_Charge         1\n",
       "12  Vmail_Message_b         1\n",
       "5        Day_Charge         2\n",
       "9      Night_Charge         3\n",
       "8       Night_Calls         4\n",
       "6         Eve_Calls         5\n",
       "7        Eve_Charge         6\n",
       "4         Day_Calls         7\n",
       "2    Account_Length         8"
      ]
     },
     "execution_count": 162,
     "metadata": {},
     "output_type": "execute_result"
    }
   ],
   "source": [
    "rfe_ranking = pd.DataFrame({'Features':X_train_tf_non_state.columns, 'RFE_Rank':rfe.ranking_}).sort_values(by='RFE_Rank')\n",
    "rfe_ranking\n",
    "# rfe_ranking[rfe_ranking['RFE_Rank']==1]"
   ]
  },
  {
   "cell_type": "markdown",
   "metadata": {},
   "source": [
    "---"
   ]
  },
  {
   "cell_type": "code",
   "execution_count": 84,
   "metadata": {},
   "outputs": [],
   "source": [
    "# See variable selection from Datacamp logistic regression\n",
    "\n",
    "\n",
    "\n",
    "\n",
    "\n",
    "\n"
   ]
  },
  {
   "cell_type": "markdown",
   "metadata": {},
   "source": [
    "# Rough"
   ]
  },
  {
   "cell_type": "code",
   "execution_count": 90,
   "metadata": {},
   "outputs": [
    {
     "data": {
      "text/plain": [
       "Index(['Intl_Plan', 'Vmail_Plan', 'State', 'Phone'], dtype='object')"
      ]
     },
     "execution_count": 90,
     "metadata": {},
     "output_type": "execute_result"
    }
   ],
   "source": [
    "features_cat"
   ]
  },
  {
   "cell_type": "code",
   "execution_count": 117,
   "metadata": {},
   "outputs": [
    {
     "data": {
      "text/html": [
       "<div>\n",
       "<style scoped>\n",
       "    .dataframe tbody tr th:only-of-type {\n",
       "        vertical-align: middle;\n",
       "    }\n",
       "\n",
       "    .dataframe tbody tr th {\n",
       "        vertical-align: top;\n",
       "    }\n",
       "\n",
       "    .dataframe thead th {\n",
       "        text-align: right;\n",
       "    }\n",
       "</style>\n",
       "<table border=\"1\" class=\"dataframe\">\n",
       "  <thead>\n",
       "    <tr style=\"text-align: right;\">\n",
       "      <th></th>\n",
       "      <th>Account_Length</th>\n",
       "      <th>Vmail_Message</th>\n",
       "      <th>Day_Mins</th>\n",
       "      <th>Eve_Mins</th>\n",
       "      <th>Night_Mins</th>\n",
       "      <th>Intl_Mins</th>\n",
       "      <th>CustServ_Calls</th>\n",
       "      <th>Day_Calls</th>\n",
       "      <th>Day_Charge</th>\n",
       "      <th>Eve_Calls</th>\n",
       "      <th>Eve_Charge</th>\n",
       "      <th>Night_Calls</th>\n",
       "      <th>Night_Charge</th>\n",
       "      <th>Intl_Calls</th>\n",
       "      <th>Intl_Charge</th>\n",
       "      <th>Area_Code</th>\n",
       "    </tr>\n",
       "  </thead>\n",
       "  <tbody>\n",
       "    <tr>\n",
       "      <td>2796</td>\n",
       "      <td>24</td>\n",
       "      <td>0</td>\n",
       "      <td>235.6</td>\n",
       "      <td>115.9</td>\n",
       "      <td>185.4</td>\n",
       "      <td>16.2</td>\n",
       "      <td>0</td>\n",
       "      <td>132</td>\n",
       "      <td>40.05</td>\n",
       "      <td>129</td>\n",
       "      <td>9.85</td>\n",
       "      <td>136</td>\n",
       "      <td>8.34</td>\n",
       "      <td>2</td>\n",
       "      <td>4.37</td>\n",
       "      <td>415</td>\n",
       "    </tr>\n",
       "    <tr>\n",
       "      <td>2650</td>\n",
       "      <td>104</td>\n",
       "      <td>0</td>\n",
       "      <td>138.7</td>\n",
       "      <td>215.4</td>\n",
       "      <td>164.3</td>\n",
       "      <td>4.9</td>\n",
       "      <td>2</td>\n",
       "      <td>100</td>\n",
       "      <td>23.58</td>\n",
       "      <td>58</td>\n",
       "      <td>18.31</td>\n",
       "      <td>98</td>\n",
       "      <td>7.39</td>\n",
       "      <td>4</td>\n",
       "      <td>1.32</td>\n",
       "      <td>415</td>\n",
       "    </tr>\n",
       "    <tr>\n",
       "      <td>2827</td>\n",
       "      <td>89</td>\n",
       "      <td>0</td>\n",
       "      <td>129.2</td>\n",
       "      <td>214.1</td>\n",
       "      <td>214.9</td>\n",
       "      <td>10.3</td>\n",
       "      <td>5</td>\n",
       "      <td>71</td>\n",
       "      <td>21.96</td>\n",
       "      <td>68</td>\n",
       "      <td>18.20</td>\n",
       "      <td>100</td>\n",
       "      <td>9.67</td>\n",
       "      <td>4</td>\n",
       "      <td>2.78</td>\n",
       "      <td>510</td>\n",
       "    </tr>\n",
       "    <tr>\n",
       "      <td>2947</td>\n",
       "      <td>145</td>\n",
       "      <td>0</td>\n",
       "      <td>245.8</td>\n",
       "      <td>286.7</td>\n",
       "      <td>240.7</td>\n",
       "      <td>9.0</td>\n",
       "      <td>1</td>\n",
       "      <td>116</td>\n",
       "      <td>41.79</td>\n",
       "      <td>91</td>\n",
       "      <td>24.37</td>\n",
       "      <td>115</td>\n",
       "      <td>10.83</td>\n",
       "      <td>13</td>\n",
       "      <td>2.43</td>\n",
       "      <td>415</td>\n",
       "    </tr>\n",
       "    <tr>\n",
       "      <td>1772</td>\n",
       "      <td>59</td>\n",
       "      <td>0</td>\n",
       "      <td>153.6</td>\n",
       "      <td>205.5</td>\n",
       "      <td>114.5</td>\n",
       "      <td>12.5</td>\n",
       "      <td>1</td>\n",
       "      <td>92</td>\n",
       "      <td>26.11</td>\n",
       "      <td>88</td>\n",
       "      <td>17.47</td>\n",
       "      <td>89</td>\n",
       "      <td>5.15</td>\n",
       "      <td>10</td>\n",
       "      <td>3.38</td>\n",
       "      <td>510</td>\n",
       "    </tr>\n",
       "  </tbody>\n",
       "</table>\n",
       "</div>"
      ],
      "text/plain": [
       "      Account_Length  Vmail_Message  Day_Mins  Eve_Mins  Night_Mins  \\\n",
       "2796              24              0     235.6     115.9       185.4   \n",
       "2650             104              0     138.7     215.4       164.3   \n",
       "2827              89              0     129.2     214.1       214.9   \n",
       "2947             145              0     245.8     286.7       240.7   \n",
       "1772              59              0     153.6     205.5       114.5   \n",
       "\n",
       "      Intl_Mins  CustServ_Calls  Day_Calls  Day_Charge  Eve_Calls  Eve_Charge  \\\n",
       "2796       16.2               0        132       40.05        129        9.85   \n",
       "2650        4.9               2        100       23.58         58       18.31   \n",
       "2827       10.3               5         71       21.96         68       18.20   \n",
       "2947        9.0               1        116       41.79         91       24.37   \n",
       "1772       12.5               1         92       26.11         88       17.47   \n",
       "\n",
       "      Night_Calls  Night_Charge  Intl_Calls  Intl_Charge  Area_Code  \n",
       "2796          136          8.34           2         4.37        415  \n",
       "2650           98          7.39           4         1.32        415  \n",
       "2827          100          9.67           4         2.78        510  \n",
       "2947          115         10.83          13         2.43        415  \n",
       "1772           89          5.15          10         3.38        510  "
      ]
     },
     "execution_count": 117,
     "metadata": {},
     "output_type": "execute_result"
    }
   ],
   "source": [
    "X_train[features_num].head()"
   ]
  },
  {
   "cell_type": "code",
   "execution_count": 91,
   "metadata": {},
   "outputs": [
    {
     "data": {
      "text/html": [
       "<div>\n",
       "<style scoped>\n",
       "    .dataframe tbody tr th:only-of-type {\n",
       "        vertical-align: middle;\n",
       "    }\n",
       "\n",
       "    .dataframe tbody tr th {\n",
       "        vertical-align: top;\n",
       "    }\n",
       "\n",
       "    .dataframe thead th {\n",
       "        text-align: right;\n",
       "    }\n",
       "</style>\n",
       "<table border=\"1\" class=\"dataframe\">\n",
       "  <thead>\n",
       "    <tr style=\"text-align: right;\">\n",
       "      <th></th>\n",
       "      <th>Intl_Plan</th>\n",
       "      <th>Vmail_Plan</th>\n",
       "      <th>State</th>\n",
       "      <th>Phone</th>\n",
       "    </tr>\n",
       "  </thead>\n",
       "  <tbody>\n",
       "    <tr>\n",
       "      <td>2796</td>\n",
       "      <td>no</td>\n",
       "      <td>no</td>\n",
       "      <td>HI</td>\n",
       "      <td>329-8788</td>\n",
       "    </tr>\n",
       "    <tr>\n",
       "      <td>2650</td>\n",
       "      <td>no</td>\n",
       "      <td>no</td>\n",
       "      <td>WY</td>\n",
       "      <td>365-6022</td>\n",
       "    </tr>\n",
       "    <tr>\n",
       "      <td>2827</td>\n",
       "      <td>no</td>\n",
       "      <td>no</td>\n",
       "      <td>AL</td>\n",
       "      <td>347-2016</td>\n",
       "    </tr>\n",
       "    <tr>\n",
       "      <td>2947</td>\n",
       "      <td>no</td>\n",
       "      <td>no</td>\n",
       "      <td>ND</td>\n",
       "      <td>378-1936</td>\n",
       "    </tr>\n",
       "    <tr>\n",
       "      <td>1772</td>\n",
       "      <td>no</td>\n",
       "      <td>no</td>\n",
       "      <td>CO</td>\n",
       "      <td>331-3842</td>\n",
       "    </tr>\n",
       "    <tr>\n",
       "      <td>...</td>\n",
       "      <td>...</td>\n",
       "      <td>...</td>\n",
       "      <td>...</td>\n",
       "      <td>...</td>\n",
       "    </tr>\n",
       "    <tr>\n",
       "      <td>3039</td>\n",
       "      <td>no</td>\n",
       "      <td>no</td>\n",
       "      <td>DC</td>\n",
       "      <td>345-8397</td>\n",
       "    </tr>\n",
       "    <tr>\n",
       "      <td>2636</td>\n",
       "      <td>no</td>\n",
       "      <td>no</td>\n",
       "      <td>SD</td>\n",
       "      <td>406-2678</td>\n",
       "    </tr>\n",
       "    <tr>\n",
       "      <td>967</td>\n",
       "      <td>no</td>\n",
       "      <td>no</td>\n",
       "      <td>WV</td>\n",
       "      <td>417-5320</td>\n",
       "    </tr>\n",
       "    <tr>\n",
       "      <td>2216</td>\n",
       "      <td>no</td>\n",
       "      <td>no</td>\n",
       "      <td>AR</td>\n",
       "      <td>389-6082</td>\n",
       "    </tr>\n",
       "    <tr>\n",
       "      <td>679</td>\n",
       "      <td>yes</td>\n",
       "      <td>no</td>\n",
       "      <td>TX</td>\n",
       "      <td>384-2372</td>\n",
       "    </tr>\n",
       "  </tbody>\n",
       "</table>\n",
       "<p>1999 rows × 4 columns</p>\n",
       "</div>"
      ],
      "text/plain": [
       "     Intl_Plan Vmail_Plan State     Phone\n",
       "2796        no         no    HI  329-8788\n",
       "2650        no         no    WY  365-6022\n",
       "2827        no         no    AL  347-2016\n",
       "2947        no         no    ND  378-1936\n",
       "1772        no         no    CO  331-3842\n",
       "...        ...        ...   ...       ...\n",
       "3039        no         no    DC  345-8397\n",
       "2636        no         no    SD  406-2678\n",
       "967         no         no    WV  417-5320\n",
       "2216        no         no    AR  389-6082\n",
       "679        yes         no    TX  384-2372\n",
       "\n",
       "[1999 rows x 4 columns]"
      ]
     },
     "execution_count": 91,
     "metadata": {},
     "output_type": "execute_result"
    }
   ],
   "source": [
    "X_train[features_cat]"
   ]
  },
  {
   "cell_type": "code",
   "execution_count": 99,
   "metadata": {},
   "outputs": [],
   "source": [
    "churn_data['Intl_Plan'].map({'no':0, 'yes':1})\n",
    "churn_data['Churn'].map({'no':0, 'yes':1})\n",
    "\n",
    "crosstab = pd.crosstab(churn_data['Intl_Plan'].map({'no':0, 'yes':1}), churn_data['Churn'].map({'no':0, 'yes':1}))"
   ]
  },
  {
   "cell_type": "code",
   "execution_count": 100,
   "metadata": {},
   "outputs": [
    {
     "data": {
      "text/html": [
       "<div>\n",
       "<style scoped>\n",
       "    .dataframe tbody tr th:only-of-type {\n",
       "        vertical-align: middle;\n",
       "    }\n",
       "\n",
       "    .dataframe tbody tr th {\n",
       "        vertical-align: top;\n",
       "    }\n",
       "\n",
       "    .dataframe thead th {\n",
       "        text-align: right;\n",
       "    }\n",
       "</style>\n",
       "<table border=\"1\" class=\"dataframe\">\n",
       "  <thead>\n",
       "    <tr style=\"text-align: right;\">\n",
       "      <th>Churn</th>\n",
       "      <th>0</th>\n",
       "      <th>1</th>\n",
       "    </tr>\n",
       "    <tr>\n",
       "      <th>Intl_Plan</th>\n",
       "      <th></th>\n",
       "      <th></th>\n",
       "    </tr>\n",
       "  </thead>\n",
       "  <tbody>\n",
       "    <tr>\n",
       "      <td>0</td>\n",
       "      <td>2664</td>\n",
       "      <td>346</td>\n",
       "    </tr>\n",
       "    <tr>\n",
       "      <td>1</td>\n",
       "      <td>186</td>\n",
       "      <td>137</td>\n",
       "    </tr>\n",
       "  </tbody>\n",
       "</table>\n",
       "</div>"
      ],
      "text/plain": [
       "Churn         0    1\n",
       "Intl_Plan           \n",
       "0          2664  346\n",
       "1           186  137"
      ]
     },
     "execution_count": 100,
     "metadata": {},
     "output_type": "execute_result"
    }
   ],
   "source": [
    "crosstab"
   ]
  },
  {
   "cell_type": "code",
   "execution_count": 102,
   "metadata": {},
   "outputs": [
    {
     "data": {
      "text/plain": [
       "(222.5657566499376,\n",
       " 2.4931077033159556e-50,\n",
       " 1,\n",
       " array([[2573.80738074,  436.19261926],\n",
       "        [ 276.19261926,   46.80738074]]))"
      ]
     },
     "execution_count": 102,
     "metadata": {},
     "output_type": "execute_result"
    }
   ],
   "source": [
    "chi2_contingency(crosstab)"
   ]
  },
  {
   "cell_type": "code",
   "execution_count": 104,
   "metadata": {},
   "outputs": [],
   "source": [
    "crosstab2 = pd.crosstab(churn_data['Vmail_Plan'].map({'no':0, 'yes':1}), churn_data['Churn'].map({'no':0, 'yes':1}))"
   ]
  },
  {
   "cell_type": "code",
   "execution_count": 105,
   "metadata": {},
   "outputs": [
    {
     "data": {
      "text/plain": [
       "(34.13166001075673,\n",
       " 5.15063965903898e-09,\n",
       " 1,\n",
       " array([[2061.61116112,  349.38883888],\n",
       "        [ 788.38883888,  133.61116112]]))"
      ]
     },
     "execution_count": 105,
     "metadata": {},
     "output_type": "execute_result"
    }
   ],
   "source": [
    "chi2_contingency(crosstab2)"
   ]
  },
  {
   "cell_type": "code",
   "execution_count": 111,
   "metadata": {},
   "outputs": [
    {
     "data": {
      "text/html": [
       "<div>\n",
       "<style scoped>\n",
       "    .dataframe tbody tr th:only-of-type {\n",
       "        vertical-align: middle;\n",
       "    }\n",
       "\n",
       "    .dataframe tbody tr th {\n",
       "        vertical-align: top;\n",
       "    }\n",
       "\n",
       "    .dataframe thead th {\n",
       "        text-align: right;\n",
       "    }\n",
       "</style>\n",
       "<table border=\"1\" class=\"dataframe\">\n",
       "  <thead>\n",
       "    <tr style=\"text-align: right;\">\n",
       "      <th></th>\n",
       "      <th>Intl</th>\n",
       "      <th>Vmail</th>\n",
       "      <th>Churn</th>\n",
       "    </tr>\n",
       "  </thead>\n",
       "  <tbody>\n",
       "    <tr>\n",
       "      <td>0</td>\n",
       "      <td>0</td>\n",
       "      <td>1</td>\n",
       "      <td>0</td>\n",
       "    </tr>\n",
       "    <tr>\n",
       "      <td>1</td>\n",
       "      <td>0</td>\n",
       "      <td>1</td>\n",
       "      <td>0</td>\n",
       "    </tr>\n",
       "    <tr>\n",
       "      <td>2</td>\n",
       "      <td>0</td>\n",
       "      <td>0</td>\n",
       "      <td>0</td>\n",
       "    </tr>\n",
       "    <tr>\n",
       "      <td>3</td>\n",
       "      <td>1</td>\n",
       "      <td>0</td>\n",
       "      <td>0</td>\n",
       "    </tr>\n",
       "    <tr>\n",
       "      <td>4</td>\n",
       "      <td>1</td>\n",
       "      <td>0</td>\n",
       "      <td>0</td>\n",
       "    </tr>\n",
       "    <tr>\n",
       "      <td>...</td>\n",
       "      <td>...</td>\n",
       "      <td>...</td>\n",
       "      <td>...</td>\n",
       "    </tr>\n",
       "    <tr>\n",
       "      <td>3328</td>\n",
       "      <td>0</td>\n",
       "      <td>1</td>\n",
       "      <td>0</td>\n",
       "    </tr>\n",
       "    <tr>\n",
       "      <td>3329</td>\n",
       "      <td>0</td>\n",
       "      <td>0</td>\n",
       "      <td>0</td>\n",
       "    </tr>\n",
       "    <tr>\n",
       "      <td>3330</td>\n",
       "      <td>0</td>\n",
       "      <td>0</td>\n",
       "      <td>0</td>\n",
       "    </tr>\n",
       "    <tr>\n",
       "      <td>3331</td>\n",
       "      <td>1</td>\n",
       "      <td>0</td>\n",
       "      <td>0</td>\n",
       "    </tr>\n",
       "    <tr>\n",
       "      <td>3332</td>\n",
       "      <td>0</td>\n",
       "      <td>1</td>\n",
       "      <td>0</td>\n",
       "    </tr>\n",
       "  </tbody>\n",
       "</table>\n",
       "<p>3333 rows × 3 columns</p>\n",
       "</div>"
      ],
      "text/plain": [
       "      Intl  Vmail  Churn\n",
       "0        0      1      0\n",
       "1        0      1      0\n",
       "2        0      0      0\n",
       "3        1      0      0\n",
       "4        1      0      0\n",
       "...    ...    ...    ...\n",
       "3328     0      1      0\n",
       "3329     0      0      0\n",
       "3330     0      0      0\n",
       "3331     1      0      0\n",
       "3332     0      1      0\n",
       "\n",
       "[3333 rows x 3 columns]"
      ]
     },
     "execution_count": 111,
     "metadata": {},
     "output_type": "execute_result"
    }
   ],
   "source": [
    "# Creating a small df with 2 categorical and 1 target to test \n",
    "# if Intl_Plan is returned by SelectKBest when I use k=1\n",
    "# Intl_Plan has a smaller p-value\n",
    "\n",
    "temp_chi2_df = pd.DataFrame({'Intl' : churn_data['Intl_Plan'].map({'no':0, 'yes':1}),\\\n",
    "                             'Vmail': churn_data['Vmail_Plan'].map({'no':0, 'yes':1}),\\\n",
    "                             'Churn': churn_data['Churn'].map({'no':0, 'yes':1})})\n",
    "\n",
    "\n",
    "temp_chi2_df"
   ]
  },
  {
   "cell_type": "code",
   "execution_count": 115,
   "metadata": {
    "scrolled": true
   },
   "outputs": [
    {
     "data": {
      "text/plain": [
       "array([[0],\n",
       "       [0],\n",
       "       [0],\n",
       "       ...,\n",
       "       [0],\n",
       "       [1],\n",
       "       [0]])"
      ]
     },
     "execution_count": 115,
     "metadata": {},
     "output_type": "execute_result"
    }
   ],
   "source": [
    "SelectKBest(score_func=chi2, k=1).fit_transform(temp_chi2_df[['Intl', 'Vmail']], temp_chi2_df['Churn'])"
   ]
  },
  {
   "cell_type": "markdown",
   "metadata": {},
   "source": [
    "---"
   ]
  }
 ],
 "metadata": {
  "kernelspec": {
   "display_name": "Python 3",
   "language": "python",
   "name": "python3"
  },
  "language_info": {
   "codemirror_mode": {
    "name": "ipython",
    "version": 3
   },
   "file_extension": ".py",
   "mimetype": "text/x-python",
   "name": "python",
   "nbconvert_exporter": "python",
   "pygments_lexer": "ipython3",
   "version": "3.7.4"
  }
 },
 "nbformat": 4,
 "nbformat_minor": 2
}
